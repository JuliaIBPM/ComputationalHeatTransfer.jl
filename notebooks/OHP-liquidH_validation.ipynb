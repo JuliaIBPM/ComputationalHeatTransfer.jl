{
 "cells": [
  {
   "cell_type": "code",
   "execution_count": 112,
   "id": "a9c3115a",
   "metadata": {
    "scrolled": true
   },
   "outputs": [
    {
     "name": "stderr",
     "output_type": "stream",
     "text": [
      "WARNING: redefinition of constant ALMOST_EQUAL_TO. This may fail, cause incorrect answers, or produce other errors.\n",
      "WARNING: redefinition of constant LEFT_RIGHT_ARROW_THROUGH_SMALL_CIRCLE. This may fail, cause incorrect answers, or produce other errors.\n",
      "WARNING: redefinition of constant SUBSET_OF_OR_EQUAL_TO. This may fail, cause incorrect answers, or produce other errors.\n",
      "WARNING: redefinition of constant EQUALS_COLON. This may fail, cause incorrect answers, or produce other errors.\n",
      "WARNING: redefinition of constant PRECEDES_OR_EQUIVALENT_TO. This may fail, cause incorrect answers, or produce other errors.\n",
      "WARNING: redefinition of constant UNION_WITH_OVERBAR. This may fail, cause incorrect answers, or produce other errors.\n",
      "WARNING: redefinition of constant DDOTS. This may fail, cause incorrect answers, or produce other errors.\n",
      "WARNING: redefinition of constant CIRCLED_BULLET. This may fail, cause incorrect answers, or produce other errors.\n",
      "WARNING: redefinition of constant DOWNWARDS_QUADRUPLE_ARROW. This may fail, cause incorrect answers, or produce other errors.\n",
      "WARNING: redefinition of constant LEFTWARDS_ARROW_WITH_TAIL. This may fail, cause incorrect answers, or produce other errors.\n",
      "WARNING: redefinition of constant DOES_NOT_CONTAIN_AS_MEMBER. This may fail, cause incorrect answers, or produce other errors.\n",
      "WARNING: redefinition of constant LESS_THAN_ABOVE_SLANTED_EQUAL_ABOVE_GREATER_THAN_ABOVE_SLANTED_EQUAL. This may fail, cause incorrect answers, or produce other errors.\n",
      "WARNING: redefinition of constant RIGHTWARDS_HARPOON_WITH_BARB_DOWN_FROM_BAR. This may fail, cause incorrect answers, or produce other errors.\n",
      "WARNING: redefinition of constant CURLY_LOGICAL_OR. This may fail, cause incorrect answers, or produce other errors.\n",
      "WARNING: redefinition of constant INTERIOR_PRODUCT. This may fail, cause incorrect answers, or produce other errors.\n",
      "WARNING: redefinition of constant LOGICAL_OR_WITH_HORIZONTAL_DASH. This may fail, cause incorrect answers, or produce other errors.\n",
      "WARNING: redefinition of constant DOUBLE_LOGICAL_OR. This may fail, cause incorrect answers, or produce other errors.\n",
      "WARNING: redefinition of constant SUCCEEDS_OR_EQUAL_TO. This may fail, cause incorrect answers, or produce other errors.\n",
      "WARNING: redefinition of constant IDENTICAL_TO_AND_SLANTED_PARALLEL. This may fail, cause incorrect answers, or produce other errors.\n",
      "WARNING: redefinition of constant RIGHTWARDS_TWO_HEADED_ARROW_FROM_BAR. This may fail, cause incorrect answers, or produce other errors.\n",
      "WARNING: redefinition of constant RIGHTWARDS_HARPOON_WITH_BARB_DOWN_TO_BAR. This may fail, cause incorrect answers, or produce other errors.\n",
      "WARNING: redefinition of constant UPWARDS_HARPOON_WITH_BARB_RIGHT_TO_BAR. This may fail, cause incorrect answers, or produce other errors.\n",
      "WARNING: redefinition of constant CONTAINS_WITH_VERTICAL_BAR_AT_END_OF_HORIZONTAL_STROKE. This may fail, cause incorrect answers, or produce other errors.\n",
      "WARNING: redefinition of constant MULTIPLICATION_SIGN_IN_DOUBLE_CIRCLE. This may fail, cause incorrect answers, or produce other errors.\n",
      "WARNING: redefinition of constant NOT_PARALLEL_TO. This may fail, cause incorrect answers, or produce other errors.\n",
      "WARNING: redefinition of constant PLUS_SIGN_IN_RIGHT_HALF_CIRCLE. This may fail, cause incorrect answers, or produce other errors.\n",
      "WARNING: redefinition of constant INTERSECTION. This may fail, cause incorrect answers, or produce other errors.\n",
      "WARNING: redefinition of constant RIGHTWARDS_ARROW_WITH_DOTTED_STEM. This may fail, cause incorrect answers, or produce other errors.\n",
      "WARNING: redefinition of constant LEFT_HARPOON_DOWN. This may fail, cause incorrect answers, or produce other errors.\n",
      "WARNING: redefinition of constant LAZY_AND. This may fail, cause incorrect answers, or produce other errors.\n",
      "WARNING: redefinition of constant DOUBLE_PRECEDES. This may fail, cause incorrect answers, or produce other errors.\n",
      "WARNING: redefinition of constant GREATER_THAN_OR_APPROXIMATE. This may fail, cause incorrect answers, or produce other errors.\n",
      "WARNING: redefinition of constant LONG_RIGHTWARDS_SQUIGGLE_ARROW. This may fail, cause incorrect answers, or produce other errors.\n",
      "WARNING: redefinition of constant MULTISET_UNION. This may fail, cause incorrect answers, or produce other errors.\n",
      "WARNING: redefinition of constant CIRCLED_MINUS. This may fail, cause incorrect answers, or produce other errors.\n",
      "WARNING: redefinition of constant PRECEDES_ABOVE_NOT_ALMOST_EQUAL_TO. This may fail, cause incorrect answers, or produce other errors.\n",
      "WARNING: redefinition of constant RIGHTWARDS_ARROW_WITH_HOOK. This may fail, cause incorrect answers, or produce other errors.\n",
      "WARNING: redefinition of constant RIGHTWARDS_ARROW. This may fail, cause incorrect answers, or produce other errors.\n",
      "WARNING: redefinition of constant NOT_SQUARE_ORIGINAL_OF_OR_EQUAL_TO. This may fail, cause incorrect answers, or produce other errors.\n",
      "WARNING: redefinition of constant end_arrow. This may fail, cause incorrect answers, or produce other errors.\n",
      "WARNING: redefinition of constant TRIPLE_PLUS. This may fail, cause incorrect answers, or produce other errors.\n",
      "WARNING: redefinition of constant TURNED_AMPERSAND. This may fail, cause incorrect answers, or produce other errors.\n",
      "WARNING: redefinition of constant CDOTS. This may fail, cause incorrect answers, or produce other errors.\n",
      "WARNING: redefinition of constant LOGICAL_OR_WITH_MIDDLE_STEM. This may fail, cause incorrect answers, or produce other errors.\n",
      "WARNING: redefinition of constant SQUARE_ROOT. This may fail, cause incorrect answers, or produce other errors.\n",
      "WARNING: redefinition of constant RIGHT_TACK. This may fail, cause incorrect answers, or produce other errors.\n",
      "WARNING: redefinition of constant LEFT_RIGHT_ARROW_WITH_DOUBLE_VERTICAL_STROKE. This may fail, cause incorrect answers, or produce other errors.\n",
      "WARNING: redefinition of constant LEFTWARDS_DOUBLE_ARROW. This may fail, cause incorrect answers, or produce other errors.\n",
      "WARNING: redefinition of constant LONG_LEFTWARDS_DOUBLE_ARROW_FROM_BAR. This may fail, cause incorrect answers, or produce other errors.\n",
      "WARNING: redefinition of constant LEFTWARDS_ARROW_WITH_VERTICAL_STROKE. This may fail, cause incorrect answers, or produce other errors.\n",
      "WARNING: redefinition of constant TRIPLE_NESTED_LESS_THAN. This may fail, cause incorrect answers, or produce other errors.\n",
      "WARNING: redefinition of constant DIVISION_TIMES. This may fail, cause incorrect answers, or produce other errors.\n",
      "WARNING: redefinition of constant GREATER_THAN_OR_SLANTED_EQUAL_TO. This may fail, cause incorrect answers, or produce other errors.\n",
      "WARNING: redefinition of constant LEFTWARDS_ARROW. This may fail, cause incorrect answers, or produce other errors.\n",
      "WARNING: redefinition of constant TRIPLE_TILDE. This may fail, cause incorrect answers, or produce other errors.\n",
      "WARNING: redefinition of constant SUPERSET_OF_ABOVE_EQUALS_SIGN. This may fail, cause incorrect answers, or produce other errors.\n",
      "WARNING: redefinition of constant SQUARE_ORIGINAL_OF_OR_EQUAL_TO. This may fail, cause incorrect answers, or produce other errors.\n",
      "WARNING: redefinition of constant end_pipe. This may fail, cause incorrect answers, or produce other errors.\n",
      "WARNING: redefinition of constant RIGHT_ARROW_WITH_SMALL_CIRCLE. This may fail, cause incorrect answers, or produce other errors.\n",
      "WARNING: redefinition of constant NEITHER_LESS_THAN_NOR_GREATER_THAN. This may fail, cause incorrect answers, or produce other errors.\n",
      "WARNING: redefinition of constant DOWNWARDS_HARPOON_WITH_BARB_LEFT_TO_BAR. This may fail, cause incorrect answers, or produce other errors.\n",
      "WARNING: redefinition of constant LEFTWARDS_HARPOON_WITH_BARB_DOWN_TO_BAR. This may fail, cause incorrect answers, or produce other errors.\n",
      "WARNING: redefinition of constant SUBSET_OF_OR_EQUAL_TO_WITH_DOT_ABOVE. This may fail, cause incorrect answers, or produce other errors.\n",
      "WARNING: redefinition of constant DOUBLE_PLUS. This may fail, cause incorrect answers, or produce other errors.\n",
      "WARNING: redefinition of constant NEITHER_GREATER_THAN_NOR_EQUIVALENT_TO. This may fail, cause incorrect answers, or produce other errors.\n",
      "WARNING: redefinition of constant RIGHTWARDS_DOUBLE_ARROW_WITH_VERTICAL_STROKE. This may fail, cause incorrect answers, or produce other errors.\n",
      "WARNING: redefinition of constant DOWNWARDS_HARPOON_WITH_BARB_LEFT_BESIDE_DOWNWARDS_HARPOON_WITH_BARB_RIGHT. This may fail, cause incorrect answers, or produce other errors.\n",
      "WARNING: redefinition of constant UPWARDS_ARROW_WITH_HORIZONTAL_STROKE. This may fail, cause incorrect answers, or produce other errors.\n",
      "WARNING: redefinition of constant UP_BARB_LEFT_DOWN_BARB_RIGHT_HARPOON. This may fail, cause incorrect answers, or produce other errors.\n",
      "WARNING: redefinition of constant UP_BARB_LEFT_DOWN_BARB_LEFT_HARPOON. This may fail, cause incorrect answers, or produce other errors.\n",
      "WARNING: redefinition of constant AND_WITH_DOT. This may fail, cause incorrect answers, or produce other errors.\n",
      "WARNING: redefinition of constant LESS_THAN_OR_SLANTED_EQUAL_TO_WITH_DOT_INSIDE. This may fail, cause incorrect answers, or produce other errors.\n",
      "WARNING: redefinition of constant LEFTWARDS_HARPOON_WITH_BARB_UP_ABOVE_RIGHTWARDS_HARPOON_WITH_BARB_UP. This may fail, cause incorrect answers, or produce other errors.\n",
      "WARNING: redefinition of constant GEOMETRICALLY_EQUIVALENT_TO. This may fail, cause incorrect answers, or produce other errors.\n",
      "WARNING: redefinition of constant LEFT_SEMIDIRECT_PRODUCT. This may fail, cause incorrect answers, or produce other errors.\n",
      "WARNING: redefinition of constant EQUALS_SIGN_WITH_TWO_DOTS_ABOVE_AND_TWO_DOTS_BELOW. This may fail, cause incorrect answers, or produce other errors.\n",
      "WARNING: redefinition of constant begin_where. This may fail, cause incorrect answers, or produce other errors.\n",
      "WARNING: redefinition of constant NOT_EQUAL_TO. This may fail, cause incorrect answers, or produce other errors.\n",
      "WARNING: redefinition of constant STAR_OPERATOR. This may fail, cause incorrect answers, or produce other errors.\n",
      "WARNING: redefinition of constant PRECEDES_ABOVE_NOT_EQUAL_TO. This may fail, cause incorrect answers, or produce other errors.\n",
      "WARNING: redefinition of constant MINUS_SIGN_WITH_DOT_BELOW. This may fail, cause incorrect answers, or produce other errors.\n",
      "WARNING: redefinition of constant RIGHT_HARPOON_UP. This may fail, cause incorrect answers, or produce other errors.\n",
      "WARNING: redefinition of constant DOES_NOT_FORCE. This may fail, cause incorrect answers, or produce other errors.\n"
     ]
    },
    {
     "name": "stderr",
     "output_type": "stream",
     "text": [
      "WARNING: redefinition of constant RIGHTWARDS_HARPOON_WITH_BARB_UP_ABOVE_LONG_DASH. This may fail, cause incorrect answers, or produce other errors.\n",
      "WARNING: redefinition of constant TWO_LOGICAL_OR_OPERATOR. This may fail, cause incorrect answers, or produce other errors.\n",
      "WARNING: redefinition of constant DOES_NOT_DIVIDE. This may fail, cause incorrect answers, or produce other errors.\n",
      "WARNING: redefinition of constant LOGICAL_OR_WITH_DOUBLE_UNDERBAR. This may fail, cause incorrect answers, or produce other errors.\n",
      "WARNING: redefinition of constant LONG_RIGHTWARDS_DOUBLE_ARROW. This may fail, cause incorrect answers, or produce other errors.\n",
      "WARNING: redefinition of constant DOUBLE_SQUARE_UNION. This may fail, cause incorrect answers, or produce other errors.\n",
      "WARNING: redefinition of constant DOWNWARDS_ARROW. This may fail, cause incorrect answers, or produce other errors.\n",
      "WARNING: redefinition of constant SUCCEEDS_UNDER_RELATION. This may fail, cause incorrect answers, or produce other errors.\n",
      "WARNING: redefinition of constant UNION_BESIDE_AND_JOINED_WITH_UNION. This may fail, cause incorrect answers, or produce other errors.\n",
      "WARNING: redefinition of constant TILDE_OPERATOR_WITH_DOT_ABOVE. This may fail, cause incorrect answers, or produce other errors.\n",
      "WARNING: redefinition of constant RIGHT_SEMIDIRECT_PRODUCT. This may fail, cause incorrect answers, or produce other errors.\n",
      "WARNING: redefinition of constant SEMIDIRECT_PRODUCT_WITH_BOTTOM_CLOSED. This may fail, cause incorrect answers, or produce other errors.\n",
      "WARNING: redefinition of constant ELEMENT_OF. This may fail, cause incorrect answers, or produce other errors.\n",
      "WARNING: redefinition of constant LOGICAL_AND_WITH_UNDERBAR. This may fail, cause incorrect answers, or produce other errors.\n",
      "WARNING: redefinition of constant FORCES. This may fail, cause incorrect answers, or produce other errors.\n",
      "WARNING: redefinition of constant UNION_WITH_MINUS_SIGN. This may fail, cause incorrect answers, or produce other errors.\n",
      "WARNING: redefinition of constant SOLIDUS_WITH_OVERBAR. This may fail, cause incorrect answers, or produce other errors.\n",
      "WARNING: redefinition of constant PROPORTIONAL_TO. This may fail, cause incorrect answers, or produce other errors.\n",
      "WARNING: redefinition of constant SQUARED_DOT_OPERATOR. This may fail, cause incorrect answers, or produce other errors.\n",
      "WARNING: redefinition of constant LEFTWARDS_TWO_HEADED_ARROW. This may fail, cause incorrect answers, or produce other errors.\n",
      "WARNING: redefinition of constant PLUS_SIGN_IN_TRIANGLE. This may fail, cause incorrect answers, or produce other errors.\n",
      "WARNING: redefinition of constant CONTAINS_WITH_OVERBAR. This may fail, cause incorrect answers, or produce other errors.\n",
      "WARNING: redefinition of constant NORMAL_SUBGROUP_OF. This may fail, cause incorrect answers, or produce other errors.\n",
      "WARNING: redefinition of constant RIGHTWARDS_ARROW_FROM_BAR_TO_BLACK_DIAMOND. This may fail, cause incorrect answers, or produce other errors.\n",
      "WARNING: redefinition of constant GREATER_THAN_OR_SLANTED_EQUAL_TO_WITH_DOT_INSIDE. This may fail, cause incorrect answers, or produce other errors.\n",
      "WARNING: redefinition of constant end_decl. This may fail, cause incorrect answers, or produce other errors.\n",
      "WARNING: redefinition of constant MUCH_LESS_THAN. This may fail, cause incorrect answers, or produce other errors.\n",
      "WARNING: redefinition of constant AND. This may fail, cause incorrect answers, or produce other errors.\n",
      "WARNING: redefinition of constant LEFT_BARB_DOWN_RIGHT_BARB_UP_HARPOON. This may fail, cause incorrect answers, or produce other errors.\n",
      "WARNING: redefinition of constant CIRCLED_GREATER_THAN. This may fail, cause incorrect answers, or produce other errors.\n",
      "WARNING: redefinition of constant APPROACHES_THE_LIMIT. This may fail, cause incorrect answers, or produce other errors.\n",
      "WARNING: redefinition of constant SUCCEEDS_ABOVE_SINGLE_LINE_EQUALS_SIGN. This may fail, cause incorrect answers, or produce other errors.\n",
      "WARNING: redefinition of constant PERP. This may fail, cause incorrect answers, or produce other errors.\n",
      "WARNING: redefinition of constant LESS_THAN_CLOSED_BY_CURVE. This may fail, cause incorrect answers, or produce other errors.\n",
      "WARNING: redefinition of constant UNION. This may fail, cause incorrect answers, or produce other errors.\n",
      "WARNING: redefinition of constant LEFTWARDS_ARROW_WITH_STROKE. This may fail, cause incorrect answers, or produce other errors.\n",
      "WARNING: redefinition of constant PARALLEL_TO. This may fail, cause incorrect answers, or produce other errors.\n",
      "WARNING: redefinition of constant HOMOTHETIC. This may fail, cause incorrect answers, or produce other errors.\n",
      "WARNING: redefinition of constant SUCCEEDS_ABOVE_EQUALS_SIGN. This may fail, cause incorrect answers, or produce other errors.\n",
      "WARNING: redefinition of constant GREATER_THAN_ABOVE_SIMILAR_ABOVE_LESS_THAN. This may fail, cause incorrect answers, or produce other errors.\n",
      "WARNING: redefinition of constant RIGHT_OUTER_JOIN. This may fail, cause incorrect answers, or produce other errors.\n",
      "WARNING: redefinition of constant DOES_NOT_PRECEDE_OR_EQUAL. This may fail, cause incorrect answers, or produce other errors.\n",
      "WARNING: redefinition of constant SMALLER_THAN. This may fail, cause incorrect answers, or produce other errors.\n",
      "WARNING: redefinition of constant IDENTICAL_TO. This may fail, cause incorrect answers, or produce other errors.\n",
      "WARNING: redefinition of constant FWD_SLASH. This may fail, cause incorrect answers, or produce other errors.\n",
      "WARNING: redefinition of constant ORIGINAL_OF. This may fail, cause incorrect answers, or produce other errors.\n",
      "WARNING: redefinition of constant MINUS_TILDE. This may fail, cause incorrect answers, or produce other errors.\n",
      "WARNING: redefinition of constant GREATER_THAN_BUT_NOT_EQUAL_TO. This may fail, cause incorrect answers, or produce other errors.\n",
      "WARNING: redefinition of constant UPWARDS_HARPOON_WITH_BARB_LEFT_FROM_BAR. This may fail, cause incorrect answers, or produce other errors.\n",
      "WARNING: redefinition of constant EQUALS_SIGN_AND_SLANTED_PARALLEL. This may fail, cause incorrect answers, or produce other errors.\n",
      "WARNING: redefinition of constant CURVE_ARROW_LEFT. This may fail, cause incorrect answers, or produce other errors.\n",
      "WARNING: redefinition of constant LBITSHIFT. This may fail, cause incorrect answers, or produce other errors.\n",
      "WARNING: redefinition of constant LEFTWARDS_HARPOON_WITH_BARB_UP_FROM_BAR. This may fail, cause incorrect answers, or produce other errors.\n",
      "WARNING: redefinition of constant DIVISION_SIGN. This may fail, cause incorrect answers, or produce other errors.\n",
      "WARNING: redefinition of constant GREATER. This may fail, cause incorrect answers, or produce other errors.\n",
      "WARNING: redefinition of constant REVERSE_SOLIDUS_PRECEDING_SUBSET. This may fail, cause incorrect answers, or produce other errors.\n",
      "WARNING: redefinition of constant GREATER_THAN_WITH_QUESTION_MARK_ABOVE. This may fail, cause incorrect answers, or produce other errors.\n",
      "WARNING: redefinition of constant RIGHTWARDS_TWO_HEADED_ARROW_WITH_TAIL_WITH_VERTICAL_STROKE. This may fail, cause incorrect answers, or produce other errors.\n",
      "WARNING: redefinition of constant SQUARE_IMAGE_OF_OR_NOT_EQUAL_TO. This may fail, cause incorrect answers, or produce other errors.\n",
      "WARNING: redefinition of constant NEITHER_A_SUBSET_OF_NOR_EQUAL_TO. This may fail, cause incorrect answers, or produce other errors.\n",
      "WARNING: redefinition of constant LONG_RIGHTWARDS_ARROW_FROM_BAR. This may fail, cause incorrect answers, or produce other errors.\n",
      "WARNING: redefinition of constant EQUAL_TO_OR_SUCCEEDS. This may fail, cause incorrect answers, or produce other errors.\n",
      "WARNING: redefinition of constant LPIPE. This may fail, cause incorrect answers, or produce other errors.\n",
      "WARNING: redefinition of constant LESS_THAN_OR_GREATER_THAN. This may fail, cause incorrect answers, or produce other errors.\n",
      "WARNING: redefinition of constant RIGHTWARDS_DOUBLE_ARROW. This may fail, cause incorrect answers, or produce other errors.\n",
      "WARNING: redefinition of constant XOR. This may fail, cause incorrect answers, or produce other errors.\n",
      "WARNING: redefinition of constant APPROXIMATELY_EQUAL_TO. This may fail, cause incorrect answers, or produce other errors.\n",
      "WARNING: redefinition of constant begin_plus. This may fail, cause incorrect answers, or produce other errors.\n",
      "WARNING: redefinition of constant LOGICAL_AND_WITH_DOUBLE_UNDERBAR. This may fail, cause incorrect answers, or produce other errors.\n",
      "WARNING: redefinition of constant LOOP_ARROW_LEFT. This may fail, cause incorrect answers, or produce other errors.\n",
      "WARNING: redefinition of constant PLUS_SIGN_WITH_SMALL_CIRCLE_ABOVE. This may fail, cause incorrect answers, or produce other errors.\n",
      "WARNING: redefinition of constant VERY_MUCH_GREATER_THAN. This may fail, cause incorrect answers, or produce other errors.\n",
      "WARNING: redefinition of constant PRECEDES_ABOVE_ALMOST_EQUAL_TO. This may fail, cause incorrect answers, or produce other errors.\n",
      "WARNING: redefinition of constant CLOSED_UNION_WITH_SERIFS. This may fail, cause incorrect answers, or produce other errors.\n",
      "WARNING: redefinition of constant CIRCLED_REVERSE_SOLIDUS. This may fail, cause incorrect answers, or produce other errors.\n",
      "WARNING: redefinition of constant GREATER_THAN_OR_LESS_THAN. This may fail, cause incorrect answers, or produce other errors.\n",
      "WARNING: redefinition of constant SUPERSET_WITH_DOT. This may fail, cause incorrect answers, or produce other errors.\n",
      "WARNING: redefinition of constant SUPERSET_OF_OR_EQUAL_TO_WITH_DOT_ABOVE. This may fail, cause incorrect answers, or produce other errors.\n",
      "WARNING: redefinition of constant PRECEDES_ABOVE_SINGLE_LINE_NOT_EQUAL_TO. This may fail, cause incorrect answers, or produce other errors.\n",
      "WARNING: redefinition of constant DOUBLE_INTERSECTION. This may fail, cause incorrect answers, or produce other errors.\n",
      "WARNING: redefinition of constant SUBSET_ABOVE_SUBSET. This may fail, cause incorrect answers, or produce other errors.\n",
      "WARNING: redefinition of constant RIGHTWARDS_TWO_HEADED_TRIPLE_DASH_ARROW. This may fail, cause incorrect answers, or produce other errors.\n",
      "WARNING: redefinition of constant EQUAL_TO_OR_LESS_THAN. This may fail, cause incorrect answers, or produce other errors.\n"
     ]
    },
    {
     "name": "stderr",
     "output_type": "stream",
     "text": [
      "WARNING: redefinition of constant LEFTWARDS_ARROW_FROM_BAR. This may fail, cause incorrect answers, or produce other errors.\n",
      "WARNING: redefinition of constant PLUS_SIGN_WITH_TILDE_BELOW. This may fail, cause incorrect answers, or produce other errors.\n",
      "WARNING: redefinition of constant REVERSE_TILDE_OPERATOR_ABOVE_RIGHTWARDS_ARROW. This may fail, cause incorrect answers, or produce other errors.\n",
      "WARNING: redefinition of constant VDOTS. This may fail, cause incorrect answers, or produce other errors.\n",
      "WARNING: redefinition of constant CIRCLED_DOT_OPERATOR. This may fail, cause incorrect answers, or produce other errors.\n",
      "WARNING: redefinition of constant PLUS_MINUS_SIGN. This may fail, cause incorrect answers, or produce other errors.\n",
      "WARNING: redefinition of constant INTERSECTION_WITH_DOT. This may fail, cause incorrect answers, or produce other errors.\n",
      "WARNING: redefinition of constant BACKSLASH. This may fail, cause incorrect answers, or produce other errors.\n",
      "WARNING: redefinition of constant PRECEDES_ABOVE_SINGLE_LINE_EQUALS_SIGN. This may fail, cause incorrect answers, or produce other errors.\n",
      "WARNING: redefinition of constant LARGER_THAN. This may fail, cause incorrect answers, or produce other errors.\n",
      "WARNING: redefinition of constant NEITHER_APPROXIMATELY_NOR_ACTUALLY_EQUAL_TO. This may fail, cause incorrect answers, or produce other errors.\n",
      "WARNING: redefinition of constant HALFWIDTH_UPWARDS_ARROW. This may fail, cause incorrect answers, or produce other errors.\n",
      "WARNING: redefinition of constant MINUS_SIGN_WITH_FALLING_DOTS. This may fail, cause incorrect answers, or produce other errors.\n",
      "WARNING: redefinition of constant RIGHTWARDS_ARROW_WITH_DOUBLE_VERTICAL_STROKE. This may fail, cause incorrect answers, or produce other errors.\n",
      "WARNING: redefinition of constant LEFTWARDS_ARROW_THROUGH_X. This may fail, cause incorrect answers, or produce other errors.\n",
      "WARNING: redefinition of constant RIGHTWARDS_ARROW_WITH_VERTICAL_STROKE. This may fail, cause incorrect answers, or produce other errors.\n",
      "WARNING: redefinition of constant EQUAL_TO_OR_PRECEDES. This may fail, cause incorrect answers, or produce other errors.\n",
      "WARNING: redefinition of constant L_LEFT_ARROW. This may fail, cause incorrect answers, or produce other errors.\n",
      "WARNING: redefinition of constant LEFTWARDS_TWO_HEADED_ARROW_FROM_BAR. This may fail, cause incorrect answers, or produce other errors.\n",
      "WARNING: redefinition of constant RIGHTWARDS_ARROW_WITH_PLUS_BELOW. This may fail, cause incorrect answers, or produce other errors.\n",
      "WARNING: redefinition of constant SUPERSET_BESIDE_SUBSET. This may fail, cause incorrect answers, or produce other errors.\n",
      "WARNING: redefinition of constant SMALLER_THAN_OR_EQUAL_TO. This may fail, cause incorrect answers, or produce other errors.\n",
      "WARNING: redefinition of constant THREE_LEFTWARDS_ARROWS. This may fail, cause incorrect answers, or produce other errors.\n",
      "WARNING: redefinition of constant SLANTED_EQUAL_TO_OR_GREATER_THAN. This may fail, cause incorrect answers, or produce other errors.\n",
      "WARNING: redefinition of constant PLUS_SIGN_WITH_DOT_BELOW. This may fail, cause incorrect answers, or produce other errors.\n",
      "WARNING: redefinition of constant BROKEN_BAR. This may fail, cause incorrect answers, or produce other errors.\n",
      "WARNING: redefinition of constant GREATER_THAN_ABOVE_LESS_THAN_ABOVE_DOUBLE_LINE_EQUAL. This may fail, cause incorrect answers, or produce other errors.\n",
      "WARNING: redefinition of constant MEASURED_BY. This may fail, cause incorrect answers, or produce other errors.\n",
      "WARNING: redefinition of constant SUCCEEDS_ABOVE_ALMOST_EQUAL_TO. This may fail, cause incorrect answers, or produce other errors.\n",
      "WARNING: redefinition of constant CIRCLE_ARROW_RIGHT. This may fail, cause incorrect answers, or produce other errors.\n",
      "WARNING: redefinition of constant UPWARDS_QUADRUPLE_ARROW. This may fail, cause incorrect answers, or produce other errors.\n",
      "WARNING: redefinition of constant EQUAL_TO_BY_DEFINITION. This may fail, cause incorrect answers, or produce other errors.\n",
      "WARNING: redefinition of constant RIGHT_LEFT_HARPOONS. This may fail, cause incorrect answers, or produce other errors.\n",
      "WARNING: redefinition of constant SUCCEEDS_ABOVE_NOT_ALMOST_EQUAL_TO. This may fail, cause incorrect answers, or produce other errors.\n",
      "WARNING: redefinition of constant SMALL_ELEMENT_OF_WITH_OVERBAR. This may fail, cause incorrect answers, or produce other errors.\n",
      "WARNING: redefinition of constant EQUIVALENT_WITH_FOUR_DOTS_ABOVE. This may fail, cause incorrect answers, or produce other errors.\n",
      "WARNING: redefinition of constant RPIPE. This may fail, cause incorrect answers, or produce other errors.\n",
      "WARNING: redefinition of constant PRECEDES_BUT_NOT_EQUIVALENT_TO. This may fail, cause incorrect answers, or produce other errors.\n",
      "WARNING: redefinition of constant EQUALS_SIGN_ABOVE_LEFTWARDS_ARROW. This may fail, cause incorrect answers, or produce other errors.\n",
      "WARNING: redefinition of constant PRECEDES_ABOVE_EQUALS_SIGN. This may fail, cause incorrect answers, or produce other errors.\n",
      "WARNING: redefinition of constant RIGHTWARDS_ARROW_FROM_BAR. This may fail, cause incorrect answers, or produce other errors.\n",
      "WARNING: redefinition of constant CIRCLED_MULTIPLICATION_SIGN_WITH_CIRCUMFLEX_ACCENT. This may fail, cause incorrect answers, or produce other errors.\n",
      "WARNING: redefinition of constant RIGHTWARDS_TWO_HEADED_ARROW_WITH_TAIL_WITH_DOUBLE_VERTICAL_STROKE. This may fail, cause incorrect answers, or produce other errors.\n",
      "WARNING: redefinition of constant LONG_LEFT_RIGHT_DOUBLE_ARROW. This may fail, cause incorrect answers, or produce other errors.\n",
      "WARNING: redefinition of constant DOUBLE_LINE_SLANTED_GREATER_THAN_OR_EQUAL_TO. This may fail, cause incorrect answers, or produce other errors.\n",
      "WARNING: redefinition of constant IN. This may fail, cause incorrect answers, or produce other errors.\n",
      "WARNING: redefinition of constant begin_lazyand. This may fail, cause incorrect answers, or produce other errors.\n",
      "WARNING: redefinition of constant begin_unicode_ops. This may fail, cause incorrect answers, or produce other errors.\n",
      "WARNING: redefinition of constant LEFT_DASH_ARROW. This may fail, cause incorrect answers, or produce other errors.\n",
      "WARNING: redefinition of constant GREATER_THAN_AND_SINGLE_LINE_NOT_EQUAL_TO. This may fail, cause incorrect answers, or produce other errors.\n",
      "WARNING: redefinition of constant SQUARED_TIMES. This may fail, cause incorrect answers, or produce other errors.\n",
      "WARNING: redefinition of constant ALMOST_EQUAL_TO_WITH_CIRCUMFLEX_ACCENT. This may fail, cause incorrect answers, or produce other errors.\n",
      "WARNING: redefinition of constant WREATH_PRODUCT. This may fail, cause incorrect answers, or produce other errors.\n",
      "WARNING: redefinition of constant end_unicode_ops. This may fail, cause incorrect answers, or produce other errors.\n",
      "WARNING: redefinition of constant NOT. This may fail, cause incorrect answers, or produce other errors.\n",
      "WARNING: redefinition of constant LOGICAL_AND_WITH_DOUBLE_OVERBAR. This may fail, cause incorrect answers, or produce other errors.\n",
      "WARNING: redefinition of constant LEFTWARDS_DOUBLE_ARROW_FROM_BAR. This may fail, cause incorrect answers, or produce other errors.\n",
      "WARNING: redefinition of constant PLUS. This may fail, cause incorrect answers, or produce other errors.\n",
      "WARNING: redefinition of constant DOUBLE_LOGICAL_AND. This may fail, cause incorrect answers, or produce other errors.\n",
      "WARNING: redefinition of constant NOT_SLASH. This may fail, cause incorrect answers, or produce other errors.\n",
      "WARNING: redefinition of constant UPWARDS_TWO_HEADED_ARROW_FROM_SMALL_CIRCLE. This may fail, cause incorrect answers, or produce other errors.\n",
      "WARNING: redefinition of constant NEITHER_LESS_THAN_NOR_EQUIVALENT_TO. This may fail, cause incorrect answers, or produce other errors.\n",
      "WARNING: redefinition of constant end_power. This may fail, cause incorrect answers, or produce other errors.\n",
      "WARNING: redefinition of constant DOUBLE_LINE_SLANTED_EQUAL_TO_OR_GREATER_THAN. This may fail, cause incorrect answers, or produce other errors.\n",
      "WARNING: redefinition of constant CURVE_ARROW_RIGHT. This may fail, cause incorrect answers, or produce other errors.\n",
      "WARNING: redefinition of constant LEFTWARDS_TWO_HEADED_ARROW_WITH_VERTICAL_STROKE. This may fail, cause incorrect answers, or produce other errors.\n",
      "WARNING: redefinition of constant LAZY_OR. This may fail, cause incorrect answers, or produce other errors.\n",
      "WARNING: redefinition of constant GREATER_THAN_OR_EQUAL_TO. This may fail, cause incorrect answers, or produce other errors.\n",
      "WARNING: redefinition of constant LESS_THAN_OR_SLANTED_EQUAL_TO. This may fail, cause incorrect answers, or produce other errors.\n",
      "WARNING: redefinition of constant GREATER_THAN_BESIDE_LESS_THAN. This may fail, cause incorrect answers, or produce other errors.\n",
      "WARNING: redefinition of constant LEFT_ARROW_WITH_SMALL_CIRCLE. This may fail, cause incorrect answers, or produce other errors.\n",
      "WARNING: redefinition of constant STAR_EQUALS. This may fail, cause incorrect answers, or produce other errors.\n",
      "WARNING: redefinition of constant LEFTWARDS_HARPOON_WITH_BARB_DOWN_ABOVE_RIGHTWARDS_HARPOON_WITH_BARB_DOWN. This may fail, cause incorrect answers, or produce other errors.\n",
      "WARNING: redefinition of constant UP_BARB_RIGHT_DOWN_BARB_LEFT_HARPOON. This may fail, cause incorrect answers, or produce other errors.\n",
      "WARNING: redefinition of constant LESS_EQ. This may fail, cause incorrect answers, or produce other errors.\n",
      "WARNING: redefinition of constant CIRCLED_RING_OPERATOR. This may fail, cause incorrect answers, or produce other errors.\n",
      "WARNING: redefinition of constant RIGHTWARDS_OPEN_HEADED_ARROW. This may fail, cause incorrect answers, or produce other errors.\n",
      "WARNING: redefinition of constant NOT_GREATER_THAN. This may fail, cause incorrect answers, or produce other errors.\n",
      "WARNING: redefinition of constant QUAD_ROOT. This may fail, cause incorrect answers, or produce other errors.\n",
      "WARNING: redefinition of constant NOT_ALMOST_EQUAL_TO. This may fail, cause incorrect answers, or produce other errors.\n",
      "WARNING: redefinition of constant REVERSED_TILDE_EQUALS. This may fail, cause incorrect answers, or produce other errors.\n",
      "WARNING: redefinition of constant PRECEDES_OR_EQUAL_TO. This may fail, cause incorrect answers, or produce other errors.\n",
      "WARNING: redefinition of constant EQEQEQ. This may fail, cause incorrect answers, or produce other errors.\n"
     ]
    },
    {
     "name": "stderr",
     "output_type": "stream",
     "text": [
      "WARNING: redefinition of constant RIGHTWARDS_ARROW_WITH_TAIL. This may fail, cause incorrect answers, or produce other errors.\n",
      "WARNING: redefinition of constant CIRCLED_ASTERISK_OPERATOR. This may fail, cause incorrect answers, or produce other errors.\n",
      "WARNING: redefinition of constant begin_pipe. This may fail, cause incorrect answers, or produce other errors.\n",
      "WARNING: redefinition of constant MINUS. This may fail, cause incorrect answers, or produce other errors.\n",
      "WARNING: redefinition of constant begin_power. This may fail, cause incorrect answers, or produce other errors.\n",
      "WARNING: redefinition of constant ELEMENT_OF_WITH_OVERBAR. This may fail, cause incorrect answers, or produce other errors.\n",
      "WARNING: redefinition of constant GREATER_EQ. This may fail, cause incorrect answers, or produce other errors.\n",
      "WARNING: redefinition of constant RIGHT_LEFT_ARROWS. This may fail, cause incorrect answers, or produce other errors.\n",
      "WARNING: redefinition of constant CIRCLED_PARALLEL. This may fail, cause incorrect answers, or produce other errors.\n",
      "WARNING: redefinition of constant CLOSED_SUPERSET. This may fail, cause incorrect answers, or produce other errors.\n",
      "WARNING: redefinition of constant COLON_EQUALS. This may fail, cause incorrect answers, or produce other errors.\n",
      "WARNING: redefinition of constant RIGHTHAND_INTERIOR_PRODUCT. This may fail, cause incorrect answers, or produce other errors.\n",
      "WARNING: redefinition of constant MULTIPLICATION_SIGN_WITH_UNDERBAR. This may fail, cause incorrect answers, or produce other errors.\n",
      "WARNING: redefinition of constant RIGHTWARDS_ARROW_WITH_TAIL_WITH_VERTICAL_STROKE. This may fail, cause incorrect answers, or produce other errors.\n",
      "WARNING: redefinition of constant STRICTLY_EQUIVALENT_TO. This may fail, cause incorrect answers, or produce other errors.\n",
      "WARNING: redefinition of constant DOT. This may fail, cause incorrect answers, or produce other errors.\n",
      "WARNING: redefinition of constant LONG_LEFTWARDS_ARROW_FROM_BAR. This may fail, cause incorrect answers, or produce other errors.\n",
      "WARNING: redefinition of constant UPWARDS_HARPOON_WITH_BARB_LEFT_TO_BAR. This may fail, cause incorrect answers, or produce other errors.\n",
      "WARNING: redefinition of constant GREATER_THAN_BUT_NOT_EQUIVALENT_TO. This may fail, cause incorrect answers, or produce other errors.\n",
      "WARNING: redefinition of constant NORMAL_SUBGROUP_OF_OR_EQUAL_TO. This may fail, cause incorrect answers, or produce other errors.\n",
      "WARNING: redefinition of constant GREATER_THAN_CLOSED_BY_CURVE. This may fail, cause incorrect answers, or produce other errors.\n",
      "WARNING: redefinition of constant LEFT_RIGHT_ARROW. This may fail, cause incorrect answers, or produce other errors.\n",
      "WARNING: redefinition of constant ELEMENT_OF_OPENING_DOWNWARDS. This may fail, cause incorrect answers, or produce other errors.\n",
      "WARNING: redefinition of constant LESS_THAN_EQUAL_TO_OR_GREATER_THAN. This may fail, cause incorrect answers, or produce other errors.\n",
      "WARNING: redefinition of constant PRECEDES. This may fail, cause incorrect answers, or produce other errors.\n",
      "WARNING: redefinition of constant EQUALS_SIGN_ABOVE_PLUS_SIGN. This may fail, cause incorrect answers, or produce other errors.\n",
      "WARNING: redefinition of constant DIFFERENCE_BETWEEN. This may fail, cause incorrect answers, or produce other errors.\n",
      "WARNING: redefinition of constant SMALL_VEE_WITH_UNDERBAR. This may fail, cause incorrect answers, or produce other errors.\n",
      "WARNING: redefinition of constant NOT_EQUIVALENT_TO. This may fail, cause incorrect answers, or produce other errors.\n",
      "WARNING: redefinition of constant DOUBLE_LINE_EQUAL_TO_OR_GREATER_THAN. This may fail, cause incorrect answers, or produce other errors.\n",
      "WARNING: redefinition of constant GREATER_THAN_ABOVE_DOUBLE_LINE_EQUAL_ABOVE_LESS_THAN. This may fail, cause incorrect answers, or produce other errors.\n",
      "WARNING: redefinition of constant NOT_SIGN. This may fail, cause incorrect answers, or produce other errors.\n",
      "WARNING: redefinition of constant LOOP_ARROW_RIGHT. This may fail, cause incorrect answers, or produce other errors.\n",
      "WARNING: redefinition of constant TWO_LOGICAL_AND_OPERATOR. This may fail, cause incorrect answers, or produce other errors.\n",
      "WARNING: redefinition of constant begin_bitshifts. This may fail, cause incorrect answers, or produce other errors.\n",
      "WARNING: redefinition of constant PROPORTION. This may fail, cause incorrect answers, or produce other errors.\n",
      "WARNING: redefinition of constant RIGHT_HARPOON_DOWN. This may fail, cause incorrect answers, or produce other errors.\n",
      "WARNING: redefinition of constant LEFTWARDS_HARPOON_WITH_BARB_UP_ABOVE_LEFTWARDS_HARPOON_WITH_BARB_DOWN. This may fail, cause incorrect answers, or produce other errors.\n",
      "WARNING: redefinition of constant SQUARE_ORIGINAL_OF_OR_NOT_EQUAL_TO. This may fail, cause incorrect answers, or produce other errors.\n",
      "WARNING: redefinition of constant SQUARED_MINUS. This may fail, cause incorrect answers, or produce other errors.\n",
      "WARNING: redefinition of constant LEFTWARDS_TWO_HEADED_TRIPLE_DASH_ARROW. This may fail, cause incorrect answers, or produce other errors.\n",
      "WARNING: redefinition of constant TWO_INTERSECTING_LOGICAL_AND. This may fail, cause incorrect answers, or produce other errors.\n",
      "WARNING: redefinition of constant DOUBLE_SUBSET. This may fail, cause incorrect answers, or produce other errors.\n",
      "WARNING: redefinition of constant BULLET_OPERATOR. This may fail, cause incorrect answers, or produce other errors.\n",
      "WARNING: redefinition of constant SUPERSET_OF_WITH_NOT_EQUAL_TO. This may fail, cause incorrect answers, or produce other errors.\n",
      "WARNING: redefinition of constant LOGICAL_AND. This may fail, cause incorrect answers, or produce other errors.\n",
      "WARNING: redefinition of constant NOT_EQ. This may fail, cause incorrect answers, or produce other errors.\n",
      "WARNING: redefinition of constant EQUAL_AND_PARALLEL_TO. This may fail, cause incorrect answers, or produce other errors.\n",
      "WARNING: redefinition of constant UPWARDS_TRIPLE_ARROW. This may fail, cause incorrect answers, or produce other errors.\n",
      "WARNING: redefinition of constant DOUBLE_LINE_SLANTED_LESS_THAN_OR_EQUAL_TO. This may fail, cause incorrect answers, or produce other errors.\n",
      "WARNING: redefinition of constant RIGHT_DOUBLE_ARROW_WITH_ROUNDED_HEAD. This may fail, cause incorrect answers, or produce other errors.\n",
      "WARNING: redefinition of constant EQUIANGULAR_TO. This may fail, cause incorrect answers, or produce other errors.\n",
      "WARNING: redefinition of constant LEFT_RIGHT_HARPOONS. This may fail, cause incorrect answers, or produce other errors.\n",
      "WARNING: redefinition of constant end_bitshifts. This may fail, cause incorrect answers, or produce other errors.\n",
      "WARNING: redefinition of constant CIRCLED_ANTICLOCKWISE_ROTATED_DIVISION_SIGN. This may fail, cause incorrect answers, or produce other errors.\n",
      "WARNING: redefinition of constant NOT_NORMAL_SUBGROUP_OF. This may fail, cause incorrect answers, or produce other errors.\n",
      "WARNING: redefinition of constant DOES_NOT_CONTAIN_AS_NORMAL_SUBGROUP_OR_EQUAL. This may fail, cause incorrect answers, or produce other errors.\n",
      "WARNING: redefinition of constant ASTERISK_OPERATOR. This may fail, cause incorrect answers, or produce other errors.\n",
      "WARNING: redefinition of constant CIRCLED_DIVISION_SIGN. This may fail, cause incorrect answers, or produce other errors.\n",
      "WARNING: redefinition of constant RIGHT_SQUIGGLE_ARROW. This may fail, cause incorrect answers, or produce other errors.\n",
      "WARNING: redefinition of constant SUCCEEDS_OR_EQUIVALENT_TO. This may fail, cause incorrect answers, or produce other errors.\n",
      "WARNING: redefinition of constant DECLARATION. This may fail, cause incorrect answers, or produce other errors.\n",
      "WARNING: redefinition of constant LEFTWARDS_HARPOON_WITH_BARB_DOWN_FROM_BAR. This may fail, cause incorrect answers, or produce other errors.\n",
      "WARNING: redefinition of constant SUPERSET_ABOVE_SUBSET. This may fail, cause incorrect answers, or produce other errors.\n",
      "WARNING: redefinition of constant SIMILAR_ABOVE_GREATER_THAN_ABOVE_EQUALS_SIGN. This may fail, cause incorrect answers, or produce other errors.\n",
      "WARNING: redefinition of constant SUPERSET_ABOVE_SUPERSET. This may fail, cause incorrect answers, or produce other errors.\n",
      "WARNING: redefinition of constant end_where. This may fail, cause incorrect answers, or produce other errors.\n",
      "WARNING: redefinition of constant RIGHT_NORMAL_FACTOR_SEMIDIRECT_PRODUCT. This may fail, cause incorrect answers, or produce other errors.\n",
      "WARNING: redefinition of constant EQUALS_SIGN_ABOVE_TILDE_OPERATOR. This may fail, cause incorrect answers, or produce other errors.\n",
      "WARNING: redefinition of constant PLUS_SIGN_WITH_CIRCUMFLEX_ACCENT_ABOVE. This may fail, cause incorrect answers, or produce other errors.\n",
      "WARNING: redefinition of constant UPWARDS_HARPOON_WITH_BARB_LEFT_BESIDE_DOWNWARDS_HARPOON_WITH_BARB_RIGHT. This may fail, cause incorrect answers, or produce other errors.\n",
      "WARNING: redefinition of constant TRIPLE_NESTED_GREATER_THAN. This may fail, cause incorrect answers, or produce other errors.\n",
      "WARNING: redefinition of constant CONTAINS_AS_NORMAL_SUBGROUP_OR_EQUAL_TO. This may fail, cause incorrect answers, or produce other errors.\n",
      "WARNING: redefinition of constant begin_dot. This may fail, cause incorrect answers, or produce other errors.\n",
      "WARNING: redefinition of constant MULTIPLICATION_SIGN_IN_TRIANGLE. This may fail, cause incorrect answers, or produce other errors.\n",
      "WARNING: redefinition of constant LARGER_THAN_OR_EQUAL_TO. This may fail, cause incorrect answers, or produce other errors.\n",
      "WARNING: redefinition of constant LESS_THAN_WITH_DOT. This may fail, cause incorrect answers, or produce other errors.\n",
      "WARNING: redefinition of constant BB_SEMI. This may fail, cause incorrect answers, or produce other errors.\n",
      "WARNING: redefinition of constant LESS_THAN_OVER_EQUAL_TO. This may fail, cause incorrect answers, or produce other errors.\n",
      "WARNING: redefinition of constant EQUALS_SIGN_WITH_DOT_BELOW. This may fail, cause incorrect answers, or produce other errors.\n",
      "WARNING: redefinition of constant SMALL_ELEMENT_OF_WITH_VERTICAL_BAR_AT_END_OF_HORIZONTAL_STROKE. This may fail, cause incorrect answers, or produce other errors.\n",
      "WARNING: redefinition of constant MULTIPLICATION_SIGN_IN_RIGHT_HALF_CIRCLE. This may fail, cause incorrect answers, or produce other errors.\n",
      "WARNING: redefinition of constant APPROXIMATELY_BUT_NOT_ACTUALLY_EQUAL_TO. This may fail, cause incorrect answers, or produce other errors.\n",
      "WARNING: redefinition of constant SLANTED_EQUAL_TO_OR_LESS_THAN. This may fail, cause incorrect answers, or produce other errors.\n"
     ]
    },
    {
     "name": "stderr",
     "output_type": "stream",
     "text": [
      "WARNING: redefinition of constant RBITSHIFT. This may fail, cause incorrect answers, or produce other errors.\n",
      "WARNING: redefinition of constant NEITHER_A_SUPERSET_OF_NOR_EQUAL_TO. This may fail, cause incorrect answers, or produce other errors.\n",
      "WARNING: redefinition of constant CONTAINS_WITH_LONG_HORIZONTAL_STROKE. This may fail, cause incorrect answers, or produce other errors.\n",
      "WARNING: redefinition of constant LEFT_OUTER_JOIN. This may fail, cause incorrect answers, or produce other errors.\n",
      "WARNING: redefinition of constant ELEMENT_OF_OPENING_UPWARDS. This may fail, cause incorrect answers, or produce other errors.\n",
      "WARNING: redefinition of constant LESS_THAN_OR_EQUAL_TO. This may fail, cause incorrect answers, or produce other errors.\n",
      "WARNING: redefinition of constant end_rational. This may fail, cause incorrect answers, or produce other errors.\n",
      "WARNING: redefinition of constant APPROXIMATELY_EQUAL_TO_OR_THE_IMAGE_OF. This may fail, cause incorrect answers, or produce other errors.\n",
      "WARNING: redefinition of constant NOT_A_SUBSET_OF. This may fail, cause incorrect answers, or produce other errors.\n",
      "WARNING: redefinition of constant begin_rational. This may fail, cause incorrect answers, or produce other errors.\n",
      "WARNING: redefinition of constant NOT_TILDE. This may fail, cause incorrect answers, or produce other errors.\n",
      "WARNING: redefinition of constant SUBSET_OF_WITH_NOT_EQUAL_TO. This may fail, cause incorrect answers, or produce other errors.\n",
      "WARNING: redefinition of constant SIMILAR_MINUS_SIMILAR. This may fail, cause incorrect answers, or produce other errors.\n",
      "WARNING: redefinition of constant WHITE_RIGHT_POINTING_TRIANGLE. This may fail, cause incorrect answers, or produce other errors.\n",
      "WARNING: redefinition of constant INTERSECTION_BESIDE_AND_JOINED_WITH_INTERSECTION. This may fail, cause incorrect answers, or produce other errors.\n",
      "WARNING: redefinition of constant THREE_CONSECUTIVE_EQUALS_SIGNS. This may fail, cause incorrect answers, or produce other errors.\n",
      "WARNING: redefinition of constant RIGHT_DASH_ARROW. This may fail, cause incorrect answers, or produce other errors.\n",
      "WARNING: redefinition of constant DOWNWARDS_ARROW_TO_BAR. This may fail, cause incorrect answers, or produce other errors.\n",
      "WARNING: redefinition of constant end_comparison. This may fail, cause incorrect answers, or produce other errors.\n",
      "WARNING: redefinition of constant DOUBLE_NESTED_GREATER_THAN. This may fail, cause incorrect answers, or produce other errors.\n",
      "WARNING: redefinition of constant CLOSED_SUBSET. This may fail, cause incorrect answers, or produce other errors.\n",
      "WARNING: redefinition of constant DDOT. This may fail, cause incorrect answers, or produce other errors.\n",
      "WARNING: redefinition of constant CIRCUMFLEX_ACCENT. This may fail, cause incorrect answers, or produce other errors.\n",
      "WARNING: redefinition of constant RIGHTWARDS_ARROW_ABOVE_REVERSE_TILDE_OPERATOR. This may fail, cause incorrect answers, or produce other errors.\n",
      "WARNING: redefinition of constant DOUBLE_SUCCEEDS. This may fail, cause incorrect answers, or produce other errors.\n",
      "WARNING: redefinition of constant LEFTWARDS_HARPOON_WITH_BARB_UP_ABOVE_LONG_DASH. This may fail, cause incorrect answers, or produce other errors.\n",
      "WARNING: redefinition of constant LEFTWARDS_DOUBLE_DASH_ARROW. This may fail, cause incorrect answers, or produce other errors.\n",
      "WARNING: redefinition of constant ISSUBTYPE. This may fail, cause incorrect answers, or produce other errors.\n",
      "WARNING: redefinition of constant RIGHTWARDS_ARROW_THROUGH_SUPERSET. This may fail, cause incorrect answers, or produce other errors.\n",
      "WARNING: redefinition of constant LEFT_RIGHT_DOUBLE_ARROW_WITH_VERTICAL_STROKE. This may fail, cause incorrect answers, or produce other errors.\n",
      "WARNING: redefinition of constant LOGICAL_AND_WITH_MIDDLE_STEM. This may fail, cause incorrect answers, or produce other errors.\n",
      "WARNING: redefinition of constant SQUARE_CUP. This may fail, cause incorrect answers, or produce other errors.\n",
      "WARNING: redefinition of constant DOUBLE_UNION. This may fail, cause incorrect answers, or produce other errors.\n",
      "WARNING: redefinition of constant EQUAL_TO_OR_GREATER_THAN. This may fail, cause incorrect answers, or produce other errors.\n",
      "WARNING: redefinition of constant SLOPING_LARGE_OR. This may fail, cause incorrect answers, or produce other errors.\n",
      "WARNING: redefinition of constant SIMILAR_OR_LESS_THAN. This may fail, cause incorrect answers, or produce other errors.\n",
      "WARNING: redefinition of constant RIGHTWARDS_ARROW_TO_BLACK_DIAMOND. This may fail, cause incorrect answers, or produce other errors.\n",
      "WARNING: redefinition of constant THREE_RIGHTWARDS_ARROWS. This may fail, cause incorrect answers, or produce other errors.\n",
      "WARNING: redefinition of constant EQUALS_SIGN_AND_SLANTED_PARALLEL_WITH_TILDE_ABOVE. This may fail, cause incorrect answers, or produce other errors.\n",
      "WARNING: redefinition of constant RIGHTWARDS_TWO_HEADED_ARROW_WITH_VERTICAL_STROKE. This may fail, cause incorrect answers, or produce other errors.\n",
      "WARNING: redefinition of constant APPROXIMATELY_EQUAL_OR_EQUAL_TO. This may fail, cause incorrect answers, or produce other errors.\n",
      "WARNING: redefinition of constant SUPERSET_OF_ABOVE_ALMOST_EQUAL_TO. This may fail, cause incorrect answers, or produce other errors.\n",
      "WARNING: redefinition of constant LESS_THAN_ABOVE_GREATER_THAN_ABOVE_DOUBLE_LINE_EQUAL. This may fail, cause incorrect answers, or produce other errors.\n",
      "WARNING: redefinition of constant UNSIGNED_BITSHIFT. This may fail, cause incorrect answers, or produce other errors.\n",
      "WARNING: redefinition of constant begin_colon. This may fail, cause incorrect answers, or produce other errors.\n",
      "WARNING: redefinition of constant EQUALS_SIGN_WITH_BUMPY_ABOVE. This may fail, cause incorrect answers, or produce other errors.\n",
      "WARNING: redefinition of constant LEFT_LEFT_ARROWS. This may fail, cause incorrect answers, or produce other errors.\n",
      "WARNING: redefinition of constant SQUARED_PLUS. This may fail, cause incorrect answers, or produce other errors.\n",
      "WARNING: redefinition of constant LEFTWARDS_ARROW_WITH_TAIL_WITH_VERTICAL_STROKE. This may fail, cause incorrect answers, or produce other errors.\n",
      "WARNING: redefinition of constant LESS_THAN_CLOSED_BY_CURVE_ABOVE_SLANTED_EQUAL. This may fail, cause incorrect answers, or produce other errors.\n",
      "WARNING: redefinition of constant DOWNWARDS_HARPOON_WITH_BARB_RIGHT_TO_BAR. This may fail, cause incorrect answers, or produce other errors.\n",
      "WARNING: redefinition of constant end_colon. This may fail, cause incorrect answers, or produce other errors.\n",
      "WARNING: redefinition of constant RIGHTWARDS_TWO_HEADED_ARROW_WITH_DOUBLE_VERTICAL_STROKE. This may fail, cause incorrect answers, or produce other errors.\n",
      "WARNING: redefinition of constant LEFTWARDS_ARROW_WITH_DOTTED_STEM. This may fail, cause incorrect answers, or produce other errors.\n",
      "WARNING: redefinition of constant RIGHTWARDS_ARROW_THROUGH_X. This may fail, cause incorrect answers, or produce other errors.\n",
      "WARNING: redefinition of constant RULE_DELAYED. This may fail, cause incorrect answers, or produce other errors.\n",
      "WARNING: redefinition of constant ALMOST_EQUAL_OR_EQUAL_TO. This may fail, cause incorrect answers, or produce other errors.\n",
      "WARNING: redefinition of constant SUPERSET_BESIDE_AND_JOINED_BY_DASH_WITH_SUBSET. This may fail, cause incorrect answers, or produce other errors.\n",
      "WARNING: redefinition of constant SHORT_RIGHTWARDS_ARROW_ABOVE_LEFTWARDS_ARROW. This may fail, cause incorrect answers, or produce other errors.\n",
      "WARNING: redefinition of constant GEOMETRICALLY_EQUAL_TO. This may fail, cause incorrect answers, or produce other errors.\n",
      "WARNING: redefinition of constant DOT_MINUS. This may fail, cause incorrect answers, or produce other errors.\n",
      "WARNING: redefinition of constant DOES_NOT_SUCCEED_OR_EQUAL. This may fail, cause incorrect answers, or produce other errors.\n",
      "WARNING: redefinition of constant SMALL_CONTAINS_WITH_OVERBAR. This may fail, cause incorrect answers, or produce other errors.\n",
      "WARNING: redefinition of constant PLUS_SIGN_WITH_TILDE_ABOVE. This may fail, cause incorrect answers, or produce other errors.\n",
      "WARNING: redefinition of constant CONGRUENT_WITH_DOT_ABOVE. This may fail, cause incorrect answers, or produce other errors.\n",
      "WARNING: redefinition of constant LESS_THAN_WITH_QUESTION_MARK_ABOVE. This may fail, cause incorrect answers, or produce other errors.\n",
      "WARNING: redefinition of constant LONG_LEFT_RIGHT_ARROW. This may fail, cause incorrect answers, or produce other errors.\n",
      "WARNING: redefinition of constant WAVE_ARROW_POINTING_DIRECTLY_LEFT. This may fail, cause incorrect answers, or produce other errors.\n",
      "WARNING: redefinition of constant LEFTWARDS_TWO_HEADED_ARROW_WITH_TAIL_WITH_DOUBLE_VERTICAL_STROKE. This may fail, cause incorrect answers, or produce other errors.\n",
      "WARNING: redefinition of constant LESS_THAN_ABOVE_SIMILAR_ABOVE_GREATER_THAN. This may fail, cause incorrect answers, or produce other errors.\n",
      "WARNING: redefinition of constant LONG_RIGHTWARDS_DOUBLE_ARROW_FROM_BAR. This may fail, cause incorrect answers, or produce other errors.\n",
      "WARNING: redefinition of constant MULTIPLICATION_SIGN. This may fail, cause incorrect answers, or produce other errors.\n",
      "WARNING: redefinition of constant LEFT_RIGHT_ARROWS. This may fail, cause incorrect answers, or produce other errors.\n",
      "WARNING: redefinition of constant LOGICAL_AND_WITH_DOT_ABOVE. This may fail, cause incorrect answers, or produce other errors.\n",
      "WARNING: redefinition of constant DOUBLE_NESTED_LESS_THAN. This may fail, cause incorrect answers, or produce other errors.\n",
      "WARNING: redefinition of constant LONG_RIGHTWARDS_ARROW. This may fail, cause incorrect answers, or produce other errors.\n",
      "WARNING: redefinition of constant LDOTS. This may fail, cause incorrect answers, or produce other errors.\n",
      "WARNING: redefinition of constant INTERSECTION_WITH_OVERBAR. This may fail, cause incorrect answers, or produce other errors.\n",
      "WARNING: redefinition of constant IMAGE_OF. This may fail, cause incorrect answers, or produce other errors.\n",
      "WARNING: redefinition of constant LEFT_BARB_UP_RIGHT_BARB_DOWN_HARPOON. This may fail, cause incorrect answers, or produce other errors.\n",
      "WARNING: redefinition of constant TRANSPOSE. This may fail, cause incorrect answers, or produce other errors.\n",
      "WARNING: redefinition of constant LEFTWARDS_DOUBLE_ARROW_WITH_STROKE. This may fail, cause incorrect answers, or produce other errors.\n"
     ]
    },
    {
     "name": "stderr",
     "output_type": "stream",
     "text": [
      "WARNING: redefinition of constant NAND. This may fail, cause incorrect answers, or produce other errors.\n",
      "WARNING: redefinition of constant INCREASES_AS. This may fail, cause incorrect answers, or produce other errors.\n",
      "WARNING: redefinition of constant SUPERSET_OF. This may fail, cause incorrect answers, or produce other errors.\n",
      "WARNING: redefinition of constant LEFT_NORMAL_FACTOR_SEMIDIRECT_PRODUCT. This may fail, cause incorrect answers, or produce other errors.\n",
      "WARNING: redefinition of constant DOWNWARDS_HARPOON_WITH_BARB_LEFT_FROM_BAR. This may fail, cause incorrect answers, or produce other errors.\n",
      "WARNING: redefinition of constant MINUS_OR_PLUS_SIGN. This may fail, cause incorrect answers, or produce other errors.\n",
      "WARNING: redefinition of constant FWDFWD_SLASH. This may fail, cause incorrect answers, or produce other errors.\n",
      "WARNING: redefinition of constant SQUARE_LEFT_OPEN_BOX_OPERATOR. This may fail, cause incorrect answers, or produce other errors.\n",
      "WARNING: redefinition of constant DIAMOND_OPERATOR. This may fail, cause incorrect answers, or produce other errors.\n",
      "WARNING: redefinition of constant end_dot. This may fail, cause incorrect answers, or produce other errors.\n",
      "WARNING: redefinition of constant SQUARE_IMAGE_OF_OR_EQUAL_TO. This may fail, cause incorrect answers, or produce other errors.\n",
      "WARNING: redefinition of constant SUCCEEDS_ABOVE_NOT_EQUAL_TO. This may fail, cause incorrect answers, or produce other errors.\n",
      "WARNING: redefinition of constant SUPERSET_WITH_MULTIPLICATION_SIGN_BELOW. This may fail, cause incorrect answers, or produce other errors.\n",
      "WARNING: redefinition of constant ELEMENT_OF_WITH_LONG_HORIZONTAL_STROKE. This may fail, cause incorrect answers, or produce other errors.\n",
      "WARNING: redefinition of constant LOGICAL_OR_WITH_DOT_ABOVE. This may fail, cause incorrect answers, or produce other errors.\n",
      "WARNING: redefinition of constant RIGHTWARDS_HARPOON_WITH_BARB_UP_TO_BAR. This may fail, cause incorrect answers, or produce other errors.\n",
      "WARNING: redefinition of constant LEFT_RIGHT_OPEN_HEADED_ARROW. This may fail, cause incorrect answers, or produce other errors.\n",
      "WARNING: redefinition of constant MULTISET_MULTIPLICATION. This may fail, cause incorrect answers, or produce other errors.\n",
      "WARNING: redefinition of constant SUBSET_WITH_PLUS_SIGN_BELOW. This may fail, cause incorrect answers, or produce other errors.\n",
      "WARNING: redefinition of constant SMALL_CONTAINS_AS_MEMBER. This may fail, cause incorrect answers, or produce other errors.\n",
      "WARNING: redefinition of constant LEFTWARDS_ARROW_WITH_HOOK. This may fail, cause incorrect answers, or produce other errors.\n",
      "WARNING: redefinition of constant REVERSE_SOLIDUS_WITH_HORIZONTAL_STROKE. This may fail, cause incorrect answers, or produce other errors.\n",
      "WARNING: redefinition of constant DOUBLE_SQUARE_INTERSECTION. This may fail, cause incorrect answers, or produce other errors.\n",
      "WARNING: redefinition of constant PLUS_SIGN_WITH_SUBSCRIPT_TWO. This may fail, cause incorrect answers, or produce other errors.\n",
      "WARNING: redefinition of constant SMALL_CONTAINS_WITH_VERTICAL_BAR_AT_END_OF_HORIZONTAL_STROKE. This may fail, cause incorrect answers, or produce other errors.\n",
      "WARNING: redefinition of constant GREATER_THAN_OR_EQUIVALENT_TO. This may fail, cause incorrect answers, or produce other errors.\n",
      "WARNING: redefinition of constant ELEMENT_OF_WITH_DOT_ABOVE. This may fail, cause incorrect answers, or produce other errors.\n",
      "WARNING: redefinition of constant SUBSET_OF_ABOVE_ALMOST_EQUAL_TO. This may fail, cause incorrect answers, or produce other errors.\n",
      "WARNING: redefinition of constant end_plus. This may fail, cause incorrect answers, or produce other errors.\n",
      "WARNING: redefinition of constant RIGHT_RIGHT_ARROWS. This may fail, cause incorrect answers, or produce other errors.\n",
      "WARNING: redefinition of constant SQUARE_ORIGINAL_OF. This may fail, cause incorrect answers, or produce other errors.\n",
      "WARNING: redefinition of constant CUBE_ROOT. This may fail, cause incorrect answers, or produce other errors.\n",
      "WARNING: redefinition of constant LOGICAL_OR_WITH_DOUBLE_OVERBAR. This may fail, cause incorrect answers, or produce other errors.\n",
      "WARNING: redefinition of constant LESS_THAN_OR_SLANTED_EQUAL_TO_WITH_DOT_ABOVE. This may fail, cause incorrect answers, or produce other errors.\n",
      "WARNING: redefinition of constant SMASH_PRODUCT. This may fail, cause incorrect answers, or produce other errors.\n",
      "WARNING: redefinition of constant end_lazyand. This may fail, cause incorrect answers, or produce other errors.\n",
      "WARNING: redefinition of constant NOT_LESS_THAN. This may fail, cause incorrect answers, or produce other errors.\n",
      "WARNING: redefinition of constant end_ops. This may fail, cause incorrect answers, or produce other errors.\n",
      "WARNING: redefinition of constant RIGHTWARDS_DOUBLE_ARROW_WITH_STROKE. This may fail, cause incorrect answers, or produce other errors.\n",
      "WARNING: redefinition of constant LESS. This may fail, cause incorrect answers, or produce other errors.\n",
      "WARNING: redefinition of constant SUPERSET_OF_OR_EQUAL_TO. This may fail, cause incorrect answers, or produce other errors.\n",
      "WARNING: redefinition of constant LEFTWARDS_HARPOON_WITH_BARB_UP_TO_BAR. This may fail, cause incorrect answers, or produce other errors.\n",
      "WARNING: redefinition of constant DOES_NOT_PRECEDE. This may fail, cause incorrect answers, or produce other errors.\n",
      "WARNING: redefinition of constant LESS_THAN_OR_SLANTED_EQUAL_TO_WITH_DOT_ABOVE_RIGHT. This may fail, cause incorrect answers, or produce other errors.\n",
      "WARNING: redefinition of constant RIGHTWARDS_HARPOON_WITH_BARB_DOWN_ABOVE_LEFTWARDS_HARPOON_WITH_BARB_DOWN. This may fail, cause incorrect answers, or produce other errors.\n",
      "WARNING: redefinition of constant LEFT_WAVE_ARROW. This may fail, cause incorrect answers, or produce other errors.\n",
      "WARNING: redefinition of constant RIGHT_WAVE_ARROW. This may fail, cause incorrect answers, or produce other errors.\n",
      "WARNING: redefinition of constant CIRCLED_EQUALS. This may fail, cause incorrect answers, or produce other errors.\n",
      "WARNING: redefinition of constant PRIME. This may fail, cause incorrect answers, or produce other errors.\n",
      "WARNING: redefinition of constant NOT_IDENTICAL_TO. This may fail, cause incorrect answers, or produce other errors.\n",
      "WARNING: redefinition of constant BETWEEN. This may fail, cause incorrect answers, or produce other errors.\n",
      "WARNING: redefinition of constant SQUARE_RIGHT_OPEN_BOX_OPERATOR. This may fail, cause incorrect answers, or produce other errors.\n",
      "WARNING: redefinition of constant EX_OR. This may fail, cause incorrect answers, or produce other errors.\n",
      "WARNING: redefinition of constant ELEMENT_OF_WITH_VERTICAL_BAR_AT_END_OF_HORIZONTAL_STROKE. This may fail, cause incorrect answers, or produce other errors.\n",
      "WARNING: redefinition of constant begin_lazyor. This may fail, cause incorrect answers, or produce other errors.\n",
      "WARNING: redefinition of constant RIGHTWARDS_ARROW_THROUGH_GREATER_THAN. This may fail, cause incorrect answers, or produce other errors.\n",
      "WARNING: redefinition of constant TWO_CONSECUTIVE_EQUALS_SIGNS. This may fail, cause incorrect answers, or produce other errors.\n",
      "WARNING: redefinition of constant SQUARE_CAP. This may fail, cause incorrect answers, or produce other errors.\n",
      "WARNING: redefinition of constant SUBSET_OF_ABOVE_EQUALS_SIGN. This may fail, cause incorrect answers, or produce other errors.\n",
      "WARNING: redefinition of constant NOR. This may fail, cause incorrect answers, or produce other errors.\n",
      "WARNING: redefinition of constant HALFWIDTH_RIGHTWARDS_ARROW. This may fail, cause incorrect answers, or produce other errors.\n",
      "WARNING: redefinition of constant RIGHTWARDS_HARPOON_WITH_BARB_UP_ABOVE_RIGHTWARDS_HARPOON_WITH_BARB_DOWN. This may fail, cause incorrect answers, or produce other errors.\n",
      "WARNING: redefinition of constant HALFWIDTH_LEFTWARDS_ARROW. This may fail, cause incorrect answers, or produce other errors.\n",
      "WARNING: redefinition of constant LEFT_BARB_UP_RIGHT_BARB_UP_HARPOON. This may fail, cause incorrect answers, or produce other errors.\n",
      "WARNING: redefinition of constant NOT_SQUARE_IMAGE_OF_OR_EQUAL_TO. This may fail, cause incorrect answers, or produce other errors.\n",
      "WARNING: redefinition of constant CLOSED_SUPERSET_OR_EQUAL_TO. This may fail, cause incorrect answers, or produce other errors.\n",
      "WARNING: redefinition of constant DELTA_EQUAL_TO. This may fail, cause incorrect answers, or produce other errors.\n",
      "WARNING: redefinition of constant EQUALS_WITH_ASTERISK. This may fail, cause incorrect answers, or produce other errors.\n",
      "WARNING: redefinition of constant CLOSED_SUBSET_OR_EQUAL_TO. This may fail, cause incorrect answers, or produce other errors.\n",
      "WARNING: redefinition of constant CLOSED_UNION_WITH_SERIFS_AND_SMASH_PRODUCT. This may fail, cause incorrect answers, or produce other errors.\n",
      "WARNING: redefinition of constant NEITHER_LESS_THAN_NOR_EQUAL_TO. This may fail, cause incorrect answers, or produce other errors.\n",
      "WARNING: redefinition of constant SUCCEEDS_BUT_NOT_EQUIVALENT_TO. This may fail, cause incorrect answers, or produce other errors.\n",
      "WARNING: redefinition of constant SUBSET_OF_ABOVE_TILDE_OPERATOR. This may fail, cause incorrect answers, or produce other errors.\n",
      "WARNING: redefinition of constant LESS_THAN_BUT_NOT_EQUIVALENT_TO. This may fail, cause incorrect answers, or produce other errors.\n",
      "WARNING: redefinition of constant SUPERSET_WITH_PLUS_SIGN_BELOW. This may fail, cause incorrect answers, or produce other errors.\n",
      "WARNING: redefinition of constant LEFTWARDS_ARROW_WITH_PLUS_BELOW. This may fail, cause incorrect answers, or produce other errors.\n",
      "WARNING: redefinition of constant RING_IN_EQUAL_TO. This may fail, cause incorrect answers, or produce other errors.\n",
      "WARNING: redefinition of constant PRECEDES_UNDER_RELATION. This may fail, cause incorrect answers, or produce other errors.\n",
      "WARNING: redefinition of constant RIGHTWARDS_DOUBLE_ARROW_FROM_BAR. This may fail, cause incorrect answers, or produce other errors.\n",
      "WARNING: redefinition of constant RIGHTWARDS_TWO_HEADED_ARROW. This may fail, cause incorrect answers, or produce other errors.\n",
      "WARNING: redefinition of constant NEITHER_GREATER_THAN_NOR_LESS_THAN. This may fail, cause incorrect answers, or produce other errors.\n",
      "WARNING: redefinition of constant GREATER_THAN_CLOSED_BY_CURVE_ABOVE_SLANTED_EQUAL. This may fail, cause incorrect answers, or produce other errors.\n"
     ]
    },
    {
     "name": "stderr",
     "output_type": "stream",
     "text": [
      "WARNING: redefinition of constant STAR. This may fail, cause incorrect answers, or produce other errors.\n",
      "WARNING: redefinition of constant SUBSET_WITH_MULTIPLICATION_SIGN_BELOW. This may fail, cause incorrect answers, or produce other errors.\n",
      "WARNING: redefinition of constant GREATER_THAN_OVERLAPPING_LESS_THAN. This may fail, cause incorrect answers, or produce other errors.\n",
      "WARNING: redefinition of constant RIGHTWARDS_DOUBLE_DASH_ARROW. This may fail, cause incorrect answers, or produce other errors.\n",
      "WARNING: redefinition of constant FULL_OUTER_JOIN. This may fail, cause incorrect answers, or produce other errors.\n",
      "WARNING: redefinition of constant RIGHTWARDS_TRIPLE_DASH_ARROW. This may fail, cause incorrect answers, or produce other errors.\n",
      "WARNING: redefinition of constant LESS_THAN_AND_NOT_APPROXIMATE. This may fail, cause incorrect answers, or produce other errors.\n",
      "WARNING: redefinition of constant DOT_PLUS. This may fail, cause incorrect answers, or produce other errors.\n",
      "WARNING: redefinition of constant SLANTED_EQUAL_TO_OR_LESS_THAN_WITH_DOT_INSIDE. This may fail, cause incorrect answers, or produce other errors.\n",
      "WARNING: redefinition of constant GREATER_THAN_WITH_DOT. This may fail, cause incorrect answers, or produce other errors.\n",
      "WARNING: redefinition of constant DOUBLE_NESTED_LESS_THAN_WITH_UNDERBAR. This may fail, cause incorrect answers, or produce other errors.\n",
      "WARNING: redefinition of constant MUCH_GREATER_THAN. This may fail, cause incorrect answers, or produce other errors.\n",
      "WARNING: redefinition of constant SLANTED_EQUAL_TO_OR_GREATER_THAN_WITH_DOT_INSIDE. This may fail, cause incorrect answers, or produce other errors.\n",
      "WARNING: redefinition of constant RIGHTWARDS_ARROW_WITH_STROKE. This may fail, cause incorrect answers, or produce other errors.\n",
      "WARNING: redefinition of constant RIGHTWARDS_TWO_HEADED_ARROW_WITH_TAIL. This may fail, cause incorrect answers, or produce other errors.\n",
      "WARNING: redefinition of constant LEFTWARDS_ARROW_WITH_DOUBLE_VERTICAL_STROKE. This may fail, cause incorrect answers, or produce other errors.\n",
      "WARNING: redefinition of constant QUESTIONED_EQUAL_TO. This may fail, cause incorrect answers, or produce other errors.\n",
      "WARNING: redefinition of constant begin_decl. This may fail, cause incorrect answers, or produce other errors.\n",
      "WARNING: redefinition of constant DOWNWARDS_HARPOON_WITH_BARB_RIGHT_FROM_BAR. This may fail, cause incorrect answers, or produce other errors.\n",
      "WARNING: redefinition of constant WHERE. This may fail, cause incorrect answers, or produce other errors.\n",
      "WARNING: redefinition of constant CIRCLED_DIVISION_SLASH. This may fail, cause incorrect answers, or produce other errors.\n",
      "WARNING: redefinition of constant CIRCLED_LESS_THAN. This may fail, cause incorrect answers, or produce other errors.\n",
      "WARNING: redefinition of constant ADOTS. This may fail, cause incorrect answers, or produce other errors.\n",
      "WARNING: redefinition of constant MINUS_SIGN_IN_TRIANGLE. This may fail, cause incorrect answers, or produce other errors.\n",
      "WARNING: redefinition of constant EQUIVALENT_TO. This may fail, cause incorrect answers, or produce other errors.\n",
      "WARNING: redefinition of constant PLUS_SIGN_IN_LEFT_HALF_CIRCLE. This may fail, cause incorrect answers, or produce other errors.\n",
      "WARNING: redefinition of constant PLUS_SIGN_ABOVE_EQUALS_SIGN. This may fail, cause incorrect answers, or produce other errors.\n",
      "WARNING: redefinition of constant LEFT_RIGHT_ARROW_WITH_VERTICAL_STROKE. This may fail, cause incorrect answers, or produce other errors.\n",
      "WARNING: redefinition of constant SUBSET_WITH_DOT. This may fail, cause incorrect answers, or produce other errors.\n",
      "WARNING: redefinition of constant LEFT_SQUIGGLE_ARROW. This may fail, cause incorrect answers, or produce other errors.\n",
      "WARNING: redefinition of constant LEFT_TACK. This may fail, cause incorrect answers, or produce other errors.\n",
      "WARNING: redefinition of constant DOWNWARDS_TRIPLE_ARROW. This may fail, cause incorrect answers, or produce other errors.\n",
      "WARNING: redefinition of constant NOT_ASYMPTOTICALLY_EQUAL_TO. This may fail, cause incorrect answers, or produce other errors.\n",
      "WARNING: redefinition of constant LEFTWARDS_ARROW_ABOVE_ALMOST_EQUAL_TO. This may fail, cause incorrect answers, or produce other errors.\n",
      "WARNING: redefinition of constant TILDE_OPERATOR_ABOVE_LEFTWARDS_ARROW. This may fail, cause incorrect answers, or produce other errors.\n",
      "WARNING: redefinition of constant LEFTWARDS_TWO_HEADED_ARROW_WITH_TAIL_WITH_VERTICAL_STROKE. This may fail, cause incorrect answers, or produce other errors.\n",
      "WARNING: redefinition of constant LONG_LEFTWARDS_SQUIGGLE_ARROW. This may fail, cause incorrect answers, or produce other errors.\n",
      "WARNING: redefinition of constant LEFT_RIGHT_DOUBLE_ARROW_WITH_STROKE. This may fail, cause incorrect answers, or produce other errors.\n",
      "WARNING: redefinition of constant ELEMENT_OF_WITH_TWO_HORIZONTAL_STROKES. This may fail, cause incorrect answers, or produce other errors.\n",
      "WARNING: redefinition of constant SUBSET_OF. This may fail, cause incorrect answers, or produce other errors.\n",
      "WARNING: redefinition of constant LEFT_BARB_DOWN_RIGHT_BARB_DOWN_HARPOON. This may fail, cause incorrect answers, or produce other errors.\n",
      "WARNING: redefinition of constant ELEMENT_OF_WITH_UNDERBAR. This may fail, cause incorrect answers, or produce other errors.\n",
      "WARNING: redefinition of constant MINUS_SIGN_WITH_COMMA_ABOVE. This may fail, cause incorrect answers, or produce other errors.\n",
      "WARNING: redefinition of constant TRICOLON. This may fail, cause incorrect answers, or produce other errors.\n",
      "WARNING: redefinition of constant UP_BARB_RIGHT_DOWN_BARB_RIGHT_HARPOON. This may fail, cause incorrect answers, or produce other errors.\n",
      "WARNING: redefinition of constant GREATER_THAN_OVER_EQUAL_TO. This may fail, cause incorrect answers, or produce other errors.\n",
      "WARNING: redefinition of constant RING_OPERATOR. This may fail, cause incorrect answers, or produce other errors.\n",
      "WARNING: redefinition of constant MULTIPLICATION_SIGN_IN_LEFT_HALF_CIRCLE. This may fail, cause incorrect answers, or produce other errors.\n",
      "WARNING: redefinition of constant LESS_THAN_AND_SINGLE_LINE_NOT_EQUAL_TO. This may fail, cause incorrect answers, or produce other errors.\n",
      "WARNING: redefinition of constant LEFT_HARPOON_UP. This may fail, cause incorrect answers, or produce other errors.\n",
      "WARNING: redefinition of constant GEOMETRIC_PROPORTION. This may fail, cause incorrect answers, or produce other errors.\n",
      "WARNING: redefinition of constant LONG_LEFTWARDS_ARROW. This may fail, cause incorrect answers, or produce other errors.\n",
      "WARNING: redefinition of constant UPWARDS_ARROW. This may fail, cause incorrect answers, or produce other errors.\n",
      "WARNING: redefinition of constant JOIN. This may fail, cause incorrect answers, or produce other errors.\n",
      "WARNING: redefinition of constant LEFTWARDS_TWO_HEADED_ARROW_WITH_TAIL. This may fail, cause incorrect answers, or produce other errors.\n",
      "WARNING: redefinition of constant ALL_EQUAL_TO. This may fail, cause incorrect answers, or produce other errors.\n",
      "WARNING: redefinition of constant ANON_FUNC. This may fail, cause incorrect answers, or produce other errors.\n",
      "WARNING: redefinition of constant ISSUPERTYPE. This may fail, cause incorrect answers, or produce other errors.\n",
      "WARNING: redefinition of constant NOT_AN_ELEMENT_OF. This may fail, cause incorrect answers, or produce other errors.\n",
      "WARNING: redefinition of constant R_RIGHT_ARROW. This may fail, cause incorrect answers, or produce other errors.\n",
      "WARNING: redefinition of constant LESS_THAN_ABOVE_DOUBLE_LINE_EQUAL_ABOVE_GREATER_THAN. This may fail, cause incorrect answers, or produce other errors.\n",
      "WARNING: redefinition of constant LEFT_RIGHT_DOUBLE_ARROW. This may fail, cause incorrect answers, or produce other errors.\n",
      "WARNING: redefinition of constant GREATER_THAN_ABOVE_SLANTED_EQUAL_ABOVE_LESS_THAN_ABOVE_SLANTED_EQUAL. This may fail, cause incorrect answers, or produce other errors.\n",
      "WARNING: redefinition of constant UNICODE_DOT. This may fail, cause incorrect answers, or produce other errors.\n",
      "WARNING: redefinition of constant DOWNWARDS_HARPOON_WITH_BARB_LEFT_BESIDE_UPWARDS_HARPOON_WITH_BARB_RIGHT. This may fail, cause incorrect answers, or produce other errors.\n",
      "WARNING: redefinition of constant LEFTWARDS_ARROW_ABOVE_REVERSE_TILDE_OPERATOR. This may fail, cause incorrect answers, or produce other errors.\n",
      "WARNING: redefinition of constant LEFT_ARROW_WITH_CIRCLED_PLUS. This may fail, cause incorrect answers, or produce other errors.\n",
      "WARNING: redefinition of constant LESS_THAN_ABOVE_SIMILAR_OR_EQUAL. This may fail, cause incorrect answers, or produce other errors.\n",
      "WARNING: redefinition of constant RING_EQUAL_TO. This may fail, cause incorrect answers, or produce other errors.\n",
      "WARNING: redefinition of constant MINUS_SIGN_WITH_RISING_DOTS. This may fail, cause incorrect answers, or produce other errors.\n",
      "WARNING: redefinition of constant GREATER_THAN_AND_NOT_APPROXIMATE. This may fail, cause incorrect answers, or produce other errors.\n",
      "WARNING: redefinition of constant TRANSVERSAL_INTERSECTION. This may fail, cause incorrect answers, or produce other errors.\n",
      "WARNING: redefinition of constant end_times. This may fail, cause incorrect answers, or produce other errors.\n",
      "WARNING: redefinition of constant UPWARDS_HARPOON_WITH_BARB_RIGHT_FROM_BAR. This may fail, cause incorrect answers, or produce other errors.\n",
      "WARNING: redefinition of constant SMALL_ELEMENT_OF. This may fail, cause incorrect answers, or produce other errors.\n",
      "WARNING: redefinition of constant SUPERSET_PRECEDING_SOLIDUS. This may fail, cause incorrect answers, or produce other errors.\n",
      "WARNING: redefinition of constant LEFTWARDS_HARPOON_WITH_BARB_DOWN_BELOW_LONG_DASH. This may fail, cause incorrect answers, or produce other errors.\n",
      "WARNING: redefinition of constant OR. This may fail, cause incorrect answers, or produce other errors.\n",
      "WARNING: redefinition of constant ISA. This may fail, cause incorrect answers, or produce other errors.\n",
      "WARNING: redefinition of constant LOGICAL_OR. This may fail, cause incorrect answers, or produce other errors.\n",
      "WARNING: redefinition of constant NOT_IS. This may fail, cause incorrect answers, or produce other errors.\n",
      "WARNING: redefinition of constant CIRCLE_ARROW_LEFT. This may fail, cause incorrect answers, or produce other errors.\n",
      "WARNING: redefinition of constant SIMILAR_OR_GREATER_THAN. This may fail, cause incorrect answers, or produce other errors.\n"
     ]
    },
    {
     "name": "stderr",
     "output_type": "stream",
     "text": [
      "WARNING: redefinition of constant NOT_NORMAL_SUBGROUP_OF_OR_EQUAL_TO. This may fail, cause incorrect answers, or produce other errors.\n",
      "WARNING: redefinition of constant HALFWIDTH_DOWNWARDS_ARROW. This may fail, cause incorrect answers, or produce other errors.\n",
      "WARNING: redefinition of constant ASYMPTOTICALLY_EQUAL_TO. This may fail, cause incorrect answers, or produce other errors.\n",
      "WARNING: redefinition of constant RIGHTWARDS_ARROW_WITH_TAIL_WITH_DOUBLE_VERTICAL_STROKE. This may fail, cause incorrect answers, or produce other errors.\n",
      "WARNING: redefinition of constant LEFTWARDS_OPEN_HEADED_ARROW. This may fail, cause incorrect answers, or produce other errors.\n",
      "WARNING: redefinition of constant LEFTWARDS_DOUBLE_ARROW_WITH_VERTICAL_STROKE. This may fail, cause incorrect answers, or produce other errors.\n",
      "WARNING: redefinition of constant LESS_THAN_OR_EQUIVALENT_TO. This may fail, cause incorrect answers, or produce other errors.\n",
      "WARNING: redefinition of constant UNION_WITH_LOGICAL_OR. This may fail, cause incorrect answers, or produce other errors.\n",
      "WARNING: redefinition of constant UPWARDS_HARPOON_WITH_BARB_LEFT_BESIDE_UPWARDS_HARPOON_WITH_BARB_RIGHT. This may fail, cause incorrect answers, or produce other errors.\n",
      "WARNING: redefinition of constant CONTAINS_AS_MEMBER. This may fail, cause incorrect answers, or produce other errors.\n",
      "WARNING: redefinition of constant LEFTWARDS_TRIPLE_DASH_ARROW. This may fail, cause incorrect answers, or produce other errors.\n",
      "WARNING: redefinition of constant LESS_THAN_WITH_CIRCLE_INSIDE. This may fail, cause incorrect answers, or produce other errors.\n",
      "WARNING: redefinition of constant GREATER_THAN_OR_SLANTED_EQUAL_TO_WITH_DOT_ABOVE_LEFT. This may fail, cause incorrect answers, or produce other errors.\n",
      "WARNING: redefinition of constant SLOPING_LARGE_AND. This may fail, cause incorrect answers, or produce other errors.\n",
      "WARNING: redefinition of constant SUBSET_ABOVE_SUPERSET. This may fail, cause incorrect answers, or produce other errors.\n",
      "WARNING: redefinition of constant LEFT_RIGHT_ARROW_WITH_STROKE. This may fail, cause incorrect answers, or produce other errors.\n",
      "WARNING: redefinition of constant REVERSED_TILDE. This may fail, cause incorrect answers, or produce other errors.\n",
      "WARNING: redefinition of constant GREATER_THAN_OR_SLANTED_EQUAL_TO_WITH_DOT_ABOVE. This may fail, cause incorrect answers, or produce other errors.\n",
      "WARNING: redefinition of constant DOWNWARDS_ARROW_WITH_HORIZONTAL_STROKE. This may fail, cause incorrect answers, or produce other errors.\n",
      "WARNING: redefinition of constant LEFTWARDS_ARROW_TO_BLACK_DIAMOND. This may fail, cause incorrect answers, or produce other errors.\n",
      "WARNING: redefinition of constant CIRCLED_TIMES. This may fail, cause incorrect answers, or produce other errors.\n",
      "WARNING: redefinition of constant REM. This may fail, cause incorrect answers, or produce other errors.\n",
      "WARNING: redefinition of constant LEFTWARDS_ARROW_WITH_TAIL_WITH_DOUBLE_VERTICAL_STROKE. This may fail, cause incorrect answers, or produce other errors.\n",
      "WARNING: redefinition of constant NOT_A_SUPERSET_OF. This may fail, cause incorrect answers, or produce other errors.\n",
      "WARNING: redefinition of constant LESS_THAN_BUT_NOT_EQUAL_TO. This may fail, cause incorrect answers, or produce other errors.\n",
      "WARNING: redefinition of constant INVERTED_LAZY_S. This may fail, cause incorrect answers, or produce other errors.\n",
      "WARNING: redefinition of constant SQUARE_IMAGE_OF. This may fail, cause incorrect answers, or produce other errors.\n",
      "WARNING: redefinition of constant RIGHTWARDS_HARPOON_WITH_BARB_DOWN_BELOW_LONG_DASH. This may fail, cause incorrect answers, or produce other errors.\n",
      "WARNING: redefinition of constant EQEQ. This may fail, cause incorrect answers, or produce other errors.\n",
      "WARNING: redefinition of constant DOUBLE_LINE_SLANTED_EQUAL_TO_OR_LESS_THAN. This may fail, cause incorrect answers, or produce other errors.\n",
      "WARNING: redefinition of constant GREATER_THAN_ABOVE_SIMILAR_OR_EQUAL. This may fail, cause incorrect answers, or produce other errors.\n",
      "WARNING: redefinition of constant PLUSPLUS. This may fail, cause incorrect answers, or produce other errors.\n",
      "WARNING: redefinition of constant CONTAINS_AS_NORMAL_SUBGROUP. This may fail, cause incorrect answers, or produce other errors.\n",
      "WARNING: redefinition of constant SUCCEEDS_ABOVE_SINGLE_LINE_NOT_EQUAL_TO. This may fail, cause incorrect answers, or produce other errors.\n",
      "WARNING: redefinition of constant DOUBLE_COLON_EQUAL. This may fail, cause incorrect answers, or produce other errors.\n",
      "WARNING: redefinition of constant PLUS_SIGN_WITH_BLACK_TRIANGLE. This may fail, cause incorrect answers, or produce other errors.\n",
      "WARNING: redefinition of constant INTERSECTION_WITH_LOGICAL_AND. This may fail, cause incorrect answers, or produce other errors.\n",
      "WARNING: redefinition of constant GREATER_THAN_WITH_CIRCLE_INSIDE. This may fail, cause incorrect answers, or produce other errors.\n",
      "WARNING: redefinition of constant DOUBLE_LINE_EQUAL_TO_OR_LESS_THAN. This may fail, cause incorrect answers, or produce other errors.\n",
      "WARNING: redefinition of constant DOES_NOT_PROVE. This may fail, cause incorrect answers, or produce other errors.\n",
      "WARNING: redefinition of constant LOGICAL_AND_WITH_HORIZONTAL_DASH. This may fail, cause incorrect answers, or produce other errors.\n",
      "WARNING: redefinition of constant SIMILAR_ABOVE_LESS_THAN_ABOVE_EQUALS_SIGN. This may fail, cause incorrect answers, or produce other errors.\n",
      "WARNING: redefinition of constant SUBSET_OF_ABOVE_NOT_EQUAL_TO. This may fail, cause incorrect answers, or produce other errors.\n",
      "WARNING: redefinition of constant LEFTWARDS_ARROW_FROM_BAR_TO_BLACK_DIAMOND. This may fail, cause incorrect answers, or produce other errors.\n",
      "WARNING: redefinition of constant RIGHTWARDS_HARPOON_WITH_BARB_UP_ABOVE_LEFTWARDS_HARPOON_WITH_BARB_UP. This may fail, cause incorrect answers, or produce other errors.\n",
      "WARNING: redefinition of constant MULTIPLICATION_SIGN_WITH_DOT_ABOVE. This may fail, cause incorrect answers, or produce other errors.\n",
      "WARNING: redefinition of constant SUPERSET_OF_ABOVE_TILDE_OPERATOR. This may fail, cause incorrect answers, or produce other errors.\n",
      "WARNING: redefinition of constant UPWARDS_ARROW_TO_BAR. This may fail, cause incorrect answers, or produce other errors.\n",
      "WARNING: redefinition of constant GREATER_THAN_EQUAL_TO_OR_LESS_THAN. This may fail, cause incorrect answers, or produce other errors.\n",
      "WARNING: redefinition of constant LEFTWARDS_ARROW_ABOVE_REVERSE_ALMOST_EQUAL_TO. This may fail, cause incorrect answers, or produce other errors.\n",
      "WARNING: redefinition of constant RIGHTWARDS_ARROW_ABOVE_REVERSE_ALMOST_EQUAL_TO. This may fail, cause incorrect answers, or produce other errors.\n",
      "WARNING: redefinition of constant SUCCEEDS. This may fail, cause incorrect answers, or produce other errors.\n",
      "WARNING: redefinition of constant CIRCLED_PLUS. This may fail, cause incorrect answers, or produce other errors.\n",
      "WARNING: redefinition of constant TILDE_OPERATOR_WITH_RISING_DOTS. This may fail, cause incorrect answers, or produce other errors.\n",
      "WARNING: redefinition of constant end_lazyor. This may fail, cause incorrect answers, or produce other errors.\n",
      "WARNING: redefinition of constant COLON. This may fail, cause incorrect answers, or produce other errors.\n",
      "WARNING: redefinition of constant LESS_THAN_OR_APPROXIMATE. This may fail, cause incorrect answers, or produce other errors.\n",
      "WARNING: redefinition of constant begin_comparison. This may fail, cause incorrect answers, or produce other errors.\n",
      "WARNING: redefinition of constant DOES_NOT_SUCCEED. This may fail, cause incorrect answers, or produce other errors.\n",
      "WARNING: redefinition of constant SUPERSET_OF_ABOVE_NOT_EQUAL_TO. This may fail, cause incorrect answers, or produce other errors.\n",
      "WARNING: redefinition of constant CURLY_LOGICAL_AND. This may fail, cause incorrect answers, or produce other errors.\n",
      "WARNING: redefinition of constant LEFTWARDS_TWO_HEADED_ARROW_WITH_DOUBLE_VERTICAL_STROKE. This may fail, cause incorrect answers, or produce other errors.\n",
      "WARNING: redefinition of constant IMAGE_OF_OR_APPROXIMATELY_EQUAL_TO. This may fail, cause incorrect answers, or produce other errors.\n",
      "WARNING: redefinition of constant VERY_MUCH_LESS_THAN. This may fail, cause incorrect answers, or produce other errors.\n",
      "WARNING: redefinition of constant CIRCLED_WHITE_BULLET. This may fail, cause incorrect answers, or produce other errors.\n",
      "WARNING: redefinition of constant IDENTICAL_WITH_DOT_ABOVE. This may fail, cause incorrect answers, or produce other errors.\n",
      "WARNING: redefinition of constant DOUBLE_SUPERSET. This may fail, cause incorrect answers, or produce other errors.\n",
      "WARNING: redefinition of constant DOWNWARDS_ARROW_LEFTWARDS_OF_UPWARDS_ARROW. This may fail, cause incorrect answers, or produce other errors.\n",
      "WARNING: redefinition of constant DOES_NOT_CONTAIN_AS_NORMAL_SUBGROUP. This may fail, cause incorrect answers, or produce other errors.\n",
      "WARNING: redefinition of constant CLOSED_INTERSECTION_WITH_SERIFS. This may fail, cause incorrect answers, or produce other errors.\n",
      "WARNING: redefinition of constant begin_times. This may fail, cause incorrect answers, or produce other errors.\n",
      "WARNING: redefinition of constant TWO_INTERSECTING_LOGICAL_OR. This may fail, cause incorrect answers, or produce other errors.\n",
      "WARNING: redefinition of constant NEITHER_GREATER_THAN_NOR_EQUAL_TO. This may fail, cause incorrect answers, or produce other errors.\n",
      "WARNING: redefinition of constant RIGHTWARDS_HARPOON_WITH_BARB_UP_FROM_BAR. This may fail, cause incorrect answers, or produce other errors.\n",
      "WARNING: redefinition of constant CORRESPONDS_TO. This may fail, cause incorrect answers, or produce other errors.\n",
      "WARNING: redefinition of constant Z_NOTATION_BAG_MEMBERSHIP. This may fail, cause incorrect answers, or produce other errors.\n",
      "WARNING: redefinition of constant ESTIMATES. This may fail, cause incorrect answers, or produce other errors.\n",
      "WARNING: redefinition of constant REVERSE_TILDE_OPERATOR_ABOVE_LEFTWARDS_ARROW. This may fail, cause incorrect answers, or produce other errors.\n",
      "WARNING: redefinition of constant CURLOPT_LASTENTRY. This may fail, cause incorrect answers, or produce other errors.\n",
      "┌ Error: Failed to revise C:\\Users\\liyux\\.julia\\packages\\CommonMark\\Cmk5S\\src\\parsers\\blocks.jl\n",
      "│   exception = Revise.ReviseEvalException(\"C:\\\\Users\\\\liyux\\\\.julia\\\\packages\\\\CommonMark\\\\Cmk5S\\\\src\\\\parsers\\\\blocks.jl:29\", ErrorException(\"invalid redefinition of type Parser\"), Any[(top-level scope at blocks.jl:29, 1)])\n",
      "└ @ Revise C:\\Users\\liyux\\.julia\\packages\\Revise\\3RMhb\\src\\packagedef.jl:714\n"
     ]
    },
    {
     "name": "stderr",
     "output_type": "stream",
     "text": [
      "┌ Error: Failed to revise C:\\Users\\liyux\\.julia\\packages\\CommonMark\\Cmk5S\\src\\CommonMark.jl\n",
      "│   exception = Revise.ReviseEvalException(\"C:\\\\Users\\\\liyux\\\\.julia\\\\packages\\\\CommonMark\\\\Cmk5S\\\\src\\\\CommonMark.jl:3\", ArgumentError(\"Package CommonMark does not have URIs in its dependencies:\\n- If you have CommonMark checked out for development and have\\n  added URIs as a dependency but haven't updated your primary\\n  environment's manifest file, try `Pkg.resolve()`.\\n- Otherwise you may need to report an issue with CommonMark\"), Any[(top-level scope at CommonMark.jl:3, 1)])\n",
      "└ @ Revise C:\\Users\\liyux\\.julia\\packages\\Revise\\3RMhb\\src\\packagedef.jl:714\n",
      "┌ Error: Failed to revise C:\\Users\\liyux\\.julia\\packages\\Tokenize\\FGrTw\\src\\lexer.jl\n",
      "│   exception = Revise.ReviseEvalException(\"C:\\\\Users\\\\liyux\\\\.julia\\\\packages\\\\Tokenize\\\\FGrTw\\\\src\\\\lexer.jl:1105\", TypeError(:typeassert, \"\", JuliaInterpreter.FrameCode, 306 => :ALMOST_EQUAL_OR_EQUAL_TO), Any[(Symbol(::Tokenize.Tokens.Kind) at Enums.jl:26, 1), (print(::Base.GenericIOBuffer{Array{UInt8,1}}, ::Tokenize.Tokens.Kind) at Enums.jl:28, 1), (print_to_string(::Tuple{Tokenize.Tokens.Kind}) at io.jl:135, 1), (string(::Tuple{Tokenize.Tokens.Kind}) at io.jl:174, 1), ((::Tokenize.Lexers.var\"#3#4\")(::Tokenize.Tokens.Kind) at none:0, 1), (iterate(::Base.Generator{Array{Tokenize.Tokens.Kind,1},Tokenize.Lexers.var\"#3#4\"}, ::Tuple{}) at generator.jl:47, 1), (_all(::Base.var\"#256#258\", ::Base.Generator{Array{Tokenize.Tokens.Kind,1},Tokenize.Lexers.var\"#3#4\"}, ::Colon) at reduce.jl:827, 1), (all(::Base.var\"#256#258\", ::Base.Generator{Array{Tokenize.Tokens.Kind,1},Tokenize.Lexers.var\"#3#4\"}) at reduce.jl:823, 1), (Dict(::Base.Generator{Array{Tokenize.Tokens.Kind,1},Tokenize.Lexers.var\"#3#4\"}) at dict.jl:130, 1), (top-level scope at lexer.jl:1105, 1)])\n",
      "└ @ Revise C:\\Users\\liyux\\.julia\\packages\\Revise\\3RMhb\\src\\packagedef.jl:714\n",
      "┌ Error: Failed to revise C:\\Users\\liyux\\.julia\\packages\\JuliaFormatter\\n6Lz2\\src\\options.jl\n",
      "│   exception = Revise.ReviseEvalException(\"C:\\\\Users\\\\liyux\\\\Documents\\\\GitHub\\\\ComputationalHeatTransfer.jl\\\\src\\\\util.jl:459\", ErrorException(\"invalid redefinition of constant Options\"), Any[(top-level scope at util.jl:459, 1)])\n",
      "└ @ Revise C:\\Users\\liyux\\.julia\\packages\\Revise\\3RMhb\\src\\packagedef.jl:714\n",
      "┌ Warning: The running code does not match the saved version for the following files:\n",
      "│ \n",
      "│   C:\\Users\\liyux\\.julia\\packages\\CommonMark\\Cmk5S\\src\\CommonMark.jl\n",
      "│   C:\\Users\\liyux\\.julia\\packages\\JuliaFormatter\\n6Lz2\\src\\options.jl\n",
      "│   C:\\Users\\liyux\\.julia\\packages\\CommonMark\\Cmk5S\\src\\parsers\\blocks.jl\n",
      "│   C:\\Users\\liyux\\.julia\\packages\\Tokenize\\FGrTw\\src\\lexer.jl\n",
      "│ \n",
      "│ If the error was due to evaluation order, it can sometimes be resolved by calling `Revise.retry()`.\n",
      "│ Use Revise.errors() to report errors again. Only the first error in each file is shown.\n",
      "│ Your prompt color may be yellow until the errors are resolved.\n",
      "└ @ Revise C:\\Users\\liyux\\.julia\\packages\\Revise\\3RMhb\\src\\packagedef.jl:824\n"
     ]
    }
   ],
   "source": [
    "using ComputationalHeatTransfer\n",
    "using LaTeXStrings\n",
    "using Revise\n",
    "using LinearAlgebra\n",
    "using DifferentialEquations\n",
    "using Interpolations\n",
    "using JLD2\n",
    "\n",
    "\n",
    "cd(dirname(pwd()))\n",
    "cd(\"src\") \n",
    "includet(\"OneDOHP.jl\")\n",
    "using ..OneDOHP"
   ]
  },
  {
   "cell_type": "code",
   "execution_count": 113,
   "id": "2aee11be",
   "metadata": {},
   "outputs": [
    {
     "data": {
      "text/plain": [
       "Plots.GRBackend()"
      ]
     },
     "execution_count": 113,
     "metadata": {},
     "output_type": "execute_result"
    }
   ],
   "source": [
    "using Plots\n",
    "gr()  "
   ]
  },
  {
   "cell_type": "markdown",
   "id": "2ede4c51",
   "metadata": {},
   "source": [
    "## unit test\n",
    "### test liquid h and vapor h in a one-loop OHP heating problem-with no dynamics\n",
    "### plate temperature:  constant uniform 296 K, tube initial temperature uniform 295 K "
   ]
  },
  {
   "cell_type": "markdown",
   "id": "8bd7eb4c",
   "metadata": {},
   "source": [
    "### conduction only"
   ]
  },
  {
   "cell_type": "markdown",
   "id": "119ffca0",
   "metadata": {},
   "source": [
    "# Properies"
   ]
  },
  {
   "cell_type": "code",
   "execution_count": 114,
   "id": "68c36fe5",
   "metadata": {},
   "outputs": [],
   "source": [
    "tube_d = 1e-3; # tube diameter"
   ]
  },
  {
   "cell_type": "markdown",
   "id": "2f4a8fd5",
   "metadata": {},
   "source": [
    "### Solid Physical parameters"
   ]
  },
  {
   "cell_type": "code",
   "execution_count": 115,
   "id": "3bebddb7",
   "metadata": {},
   "outputs": [
    {
     "data": {
      "text/plain": [
       "HeatConductionParameters(2700.0, 897.0, 167.0, 6.895412692514142e-5, 0.001)"
      ]
     },
     "execution_count": 115,
     "metadata": {},
     "output_type": "execute_result"
    }
   ],
   "source": [
    "ρ = 2700; # density\n",
    "c = 8.97e02; # specific heat\n",
    "k = 1.67e02; # heat conductivity\n",
    "# d = 2e-3;\n",
    "plate_d = 1e-3;  # plate thickness\n",
    "params = HeatConductionParameters(ρ,c,k,thickness=plate_d)"
   ]
  },
  {
   "cell_type": "markdown",
   "id": "66df027a",
   "metadata": {},
   "source": [
    "### Fluid Physical parameters"
   ]
  },
  {
   "cell_type": "code",
   "execution_count": 116,
   "id": "e92a6a88",
   "metadata": {},
   "outputs": [
    {
     "data": {
      "text/plain": [
       "295.0"
      ]
     },
     "execution_count": 116,
     "metadata": {},
     "output_type": "execute_result"
    }
   ],
   "source": [
    "fluid_type = \"butane\"\n",
    "Tᵥ = 295.0"
   ]
  },
  {
   "cell_type": "code",
   "execution_count": 117,
   "id": "1b8e31b7",
   "metadata": {},
   "outputs": [],
   "source": [
    "Cpₗ = CoolProp.PropsSI(\"CPMASS\",\"T\",Tᵥ,\"Q\",0.0,fluid_type)\n",
    "ρₗ  = CoolProp.PropsSI(\"D\",\"T\",Tᵥ,\"Q\",0.0,fluid_type)\n",
    "μₗ  = CoolProp.PropsSI(\"V\",\"T\",Tᵥ,\"Q\",0.0,fluid_type)\n",
    "hₗ = CoolProp.PropsSI(\"H\",\"T\",Tᵥ,\"Q\",0.0,fluid_type)\n",
    "kₗ = CoolProp.PropsSI(\"CONDUCTIVITY\",\"T\",Tᵥ,\"Q\",0.0,fluid_type)\n",
    "Prₗ = CoolProp.PropsSI(\"PRANDTL\",\"T\",Tᵥ,\"Q\",0.0,fluid_type)\n",
    "\n",
    "Cpᵥ = CoolProp.PropsSI(\"CPMASS\",\"T\",Tᵥ,\"Q\",1.0,fluid_type)\n",
    "ρᵥ  = CoolProp.PropsSI(\"D\",\"T\",Tᵥ,\"Q\",1.0,fluid_type)\n",
    "μᵥ  = CoolProp.PropsSI(\"V\",\"T\",Tᵥ,\"Q\",1.0,fluid_type);\n",
    "hᵥ = CoolProp.PropsSI(\"H\",\"T\",Tᵥ,\"Q\",1.0,fluid_type)\n",
    "kᵥ = CoolProp.PropsSI(\"CONDUCTIVITY\",\"T\",Tᵥ,\"Q\",1.0,fluid_type)\n",
    "Prᵥ = CoolProp.PropsSI(\"PRANDTL\",\"T\",Tᵥ,\"Q\",1.0,fluid_type)\n",
    "\n",
    "σ = CoolProp.PropsSI(\"I\",\"T\",Tᵥ,\"Q\",0.0,fluid_type)\n",
    "P = CoolProp.PropsSI(\"P\",\"T\",Tᵥ,\"Q\",0.0,fluid_type)\n",
    "R = CoolProp.PropsSI(\"GAS_CONSTANT\",\"T\",Tᵥ,\"Q\",1.0,fluid_type)\n",
    "M = CoolProp.PropsSI(\"M\",\"T\",Tᵥ,\"Q\",1.0,fluid_type)\n",
    "Rkg = R/M\n",
    "\n",
    "νₗ = μₗ/ρₗ\n",
    "νᵥ = μᵥ/ρᵥ;\n",
    "hₗᵥ = hᵥ-hₗ;"
   ]
  },
  {
   "cell_type": "markdown",
   "id": "b367fc8c",
   "metadata": {},
   "source": [
    "# Plate Conduction"
   ]
  },
  {
   "cell_type": "markdown",
   "id": "adb4cef7",
   "metadata": {},
   "source": [
    "### Geometry parameters"
   ]
  },
  {
   "cell_type": "code",
   "execution_count": 118,
   "id": "c71deb68",
   "metadata": {},
   "outputs": [],
   "source": [
    "Lx = 0.1524; # plate size x\n",
    "Ly = 0.0648; # plate size y"
   ]
  },
  {
   "cell_type": "code",
   "execution_count": 119,
   "id": "f7b13eba",
   "metadata": {},
   "outputs": [
    {
     "data": {
      "text/plain": [
       "(0.0005516330154011314, 0.001323919236962715)"
      ]
     },
     "execution_count": 119,
     "metadata": {},
     "output_type": "execute_result"
    }
   ],
   "source": [
    "xlim = (-Lx/2,Lx/2) .*1.0\n",
    "ylim = (-Ly/2,Ly/2) .*1.0\n",
    "Δx, Δt = setstepsizes(params.α,gridPe=8.0,fourier=0.3)\n"
   ]
  },
  {
   "cell_type": "markdown",
   "id": "8c6ed8f5",
   "metadata": {},
   "source": [
    "### Set up the evaporator and condenser"
   ]
  },
  {
   "cell_type": "code",
   "execution_count": 120,
   "id": "6bcec393",
   "metadata": {},
   "outputs": [],
   "source": [
    "inch = 2.54e-2;"
   ]
  },
  {
   "cell_type": "code",
   "execution_count": 121,
   "id": "76f7dca6",
   "metadata": {},
   "outputs": [],
   "source": [
    "power = 40 #watts\n",
    "total_heater_area = 2.0inch*2.0inch;"
   ]
  },
  {
   "cell_type": "code",
   "execution_count": 122,
   "id": "d552ebfa",
   "metadata": {},
   "outputs": [
    {
     "data": {
      "text/plain": [
       "295.0"
      ]
     },
     "execution_count": 122,
     "metadata": {},
     "output_type": "execute_result"
    }
   ],
   "source": [
    "qe = power/total_heater_area\n",
    "hc = 1500.0\n",
    "Tc = Tᵥ"
   ]
  },
  {
   "cell_type": "code",
   "execution_count": 123,
   "id": "b7432ab4",
   "metadata": {},
   "outputs": [],
   "source": [
    "eb1 = Rectangle(0.5inch,1.0inch,1.5*Δx)\n",
    "Tfe = RigidTransform((0.7inch,-0.0),0.0)\n",
    "Tfe(eb1)\n",
    "\n",
    "eb2 = Rectangle(0.5inch,1.0inch,1.5*Δx)\n",
    "Tfe = RigidTransform((-0.7inch,-0.0),0.0)\n",
    "Tfe(eb2)\n",
    "\n",
    "cb1 = Rectangle(0.5inch*0.9,Ly*0.9/2,1.5*Δx)\n",
    "Tfc = RigidTransform((-2.5inch,-0.0),0.0)\n",
    "Tfc(cb1)\n",
    "\n",
    "cb2 = Rectangle(0.5inch*0.9,Ly*0.9/2,1.5*Δx)\n",
    "Tfc = RigidTransform((2.5inch,-0.0),0.0)\n",
    "Tfc(cb2)\n",
    "\n",
    "eparams1 = PrescribedHeatFluxRegion(qe,eb1);\n",
    "eparams2 = PrescribedHeatFluxRegion(qe,eb2);\n",
    "cparams1 = PrescribedHeatModelRegion(hc,Tc,cb1);\n",
    "cparams2 = PrescribedHeatModelRegion(hc,Tc,cb2);"
   ]
  },
  {
   "cell_type": "markdown",
   "id": "60c0b251",
   "metadata": {},
   "source": [
    "### Set up the OHP"
   ]
  },
  {
   "cell_type": "code",
   "execution_count": 124,
   "id": "4ddeb144",
   "metadata": {},
   "outputs": [
    {
     "data": {
      "text/plain": [
       "Basic pointwise-specified body with 362 points\n",
       "   Current position: (0.0,0.0)\n",
       "   Current angle (rad): 0.0\n"
      ]
     },
     "execution_count": 124,
     "metadata": {},
     "output_type": "execute_result"
    }
   ],
   "source": [
    "ds = 1.5Δx\n",
    "nturn = 16\n",
    "width_ohp = 46.25*1e-3\n",
    "length_ohp = 133.83*1e-3\n",
    "gap = plate_d\n",
    "pitch = width_ohp/(2*nturn+1)\n",
    "x0, y0 = length_ohp/2, width_ohp/2\n",
    "\n",
    "# x, y, xf, yf = ComputationalHeatTransfer.construct_ohp_curve(nturn,pitch,length_ohp,gap,ds,x0,y0,false,false,3pi/2)\n",
    "one_loop_gap = 10*plate_d\n",
    "x, y, xf, yf = construct_oneloop_curve(0,0,ds,length_ohp,one_loop_gap,pi/2)\n",
    "\n",
    "\n",
    "ohp = BasicBody(x,y)"
   ]
  },
  {
   "cell_type": "code",
   "execution_count": 125,
   "id": "bb0ccf07",
   "metadata": {},
   "outputs": [
    {
     "data": {
      "image/svg+xml": [
       "<?xml version=\"1.0\" encoding=\"utf-8\"?>\n",
       "<svg xmlns=\"http://www.w3.org/2000/svg\" xmlns:xlink=\"http://www.w3.org/1999/xlink\" width=\"600\" height=\"400\" viewBox=\"0 0 2400 1600\">\n",
       "<defs>\n",
       "  <clipPath id=\"clip310\">\n",
       "    <rect x=\"0\" y=\"0\" width=\"2400\" height=\"1600\"/>\n",
       "  </clipPath>\n",
       "</defs>\n",
       "<path clip-path=\"url(#clip310)\" d=\"\n",
       "M0 1600 L2400 1600 L2400 0 L0 0  Z\n",
       "  \" fill=\"#ffffff\" fill-rule=\"evenodd\" fill-opacity=\"1\"/>\n",
       "<defs>\n",
       "  <clipPath id=\"clip311\">\n",
       "    <rect x=\"480\" y=\"0\" width=\"1681\" height=\"1600\"/>\n",
       "  </clipPath>\n",
       "</defs>\n",
       "<path clip-path=\"url(#clip310)\" d=\"\n",
       "M223.45 1219.53 L2352.76 1219.53 L2352.76 314.159 L223.45 314.159  Z\n",
       "  \" fill=\"#ffffff\" fill-rule=\"evenodd\" fill-opacity=\"1\"/>\n",
       "<defs>\n",
       "  <clipPath id=\"clip312\">\n",
       "    <rect x=\"223\" y=\"314\" width=\"2130\" height=\"906\"/>\n",
       "  </clipPath>\n",
       "</defs>\n",
       "<polyline clip-path=\"url(#clip310)\" style=\"stroke:#000000; stroke-linecap:butt; stroke-linejoin:round; stroke-width:4; stroke-opacity:1; fill:none\" points=\"\n",
       "  223.45,1219.53 2352.76,1219.53 \n",
       "  \"/>\n",
       "<polyline clip-path=\"url(#clip310)\" style=\"stroke:#000000; stroke-linecap:butt; stroke-linejoin:round; stroke-width:4; stroke-opacity:1; fill:none\" points=\"\n",
       "  223.45,314.159 2352.76,314.159 \n",
       "  \"/>\n",
       "<polyline clip-path=\"url(#clip310)\" style=\"stroke:#000000; stroke-linecap:butt; stroke-linejoin:round; stroke-width:4; stroke-opacity:1; fill:none\" points=\"\n",
       "  449.793,1219.53 449.793,1207.64 \n",
       "  \"/>\n",
       "<polyline clip-path=\"url(#clip310)\" style=\"stroke:#000000; stroke-linecap:butt; stroke-linejoin:round; stroke-width:4; stroke-opacity:1; fill:none\" points=\"\n",
       "  729.23,1219.53 729.23,1207.64 \n",
       "  \"/>\n",
       "<polyline clip-path=\"url(#clip310)\" style=\"stroke:#000000; stroke-linecap:butt; stroke-linejoin:round; stroke-width:4; stroke-opacity:1; fill:none\" points=\"\n",
       "  1008.67,1219.53 1008.67,1207.64 \n",
       "  \"/>\n",
       "<polyline clip-path=\"url(#clip310)\" style=\"stroke:#000000; stroke-linecap:butt; stroke-linejoin:round; stroke-width:4; stroke-opacity:1; fill:none\" points=\"\n",
       "  1288.1,1219.53 1288.1,1207.64 \n",
       "  \"/>\n",
       "<polyline clip-path=\"url(#clip310)\" style=\"stroke:#000000; stroke-linecap:butt; stroke-linejoin:round; stroke-width:4; stroke-opacity:1; fill:none\" points=\"\n",
       "  1567.54,1219.53 1567.54,1207.64 \n",
       "  \"/>\n",
       "<polyline clip-path=\"url(#clip310)\" style=\"stroke:#000000; stroke-linecap:butt; stroke-linejoin:round; stroke-width:4; stroke-opacity:1; fill:none\" points=\"\n",
       "  1846.98,1219.53 1846.98,1207.64 \n",
       "  \"/>\n",
       "<polyline clip-path=\"url(#clip310)\" style=\"stroke:#000000; stroke-linecap:butt; stroke-linejoin:round; stroke-width:4; stroke-opacity:1; fill:none\" points=\"\n",
       "  2126.41,1219.53 2126.41,1207.64 \n",
       "  \"/>\n",
       "<path clip-path=\"url(#clip310)\" d=\"M381.159 1265.1 L410.835 1265.1 L410.835 1269.04 L381.159 1269.04 L381.159 1265.1 Z\" fill=\"#000000\" fill-rule=\"evenodd\" fill-opacity=\"1\" /><path clip-path=\"url(#clip310)\" d=\"M430.928 1250.45 Q427.317 1250.45 425.488 1254.02 Q423.682 1257.56 423.682 1264.69 Q423.682 1271.79 425.488 1275.36 Q427.317 1278.9 430.928 1278.9 Q434.562 1278.9 436.367 1275.36 Q438.196 1271.79 438.196 1264.69 Q438.196 1257.56 436.367 1254.02 Q434.562 1250.45 430.928 1250.45 M430.928 1246.75 Q436.738 1246.75 439.793 1251.35 Q442.872 1255.94 442.872 1264.69 Q442.872 1273.41 439.793 1278.02 Q436.738 1282.6 430.928 1282.6 Q425.118 1282.6 422.039 1278.02 Q418.983 1273.41 418.983 1264.69 Q418.983 1255.94 422.039 1251.35 Q425.118 1246.75 430.928 1246.75 Z\" fill=\"#000000\" fill-rule=\"evenodd\" fill-opacity=\"1\" /><path clip-path=\"url(#clip310)\" d=\"M451.09 1276.05 L455.974 1276.05 L455.974 1281.93 L451.09 1281.93 L451.09 1276.05 Z\" fill=\"#000000\" fill-rule=\"evenodd\" fill-opacity=\"1\" /><path clip-path=\"url(#clip310)\" d=\"M476.159 1250.45 Q472.548 1250.45 470.719 1254.02 Q468.914 1257.56 468.914 1264.69 Q468.914 1271.79 470.719 1275.36 Q472.548 1278.9 476.159 1278.9 Q479.793 1278.9 481.599 1275.36 Q483.427 1271.79 483.427 1264.69 Q483.427 1257.56 481.599 1254.02 Q479.793 1250.45 476.159 1250.45 M476.159 1246.75 Q481.969 1246.75 485.025 1251.35 Q488.103 1255.94 488.103 1264.69 Q488.103 1273.41 485.025 1278.02 Q481.969 1282.6 476.159 1282.6 Q470.349 1282.6 467.27 1278.02 Q464.215 1273.41 464.215 1264.69 Q464.215 1255.94 467.27 1251.35 Q470.349 1246.75 476.159 1246.75 Z\" fill=\"#000000\" fill-rule=\"evenodd\" fill-opacity=\"1\" /><path clip-path=\"url(#clip310)\" d=\"M506.899 1262.79 Q503.751 1262.79 501.9 1264.94 Q500.071 1267.1 500.071 1270.85 Q500.071 1274.57 501.9 1276.75 Q503.751 1278.9 506.899 1278.9 Q510.048 1278.9 511.876 1276.75 Q513.728 1274.57 513.728 1270.85 Q513.728 1267.1 511.876 1264.94 Q510.048 1262.79 506.899 1262.79 M516.182 1248.14 L516.182 1252.4 Q514.423 1251.56 512.617 1251.12 Q510.835 1250.68 509.075 1250.68 Q504.446 1250.68 501.992 1253.81 Q499.562 1256.93 499.214 1263.25 Q500.58 1261.24 502.64 1260.17 Q504.7 1259.09 507.177 1259.09 Q512.386 1259.09 515.395 1262.26 Q518.427 1265.41 518.427 1270.85 Q518.427 1276.17 515.279 1279.39 Q512.131 1282.6 506.899 1282.6 Q500.904 1282.6 497.733 1278.02 Q494.562 1273.41 494.562 1264.69 Q494.562 1256.49 498.45 1251.63 Q502.339 1246.75 508.89 1246.75 Q510.649 1246.75 512.432 1247.1 Q514.237 1247.44 516.182 1248.14 Z\" fill=\"#000000\" fill-rule=\"evenodd\" fill-opacity=\"1\" /><path clip-path=\"url(#clip310)\" d=\"M660.434 1265.1 L690.11 1265.1 L690.11 1269.04 L660.434 1269.04 L660.434 1265.1 Z\" fill=\"#000000\" fill-rule=\"evenodd\" fill-opacity=\"1\" /><path clip-path=\"url(#clip310)\" d=\"M710.202 1250.45 Q706.591 1250.45 704.762 1254.02 Q702.957 1257.56 702.957 1264.69 Q702.957 1271.79 704.762 1275.36 Q706.591 1278.9 710.202 1278.9 Q713.836 1278.9 715.642 1275.36 Q717.471 1271.79 717.471 1264.69 Q717.471 1257.56 715.642 1254.02 Q713.836 1250.45 710.202 1250.45 M710.202 1246.75 Q716.012 1246.75 719.068 1251.35 Q722.147 1255.94 722.147 1264.69 Q722.147 1273.41 719.068 1278.02 Q716.012 1282.6 710.202 1282.6 Q704.392 1282.6 701.313 1278.02 Q698.258 1273.41 698.258 1264.69 Q698.258 1255.94 701.313 1251.35 Q704.392 1246.75 710.202 1246.75 Z\" fill=\"#000000\" fill-rule=\"evenodd\" fill-opacity=\"1\" /><path clip-path=\"url(#clip310)\" d=\"M730.364 1276.05 L735.248 1276.05 L735.248 1281.93 L730.364 1281.93 L730.364 1276.05 Z\" fill=\"#000000\" fill-rule=\"evenodd\" fill-opacity=\"1\" /><path clip-path=\"url(#clip310)\" d=\"M755.433 1250.45 Q751.822 1250.45 749.994 1254.02 Q748.188 1257.56 748.188 1264.69 Q748.188 1271.79 749.994 1275.36 Q751.822 1278.9 755.433 1278.9 Q759.068 1278.9 760.873 1275.36 Q762.702 1271.79 762.702 1264.69 Q762.702 1257.56 760.873 1254.02 Q759.068 1250.45 755.433 1250.45 M755.433 1246.75 Q761.244 1246.75 764.299 1251.35 Q767.378 1255.94 767.378 1264.69 Q767.378 1273.41 764.299 1278.02 Q761.244 1282.6 755.433 1282.6 Q749.623 1282.6 746.545 1278.02 Q743.489 1273.41 743.489 1264.69 Q743.489 1255.94 746.545 1251.35 Q749.623 1246.75 755.433 1246.75 Z\" fill=\"#000000\" fill-rule=\"evenodd\" fill-opacity=\"1\" /><path clip-path=\"url(#clip310)\" d=\"M788.442 1251.45 L776.637 1269.9 L788.442 1269.9 L788.442 1251.45 M787.216 1247.37 L793.095 1247.37 L793.095 1269.9 L798.026 1269.9 L798.026 1273.79 L793.095 1273.79 L793.095 1281.93 L788.442 1281.93 L788.442 1273.79 L772.841 1273.79 L772.841 1269.27 L787.216 1247.37 Z\" fill=\"#000000\" fill-rule=\"evenodd\" fill-opacity=\"1\" /><path clip-path=\"url(#clip310)\" d=\"M940.912 1265.1 L970.588 1265.1 L970.588 1269.04 L940.912 1269.04 L940.912 1265.1 Z\" fill=\"#000000\" fill-rule=\"evenodd\" fill-opacity=\"1\" /><path clip-path=\"url(#clip310)\" d=\"M990.68 1250.45 Q987.069 1250.45 985.241 1254.02 Q983.435 1257.56 983.435 1264.69 Q983.435 1271.79 985.241 1275.36 Q987.069 1278.9 990.68 1278.9 Q994.315 1278.9 996.12 1275.36 Q997.949 1271.79 997.949 1264.69 Q997.949 1257.56 996.12 1254.02 Q994.315 1250.45 990.68 1250.45 M990.68 1246.75 Q996.49 1246.75 999.546 1251.35 Q1002.62 1255.94 1002.62 1264.69 Q1002.62 1273.41 999.546 1278.02 Q996.49 1282.6 990.68 1282.6 Q984.87 1282.6 981.791 1278.02 Q978.736 1273.41 978.736 1264.69 Q978.736 1255.94 981.791 1251.35 Q984.87 1246.75 990.68 1246.75 Z\" fill=\"#000000\" fill-rule=\"evenodd\" fill-opacity=\"1\" /><path clip-path=\"url(#clip310)\" d=\"M1010.84 1276.05 L1015.73 1276.05 L1015.73 1281.93 L1010.84 1281.93 L1010.84 1276.05 Z\" fill=\"#000000\" fill-rule=\"evenodd\" fill-opacity=\"1\" /><path clip-path=\"url(#clip310)\" d=\"M1035.91 1250.45 Q1032.3 1250.45 1030.47 1254.02 Q1028.67 1257.56 1028.67 1264.69 Q1028.67 1271.79 1030.47 1275.36 Q1032.3 1278.9 1035.91 1278.9 Q1039.55 1278.9 1041.35 1275.36 Q1043.18 1271.79 1043.18 1264.69 Q1043.18 1257.56 1041.35 1254.02 Q1039.55 1250.45 1035.91 1250.45 M1035.91 1246.75 Q1041.72 1246.75 1044.78 1251.35 Q1047.86 1255.94 1047.86 1264.69 Q1047.86 1273.41 1044.78 1278.02 Q1041.72 1282.6 1035.91 1282.6 Q1030.1 1282.6 1027.02 1278.02 Q1023.97 1273.41 1023.97 1264.69 Q1023.97 1255.94 1027.02 1251.35 Q1030.1 1246.75 1035.91 1246.75 Z\" fill=\"#000000\" fill-rule=\"evenodd\" fill-opacity=\"1\" /><path clip-path=\"url(#clip310)\" d=\"M1060.1 1278 L1076.42 1278 L1076.42 1281.93 L1054.48 1281.93 L1054.48 1278 Q1057.14 1275.24 1061.72 1270.61 Q1066.33 1265.96 1067.51 1264.62 Q1069.75 1262.1 1070.63 1260.36 Q1071.54 1258.6 1071.54 1256.91 Q1071.54 1254.16 1069.59 1252.42 Q1067.67 1250.68 1064.57 1250.68 Q1062.37 1250.68 1059.92 1251.45 Q1057.49 1252.21 1054.71 1253.76 L1054.71 1249.04 Q1057.53 1247.91 1059.99 1247.33 Q1062.44 1246.75 1064.48 1246.75 Q1069.85 1246.75 1073.04 1249.43 Q1076.24 1252.12 1076.24 1256.61 Q1076.24 1258.74 1075.43 1260.66 Q1074.64 1262.56 1072.53 1265.15 Q1071.95 1265.82 1068.85 1269.04 Q1065.75 1272.23 1060.1 1278 Z\" fill=\"#000000\" fill-rule=\"evenodd\" fill-opacity=\"1\" /><path clip-path=\"url(#clip310)\" d=\"M1250.41 1250.45 Q1246.8 1250.45 1244.97 1254.02 Q1243.16 1257.56 1243.16 1264.69 Q1243.16 1271.79 1244.97 1275.36 Q1246.8 1278.9 1250.41 1278.9 Q1254.04 1278.9 1255.85 1275.36 Q1257.67 1271.79 1257.67 1264.69 Q1257.67 1257.56 1255.85 1254.02 Q1254.04 1250.45 1250.41 1250.45 M1250.41 1246.75 Q1256.22 1246.75 1259.27 1251.35 Q1262.35 1255.94 1262.35 1264.69 Q1262.35 1273.41 1259.27 1278.02 Q1256.22 1282.6 1250.41 1282.6 Q1244.6 1282.6 1241.52 1278.02 Q1238.46 1273.41 1238.46 1264.69 Q1238.46 1255.94 1241.52 1251.35 Q1244.6 1246.75 1250.41 1246.75 Z\" fill=\"#000000\" fill-rule=\"evenodd\" fill-opacity=\"1\" /><path clip-path=\"url(#clip310)\" d=\"M1270.57 1276.05 L1275.45 1276.05 L1275.45 1281.93 L1270.57 1281.93 L1270.57 1276.05 Z\" fill=\"#000000\" fill-rule=\"evenodd\" fill-opacity=\"1\" /><path clip-path=\"url(#clip310)\" d=\"M1295.64 1250.45 Q1292.03 1250.45 1290.2 1254.02 Q1288.39 1257.56 1288.39 1264.69 Q1288.39 1271.79 1290.2 1275.36 Q1292.03 1278.9 1295.64 1278.9 Q1299.27 1278.9 1301.08 1275.36 Q1302.91 1271.79 1302.91 1264.69 Q1302.91 1257.56 1301.08 1254.02 Q1299.27 1250.45 1295.64 1250.45 M1295.64 1246.75 Q1301.45 1246.75 1304.5 1251.35 Q1307.58 1255.94 1307.58 1264.69 Q1307.58 1273.41 1304.5 1278.02 Q1301.45 1282.6 1295.64 1282.6 Q1289.83 1282.6 1286.75 1278.02 Q1283.69 1273.41 1283.69 1264.69 Q1283.69 1255.94 1286.75 1251.35 Q1289.83 1246.75 1295.64 1246.75 Z\" fill=\"#000000\" fill-rule=\"evenodd\" fill-opacity=\"1\" /><path clip-path=\"url(#clip310)\" d=\"M1325.8 1250.45 Q1322.19 1250.45 1320.36 1254.02 Q1318.55 1257.56 1318.55 1264.69 Q1318.55 1271.79 1320.36 1275.36 Q1322.19 1278.9 1325.8 1278.9 Q1329.43 1278.9 1331.24 1275.36 Q1333.07 1271.79 1333.07 1264.69 Q1333.07 1257.56 1331.24 1254.02 Q1329.43 1250.45 1325.8 1250.45 M1325.8 1246.75 Q1331.61 1246.75 1334.67 1251.35 Q1337.74 1255.94 1337.74 1264.69 Q1337.74 1273.41 1334.67 1278.02 Q1331.61 1282.6 1325.8 1282.6 Q1319.99 1282.6 1316.91 1278.02 Q1313.85 1273.41 1313.85 1264.69 Q1313.85 1255.94 1316.91 1251.35 Q1319.99 1246.75 1325.8 1246.75 Z\" fill=\"#000000\" fill-rule=\"evenodd\" fill-opacity=\"1\" /><path clip-path=\"url(#clip310)\" d=\"M1530.64 1250.45 Q1527.03 1250.45 1525.2 1254.02 Q1523.4 1257.56 1523.4 1264.69 Q1523.4 1271.79 1525.2 1275.36 Q1527.03 1278.9 1530.64 1278.9 Q1534.28 1278.9 1536.08 1275.36 Q1537.91 1271.79 1537.91 1264.69 Q1537.91 1257.56 1536.08 1254.02 Q1534.28 1250.45 1530.64 1250.45 M1530.64 1246.75 Q1536.45 1246.75 1539.51 1251.35 Q1542.59 1255.94 1542.59 1264.69 Q1542.59 1273.41 1539.51 1278.02 Q1536.45 1282.6 1530.64 1282.6 Q1524.83 1282.6 1521.75 1278.02 Q1518.7 1273.41 1518.7 1264.69 Q1518.7 1255.94 1521.75 1251.35 Q1524.83 1246.75 1530.64 1246.75 Z\" fill=\"#000000\" fill-rule=\"evenodd\" fill-opacity=\"1\" /><path clip-path=\"url(#clip310)\" d=\"M1550.8 1276.05 L1555.69 1276.05 L1555.69 1281.93 L1550.8 1281.93 L1550.8 1276.05 Z\" fill=\"#000000\" fill-rule=\"evenodd\" fill-opacity=\"1\" /><path clip-path=\"url(#clip310)\" d=\"M1575.87 1250.45 Q1572.26 1250.45 1570.43 1254.02 Q1568.63 1257.56 1568.63 1264.69 Q1568.63 1271.79 1570.43 1275.36 Q1572.26 1278.9 1575.87 1278.9 Q1579.51 1278.9 1581.31 1275.36 Q1583.14 1271.79 1583.14 1264.69 Q1583.14 1257.56 1581.31 1254.02 Q1579.51 1250.45 1575.87 1250.45 M1575.87 1246.75 Q1581.68 1246.75 1584.74 1251.35 Q1587.82 1255.94 1587.82 1264.69 Q1587.82 1273.41 1584.74 1278.02 Q1581.68 1282.6 1575.87 1282.6 Q1570.06 1282.6 1566.98 1278.02 Q1563.93 1273.41 1563.93 1264.69 Q1563.93 1255.94 1566.98 1251.35 Q1570.06 1246.75 1575.87 1246.75 Z\" fill=\"#000000\" fill-rule=\"evenodd\" fill-opacity=\"1\" /><path clip-path=\"url(#clip310)\" d=\"M1600.06 1278 L1616.38 1278 L1616.38 1281.93 L1594.44 1281.93 L1594.44 1278 Q1597.1 1275.24 1601.68 1270.61 Q1606.29 1265.96 1607.47 1264.62 Q1609.72 1262.1 1610.59 1260.36 Q1611.5 1258.6 1611.5 1256.91 Q1611.5 1254.16 1609.55 1252.42 Q1607.63 1250.68 1604.53 1250.68 Q1602.33 1250.68 1599.88 1251.45 Q1597.45 1252.21 1594.67 1253.76 L1594.67 1249.04 Q1597.49 1247.91 1599.95 1247.33 Q1602.4 1246.75 1604.44 1246.75 Q1609.81 1246.75 1613 1249.43 Q1616.2 1252.12 1616.2 1256.61 Q1616.2 1258.74 1615.39 1260.66 Q1614.6 1262.56 1612.49 1265.15 Q1611.91 1265.82 1608.81 1269.04 Q1605.71 1272.23 1600.06 1278 Z\" fill=\"#000000\" fill-rule=\"evenodd\" fill-opacity=\"1\" /><path clip-path=\"url(#clip310)\" d=\"M1809.04 1250.45 Q1805.43 1250.45 1803.6 1254.02 Q1801.79 1257.56 1801.79 1264.69 Q1801.79 1271.79 1803.6 1275.36 Q1805.43 1278.9 1809.04 1278.9 Q1812.67 1278.9 1814.48 1275.36 Q1816.3 1271.79 1816.3 1264.69 Q1816.3 1257.56 1814.48 1254.02 Q1812.67 1250.45 1809.04 1250.45 M1809.04 1246.75 Q1814.85 1246.75 1817.9 1251.35 Q1820.98 1255.94 1820.98 1264.69 Q1820.98 1273.41 1817.9 1278.02 Q1814.85 1282.6 1809.04 1282.6 Q1803.23 1282.6 1800.15 1278.02 Q1797.09 1273.41 1797.09 1264.69 Q1797.09 1255.94 1800.15 1251.35 Q1803.23 1246.75 1809.04 1246.75 Z\" fill=\"#000000\" fill-rule=\"evenodd\" fill-opacity=\"1\" /><path clip-path=\"url(#clip310)\" d=\"M1829.2 1276.05 L1834.08 1276.05 L1834.08 1281.93 L1829.2 1281.93 L1829.2 1276.05 Z\" fill=\"#000000\" fill-rule=\"evenodd\" fill-opacity=\"1\" /><path clip-path=\"url(#clip310)\" d=\"M1854.27 1250.45 Q1850.66 1250.45 1848.83 1254.02 Q1847.02 1257.56 1847.02 1264.69 Q1847.02 1271.79 1848.83 1275.36 Q1850.66 1278.9 1854.27 1278.9 Q1857.9 1278.9 1859.71 1275.36 Q1861.54 1271.79 1861.54 1264.69 Q1861.54 1257.56 1859.71 1254.02 Q1857.9 1250.45 1854.27 1250.45 M1854.27 1246.75 Q1860.08 1246.75 1863.13 1251.35 Q1866.21 1255.94 1866.21 1264.69 Q1866.21 1273.41 1863.13 1278.02 Q1860.08 1282.6 1854.27 1282.6 Q1848.46 1282.6 1845.38 1278.02 Q1842.32 1273.41 1842.32 1264.69 Q1842.32 1255.94 1845.38 1251.35 Q1848.46 1246.75 1854.27 1246.75 Z\" fill=\"#000000\" fill-rule=\"evenodd\" fill-opacity=\"1\" /><path clip-path=\"url(#clip310)\" d=\"M1887.28 1251.45 L1875.47 1269.9 L1887.28 1269.9 L1887.28 1251.45 M1886.05 1247.37 L1891.93 1247.37 L1891.93 1269.9 L1896.86 1269.9 L1896.86 1273.79 L1891.93 1273.79 L1891.93 1281.93 L1887.28 1281.93 L1887.28 1273.79 L1871.67 1273.79 L1871.67 1269.27 L1886.05 1247.37 Z\" fill=\"#000000\" fill-rule=\"evenodd\" fill-opacity=\"1\" /><path clip-path=\"url(#clip310)\" d=\"M2088.63 1250.45 Q2085.02 1250.45 2083.19 1254.02 Q2081.39 1257.56 2081.39 1264.69 Q2081.39 1271.79 2083.19 1275.36 Q2085.02 1278.9 2088.63 1278.9 Q2092.27 1278.9 2094.07 1275.36 Q2095.9 1271.79 2095.9 1264.69 Q2095.9 1257.56 2094.07 1254.02 Q2092.27 1250.45 2088.63 1250.45 M2088.63 1246.75 Q2094.44 1246.75 2097.5 1251.35 Q2100.58 1255.94 2100.58 1264.69 Q2100.58 1273.41 2097.5 1278.02 Q2094.44 1282.6 2088.63 1282.6 Q2082.82 1282.6 2079.75 1278.02 Q2076.69 1273.41 2076.69 1264.69 Q2076.69 1255.94 2079.75 1251.35 Q2082.82 1246.75 2088.63 1246.75 Z\" fill=\"#000000\" fill-rule=\"evenodd\" fill-opacity=\"1\" /><path clip-path=\"url(#clip310)\" d=\"M2108.8 1276.05 L2113.68 1276.05 L2113.68 1281.93 L2108.8 1281.93 L2108.8 1276.05 Z\" fill=\"#000000\" fill-rule=\"evenodd\" fill-opacity=\"1\" /><path clip-path=\"url(#clip310)\" d=\"M2133.87 1250.45 Q2130.25 1250.45 2128.43 1254.02 Q2126.62 1257.56 2126.62 1264.69 Q2126.62 1271.79 2128.43 1275.36 Q2130.25 1278.9 2133.87 1278.9 Q2137.5 1278.9 2139.31 1275.36 Q2141.13 1271.79 2141.13 1264.69 Q2141.13 1257.56 2139.31 1254.02 Q2137.5 1250.45 2133.87 1250.45 M2133.87 1246.75 Q2139.68 1246.75 2142.73 1251.35 Q2145.81 1255.94 2145.81 1264.69 Q2145.81 1273.41 2142.73 1278.02 Q2139.68 1282.6 2133.87 1282.6 Q2128.06 1282.6 2124.98 1278.02 Q2121.92 1273.41 2121.92 1264.69 Q2121.92 1255.94 2124.98 1251.35 Q2128.06 1246.75 2133.87 1246.75 Z\" fill=\"#000000\" fill-rule=\"evenodd\" fill-opacity=\"1\" /><path clip-path=\"url(#clip310)\" d=\"M2164.61 1262.79 Q2161.46 1262.79 2159.61 1264.94 Q2157.78 1267.1 2157.78 1270.85 Q2157.78 1274.57 2159.61 1276.75 Q2161.46 1278.9 2164.61 1278.9 Q2167.75 1278.9 2169.58 1276.75 Q2171.44 1274.57 2171.44 1270.85 Q2171.44 1267.1 2169.58 1264.94 Q2167.75 1262.79 2164.61 1262.79 M2173.89 1248.14 L2173.89 1252.4 Q2172.13 1251.56 2170.32 1251.12 Q2168.54 1250.68 2166.78 1250.68 Q2162.15 1250.68 2159.7 1253.81 Q2157.27 1256.93 2156.92 1263.25 Q2158.29 1261.24 2160.35 1260.17 Q2162.41 1259.09 2164.88 1259.09 Q2170.09 1259.09 2173.1 1262.26 Q2176.13 1265.41 2176.13 1270.85 Q2176.13 1276.17 2172.99 1279.39 Q2169.84 1282.6 2164.61 1282.6 Q2158.61 1282.6 2155.44 1278.02 Q2152.27 1273.41 2152.27 1264.69 Q2152.27 1256.49 2156.16 1251.63 Q2160.05 1246.75 2166.6 1246.75 Q2168.36 1246.75 2170.14 1247.1 Q2171.94 1247.44 2173.89 1248.14 Z\" fill=\"#000000\" fill-rule=\"evenodd\" fill-opacity=\"1\" /><polyline clip-path=\"url(#clip310)\" style=\"stroke:#000000; stroke-linecap:butt; stroke-linejoin:round; stroke-width:4; stroke-opacity:1; fill:none\" points=\"\n",
       "  223.45,1219.53 223.45,314.159 \n",
       "  \"/>\n",
       "<polyline clip-path=\"url(#clip310)\" style=\"stroke:#000000; stroke-linecap:butt; stroke-linejoin:round; stroke-width:4; stroke-opacity:1; fill:none\" points=\"\n",
       "  2352.76,1219.53 2352.76,314.159 \n",
       "  \"/>\n",
       "<polyline clip-path=\"url(#clip310)\" style=\"stroke:#000000; stroke-linecap:butt; stroke-linejoin:round; stroke-width:4; stroke-opacity:1; fill:none\" points=\"\n",
       "  223.45,1186 242.347,1186 \n",
       "  \"/>\n",
       "<polyline clip-path=\"url(#clip310)\" style=\"stroke:#000000; stroke-linecap:butt; stroke-linejoin:round; stroke-width:4; stroke-opacity:1; fill:none\" points=\"\n",
       "  223.45,1046.28 242.347,1046.28 \n",
       "  \"/>\n",
       "<polyline clip-path=\"url(#clip310)\" style=\"stroke:#000000; stroke-linecap:butt; stroke-linejoin:round; stroke-width:4; stroke-opacity:1; fill:none\" points=\"\n",
       "  223.45,906.564 242.347,906.564 \n",
       "  \"/>\n",
       "<polyline clip-path=\"url(#clip310)\" style=\"stroke:#000000; stroke-linecap:butt; stroke-linejoin:round; stroke-width:4; stroke-opacity:1; fill:none\" points=\"\n",
       "  223.45,766.846 242.347,766.846 \n",
       "  \"/>\n",
       "<polyline clip-path=\"url(#clip310)\" style=\"stroke:#000000; stroke-linecap:butt; stroke-linejoin:round; stroke-width:4; stroke-opacity:1; fill:none\" points=\"\n",
       "  223.45,627.128 242.347,627.128 \n",
       "  \"/>\n",
       "<polyline clip-path=\"url(#clip310)\" style=\"stroke:#000000; stroke-linecap:butt; stroke-linejoin:round; stroke-width:4; stroke-opacity:1; fill:none\" points=\"\n",
       "  223.45,487.409 242.347,487.409 \n",
       "  \"/>\n",
       "<polyline clip-path=\"url(#clip310)\" style=\"stroke:#000000; stroke-linecap:butt; stroke-linejoin:round; stroke-width:4; stroke-opacity:1; fill:none\" points=\"\n",
       "  223.45,347.691 242.347,347.691 \n",
       "  \"/>\n",
       "<path clip-path=\"url(#clip310)\" d=\"M50.9921 1186.45 L80.6679 1186.45 L80.6679 1190.39 L50.9921 1190.39 L50.9921 1186.45 Z\" fill=\"#000000\" fill-rule=\"evenodd\" fill-opacity=\"1\" /><path clip-path=\"url(#clip310)\" d=\"M100.76 1171.8 Q97.1493 1171.8 95.3206 1175.36 Q93.515 1178.91 93.515 1186.04 Q93.515 1193.14 95.3206 1196.71 Q97.1493 1200.25 100.76 1200.25 Q104.395 1200.25 106.2 1196.71 Q108.029 1193.14 108.029 1186.04 Q108.029 1178.91 106.2 1175.36 Q104.395 1171.8 100.76 1171.8 M100.76 1168.1 Q106.571 1168.1 109.626 1172.7 Q112.705 1177.29 112.705 1186.04 Q112.705 1194.76 109.626 1199.37 Q106.571 1203.95 100.76 1203.95 Q94.9502 1203.95 91.8715 1199.37 Q88.816 1194.76 88.816 1186.04 Q88.816 1177.29 91.8715 1172.7 Q94.9502 1168.1 100.76 1168.1 Z\" fill=\"#000000\" fill-rule=\"evenodd\" fill-opacity=\"1\" /><path clip-path=\"url(#clip310)\" d=\"M120.922 1197.4 L125.807 1197.4 L125.807 1203.28 L120.922 1203.28 L120.922 1197.4 Z\" fill=\"#000000\" fill-rule=\"evenodd\" fill-opacity=\"1\" /><path clip-path=\"url(#clip310)\" d=\"M145.992 1171.8 Q142.381 1171.8 140.552 1175.36 Q138.746 1178.91 138.746 1186.04 Q138.746 1193.14 140.552 1196.71 Q142.381 1200.25 145.992 1200.25 Q149.626 1200.25 151.431 1196.71 Q153.26 1193.14 153.26 1186.04 Q153.26 1178.91 151.431 1175.36 Q149.626 1171.8 145.992 1171.8 M145.992 1168.1 Q151.802 1168.1 154.857 1172.7 Q157.936 1177.29 157.936 1186.04 Q157.936 1194.76 154.857 1199.37 Q151.802 1203.95 145.992 1203.95 Q140.181 1203.95 137.103 1199.37 Q134.047 1194.76 134.047 1186.04 Q134.047 1177.29 137.103 1172.7 Q140.181 1168.1 145.992 1168.1 Z\" fill=\"#000000\" fill-rule=\"evenodd\" fill-opacity=\"1\" /><path clip-path=\"url(#clip310)\" d=\"M180.32 1184.65 Q183.677 1185.36 185.552 1187.63 Q187.45 1189.9 187.45 1193.23 Q187.45 1198.35 183.931 1201.15 Q180.413 1203.95 173.931 1203.95 Q171.755 1203.95 169.441 1203.51 Q167.149 1203.1 164.695 1202.24 L164.695 1197.73 Q166.64 1198.86 168.954 1199.44 Q171.269 1200.02 173.792 1200.02 Q178.191 1200.02 180.482 1198.28 Q182.797 1196.54 182.797 1193.23 Q182.797 1190.18 180.644 1188.47 Q178.515 1186.73 174.695 1186.73 L170.667 1186.73 L170.667 1182.89 L174.88 1182.89 Q178.329 1182.89 180.158 1181.52 Q181.987 1180.13 181.987 1177.54 Q181.987 1174.88 180.089 1173.47 Q178.214 1172.03 174.695 1172.03 Q172.774 1172.03 170.575 1172.45 Q168.376 1172.86 165.737 1173.74 L165.737 1169.58 Q168.399 1168.84 170.714 1168.47 Q173.052 1168.1 175.112 1168.1 Q180.436 1168.1 183.538 1170.53 Q186.64 1172.93 186.64 1177.05 Q186.64 1179.92 184.996 1181.92 Q183.353 1183.88 180.32 1184.65 Z\" fill=\"#000000\" fill-rule=\"evenodd\" fill-opacity=\"1\" /><path clip-path=\"url(#clip310)\" d=\"M51.9412 1046.73 L81.617 1046.73 L81.617 1050.67 L51.9412 1050.67 L51.9412 1046.73 Z\" fill=\"#000000\" fill-rule=\"evenodd\" fill-opacity=\"1\" /><path clip-path=\"url(#clip310)\" d=\"M101.709 1032.08 Q98.0984 1032.08 96.2697 1035.65 Q94.4641 1039.19 94.4641 1046.32 Q94.4641 1053.42 96.2697 1056.99 Q98.0984 1060.53 101.709 1060.53 Q105.344 1060.53 107.149 1056.99 Q108.978 1053.42 108.978 1046.32 Q108.978 1039.19 107.149 1035.65 Q105.344 1032.08 101.709 1032.08 M101.709 1028.38 Q107.52 1028.38 110.575 1032.98 Q113.654 1037.57 113.654 1046.32 Q113.654 1055.04 110.575 1059.65 Q107.52 1064.23 101.709 1064.23 Q95.8993 1064.23 92.8206 1059.65 Q89.7651 1055.04 89.7651 1046.32 Q89.7651 1037.57 92.8206 1032.98 Q95.8993 1028.38 101.709 1028.38 Z\" fill=\"#000000\" fill-rule=\"evenodd\" fill-opacity=\"1\" /><path clip-path=\"url(#clip310)\" d=\"M121.871 1057.68 L126.756 1057.68 L126.756 1063.56 L121.871 1063.56 L121.871 1057.68 Z\" fill=\"#000000\" fill-rule=\"evenodd\" fill-opacity=\"1\" /><path clip-path=\"url(#clip310)\" d=\"M146.941 1032.08 Q143.33 1032.08 141.501 1035.65 Q139.695 1039.19 139.695 1046.32 Q139.695 1053.42 141.501 1056.99 Q143.33 1060.53 146.941 1060.53 Q150.575 1060.53 152.38 1056.99 Q154.209 1053.42 154.209 1046.32 Q154.209 1039.19 152.38 1035.65 Q150.575 1032.08 146.941 1032.08 M146.941 1028.38 Q152.751 1028.38 155.806 1032.98 Q158.885 1037.57 158.885 1046.32 Q158.885 1055.04 155.806 1059.65 Q152.751 1064.23 146.941 1064.23 Q141.131 1064.23 138.052 1059.65 Q134.996 1055.04 134.996 1046.32 Q134.996 1037.57 138.052 1032.98 Q141.131 1028.38 146.941 1028.38 Z\" fill=\"#000000\" fill-rule=\"evenodd\" fill-opacity=\"1\" /><path clip-path=\"url(#clip310)\" d=\"M171.13 1059.63 L187.45 1059.63 L187.45 1063.56 L165.505 1063.56 L165.505 1059.63 Q168.167 1056.87 172.751 1052.24 Q177.357 1047.59 178.538 1046.25 Q180.783 1043.72 181.663 1041.99 Q182.565 1040.23 182.565 1038.54 Q182.565 1035.78 180.621 1034.05 Q178.7 1032.31 175.598 1032.31 Q173.399 1032.31 170.945 1033.08 Q168.515 1033.84 165.737 1035.39 L165.737 1030.67 Q168.561 1029.53 171.015 1028.96 Q173.468 1028.38 175.505 1028.38 Q180.876 1028.38 184.07 1031.06 Q187.265 1033.75 187.265 1038.24 Q187.265 1040.37 186.454 1042.29 Q185.667 1044.19 183.561 1046.78 Q182.982 1047.45 179.88 1050.67 Q176.778 1053.86 171.13 1059.63 Z\" fill=\"#000000\" fill-rule=\"evenodd\" fill-opacity=\"1\" /><path clip-path=\"url(#clip310)\" d=\"M51.5708 907.016 L81.2466 907.016 L81.2466 910.951 L51.5708 910.951 L51.5708 907.016 Z\" fill=\"#000000\" fill-rule=\"evenodd\" fill-opacity=\"1\" /><path clip-path=\"url(#clip310)\" d=\"M101.339 892.363 Q97.728 892.363 95.8993 895.928 Q94.0937 899.469 94.0937 906.599 Q94.0937 913.705 95.8993 917.27 Q97.728 920.812 101.339 920.812 Q104.973 920.812 106.779 917.27 Q108.608 913.705 108.608 906.599 Q108.608 899.469 106.779 895.928 Q104.973 892.363 101.339 892.363 M101.339 888.659 Q107.149 888.659 110.205 893.266 Q113.283 897.849 113.283 906.599 Q113.283 915.326 110.205 919.932 Q107.149 924.516 101.339 924.516 Q95.5289 924.516 92.4502 919.932 Q89.3947 915.326 89.3947 906.599 Q89.3947 897.849 92.4502 893.266 Q95.5289 888.659 101.339 888.659 Z\" fill=\"#000000\" fill-rule=\"evenodd\" fill-opacity=\"1\" /><path clip-path=\"url(#clip310)\" d=\"M121.501 917.965 L126.385 917.965 L126.385 923.844 L121.501 923.844 L121.501 917.965 Z\" fill=\"#000000\" fill-rule=\"evenodd\" fill-opacity=\"1\" /><path clip-path=\"url(#clip310)\" d=\"M146.57 892.363 Q142.959 892.363 141.131 895.928 Q139.325 899.469 139.325 906.599 Q139.325 913.705 141.131 917.27 Q142.959 920.812 146.57 920.812 Q150.205 920.812 152.01 917.27 Q153.839 913.705 153.839 906.599 Q153.839 899.469 152.01 895.928 Q150.205 892.363 146.57 892.363 M146.57 888.659 Q152.38 888.659 155.436 893.266 Q158.515 897.849 158.515 906.599 Q158.515 915.326 155.436 919.932 Q152.38 924.516 146.57 924.516 Q140.76 924.516 137.681 919.932 Q134.626 915.326 134.626 906.599 Q134.626 897.849 137.681 893.266 Q140.76 888.659 146.57 888.659 Z\" fill=\"#000000\" fill-rule=\"evenodd\" fill-opacity=\"1\" /><path clip-path=\"url(#clip310)\" d=\"M167.542 919.909 L175.181 919.909 L175.181 893.543 L166.871 895.21 L166.871 890.951 L175.135 889.284 L179.811 889.284 L179.811 919.909 L187.45 919.909 L187.45 923.844 L167.542 923.844 L167.542 919.909 Z\" fill=\"#000000\" fill-rule=\"evenodd\" fill-opacity=\"1\" /><path clip-path=\"url(#clip310)\" d=\"M100.112 752.645 Q96.5011 752.645 94.6724 756.209 Q92.8669 759.751 92.8669 766.881 Q92.8669 773.987 94.6724 777.552 Q96.5011 781.094 100.112 781.094 Q103.746 781.094 105.552 777.552 Q107.381 773.987 107.381 766.881 Q107.381 759.751 105.552 756.209 Q103.746 752.645 100.112 752.645 M100.112 748.941 Q105.922 748.941 108.978 753.547 Q112.057 758.131 112.057 766.881 Q112.057 775.608 108.978 780.214 Q105.922 784.797 100.112 784.797 Q94.3021 784.797 91.2234 780.214 Q88.1679 775.608 88.1679 766.881 Q88.1679 758.131 91.2234 753.547 Q94.3021 748.941 100.112 748.941 Z\" fill=\"#000000\" fill-rule=\"evenodd\" fill-opacity=\"1\" /><path clip-path=\"url(#clip310)\" d=\"M120.274 778.246 L125.158 778.246 L125.158 784.126 L120.274 784.126 L120.274 778.246 Z\" fill=\"#000000\" fill-rule=\"evenodd\" fill-opacity=\"1\" /><path clip-path=\"url(#clip310)\" d=\"M145.343 752.645 Q141.732 752.645 139.904 756.209 Q138.098 759.751 138.098 766.881 Q138.098 773.987 139.904 777.552 Q141.732 781.094 145.343 781.094 Q148.978 781.094 150.783 777.552 Q152.612 773.987 152.612 766.881 Q152.612 759.751 150.783 756.209 Q148.978 752.645 145.343 752.645 M145.343 748.941 Q151.154 748.941 154.209 753.547 Q157.288 758.131 157.288 766.881 Q157.288 775.608 154.209 780.214 Q151.154 784.797 145.343 784.797 Q139.533 784.797 136.455 780.214 Q133.399 775.608 133.399 766.881 Q133.399 758.131 136.455 753.547 Q139.533 748.941 145.343 748.941 Z\" fill=\"#000000\" fill-rule=\"evenodd\" fill-opacity=\"1\" /><path clip-path=\"url(#clip310)\" d=\"M175.505 752.645 Q171.894 752.645 170.066 756.209 Q168.26 759.751 168.26 766.881 Q168.26 773.987 170.066 777.552 Q171.894 781.094 175.505 781.094 Q179.14 781.094 180.945 777.552 Q182.774 773.987 182.774 766.881 Q182.774 759.751 180.945 756.209 Q179.14 752.645 175.505 752.645 M175.505 748.941 Q181.316 748.941 184.371 753.547 Q187.45 758.131 187.45 766.881 Q187.45 775.608 184.371 780.214 Q181.316 784.797 175.505 784.797 Q169.695 784.797 166.617 780.214 Q163.561 775.608 163.561 766.881 Q163.561 758.131 166.617 753.547 Q169.695 748.941 175.505 748.941 Z\" fill=\"#000000\" fill-rule=\"evenodd\" fill-opacity=\"1\" /><path clip-path=\"url(#clip310)\" d=\"M101.339 612.926 Q97.728 612.926 95.8993 616.491 Q94.0937 620.033 94.0937 627.162 Q94.0937 634.269 95.8993 637.834 Q97.728 641.375 101.339 641.375 Q104.973 641.375 106.779 637.834 Q108.608 634.269 108.608 627.162 Q108.608 620.033 106.779 616.491 Q104.973 612.926 101.339 612.926 M101.339 609.223 Q107.149 609.223 110.205 613.829 Q113.283 618.413 113.283 627.162 Q113.283 635.889 110.205 640.496 Q107.149 645.079 101.339 645.079 Q95.5289 645.079 92.4502 640.496 Q89.3947 635.889 89.3947 627.162 Q89.3947 618.413 92.4502 613.829 Q95.5289 609.223 101.339 609.223 Z\" fill=\"#000000\" fill-rule=\"evenodd\" fill-opacity=\"1\" /><path clip-path=\"url(#clip310)\" d=\"M121.501 638.528 L126.385 638.528 L126.385 644.408 L121.501 644.408 L121.501 638.528 Z\" fill=\"#000000\" fill-rule=\"evenodd\" fill-opacity=\"1\" /><path clip-path=\"url(#clip310)\" d=\"M146.57 612.926 Q142.959 612.926 141.131 616.491 Q139.325 620.033 139.325 627.162 Q139.325 634.269 141.131 637.834 Q142.959 641.375 146.57 641.375 Q150.205 641.375 152.01 637.834 Q153.839 634.269 153.839 627.162 Q153.839 620.033 152.01 616.491 Q150.205 612.926 146.57 612.926 M146.57 609.223 Q152.38 609.223 155.436 613.829 Q158.515 618.413 158.515 627.162 Q158.515 635.889 155.436 640.496 Q152.38 645.079 146.57 645.079 Q140.76 645.079 137.681 640.496 Q134.626 635.889 134.626 627.162 Q134.626 618.413 137.681 613.829 Q140.76 609.223 146.57 609.223 Z\" fill=\"#000000\" fill-rule=\"evenodd\" fill-opacity=\"1\" /><path clip-path=\"url(#clip310)\" d=\"M167.542 640.473 L175.181 640.473 L175.181 614.107 L166.871 615.774 L166.871 611.514 L175.135 609.848 L179.811 609.848 L179.811 640.473 L187.45 640.473 L187.45 644.408 L167.542 644.408 L167.542 640.473 Z\" fill=\"#000000\" fill-rule=\"evenodd\" fill-opacity=\"1\" /><path clip-path=\"url(#clip310)\" d=\"M101.709 473.208 Q98.0984 473.208 96.2697 476.773 Q94.4641 480.315 94.4641 487.444 Q94.4641 494.551 96.2697 498.115 Q98.0984 501.657 101.709 501.657 Q105.344 501.657 107.149 498.115 Q108.978 494.551 108.978 487.444 Q108.978 480.315 107.149 476.773 Q105.344 473.208 101.709 473.208 M101.709 469.504 Q107.52 469.504 110.575 474.111 Q113.654 478.694 113.654 487.444 Q113.654 496.171 110.575 500.777 Q107.52 505.361 101.709 505.361 Q95.8993 505.361 92.8206 500.777 Q89.7651 496.171 89.7651 487.444 Q89.7651 478.694 92.8206 474.111 Q95.8993 469.504 101.709 469.504 Z\" fill=\"#000000\" fill-rule=\"evenodd\" fill-opacity=\"1\" /><path clip-path=\"url(#clip310)\" d=\"M121.871 498.81 L126.756 498.81 L126.756 504.689 L121.871 504.689 L121.871 498.81 Z\" fill=\"#000000\" fill-rule=\"evenodd\" fill-opacity=\"1\" /><path clip-path=\"url(#clip310)\" d=\"M146.941 473.208 Q143.33 473.208 141.501 476.773 Q139.695 480.315 139.695 487.444 Q139.695 494.551 141.501 498.115 Q143.33 501.657 146.941 501.657 Q150.575 501.657 152.38 498.115 Q154.209 494.551 154.209 487.444 Q154.209 480.315 152.38 476.773 Q150.575 473.208 146.941 473.208 M146.941 469.504 Q152.751 469.504 155.806 474.111 Q158.885 478.694 158.885 487.444 Q158.885 496.171 155.806 500.777 Q152.751 505.361 146.941 505.361 Q141.131 505.361 138.052 500.777 Q134.996 496.171 134.996 487.444 Q134.996 478.694 138.052 474.111 Q141.131 469.504 146.941 469.504 Z\" fill=\"#000000\" fill-rule=\"evenodd\" fill-opacity=\"1\" /><path clip-path=\"url(#clip310)\" d=\"M171.13 500.754 L187.45 500.754 L187.45 504.689 L165.505 504.689 L165.505 500.754 Q168.167 498 172.751 493.37 Q177.357 488.717 178.538 487.375 Q180.783 484.852 181.663 483.116 Q182.565 481.356 182.565 479.666 Q182.565 476.912 180.621 475.176 Q178.7 473.44 175.598 473.44 Q173.399 473.44 170.945 474.204 Q168.515 474.967 165.737 476.518 L165.737 471.796 Q168.561 470.662 171.015 470.083 Q173.468 469.504 175.505 469.504 Q180.876 469.504 184.07 472.19 Q187.265 474.875 187.265 479.366 Q187.265 481.495 186.454 483.416 Q185.667 485.315 183.561 487.907 Q182.982 488.578 179.88 491.796 Q176.778 494.99 171.13 500.754 Z\" fill=\"#000000\" fill-rule=\"evenodd\" fill-opacity=\"1\" /><path clip-path=\"url(#clip310)\" d=\"M100.76 333.49 Q97.1493 333.49 95.3206 337.055 Q93.515 340.596 93.515 347.726 Q93.515 354.832 95.3206 358.397 Q97.1493 361.939 100.76 361.939 Q104.395 361.939 106.2 358.397 Q108.029 354.832 108.029 347.726 Q108.029 340.596 106.2 337.055 Q104.395 333.49 100.76 333.49 M100.76 329.786 Q106.571 329.786 109.626 334.393 Q112.705 338.976 112.705 347.726 Q112.705 356.453 109.626 361.059 Q106.571 365.643 100.76 365.643 Q94.9502 365.643 91.8715 361.059 Q88.816 356.453 88.816 347.726 Q88.816 338.976 91.8715 334.393 Q94.9502 329.786 100.76 329.786 Z\" fill=\"#000000\" fill-rule=\"evenodd\" fill-opacity=\"1\" /><path clip-path=\"url(#clip310)\" d=\"M120.922 359.092 L125.807 359.092 L125.807 364.971 L120.922 364.971 L120.922 359.092 Z\" fill=\"#000000\" fill-rule=\"evenodd\" fill-opacity=\"1\" /><path clip-path=\"url(#clip310)\" d=\"M145.992 333.49 Q142.381 333.49 140.552 337.055 Q138.746 340.596 138.746 347.726 Q138.746 354.832 140.552 358.397 Q142.381 361.939 145.992 361.939 Q149.626 361.939 151.431 358.397 Q153.26 354.832 153.26 347.726 Q153.26 340.596 151.431 337.055 Q149.626 333.49 145.992 333.49 M145.992 329.786 Q151.802 329.786 154.857 334.393 Q157.936 338.976 157.936 347.726 Q157.936 356.453 154.857 361.059 Q151.802 365.643 145.992 365.643 Q140.181 365.643 137.103 361.059 Q134.047 356.453 134.047 347.726 Q134.047 338.976 137.103 334.393 Q140.181 329.786 145.992 329.786 Z\" fill=\"#000000\" fill-rule=\"evenodd\" fill-opacity=\"1\" /><path clip-path=\"url(#clip310)\" d=\"M180.32 346.337 Q183.677 347.055 185.552 349.323 Q187.45 351.592 187.45 354.925 Q187.45 360.041 183.931 362.842 Q180.413 365.643 173.931 365.643 Q171.755 365.643 169.441 365.203 Q167.149 364.786 164.695 363.93 L164.695 359.416 Q166.64 360.55 168.954 361.129 Q171.269 361.707 173.792 361.707 Q178.191 361.707 180.482 359.971 Q182.797 358.235 182.797 354.925 Q182.797 351.869 180.644 350.156 Q178.515 348.42 174.695 348.42 L170.667 348.42 L170.667 344.578 L174.88 344.578 Q178.329 344.578 180.158 343.212 Q181.987 341.823 181.987 339.231 Q181.987 336.569 180.089 335.157 Q178.214 333.721 174.695 333.721 Q172.774 333.721 170.575 334.138 Q168.376 334.555 165.737 335.434 L165.737 331.268 Q168.399 330.527 170.714 330.157 Q173.052 329.786 175.112 329.786 Q180.436 329.786 183.538 332.217 Q186.64 334.624 186.64 338.745 Q186.64 341.615 184.996 343.606 Q183.353 345.573 180.32 346.337 Z\" fill=\"#000000\" fill-rule=\"evenodd\" fill-opacity=\"1\" /><path clip-path=\"url(#clip312)\" d=\"\n",
       "M2223.03 696.987 L2211.41 696.987 L2199.8 696.987 L2188.19 696.987 L2176.57 696.987 L2164.96 696.987 L2153.34 696.987 L2141.73 696.987 L2130.12 696.987 L2118.5 696.987 \n",
       "  L2106.89 696.987 L2095.27 696.987 L2083.66 696.987 L2072.05 696.987 L2060.43 696.987 L2048.82 696.987 L2037.2 696.987 L2025.59 696.987 L2013.98 696.987 L2002.36 696.987 \n",
       "  L1990.75 696.987 L1979.13 696.987 L1967.52 696.987 L1955.91 696.987 L1944.29 696.987 L1932.68 696.987 L1921.06 696.987 L1909.45 696.987 L1897.84 696.987 L1886.22 696.987 \n",
       "  L1874.61 696.987 L1862.99 696.987 L1851.38 696.987 L1839.77 696.987 L1828.15 696.987 L1816.54 696.987 L1804.92 696.987 L1793.31 696.987 L1781.7 696.987 L1770.08 696.987 \n",
       "  L1758.47 696.987 L1746.85 696.987 L1735.24 696.987 L1723.63 696.987 L1712.01 696.987 L1700.4 696.987 L1688.78 696.987 L1677.17 696.987 L1665.56 696.987 L1653.94 696.987 \n",
       "  L1642.33 696.987 L1630.71 696.987 L1619.1 696.987 L1607.49 696.987 L1595.87 696.987 L1584.26 696.987 L1572.65 696.987 L1561.03 696.987 L1549.42 696.987 L1537.8 696.987 \n",
       "  L1526.19 696.987 L1514.58 696.987 L1502.96 696.987 L1491.35 696.987 L1479.73 696.987 L1468.12 696.987 L1456.51 696.987 L1444.89 696.987 L1433.28 696.987 L1421.66 696.987 \n",
       "  L1410.05 696.987 L1398.44 696.987 L1386.82 696.987 L1375.21 696.987 L1363.59 696.987 L1351.98 696.987 L1340.37 696.987 L1328.75 696.987 L1317.14 696.987 L1305.52 696.987 \n",
       "  L1293.91 696.987 L1282.3 696.987 L1270.68 696.987 L1259.07 696.987 L1247.45 696.987 L1235.84 696.987 L1224.23 696.987 L1212.61 696.987 L1201 696.987 L1189.38 696.987 \n",
       "  L1177.77 696.987 L1166.16 696.987 L1154.54 696.987 L1142.93 696.987 L1131.31 696.987 L1119.7 696.987 L1108.09 696.987 L1096.47 696.987 L1084.86 696.987 L1073.24 696.987 \n",
       "  L1061.63 696.987 L1050.02 696.987 L1038.4 696.987 L1026.79 696.987 L1015.17 696.987 L1003.56 696.987 L991.947 696.987 L980.333 696.987 L968.719 696.987 L957.105 696.987 \n",
       "  L945.491 696.987 L933.877 696.987 L922.263 696.987 L910.649 696.987 L899.035 696.987 L887.421 696.987 L875.807 696.987 L864.193 696.987 L852.579 696.987 L840.965 696.987 \n",
       "  L829.351 696.987 L817.737 696.987 L806.123 696.987 L794.509 696.987 L782.895 696.987 L771.281 696.987 L759.667 696.987 L748.053 696.987 L736.439 696.987 L724.825 696.987 \n",
       "  L713.211 696.987 L701.597 696.987 L689.983 696.987 L678.369 696.987 L666.755 696.987 L655.141 696.987 L643.527 696.987 L631.913 696.987 L620.299 696.987 L608.685 696.987 \n",
       "  L597.072 696.987 L585.458 696.987 L573.844 696.987 L562.23 696.987 L550.616 696.987 L539.002 696.987 L527.388 696.987 L515.774 696.987 L504.16 696.987 L492.546 696.987 \n",
       "  L480.932 696.987 L469.318 696.987 L457.704 696.987 L446.09 696.987 L434.476 696.987 L422.862 696.987 L411.248 696.987 L399.634 696.987 L388.02 696.987 L376.406 696.987 \n",
       "  L364.792 696.987 L353.178 696.987 L353.178 696.987 L341.047 698.048 L329.285 701.2 L318.249 706.346 L308.274 713.331 L299.663 721.941 L292.678 731.916 L287.532 742.953 \n",
       "  L284.38 754.715 L283.319 766.846 L284.38 778.977 L287.532 790.739 L292.678 801.776 L299.663 811.751 L308.274 820.361 L318.249 827.346 L329.285 832.492 L341.047 835.644 \n",
       "  L353.178 836.705 L353.178 836.705 L364.792 836.705 L376.406 836.705 L388.02 836.705 L399.634 836.705 L411.248 836.705 L422.862 836.705 L434.476 836.705 L446.09 836.705 \n",
       "  L457.704 836.705 L469.318 836.705 L480.932 836.705 L492.546 836.705 L504.16 836.705 L515.774 836.705 L527.388 836.705 L539.002 836.705 L550.616 836.705 L562.23 836.705 \n",
       "  L573.844 836.705 L585.458 836.705 L597.072 836.705 L608.685 836.705 L620.299 836.705 L631.913 836.705 L643.527 836.705 L655.141 836.705 L666.755 836.705 L678.369 836.705 \n",
       "  L689.983 836.705 L701.597 836.705 L713.211 836.705 L724.825 836.705 L736.439 836.705 L748.053 836.705 L759.667 836.705 L771.281 836.705 L782.895 836.705 L794.509 836.705 \n",
       "  L806.123 836.705 L817.737 836.705 L829.351 836.705 L840.965 836.705 L852.579 836.705 L864.193 836.705 L875.807 836.705 L887.421 836.705 L899.035 836.705 L910.649 836.705 \n",
       "  L922.263 836.705 L933.877 836.705 L945.491 836.705 L957.105 836.705 L968.719 836.705 L980.333 836.705 L991.947 836.705 L1003.56 836.705 L1015.17 836.705 L1026.79 836.705 \n",
       "  L1038.4 836.705 L1050.02 836.705 L1061.63 836.705 L1073.24 836.705 L1084.86 836.705 L1096.47 836.705 L1108.09 836.705 L1119.7 836.705 L1131.31 836.705 L1142.93 836.705 \n",
       "  L1154.54 836.705 L1166.16 836.705 L1177.77 836.705 L1189.38 836.705 L1201 836.705 L1212.61 836.705 L1224.23 836.705 L1235.84 836.705 L1247.45 836.705 L1259.07 836.705 \n",
       "  L1270.68 836.705 L1282.3 836.705 L1293.91 836.705 L1305.52 836.705 L1317.14 836.705 L1328.75 836.705 L1340.37 836.705 L1351.98 836.705 L1363.59 836.705 L1375.21 836.705 \n",
       "  L1386.82 836.705 L1398.44 836.705 L1410.05 836.705 L1421.66 836.705 L1433.28 836.705 L1444.89 836.705 L1456.51 836.705 L1468.12 836.705 L1479.73 836.705 L1491.35 836.705 \n",
       "  L1502.96 836.705 L1514.58 836.705 L1526.19 836.705 L1537.8 836.705 L1549.42 836.705 L1561.03 836.705 L1572.65 836.705 L1584.26 836.705 L1595.87 836.705 L1607.49 836.705 \n",
       "  L1619.1 836.705 L1630.71 836.705 L1642.33 836.705 L1653.94 836.705 L1665.56 836.705 L1677.17 836.705 L1688.78 836.705 L1700.4 836.705 L1712.01 836.705 L1723.63 836.705 \n",
       "  L1735.24 836.705 L1746.85 836.705 L1758.47 836.705 L1770.08 836.705 L1781.7 836.705 L1793.31 836.705 L1804.92 836.705 L1816.54 836.705 L1828.15 836.705 L1839.77 836.705 \n",
       "  L1851.38 836.705 L1862.99 836.705 L1874.61 836.705 L1886.22 836.705 L1897.84 836.705 L1909.45 836.705 L1921.06 836.705 L1932.68 836.705 L1944.29 836.705 L1955.91 836.705 \n",
       "  L1967.52 836.705 L1979.13 836.705 L1990.75 836.705 L2002.36 836.705 L2013.98 836.705 L2025.59 836.705 L2037.2 836.705 L2048.82 836.705 L2060.43 836.705 L2072.05 836.705 \n",
       "  L2083.66 836.705 L2095.27 836.705 L2106.89 836.705 L2118.5 836.705 L2130.12 836.705 L2141.73 836.705 L2153.34 836.705 L2164.96 836.705 L2176.57 836.705 L2188.19 836.705 \n",
       "  L2199.8 836.705 L2211.41 836.705 L2223.03 836.705 L2223.03 836.705 L2235.16 835.644 L2246.92 832.492 L2257.96 827.346 L2267.93 820.361 L2276.54 811.751 L2283.53 801.776 \n",
       "  L2288.67 790.739 L2291.83 778.977 L2292.89 766.846 L2291.83 754.715 L2288.67 742.953 L2283.53 731.916 L2276.54 721.941 L2267.93 713.331 L2257.96 706.346 L2246.92 701.2 \n",
       "  L2235.16 698.048 L2223.03 696.987 L2223.03 696.987 L2223.03 766.846 L2223.03 766.846 L2235.16 766.846 L2246.92 766.846 L2257.96 766.846 L2267.93 766.846 L2276.54 766.846 \n",
       "  L2283.53 766.846 L2288.67 766.846 L2291.83 766.846 L2292.89 766.846 L2291.83 766.846 L2288.67 766.846 L2283.53 766.846 L2276.54 766.846 L2267.93 766.846 L2257.96 766.846 \n",
       "  L2246.92 766.846 L2235.16 766.846 L2223.03 766.846 L2223.03 766.846 L2211.41 766.846 L2199.8 766.846 L2188.19 766.846 L2176.57 766.846 L2164.96 766.846 L2153.34 766.846 \n",
       "  L2141.73 766.846 L2130.12 766.846 L2118.5 766.846 L2106.89 766.846 L2095.27 766.846 L2083.66 766.846 L2072.05 766.846 L2060.43 766.846 L2048.82 766.846 L2037.2 766.846 \n",
       "  L2025.59 766.846 L2013.98 766.846 L2002.36 766.846 L1990.75 766.846 L1979.13 766.846 L1967.52 766.846 L1955.91 766.846 L1944.29 766.846 L1932.68 766.846 L1921.06 766.846 \n",
       "  L1909.45 766.846 L1897.84 766.846 L1886.22 766.846 L1874.61 766.846 L1862.99 766.846 L1851.38 766.846 L1839.77 766.846 L1828.15 766.846 L1816.54 766.846 L1804.92 766.846 \n",
       "  L1793.31 766.846 L1781.7 766.846 L1770.08 766.846 L1758.47 766.846 L1746.85 766.846 L1735.24 766.846 L1723.63 766.846 L1712.01 766.846 L1700.4 766.846 L1688.78 766.846 \n",
       "  L1677.17 766.846 L1665.56 766.846 L1653.94 766.846 L1642.33 766.846 L1630.71 766.846 L1619.1 766.846 L1607.49 766.846 L1595.87 766.846 L1584.26 766.846 L1572.65 766.846 \n",
       "  L1561.03 766.846 L1549.42 766.846 L1537.8 766.846 L1526.19 766.846 L1514.58 766.846 L1502.96 766.846 L1491.35 766.846 L1479.73 766.846 L1468.12 766.846 L1456.51 766.846 \n",
       "  L1444.89 766.846 L1433.28 766.846 L1421.66 766.846 L1410.05 766.846 L1398.44 766.846 L1386.82 766.846 L1375.21 766.846 L1363.59 766.846 L1351.98 766.846 L1340.37 766.846 \n",
       "  L1328.75 766.846 L1317.14 766.846 L1305.52 766.846 L1293.91 766.846 L1282.3 766.846 L1270.68 766.846 L1259.07 766.846 L1247.45 766.846 L1235.84 766.846 L1224.23 766.846 \n",
       "  L1212.61 766.846 L1201 766.846 L1189.38 766.846 L1177.77 766.846 L1166.16 766.846 L1154.54 766.846 L1142.93 766.846 L1131.31 766.846 L1119.7 766.846 L1108.09 766.846 \n",
       "  L1096.47 766.846 L1084.86 766.846 L1073.24 766.846 L1061.63 766.846 L1050.02 766.846 L1038.4 766.846 L1026.79 766.846 L1015.17 766.846 L1003.56 766.846 L991.947 766.846 \n",
       "  L980.333 766.846 L968.719 766.846 L957.105 766.846 L945.491 766.846 L933.877 766.846 L922.263 766.846 L910.649 766.846 L899.035 766.846 L887.421 766.846 L875.807 766.846 \n",
       "  L864.193 766.846 L852.579 766.846 L840.965 766.846 L829.351 766.846 L817.737 766.846 L806.123 766.846 L794.509 766.846 L782.895 766.846 L771.281 766.846 L759.667 766.846 \n",
       "  L748.053 766.846 L736.439 766.846 L724.825 766.846 L713.211 766.846 L701.597 766.846 L689.983 766.846 L678.369 766.846 L666.755 766.846 L655.141 766.846 L643.527 766.846 \n",
       "  L631.913 766.846 L620.299 766.846 L608.685 766.846 L597.072 766.846 L585.458 766.846 L573.844 766.846 L562.23 766.846 L550.616 766.846 L539.002 766.846 L527.388 766.846 \n",
       "  L515.774 766.846 L504.16 766.846 L492.546 766.846 L480.932 766.846 L469.318 766.846 L457.704 766.846 L446.09 766.846 L434.476 766.846 L422.862 766.846 L411.248 766.846 \n",
       "  L399.634 766.846 L388.02 766.846 L376.406 766.846 L364.792 766.846 L353.178 766.846 L353.178 766.846 L341.047 766.846 L329.285 766.846 L318.249 766.846 L308.274 766.846 \n",
       "  L299.663 766.846 L292.678 766.846 L287.532 766.846 L284.38 766.846 L283.319 766.846 L284.38 766.846 L287.532 766.846 L292.678 766.846 L299.663 766.846 L308.274 766.846 \n",
       "  L318.249 766.846 L329.285 766.846 L341.047 766.846 L353.178 766.846 L353.178 766.846 L364.792 766.846 L376.406 766.846 L388.02 766.846 L399.634 766.846 L411.248 766.846 \n",
       "  L422.862 766.846 L434.476 766.846 L446.09 766.846 L457.704 766.846 L469.318 766.846 L480.932 766.846 L492.546 766.846 L504.16 766.846 L515.774 766.846 L527.388 766.846 \n",
       "  L539.002 766.846 L550.616 766.846 L562.23 766.846 L573.844 766.846 L585.458 766.846 L597.072 766.846 L608.685 766.846 L620.299 766.846 L631.913 766.846 L643.527 766.846 \n",
       "  L655.141 766.846 L666.755 766.846 L678.369 766.846 L689.983 766.846 L701.597 766.846 L713.211 766.846 L724.825 766.846 L736.439 766.846 L748.053 766.846 L759.667 766.846 \n",
       "  L771.281 766.846 L782.895 766.846 L794.509 766.846 L806.123 766.846 L817.737 766.846 L829.351 766.846 L840.965 766.846 L852.579 766.846 L864.193 766.846 L875.807 766.846 \n",
       "  L887.421 766.846 L899.035 766.846 L910.649 766.846 L922.263 766.846 L933.877 766.846 L945.491 766.846 L957.105 766.846 L968.719 766.846 L980.333 766.846 L991.947 766.846 \n",
       "  L1003.56 766.846 L1015.17 766.846 L1026.79 766.846 L1038.4 766.846 L1050.02 766.846 L1061.63 766.846 L1073.24 766.846 L1084.86 766.846 L1096.47 766.846 L1108.09 766.846 \n",
       "  L1119.7 766.846 L1131.31 766.846 L1142.93 766.846 L1154.54 766.846 L1166.16 766.846 L1177.77 766.846 L1189.38 766.846 L1201 766.846 L1212.61 766.846 L1224.23 766.846 \n",
       "  L1235.84 766.846 L1247.45 766.846 L1259.07 766.846 L1270.68 766.846 L1282.3 766.846 L1293.91 766.846 L1305.52 766.846 L1317.14 766.846 L1328.75 766.846 L1340.37 766.846 \n",
       "  L1351.98 766.846 L1363.59 766.846 L1375.21 766.846 L1386.82 766.846 L1398.44 766.846 L1410.05 766.846 L1421.66 766.846 L1433.28 766.846 L1444.89 766.846 L1456.51 766.846 \n",
       "  L1468.12 766.846 L1479.73 766.846 L1491.35 766.846 L1502.96 766.846 L1514.58 766.846 L1526.19 766.846 L1537.8 766.846 L1549.42 766.846 L1561.03 766.846 L1572.65 766.846 \n",
       "  L1584.26 766.846 L1595.87 766.846 L1607.49 766.846 L1619.1 766.846 L1630.71 766.846 L1642.33 766.846 L1653.94 766.846 L1665.56 766.846 L1677.17 766.846 L1688.78 766.846 \n",
       "  L1700.4 766.846 L1712.01 766.846 L1723.63 766.846 L1735.24 766.846 L1746.85 766.846 L1758.47 766.846 L1770.08 766.846 L1781.7 766.846 L1793.31 766.846 L1804.92 766.846 \n",
       "  L1816.54 766.846 L1828.15 766.846 L1839.77 766.846 L1851.38 766.846 L1862.99 766.846 L1874.61 766.846 L1886.22 766.846 L1897.84 766.846 L1909.45 766.846 L1921.06 766.846 \n",
       "  L1932.68 766.846 L1944.29 766.846 L1955.91 766.846 L1967.52 766.846 L1979.13 766.846 L1990.75 766.846 L2002.36 766.846 L2013.98 766.846 L2025.59 766.846 L2037.2 766.846 \n",
       "  L2048.82 766.846 L2060.43 766.846 L2072.05 766.846 L2083.66 766.846 L2095.27 766.846 L2106.89 766.846 L2118.5 766.846 L2130.12 766.846 L2141.73 766.846 L2153.34 766.846 \n",
       "  L2164.96 766.846 L2176.57 766.846 L2188.19 766.846 L2199.8 766.846 L2211.41 766.846 L2223.03 766.846  Z\n",
       "  \" fill=\"#97b476\" fill-rule=\"evenodd\" fill-opacity=\"0\"/>\n",
       "<polyline clip-path=\"url(#clip312)\" style=\"stroke:#0000ff; stroke-linecap:butt; stroke-linejoin:round; stroke-width:4; stroke-opacity:1; fill:none\" points=\"\n",
       "  2223.03,696.987 2211.41,696.987 2199.8,696.987 2188.19,696.987 2176.57,696.987 2164.96,696.987 2153.34,696.987 2141.73,696.987 2130.12,696.987 2118.5,696.987 \n",
       "  2106.89,696.987 2095.27,696.987 2083.66,696.987 2072.05,696.987 2060.43,696.987 2048.82,696.987 2037.2,696.987 2025.59,696.987 2013.98,696.987 2002.36,696.987 \n",
       "  1990.75,696.987 1979.13,696.987 1967.52,696.987 1955.91,696.987 1944.29,696.987 1932.68,696.987 1921.06,696.987 1909.45,696.987 1897.84,696.987 1886.22,696.987 \n",
       "  1874.61,696.987 1862.99,696.987 1851.38,696.987 1839.77,696.987 1828.15,696.987 1816.54,696.987 1804.92,696.987 1793.31,696.987 1781.7,696.987 1770.08,696.987 \n",
       "  1758.47,696.987 1746.85,696.987 1735.24,696.987 1723.63,696.987 1712.01,696.987 1700.4,696.987 1688.78,696.987 1677.17,696.987 1665.56,696.987 1653.94,696.987 \n",
       "  1642.33,696.987 1630.71,696.987 1619.1,696.987 1607.49,696.987 1595.87,696.987 1584.26,696.987 1572.65,696.987 1561.03,696.987 1549.42,696.987 1537.8,696.987 \n",
       "  1526.19,696.987 1514.58,696.987 1502.96,696.987 1491.35,696.987 1479.73,696.987 1468.12,696.987 1456.51,696.987 1444.89,696.987 1433.28,696.987 1421.66,696.987 \n",
       "  1410.05,696.987 1398.44,696.987 1386.82,696.987 1375.21,696.987 1363.59,696.987 1351.98,696.987 1340.37,696.987 1328.75,696.987 1317.14,696.987 1305.52,696.987 \n",
       "  1293.91,696.987 1282.3,696.987 1270.68,696.987 1259.07,696.987 1247.45,696.987 1235.84,696.987 1224.23,696.987 1212.61,696.987 1201,696.987 1189.38,696.987 \n",
       "  1177.77,696.987 1166.16,696.987 1154.54,696.987 1142.93,696.987 1131.31,696.987 1119.7,696.987 1108.09,696.987 1096.47,696.987 1084.86,696.987 1073.24,696.987 \n",
       "  1061.63,696.987 1050.02,696.987 1038.4,696.987 1026.79,696.987 1015.17,696.987 1003.56,696.987 991.947,696.987 980.333,696.987 968.719,696.987 957.105,696.987 \n",
       "  945.491,696.987 933.877,696.987 922.263,696.987 910.649,696.987 899.035,696.987 887.421,696.987 875.807,696.987 864.193,696.987 852.579,696.987 840.965,696.987 \n",
       "  829.351,696.987 817.737,696.987 806.123,696.987 794.509,696.987 782.895,696.987 771.281,696.987 759.667,696.987 748.053,696.987 736.439,696.987 724.825,696.987 \n",
       "  713.211,696.987 701.597,696.987 689.983,696.987 678.369,696.987 666.755,696.987 655.141,696.987 643.527,696.987 631.913,696.987 620.299,696.987 608.685,696.987 \n",
       "  597.072,696.987 585.458,696.987 573.844,696.987 562.23,696.987 550.616,696.987 539.002,696.987 527.388,696.987 515.774,696.987 504.16,696.987 492.546,696.987 \n",
       "  480.932,696.987 469.318,696.987 457.704,696.987 446.09,696.987 434.476,696.987 422.862,696.987 411.248,696.987 399.634,696.987 388.02,696.987 376.406,696.987 \n",
       "  364.792,696.987 353.178,696.987 341.047,698.048 329.285,701.2 318.249,706.346 308.274,713.331 299.663,721.941 292.678,731.916 287.532,742.953 \n",
       "  284.38,754.715 283.319,766.846 284.38,778.977 287.532,790.739 292.678,801.776 299.663,811.751 308.274,820.361 318.249,827.346 329.285,832.492 341.047,835.644 \n",
       "  353.178,836.705 364.792,836.705 376.406,836.705 388.02,836.705 399.634,836.705 411.248,836.705 422.862,836.705 434.476,836.705 446.09,836.705 \n",
       "  457.704,836.705 469.318,836.705 480.932,836.705 492.546,836.705 504.16,836.705 515.774,836.705 527.388,836.705 539.002,836.705 550.616,836.705 562.23,836.705 \n",
       "  573.844,836.705 585.458,836.705 597.072,836.705 608.685,836.705 620.299,836.705 631.913,836.705 643.527,836.705 655.141,836.705 666.755,836.705 678.369,836.705 \n",
       "  689.983,836.705 701.597,836.705 713.211,836.705 724.825,836.705 736.439,836.705 748.053,836.705 759.667,836.705 771.281,836.705 782.895,836.705 794.509,836.705 \n",
       "  806.123,836.705 817.737,836.705 829.351,836.705 840.965,836.705 852.579,836.705 864.193,836.705 875.807,836.705 887.421,836.705 899.035,836.705 910.649,836.705 \n",
       "  922.263,836.705 933.877,836.705 945.491,836.705 957.105,836.705 968.719,836.705 980.333,836.705 991.947,836.705 1003.56,836.705 1015.17,836.705 1026.79,836.705 \n",
       "  1038.4,836.705 1050.02,836.705 1061.63,836.705 1073.24,836.705 1084.86,836.705 1096.47,836.705 1108.09,836.705 1119.7,836.705 1131.31,836.705 1142.93,836.705 \n",
       "  1154.54,836.705 1166.16,836.705 1177.77,836.705 1189.38,836.705 1201,836.705 1212.61,836.705 1224.23,836.705 1235.84,836.705 1247.45,836.705 1259.07,836.705 \n",
       "  1270.68,836.705 1282.3,836.705 1293.91,836.705 1305.52,836.705 1317.14,836.705 1328.75,836.705 1340.37,836.705 1351.98,836.705 1363.59,836.705 1375.21,836.705 \n",
       "  1386.82,836.705 1398.44,836.705 1410.05,836.705 1421.66,836.705 1433.28,836.705 1444.89,836.705 1456.51,836.705 1468.12,836.705 1479.73,836.705 1491.35,836.705 \n",
       "  1502.96,836.705 1514.58,836.705 1526.19,836.705 1537.8,836.705 1549.42,836.705 1561.03,836.705 1572.65,836.705 1584.26,836.705 1595.87,836.705 1607.49,836.705 \n",
       "  1619.1,836.705 1630.71,836.705 1642.33,836.705 1653.94,836.705 1665.56,836.705 1677.17,836.705 1688.78,836.705 1700.4,836.705 1712.01,836.705 1723.63,836.705 \n",
       "  1735.24,836.705 1746.85,836.705 1758.47,836.705 1770.08,836.705 1781.7,836.705 1793.31,836.705 1804.92,836.705 1816.54,836.705 1828.15,836.705 1839.77,836.705 \n",
       "  1851.38,836.705 1862.99,836.705 1874.61,836.705 1886.22,836.705 1897.84,836.705 1909.45,836.705 1921.06,836.705 1932.68,836.705 1944.29,836.705 1955.91,836.705 \n",
       "  1967.52,836.705 1979.13,836.705 1990.75,836.705 2002.36,836.705 2013.98,836.705 2025.59,836.705 2037.2,836.705 2048.82,836.705 2060.43,836.705 2072.05,836.705 \n",
       "  2083.66,836.705 2095.27,836.705 2106.89,836.705 2118.5,836.705 2130.12,836.705 2141.73,836.705 2153.34,836.705 2164.96,836.705 2176.57,836.705 2188.19,836.705 \n",
       "  2199.8,836.705 2211.41,836.705 2223.03,836.705 2235.16,835.644 2246.92,832.492 2257.96,827.346 2267.93,820.361 2276.54,811.751 2283.53,801.776 \n",
       "  2288.67,790.739 2291.83,778.977 2292.89,766.846 2291.83,754.715 2288.67,742.953 2283.53,731.916 2276.54,721.941 2267.93,713.331 2257.96,706.346 2246.92,701.2 \n",
       "  2235.16,698.048 2223.03,696.987 \n",
       "  \"/>\n",
       "</svg>\n"
      ]
     },
     "execution_count": 125,
     "metadata": {},
     "output_type": "execute_result"
    }
   ],
   "source": [
    "plot(ohp,fillalpha=0,linecolor=:blue,xlims=xlim,ylims=ylim,framestyle = :box)"
   ]
  },
  {
   "cell_type": "code",
   "execution_count": 126,
   "id": "5ea85ad4",
   "metadata": {},
   "outputs": [
    {
     "data": {
      "text/plain": [
       "LineSourceParams{BasicBody{362,RigidBodyTools.ClosedBody}}(Basic pointwise-specified body with 362 points\n",
       "   Current position: (0.0,0.0)\n",
       "   Current angle (rad): 0.0\n",
       ")"
      ]
     },
     "execution_count": 126,
     "metadata": {},
     "output_type": "execute_result"
    }
   ],
   "source": [
    "ohpgeom = ComputationalHeatTransfer.LineSourceParams(ohp)"
   ]
  },
  {
   "cell_type": "markdown",
   "id": "25a85522",
   "metadata": {},
   "source": [
    "### Create the system"
   ]
  },
  {
   "cell_type": "code",
   "execution_count": 127,
   "id": "2f110a1d",
   "metadata": {},
   "outputs": [
    {
     "data": {
      "text/plain": [
       "Unbounded Heat conduction system on a grid of size 280 x 120 and 0 static immersed points\n"
      ]
     },
     "execution_count": 127,
     "metadata": {},
     "output_type": "execute_result"
    }
   ],
   "source": [
    "sys = HeatConduction(params,Δx,xlim,ylim,Δt,qline=ohpgeom,qflux=[eparams1,eparams2],qmodel=[cparams1,cparams2])"
   ]
  },
  {
   "cell_type": "markdown",
   "id": "ef0bc172",
   "metadata": {},
   "source": [
    "# OHP inner part"
   ]
  },
  {
   "cell_type": "markdown",
   "id": "ba7a8261",
   "metadata": {},
   "source": [
    "### Dimensional conversion"
   ]
  },
  {
   "cell_type": "code",
   "execution_count": 128,
   "id": "862c8213",
   "metadata": {},
   "outputs": [
    {
     "data": {
      "text/plain": [
       "0.2831486159429433"
      ]
     },
     "execution_count": 128,
     "metadata": {},
     "output_type": "execute_result"
    }
   ],
   "source": [
    "t_to_nondi_t = μₗ/ρₗ/(tube_d^2)"
   ]
  },
  {
   "cell_type": "code",
   "execution_count": 129,
   "id": "3d4a917e",
   "metadata": {},
   "outputs": [
    {
     "data": {
      "text/plain": [
       "0.010113739664438532"
      ]
     },
     "execution_count": 129,
     "metadata": {},
     "output_type": "execute_result"
    }
   ],
   "source": [
    "hl_to_nondihl = 4*tube_d/(μₗ*Cpₗ)"
   ]
  },
  {
   "cell_type": "code",
   "execution_count": 130,
   "id": "ca2987ca",
   "metadata": {},
   "outputs": [
    {
     "data": {
      "text/plain": [
       "2.1888035096259424"
      ]
     },
     "execution_count": 130,
     "metadata": {},
     "output_type": "execute_result"
    }
   ],
   "source": [
    "hv_to_nondihv =  4*Rkg*Tᵥ^2*tube_d/(P*hₗᵥ*νₗ)"
   ]
  },
  {
   "cell_type": "code",
   "execution_count": 131,
   "id": "c3db65bf",
   "metadata": {},
   "outputs": [
    {
     "data": {
      "text/plain": [
       "0.0046206704347650325"
      ]
     },
     "execution_count": 131,
     "metadata": {},
     "output_type": "execute_result"
    }
   ],
   "source": [
    "nondihv_tonondihl = hl_to_nondihl / hv_to_nondihv"
   ]
  },
  {
   "cell_type": "code",
   "execution_count": 132,
   "id": "e9b9c59b",
   "metadata": {},
   "outputs": [
    {
     "data": {
      "text/plain": [
       "0.42341390112599475"
      ]
     },
     "execution_count": 132,
     "metadata": {},
     "output_type": "execute_result"
    }
   ],
   "source": [
    "nondiqv_to_qv = Tᵥ *(pi*tube_d) / hv_to_nondihv"
   ]
  },
  {
   "cell_type": "code",
   "execution_count": 133,
   "id": "06022f0d",
   "metadata": {
    "scrolled": true
   },
   "outputs": [
    {
     "data": {
      "text/plain": [
       "91.63473290376008"
      ]
     },
     "execution_count": 133,
     "metadata": {},
     "output_type": "execute_result"
    }
   ],
   "source": [
    "nondiql_to_ql = Tᵥ * (pi*tube_d)/ hl_to_nondihl"
   ]
  },
  {
   "cell_type": "code",
   "execution_count": 134,
   "id": "fdfc22e5",
   "metadata": {},
   "outputs": [
    {
     "data": {
      "text/plain": [
       "di_T_to_nondi_T (generic function with 1 method)"
      ]
     },
     "execution_count": 134,
     "metadata": {},
     "output_type": "execute_result"
    }
   ],
   "source": [
    "nondi_Q_to_Q = nondiqv_to_qv\n",
    "function di_T_to_nondi_T(di_T;T0=295.0) \n",
    "    \n",
    "    di_T/T0\n",
    "    \n",
    "end"
   ]
  },
  {
   "cell_type": "code",
   "execution_count": 135,
   "id": "57401fd9",
   "metadata": {},
   "outputs": [
    {
     "data": {
      "text/plain": [
       "464.1343957425323"
      ]
     },
     "execution_count": 135,
     "metadata": {},
     "output_type": "execute_result"
    }
   ],
   "source": [
    "    ω = sqrt(2.45E+03);\n",
    "    ℘L = 2.05E+05;\n",
    "    k = 0.106024683\n",
    "\n",
    "    θinitial=1.0\n",
    "    θc = 1.0; # useless\n",
    "\n",
    "    Hwc = 0.0; #not useful later on. H between wall and condenser, \n",
    "\n",
    "    htₗ = 4.62e2 # Nusselt number 4.36\n",
    "    Htₗ_real = 4*htₗ*tube_d/(μₗ*Cpₗ)\n",
    "    Htₗ_OHP  = Htₗ_real/nondihv_tonondihl\n",
    "\n",
    "    Hδ = kₗ/(tube_d/2) * hv_to_nondihv\n"
   ]
  },
  {
   "cell_type": "code",
   "execution_count": 136,
   "id": "458d5d9a",
   "metadata": {},
   "outputs": [
    {
     "data": {
      "text/plain": [
       "true"
      ]
     },
     "execution_count": 136,
     "metadata": {},
     "output_type": "execute_result"
    }
   ],
   "source": [
    "    nondi_diameter = 6.56e-3 # dimensionless diameter\n",
    "    L = 2.0 + one_loop_gap*pi/length_ohp  # total length of the pipe when streched to a 1D pipe\n",
    "#     L = 34.35  # total length of the pipe when streched to a 1D pipe\n",
    "    L2D = 1.0 # the actual length of the bended pipe in the real world\n",
    "    angle = 0*pi/2 # inclination angle \n",
    "    ΔTthres = 0.3/295.0 *100; # use a small threshold\n",
    "    closedornot = true"
   ]
  },
  {
   "cell_type": "code",
   "execution_count": 137,
   "id": "b3c6e1b1",
   "metadata": {},
   "outputs": [],
   "source": [
    "    nucleatenum = 256\n",
    "    Xstations = sort(rand(nucleatenum).*L);\n",
    "#     Xstations = LinRange(0.0,L-L/nucleatenum,nucleatenum)\n",
    "#     boilingΔt = 0.05"
   ]
  },
  {
   "cell_type": "code",
   "execution_count": 138,
   "id": "a8faf082",
   "metadata": {},
   "outputs": [],
   "source": [
    "tube = Tube(nondi_diameter,L,L2D,angle,ΔTthres,closedornot);"
   ]
  },
  {
   "cell_type": "code",
   "execution_count": 139,
   "id": "44c91b82",
   "metadata": {},
   "outputs": [],
   "source": [
    "# useless\n",
    "Xe = map(tuple, [1.0], [3.0])\n",
    "We = [0.0]\n",
    "evap = Evaporator(Xe,We);"
   ]
  },
  {
   "cell_type": "code",
   "execution_count": 140,
   "id": "5a9c7367",
   "metadata": {},
   "outputs": [],
   "source": [
    "# useless\n",
    "Xc = map(tuple, [0.0,3.0], [1.0,4.0])\n",
    "cond = Condenser(θc,Xc,Hwc);"
   ]
  },
  {
   "cell_type": "code",
   "execution_count": 141,
   "id": "f8b02c4c",
   "metadata": {},
   "outputs": [],
   "source": [
    "# X0,realratio = randomXp(L,numofslugs=60,chargeratio=0.45)\n",
    "X0 = [(L/2,L/2 + 1.0)]\n",
    "\n",
    "dXdt0_l = zeros(length(X0))\n",
    "dXdt0_r = zeros(length(X0))\n",
    "dXdt0 = map(tuple,dXdt0_l,dXdt0_r)\n",
    "\n",
    "\n",
    "# construct liquids\n",
    "N=numpts(ohp)\n",
    "\n",
    "ρ = 102.593344 # density ratio\n",
    "Xarrays,θarrays = constructXarrays(X0,N,θinitial,L)\n",
    "liquids=Liquid(Htₗ_OHP,ρ,ω,℘L,X0,dXdt0,Xarrays,θarrays);\n"
   ]
  },
  {
   "cell_type": "code",
   "execution_count": 142,
   "id": "9df2f999",
   "metadata": {},
   "outputs": [
    {
     "ename": "LoadError",
     "evalue": "\u001b[91mUndefVarError: realratio not defined\u001b[39m",
     "output_type": "error",
     "traceback": [
      "\u001b[91mUndefVarError: realratio not defined\u001b[39m",
      "",
      "Stacktrace:",
      " [1] top-level scope",
      " [2] include_string(::Function, ::Module, ::String, ::String) at .\\loading.jl:1091"
     ]
    }
   ],
   "source": [
    "realratio"
   ]
  },
  {
   "cell_type": "code",
   "execution_count": 143,
   "id": "6f189e66",
   "metadata": {},
   "outputs": [],
   "source": [
    "# P = [1.0,1.0,1.0,1.0,1.0]; # closed end\n",
    "\n",
    "γ = 1.4;\n",
    "# Hδ = 4.64E+02\n",
    "P = 0*zeros(length(X0)) .+ 1.0;\n",
    "δ = 0*zeros(length(X0)) .+ 2.0E-01;\n",
    "# δ = 0*zeros(length(X0)) .+ 2.78E-02;\n",
    "# δ = 0*zeros(length(X0)) .+ 2.78E-02 .* 10; # use a random film thickness\n",
    "vapors=Vapor(γ,Hδ,P,δ);"
   ]
  },
  {
   "cell_type": "code",
   "execution_count": 144,
   "id": "b216f743",
   "metadata": {},
   "outputs": [
    {
     "data": {
      "text/plain": [
       "1.0"
      ]
     },
     "execution_count": 144,
     "metadata": {},
     "output_type": "execute_result"
    }
   ],
   "source": [
    "di_T_to_nondi_T(Tᵥ)"
   ]
  },
  {
   "cell_type": "code",
   "execution_count": 145,
   "id": "291c5609",
   "metadata": {},
   "outputs": [
    {
     "data": {
      "text/plain": [
       "([0.003107175685366934, 0.0093215270561008, 0.01553587842683467, 0.021750229797568434, 0.0279645811683023, 0.03417893253903607, 0.04039328390976993, 0.0466076352805038, 0.05282198665123767, 0.059036338021971536  …  2.179559529499081, 2.1860504821007583, 2.1925414347024357, 2.199032387304113, 2.2055233399057905, 2.212014292507468, 2.2185052451091454, 2.224996197710823, 2.2314871503125, 2.2347450238055586], [1.0, 1.0, 1.0, 1.0, 1.0, 1.0, 1.0, 1.0, 1.0, 1.0  …  1.0, 1.0, 1.0, 1.0, 1.0, 1.0, 1.0, 1.0, 1.0, 1.0])"
      ]
     },
     "execution_count": 145,
     "metadata": {},
     "output_type": "execute_result"
    }
   ],
   "source": [
    "Xwallarray,θwallarray = constructXarrays(sys.qline[1].arccoord,L,θinitial)"
   ]
  },
  {
   "cell_type": "code",
   "execution_count": 146,
   "id": "24b5daea",
   "metadata": {},
   "outputs": [],
   "source": [
    "α = 1.154e-5 # nondimensional thermal diffusivity = (αₐ d^2) / (νₗ height^2)\n",
    "# Xwallarray,θwallarray = constructXarrays(L,N,θinitial)\n",
    "Xwallarray,θwallarray = constructXarrays(sys.qline[1].arccoord,L,θinitial)\n",
    "θwallarray .= di_T_to_nondi_T(Tᵥ);\n",
    "\n",
    "wall = Wall(α,Δt,Xstations,Xwallarray,θwallarray);"
   ]
  },
  {
   "cell_type": "code",
   "execution_count": 147,
   "id": "a75c371e",
   "metadata": {},
   "outputs": [],
   "source": [
    "sys0_nomapping = PHPSystem_nomapping(tube,evap,cond,liquids,vapors,wall);\n",
    "θ_interp_walltoliquid, θ_interp_liquidtowall, H_interp_liquidtowall, P_interp_liquidtowall = sys_interpolation(sys0_nomapping)\n",
    "mapping = Mapping(θ_interp_walltoliquid, θ_interp_liquidtowall, H_interp_liquidtowall, P_interp_liquidtowall);"
   ]
  },
  {
   "cell_type": "code",
   "execution_count": 148,
   "id": "15b25077",
   "metadata": {},
   "outputs": [],
   "source": [
    "sys0 = PHPSystem(tube,evap,cond,liquids,vapors,wall,mapping);"
   ]
  },
  {
   "cell_type": "markdown",
   "id": "50c0dc98",
   "metadata": {},
   "source": [
    "### construct state vector U"
   ]
  },
  {
   "cell_type": "code",
   "execution_count": 149,
   "id": "2b261487",
   "metadata": {},
   "outputs": [],
   "source": [
    "Lvaporplug = XptoLvaporplug(X0,sys0.tube.L,sys0.tube.closedornot)\n",
    "M = nondi_PtoD(P) .* Lvaporplug\n",
    "# M = P.^(1/γ).* Lvaporplug\n",
    "\n",
    "\n",
    "u=[XMδtovec(X0,dXdt0,M,δ); liquidθtovec(sys0.liquid.θarrays)];"
   ]
  },
  {
   "cell_type": "code",
   "execution_count": 150,
   "id": "ee00d456",
   "metadata": {},
   "outputs": [],
   "source": [
    "cb_boiling =  DiscreteCallback(boiling_condition,boiling_affect!)\n",
    "# cb_boiling =  PeriodicCallback(boiling_affect!,0.01*t_to_nondi_t)\n",
    "cb_merging =  DiscreteCallback(merging_condition,merging_affect!)\n",
    "\n",
    "cbst = CallbackSet(cb_boiling,cb_merging);"
   ]
  },
  {
   "cell_type": "markdown",
   "id": "1d341937",
   "metadata": {},
   "source": [
    "# combine inner tube and plate together"
   ]
  },
  {
   "cell_type": "code",
   "execution_count": 151,
   "id": "61c509f0",
   "metadata": {},
   "outputs": [
    {
     "data": {
      "text/plain": [
       "1"
      ]
     },
     "execution_count": 151,
     "metadata": {},
     "output_type": "execute_result"
    }
   ],
   "source": [
    "tspan = (0.0, 1.0);\n",
    "dt_record = tspan[2] /100;\n",
    "\n",
    "tstep=1e-3\n",
    "\n",
    "N_iter = 1\n",
    "# tstep_plate = tstep/N_iter\n",
    "# dt_record = tstep"
   ]
  },
  {
   "cell_type": "code",
   "execution_count": 152,
   "id": "f698133f",
   "metadata": {},
   "outputs": [],
   "source": [
    "u0 = newstate(sys)\n",
    "integrator_plate = init(u0,tspan,sys)\n",
    "# Tplate = temperature(integrator_plate);\n",
    "temperature(integrator_plate) .= Tᵥ  .+ 1.0;"
   ]
  },
  {
   "cell_type": "code",
   "execution_count": 153,
   "id": "df4a6a45",
   "metadata": {},
   "outputs": [],
   "source": [
    "p = sys0\n",
    "u=[XMδtovec(X0,dXdt0,M,δ); liquidθtovec(sys0.liquid.θarrays)];\n",
    "prob = ODEProblem(ODE_innertube, u, tspan, p)\n",
    "integrator_tube = init(prob, RK4(),save_everystep=false, dt=tstep*t_to_nondi_t, callback=cbst);"
   ]
  },
  {
   "cell_type": "code",
   "execution_count": 154,
   "id": "7bcb09fd",
   "metadata": {},
   "outputs": [],
   "source": [
    "plate_hist = []\n",
    "tube_hist  = []\n",
    "\n",
    "currentsys = integrator_tube.p\n",
    "currentsys = getcurrentsys(integrator_tube.u,currentsys);"
   ]
  },
  {
   "cell_type": "code",
   "execution_count": 155,
   "id": "e57c3499",
   "metadata": {},
   "outputs": [
    {
     "name": "stdout",
     "output_type": "stream",
     "text": [
      "0.010000000000000002\n",
      "0.02000000000000001\n",
      "0.03000000000000002\n",
      "0.04000000000000003\n",
      "0.05000000000000004\n",
      "0.060000000000000046\n",
      "0.07000000000000005\n",
      "0.08000000000000006\n",
      "0.09000000000000007\n",
      "0.10000000000000007\n",
      "0.11000000000000008\n",
      "0.12000000000000009\n",
      "0.1300000000000001\n",
      "0.1400000000000001\n",
      "0.1500000000000001\n",
      "0.16000000000000011\n",
      "0.17000000000000012\n",
      "0.18000000000000013\n",
      "0.19000000000000014\n",
      "0.20000000000000015\n",
      "0.21000000000000016\n",
      "0.22000000000000017\n",
      "0.23000000000000018\n",
      "0.24000000000000019\n",
      "0.25000000000000017\n",
      "0.2600000000000002\n",
      "0.2700000000000002\n",
      "0.2800000000000002\n",
      "0.2900000000000002\n",
      "0.3000000000000002\n",
      "0.3100000000000002\n",
      "0.32000000000000023\n",
      "0.33000000000000024\n",
      "0.34000000000000025\n",
      "0.35000000000000026\n",
      "0.36000000000000026\n",
      "0.3700000000000003\n",
      "0.3800000000000003\n",
      "0.3900000000000003\n",
      "0.4000000000000003\n",
      "0.4100000000000003\n",
      "0.4200000000000003\n",
      "0.4300000000000003\n",
      "0.44000000000000034\n",
      "0.45000000000000034\n",
      "0.46000000000000035\n",
      "0.47000000000000036\n",
      "0.48000000000000037\n",
      "0.4900000000000004\n",
      "0.5000000000000003\n",
      "0.5100000000000003\n",
      "0.5200000000000004\n",
      "0.5300000000000004\n",
      "0.5400000000000004\n",
      "0.5500000000000004\n",
      "0.5600000000000004\n",
      "0.5700000000000004\n",
      "0.5800000000000004\n",
      "0.5900000000000004\n",
      "0.6000000000000004\n",
      "0.6100000000000004\n",
      "0.6200000000000004\n",
      "0.6300000000000004\n",
      "0.6400000000000005\n",
      "0.6500000000000005\n",
      "0.6600000000000005\n",
      "0.6700000000000005\n",
      "0.6800000000000005\n",
      "0.6900000000000005\n",
      "0.7000000000000005\n",
      "0.7100000000000005\n",
      "0.7200000000000005\n",
      "0.7300000000000005\n",
      "0.7400000000000005\n",
      "0.7500000000000006\n",
      "0.7600000000000006\n",
      "0.7700000000000006\n",
      "0.7800000000000006\n",
      "0.7900000000000006\n",
      "0.8000000000000006\n",
      "0.8100000000000006\n",
      "0.8200000000000006\n",
      "0.8300000000000006\n",
      "0.8400000000000006\n",
      "0.8500000000000006\n",
      "0.8600000000000007\n",
      "0.8700000000000007\n",
      "0.8800000000000007\n",
      "0.8900000000000007\n",
      "0.9000000000000007\n",
      "0.9100000000000007\n",
      "0.9200000000000007\n",
      "0.9300000000000007\n",
      "0.9400000000000007\n",
      "0.9500000000000007\n",
      "0.9600000000000007\n",
      "0.9700000000000008\n",
      "0.9800000000000008\n",
      "0.9900000000000008\n",
      "1.0000000000000007\n",
      "227.507085 seconds (5.13 M allocations: 3.594 GiB, 52.29% gc time)\n"
     ]
    }
   ],
   "source": [
    "\n",
    "@time for t in tspan[1]:tstep:tspan[2]\n",
    "    \n",
    "\n",
    "#   for j in 1:N_iter\n",
    "        currentsys.wall.θarray = di_T_to_nondi_T(temperature_linesource(integrator_plate))\n",
    "        currentsys = getcurrentsys(integrator_tube.u,currentsys)\n",
    "\n",
    "\n",
    "        nondi_qtmp = sys_to_heatflux(currentsys)\n",
    "        qtmp = nondi_Q_to_Q*nondi_qtmp\n",
    "        set_linesource_strength!(sys,qtmp)\n",
    "\n",
    "\n",
    "#      ADI_timemarching!(temperature(integrator_plate),sys,tstep)\n",
    "#     end\n",
    "    integrator_plate.t += tstep\n",
    "    \n",
    "    # reinitialize the integrator_tube to avoid some mysterious problems\n",
    "    prob = ODEProblem(ODE_innertube, deepcopy(integrator_tube.u), (integrator_plate.t*t_to_nondi_t-tstep*t_to_nondi_t,integrator_plate.t*t_to_nondi_t), currentsys)\n",
    "    integrator_tube = init(prob, RK4(), callback=cbst, dt=tstep*t_to_nondi_t);\n",
    "#     step!(integrator_tube);\n",
    "    step!(integrator_tube,tstep*t_to_nondi_t,true);\n",
    "\n",
    "    if (mod(integrator_plate.t,dt_record) < 1e-6) || (mod(-integrator_plate.t,dt_record) < 1e-6)\n",
    "        push!(plate_hist,deepcopy(integrator_plate)); \n",
    "        push!(tube_hist,deepcopy(integrator_tube));\n",
    "        println(integrator_plate.t)\n",
    "    end\n",
    "    \n",
    "end"
   ]
  },
  {
   "cell_type": "code",
   "execution_count": 156,
   "id": "f55586cf",
   "metadata": {},
   "outputs": [
    {
     "name": "stdout",
     "output_type": "stream",
     "text": [
      "1.0010000000000006\n"
     ]
    }
   ],
   "source": [
    "        push!(plate_hist,deepcopy(integrator_plate)); \n",
    "        push!(tube_hist,deepcopy(integrator_tube));\n",
    "        println(integrator_plate.t)"
   ]
  },
  {
   "cell_type": "code",
   "execution_count": 157,
   "id": "51e5ee06",
   "metadata": {},
   "outputs": [],
   "source": [
    "sysfinal = []\n",
    "for i = 1:length(tube_hist)\n",
    "    push!(sysfinal, deepcopy(getcurrentsys(tube_hist[i].u,tube_hist[i].p)))\n",
    "end"
   ]
  },
  {
   "cell_type": "code",
   "execution_count": 182,
   "id": "68097b9b",
   "metadata": {},
   "outputs": [
    {
     "name": "stderr",
     "output_type": "stream",
     "text": [
      "┌ Info: Saved animation to \n",
      "│   fn = C:\\Users\\liyux\\Documents\\GitHub\\ComputationalHeatTransfer.jl\\src\\tmp.gif\n",
      "└ @ Plots C:\\Users\\liyux\\.julia\\packages\\Plots\\LSKOd\\src\\animation.jl:114\n"
     ]
    },
    {
     "data": {
      "text/html": [
       "<img src=\"data:image/gif;base64,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\" />"
      ],
      "text/plain": [
       "Plots.AnimatedGif(\"C:\\\\Users\\\\liyux\\\\Documents\\\\GitHub\\\\ComputationalHeatTransfer.jl\\\\src\\\\tmp.gif\")"
      ]
     },
     "execution_count": 182,
     "metadata": {},
     "output_type": "execute_result"
    }
   ],
   "source": [
    "@gif for i=1:1:length(sysfinal)\n",
    "    Htmp = sys_to_Harray(sysfinal[i])\n",
    "    plot(ohp,fillalpha=0,linecolor=cgrad([:gold, :blue],rev=true),line_z=Htmp,xlabel=\"x \",ylabel=\"y \",border=:none,axis=nothing)\n",
    "end"
   ]
  },
  {
   "cell_type": "code",
   "execution_count": 187,
   "id": "b11a66ab",
   "metadata": {},
   "outputs": [],
   "source": [
    "Htmp = sys_to_Harray(sysfinal[end])\n",
    "plot(ohp,fillalpha=0,linecolor=cgrad([:gold, :blue],rev=true),line_z=Htmp,xlabel=\"x \",ylabel=\"y \",border=:none,axis=nothing)\n",
    "\n",
    "savefig(\"OHP.pdf\")"
   ]
  },
  {
   "cell_type": "markdown",
   "id": "3e9fa836",
   "metadata": {},
   "source": [
    "# plot the OHP"
   ]
  },
  {
   "cell_type": "code",
   "execution_count": 174,
   "id": "61dda03d",
   "metadata": {},
   "outputs": [],
   "source": [
    "paraₗ = 4*htₗ/(tube_d*ρₗ*Cpₗ)\n",
    "t = LinRange(tspan[1],tspan[2],length(sysfinal))\n",
    "\n",
    "Thist_refₗ = (Tᵥ + 1.0) .- exp.(-paraₗ .* (t .- t[1]));\n"
   ]
  },
  {
   "cell_type": "code",
   "execution_count": 175,
   "id": "3429ac93",
   "metadata": {},
   "outputs": [],
   "source": [
    "Verification_Thist = zeros(length(sysfinal))\n",
    "Verification_Thist[1] = Tᵥ\n",
    "for i = 1:length(sysfinal)-1\n",
    "    Verification_Thist[i+1] = (maximum(sysfinal[i].liquid.θarrays[1]) * Tᵥ)\n",
    "end"
   ]
  },
  {
   "cell_type": "code",
   "execution_count": 181,
   "id": "14c7daea",
   "metadata": {},
   "outputs": [
    {
     "data": {
      "text/plain": [
       "6.252776074688882e-13"
      ]
     },
     "execution_count": 181,
     "metadata": {},
     "output_type": "execute_result"
    }
   ],
   "source": [
    "err = norm(Verification_Thist - Thist_refₗ,Inf)"
   ]
  },
  {
   "cell_type": "code",
   "execution_count": 202,
   "id": "8af573d0",
   "metadata": {},
   "outputs": [],
   "source": [
    "plot(t,Thist_refₗ,linewidth=3.0,label=\"numerical solution\")\n",
    "plot!(t[1:5:end],Verification_Thist[1:5:end],ylabel=\"T [K]\",xlabel=\"t [s]\",markershape=:auto,label=\"reference\",legend=:bottomright)\n",
    "savefig(\"validation.pdf\")"
   ]
  }
 ],
 "metadata": {
  "@webio": {
   "lastCommId": null,
   "lastKernelId": null
  },
  "kernelspec": {
   "display_name": "Julia 1.5.4",
   "language": "julia",
   "name": "julia-1.5"
  },
  "language_info": {
   "file_extension": ".jl",
   "mimetype": "application/julia",
   "name": "julia",
   "version": "1.5.4"
  }
 },
 "nbformat": 4,
 "nbformat_minor": 5
}
