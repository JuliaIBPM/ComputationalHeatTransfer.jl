{
 "cells": [
  {
   "cell_type": "markdown",
   "id": "3cccfbd4",
   "metadata": {},
   "source": [
    "### verifications done so far\n",
    "\n",
    "<!-- verified liquid slug $h_{liquid}$ with constant plate temperature. (not validating the heat diffusion along the liquid slug) (uniform temperature exponential in time) -->\n",
    "\n",
    "dP/dt of vapor bubble  (verifed dM/dt equation) (reference result are derived from heat flux and tube geometry and CoolProp) (a little bit comparing apple to apple)\n",
    "   \n",
    "the Regulation operator of the immersed boundary method (heat rate along the tube = heat rate of the plate)\n",
    "\n",
    "initial acceleration of liquid slug with an intial velocity, verified momentum equation without gravity term\n",
    "\n",
    "**heat diffusion along the liquid slug (can use the new validation case, but I need to derive the analytical solution first)**\n",
    "\n",
    "**one liquid slug move another liquid slug** ?\n",
    "\n",
    "**get the reynolds number!!!**\n",
    "\n",
    "heat diffusion in the plate (already did, need to find the old document)\n",
    "\n",
    "### Jobs and verifications to go\n",
    "\n",
    "**mass conservation** coding, got the equations\n",
    "\n",
    "fft papers on OHP\n",
    "\n",
    "condenser $h_{condenser}$ and evaporator power\n",
    "\n",
    "CoolProp package\n",
    "\n",
    "churchill friction factor for viscous loss\n",
    "\n",
    "film thickness iterations (Aussillous paper to get an estimate, 3 regimes), can be more complicated"
   ]
  },
  {
   "cell_type": "markdown",
   "id": "28ff93be",
   "metadata": {},
   "source": [
    "### \"knobs\"  turned\n",
    "\n",
    "### before\n",
    "\n",
    "boilng superheat threshold (Clausius–Clayperon, Young–Laplace equation, in my 231C notes, Qu 's paper(assume vapor as perfect gas)) (Hsu paper)\n",
    "\n",
    "### now\n",
    "\n",
    "plate thickness (1-2 mm) a deterministic value\n",
    "\n",
    "condenser h\n",
    "\n",
    "film thickness (Aussillous paper to get an estimate, two regimes), can be more complicated \n",
    "\n",
    "\n",
    "### later maybe\n",
    "\n",
    "run a long simulation\n",
    "\n",
    "**friction coefficient**\n",
    "\n",
    "**friction loss at turns**\n",
    "\n",
    "#### sensible, latent heat ratio\n",
    "\n",
    "**liquid Nusselt number(now use 4.36, for uniform heat flux for cirlular tube**)\n",
    "\n",
    "condensation crtieria"
   ]
  },
  {
   "cell_type": "markdown",
   "id": "7dbfe453",
   "metadata": {},
   "source": [
    "try the initial setup to be \"all vapor bubble in the middle (evaporator)\" and \"all liquid slugs on the sides (condenser)\", see what will happen\n",
    "\n",
    "write the manuscript! how about starting from methods"
   ]
  },
  {
   "cell_type": "markdown",
   "id": "8bfd2606",
   "metadata": {},
   "source": [
    "log the boling and merging!"
   ]
  },
  {
   "cell_type": "markdown",
   "id": "c24448ba",
   "metadata": {},
   "source": [
    "### Daimaru paper temperature difference reason"
   ]
  },
  {
   "cell_type": "markdown",
   "id": "62b1f1a1",
   "metadata": {},
   "source": [
    "figures\n",
    "\n",
    "https://www.osti.gov/biblio/4175511/ Zuber’s thesis\n"
   ]
  },
  {
   "cell_type": "markdown",
   "id": "b3c8b604",
   "metadata": {},
   "source": [
    "# dryness\n",
    "\n",
    "# see liquid slug velocity trends \n",
    "\n",
    "# boiling frequency global\n",
    "\n",
    "# OHP3"
   ]
  },
  {
   "cell_type": "code",
   "execution_count": null,
   "id": "b2d14f07",
   "metadata": {},
   "outputs": [],
   "source": []
  }
 ],
 "metadata": {
  "kernelspec": {
   "display_name": "Julia 1.6.6",
   "language": "julia",
   "name": "julia-1.6"
  },
  "language_info": {
   "file_extension": ".jl",
   "mimetype": "application/julia",
   "name": "julia",
   "version": "1.6.6"
  }
 },
 "nbformat": 4,
 "nbformat_minor": 5
}
