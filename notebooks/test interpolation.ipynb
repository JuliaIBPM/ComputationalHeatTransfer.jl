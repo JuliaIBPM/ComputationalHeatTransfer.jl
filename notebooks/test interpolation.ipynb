{
 "cells": [
  {
   "cell_type": "code",
   "execution_count": 62,
   "metadata": {
    "scrolled": true
   },
   "outputs": [],
   "source": [
    "using ComputationalHeatTransfer"
   ]
  },
  {
   "cell_type": "code",
   "execution_count": 63,
   "metadata": {},
   "outputs": [],
   "source": [
    "# using Plots\n",
    "using LaTeXStrings"
   ]
  },
  {
   "cell_type": "code",
   "execution_count": 64,
   "metadata": {},
   "outputs": [
    {
     "data": {
      "text/plain": [
       "Plots.PyPlotBackend()"
      ]
     },
     "execution_count": 64,
     "metadata": {},
     "output_type": "execute_result"
    }
   ],
   "source": [
    "using Revise\n",
    "using LinearAlgebra\n",
    "using DifferentialEquations\n",
    "using Interpolations\n",
    "using Plots\n",
    "pyplot()"
   ]
  },
  {
   "cell_type": "code",
   "execution_count": 65,
   "metadata": {},
   "outputs": [],
   "source": [
    "cd(dirname(pwd()))\n",
    "cd(\"src\") \n",
    "\n",
    "includet(\"OneDOHP.jl\")\n",
    "using ..OneDOHP"
   ]
  },
  {
   "cell_type": "markdown",
   "metadata": {},
   "source": [
    "# OHP inner part"
   ]
  },
  {
   "cell_type": "code",
   "execution_count": 66,
   "metadata": {},
   "outputs": [
    {
     "data": {
      "text/plain": [
       "di_T_to_nondi_T (generic function with 1 method)"
      ]
     },
     "execution_count": 66,
     "metadata": {},
     "output_type": "execute_result"
    }
   ],
   "source": [
    "T0 = 273.15\n",
    "nondi_Q_to_Q = 8.52e01\n",
    "t_to_nondi_t = 3.42e-01\n",
    "function di_T_to_nondi_T(di_T;T0=273.15) \n",
    "    \n",
    "    (di_T+T0)/T0\n",
    "    \n",
    "end"
   ]
  },
  {
   "cell_type": "code",
   "execution_count": 67,
   "metadata": {},
   "outputs": [],
   "source": [
    "    ω = sqrt(1.68e003);\n",
    "    ℘L = 6.2e004;\n",
    "    k = 115e-003\n",
    "\n",
    "    θinitial=1.0\n",
    "    θc = 1.0; # useless\n",
    "\n",
    "    Hwc = 0.0; #not useful later on. H between wall and condenser, \n",
    "    Hₗ   =  1600.0; # liquid wall heat transfer coeffcient\n",
    "#     Hₗ   =  2.57e004; # liquid wall heat transfer coeffcient\n",
    "    Hδ  = 7.34e002;\n"
   ]
  },
  {
   "cell_type": "code",
   "execution_count": 68,
   "metadata": {},
   "outputs": [
    {
     "data": {
      "text/plain": [
       "true"
      ]
     },
     "execution_count": 68,
     "metadata": {},
     "output_type": "execute_result"
    }
   ],
   "source": [
    "    \n",
    "    d = 6.56e-3 # dimensionless diameter\n",
    "    L = 35.0  # total length of the pipe when streched to a 1D pipe\n",
    "    L2D = 1.0 # the actual length of the bended pipe in the real world\n",
    "    angle = 0*pi/2 # inclination angle \n",
    "    closedornot = true"
   ]
  },
  {
   "cell_type": "code",
   "execution_count": 69,
   "metadata": {},
   "outputs": [],
   "source": [
    "    nucleatenum = 10\n",
    "    Xstations = sort(rand(nucleatenum).*L);\n",
    "#     boilingΔt = 0.05"
   ]
  },
  {
   "cell_type": "code",
   "execution_count": 70,
   "metadata": {},
   "outputs": [],
   "source": [
    "tube = Tube(d,L,L2D,angle,closedornot);"
   ]
  },
  {
   "cell_type": "code",
   "execution_count": 71,
   "metadata": {},
   "outputs": [],
   "source": [
    "Xe = map(tuple, [1.0], [3.0])\n",
    "We = [0.0]\n",
    "evap = Evaporator(Xe,We);"
   ]
  },
  {
   "cell_type": "code",
   "execution_count": 72,
   "metadata": {},
   "outputs": [],
   "source": [
    "Xc = map(tuple, [0.0,3.0], [1.0,4.0])\n",
    "cond = Condenser(θc,Xc,Hwc);"
   ]
  },
  {
   "cell_type": "code",
   "execution_count": 73,
   "metadata": {},
   "outputs": [
    {
     "data": {
      "text/plain": [
       "16-element Array{Tuple{Float64,Float64},1}:\n",
       " (2.0849030941011772, 2.7587486658829063)\n",
       " (2.833874451319085, 4.569747854353258)\n",
       " (5.727881832370833, 7.759761288806689)\n",
       " (8.316397088752684, 8.448055536860116)\n",
       " (8.877914003524369, 9.329168864872212)\n",
       " (10.903888931292695, 11.28617967463106)\n",
       " (12.032828031647437, 13.02936344976535)\n",
       " (13.962633777923827, 17.670625962470766)\n",
       " (18.18967347195733, 18.804694688335022)\n",
       " (19.202790359342018, 19.66332863187648)\n",
       " (20.56568325255634, 20.892529133258392)\n",
       " (21.18665790964045, 25.09311218013304)\n",
       " (25.10469379639108, 27.75739099602619)\n",
       " (27.765156396954602, 29.471579911453805)\n",
       " (29.84549214978021, 30.92648955744822)\n",
       " (31.157947602439123, 32.42960347311205)"
      ]
     },
     "execution_count": 73,
     "metadata": {},
     "output_type": "execute_result"
    }
   ],
   "source": [
    "numofX=16\n",
    "Xps = sort(rand(2*numofX).*L);\n",
    "Xp1s = Xps[1:2:end];\n",
    "Xp2s = Xps[2:2:end];\n",
    "\n",
    "dXdt0 = map(tuple,0*Xp1s,0*Xp2s)\n",
    "X0 = map(tuple,Xp1s,Xp2s)\n"
   ]
  },
  {
   "cell_type": "code",
   "execution_count": 74,
   "metadata": {},
   "outputs": [
    {
     "data": {
      "text/plain": [
       "0.0001"
      ]
     },
     "execution_count": 74,
     "metadata": {},
     "output_type": "execute_result"
    }
   ],
   "source": [
    "Δt = 1e-4"
   ]
  },
  {
   "cell_type": "code",
   "execution_count": 112,
   "metadata": {},
   "outputs": [],
   "source": [
    " N=3000\n",
    "# N=numpts(ohp)\n",
    "# X0 = [(L/4, L*3/4)]\n",
    "# dXdt0 = [(0.0,0.0)]\n",
    "ρ = 214.6\n",
    "Xarrays,θarrays = constructXarrays(X0,N,θinitial,L)\n",
    "liquids=Liquid(Hₗ,ρ,ω,℘L,X0,dXdt0,Xarrays,θarrays);"
   ]
  },
  {
   "cell_type": "code",
   "execution_count": 113,
   "metadata": {},
   "outputs": [],
   "source": [
    "# P = [1.0,1.0,1.0,1.0,1.0]; # closed end\n",
    "\n",
    "γ = 1.4;\n",
    "Hδ = 7.34e2\n",
    "P = 0*Xp1s .+ 1.0;\n",
    "δ = 0*Xp1s .+ 2.86e-02;\n",
    "vapors=Vapor(γ,Hδ,P,δ);"
   ]
  },
  {
   "cell_type": "code",
   "execution_count": 114,
   "metadata": {},
   "outputs": [],
   "source": [
    "α = 0 # nondimensional thermal diffusivity = (αₐ d^2) / (νₗ height^2)\n",
    "Xwallarray,θwallarray = constructXarrays(L,N,θinitial)\n",
    "\n",
    "wall = Wall(α,Δt,Xstations,Xwallarray,θwallarray);"
   ]
  },
  {
   "cell_type": "code",
   "execution_count": 115,
   "metadata": {},
   "outputs": [],
   "source": []
  },
  {
   "cell_type": "code",
   "execution_count": 116,
   "metadata": {},
   "outputs": [],
   "source": [
    "sys0_nomapping = PHPSystem_nomapping(tube,evap,cond,liquids,vapors,wall);\n",
    "θ_interp_walltoliquid, θ_interp_liquidtowall, H_interp_liquidtowall = sys_interpolation(sys0_nomapping)\n",
    "mapping = Mapping(θ_interp_walltoliquid, θ_interp_liquidtowall, H_interp_liquidtowall);"
   ]
  },
  {
   "cell_type": "code",
   "execution_count": 117,
   "metadata": {},
   "outputs": [],
   "source": [
    "sys0 = PHPSystem(tube,evap,cond,liquids,vapors,wall,mapping);"
   ]
  },
  {
   "cell_type": "markdown",
   "metadata": {},
   "source": [
    "## construct state vector U"
   ]
  },
  {
   "cell_type": "code",
   "execution_count": 118,
   "metadata": {},
   "outputs": [
    {
     "data": {
      "text/plain": [
       "16-element Array{Array{Float64,1},1}:\n",
       " [1.0, 1.0, 1.0, 1.0, 1.0, 1.0, 1.0, 1.0, 1.0, 1.0  …  1.0, 1.0, 1.0, 1.0, 1.0, 1.0, 1.0, 1.0, 1.0, 1.0]\n",
       " [1.0, 1.0, 1.0, 1.0, 1.0, 1.0, 1.0, 1.0, 1.0, 1.0  …  1.0, 1.0, 1.0, 1.0, 1.0, 1.0, 1.0, 1.0, 1.0, 1.0]\n",
       " [1.0, 1.0, 1.0, 1.0, 1.0, 1.0, 1.0, 1.0, 1.0, 1.0  …  1.0, 1.0, 1.0, 1.0, 1.0, 1.0, 1.0, 1.0, 1.0, 1.0]\n",
       " [1.0, 1.0, 1.0, 1.0, 1.0, 1.0, 1.0, 1.0, 1.0, 1.0, 1.0]\n",
       " [1.0, 1.0, 1.0, 1.0, 1.0, 1.0, 1.0, 1.0, 1.0, 1.0  …  1.0, 1.0, 1.0, 1.0, 1.0, 1.0, 1.0, 1.0, 1.0, 1.0]\n",
       " [1.0, 1.0, 1.0, 1.0, 1.0, 1.0, 1.0, 1.0, 1.0, 1.0  …  1.0, 1.0, 1.0, 1.0, 1.0, 1.0, 1.0, 1.0, 1.0, 1.0]\n",
       " [1.0, 1.0, 1.0, 1.0, 1.0, 1.0, 1.0, 1.0, 1.0, 1.0  …  1.0, 1.0, 1.0, 1.0, 1.0, 1.0, 1.0, 1.0, 1.0, 1.0]\n",
       " [1.0, 1.0, 1.0, 1.0, 1.0, 1.0, 1.0, 1.0, 1.0, 1.0  …  1.0, 1.0, 1.0, 1.0, 1.0, 1.0, 1.0, 1.0, 1.0, 1.0]\n",
       " [1.0, 1.0, 1.0, 1.0, 1.0, 1.0, 1.0, 1.0, 1.0, 1.0  …  1.0, 1.0, 1.0, 1.0, 1.0, 1.0, 1.0, 1.0, 1.0, 1.0]\n",
       " [1.0, 1.0, 1.0, 1.0, 1.0, 1.0, 1.0, 1.0, 1.0, 1.0  …  1.0, 1.0, 1.0, 1.0, 1.0, 1.0, 1.0, 1.0, 1.0, 1.0]\n",
       " [1.0, 1.0, 1.0, 1.0, 1.0, 1.0, 1.0, 1.0, 1.0, 1.0  …  1.0, 1.0, 1.0, 1.0, 1.0, 1.0, 1.0, 1.0, 1.0, 1.0]\n",
       " [1.0, 1.0, 1.0, 1.0, 1.0, 1.0, 1.0, 1.0, 1.0, 1.0  …  1.0, 1.0, 1.0, 1.0, 1.0, 1.0, 1.0, 1.0, 1.0, 1.0]\n",
       " [1.0, 1.0, 1.0, 1.0, 1.0, 1.0, 1.0, 1.0, 1.0, 1.0  …  1.0, 1.0, 1.0, 1.0, 1.0, 1.0, 1.0, 1.0, 1.0, 1.0]\n",
       " [1.0, 1.0, 1.0, 1.0, 1.0, 1.0, 1.0, 1.0, 1.0, 1.0  …  1.0, 1.0, 1.0, 1.0, 1.0, 1.0, 1.0, 1.0, 1.0, 1.0]\n",
       " [1.0, 1.0, 1.0, 1.0, 1.0, 1.0, 1.0, 1.0, 1.0, 1.0  …  1.0, 1.0, 1.0, 1.0, 1.0, 1.0, 1.0, 1.0, 1.0, 1.0]\n",
       " [1.0, 1.0, 1.0, 1.0, 1.0, 1.0, 1.0, 1.0, 1.0, 1.0  …  1.0, 1.0, 1.0, 1.0, 1.0, 1.0, 1.0, 1.0, 1.0, 1.0]"
      ]
     },
     "execution_count": 118,
     "metadata": {},
     "output_type": "execute_result"
    }
   ],
   "source": [
    "sys0.liquid.θarrays"
   ]
  },
  {
   "cell_type": "code",
   "execution_count": 119,
   "metadata": {},
   "outputs": [],
   "source": [
    "Lvaporplug = XptoLvaporplug(X0,sys0.tube.L,sys0.tube.closedornot)\n",
    "M = P.^(1/γ).* Lvaporplug\n",
    "\n",
    "\n",
    "u=[XMδtovec(X0,dXdt0,M,δ);liquidθtovec(sys0.liquid.θarrays)];\n"
   ]
  },
  {
   "cell_type": "code",
   "execution_count": 120,
   "metadata": {},
   "outputs": [
    {
     "data": {
      "text/plain": [
       "CallbackSet{Tuple{},Tuple{DiscreteCallback{typeof(boiling_condition),typeof(boiling_affect!),typeof(DiffEqBase.INITIALIZE_DEFAULT),typeof(DiffEqBase.FINALIZE_DEFAULT)},DiscreteCallback{typeof(merging_condition),typeof(merging_affect!),typeof(DiffEqBase.INITIALIZE_DEFAULT),typeof(DiffEqBase.FINALIZE_DEFAULT)}}}((), (DiscreteCallback{typeof(boiling_condition),typeof(boiling_affect!),typeof(DiffEqBase.INITIALIZE_DEFAULT),typeof(DiffEqBase.FINALIZE_DEFAULT)}(boiling_condition, boiling_affect!, DiffEqBase.INITIALIZE_DEFAULT, DiffEqBase.FINALIZE_DEFAULT, Bool[1, 1]), DiscreteCallback{typeof(merging_condition),typeof(merging_affect!),typeof(DiffEqBase.INITIALIZE_DEFAULT),typeof(DiffEqBase.FINALIZE_DEFAULT)}(merging_condition, merging_affect!, DiffEqBase.INITIALIZE_DEFAULT, DiffEqBase.FINALIZE_DEFAULT, Bool[1, 1])))"
      ]
     },
     "execution_count": 120,
     "metadata": {},
     "output_type": "execute_result"
    }
   ],
   "source": [
    "cb_boiling =  DiscreteCallback(boiling_condition,boiling_affect!)\n",
    "cb_merging =  DiscreteCallback(merging_condition,merging_affect!)\n",
    "\n",
    "cbst = CallbackSet(cb_boiling,cb_merging)"
   ]
  },
  {
   "cell_type": "markdown",
   "metadata": {},
   "source": [
    "## solve OHP"
   ]
  },
  {
   "cell_type": "code",
   "execution_count": 138,
   "metadata": {},
   "outputs": [
    {
     "name": "stdout",
     "output_type": "stream",
     "text": [
      "  0.016827 seconds (19.37 k allocations: 17.422 MiB)\n"
     ]
    }
   ],
   "source": [
    "tstep=1e-4\n",
    "\n",
    "p = sys0\n",
    "tspan = (0.0, 10.0);\n",
    "prob = ODEProblem(ODE_innertube, u, tspan, p)\n",
    "\n",
    "integrator_tube = init(prob, RK4(), dt=tstep, callback=cbst);\n",
    "\n",
    "\n",
    "@time step!(integrator_tube);\n",
    "\n"
   ]
  },
  {
   "cell_type": "code",
   "execution_count": 23,
   "metadata": {},
   "outputs": [
    {
     "ename": "LoadError",
     "evalue": "\u001b[91mUndefVarError: p not defined\u001b[39m",
     "output_type": "error",
     "traceback": [
      "\u001b[91mUndefVarError: p not defined\u001b[39m",
      "",
      "Stacktrace:",
      " [1] top-level scope at In[23]:1",
      " [2] include_string(::Function, ::Module, ::String, ::String) at .\\loading.jl:1091"
     ]
    }
   ],
   "source": [
    "sys = p\n",
    "sys.wall.θarray = rand(length(sys.wall.Xarray));"
   ]
  },
  {
   "cell_type": "markdown",
   "metadata": {},
   "source": [
    "## original mapping funciton speed up! inner part->wall"
   ]
  },
  {
   "cell_type": "code",
   "execution_count": 24,
   "metadata": {
    "scrolled": true
   },
   "outputs": [],
   "source": [
    "walltoliquid, liquidtowall = constructmapping(Xarrays,Xwallarray,closedornot,L);"
   ]
  },
  {
   "cell_type": "code",
   "execution_count": 25,
   "metadata": {},
   "outputs": [
    {
     "ename": "LoadError",
     "evalue": "\u001b[91mUndefVarError: sys not defined\u001b[39m",
     "output_type": "error",
     "traceback": [
      "\u001b[91mUndefVarError: sys not defined\u001b[39m",
      "",
      "Stacktrace:",
      " [1] top-level scope at .\\timing.jl:174 [inlined]",
      " [2] top-level scope at .\\In[25]:0",
      " [3] include_string(::Function, ::Module, ::String, ::String) at .\\loading.jl:1091"
     ]
    }
   ],
   "source": [
    "# linear interpolation\n",
    "@time interp_linear = LinearInterpolation(sys.wall.Xarray, sys.wall.θarray);"
   ]
  },
  {
   "cell_type": "markdown",
   "metadata": {},
   "source": [
    "## array visit time comparison"
   ]
  },
  {
   "cell_type": "code",
   "execution_count": 26,
   "metadata": {},
   "outputs": [
    {
     "ename": "LoadError",
     "evalue": "\u001b[91mUndefVarError: qwall not defined\u001b[39m",
     "output_type": "error",
     "traceback": [
      "\u001b[91mUndefVarError: qwall not defined\u001b[39m",
      "",
      "Stacktrace:",
      " [1] top-level scope at .\\timing.jl:174 [inlined]",
      " [2] top-level scope at .\\In[26]:0",
      " [3] include_string(::Function, ::Module, ::String, ::String) at .\\loading.jl:1091"
     ]
    }
   ],
   "source": [
    "@time for i = 1:length(qwall)\n",
    "    sys.wall.θarray[i]\n",
    "end"
   ]
  },
  {
   "cell_type": "code",
   "execution_count": 27,
   "metadata": {},
   "outputs": [
    {
     "ename": "LoadError",
     "evalue": "\u001b[91mUndefVarError: interp_linear not defined\u001b[39m",
     "output_type": "error",
     "traceback": [
      "\u001b[91mUndefVarError: interp_linear not defined\u001b[39m",
      "",
      "Stacktrace:",
      " [1] top-level scope at In[27]:1",
      " [2] include_string(::Function, ::Module, ::String, ::String) at .\\loading.jl:1091"
     ]
    }
   ],
   "source": [
    "interp_linear(3) # exactly log(3)\n",
    "@time interp_linear.(35*rand(N)) # approximately log(3.1);\n",
    "\n",
    "# @time for i = 1:length(qwall)\n",
    "#     interp_linear(35*rand())\n",
    "# end"
   ]
  },
  {
   "cell_type": "markdown",
   "metadata": {},
   "source": [
    "## testing interpolation function"
   ]
  },
  {
   "cell_type": "code",
   "execution_count": 28,
   "metadata": {},
   "outputs": [
    {
     "data": {
      "text/plain": [
       "3.0"
      ]
     },
     "execution_count": 28,
     "metadata": {},
     "output_type": "execute_result"
    }
   ],
   "source": [
    "X_inter = [0.0,1.0,2.0,2.0,3.0,3.0,4.0,5.0]\n",
    "Y_inter = deepcopy(X_inter)\n",
    "Y_inter[4] += 1.0\n",
    "Y_inter[6] += 1.0\n",
    "Y_inter[7] += 1.0\n",
    "Y_inter[8] += 1.0\n",
    "\n",
    "interp_linear = LinearInterpolation(X_inter, Y_inter)\n",
    "interp_linear(3.0)"
   ]
  },
  {
   "cell_type": "code",
   "execution_count": 29,
   "metadata": {},
   "outputs": [
    {
     "data": {
      "text/plain": [
       "Interpolations.Extrapolation{Float64,1,Interpolations.GriddedInterpolation{Float64,1,Float64,Gridded{Linear},Tuple{Array{Float64,1}}},Gridded{Linear},Throw{Nothing}}"
      ]
     },
     "execution_count": 29,
     "metadata": {},
     "output_type": "execute_result"
    }
   ],
   "source": [
    "typeof(interp_linear)"
   ]
  },
  {
   "cell_type": "code",
   "execution_count": 30,
   "metadata": {},
   "outputs": [
    {
     "data": {
      "image/png": "[encoded data removed]"
     },
     "execution_count": 30,
     "metadata": {},
     "output_type": "execute_result"
    }
   ],
   "source": [
    "plot(X_inter,Y_inter)"
   ]
  },
  {
   "cell_type": "code",
   "execution_count": 31,
   "metadata": {},
   "outputs": [
    {
     "name": "stdout",
     "output_type": "stream",
     "text": [
      "  0.884876 seconds (25 allocations: 605.531 KiB)\n"
     ]
    }
   ],
   "source": [
    "@time walltoliquid, liquidtowall = constructmapping(Xarrays,Xwallarray,closedornot,L);"
   ]
  },
  {
   "cell_type": "code",
   "execution_count": 32,
   "metadata": {},
   "outputs": [
    {
     "ename": "LoadError",
     "evalue": "\u001b[91mUndefVarError: sys not defined\u001b[39m",
     "output_type": "error",
     "traceback": [
      "\u001b[91mUndefVarError: sys not defined\u001b[39m",
      "",
      "Stacktrace:",
      " [1] top-level scope at .\\timing.jl:174 [inlined]",
      " [2] top-level scope at .\\In[32]:0",
      " [3] include_string(::Function, ::Module, ::String, ::String) at .\\loading.jl:1091"
     ]
    }
   ],
   "source": [
    "@time θ_interp_walltoliquid, θ_interp_liquidtowall, H_interp_liquidtowall = sys_interpolation(sys);"
   ]
  },
  {
   "cell_type": "code",
   "execution_count": 33,
   "metadata": {},
   "outputs": [
    {
     "ename": "LoadError",
     "evalue": "\u001b[91mUndefVarError: sys not defined\u001b[39m",
     "output_type": "error",
     "traceback": [
      "\u001b[91mUndefVarError: sys not defined\u001b[39m",
      "",
      "Stacktrace:",
      " [1] top-level scope at .\\timing.jl:174 [inlined]",
      " [2] top-level scope at .\\In[33]:0",
      " [3] include_string(::Function, ::Module, ::String, ::String) at .\\loading.jl:1091"
     ]
    }
   ],
   "source": [
    "@time sys_interpolation(sys)"
   ]
  },
  {
   "cell_type": "code",
   "execution_count": 34,
   "metadata": {},
   "outputs": [
    {
     "data": {
      "text/plain": [
       "Float64[]"
      ]
     },
     "execution_count": 34,
     "metadata": {},
     "output_type": "execute_result"
    }
   ],
   "source": [
    "X_inner = Array{Float64}(undef, 0)"
   ]
  },
  {
   "cell_type": "code",
   "execution_count": 35,
   "metadata": {},
   "outputs": [
    {
     "ename": "LoadError",
     "evalue": "\u001b[91mUndefVarError: sys not defined\u001b[39m",
     "output_type": "error",
     "traceback": [
      "\u001b[91mUndefVarError: sys not defined\u001b[39m",
      "",
      "Stacktrace:",
      " [1] top-level scope at In[35]:1",
      " [2] include_string(::Function, ::Module, ::String, ::String) at .\\loading.jl:1091"
     ]
    }
   ],
   "source": [
    "X_inner, θ_inner, H_inner=sys_interpolation(sys)\n",
    "\n",
    "θ_interp_liquidtowall = LinearInterpolation(X_inner, θ_inner);\n",
    "H_interp_liquidtowall = LinearInterpolation(X_inner, H_inner);"
   ]
  },
  {
   "cell_type": "code",
   "execution_count": 36,
   "metadata": {},
   "outputs": [
    {
     "ename": "LoadError",
     "evalue": "\u001b[91mUndefVarError: X_inner_final not defined\u001b[39m",
     "output_type": "error",
     "traceback": [
      "\u001b[91mUndefVarError: X_inner_final not defined\u001b[39m",
      "",
      "Stacktrace:",
      " [1] top-level scope at In[36]:1",
      " [2] include_string(::Function, ::Module, ::String, ::String) at .\\loading.jl:1091"
     ]
    }
   ],
   "source": [
    "plot(X_inner_final)"
   ]
  },
  {
   "cell_type": "code",
   "execution_count": 37,
   "metadata": {},
   "outputs": [
    {
     "ename": "LoadError",
     "evalue": "\u001b[91mUndefVarError: sys not defined\u001b[39m",
     "output_type": "error",
     "traceback": [
      "\u001b[91mUndefVarError: sys not defined\u001b[39m",
      "",
      "Stacktrace:",
      " [1] top-level scope at In[37]:1",
      " [2] include_string(::Function, ::Module, ::String, ::String) at .\\loading.jl:1091"
     ]
    }
   ],
   "source": [
    "length(sys.liquid.Xarrays)"
   ]
  },
  {
   "cell_type": "code",
   "execution_count": 61,
   "metadata": {},
   "outputs": [
    {
     "ename": "LoadError",
     "evalue": "\u001b[91mMethodError: no method matching -(::Interpolations.Extrapolation{Float64,1,Interpolations.GriddedInterpolation{Float64,1,Float64,Gridded{Linear},Tuple{Array{Float64,1}}},Gridded{Linear},Throw{Nothing}}, ::Int64)\u001b[39m\n\u001b[91mFor element-wise subtraction, use broadcasting with dot syntax: array .- scalar\u001b[39m\n\u001b[91m\u001b[0mClosest candidates are:\u001b[39m\n\u001b[91m\u001b[0m  -(\u001b[91m::ChainRulesCore.DoesNotExist\u001b[39m, ::Any) at C:\\Users\\liyux\\.julia\\packages\\ChainRulesCore\\NR7YR\\src\\differential_arithmetic.jl:77\u001b[39m\n\u001b[91m\u001b[0m  -(\u001b[91m::PyCall.PyObject\u001b[39m, ::Any) at C:\\Users\\liyux\\.julia\\packages\\PyCall\\BD546\\src\\pyoperators.jl:13\u001b[39m\n\u001b[91m\u001b[0m  -(\u001b[91m::ChainRulesCore.Zero\u001b[39m, ::Any) at C:\\Users\\liyux\\.julia\\packages\\ChainRulesCore\\NR7YR\\src\\differential_arithmetic.jl:117\u001b[39m\n\u001b[91m\u001b[0m  ...\u001b[39m",
     "output_type": "error",
     "traceback": [
      "\u001b[91mMethodError: no method matching -(::Interpolations.Extrapolation{Float64,1,Interpolations.GriddedInterpolation{Float64,1,Float64,Gridded{Linear},Tuple{Array{Float64,1}}},Gridded{Linear},Throw{Nothing}}, ::Int64)\u001b[39m\n\u001b[91mFor element-wise subtraction, use broadcasting with dot syntax: array .- scalar\u001b[39m\n\u001b[91m\u001b[0mClosest candidates are:\u001b[39m\n\u001b[91m\u001b[0m  -(\u001b[91m::ChainRulesCore.DoesNotExist\u001b[39m, ::Any) at C:\\Users\\liyux\\.julia\\packages\\ChainRulesCore\\NR7YR\\src\\differential_arithmetic.jl:77\u001b[39m\n\u001b[91m\u001b[0m  -(\u001b[91m::PyCall.PyObject\u001b[39m, ::Any) at C:\\Users\\liyux\\.julia\\packages\\PyCall\\BD546\\src\\pyoperators.jl:13\u001b[39m\n\u001b[91m\u001b[0m  -(\u001b[91m::ChainRulesCore.Zero\u001b[39m, ::Any) at C:\\Users\\liyux\\.julia\\packages\\ChainRulesCore\\NR7YR\\src\\differential_arithmetic.jl:117\u001b[39m\n\u001b[91m\u001b[0m  ...\u001b[39m",
      "",
      "Stacktrace:",
      " [1] top-level scope at In[61]:9",
      " [2] include_string(::Function, ::Module, ::String, ::String) at .\\loading.jl:1091"
     ]
    }
   ],
   "source": [
    "n = 10\n",
    "dx_vapor = 0.3\n",
    "a = 2\n",
    "\n",
    "xs = a .+ (0:n) * dx_vapor;          ## n, right is 1:n * delta\n",
    "\n",
    "        θ_wall_inter = interp_linear\n",
    "\n",
    "#         f(θ_wall_inter,θ_vapor,H_vapor,dx_vapor) = Hvapor*dx_vapor*(sys.wall.θarray[indexes[j]] - θ[i])\n",
    "\n",
    "        fx = (map(θ_wall_inter, xs) .- θ[i]) .* Hvapor[i] .* dx_vapor"
   ]
  },
  {
   "cell_type": "markdown",
   "metadata": {},
   "source": [
    "monday 1pm"
   ]
  }
 ],
 "metadata": {
  "@webio": {
   "lastCommId": null,
   "lastKernelId": null
  },
  "kernelspec": {
   "display_name": "Julia 1.5.4",
   "language": "julia",
   "name": "julia-1.5"
  },
  "language_info": {
   "file_extension": ".jl",
   "mimetype": "application/julia",
   "name": "julia",
   "version": "1.5.4"
  }
 },
 "nbformat": 4,
 "nbformat_minor": 5
}
