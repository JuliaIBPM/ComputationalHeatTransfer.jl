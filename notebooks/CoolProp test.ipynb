{
 "cells": [
  {
   "cell_type": "code",
   "execution_count": 1,
   "metadata": {},
   "outputs": [],
   "source": [
    "using CoolProp"
   ]
  },
  {
   "cell_type": "code",
   "execution_count": 2,
   "metadata": {},
   "outputs": [],
   "source": [
    "using Interpolations"
   ]
  },
  {
   "cell_type": "code",
   "execution_count": 3,
   "metadata": {},
   "outputs": [
    {
     "data": {
      "text/plain": [
       "\"Butane\""
      ]
     },
     "execution_count": 3,
     "metadata": {},
     "output_type": "execute_result"
    }
   ],
   "source": [
    "fluid_type = \"Butane\""
   ]
  },
  {
   "cell_type": "code",
   "execution_count": 4,
   "metadata": {},
   "outputs": [
    {
     "name": "stdout",
     "output_type": "stream",
     "text": [
      "  0.128102 seconds (14.39 k allocations: 641.704 KiB)\n"
     ]
    },
    {
     "data": {
      "text/plain": [
       "103225.78946443571"
      ]
     },
     "execution_count": 4,
     "metadata": {},
     "output_type": "execute_result"
    }
   ],
   "source": [
    "@time CoolProp.PropsSI(\"P\",\"T\",273.15,\"Q\",1.0,fluid_type)"
   ]
  },
  {
   "cell_type": "code",
   "execution_count": 5,
   "metadata": {},
   "outputs": [
    {
     "data": {
      "text/plain": [
       "nondi_PtoT (generic function with 1 method)"
      ]
     },
     "execution_count": 5,
     "metadata": {},
     "output_type": "execute_result"
    }
   ],
   "source": [
    "function nondi_PtoT(nondi_P;P0=103225,T0=273.15,quality=1.0,fluid_type=\"Butane\")\n",
    "    CoolProp.PropsSI(\"T\",\"P\",nondi_P*P0,\"Q\",quality,fluid_type)/T0\n",
    "end"
   ]
  },
  {
   "cell_type": "code",
   "execution_count": 6,
   "metadata": {},
   "outputs": [
    {
     "data": {
      "text/plain": [
       "nondi_TtoP (generic function with 1 method)"
      ]
     },
     "execution_count": 6,
     "metadata": {},
     "output_type": "execute_result"
    }
   ],
   "source": [
    "function nondi_TtoP(nondi_T;T0=273.15,P0=103225,quality=1.0,fluid_type=\"Butane\")\n",
    "    CoolProp.PropsSI(\"P\",\"T\",nondi_T*T0,\"Q\",quality,fluid_type)/P0\n",
    "end"
   ]
  },
  {
   "cell_type": "code",
   "execution_count": 7,
   "metadata": {},
   "outputs": [
    {
     "data": {
      "text/plain": [
       "nondi_PtoD (generic function with 1 method)"
      ]
     },
     "execution_count": 7,
     "metadata": {},
     "output_type": "execute_result"
    }
   ],
   "source": [
    "function nondi_PtoD(nondi_P;P0=103225,D0=2.75673,quality=1.0,fluid_type=\"Butane\")\n",
    "    CoolProp.PropsSI(\"D\",\"P\",nondi_P*P0,\"Q\",quality,fluid_type)/D0\n",
    "end"
   ]
  },
  {
   "cell_type": "code",
   "execution_count": 8,
   "metadata": {},
   "outputs": [
    {
     "data": {
      "text/plain": [
       "nondi_DtoP (generic function with 1 method)"
      ]
     },
     "execution_count": 8,
     "metadata": {},
     "output_type": "execute_result"
    }
   ],
   "source": [
    "function nondi_DtoP(nondi_D;D0=2.75673,P0=103225,quality=1.0,fluid_type=\"Butane\")\n",
    "    CoolProp.PropsSI(\"P\",\"D\",nondi_D*D0,\"Q\",quality,fluid_type)/P0\n",
    "end"
   ]
  },
  {
   "cell_type": "code",
   "execution_count": 61,
   "metadata": {},
   "outputs": [],
   "source": [
    "Tcrit = CoolProp.PropsSI(\"Tcrit\",fluid_type);\n",
    "Tmin = CoolProp.PropsSI(\"Tmin\",fluid_type);"
   ]
  },
  {
   "cell_type": "code",
   "execution_count": 62,
   "metadata": {},
   "outputs": [],
   "source": [
    "Trange = LinRange(Tmin, Tcrit, 1000)\n",
    "Prange = CoolProp.PropsSI.(\"P\",\"T\",Trange,\"Q\",1.0,\"Butane\");\n",
    "Drange = CoolProp.PropsSI.(\"D\",\"T\",Trange,\"Q\",1.0,\"Butane\");"
   ]
  },
  {
   "cell_type": "code",
   "execution_count": 78,
   "metadata": {},
   "outputs": [],
   "source": [
    "D0=2.75673;\n",
    "P0=103225;\n",
    "T0=273.15;\n",
    "\n",
    "nondi_Trange = Trange./T0\n",
    "nondi_Prange = Prange./P0\n",
    "nondi_Drange = Drange./D0;"
   ]
  },
  {
   "cell_type": "code",
   "execution_count": 86,
   "metadata": {},
   "outputs": [
    {
     "ename": "LoadError",
     "evalue": "\u001b[91minvalid redefinition of constant nondi_PtoT\u001b[39m",
     "output_type": "error",
     "traceback": [
      "\u001b[91minvalid redefinition of constant nondi_PtoT\u001b[39m",
      "",
      "Stacktrace:",
      " [1] top-level scope at .\\timing.jl:174 [inlined]",
      " [2] top-level scope at .\\In[86]:0",
      " [3] include_string(::Function, ::Module, ::String, ::String) at .\\loading.jl:1091"
     ]
    }
   ],
   "source": [
    "nondi_PtoT = LinearInterpolation(nondi_Prange, nondi_Trange);\n",
    "nondi_TtoP = LinearInterpolation(nondi_Trange, nondi_Prange);\n",
    "nondi_PtoD = LinearInterpolation(nondi_Prange, nondi_Drange);\n",
    "nondi_DtoP = LinearInterpolation(nondi_Drange, nondi_Prange);"
   ]
  },
  {
   "cell_type": "code",
   "execution_count": 85,
   "metadata": {},
   "outputs": [
    {
     "name": "stdout",
     "output_type": "stream",
     "text": [
      "  0.000004 seconds (1 allocation: 16 bytes)\n"
     ]
    },
    {
     "data": {
      "text/plain": [
       "0.9999988002163784"
      ]
     },
     "execution_count": 85,
     "metadata": {},
     "output_type": "execute_result"
    }
   ],
   "source": [
    "@time nondi_PtoT2(1.0)"
   ]
  },
  {
   "cell_type": "code",
   "execution_count": 50,
   "metadata": {
    "scrolled": true
   },
   "outputs": [
    {
     "data": {
      "text/plain": [
       "3.8642093002829236"
      ]
     },
     "execution_count": 50,
     "metadata": {},
     "output_type": "execute_result"
    }
   ],
   "source": [
    "Pmin = CoolProp.PropsSI(\"P\",\"T\",Tmin,\"Q\",1.0,\"Butane\")"
   ]
  },
  {
   "cell_type": "code",
   "execution_count": 19,
   "metadata": {},
   "outputs": [
    {
     "name": "stdout",
     "output_type": "stream",
     "text": [
      "  0.000808 seconds\n"
     ]
    },
    {
     "data": {
      "text/plain": [
       "0.9999992601007431"
      ]
     },
     "execution_count": 19,
     "metadata": {},
     "output_type": "execute_result"
    }
   ],
   "source": [
    "@time nondi_PtoT(1.0)"
   ]
  },
  {
   "cell_type": "code",
   "execution_count": 22,
   "metadata": {},
   "outputs": [
    {
     "name": "stdout",
     "output_type": "stream",
     "text": [
      "  0.001538 seconds\n"
     ]
    },
    {
     "data": {
      "text/plain": [
       "1.0000040555115872"
      ]
     },
     "execution_count": 22,
     "metadata": {},
     "output_type": "execute_result"
    }
   ],
   "source": [
    "@time nondi_DtoP(1.0)"
   ]
  },
  {
   "cell_type": "code",
   "execution_count": 11,
   "metadata": {},
   "outputs": [
    {
     "name": "stdout",
     "output_type": "stream",
     "text": [
      "  0.000285 seconds\n"
     ]
    },
    {
     "data": {
      "text/plain": [
       "0.9999962127052197"
      ]
     },
     "execution_count": 11,
     "metadata": {},
     "output_type": "execute_result"
    }
   ],
   "source": [
    "@time nondi_PtoD(1.0)"
   ]
  },
  {
   "cell_type": "code",
   "execution_count": 12,
   "metadata": {},
   "outputs": [
    {
     "name": "stdout",
     "output_type": "stream",
     "text": [
      "  0.000338 seconds\n"
     ]
    },
    {
     "data": {
      "text/plain": [
       "0.009140748560032629"
      ]
     },
     "execution_count": 12,
     "metadata": {},
     "output_type": "execute_result"
    }
   ],
   "source": [
    "@time nondi_TtoP(0.7)"
   ]
  },
  {
   "cell_type": "code",
   "execution_count": 13,
   "metadata": {},
   "outputs": [],
   "source": [
    "interp_PtoT = LinearInterpolation(1:1:1000, 1:1:1000);"
   ]
  },
  {
   "cell_type": "code",
   "execution_count": 17,
   "metadata": {},
   "outputs": [
    {
     "name": "stdout",
     "output_type": "stream",
     "text": [
      "  0.000004 seconds (1 allocation: 16 bytes)\n"
     ]
    },
    {
     "data": {
      "text/plain": [
       "30.0"
      ]
     },
     "execution_count": 17,
     "metadata": {},
     "output_type": "execute_result"
    }
   ],
   "source": [
    "@time interp_PtoT(30)"
   ]
  },
  {
   "cell_type": "code",
   "execution_count": 15,
   "metadata": {},
   "outputs": [
    {
     "name": "stdout",
     "output_type": "stream",
     "text": [
      "  0.000000 seconds\n"
     ]
    },
    {
     "data": {
      "text/plain": [
       "9.518269693579391"
      ]
     },
     "execution_count": 15,
     "metadata": {},
     "output_type": "execute_result"
    }
   ],
   "source": [
    "@time 5^(1.4/1.0)"
   ]
  },
  {
   "cell_type": "code",
   "execution_count": null,
   "metadata": {},
   "outputs": [],
   "source": []
  },
  {
   "cell_type": "code",
   "execution_count": null,
   "metadata": {},
   "outputs": [],
   "source": []
  }
 ],
 "metadata": {
  "kernelspec": {
   "display_name": "Julia 1.5.4",
   "language": "julia",
   "name": "julia-1.5"
  },
  "language_info": {
   "file_extension": ".jl",
   "mimetype": "application/julia",
   "name": "julia",
   "version": "1.5.4"
  }
 },
 "nbformat": 4,
 "nbformat_minor": 2
}
