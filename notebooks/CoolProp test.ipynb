{
 "cells": [
  {
   "cell_type": "code",
   "execution_count": 1,
   "metadata": {},
   "outputs": [],
   "source": [
    "using CoolProp"
   ]
  },
  {
   "cell_type": "code",
   "execution_count": 2,
   "metadata": {},
   "outputs": [
    {
     "data": {
      "text/plain": [
       "2.4325863624814326"
      ]
     },
     "execution_count": 2,
     "metadata": {},
     "output_type": "execute_result"
    }
   ],
   "source": [
    "PropsSI(\"D\", \"T\", 300, \"P\", 101325, \"n-Butane\")"
   ]
  },
  {
   "cell_type": "code",
   "execution_count": 3,
   "metadata": {},
   "outputs": [],
   "source": [
    "using Interpolations"
   ]
  },
  {
   "cell_type": "code",
   "execution_count": 4,
   "metadata": {},
   "outputs": [
    {
     "data": {
      "text/plain": [
       "Plots.PyPlotBackend()"
      ]
     },
     "execution_count": 4,
     "metadata": {},
     "output_type": "execute_result"
    }
   ],
   "source": [
    "using Plots\n",
    "pyplot()"
   ]
  },
  {
   "cell_type": "code",
   "execution_count": 5,
   "metadata": {},
   "outputs": [
    {
     "data": {
      "text/plain": [
       "\"Butane\""
      ]
     },
     "execution_count": 5,
     "metadata": {},
     "output_type": "execute_result"
    }
   ],
   "source": [
    "fluid_type = \"Butane\""
   ]
  },
  {
   "cell_type": "code",
   "execution_count": 6,
   "metadata": {},
   "outputs": [
    {
     "data": {
      "text/plain": [
       "0.001"
      ]
     },
     "execution_count": 6,
     "metadata": {},
     "output_type": "execute_result"
    }
   ],
   "source": [
    "d = 1e-3"
   ]
  },
  {
   "cell_type": "code",
   "execution_count": 7,
   "metadata": {},
   "outputs": [
    {
     "data": {
      "text/plain": [
       "291.2"
      ]
     },
     "execution_count": 7,
     "metadata": {},
     "output_type": "execute_result"
    }
   ],
   "source": [
    "Tᵥ = 291.2"
   ]
  },
  {
   "cell_type": "code",
   "execution_count": 8,
   "metadata": {},
   "outputs": [
    {
     "data": {
      "text/plain": [
       "580.8099892238893"
      ]
     },
     "execution_count": 8,
     "metadata": {},
     "output_type": "execute_result"
    }
   ],
   "source": [
    "ρₗ  = CoolProp.PropsSI(\"D\",\"T\",Tᵥ,\"Q\",0.0,fluid_type)"
   ]
  },
  {
   "cell_type": "code",
   "execution_count": 9,
   "metadata": {},
   "outputs": [
    {
     "data": {
      "text/plain": [
       "5.003801489790792"
      ]
     },
     "execution_count": 9,
     "metadata": {},
     "output_type": "execute_result"
    }
   ],
   "source": [
    "ρᵥ  = CoolProp.PropsSI(\"D\",\"T\",Tᵥ,\"Q\",1.0,fluid_type)"
   ]
  },
  {
   "cell_type": "code",
   "execution_count": 10,
   "metadata": {},
   "outputs": [
    {
     "data": {
      "text/plain": [
       "242598.73571877053"
      ]
     },
     "execution_count": 10,
     "metadata": {},
     "output_type": "execute_result"
    }
   ],
   "source": [
    "hₗ = CoolProp.PropsSI(\"H\",\"T\",Tᵥ,\"Q\",0.0,fluid_type)"
   ]
  },
  {
   "cell_type": "code",
   "execution_count": 11,
   "metadata": {},
   "outputs": [
    {
     "data": {
      "text/plain": [
       "611019.7555964742"
      ]
     },
     "execution_count": 11,
     "metadata": {},
     "output_type": "execute_result"
    }
   ],
   "source": [
    "hᵥ = CoolProp.PropsSI(\"H\",\"T\",Tᵥ,\"Q\",1.0,fluid_type)"
   ]
  },
  {
   "cell_type": "code",
   "execution_count": 12,
   "metadata": {},
   "outputs": [
    {
     "data": {
      "text/plain": [
       "2402.301880665782"
      ]
     },
     "execution_count": 12,
     "metadata": {},
     "output_type": "execute_result"
    }
   ],
   "source": [
    "Cpₗ = CoolProp.PropsSI(\"CPMASS\",\"T\",Tᵥ,\"Q\",0.0,fluid_type)"
   ]
  },
  {
   "cell_type": "code",
   "execution_count": 13,
   "metadata": {},
   "outputs": [
    {
     "data": {
      "text/plain": [
       "1752.6944305227698"
      ]
     },
     "execution_count": 13,
     "metadata": {},
     "output_type": "execute_result"
    }
   ],
   "source": [
    "Cpᵥ = CoolProp.PropsSI(\"CPMASS\",\"T\",Tᵥ,\"Q\",1.0,fluid_type)"
   ]
  },
  {
   "cell_type": "code",
   "execution_count": 14,
   "metadata": {},
   "outputs": [
    {
     "data": {
      "text/plain": [
       "0.0001693052760259436"
      ]
     },
     "execution_count": 14,
     "metadata": {},
     "output_type": "execute_result"
    }
   ],
   "source": [
    "μₗ = CoolProp.PropsSI(\"V\",\"T\",Tᵥ,\"Q\",0.0,fluid_type)"
   ]
  },
  {
   "cell_type": "code",
   "execution_count": 15,
   "metadata": {},
   "outputs": [
    {
     "data": {
      "text/plain": [
       "7.212623856173238e-6"
      ]
     },
     "execution_count": 15,
     "metadata": {},
     "output_type": "execute_result"
    }
   ],
   "source": [
    "μᵥ = CoolProp.PropsSI(\"V\",\"T\",Tᵥ,\"Q\",1.0,fluid_type)"
   ]
  },
  {
   "cell_type": "code",
   "execution_count": 16,
   "metadata": {},
   "outputs": [
    {
     "data": {
      "text/plain": [
       "0.10760488077199322"
      ]
     },
     "execution_count": 16,
     "metadata": {},
     "output_type": "execute_result"
    }
   ],
   "source": [
    "kₗ = CoolProp.PropsSI(\"CONDUCTIVITY\",\"T\",Tᵥ,\"Q\",0.0,fluid_type)"
   ]
  },
  {
   "cell_type": "code",
   "execution_count": 17,
   "metadata": {},
   "outputs": [
    {
     "data": {
      "text/plain": [
       "0.015893356813130314"
      ]
     },
     "execution_count": 17,
     "metadata": {},
     "output_type": "execute_result"
    }
   ],
   "source": [
    "kᵥ = CoolProp.PropsSI(\"CONDUCTIVITY\",\"T\",Tᵥ,\"Q\",1.0,fluid_type)"
   ]
  },
  {
   "cell_type": "code",
   "execution_count": 18,
   "metadata": {},
   "outputs": [
    {
     "data": {
      "text/plain": [
       "3.7797763455133437"
      ]
     },
     "execution_count": 18,
     "metadata": {},
     "output_type": "execute_result"
    }
   ],
   "source": [
    "Prₗ = CoolProp.PropsSI(\"PRANDTL\",\"T\",Tᵥ,\"Q\",0.0,fluid_type)"
   ]
  },
  {
   "cell_type": "code",
   "execution_count": 19,
   "metadata": {},
   "outputs": [
    {
     "data": {
      "text/plain": [
       "0.79539683219889"
      ]
     },
     "execution_count": 19,
     "metadata": {},
     "output_type": "execute_result"
    }
   ],
   "source": [
    "Prᵥ = CoolProp.PropsSI(\"PRANDTL\",\"T\",Tᵥ,\"Q\",1.0,fluid_type)"
   ]
  },
  {
   "cell_type": "code",
   "execution_count": 20,
   "metadata": {},
   "outputs": [
    {
     "data": {
      "text/plain": [
       "0.01271432232408748"
      ]
     },
     "execution_count": 20,
     "metadata": {},
     "output_type": "execute_result"
    }
   ],
   "source": [
    "σ = CoolProp.PropsSI(\"I\",\"T\",Tᵥ,\"Q\",0.0,fluid_type)"
   ]
  },
  {
   "cell_type": "code",
   "execution_count": 21,
   "metadata": {},
   "outputs": [
    {
     "data": {
      "text/plain": [
       "1.1385223903811553e-5"
      ]
     },
     "execution_count": 21,
     "metadata": {},
     "output_type": "execute_result"
    }
   ],
   "source": [
    "kₗ/(Cpₗ*μₗ)*6.56e-3^2"
   ]
  },
  {
   "cell_type": "code",
   "execution_count": 22,
   "metadata": {},
   "outputs": [
    {
     "data": {
      "text/plain": [
       "580.8099892238893"
      ]
     },
     "execution_count": 22,
     "metadata": {},
     "output_type": "execute_result"
    }
   ],
   "source": [
    "Dₗ = CoolProp.PropsSI(\"D\",\"T\",Tᵥ,\"Q\",0.0,fluid_type)"
   ]
  },
  {
   "cell_type": "code",
   "execution_count": 23,
   "metadata": {},
   "outputs": [
    {
     "data": {
      "text/plain": [
       "5.003801489790792"
      ]
     },
     "execution_count": 23,
     "metadata": {},
     "output_type": "execute_result"
    }
   ],
   "source": [
    "Dᵥ = CoolProp.PropsSI(\"D\",\"T\",Tᵥ,\"Q\",1.0,fluid_type)"
   ]
  },
  {
   "cell_type": "code",
   "execution_count": 24,
   "metadata": {},
   "outputs": [
    {
     "data": {
      "text/plain": [
       "194889.50294100627"
      ]
     },
     "execution_count": 24,
     "metadata": {},
     "output_type": "execute_result"
    }
   ],
   "source": [
    "P = CoolProp.PropsSI(\"P\",\"T\",Tᵥ,\"Q\",0.0,fluid_type)"
   ]
  },
  {
   "cell_type": "code",
   "execution_count": 25,
   "metadata": {},
   "outputs": [
    {
     "data": {
      "text/plain": [
       "8.314472"
      ]
     },
     "execution_count": 25,
     "metadata": {},
     "output_type": "execute_result"
    }
   ],
   "source": [
    "R = CoolProp.PropsSI(\"GAS_CONSTANT\",\"T\",Tᵥ,\"Q\",1.0,fluid_type)"
   ]
  },
  {
   "cell_type": "code",
   "execution_count": 26,
   "metadata": {},
   "outputs": [
    {
     "data": {
      "text/plain": [
       "0.0581222"
      ]
     },
     "execution_count": 26,
     "metadata": {},
     "output_type": "execute_result"
    }
   ],
   "source": [
    "M = CoolProp.PropsSI(\"M\",\"T\",Tᵥ,\"Q\",1.0,fluid_type)"
   ]
  },
  {
   "cell_type": "code",
   "execution_count": 27,
   "metadata": {},
   "outputs": [
    {
     "data": {
      "text/plain": [
       "143.0515706563069"
      ]
     },
     "execution_count": 27,
     "metadata": {},
     "output_type": "execute_result"
    }
   ],
   "source": [
    "Rkg = R/M"
   ]
  },
  {
   "cell_type": "code",
   "execution_count": 28,
   "metadata": {},
   "outputs": [
    {
     "data": {
      "text/plain": [
       "1.0e-5"
      ]
     },
     "execution_count": 28,
     "metadata": {},
     "output_type": "execute_result"
    }
   ],
   "source": [
    "Rin = d/2\n",
    "δ = 1e-5"
   ]
  },
  {
   "cell_type": "code",
   "execution_count": 29,
   "metadata": {},
   "outputs": [
    {
     "data": {
      "text/plain": [
       "1.0e-7:1.0e-7:0.001"
      ]
     },
     "execution_count": 29,
     "metadata": {},
     "output_type": "execute_result"
    }
   ],
   "source": [
    "Rn = 1e-7:1e-7:1e-3"
   ]
  },
  {
   "cell_type": "code",
   "execution_count": 30,
   "metadata": {},
   "outputs": [
    {
     "data": {
      "text/plain": [
       "10000-element Vector{Float64}:\n",
       "  0.09440318173372554\n",
       "  0.05677593430008775\n",
       "  0.040819707678491475\n",
       "  0.031909150961868485\n",
       "  0.0262050138117427\n",
       "  0.022235840481208028\n",
       "  0.01931290968151477\n",
       "  0.01707003135085553\n",
       "  0.015294281918499476\n",
       "  0.013853325368698577\n",
       "  0.012660547074537957\n",
       "  0.01165686219718895\n",
       "  0.010800575533346327\n",
       "  ⋮\n",
       " -2.8483190072577986e-7\n",
       " -2.863102871263893e-7\n",
       " -2.8778837761958533e-7\n",
       " -2.892661722681218e-7\n",
       " -2.9074367117241197e-7\n",
       " -2.9222087440776277e-7\n",
       " -2.936977820871406e-7\n",
       " -2.951743942732993e-7\n",
       " -2.966507110792052e-7\n",
       " -2.9812673258016536e-7\n",
       " -2.9960245886403987e-7\n",
       " -3.010778900186889e-7"
      ]
     },
     "execution_count": 30,
     "metadata": {},
     "output_type": "execute_result"
    }
   ],
   "source": [
    "y = Rkg .* Tᵥ ./ (hᵥ-hₗ) .* log.(1 .+ 2 .* σ ./ P .* (1 ./ Rn .- 1/2(Rin-δ)))"
   ]
  },
  {
   "cell_type": "code",
   "execution_count": 31,
   "metadata": {},
   "outputs": [
    {
     "data": {
      "text/plain": [
       "10000-element Vector{Float64}:\n",
       " 30.355900072053807\n",
       " 17.52833994531006\n",
       " 12.39255953352346\n",
       "  9.59821567296945\n",
       "  7.836249036205473\n",
       "  6.622329817565147\n",
       "  5.734672511525232\n",
       "  5.05711829724814\n",
       "  4.522868927118825\n",
       "  4.090758962274299\n",
       "  3.734026121595463\n",
       "  3.434513927387286\n",
       "  3.1794676761020324\n",
       "  ⋮\n",
       " -8.294302586016044e-5\n",
       " -8.337353172507277e-5\n",
       " -8.380395143134932e-5\n",
       " -8.42342850113198e-5\n",
       " -8.466453243265449e-5\n",
       " -8.509469376001277e-5\n",
       " -8.552476902572437e-5\n",
       " -8.595475822978926e-5\n",
       " -8.638466143686684e-5\n",
       " -8.681447864695712e-5\n",
       " -8.72442098600601e-5\n",
       " -8.767385517316484e-5"
      ]
     },
     "execution_count": 31,
     "metadata": {},
     "output_type": "execute_result"
    }
   ],
   "source": [
    "ΔTᵥ = Tᵥ .* (1 ./ (1 .- y) .- 1)"
   ]
  },
  {
   "cell_type": "code",
   "execution_count": 39,
   "metadata": {},
   "outputs": [
    {
     "data": {
      "image/png": "[encoded data removed]"
     },
     "execution_count": 39,
     "metadata": {},
     "output_type": "execute_result"
    }
   ],
   "source": [
    "plot(Rn,ΔTᵥ,ylabel=\"ΔT\",xlabel=\"Rn\",xlim=(9.9e-6,1e-5),ylim=(0.4,0.5))"
   ]
  },
  {
   "cell_type": "markdown",
   "metadata": {},
   "source": [
    "### Rn = 12 μm -> ΔT = 0.3 [K]\n",
    "### Rn = 4 μm -> ΔT = 1    [K]\n",
    "### Rn = 0.7 μm -> ΔT = 5 [K]"
   ]
  },
  {
   "cell_type": "code",
   "execution_count": 32,
   "metadata": {},
   "outputs": [
    {
     "data": {
      "text/plain": [
       "368421.0198777036"
      ]
     },
     "execution_count": 32,
     "metadata": {},
     "output_type": "execute_result"
    }
   ],
   "source": [
    "hᵥ - hₗ "
   ]
  },
  {
   "cell_type": "code",
   "execution_count": null,
   "metadata": {},
   "outputs": [],
   "source": []
  }
 ],
 "metadata": {
  "kernelspec": {
   "display_name": "Julia 1.8.1",
   "language": "julia",
   "name": "julia-1.8"
  },
  "language_info": {
   "file_extension": ".jl",
   "mimetype": "application/julia",
   "name": "julia",
   "version": "1.8.1"
  }
 },
 "nbformat": 4,
 "nbformat_minor": 2
}
