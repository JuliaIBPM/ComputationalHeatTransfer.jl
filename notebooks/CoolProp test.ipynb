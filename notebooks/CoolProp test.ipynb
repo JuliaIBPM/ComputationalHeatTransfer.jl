{
 "cells": [
  {
   "cell_type": "code",
   "execution_count": 1,
   "metadata": {},
   "outputs": [],
   "source": [
    "using CoolProp"
   ]
  },
  {
   "cell_type": "code",
   "execution_count": 2,
   "metadata": {},
   "outputs": [],
   "source": [
    "using Interpolations"
   ]
  },
  {
   "cell_type": "code",
   "execution_count": 177,
   "metadata": {},
   "outputs": [
    {
     "data": {
      "text/plain": [
       "Plots.PyPlotBackend()"
      ]
     },
     "execution_count": 177,
     "metadata": {},
     "output_type": "execute_result"
    }
   ],
   "source": [
    "using Plots\n",
    "pyplot()"
   ]
  },
  {
   "cell_type": "code",
   "execution_count": 125,
   "metadata": {},
   "outputs": [
    {
     "data": {
      "text/plain": [
       "\"Butane\""
      ]
     },
     "execution_count": 125,
     "metadata": {},
     "output_type": "execute_result"
    }
   ],
   "source": [
    "fluid_type = \"Butane\""
   ]
  },
  {
   "cell_type": "code",
   "execution_count": 126,
   "metadata": {},
   "outputs": [
    {
     "data": {
      "text/plain": [
       "295.0"
      ]
     },
     "execution_count": 126,
     "metadata": {},
     "output_type": "execute_result"
    }
   ],
   "source": [
    "Tᵥ = 295.0"
   ]
  },
  {
   "cell_type": "code",
   "execution_count": 127,
   "metadata": {},
   "outputs": [
    {
     "data": {
      "text/plain": [
       "251784.93076619998"
      ]
     },
     "execution_count": 127,
     "metadata": {},
     "output_type": "execute_result"
    }
   ],
   "source": [
    "Hₗ = CoolProp.PropsSI(\"H\",\"T\",Tᵥ,\"Q\",0.0,fluid_type)"
   ]
  },
  {
   "cell_type": "code",
   "execution_count": 128,
   "metadata": {},
   "outputs": [
    {
     "data": {
      "text/plain": [
       "616444.5004460975"
      ]
     },
     "execution_count": 128,
     "metadata": {},
     "output_type": "execute_result"
    }
   ],
   "source": [
    "Hᵥ = CoolProp.PropsSI(\"H\",\"T\",Tᵥ,\"Q\",1.0,fluid_type)"
   ]
  },
  {
   "cell_type": "code",
   "execution_count": 129,
   "metadata": {},
   "outputs": [
    {
     "data": {
      "text/plain": [
       "2423.00871631122"
      ]
     },
     "execution_count": 129,
     "metadata": {},
     "output_type": "execute_result"
    }
   ],
   "source": [
    "Cpₗ = CoolProp.PropsSI(\"CPMASS\",\"T\",Tᵥ,\"Q\",0.0,fluid_type)"
   ]
  },
  {
   "cell_type": "code",
   "execution_count": 130,
   "metadata": {},
   "outputs": [
    {
     "data": {
      "text/plain": [
       "1777.4588672805596"
      ]
     },
     "execution_count": 130,
     "metadata": {},
     "output_type": "execute_result"
    }
   ],
   "source": [
    "Cpᵥ = CoolProp.PropsSI(\"CPMASS\",\"T\",Tᵥ,\"Q\",1.0,fluid_type)"
   ]
  },
  {
   "cell_type": "code",
   "execution_count": 131,
   "metadata": {},
   "outputs": [
    {
     "data": {
      "text/plain": [
       "0.00016322746825352366"
      ]
     },
     "execution_count": 131,
     "metadata": {},
     "output_type": "execute_result"
    }
   ],
   "source": [
    "μₗ = CoolProp.PropsSI(\"V\",\"T\",Tᵥ,\"Q\",0.0,fluid_type)"
   ]
  },
  {
   "cell_type": "code",
   "execution_count": 132,
   "metadata": {},
   "outputs": [
    {
     "data": {
      "text/plain": [
       "7.308457480329653e-6"
      ]
     },
     "execution_count": 132,
     "metadata": {},
     "output_type": "execute_result"
    }
   ],
   "source": [
    "μᵥ = CoolProp.PropsSI(\"V\",\"T\",Tᵥ,\"Q\",1.0,fluid_type)"
   ]
  },
  {
   "cell_type": "code",
   "execution_count": 133,
   "metadata": {},
   "outputs": [
    {
     "data": {
      "text/plain": [
       "0.10602468282359685"
      ]
     },
     "execution_count": 133,
     "metadata": {},
     "output_type": "execute_result"
    }
   ],
   "source": [
    "kₗ = CoolProp.PropsSI(\"CONDUCTIVITY\",\"T\",Tᵥ,\"Q\",0.0,fluid_type)"
   ]
  },
  {
   "cell_type": "code",
   "execution_count": 134,
   "metadata": {},
   "outputs": [
    {
     "data": {
      "text/plain": [
       "0.016272671857647733"
      ]
     },
     "execution_count": 134,
     "metadata": {},
     "output_type": "execute_result"
    }
   ],
   "source": [
    "kᵥ = CoolProp.PropsSI(\"CONDUCTIVITY\",\"T\",Tᵥ,\"Q\",1.0,fluid_type)"
   ]
  },
  {
   "cell_type": "code",
   "execution_count": 135,
   "metadata": {},
   "outputs": [
    {
     "data": {
      "text/plain": [
       "3.7302783445033603"
      ]
     },
     "execution_count": 135,
     "metadata": {},
     "output_type": "execute_result"
    }
   ],
   "source": [
    "Prₗ = CoolProp.PropsSI(\"PRANDTL\",\"T\",Tᵥ,\"Q\",0.0,fluid_type)"
   ]
  },
  {
   "cell_type": "code",
   "execution_count": 136,
   "metadata": {},
   "outputs": [
    {
     "data": {
      "text/plain": [
       "0.7983005291444925"
      ]
     },
     "execution_count": 136,
     "metadata": {},
     "output_type": "execute_result"
    }
   ],
   "source": [
    "Prᵥ = CoolProp.PropsSI(\"PRANDTL\",\"T\",Tᵥ,\"Q\",1.0,fluid_type)"
   ]
  },
  {
   "cell_type": "code",
   "execution_count": 137,
   "metadata": {},
   "outputs": [
    {
     "data": {
      "text/plain": [
       "0.012279469759138965"
      ]
     },
     "execution_count": 137,
     "metadata": {},
     "output_type": "execute_result"
    }
   ],
   "source": [
    "σ = CoolProp.PropsSI(\"I\",\"T\",Tᵥ,\"Q\",0.0,fluid_type)"
   ]
  },
  {
   "cell_type": "code",
   "execution_count": 138,
   "metadata": {},
   "outputs": [
    {
     "data": {
      "text/plain": [
       "1.153629730162385e-5"
      ]
     },
     "execution_count": 138,
     "metadata": {},
     "output_type": "execute_result"
    }
   ],
   "source": [
    "kₗ/(Cpₗ*μₗ)*6.56e-3^2"
   ]
  },
  {
   "cell_type": "code",
   "execution_count": 139,
   "metadata": {},
   "outputs": [
    {
     "data": {
      "text/plain": [
       "576.4727745885054"
      ]
     },
     "execution_count": 139,
     "metadata": {},
     "output_type": "execute_result"
    }
   ],
   "source": [
    "Dₗ = CoolProp.PropsSI(\"D\",\"T\",Tᵥ,\"Q\",0.0,fluid_type)"
   ]
  },
  {
   "cell_type": "code",
   "execution_count": 140,
   "metadata": {},
   "outputs": [
    {
     "data": {
      "text/plain": [
       "5.619013384142316"
      ]
     },
     "execution_count": 140,
     "metadata": {},
     "output_type": "execute_result"
    }
   ],
   "source": [
    "Dᵥ = CoolProp.PropsSI(\"D\",\"T\",Tᵥ,\"Q\",1.0,fluid_type)"
   ]
  },
  {
   "cell_type": "code",
   "execution_count": 141,
   "metadata": {},
   "outputs": [
    {
     "data": {
      "text/plain": [
       "220337.19644977106"
      ]
     },
     "execution_count": 141,
     "metadata": {},
     "output_type": "execute_result"
    }
   ],
   "source": [
    "P = CoolProp.PropsSI(\"P\",\"T\",Tᵥ,\"Q\",0.0,fluid_type)"
   ]
  },
  {
   "cell_type": "code",
   "execution_count": 142,
   "metadata": {},
   "outputs": [
    {
     "data": {
      "text/plain": [
       "8.314472"
      ]
     },
     "execution_count": 142,
     "metadata": {},
     "output_type": "execute_result"
    }
   ],
   "source": [
    "R = CoolProp.PropsSI(\"GAS_CONSTANT\",\"T\",Tᵥ,\"Q\",1.0,fluid_type)"
   ]
  },
  {
   "cell_type": "code",
   "execution_count": 143,
   "metadata": {},
   "outputs": [
    {
     "data": {
      "text/plain": [
       "0.0581222"
      ]
     },
     "execution_count": 143,
     "metadata": {},
     "output_type": "execute_result"
    }
   ],
   "source": [
    "M = CoolProp.PropsSI(\"M\",\"T\",Tᵥ,\"Q\",1.0,fluid_type)"
   ]
  },
  {
   "cell_type": "code",
   "execution_count": 144,
   "metadata": {},
   "outputs": [
    {
     "data": {
      "text/plain": [
       "143.0515706563069"
      ]
     },
     "execution_count": 144,
     "metadata": {},
     "output_type": "execute_result"
    }
   ],
   "source": [
    "Rkg = R/M"
   ]
  },
  {
   "cell_type": "code",
   "execution_count": 145,
   "metadata": {},
   "outputs": [
    {
     "data": {
      "text/plain": [
       "1.0e-5"
      ]
     },
     "execution_count": 145,
     "metadata": {},
     "output_type": "execute_result"
    }
   ],
   "source": [
    "d = 2e-3\n",
    "Rin = d/2\n",
    "δ = 1e-5"
   ]
  },
  {
   "cell_type": "code",
   "execution_count": 180,
   "metadata": {},
   "outputs": [
    {
     "data": {
      "text/plain": [
       "1.0e-7:1.0e-7:1.0e-5"
      ]
     },
     "execution_count": 180,
     "metadata": {},
     "output_type": "execute_result"
    }
   ],
   "source": [
    "Rn = 1e-7:1e-7:1e-5"
   ]
  },
  {
   "cell_type": "code",
   "execution_count": 181,
   "metadata": {},
   "outputs": [
    {
     "data": {
      "text/plain": [
       "100-element Array{Float64,1}:\n",
       " 0.08665975374854222\n",
       " 0.051256860310623556\n",
       " 0.03655635774365346\n",
       " 0.02844081887190672\n",
       " 0.023283463862664083\n",
       " 0.01971294330979901\n",
       " 0.017093394156152623\n",
       " 0.01508907013226734\n",
       " 0.013505791648982223\n",
       " 0.01222338531089455\n",
       " 0.011163469584075767\n",
       " 0.010272729982023585\n",
       " 0.009513634947367091\n",
       " ⋮\n",
       " 0.001433867378982822\n",
       " 0.0014179612276074575\n",
       " 0.001402402546969926\n",
       " 0.0013871800741762353\n",
       " 0.001372283027901318\n",
       " 0.0013577010829227288\n",
       " 0.0013434243462536342\n",
       " 0.0013294433347589\n",
       " 0.0013157489541481442\n",
       " 0.0013023324792473812\n",
       " 0.0012891855354601701\n",
       " 0.0012763000813346662"
      ]
     },
     "execution_count": 181,
     "metadata": {},
     "output_type": "execute_result"
    }
   ],
   "source": [
    "y = Rkg .* Tᵥ ./ (Hᵥ-Hₗ) .* log.(1 .+ 2 .* σ ./ P .* (1 ./ Rn .- 1/2(Rin-δ)))"
   ]
  },
  {
   "cell_type": "code",
   "execution_count": 182,
   "metadata": {},
   "outputs": [
    {
     "data": {
      "text/plain": [
       "100-element Array{Float64,1}:\n",
       " 27.990256052706084\n",
       " 15.937689727679677\n",
       " 11.193312261754917\n",
       "  8.635646422970035\n",
       "  7.032359528435484\n",
       "  5.932260593162681\n",
       "  5.13024456859346\n",
       "  4.519470293234188\n",
       "  4.038755121643942\n",
       "  3.6505203839521783\n",
       "  3.3304023728949064\n",
       "  3.061909514367448\n",
       "  2.8334789942556826\n",
       "  ⋮\n",
       "  0.42359826052748684\n",
       "  0.4188925355181383\n",
       "  0.4142897523600164\n",
       "  0.40978656964609006\n",
       "  0.4053797890352351\n",
       "  0.40106634767679394\n",
       "  0.3968433111106229\n",
       "  0.3927078666096784\n",
       "  0.38865731693193295\n",
       "  0.3846890744540432\n",
       "  0.38080065565794907\n",
       "  0.3769896759478053"
      ]
     },
     "execution_count": 182,
     "metadata": {},
     "output_type": "execute_result"
    }
   ],
   "source": [
    "ΔTᵥ = Tᵥ .* (1 ./ (1 .- y) .- 1)"
   ]
  },
  {
   "cell_type": "code",
   "execution_count": 183,
   "metadata": {},
   "outputs": [
    {
     "data": {
      "image/png": "[encoded data removed]"
     },
     "execution_count": 183,
     "metadata": {},
     "output_type": "execute_result"
    }
   ],
   "source": [
    "plot(Rn,ΔTᵥ,ylabel=\"ΔT\",xlabel=\"Rn\")"
   ]
  }
 ],
 "metadata": {
  "kernelspec": {
   "display_name": "Julia 1.5.4",
   "language": "julia",
   "name": "julia-1.5"
  },
  "language_info": {
   "file_extension": ".jl",
   "mimetype": "application/julia",
   "name": "julia",
   "version": "1.5.4"
  }
 },
 "nbformat": 4,
 "nbformat_minor": 2
}
