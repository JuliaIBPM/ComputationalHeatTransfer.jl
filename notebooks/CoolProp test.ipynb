{
 "cells": [
  {
   "cell_type": "code",
   "execution_count": 2,
   "metadata": {},
   "outputs": [],
   "source": [
    "using CoolProp"
   ]
  },
  {
   "cell_type": "code",
   "execution_count": 3,
   "metadata": {},
   "outputs": [
    {
     "data": {
      "text/plain": [
       "2.4325863624814326"
      ]
     },
     "execution_count": 3,
     "metadata": {},
     "output_type": "execute_result"
    }
   ],
   "source": [
    "PropsSI(\"D\", \"T\", 300, \"P\", 101325, \"n-Butane\")"
   ]
  },
  {
   "cell_type": "code",
   "execution_count": 4,
   "metadata": {},
   "outputs": [],
   "source": [
    "using Interpolations"
   ]
  },
  {
   "cell_type": "code",
   "execution_count": 5,
   "metadata": {},
   "outputs": [
    {
     "data": {
      "text/plain": [
       "Plots.GRBackend()"
      ]
     },
     "execution_count": 5,
     "metadata": {},
     "output_type": "execute_result"
    }
   ],
   "source": [
    "using Plots\n",
    "gr()"
   ]
  },
  {
   "cell_type": "code",
   "execution_count": 6,
   "metadata": {},
   "outputs": [
    {
     "data": {
      "text/plain": [
       "\"Butane\""
      ]
     },
     "execution_count": 6,
     "metadata": {},
     "output_type": "execute_result"
    }
   ],
   "source": [
    "fluid_type = \"Butane\""
   ]
  },
  {
   "cell_type": "code",
   "execution_count": 7,
   "metadata": {},
   "outputs": [
    {
     "data": {
      "text/plain": [
       "0.001"
      ]
     },
     "execution_count": 7,
     "metadata": {},
     "output_type": "execute_result"
    }
   ],
   "source": [
    "d = 1e-3"
   ]
  },
  {
   "cell_type": "code",
   "execution_count": 8,
   "metadata": {},
   "outputs": [
    {
     "data": {
      "text/plain": [
       "295.0"
      ]
     },
     "execution_count": 8,
     "metadata": {},
     "output_type": "execute_result"
    }
   ],
   "source": [
    "Tᵥ = 295.0"
   ]
  },
  {
   "cell_type": "code",
   "execution_count": 9,
   "metadata": {},
   "outputs": [
    {
     "data": {
      "text/plain": [
       "576.4727745885054"
      ]
     },
     "execution_count": 9,
     "metadata": {},
     "output_type": "execute_result"
    }
   ],
   "source": [
    "ρₗ  = CoolProp.PropsSI(\"D\",\"T\",Tᵥ,\"Q\",0.0,fluid_type)"
   ]
  },
  {
   "cell_type": "code",
   "execution_count": 10,
   "metadata": {},
   "outputs": [
    {
     "data": {
      "text/plain": [
       "5.619013384142316"
      ]
     },
     "execution_count": 10,
     "metadata": {},
     "output_type": "execute_result"
    }
   ],
   "source": [
    "ρᵥ  = CoolProp.PropsSI(\"D\",\"T\",Tᵥ,\"Q\",1.0,fluid_type)"
   ]
  },
  {
   "cell_type": "code",
   "execution_count": 11,
   "metadata": {},
   "outputs": [
    {
     "data": {
      "text/plain": [
       "251784.93076619998"
      ]
     },
     "execution_count": 11,
     "metadata": {},
     "output_type": "execute_result"
    }
   ],
   "source": [
    "hₗ = CoolProp.PropsSI(\"H\",\"T\",Tᵥ,\"Q\",0.0,fluid_type)"
   ]
  },
  {
   "cell_type": "code",
   "execution_count": 12,
   "metadata": {},
   "outputs": [
    {
     "data": {
      "text/plain": [
       "616444.5004460975"
      ]
     },
     "execution_count": 12,
     "metadata": {},
     "output_type": "execute_result"
    }
   ],
   "source": [
    "hᵥ = CoolProp.PropsSI(\"H\",\"T\",Tᵥ,\"Q\",1.0,fluid_type)"
   ]
  },
  {
   "cell_type": "code",
   "execution_count": 13,
   "metadata": {},
   "outputs": [
    {
     "data": {
      "text/plain": [
       "2423.00871631122"
      ]
     },
     "execution_count": 13,
     "metadata": {},
     "output_type": "execute_result"
    }
   ],
   "source": [
    "Cpₗ = CoolProp.PropsSI(\"CPMASS\",\"T\",Tᵥ,\"Q\",0.0,fluid_type)"
   ]
  },
  {
   "cell_type": "code",
   "execution_count": 14,
   "metadata": {},
   "outputs": [
    {
     "data": {
      "text/plain": [
       "1777.4588672805596"
      ]
     },
     "execution_count": 14,
     "metadata": {},
     "output_type": "execute_result"
    }
   ],
   "source": [
    "Cpᵥ = CoolProp.PropsSI(\"CPMASS\",\"T\",Tᵥ,\"Q\",1.0,fluid_type)"
   ]
  },
  {
   "cell_type": "code",
   "execution_count": 15,
   "metadata": {},
   "outputs": [
    {
     "data": {
      "text/plain": [
       "0.00016322746825352366"
      ]
     },
     "execution_count": 15,
     "metadata": {},
     "output_type": "execute_result"
    }
   ],
   "source": [
    "μₗ = CoolProp.PropsSI(\"V\",\"T\",Tᵥ,\"Q\",0.0,fluid_type)"
   ]
  },
  {
   "cell_type": "code",
   "execution_count": 16,
   "metadata": {},
   "outputs": [
    {
     "data": {
      "text/plain": [
       "7.308457480329653e-6"
      ]
     },
     "execution_count": 16,
     "metadata": {},
     "output_type": "execute_result"
    }
   ],
   "source": [
    "μᵥ = CoolProp.PropsSI(\"V\",\"T\",Tᵥ,\"Q\",1.0,fluid_type)"
   ]
  },
  {
   "cell_type": "code",
   "execution_count": 17,
   "metadata": {},
   "outputs": [
    {
     "data": {
      "text/plain": [
       "0.10602468282359685"
      ]
     },
     "execution_count": 17,
     "metadata": {},
     "output_type": "execute_result"
    }
   ],
   "source": [
    "kₗ = CoolProp.PropsSI(\"CONDUCTIVITY\",\"T\",Tᵥ,\"Q\",0.0,fluid_type)"
   ]
  },
  {
   "cell_type": "code",
   "execution_count": 18,
   "metadata": {},
   "outputs": [
    {
     "data": {
      "text/plain": [
       "0.016272671857647733"
      ]
     },
     "execution_count": 18,
     "metadata": {},
     "output_type": "execute_result"
    }
   ],
   "source": [
    "kᵥ = CoolProp.PropsSI(\"CONDUCTIVITY\",\"T\",Tᵥ,\"Q\",1.0,fluid_type)"
   ]
  },
  {
   "cell_type": "code",
   "execution_count": 19,
   "metadata": {},
   "outputs": [
    {
     "data": {
      "text/plain": [
       "3.7302783445033603"
      ]
     },
     "execution_count": 19,
     "metadata": {},
     "output_type": "execute_result"
    }
   ],
   "source": [
    "Prₗ = CoolProp.PropsSI(\"PRANDTL\",\"T\",Tᵥ,\"Q\",0.0,fluid_type)"
   ]
  },
  {
   "cell_type": "code",
   "execution_count": 20,
   "metadata": {},
   "outputs": [
    {
     "data": {
      "text/plain": [
       "0.7983005291444925"
      ]
     },
     "execution_count": 20,
     "metadata": {},
     "output_type": "execute_result"
    }
   ],
   "source": [
    "Prᵥ = CoolProp.PropsSI(\"PRANDTL\",\"T\",Tᵥ,\"Q\",1.0,fluid_type)"
   ]
  },
  {
   "cell_type": "code",
   "execution_count": 21,
   "metadata": {},
   "outputs": [
    {
     "data": {
      "text/plain": [
       "0.012279469759138965"
      ]
     },
     "execution_count": 21,
     "metadata": {},
     "output_type": "execute_result"
    }
   ],
   "source": [
    "σ = CoolProp.PropsSI(\"I\",\"T\",Tᵥ,\"Q\",0.0,fluid_type)"
   ]
  },
  {
   "cell_type": "code",
   "execution_count": 22,
   "metadata": {},
   "outputs": [
    {
     "data": {
      "text/plain": [
       "1.153629730162385e-5"
      ]
     },
     "execution_count": 22,
     "metadata": {},
     "output_type": "execute_result"
    }
   ],
   "source": [
    "kₗ/(Cpₗ*μₗ)*6.56e-3^2"
   ]
  },
  {
   "cell_type": "code",
   "execution_count": 23,
   "metadata": {},
   "outputs": [
    {
     "data": {
      "text/plain": [
       "576.4727745885054"
      ]
     },
     "execution_count": 23,
     "metadata": {},
     "output_type": "execute_result"
    }
   ],
   "source": [
    "Dₗ = CoolProp.PropsSI(\"D\",\"T\",Tᵥ,\"Q\",0.0,fluid_type)"
   ]
  },
  {
   "cell_type": "code",
   "execution_count": 24,
   "metadata": {},
   "outputs": [
    {
     "data": {
      "text/plain": [
       "5.619013384142316"
      ]
     },
     "execution_count": 24,
     "metadata": {},
     "output_type": "execute_result"
    }
   ],
   "source": [
    "Dᵥ = CoolProp.PropsSI(\"D\",\"T\",Tᵥ,\"Q\",1.0,fluid_type)"
   ]
  },
  {
   "cell_type": "code",
   "execution_count": 25,
   "metadata": {},
   "outputs": [
    {
     "data": {
      "text/plain": [
       "220337.19644977106"
      ]
     },
     "execution_count": 25,
     "metadata": {},
     "output_type": "execute_result"
    }
   ],
   "source": [
    "P = CoolProp.PropsSI(\"P\",\"T\",Tᵥ,\"Q\",0.0,fluid_type)"
   ]
  },
  {
   "cell_type": "code",
   "execution_count": 26,
   "metadata": {},
   "outputs": [
    {
     "data": {
      "text/plain": [
       "8.314472"
      ]
     },
     "execution_count": 26,
     "metadata": {},
     "output_type": "execute_result"
    }
   ],
   "source": [
    "R = CoolProp.PropsSI(\"GAS_CONSTANT\",\"T\",Tᵥ,\"Q\",1.0,fluid_type)"
   ]
  },
  {
   "cell_type": "code",
   "execution_count": 27,
   "metadata": {},
   "outputs": [
    {
     "data": {
      "text/plain": [
       "0.0581222"
      ]
     },
     "execution_count": 27,
     "metadata": {},
     "output_type": "execute_result"
    }
   ],
   "source": [
    "M = CoolProp.PropsSI(\"M\",\"T\",Tᵥ,\"Q\",1.0,fluid_type)"
   ]
  },
  {
   "cell_type": "code",
   "execution_count": 28,
   "metadata": {},
   "outputs": [
    {
     "data": {
      "text/plain": [
       "143.0515706563069"
      ]
     },
     "execution_count": 28,
     "metadata": {},
     "output_type": "execute_result"
    }
   ],
   "source": [
    "Rkg = R/M"
   ]
  },
  {
   "cell_type": "code",
   "execution_count": 29,
   "metadata": {},
   "outputs": [
    {
     "data": {
      "text/plain": [
       "1.0e-5"
      ]
     },
     "execution_count": 29,
     "metadata": {},
     "output_type": "execute_result"
    }
   ],
   "source": [
    "Rin = d/2\n",
    "δ = 1e-5"
   ]
  },
  {
   "cell_type": "code",
   "execution_count": 30,
   "metadata": {},
   "outputs": [
    {
     "data": {
      "text/plain": [
       "1.0e-7:1.0e-7:0.001"
      ]
     },
     "execution_count": 30,
     "metadata": {},
     "output_type": "execute_result"
    }
   ],
   "source": [
    "Rn = 1e-7:1e-7:1e-3"
   ]
  },
  {
   "cell_type": "code",
   "execution_count": 31,
   "metadata": {},
   "outputs": [
    {
     "data": {
      "text/plain": [
       "10000-element Vector{Float64}:\n",
       "  0.08665661001782884\n",
       "  0.05125259148910966\n",
       "  0.03655151069516906\n",
       "  0.028435619700334265\n",
       "  0.02327802774061473\n",
       "  0.019707336845960717\n",
       "  0.01708765933402458\n",
       "  0.015083235116959548\n",
       "  0.013499876251890324\n",
       "  0.012217403996065372\n",
       "  0.011157433233780866\n",
       "  0.010266646989204913\n",
       "  0.00950751192109428\n",
       "  ⋮\n",
       " -2.4903650019462654e-7\n",
       " -2.503290945569873e-7\n",
       " -2.516214301863184e-7\n",
       " -2.5291350714685177e-7\n",
       " -2.5420532552851513e-7\n",
       " -2.5549688540838837e-7\n",
       " -2.567881868635513e-7\n",
       " -2.580792299582356e-7\n",
       " -2.5937001479521737e-7\n",
       " -2.6066054143872835e-7\n",
       " -2.6195080995300027e-7\n",
       " -2.6324082042796104e-7"
      ]
     },
     "execution_count": 31,
     "metadata": {},
     "output_type": "execute_result"
    }
   ],
   "source": [
    "y = Rkg .* Tᵥ ./ (hᵥ-hₗ) .* log.(1 .+ 2 .* σ ./ P .* (1 ./ Rn .- 1/2(Rin-δ)))"
   ]
  },
  {
   "cell_type": "code",
   "execution_count": 32,
   "metadata": {},
   "outputs": [
    {
     "data": {
      "text/plain": [
       "10000-element Vector{Float64}:\n",
       " 27.989144319266945\n",
       " 15.936290685650711\n",
       " 11.191771822544503\n",
       "  8.634021565314365\n",
       "  7.030678512940929\n",
       "  5.930539509347388\n",
       "  5.128493452551231\n",
       "  4.51769582786162\n",
       "  4.036961981491338\n",
       "  3.6487119670055126\n",
       "  3.3285812267662274\n",
       "  3.0600775982765316\n",
       "  2.8316378473123605\n",
       "  ⋮\n",
       " -7.346574921796023e-5\n",
       " -7.384706442459255e-5\n",
       " -7.422830322179053e-5\n",
       " -7.460946577331207e-5\n",
       " -7.499055194815085e-5\n",
       " -7.537156194281636e-5\n",
       " -7.575249569180542e-5\n",
       " -7.613335319511805e-5\n",
       " -7.651413451825739e-5\n",
       " -7.689483966122346e-5\n",
       " -7.72754686895194e-5\n",
       " -7.765602160314522e-5"
      ]
     },
     "execution_count": 32,
     "metadata": {},
     "output_type": "execute_result"
    }
   ],
   "source": [
    "ΔTᵥ = Tᵥ .* (1 ./ (1 .- y) .- 1)"
   ]
  },
  {
   "cell_type": "code",
   "execution_count": 33,
   "metadata": {},
   "outputs": [
    {
     "data": {
      "image/svg+xml": [
       "<?xml version=\"1.0\" encoding=\"utf-8\"?>\n",
       "<svg xmlns=\"http://www.w3.org/2000/svg\" xmlns:xlink=\"http://www.w3.org/1999/xlink\" width=\"600\" height=\"400\" viewBox=\"0 0 2400 1600\">\n",
       "<defs>\n",
       "  <clipPath id=\"clip610\">\n",
       "    <rect x=\"0\" y=\"0\" width=\"2400\" height=\"1600\"/>\n",
       "  </clipPath>\n",
       "</defs>\n",
       "<path clip-path=\"url(#clip610)\" d=\"\n",
       "M0 1600 L2400 1600 L2400 0 L0 0  Z\n",
       "  \" fill=\"#ffffff\" fill-rule=\"evenodd\" fill-opacity=\"1\"/>\n",
       "<defs>\n",
       "  <clipPath id=\"clip611\">\n",
       "    <rect x=\"480\" y=\"0\" width=\"1681\" height=\"1600\"/>\n",
       "  </clipPath>\n",
       "</defs>\n",
       "<path clip-path=\"url(#clip610)\" d=\"\n",
       "M202.227 1410.9 L2352.76 1410.9 L2352.76 47.2441 L202.227 47.2441  Z\n",
       "  \" fill=\"#ffffff\" fill-rule=\"evenodd\" fill-opacity=\"1\"/>\n",
       "<defs>\n",
       "  <clipPath id=\"clip612\">\n",
       "    <rect x=\"202\" y=\"47\" width=\"2152\" height=\"1365\"/>\n",
       "  </clipPath>\n",
       "</defs>\n",
       "<polyline clip-path=\"url(#clip612)\" style=\"stroke:#000000; stroke-linecap:butt; stroke-linejoin:round; stroke-width:2; stroke-opacity:0.1; fill:none\" points=\"\n",
       "  441.175,1410.9 441.175,47.2441 \n",
       "  \"/>\n",
       "<polyline clip-path=\"url(#clip612)\" style=\"stroke:#000000; stroke-linecap:butt; stroke-linejoin:round; stroke-width:2; stroke-opacity:0.1; fill:none\" points=\"\n",
       "  919.07,1410.9 919.07,47.2441 \n",
       "  \"/>\n",
       "<polyline clip-path=\"url(#clip612)\" style=\"stroke:#000000; stroke-linecap:butt; stroke-linejoin:round; stroke-width:2; stroke-opacity:0.1; fill:none\" points=\"\n",
       "  1396.97,1410.9 1396.97,47.2441 \n",
       "  \"/>\n",
       "<polyline clip-path=\"url(#clip612)\" style=\"stroke:#000000; stroke-linecap:butt; stroke-linejoin:round; stroke-width:2; stroke-opacity:0.1; fill:none\" points=\"\n",
       "  1874.86,1410.9 1874.86,47.2441 \n",
       "  \"/>\n",
       "<polyline clip-path=\"url(#clip612)\" style=\"stroke:#000000; stroke-linecap:butt; stroke-linejoin:round; stroke-width:2; stroke-opacity:0.1; fill:none\" points=\"\n",
       "  2352.76,1410.9 2352.76,47.2441 \n",
       "  \"/>\n",
       "<polyline clip-path=\"url(#clip610)\" style=\"stroke:#000000; stroke-linecap:butt; stroke-linejoin:round; stroke-width:4; stroke-opacity:1; fill:none\" points=\"\n",
       "  202.227,1410.9 2352.76,1410.9 \n",
       "  \"/>\n",
       "<polyline clip-path=\"url(#clip610)\" style=\"stroke:#000000; stroke-linecap:butt; stroke-linejoin:round; stroke-width:4; stroke-opacity:1; fill:none\" points=\"\n",
       "  441.175,1410.9 441.175,1392 \n",
       "  \"/>\n",
       "<polyline clip-path=\"url(#clip610)\" style=\"stroke:#000000; stroke-linecap:butt; stroke-linejoin:round; stroke-width:4; stroke-opacity:1; fill:none\" points=\"\n",
       "  919.07,1410.9 919.07,1392 \n",
       "  \"/>\n",
       "<polyline clip-path=\"url(#clip610)\" style=\"stroke:#000000; stroke-linecap:butt; stroke-linejoin:round; stroke-width:4; stroke-opacity:1; fill:none\" points=\"\n",
       "  1396.97,1410.9 1396.97,1392 \n",
       "  \"/>\n",
       "<polyline clip-path=\"url(#clip610)\" style=\"stroke:#000000; stroke-linecap:butt; stroke-linejoin:round; stroke-width:4; stroke-opacity:1; fill:none\" points=\"\n",
       "  1874.86,1410.9 1874.86,1392 \n",
       "  \"/>\n",
       "<polyline clip-path=\"url(#clip610)\" style=\"stroke:#000000; stroke-linecap:butt; stroke-linejoin:round; stroke-width:4; stroke-opacity:1; fill:none\" points=\"\n",
       "  2352.76,1410.9 2352.76,1392 \n",
       "  \"/>\n",
       "<path clip-path=\"url(#clip610)\" d=\"M337.687 1485.02 L354.006 1485.02 L354.006 1488.96 L332.062 1488.96 L332.062 1485.02 Q334.724 1482.27 339.307 1477.64 Q343.914 1472.98 345.094 1471.64 Q347.339 1469.12 348.219 1467.38 Q349.122 1465.62 349.122 1463.93 Q349.122 1461.18 347.177 1459.44 Q345.256 1457.71 342.154 1457.71 Q339.955 1457.71 337.502 1458.47 Q335.071 1459.23 332.293 1460.79 L332.293 1456.06 Q335.117 1454.93 337.571 1454.35 Q340.025 1453.77 342.062 1453.77 Q347.432 1453.77 350.627 1456.46 Q353.821 1459.14 353.821 1463.63 Q353.821 1465.76 353.011 1467.68 Q352.224 1469.58 350.117 1472.17 Q349.539 1472.85 346.437 1476.06 Q343.335 1479.26 337.687 1485.02 Z\" fill=\"#000000\" fill-rule=\"evenodd\" fill-opacity=\"1\" /><path clip-path=\"url(#clip610)\" d=\"M363.821 1483.08 L368.705 1483.08 L368.705 1488.96 L363.821 1488.96 L363.821 1483.08 Z\" fill=\"#000000\" fill-rule=\"evenodd\" fill-opacity=\"1\" /><path clip-path=\"url(#clip610)\" d=\"M388.89 1457.48 Q385.279 1457.48 383.45 1461.04 Q381.645 1464.58 381.645 1471.71 Q381.645 1478.82 383.45 1482.38 Q385.279 1485.92 388.89 1485.92 Q392.524 1485.92 394.33 1482.38 Q396.159 1478.82 396.159 1471.71 Q396.159 1464.58 394.33 1461.04 Q392.524 1457.48 388.89 1457.48 M388.89 1453.77 Q394.7 1453.77 397.756 1458.38 Q400.835 1462.96 400.835 1471.71 Q400.835 1480.44 397.756 1485.04 Q394.7 1489.63 388.89 1489.63 Q383.08 1489.63 380.001 1485.04 Q376.946 1480.44 376.946 1471.71 Q376.946 1462.96 380.001 1458.38 Q383.08 1453.77 388.89 1453.77 Z\" fill=\"#000000\" fill-rule=\"evenodd\" fill-opacity=\"1\" /><path clip-path=\"url(#clip610)\" d=\"M437.223 1463.49 L426.645 1474.12 L437.223 1484.7 L434.469 1487.5 L423.844 1476.87 L413.219 1487.5 L410.487 1484.7 L421.043 1474.12 L410.487 1463.49 L413.219 1460.69 L423.844 1471.32 L434.469 1460.69 L437.223 1463.49 Z\" fill=\"#000000\" fill-rule=\"evenodd\" fill-opacity=\"1\" /><path clip-path=\"url(#clip610)\" d=\"M449.584 1485.02 L457.223 1485.02 L457.223 1458.66 L448.913 1460.32 L448.913 1456.06 L457.177 1454.4 L461.853 1454.4 L461.853 1485.02 L469.492 1485.02 L469.492 1488.96 L449.584 1488.96 L449.584 1485.02 Z\" fill=\"#000000\" fill-rule=\"evenodd\" fill-opacity=\"1\" /><path clip-path=\"url(#clip610)\" d=\"M488.936 1457.48 Q485.325 1457.48 483.496 1461.04 Q481.691 1464.58 481.691 1471.71 Q481.691 1478.82 483.496 1482.38 Q485.325 1485.92 488.936 1485.92 Q492.57 1485.92 494.376 1482.38 Q496.204 1478.82 496.204 1471.71 Q496.204 1464.58 494.376 1461.04 Q492.57 1457.48 488.936 1457.48 M488.936 1453.77 Q494.746 1453.77 497.802 1458.38 Q500.88 1462.96 500.88 1471.71 Q500.88 1480.44 497.802 1485.04 Q494.746 1489.63 488.936 1489.63 Q483.126 1489.63 480.047 1485.04 Q476.992 1480.44 476.992 1471.71 Q476.992 1462.96 480.047 1458.38 Q483.126 1453.77 488.936 1453.77 Z\" fill=\"#000000\" fill-rule=\"evenodd\" fill-opacity=\"1\" /><path clip-path=\"url(#clip610)\" d=\"M500.88 1447.87 L524.992 1447.87 L524.992 1451.07 L500.88 1451.07 L500.88 1447.87 Z\" fill=\"#000000\" fill-rule=\"evenodd\" fill-opacity=\"1\" /><path clip-path=\"url(#clip610)\" d=\"M532.233 1433.47 L550.288 1433.47 L550.288 1435.08 L540.095 1461.55 L536.126 1461.55 L545.718 1436.66 L532.233 1436.66 L532.233 1433.47 Z\" fill=\"#000000\" fill-rule=\"evenodd\" fill-opacity=\"1\" /><path clip-path=\"url(#clip610)\" d=\"M824.98 1458.47 L813.175 1476.92 L824.98 1476.92 L824.98 1458.47 M823.753 1454.4 L829.633 1454.4 L829.633 1476.92 L834.563 1476.92 L834.563 1480.81 L829.633 1480.81 L829.633 1488.96 L824.98 1488.96 L824.98 1480.81 L809.378 1480.81 L809.378 1476.29 L823.753 1454.4 Z\" fill=\"#000000\" fill-rule=\"evenodd\" fill-opacity=\"1\" /><path clip-path=\"url(#clip610)\" d=\"M842.295 1483.08 L847.179 1483.08 L847.179 1488.96 L842.295 1488.96 L842.295 1483.08 Z\" fill=\"#000000\" fill-rule=\"evenodd\" fill-opacity=\"1\" /><path clip-path=\"url(#clip610)\" d=\"M867.364 1457.48 Q863.753 1457.48 861.924 1461.04 Q860.119 1464.58 860.119 1471.71 Q860.119 1478.82 861.924 1482.38 Q863.753 1485.92 867.364 1485.92 Q870.998 1485.92 872.804 1482.38 Q874.633 1478.82 874.633 1471.71 Q874.633 1464.58 872.804 1461.04 Q870.998 1457.48 867.364 1457.48 M867.364 1453.77 Q873.174 1453.77 876.23 1458.38 Q879.308 1462.96 879.308 1471.71 Q879.308 1480.44 876.23 1485.04 Q873.174 1489.63 867.364 1489.63 Q861.554 1489.63 858.475 1485.04 Q855.42 1480.44 855.42 1471.71 Q855.42 1462.96 858.475 1458.38 Q861.554 1453.77 867.364 1453.77 Z\" fill=\"#000000\" fill-rule=\"evenodd\" fill-opacity=\"1\" /><path clip-path=\"url(#clip610)\" d=\"M915.697 1463.49 L905.119 1474.12 L915.697 1484.7 L912.943 1487.5 L902.318 1476.87 L891.693 1487.5 L888.961 1484.7 L899.517 1474.12 L888.961 1463.49 L891.693 1460.69 L902.318 1471.32 L912.943 1460.69 L915.697 1463.49 Z\" fill=\"#000000\" fill-rule=\"evenodd\" fill-opacity=\"1\" /><path clip-path=\"url(#clip610)\" d=\"M928.058 1485.02 L935.697 1485.02 L935.697 1458.66 L927.387 1460.32 L927.387 1456.06 L935.651 1454.4 L940.327 1454.4 L940.327 1485.02 L947.966 1485.02 L947.966 1488.96 L928.058 1488.96 L928.058 1485.02 Z\" fill=\"#000000\" fill-rule=\"evenodd\" fill-opacity=\"1\" /><path clip-path=\"url(#clip610)\" d=\"M967.41 1457.48 Q963.799 1457.48 961.97 1461.04 Q960.165 1464.58 960.165 1471.71 Q960.165 1478.82 961.97 1482.38 Q963.799 1485.92 967.41 1485.92 Q971.044 1485.92 972.85 1482.38 Q974.678 1478.82 974.678 1471.71 Q974.678 1464.58 972.85 1461.04 Q971.044 1457.48 967.41 1457.48 M967.41 1453.77 Q973.22 1453.77 976.276 1458.38 Q979.354 1462.96 979.354 1471.71 Q979.354 1480.44 976.276 1485.04 Q973.22 1489.63 967.41 1489.63 Q961.6 1489.63 958.521 1485.04 Q955.465 1480.44 955.465 1471.71 Q955.465 1462.96 958.521 1458.38 Q961.6 1453.77 967.41 1453.77 Z\" fill=\"#000000\" fill-rule=\"evenodd\" fill-opacity=\"1\" /><path clip-path=\"url(#clip610)\" d=\"M979.354 1447.87 L1003.47 1447.87 L1003.47 1451.07 L979.354 1451.07 L979.354 1447.87 Z\" fill=\"#000000\" fill-rule=\"evenodd\" fill-opacity=\"1\" /><path clip-path=\"url(#clip610)\" d=\"M1010.71 1433.47 L1028.76 1433.47 L1028.76 1435.08 L1018.57 1461.55 L1014.6 1461.55 L1024.19 1436.66 L1010.71 1436.66 L1010.71 1433.47 Z\" fill=\"#000000\" fill-rule=\"evenodd\" fill-opacity=\"1\" /><path clip-path=\"url(#clip610)\" d=\"M1300.11 1469.81 Q1296.96 1469.81 1295.11 1471.97 Q1293.28 1474.12 1293.28 1477.87 Q1293.28 1481.6 1295.11 1483.77 Q1296.96 1485.92 1300.11 1485.92 Q1303.26 1485.92 1305.09 1483.77 Q1306.94 1481.6 1306.94 1477.87 Q1306.94 1474.12 1305.09 1471.97 Q1303.26 1469.81 1300.11 1469.81 M1309.39 1455.16 L1309.39 1459.42 Q1307.63 1458.59 1305.83 1458.15 Q1304.04 1457.71 1302.29 1457.71 Q1297.66 1457.71 1295.2 1460.83 Q1292.77 1463.96 1292.42 1470.28 Q1293.79 1468.26 1295.85 1467.2 Q1297.91 1466.11 1300.39 1466.11 Q1305.6 1466.11 1308.6 1469.28 Q1311.64 1472.43 1311.64 1477.87 Q1311.64 1483.19 1308.49 1486.41 Q1305.34 1489.63 1300.11 1489.63 Q1294.11 1489.63 1290.94 1485.04 Q1287.77 1480.44 1287.77 1471.71 Q1287.77 1463.52 1291.66 1458.66 Q1295.55 1453.77 1302.1 1453.77 Q1303.86 1453.77 1305.64 1454.12 Q1307.45 1454.47 1309.39 1455.16 Z\" fill=\"#000000\" fill-rule=\"evenodd\" fill-opacity=\"1\" /><path clip-path=\"url(#clip610)\" d=\"M1319.69 1483.08 L1324.58 1483.08 L1324.58 1488.96 L1319.69 1488.96 L1319.69 1483.08 Z\" fill=\"#000000\" fill-rule=\"evenodd\" fill-opacity=\"1\" /><path clip-path=\"url(#clip610)\" d=\"M1344.76 1457.48 Q1341.15 1457.48 1339.32 1461.04 Q1337.52 1464.58 1337.52 1471.71 Q1337.52 1478.82 1339.32 1482.38 Q1341.15 1485.92 1344.76 1485.92 Q1348.4 1485.92 1350.2 1482.38 Q1352.03 1478.82 1352.03 1471.71 Q1352.03 1464.58 1350.2 1461.04 Q1348.4 1457.48 1344.76 1457.48 M1344.76 1453.77 Q1350.57 1453.77 1353.63 1458.38 Q1356.71 1462.96 1356.71 1471.71 Q1356.71 1480.44 1353.63 1485.04 Q1350.57 1489.63 1344.76 1489.63 Q1338.95 1489.63 1335.87 1485.04 Q1332.82 1480.44 1332.82 1471.71 Q1332.82 1462.96 1335.87 1458.38 Q1338.95 1453.77 1344.76 1453.77 Z\" fill=\"#000000\" fill-rule=\"evenodd\" fill-opacity=\"1\" /><path clip-path=\"url(#clip610)\" d=\"M1393.09 1463.49 L1382.52 1474.12 L1393.09 1484.7 L1390.34 1487.5 L1379.72 1476.87 L1369.09 1487.5 L1366.36 1484.7 L1376.91 1474.12 L1366.36 1463.49 L1369.09 1460.69 L1379.72 1471.32 L1390.34 1460.69 L1393.09 1463.49 Z\" fill=\"#000000\" fill-rule=\"evenodd\" fill-opacity=\"1\" /><path clip-path=\"url(#clip610)\" d=\"M1405.46 1485.02 L1413.09 1485.02 L1413.09 1458.66 L1404.78 1460.32 L1404.78 1456.06 L1413.05 1454.4 L1417.72 1454.4 L1417.72 1485.02 L1425.36 1485.02 L1425.36 1488.96 L1405.46 1488.96 L1405.46 1485.02 Z\" fill=\"#000000\" fill-rule=\"evenodd\" fill-opacity=\"1\" /><path clip-path=\"url(#clip610)\" d=\"M1444.81 1457.48 Q1441.2 1457.48 1439.37 1461.04 Q1437.56 1464.58 1437.56 1471.71 Q1437.56 1478.82 1439.37 1482.38 Q1441.2 1485.92 1444.81 1485.92 Q1448.44 1485.92 1450.25 1482.38 Q1452.08 1478.82 1452.08 1471.71 Q1452.08 1464.58 1450.25 1461.04 Q1448.44 1457.48 1444.81 1457.48 M1444.81 1453.77 Q1450.62 1453.77 1453.67 1458.38 Q1456.75 1462.96 1456.75 1471.71 Q1456.75 1480.44 1453.67 1485.04 Q1450.62 1489.63 1444.81 1489.63 Q1439 1489.63 1435.92 1485.04 Q1432.86 1480.44 1432.86 1471.71 Q1432.86 1462.96 1435.92 1458.38 Q1439 1453.77 1444.81 1453.77 Z\" fill=\"#000000\" fill-rule=\"evenodd\" fill-opacity=\"1\" /><path clip-path=\"url(#clip610)\" d=\"M1456.75 1447.87 L1480.86 1447.87 L1480.86 1451.07 L1456.75 1451.07 L1456.75 1447.87 Z\" fill=\"#000000\" fill-rule=\"evenodd\" fill-opacity=\"1\" /><path clip-path=\"url(#clip610)\" d=\"M1488.1 1433.47 L1506.16 1433.47 L1506.16 1435.08 L1495.97 1461.55 L1492 1461.55 L1501.59 1436.66 L1488.1 1436.66 L1488.1 1433.47 Z\" fill=\"#000000\" fill-rule=\"evenodd\" fill-opacity=\"1\" /><path clip-path=\"url(#clip610)\" d=\"M1777.47 1472.54 Q1774.14 1472.54 1772.22 1474.33 Q1770.32 1476.11 1770.32 1479.23 Q1770.32 1482.36 1772.22 1484.14 Q1774.14 1485.92 1777.47 1485.92 Q1780.81 1485.92 1782.73 1484.14 Q1784.65 1482.34 1784.65 1479.23 Q1784.65 1476.11 1782.73 1474.33 Q1780.83 1472.54 1777.47 1472.54 M1772.8 1470.55 Q1769.79 1469.81 1768.1 1467.75 Q1766.43 1465.69 1766.43 1462.73 Q1766.43 1458.59 1769.37 1456.18 Q1772.33 1453.77 1777.47 1453.77 Q1782.63 1453.77 1785.57 1456.18 Q1788.51 1458.59 1788.51 1462.73 Q1788.51 1465.69 1786.82 1467.75 Q1785.16 1469.81 1782.17 1470.55 Q1785.55 1471.34 1787.43 1473.63 Q1789.32 1475.92 1789.32 1479.23 Q1789.32 1484.26 1786.24 1486.94 Q1783.19 1489.63 1777.47 1489.63 Q1771.75 1489.63 1768.68 1486.94 Q1765.62 1484.26 1765.62 1479.23 Q1765.62 1475.92 1767.52 1473.63 Q1769.42 1471.34 1772.8 1470.55 M1771.08 1463.17 Q1771.08 1465.85 1772.75 1467.36 Q1774.44 1468.86 1777.47 1468.86 Q1780.48 1468.86 1782.17 1467.36 Q1783.88 1465.85 1783.88 1463.17 Q1783.88 1460.48 1782.17 1458.98 Q1780.48 1457.48 1777.47 1457.48 Q1774.44 1457.48 1772.75 1458.98 Q1771.08 1460.48 1771.08 1463.17 Z\" fill=\"#000000\" fill-rule=\"evenodd\" fill-opacity=\"1\" /><path clip-path=\"url(#clip610)\" d=\"M1797.63 1483.08 L1802.52 1483.08 L1802.52 1488.96 L1797.63 1488.96 L1797.63 1483.08 Z\" fill=\"#000000\" fill-rule=\"evenodd\" fill-opacity=\"1\" /><path clip-path=\"url(#clip610)\" d=\"M1822.7 1457.48 Q1819.09 1457.48 1817.26 1461.04 Q1815.46 1464.58 1815.46 1471.71 Q1815.46 1478.82 1817.26 1482.38 Q1819.09 1485.92 1822.7 1485.92 Q1826.34 1485.92 1828.14 1482.38 Q1829.97 1478.82 1829.97 1471.71 Q1829.97 1464.58 1828.14 1461.04 Q1826.34 1457.48 1822.7 1457.48 M1822.7 1453.77 Q1828.51 1453.77 1831.57 1458.38 Q1834.65 1462.96 1834.65 1471.71 Q1834.65 1480.44 1831.57 1485.04 Q1828.51 1489.63 1822.7 1489.63 Q1816.89 1489.63 1813.81 1485.04 Q1810.76 1480.44 1810.76 1471.71 Q1810.76 1462.96 1813.81 1458.38 Q1816.89 1453.77 1822.7 1453.77 Z\" fill=\"#000000\" fill-rule=\"evenodd\" fill-opacity=\"1\" /><path clip-path=\"url(#clip610)\" d=\"M1871.04 1463.49 L1860.46 1474.12 L1871.04 1484.7 L1868.28 1487.5 L1857.66 1476.87 L1847.03 1487.5 L1844.3 1484.7 L1854.86 1474.12 L1844.3 1463.49 L1847.03 1460.69 L1857.66 1471.32 L1868.28 1460.69 L1871.04 1463.49 Z\" fill=\"#000000\" fill-rule=\"evenodd\" fill-opacity=\"1\" /><path clip-path=\"url(#clip610)\" d=\"M1883.4 1485.02 L1891.04 1485.02 L1891.04 1458.66 L1882.73 1460.32 L1882.73 1456.06 L1890.99 1454.4 L1895.67 1454.4 L1895.67 1485.02 L1903.3 1485.02 L1903.3 1488.96 L1883.4 1488.96 L1883.4 1485.02 Z\" fill=\"#000000\" fill-rule=\"evenodd\" fill-opacity=\"1\" /><path clip-path=\"url(#clip610)\" d=\"M1922.75 1457.48 Q1919.14 1457.48 1917.31 1461.04 Q1915.5 1464.58 1915.5 1471.71 Q1915.5 1478.82 1917.31 1482.38 Q1919.14 1485.92 1922.75 1485.92 Q1926.38 1485.92 1928.19 1482.38 Q1930.02 1478.82 1930.02 1471.71 Q1930.02 1464.58 1928.19 1461.04 Q1926.38 1457.48 1922.75 1457.48 M1922.75 1453.77 Q1928.56 1453.77 1931.61 1458.38 Q1934.69 1462.96 1934.69 1471.71 Q1934.69 1480.44 1931.61 1485.04 Q1928.56 1489.63 1922.75 1489.63 Q1916.94 1489.63 1913.86 1485.04 Q1910.8 1480.44 1910.8 1471.71 Q1910.8 1462.96 1913.86 1458.38 Q1916.94 1453.77 1922.75 1453.77 Z\" fill=\"#000000\" fill-rule=\"evenodd\" fill-opacity=\"1\" /><path clip-path=\"url(#clip610)\" d=\"M1934.69 1447.87 L1958.8 1447.87 L1958.8 1451.07 L1934.69 1451.07 L1934.69 1447.87 Z\" fill=\"#000000\" fill-rule=\"evenodd\" fill-opacity=\"1\" /><path clip-path=\"url(#clip610)\" d=\"M1966.05 1433.47 L1984.1 1433.47 L1984.1 1435.08 L1973.91 1461.55 L1969.94 1461.55 L1979.53 1436.66 L1966.05 1436.66 L1966.05 1433.47 Z\" fill=\"#000000\" fill-rule=\"evenodd\" fill-opacity=\"1\" /><path clip-path=\"url(#clip610)\" d=\"M2244.75 1485.02 L2252.39 1485.02 L2252.39 1458.66 L2244.08 1460.32 L2244.08 1456.06 L2252.34 1454.4 L2257.02 1454.4 L2257.02 1485.02 L2264.66 1485.02 L2264.66 1488.96 L2244.75 1488.96 L2244.75 1485.02 Z\" fill=\"#000000\" fill-rule=\"evenodd\" fill-opacity=\"1\" /><path clip-path=\"url(#clip610)\" d=\"M2274.1 1483.08 L2278.99 1483.08 L2278.99 1488.96 L2274.1 1488.96 L2274.1 1483.08 Z\" fill=\"#000000\" fill-rule=\"evenodd\" fill-opacity=\"1\" /><path clip-path=\"url(#clip610)\" d=\"M2299.17 1457.48 Q2295.56 1457.48 2293.73 1461.04 Q2291.93 1464.58 2291.93 1471.71 Q2291.93 1478.82 2293.73 1482.38 Q2295.56 1485.92 2299.17 1485.92 Q2302.8 1485.92 2304.61 1482.38 Q2306.44 1478.82 2306.44 1471.71 Q2306.44 1464.58 2304.61 1461.04 Q2302.8 1457.48 2299.17 1457.48 M2299.17 1453.77 Q2304.98 1453.77 2308.04 1458.38 Q2311.11 1462.96 2311.11 1471.71 Q2311.11 1480.44 2308.04 1485.04 Q2304.98 1489.63 2299.17 1489.63 Q2293.36 1489.63 2290.28 1485.04 Q2287.23 1480.44 2287.23 1471.71 Q2287.23 1462.96 2290.28 1458.38 Q2293.36 1453.77 2299.17 1453.77 Z\" fill=\"#000000\" fill-rule=\"evenodd\" fill-opacity=\"1\" /><path clip-path=\"url(#clip610)\" d=\"M2347.5 1463.49 L2336.92 1474.12 L2347.5 1484.7 L2344.75 1487.5 L2334.12 1476.87 L2323.5 1487.5 L2320.77 1484.7 L2331.32 1474.12 L2320.77 1463.49 L2323.5 1460.69 L2334.12 1471.32 L2344.75 1460.69 L2347.5 1463.49 Z\" fill=\"#000000\" fill-rule=\"evenodd\" fill-opacity=\"1\" /><path clip-path=\"url(#clip610)\" d=\"M2359.86 1485.02 L2367.5 1485.02 L2367.5 1458.66 L2359.19 1460.32 L2359.19 1456.06 L2367.46 1454.4 L2372.13 1454.4 L2372.13 1485.02 L2379.77 1485.02 L2379.77 1488.96 L2359.86 1488.96 L2359.86 1485.02 Z\" fill=\"#000000\" fill-rule=\"evenodd\" fill-opacity=\"1\" /><path clip-path=\"url(#clip610)\" d=\"M2399.22 1457.48 Q2395.61 1457.48 2393.78 1461.04 Q2391.97 1464.58 2391.97 1471.71 Q2391.97 1478.82 2393.78 1482.38 Q2395.61 1485.92 2399.22 1485.92 Q2402.85 1485.92 2404.66 1482.38 Q2406.48 1478.82 2406.48 1471.71 Q2406.48 1464.58 2404.66 1461.04 Q2402.85 1457.48 2399.22 1457.48 M2399.22 1453.77 Q2405.03 1453.77 2408.08 1458.38 Q2411.16 1462.96 2411.16 1471.71 Q2411.16 1480.44 2408.08 1485.04 Q2405.03 1489.63 2399.22 1489.63 Q2393.41 1489.63 2390.33 1485.04 Q2387.27 1480.44 2387.27 1471.71 Q2387.27 1462.96 2390.33 1458.38 Q2393.41 1453.77 2399.22 1453.77 Z\" fill=\"#000000\" fill-rule=\"evenodd\" fill-opacity=\"1\" /><path clip-path=\"url(#clip610)\" d=\"M2411.16 1447.87 L2435.27 1447.87 L2435.27 1451.07 L2411.16 1451.07 L2411.16 1447.87 Z\" fill=\"#000000\" fill-rule=\"evenodd\" fill-opacity=\"1\" /><path clip-path=\"url(#clip610)\" d=\"M2452.07 1445.99 Q2449.51 1445.99 2448 1447.74 Q2446.52 1449.49 2446.52 1452.54 Q2446.52 1455.57 2448 1457.33 Q2449.51 1459.08 2452.07 1459.08 Q2454.63 1459.08 2456.11 1457.33 Q2457.62 1455.57 2457.62 1452.54 Q2457.62 1449.49 2456.11 1447.74 Q2454.63 1445.99 2452.07 1445.99 M2459.61 1434.09 L2459.61 1437.55 Q2458.18 1436.87 2456.71 1436.51 Q2455.26 1436.16 2453.84 1436.16 Q2450.07 1436.16 2448.08 1438.69 Q2446.11 1441.23 2445.82 1446.37 Q2446.93 1444.73 2448.61 1443.87 Q2450.28 1442.98 2452.29 1442.98 Q2456.52 1442.98 2458.97 1445.56 Q2461.43 1448.12 2461.43 1452.54 Q2461.43 1456.86 2458.88 1459.48 Q2456.32 1462.09 2452.07 1462.09 Q2447.2 1462.09 2444.62 1458.37 Q2442.04 1454.62 2442.04 1447.53 Q2442.04 1440.88 2445.2 1436.93 Q2448.36 1432.96 2453.68 1432.96 Q2455.11 1432.96 2456.56 1433.24 Q2458.03 1433.52 2459.61 1434.09 Z\" fill=\"#000000\" fill-rule=\"evenodd\" fill-opacity=\"1\" /><path clip-path=\"url(#clip610)\" d=\"M1262.69 1551.91 Q1264.76 1552.61 1266.7 1554.9 Q1268.68 1557.19 1270.65 1561.2 L1277.17 1574.19 L1270.27 1574.19 L1264.19 1562 Q1261.83 1557.22 1259.6 1555.66 Q1257.41 1554.1 1253.59 1554.1 L1246.59 1554.1 L1246.59 1574.19 L1240.16 1574.19 L1240.16 1526.67 L1254.67 1526.67 Q1262.82 1526.67 1266.83 1530.07 Q1270.84 1533.48 1270.84 1540.35 Q1270.84 1544.84 1268.74 1547.8 Q1266.67 1550.76 1262.69 1551.91 M1246.59 1531.95 L1246.59 1548.82 L1254.67 1548.82 Q1259.32 1548.82 1261.67 1546.69 Q1264.06 1544.52 1264.06 1540.35 Q1264.06 1536.18 1261.67 1534.08 Q1259.32 1531.95 1254.67 1531.95 L1246.59 1531.95 Z\" fill=\"#000000\" fill-rule=\"evenodd\" fill-opacity=\"1\" /><path clip-path=\"url(#clip610)\" d=\"M1314.83 1552.67 L1314.83 1574.19 L1308.97 1574.19 L1308.97 1552.86 Q1308.97 1547.8 1307 1545.29 Q1305.02 1542.77 1301.08 1542.77 Q1296.33 1542.77 1293.6 1545.79 Q1290.86 1548.82 1290.86 1554.04 L1290.86 1574.19 L1284.97 1574.19 L1284.97 1538.54 L1290.86 1538.54 L1290.86 1544.08 Q1292.96 1540.86 1295.79 1539.27 Q1298.66 1537.68 1302.38 1537.68 Q1308.52 1537.68 1311.68 1541.5 Q1314.83 1545.29 1314.83 1552.67 Z\" fill=\"#000000\" fill-rule=\"evenodd\" fill-opacity=\"1\" /><polyline clip-path=\"url(#clip612)\" style=\"stroke:#000000; stroke-linecap:butt; stroke-linejoin:round; stroke-width:2; stroke-opacity:0.1; fill:none\" points=\"\n",
       "  202.227,1138.22 2352.76,1138.22 \n",
       "  \"/>\n",
       "<polyline clip-path=\"url(#clip612)\" style=\"stroke:#000000; stroke-linecap:butt; stroke-linejoin:round; stroke-width:2; stroke-opacity:0.1; fill:none\" points=\"\n",
       "  202.227,865.477 2352.76,865.477 \n",
       "  \"/>\n",
       "<polyline clip-path=\"url(#clip612)\" style=\"stroke:#000000; stroke-linecap:butt; stroke-linejoin:round; stroke-width:2; stroke-opacity:0.1; fill:none\" points=\"\n",
       "  202.227,592.732 2352.76,592.732 \n",
       "  \"/>\n",
       "<polyline clip-path=\"url(#clip612)\" style=\"stroke:#000000; stroke-linecap:butt; stroke-linejoin:round; stroke-width:2; stroke-opacity:0.1; fill:none\" points=\"\n",
       "  202.227,319.988 2352.76,319.988 \n",
       "  \"/>\n",
       "<polyline clip-path=\"url(#clip612)\" style=\"stroke:#000000; stroke-linecap:butt; stroke-linejoin:round; stroke-width:2; stroke-opacity:0.1; fill:none\" points=\"\n",
       "  202.227,47.2441 2352.76,47.2441 \n",
       "  \"/>\n",
       "<polyline clip-path=\"url(#clip610)\" style=\"stroke:#000000; stroke-linecap:butt; stroke-linejoin:round; stroke-width:4; stroke-opacity:1; fill:none\" points=\"\n",
       "  202.227,1410.9 202.227,47.2441 \n",
       "  \"/>\n",
       "<polyline clip-path=\"url(#clip610)\" style=\"stroke:#000000; stroke-linecap:butt; stroke-linejoin:round; stroke-width:4; stroke-opacity:1; fill:none\" points=\"\n",
       "  202.227,1138.22 221.125,1138.22 \n",
       "  \"/>\n",
       "<polyline clip-path=\"url(#clip610)\" style=\"stroke:#000000; stroke-linecap:butt; stroke-linejoin:round; stroke-width:4; stroke-opacity:1; fill:none\" points=\"\n",
       "  202.227,865.477 221.125,865.477 \n",
       "  \"/>\n",
       "<polyline clip-path=\"url(#clip610)\" style=\"stroke:#000000; stroke-linecap:butt; stroke-linejoin:round; stroke-width:4; stroke-opacity:1; fill:none\" points=\"\n",
       "  202.227,592.732 221.125,592.732 \n",
       "  \"/>\n",
       "<polyline clip-path=\"url(#clip610)\" style=\"stroke:#000000; stroke-linecap:butt; stroke-linejoin:round; stroke-width:4; stroke-opacity:1; fill:none\" points=\"\n",
       "  202.227,319.988 221.125,319.988 \n",
       "  \"/>\n",
       "<polyline clip-path=\"url(#clip610)\" style=\"stroke:#000000; stroke-linecap:butt; stroke-linejoin:round; stroke-width:4; stroke-opacity:1; fill:none\" points=\"\n",
       "  202.227,47.2441 221.125,47.2441 \n",
       "  \"/>\n",
       "<path clip-path=\"url(#clip610)\" d=\"M149.908 1151.57 L166.227 1151.57 L166.227 1155.5 L144.283 1155.5 L144.283 1151.57 Q146.945 1148.81 151.528 1144.18 Q156.135 1139.53 157.315 1138.19 Q159.561 1135.66 160.44 1133.93 Q161.343 1132.17 161.343 1130.48 Q161.343 1127.72 159.399 1125.99 Q157.478 1124.25 154.376 1124.25 Q152.177 1124.25 149.723 1125.01 Q147.292 1125.78 144.515 1127.33 L144.515 1122.61 Q147.339 1121.47 149.792 1120.89 Q152.246 1120.32 154.283 1120.32 Q159.653 1120.32 162.848 1123 Q166.042 1125.69 166.042 1130.18 Q166.042 1132.31 165.232 1134.23 Q164.445 1136.13 162.339 1138.72 Q161.76 1139.39 158.658 1142.61 Q155.556 1145.8 149.908 1151.57 Z\" fill=\"#000000\" fill-rule=\"evenodd\" fill-opacity=\"1\" /><path clip-path=\"url(#clip610)\" d=\"M156.644 852.271 L144.839 870.72 L156.644 870.72 L156.644 852.271 M155.417 848.197 L161.297 848.197 L161.297 870.72 L166.227 870.72 L166.227 874.608 L161.297 874.608 L161.297 882.757 L156.644 882.757 L156.644 874.608 L141.042 874.608 L141.042 870.095 L155.417 848.197 Z\" fill=\"#000000\" fill-rule=\"evenodd\" fill-opacity=\"1\" /><path clip-path=\"url(#clip610)\" d=\"M154.7 590.869 Q151.552 590.869 149.7 593.022 Q147.871 595.175 147.871 598.924 Q147.871 602.651 149.7 604.827 Q151.552 606.98 154.7 606.98 Q157.848 606.98 159.677 604.827 Q161.528 602.651 161.528 598.924 Q161.528 595.175 159.677 593.022 Q157.848 590.869 154.7 590.869 M163.982 576.216 L163.982 580.476 Q162.223 579.642 160.417 579.202 Q158.635 578.763 156.876 578.763 Q152.246 578.763 149.792 581.888 Q147.362 585.013 147.015 591.332 Q148.38 589.318 150.441 588.253 Q152.501 587.165 154.978 587.165 Q160.186 587.165 163.195 590.337 Q166.227 593.485 166.227 598.924 Q166.227 604.249 163.079 607.466 Q159.931 610.684 154.7 610.684 Q148.704 610.684 145.533 606.1 Q142.362 601.494 142.362 592.767 Q142.362 584.573 146.251 579.712 Q150.14 574.827 156.69 574.827 Q158.45 574.827 160.232 575.175 Q162.038 575.522 163.982 576.216 Z\" fill=\"#000000\" fill-rule=\"evenodd\" fill-opacity=\"1\" /><path clip-path=\"url(#clip610)\" d=\"M154.376 320.856 Q151.042 320.856 149.121 322.639 Q147.223 324.421 147.223 327.546 Q147.223 330.671 149.121 332.453 Q151.042 334.236 154.376 334.236 Q157.709 334.236 159.63 332.453 Q161.552 330.648 161.552 327.546 Q161.552 324.421 159.63 322.639 Q157.732 320.856 154.376 320.856 M149.7 318.866 Q146.691 318.125 145.001 316.065 Q143.334 314.004 143.334 311.042 Q143.334 306.898 146.274 304.491 Q149.237 302.083 154.376 302.083 Q159.538 302.083 162.477 304.491 Q165.417 306.898 165.417 311.042 Q165.417 314.004 163.727 316.065 Q162.061 318.125 159.075 318.866 Q162.454 319.653 164.329 321.944 Q166.227 324.236 166.227 327.546 Q166.227 332.569 163.149 335.254 Q160.093 337.94 154.376 337.94 Q148.658 337.94 145.579 335.254 Q142.524 332.569 142.524 327.546 Q142.524 324.236 144.422 321.944 Q146.32 319.653 149.7 318.866 M147.987 311.481 Q147.987 314.167 149.653 315.671 Q151.343 317.176 154.376 317.176 Q157.385 317.176 159.075 315.671 Q160.788 314.167 160.788 311.481 Q160.788 308.796 159.075 307.292 Q157.385 305.787 154.376 305.787 Q151.343 305.787 149.653 307.292 Q147.987 308.796 147.987 311.481 Z\" fill=\"#000000\" fill-rule=\"evenodd\" fill-opacity=\"1\" /><path clip-path=\"url(#clip610)\" d=\"M114.931 60.5889 L122.57 60.5889 L122.57 34.2233 L114.26 35.89 L114.26 31.6308 L122.524 29.9641 L127.2 29.9641 L127.2 60.5889 L134.839 60.5889 L134.839 64.5241 L114.931 64.5241 L114.931 60.5889 Z\" fill=\"#000000\" fill-rule=\"evenodd\" fill-opacity=\"1\" /><path clip-path=\"url(#clip610)\" d=\"M154.283 33.0428 Q150.672 33.0428 148.843 36.6076 Q147.038 40.1492 147.038 47.2788 Q147.038 54.3853 148.843 57.9501 Q150.672 61.4917 154.283 61.4917 Q157.917 61.4917 159.723 57.9501 Q161.552 54.3853 161.552 47.2788 Q161.552 40.1492 159.723 36.6076 Q157.917 33.0428 154.283 33.0428 M154.283 29.3391 Q160.093 29.3391 163.149 33.9456 Q166.227 38.5289 166.227 47.2788 Q166.227 56.0056 163.149 60.6121 Q160.093 65.1954 154.283 65.1954 Q148.473 65.1954 145.394 60.6121 Q142.339 56.0056 142.339 47.2788 Q142.339 38.5289 145.394 33.9456 Q148.473 29.3391 154.283 29.3391 Z\" fill=\"#000000\" fill-rule=\"evenodd\" fill-opacity=\"1\" /><path clip-path=\"url(#clip610)\" d=\"M22.818 749.345 L58.657 762.395 L58.657 736.264 L22.818 749.345 M64.0042 771.116 L16.4842 752.974 L16.4842 745.685 L64.0042 727.574 L64.0042 771.116 Z\" fill=\"#000000\" fill-rule=\"evenodd\" fill-opacity=\"1\" /><path clip-path=\"url(#clip610)\" d=\"M16.4842 727.224 L16.4842 687.025 L21.895 687.025 L21.895 703.894 L64.0042 703.894 L64.0042 710.355 L21.895 710.355 L21.895 727.224 L16.4842 727.224 Z\" fill=\"#000000\" fill-rule=\"evenodd\" fill-opacity=\"1\" /><polyline clip-path=\"url(#clip612)\" style=\"stroke:#009af9; stroke-linecap:butt; stroke-linejoin:round; stroke-width:4; stroke-opacity:1; fill:none\" points=\"\n",
       "  202.227,-2405.97 441.175,-762.3 680.123,-115.28 919.07,233.525 1158.02,452.177 1396.97,602.205 1635.91,711.582 1874.86,794.877 2113.81,860.436 2352.76,913.382 \n",
       "  2591.7,957.039 2830.65,993.656 3069.6,1024.81 3308.55,1051.64 3547.49,1074.98 3786.44,1095.48 4025.39,1113.63 4264.34,1129.8 4503.28,1144.31 4742.23,1157.39 \n",
       "  4981.18,1169.26 5220.13,1180.06 5459.07,1189.94 5698.02,1199.02 5936.97,1207.37 6175.92,1215.1 6414.87,1222.26 6653.81,1228.92 6892.76,1235.13 7131.71,1240.92 \n",
       "  7370.66,1246.35 7609.6,1251.45 7848.55,1256.23 8087.5,1260.74 8326.45,1265 8565.39,1269.02 8804.34,1272.83 9043.29,1276.44 9282.24,1279.86 9521.18,1283.12 \n",
       "  9760.13,1286.22 9999.08,1289.17 10238,1291.99 10477,1294.68 10715.9,1297.25 10954.9,1299.71 11193.8,1302.07 11432.8,1304.33 11671.7,1306.5 11910.7,1308.58 \n",
       "  12149.6,1310.58 12388.6,1312.51 12627.5,1314.36 12866.5,1316.14 13105.4,1317.86 13344.3,1319.52 13583.3,1321.12 13822.2,1322.67 14061.2,1324.17 14300.1,1325.61 \n",
       "  14539.1,1327.01 14778,1328.36 15017,1329.67 15255.9,1330.94 15494.9,1332.18 15733.8,1333.37 15972.8,1334.53 16211.7,1335.65 16450.7,1336.75 16689.6,1337.81 \n",
       "  16928.6,1338.84 17167.5,1339.84 17406.5,1340.82 17645.4,1341.77 17884.4,1342.69 18123.3,1343.59 18362.2,1344.47 18601.2,1345.32 18840.1,1346.16 19079.1,1346.97 \n",
       "  19318,1347.76 19557,1348.53 19795.9,1349.29 20034.9,1350.03 20273.8,1350.75 20512.8,1351.45 20751.7,1352.14 20990.7,1352.81 21229.6,1353.46 21468.6,1354.1 \n",
       "  21707.5,1354.73 21946.5,1355.35 22185.4,1355.95 22424.4,1356.54 22663.3,1357.11 22902.2,1357.68 23141.2,1358.23 23380.1,1358.77 23619.1,1359.3 23858,1359.82 \n",
       "  24097,1360.33 24335.9,1360.83 24574.9,1361.32 24813.8,1361.8 25052.8,1362.27 25291.7,1362.73 25530.7,1363.19 25769.6,1363.63 26008.6,1364.07 26247.5,1364.5 \n",
       "  26486.5,1364.92 26725.4,1365.33 26964.4,1365.74 27203.3,1366.14 27442.3,1366.53 27681.2,1366.92 27920.1,1367.3 28159.1,1367.67 28398,1368.04 28637,1368.4 \n",
       "  28875.9,1368.76 29114.9,1369.11 29353.8,1369.45 29592.8,1369.79 29831.7,1370.12 30070.7,1370.45 30309.6,1370.77 30548.6,1371.09 30787.5,1371.4 31026.5,1371.71 \n",
       "  31265.4,1372.01 31504.4,1372.31 31743.3,1372.6 31982.3,1372.89 32221.2,1373.17 32460.2,1373.46 32699.1,1373.73 32938,1374 33177,1374.27 33415.9,1374.54 \n",
       "  33654.9,1374.8 33893.8,1375.06 34132.8,1375.31 34371.7,1375.56 34610.7,1375.81 34849.6,1376.05 35088.6,1376.29 35327.5,1376.53 35566.5,1376.76 35805.4,1377 \n",
       "  36044.4,1377.22 36283.3,1377.45 36522.3,1377.67 36761.2,1377.89 37000.2,1378.11 37239.1,1378.32 37478.1,1378.53 37717,1378.74 37955.9,1378.94 38194.9,1379.15 \n",
       "  38433.8,1379.35 38672.8,1379.54 38911.7,1379.74 39150.7,1379.93 39389.6,1380.12 39628.6,1380.31 39867.5,1380.5 40106.5,1380.68 40345.4,1380.86 40584.4,1381.04 \n",
       "  40823.3,1381.22 41062.3,1381.4 41301.2,1381.57 41540.2,1381.74 41779.1,1381.91 42018.1,1382.08 42257,1382.25 42496,1382.41 42734.9,1382.57 42973.8,1382.73 \n",
       "  43212.8,1382.89 43451.7,1383.05 43690.7,1383.2 43929.6,1383.36 44168.6,1383.51 44407.5,1383.66 44646.5,1383.81 44885.4,1383.95 45124.4,1384.1 45363.3,1384.24 \n",
       "  45602.3,1384.38 45841.2,1384.53 46080.2,1384.66 46319.1,1384.8 46558.1,1384.94 46797,1385.07 47036,1385.21 47274.9,1385.34 47513.9,1385.47 47752.8,1385.6 \n",
       "  47991.7,1385.73 48230.7,1385.86 48469.6,1385.98 48708.6,1386.11 48947.5,1386.23 49186.5,1386.35 49425.4,1386.48 49664.4,1386.6 49903.3,1386.71 50142.3,1386.83 \n",
       "  50381.2,1386.95 50620.2,1387.06 50859.1,1387.18 51098.1,1387.29 51337,1387.4 51576,1387.52 51814.9,1387.63 52053.9,1387.74 52292.8,1387.84 52531.8,1387.95 \n",
       "  52770.7,1388.06 53009.6,1388.16 53248.6,1388.27 53487.5,1388.37 53726.5,1388.47 53965.4,1388.57 54204.4,1388.68 54443.3,1388.78 54682.3,1388.87 54921.2,1388.97 \n",
       "  55160.2,1389.07 55399.1,1389.17 55638.1,1389.26 55877,1389.36 56116,1389.45 56354.9,1389.54 56593.9,1389.64 56832.8,1389.73 57071.8,1389.82 57310.7,1389.91 \n",
       "  57549.7,1390 57788.6,1390.09 58027.5,1390.18 58266.5,1390.26 58505.4,1390.35 58744.4,1390.44 58983.3,1390.52 59222.3,1390.6 59461.2,1390.69 59700.2,1390.77 \n",
       "  59939.1,1390.85 60178.1,1390.94 60417,1391.02 60656,1391.1 60894.9,1391.18 61133.9,1391.26 61372.8,1391.33 61611.8,1391.41 61850.7,1391.49 62089.7,1391.57 \n",
       "  62328.6,1391.64 62567.6,1391.72 62806.5,1391.79 63045.4,1391.87 63284.4,1391.94 63523.3,1392.02 63762.3,1392.09 64001.2,1392.16 64240.2,1392.23 64479.1,1392.3 \n",
       "  64718.1,1392.37 64957,1392.44 65196,1392.51 65434.9,1392.58 65673.9,1392.65 65912.8,1392.72 66151.8,1392.79 66390.7,1392.86 66629.7,1392.92 66868.6,1392.99 \n",
       "  67107.6,1393.05 67346.5,1393.12 67585.5,1393.18 67824.4,1393.25 68063.3,1393.31 68302.3,1393.38 68541.2,1393.44 68780.2,1393.5 69019.1,1393.56 69258.1,1393.63 \n",
       "  69497,1393.69 69736,1393.75 69974.9,1393.81 70213.9,1393.87 70452.8,1393.93 70691.8,1393.99 70930.7,1394.05 71169.7,1394.1 71408.6,1394.16 71647.6,1394.22 \n",
       "  71886.5,1394.28 72125.5,1394.33 72364.4,1394.39 72603.4,1394.45 72842.3,1394.5 73081.2,1394.56 73320.2,1394.61 73559.1,1394.67 73798.1,1394.72 74037,1394.78 \n",
       "  74276,1394.83 74514.9,1394.88 74753.9,1394.94 74992.8,1394.99 75231.8,1395.04 75470.7,1395.09 75709.7,1395.15 75948.6,1395.2 76187.6,1395.25 76426.5,1395.3 \n",
       "  76665.5,1395.35 76904.4,1395.4 77143.4,1395.45 77382.3,1395.5 77621.3,1395.55 77860.2,1395.6 78099.1,1395.64 78338.1,1395.69 78577,1395.74 78816,1395.79 \n",
       "  79054.9,1395.84 79293.9,1395.88 79532.8,1395.93 79771.8,1395.98 80010.7,1396.02 80249.7,1396.07 80488.6,1396.11 80727.6,1396.16 80966.5,1396.21 81205.5,1396.25 \n",
       "  81444.4,1396.29 81683.4,1396.34 81922.3,1396.38 82161.3,1396.43 82400.2,1396.47 82639.2,1396.51 82878.1,1396.56 83117,1396.6 83356,1396.64 83594.9,1396.69 \n",
       "  83833.9,1396.73 84072.8,1396.77 84311.8,1396.81 84550.7,1396.85 84789.7,1396.89 85028.6,1396.93 85267.6,1396.98 85506.5,1397.02 85745.5,1397.06 85984.4,1397.1 \n",
       "  86223.4,1397.14 86462.3,1397.18 86701.3,1397.21 86940.2,1397.25 87179.2,1397.29 87418.1,1397.33 87657.1,1397.37 87896,1397.41 88134.9,1397.45 88373.9,1397.48 \n",
       "  88612.8,1397.52 88851.8,1397.56 89090.7,1397.6 89329.7,1397.63 89568.6,1397.67 89807.6,1397.71 90046.5,1397.74 90285.5,1397.78 90524.4,1397.82 90763.4,1397.85 \n",
       "  91002.3,1397.89 91241.3,1397.92 91480.2,1397.96 91719.2,1397.99 91958.1,1398.03 92197.1,1398.06 92436,1398.1 92675,1398.13 92913.9,1398.17 93152.8,1398.2 \n",
       "  93391.8,1398.24 93630.7,1398.27 93869.7,1398.3 94108.6,1398.34 94347.6,1398.37 94586.5,1398.4 94825.5,1398.44 95064.4,1398.47 95303.4,1398.5 95542.3,1398.53 \n",
       "  95781.3,1398.57 96020.2,1398.6 96259.2,1398.63 96498.1,1398.66 96737.1,1398.69 96976,1398.73 97215,1398.76 97453.9,1398.79 97692.8,1398.82 97931.8,1398.85 \n",
       "  98170.7,1398.88 98409.7,1398.91 98648.6,1398.94 98887.6,1398.97 99126.5,1399 99365.5,1399.03 99604.4,1399.06 99843.4,1399.09 100082,1399.12 100321,1399.15 \n",
       "  100560,1399.18 100799,1399.21 101038,1399.24 101277,1399.27 101516,1399.3 101755,1399.32 101994,1399.35 102233,1399.38 102472,1399.41 102711,1399.44 \n",
       "  102950,1399.47 103189,1399.49 103428,1399.52 103667,1399.55 103905,1399.58 104144,1399.6 104383,1399.63 104622,1399.66 104861,1399.68 105100,1399.71 \n",
       "  105339,1399.74 105578,1399.76 105817,1399.79 106056,1399.82 106295,1399.84 106534,1399.87 106773,1399.9 107012,1399.92 107251,1399.95 107490,1399.97 \n",
       "  107729,1400 107968,1400.02 108207,1400.05 108445,1400.07 108684,1400.1 108923,1400.12 109162,1400.15 109401,1400.17 109640,1400.2 109879,1400.22 \n",
       "  110118,1400.25 110357,1400.27 110596,1400.3 110835,1400.32 111074,1400.34 111313,1400.37 111552,1400.39 111791,1400.42 112030,1400.44 112269,1400.46 \n",
       "  112508,1400.49 112747,1400.51 112985,1400.53 113224,1400.56 113463,1400.58 113702,1400.6 113941,1400.62 114180,1400.65 114419,1400.67 114658,1400.69 \n",
       "  114897,1400.71 115136,1400.74 115375,1400.76 115614,1400.78 115853,1400.8 116092,1400.83 116331,1400.85 116570,1400.87 116809,1400.89 117048,1400.91 \n",
       "  117287,1400.93 117526,1400.96 117764,1400.98 118003,1401 118242,1401.02 118481,1401.04 118720,1401.06 118959,1401.08 119198,1401.1 119437,1401.12 \n",
       "  119676,1401.14 119915,1401.17 120154,1401.19 120393,1401.21 120632,1401.23 120871,1401.25 121110,1401.27 121349,1401.29 121588,1401.31 121827,1401.33 \n",
       "  122066,1401.35 122304,1401.37 122543,1401.39 122782,1401.41 123021,1401.43 123260,1401.45 123499,1401.46 123738,1401.48 123977,1401.5 124216,1401.52 \n",
       "  124455,1401.54 124694,1401.56 124933,1401.58 125172,1401.6 125411,1401.62 125650,1401.64 125889,1401.65 126128,1401.67 126367,1401.69 126606,1401.71 \n",
       "  126844,1401.73 127083,1401.75 127322,1401.77 127561,1401.78 127800,1401.8 128039,1401.82 128278,1401.84 128517,1401.86 128756,1401.87 128995,1401.89 \n",
       "  129234,1401.91 129473,1401.93 129712,1401.94 129951,1401.96 130190,1401.98 130429,1402 130668,1402.01 130907,1402.03 131146,1402.05 131384,1402.07 \n",
       "  131623,1402.08 131862,1402.1 132101,1402.12 132340,1402.13 132579,1402.15 132818,1402.17 133057,1402.18 133296,1402.2 133535,1402.22 133774,1402.23 \n",
       "  134013,1402.25 134252,1402.27 134491,1402.28 134730,1402.3 134969,1402.32 135208,1402.33 135447,1402.35 135686,1402.36 135924,1402.38 136163,1402.4 \n",
       "  136402,1402.41 136641,1402.43 136880,1402.44 137119,1402.46 137358,1402.48 137597,1402.49 137836,1402.51 138075,1402.52 138314,1402.54 138553,1402.55 \n",
       "  138792,1402.57 139031,1402.58 139270,1402.6 139509,1402.61 139748,1402.63 139987,1402.64 140226,1402.66 140464,1402.67 140703,1402.69 140942,1402.7 \n",
       "  141181,1402.72 141420,1402.73 141659,1402.75 141898,1402.76 142137,1402.78 142376,1402.79 142615,1402.81 142854,1402.82 143093,1402.84 143332,1402.85 \n",
       "  143571,1402.87 143810,1402.88 144049,1402.89 144288,1402.91 144527,1402.92 144766,1402.94 145004,1402.95 145243,1402.96 145482,1402.98 145721,1402.99 \n",
       "  145960,1403.01 146199,1403.02 146438,1403.03 146677,1403.05 146916,1403.06 147155,1403.08 147394,1403.09 147633,1403.1 147872,1403.12 148111,1403.13 \n",
       "  148350,1403.14 148589,1403.16 148828,1403.17 149067,1403.18 149306,1403.2 149544,1403.21 149783,1403.22 150022,1403.24 150261,1403.25 150500,1403.26 \n",
       "  150739,1403.28 150978,1403.29 151217,1403.3 151456,1403.31 151695,1403.33 151934,1403.34 152173,1403.35 152412,1403.37 152651,1403.38 152890,1403.39 \n",
       "  153129,1403.4 153368,1403.42 153607,1403.43 153846,1403.44 154084,1403.45 154323,1403.47 154562,1403.48 154801,1403.49 155040,1403.5 155279,1403.52 \n",
       "  155518,1403.53 155757,1403.54 155996,1403.55 156235,1403.56 156474,1403.58 156713,1403.59 156952,1403.6 157191,1403.61 157430,1403.62 157669,1403.64 \n",
       "  157908,1403.65 158147,1403.66 158386,1403.67 158624,1403.68 158863,1403.7 159102,1403.71 159341,1403.72 159580,1403.73 159819,1403.74 160058,1403.75 \n",
       "  160297,1403.77 160536,1403.78 160775,1403.79 161014,1403.8 161253,1403.81 161492,1403.82 161731,1403.83 161970,1403.84 162209,1403.86 162448,1403.87 \n",
       "  162687,1403.88 162926,1403.89 163164,1403.9 163403,1403.91 163642,1403.92 163881,1403.93 164120,1403.95 164359,1403.96 164598,1403.97 164837,1403.98 \n",
       "  165076,1403.99 165315,1404 165554,1404.01 165793,1404.02 166032,1404.03 166271,1404.04 166510,1404.05 166749,1404.06 166988,1404.07 167227,1404.09 \n",
       "  167466,1404.1 167704,1404.11 167943,1404.12 168182,1404.13 168421,1404.14 168660,1404.15 168899,1404.16 169138,1404.17 169377,1404.18 169616,1404.19 \n",
       "  169855,1404.2 170094,1404.21 170333,1404.22 170572,1404.23 170811,1404.24 171050,1404.25 171289,1404.26 171528,1404.27 171767,1404.28 172006,1404.29 \n",
       "  172245,1404.3 172483,1404.31 172722,1404.32 172961,1404.33 173200,1404.34 173439,1404.35 173678,1404.36 173917,1404.37 174156,1404.38 174395,1404.39 \n",
       "  174634,1404.4 174873,1404.41 175112,1404.42 175351,1404.43 175590,1404.44 175829,1404.45 176068,1404.46 176307,1404.47 176546,1404.48 176785,1404.49 \n",
       "  177023,1404.49 177262,1404.5 177501,1404.51 177740,1404.52 177979,1404.53 178218,1404.54 178457,1404.55 178696,1404.56 178935,1404.57 179174,1404.58 \n",
       "  179413,1404.59 179652,1404.6 179891,1404.61 180130,1404.62 180369,1404.62 180608,1404.63 180847,1404.64 181086,1404.65 181325,1404.66 181563,1404.67 \n",
       "  181802,1404.68 182041,1404.69 182280,1404.7 182519,1404.71 182758,1404.71 182997,1404.72 183236,1404.73 183475,1404.74 183714,1404.75 183953,1404.76 \n",
       "  184192,1404.77 184431,1404.78 184670,1404.78 184909,1404.79 185148,1404.8 185387,1404.81 185626,1404.82 185865,1404.83 186103,1404.84 186342,1404.84 \n",
       "  186581,1404.85 186820,1404.86 187059,1404.87 187298,1404.88 187537,1404.89 187776,1404.9 188015,1404.9 188254,1404.91 188493,1404.92 188732,1404.93 \n",
       "  188971,1404.94 189210,1404.95 189449,1404.95 189688,1404.96 189927,1404.97 190166,1404.98 190405,1404.99 190643,1404.99 190882,1405 191121,1405.01 \n",
       "  191360,1405.02 191599,1405.03 191838,1405.04 192077,1405.04 192316,1405.05 192555,1405.06 192794,1405.07 193033,1405.07 193272,1405.08 193511,1405.09 \n",
       "  193750,1405.1 193989,1405.11 194228,1405.11 194467,1405.12 194706,1405.13 194945,1405.14 195183,1405.15 195422,1405.15 195661,1405.16 195900,1405.17 \n",
       "  196139,1405.18 196378,1405.18 196617,1405.19 196856,1405.2 197095,1405.21 197334,1405.21 197573,1405.22 197812,1405.23 198051,1405.24 198290,1405.25 \n",
       "  198529,1405.25 198768,1405.26 199007,1405.27 199246,1405.28 199485,1405.28 199723,1405.29 199962,1405.3 200201,1405.3 200440,1405.31 200679,1405.32 \n",
       "  200918,1405.33 201157,1405.33 201396,1405.34 201635,1405.35 201874,1405.36 202113,1405.36 202352,1405.37 202591,1405.38 202830,1405.38 203069,1405.39 \n",
       "  203308,1405.4 203547,1405.41 203786,1405.41 204025,1405.42 204263,1405.43 204502,1405.43 204741,1405.44 204980,1405.45 205219,1405.46 205458,1405.46 \n",
       "  205697,1405.47 205936,1405.48 206175,1405.48 206414,1405.49 206653,1405.5 206892,1405.5 207131,1405.51 207370,1405.52 207609,1405.53 207848,1405.53 \n",
       "  208087,1405.54 208326,1405.55 208565,1405.55 208803,1405.56 209042,1405.57 209281,1405.57 209520,1405.58 209759,1405.59 209998,1405.59 210237,1405.6 \n",
       "  210476,1405.61 210715,1405.61 210954,1405.62 211193,1405.63 211432,1405.63 211671,1405.64 211910,1405.65 212149,1405.65 212388,1405.66 212627,1405.67 \n",
       "  212866,1405.67 213105,1405.68 213343,1405.69 213582,1405.69 213821,1405.7 214060,1405.71 214299,1405.71 214538,1405.72 214777,1405.72 215016,1405.73 \n",
       "  215255,1405.74 215494,1405.74 215733,1405.75 215972,1405.76 216211,1405.76 216450,1405.77 216689,1405.78 216928,1405.78 217167,1405.79 217406,1405.79 \n",
       "  217645,1405.8 217883,1405.81 218122,1405.81 218361,1405.82 218600,1405.83 218839,1405.83 219078,1405.84 219317,1405.84 219556,1405.85 219795,1405.86 \n",
       "  220034,1405.86 220273,1405.87 220512,1405.87 220751,1405.88 220990,1405.89 221229,1405.89 221468,1405.9 221707,1405.9 221946,1405.91 222185,1405.92 \n",
       "  222423,1405.92 222662,1405.93 222901,1405.93 223140,1405.94 223379,1405.95 223618,1405.95 223857,1405.96 224096,1405.96 224335,1405.97 224574,1405.98 \n",
       "  224813,1405.98 225052,1405.99 225291,1405.99 225530,1406 225769,1406.01 226008,1406.01 226247,1406.02 226486,1406.02 226725,1406.03 226964,1406.03 \n",
       "  227202,1406.04 227441,1406.05 227680,1406.05 227919,1406.06 228158,1406.06 228397,1406.07 228636,1406.07 228875,1406.08 229114,1406.09 229353,1406.09 \n",
       "  229592,1406.1 229831,1406.1 230070,1406.11 230309,1406.11 230548,1406.12 230787,1406.12 231026,1406.13 231265,1406.14 231504,1406.14 231742,1406.15 \n",
       "  231981,1406.15 232220,1406.16 232459,1406.16 232698,1406.17 232937,1406.17 233176,1406.18 233415,1406.18 233654,1406.19 233893,1406.2 234132,1406.2 \n",
       "  234371,1406.21 234610,1406.21 234849,1406.22 235088,1406.22 235327,1406.23 235566,1406.23 235805,1406.24 236044,1406.24 236282,1406.25 236521,1406.25 \n",
       "  236760,1406.26 236999,1406.27 237238,1406.27 237477,1406.28 237716,1406.28 237955,1406.29 238194,1406.29 238433,1406.3 238672,1406.3 238911,1406.31 \n",
       "  239150,1406.31 239389,1406.32 239628,1406.32 239867,1406.33 240106,1406.33 240345,1406.34 240584,1406.34 240822,1406.35 241061,1406.35 241300,1406.36 \n",
       "  241539,1406.36 241778,1406.37 242017,1406.37 242256,1406.38 242495,1406.38 242734,1406.39 242973,1406.39 243212,1406.4 243451,1406.4 243690,1406.41 \n",
       "  243929,1406.41 244168,1406.42 244407,1406.42 244646,1406.43 244885,1406.43 245124,1406.44 245362,1406.44 245601,1406.45 245840,1406.45 246079,1406.46 \n",
       "  246318,1406.46 246557,1406.47 246796,1406.47 247035,1406.48 247274,1406.48 247513,1406.49 247752,1406.49 247991,1406.5 248230,1406.5 248469,1406.51 \n",
       "  248708,1406.51 248947,1406.52 249186,1406.52 249425,1406.53 249664,1406.53 249902,1406.54 250141,1406.54 250380,1406.54 250619,1406.55 250858,1406.55 \n",
       "  251097,1406.56 251336,1406.56 251575,1406.57 251814,1406.57 252053,1406.58 252292,1406.58 252531,1406.59 252770,1406.59 253009,1406.6 253248,1406.6 \n",
       "  253487,1406.61 253726,1406.61 253965,1406.61 254204,1406.62 254442,1406.62 254681,1406.63 254920,1406.63 255159,1406.64 255398,1406.64 255637,1406.65 \n",
       "  255876,1406.65 256115,1406.66 256354,1406.66 256593,1406.66 256832,1406.67 257071,1406.67 257310,1406.68 257549,1406.68 257788,1406.69 258027,1406.69 \n",
       "  258266,1406.7 258505,1406.7 258744,1406.7 258982,1406.71 259221,1406.71 259460,1406.72 259699,1406.72 259938,1406.73 260177,1406.73 260416,1406.74 \n",
       "  260655,1406.74 260894,1406.74 261133,1406.75 261372,1406.75 261611,1406.76 261850,1406.76 262089,1406.77 262328,1406.77 262567,1406.77 262806,1406.78 \n",
       "  263045,1406.78 263284,1406.79 263522,1406.79 263761,1406.8 264000,1406.8 264239,1406.8 264478,1406.81 264717,1406.81 264956,1406.82 265195,1406.82 \n",
       "  265434,1406.83 265673,1406.83 265912,1406.83 266151,1406.84 266390,1406.84 266629,1406.85 266868,1406.85 267107,1406.85 267346,1406.86 267585,1406.86 \n",
       "  267824,1406.87 268062,1406.87 268301,1406.87 268540,1406.88 268779,1406.88 269018,1406.89 269257,1406.89 269496,1406.9 269735,1406.9 269974,1406.9 \n",
       "  270213,1406.91 270452,1406.91 270691,1406.92 270930,1406.92 271169,1406.92 271408,1406.93 271647,1406.93 271886,1406.94 272125,1406.94 272364,1406.94 \n",
       "  272602,1406.95 272841,1406.95 273080,1406.96 273319,1406.96 273558,1406.96 273797,1406.97 274036,1406.97 274275,1406.98 274514,1406.98 274753,1406.98 \n",
       "  274992,1406.99 275231,1406.99 275470,1407 275709,1407 275948,1407 276187,1407.01 276426,1407.01 276665,1407.01 276904,1407.02 277143,1407.02 \n",
       "  277381,1407.03 277620,1407.03 277859,1407.03 278098,1407.04 278337,1407.04 278576,1407.05 278815,1407.05 279054,1407.05 279293,1407.06 279532,1407.06 \n",
       "  279771,1407.06 280010,1407.07 280249,1407.07 280488,1407.08 280727,1407.08 280966,1407.08 281205,1407.09 281444,1407.09 281683,1407.09 281921,1407.1 \n",
       "  282160,1407.1 282399,1407.11 282638,1407.11 282877,1407.11 283116,1407.12 283355,1407.12 283594,1407.12 283833,1407.13 284072,1407.13 284311,1407.13 \n",
       "  284550,1407.14 284789,1407.14 285028,1407.15 285267,1407.15 285506,1407.15 285745,1407.16 285984,1407.16 286223,1407.16 286461,1407.17 286700,1407.17 \n",
       "  286939,1407.17 287178,1407.18 287417,1407.18 287656,1407.19 287895,1407.19 288134,1407.19 288373,1407.2 288612,1407.2 288851,1407.2 289090,1407.21 \n",
       "  289329,1407.21 289568,1407.21 289807,1407.22 290046,1407.22 290285,1407.22 290524,1407.23 290763,1407.23 291001,1407.24 291240,1407.24 291479,1407.24 \n",
       "  291718,1407.25 291957,1407.25 292196,1407.25 292435,1407.26 292674,1407.26 292913,1407.26 293152,1407.27 293391,1407.27 293630,1407.27 293869,1407.28 \n",
       "  294108,1407.28 294347,1407.28 294586,1407.29 294825,1407.29 295064,1407.29 295303,1407.3 295541,1407.3 295780,1407.3 296019,1407.31 296258,1407.31 \n",
       "  296497,1407.31 296736,1407.32 296975,1407.32 297214,1407.32 297453,1407.33 297692,1407.33 297931,1407.33 298170,1407.34 298409,1407.34 298648,1407.34 \n",
       "  298887,1407.35 299126,1407.35 299365,1407.35 299604,1407.36 299843,1407.36 300081,1407.36 300320,1407.37 300559,1407.37 300798,1407.37 301037,1407.38 \n",
       "  301276,1407.38 301515,1407.38 301754,1407.39 301993,1407.39 302232,1407.39 302471,1407.4 302710,1407.4 302949,1407.4 303188,1407.41 303427,1407.41 \n",
       "  303666,1407.41 303905,1407.42 304144,1407.42 304383,1407.42 304621,1407.43 304860,1407.43 305099,1407.43 305338,1407.43 305577,1407.44 305816,1407.44 \n",
       "  306055,1407.44 306294,1407.45 306533,1407.45 306772,1407.45 307011,1407.46 307250,1407.46 307489,1407.46 307728,1407.47 307967,1407.47 308206,1407.47 \n",
       "  308445,1407.48 308684,1407.48 308923,1407.48 309161,1407.49 309400,1407.49 309639,1407.49 309878,1407.49 310117,1407.5 310356,1407.5 310595,1407.5 \n",
       "  310834,1407.51 311073,1407.51 311312,1407.51 311551,1407.52 311790,1407.52 312029,1407.52 312268,1407.53 312507,1407.53 312746,1407.53 312985,1407.53 \n",
       "  313224,1407.54 313463,1407.54 313701,1407.54 313940,1407.55 314179,1407.55 314418,1407.55 314657,1407.56 314896,1407.56 315135,1407.56 315374,1407.56 \n",
       "  315613,1407.57 315852,1407.57 316091,1407.57 316330,1407.58 316569,1407.58 316808,1407.58 317047,1407.58 317286,1407.59 317525,1407.59 317764,1407.59 \n",
       "  318003,1407.6 318241,1407.6 318480,1407.6 318719,1407.61 318958,1407.61 319197,1407.61 319436,1407.61 319675,1407.62 319914,1407.62 320153,1407.62 \n",
       "  320392,1407.63 320631,1407.63 320870,1407.63 321109,1407.63 321348,1407.64 321587,1407.64 321826,1407.64 322065,1407.65 322304,1407.65 322543,1407.65 \n",
       "  322781,1407.65 323020,1407.66 323259,1407.66 323498,1407.66 323737,1407.67 323976,1407.67 324215,1407.67 324454,1407.67 324693,1407.68 324932,1407.68 \n",
       "  325171,1407.68 325410,1407.69 325649,1407.69 325888,1407.69 326127,1407.69 326366,1407.7 326605,1407.7 326844,1407.7 327083,1407.7 327321,1407.71 \n",
       "  327560,1407.71 327799,1407.71 328038,1407.72 328277,1407.72 328516,1407.72 328755,1407.72 328994,1407.73 329233,1407.73 329472,1407.73 329711,1407.73 \n",
       "  329950,1407.74 330189,1407.74 330428,1407.74 330667,1407.75 330906,1407.75 331145,1407.75 331384,1407.75 331623,1407.76 331862,1407.76 332100,1407.76 \n",
       "  332339,1407.76 332578,1407.77 332817,1407.77 333056,1407.77 333295,1407.78 333534,1407.78 333773,1407.78 334012,1407.78 334251,1407.79 334490,1407.79 \n",
       "  334729,1407.79 334968,1407.79 335207,1407.8 335446,1407.8 335685,1407.8 335924,1407.8 336163,1407.81 336402,1407.81 336640,1407.81 336879,1407.81 \n",
       "  337118,1407.82 337357,1407.82 337596,1407.82 337835,1407.83 338074,1407.83 338313,1407.83 338552,1407.83 338791,1407.84 339030,1407.84 339269,1407.84 \n",
       "  339508,1407.84 339747,1407.85 339986,1407.85 340225,1407.85 340464,1407.85 340703,1407.86 340942,1407.86 341180,1407.86 341419,1407.86 341658,1407.87 \n",
       "  341897,1407.87 342136,1407.87 342375,1407.87 342614,1407.88 342853,1407.88 343092,1407.88 343331,1407.88 343570,1407.89 343809,1407.89 344048,1407.89 \n",
       "  344287,1407.89 344526,1407.9 344765,1407.9 345004,1407.9 345243,1407.9 345482,1407.91 345720,1407.91 345959,1407.91 346198,1407.91 346437,1407.92 \n",
       "  346676,1407.92 346915,1407.92 347154,1407.92 347393,1407.93 347632,1407.93 347871,1407.93 348110,1407.93 348349,1407.94 348588,1407.94 348827,1407.94 \n",
       "  349066,1407.94 349305,1407.95 349544,1407.95 349783,1407.95 350022,1407.95 350260,1407.96 350499,1407.96 350738,1407.96 350977,1407.96 351216,1407.97 \n",
       "  351455,1407.97 351694,1407.97 351933,1407.97 352172,1407.97 352411,1407.98 352650,1407.98 352889,1407.98 353128,1407.98 353367,1407.99 353606,1407.99 \n",
       "  353845,1407.99 354084,1407.99 354323,1408 354562,1408 354800,1408 355039,1408 355278,1408.01 355517,1408.01 355756,1408.01 355995,1408.01 \n",
       "  356234,1408.01 356473,1408.02 356712,1408.02 356951,1408.02 357190,1408.02 357429,1408.03 357668,1408.03 357907,1408.03 358146,1408.03 358385,1408.04 \n",
       "  358624,1408.04 358863,1408.04 359102,1408.04 359340,1408.04 359579,1408.05 359818,1408.05 360057,1408.05 360296,1408.05 360535,1408.06 360774,1408.06 \n",
       "  361013,1408.06 361252,1408.06 361491,1408.07 361730,1408.07 361969,1408.07 362208,1408.07 362447,1408.07 362686,1408.08 362925,1408.08 363164,1408.08 \n",
       "  363403,1408.08 363642,1408.09 363880,1408.09 364119,1408.09 364358,1408.09 364597,1408.09 364836,1408.1 365075,1408.1 365314,1408.1 365553,1408.1 \n",
       "  365792,1408.11 366031,1408.11 366270,1408.11 366509,1408.11 366748,1408.11 366987,1408.12 367226,1408.12 367465,1408.12 367704,1408.12 367943,1408.13 \n",
       "  368182,1408.13 368420,1408.13 368659,1408.13 368898,1408.13 369137,1408.14 369376,1408.14 369615,1408.14 369854,1408.14 370093,1408.14 370332,1408.15 \n",
       "  370571,1408.15 370810,1408.15 371049,1408.15 371288,1408.16 371527,1408.16 371766,1408.16 372005,1408.16 372244,1408.16 372483,1408.17 372722,1408.17 \n",
       "  372960,1408.17 373199,1408.17 373438,1408.17 373677,1408.18 373916,1408.18 374155,1408.18 374394,1408.18 374633,1408.19 374872,1408.19 375111,1408.19 \n",
       "  375350,1408.19 375589,1408.19 375828,1408.2 376067,1408.2 376306,1408.2 376545,1408.2 376784,1408.2 377023,1408.21 377262,1408.21 377500,1408.21 \n",
       "  377739,1408.21 377978,1408.21 378217,1408.22 378456,1408.22 378695,1408.22 378934,1408.22 379173,1408.23 379412,1408.23 379651,1408.23 379890,1408.23 \n",
       "  380129,1408.23 380368,1408.24 380607,1408.24 380846,1408.24 381085,1408.24 381324,1408.24 381563,1408.25 381802,1408.25 382040,1408.25 382279,1408.25 \n",
       "  382518,1408.25 382757,1408.26 382996,1408.26 383235,1408.26 383474,1408.26 383713,1408.26 383952,1408.27 384191,1408.27 384430,1408.27 384669,1408.27 \n",
       "  384908,1408.27 385147,1408.28 385386,1408.28 385625,1408.28 385864,1408.28 386103,1408.28 386342,1408.29 386581,1408.29 386819,1408.29 387058,1408.29 \n",
       "  387297,1408.29 387536,1408.3 387775,1408.3 388014,1408.3 388253,1408.3 388492,1408.3 388731,1408.31 388970,1408.31 389209,1408.31 389448,1408.31 \n",
       "  389687,1408.31 389926,1408.32 390165,1408.32 390404,1408.32 390643,1408.32 390882,1408.32 391121,1408.32 391359,1408.33 391598,1408.33 391837,1408.33 \n",
       "  392076,1408.33 392315,1408.33 392554,1408.34 392793,1408.34 393032,1408.34 393271,1408.34 393510,1408.34 393749,1408.35 393988,1408.35 394227,1408.35 \n",
       "  394466,1408.35 394705,1408.35 394944,1408.36 395183,1408.36 395422,1408.36 395661,1408.36 395899,1408.36 396138,1408.37 396377,1408.37 396616,1408.37 \n",
       "  396855,1408.37 397094,1408.37 397333,1408.37 397572,1408.38 397811,1408.38 398050,1408.38 398289,1408.38 398528,1408.38 398767,1408.39 399006,1408.39 \n",
       "  399245,1408.39 399484,1408.39 399723,1408.39 399962,1408.4 400201,1408.4 400439,1408.4 400678,1408.4 400917,1408.4 401156,1408.4 401395,1408.41 \n",
       "  401634,1408.41 401873,1408.41 402112,1408.41 402351,1408.41 402590,1408.42 402829,1408.42 403068,1408.42 403307,1408.42 403546,1408.42 403785,1408.42 \n",
       "  404024,1408.43 404263,1408.43 404502,1408.43 404741,1408.43 404979,1408.43 405218,1408.44 405457,1408.44 405696,1408.44 405935,1408.44 406174,1408.44 \n",
       "  406413,1408.44 406652,1408.45 406891,1408.45 407130,1408.45 407369,1408.45 407608,1408.45 407847,1408.45 408086,1408.46 408325,1408.46 408564,1408.46 \n",
       "  408803,1408.46 409042,1408.46 409281,1408.47 409519,1408.47 409758,1408.47 409997,1408.47 410236,1408.47 410475,1408.47 410714,1408.48 410953,1408.48 \n",
       "  411192,1408.48 411431,1408.48 411670,1408.48 411909,1408.48 412148,1408.49 412387,1408.49 412626,1408.49 412865,1408.49 413104,1408.49 413343,1408.5 \n",
       "  413582,1408.5 413821,1408.5 414059,1408.5 414298,1408.5 414537,1408.5 414776,1408.51 415015,1408.51 415254,1408.51 415493,1408.51 415732,1408.51 \n",
       "  415971,1408.51 416210,1408.52 416449,1408.52 416688,1408.52 416927,1408.52 417166,1408.52 417405,1408.52 417644,1408.53 417883,1408.53 418122,1408.53 \n",
       "  418361,1408.53 418599,1408.53 418838,1408.53 419077,1408.54 419316,1408.54 419555,1408.54 419794,1408.54 420033,1408.54 420272,1408.54 420511,1408.55 \n",
       "  420750,1408.55 420989,1408.55 421228,1408.55 421467,1408.55 421706,1408.55 421945,1408.56 422184,1408.56 422423,1408.56 422662,1408.56 422901,1408.56 \n",
       "  423139,1408.56 423378,1408.57 423617,1408.57 423856,1408.57 424095,1408.57 424334,1408.57 424573,1408.57 424812,1408.58 425051,1408.58 425290,1408.58 \n",
       "  425529,1408.58 425768,1408.58 426007,1408.58 426246,1408.59 426485,1408.59 426724,1408.59 426963,1408.59 427202,1408.59 427441,1408.59 427679,1408.6 \n",
       "  427918,1408.6 428157,1408.6 428396,1408.6 428635,1408.6 428874,1408.6 429113,1408.61 429352,1408.61 429591,1408.61 429830,1408.61 430069,1408.61 \n",
       "  430308,1408.61 430547,1408.62 430786,1408.62 431025,1408.62 431264,1408.62 431503,1408.62 431742,1408.62 431981,1408.62 432219,1408.63 432458,1408.63 \n",
       "  432697,1408.63 432936,1408.63 433175,1408.63 433414,1408.63 433653,1408.64 433892,1408.64 434131,1408.64 434370,1408.64 434609,1408.64 434848,1408.64 \n",
       "  435087,1408.65 435326,1408.65 435565,1408.65 435804,1408.65 436043,1408.65 436282,1408.65 436521,1408.65 436759,1408.66 436998,1408.66 437237,1408.66 \n",
       "  437476,1408.66 437715,1408.66 437954,1408.66 438193,1408.67 438432,1408.67 438671,1408.67 438910,1408.67 439149,1408.67 439388,1408.67 439627,1408.67 \n",
       "  439866,1408.68 440105,1408.68 440344,1408.68 440583,1408.68 440822,1408.68 441061,1408.68 441300,1408.69 441538,1408.69 441777,1408.69 442016,1408.69 \n",
       "  442255,1408.69 442494,1408.69 442733,1408.69 442972,1408.7 443211,1408.7 443450,1408.7 443689,1408.7 443928,1408.7 444167,1408.7 444406,1408.7 \n",
       "  444645,1408.71 444884,1408.71 445123,1408.71 445362,1408.71 445601,1408.71 445840,1408.71 446078,1408.72 446317,1408.72 446556,1408.72 446795,1408.72 \n",
       "  447034,1408.72 447273,1408.72 447512,1408.72 447751,1408.73 447990,1408.73 448229,1408.73 448468,1408.73 448707,1408.73 448946,1408.73 449185,1408.73 \n",
       "  449424,1408.74 449663,1408.74 449902,1408.74 450141,1408.74 450380,1408.74 450618,1408.74 450857,1408.74 451096,1408.75 451335,1408.75 451574,1408.75 \n",
       "  451813,1408.75 452052,1408.75 452291,1408.75 452530,1408.75 452769,1408.76 453008,1408.76 453247,1408.76 453486,1408.76 453725,1408.76 453964,1408.76 \n",
       "  454203,1408.77 454442,1408.77 454681,1408.77 454920,1408.77 455158,1408.77 455397,1408.77 455636,1408.77 455875,1408.78 456114,1408.78 456353,1408.78 \n",
       "  456592,1408.78 456831,1408.78 457070,1408.78 457309,1408.78 457548,1408.78 457787,1408.79 458026,1408.79 458265,1408.79 458504,1408.79 458743,1408.79 \n",
       "  458982,1408.79 459221,1408.79 459460,1408.8 459698,1408.8 459937,1408.8 460176,1408.8 460415,1408.8 460654,1408.8 460893,1408.8 461132,1408.81 \n",
       "  461371,1408.81 461610,1408.81 461849,1408.81 462088,1408.81 462327,1408.81 462566,1408.81 462805,1408.82 463044,1408.82 463283,1408.82 463522,1408.82 \n",
       "  463761,1408.82 464000,1408.82 464238,1408.82 464477,1408.83 464716,1408.83 464955,1408.83 465194,1408.83 465433,1408.83 465672,1408.83 465911,1408.83 \n",
       "  466150,1408.83 466389,1408.84 466628,1408.84 466867,1408.84 467106,1408.84 467345,1408.84 467584,1408.84 467823,1408.84 468062,1408.85 468301,1408.85 \n",
       "  468540,1408.85 468778,1408.85 469017,1408.85 469256,1408.85 469495,1408.85 469734,1408.86 469973,1408.86 470212,1408.86 470451,1408.86 470690,1408.86 \n",
       "  470929,1408.86 471168,1408.86 471407,1408.86 471646,1408.87 471885,1408.87 472124,1408.87 472363,1408.87 472602,1408.87 472841,1408.87 473080,1408.87 \n",
       "  473318,1408.88 473557,1408.88 473796,1408.88 474035,1408.88 474274,1408.88 474513,1408.88 474752,1408.88 474991,1408.88 475230,1408.89 475469,1408.89 \n",
       "  475708,1408.89 475947,1408.89 476186,1408.89 476425,1408.89 476664,1408.89 476903,1408.89 477142,1408.9 477381,1408.9 477620,1408.9 477858,1408.9 \n",
       "  478097,1408.9 478336,1408.9 478575,1408.9 478814,1408.91 479053,1408.91 479292,1408.91 479531,1408.91 479770,1408.91 480009,1408.91 480248,1408.91 \n",
       "  480487,1408.91 480726,1408.92 480965,1408.92 481204,1408.92 481443,1408.92 481682,1408.92 481921,1408.92 482160,1408.92 482398,1408.92 482637,1408.93 \n",
       "  482876,1408.93 483115,1408.93 483354,1408.93 483593,1408.93 483832,1408.93 484071,1408.93 484310,1408.93 484549,1408.94 484788,1408.94 485027,1408.94 \n",
       "  485266,1408.94 485505,1408.94 485744,1408.94 485983,1408.94 486222,1408.94 486461,1408.95 486700,1408.95 486938,1408.95 487177,1408.95 487416,1408.95 \n",
       "  487655,1408.95 487894,1408.95 488133,1408.95 488372,1408.96 488611,1408.96 488850,1408.96 489089,1408.96 489328,1408.96 489567,1408.96 489806,1408.96 \n",
       "  490045,1408.96 490284,1408.97 490523,1408.97 490762,1408.97 491001,1408.97 491240,1408.97 491479,1408.97 491717,1408.97 491956,1408.97 492195,1408.98 \n",
       "  492434,1408.98 492673,1408.98 492912,1408.98 493151,1408.98 493390,1408.98 493629,1408.98 493868,1408.98 494107,1408.99 494346,1408.99 494585,1408.99 \n",
       "  494824,1408.99 495063,1408.99 495302,1408.99 495541,1408.99 495780,1408.99 496019,1409 496257,1409 496496,1409 496735,1409 496974,1409 \n",
       "  497213,1409 497452,1409 497691,1409 497930,1409 498169,1409.01 498408,1409.01 498647,1409.01 498886,1409.01 499125,1409.01 499364,1409.01 \n",
       "  499603,1409.01 499842,1409.01 500081,1409.02 500320,1409.02 500559,1409.02 500797,1409.02 501036,1409.02 501275,1409.02 501514,1409.02 501753,1409.02 \n",
       "  501992,1409.02 502231,1409.03 502470,1409.03 502709,1409.03 502948,1409.03 503187,1409.03 503426,1409.03 503665,1409.03 503904,1409.03 504143,1409.04 \n",
       "  504382,1409.04 504621,1409.04 504860,1409.04 505099,1409.04 505337,1409.04 505576,1409.04 505815,1409.04 506054,1409.04 506293,1409.05 506532,1409.05 \n",
       "  506771,1409.05 507010,1409.05 507249,1409.05 507488,1409.05 507727,1409.05 507966,1409.05 508205,1409.05 508444,1409.06 508683,1409.06 508922,1409.06 \n",
       "  509161,1409.06 509400,1409.06 509639,1409.06 509877,1409.06 510116,1409.06 510355,1409.07 510594,1409.07 510833,1409.07 511072,1409.07 511311,1409.07 \n",
       "  511550,1409.07 511789,1409.07 512028,1409.07 512267,1409.07 512506,1409.08 512745,1409.08 512984,1409.08 513223,1409.08 513462,1409.08 513701,1409.08 \n",
       "  513940,1409.08 514179,1409.08 514417,1409.08 514656,1409.09 514895,1409.09 515134,1409.09 515373,1409.09 515612,1409.09 515851,1409.09 516090,1409.09 \n",
       "  516329,1409.09 516568,1409.09 516807,1409.1 517046,1409.1 517285,1409.1 517524,1409.1 517763,1409.1 518002,1409.1 518241,1409.1 518480,1409.1 \n",
       "  518719,1409.1 518957,1409.11 519196,1409.11 519435,1409.11 519674,1409.11 519913,1409.11 520152,1409.11 520391,1409.11 520630,1409.11 520869,1409.11 \n",
       "  521108,1409.12 521347,1409.12 521586,1409.12 521825,1409.12 522064,1409.12 522303,1409.12 522542,1409.12 522781,1409.12 523020,1409.12 523259,1409.13 \n",
       "  523497,1409.13 523736,1409.13 523975,1409.13 524214,1409.13 524453,1409.13 524692,1409.13 524931,1409.13 525170,1409.13 525409,1409.13 525648,1409.14 \n",
       "  525887,1409.14 526126,1409.14 526365,1409.14 526604,1409.14 526843,1409.14 527082,1409.14 527321,1409.14 527560,1409.14 527799,1409.15 528037,1409.15 \n",
       "  528276,1409.15 528515,1409.15 528754,1409.15 528993,1409.15 529232,1409.15 529471,1409.15 529710,1409.15 529949,1409.16 530188,1409.16 530427,1409.16 \n",
       "  530666,1409.16 530905,1409.16 531144,1409.16 531383,1409.16 531622,1409.16 531861,1409.16 532100,1409.16 532339,1409.17 532577,1409.17 532816,1409.17 \n",
       "  533055,1409.17 533294,1409.17 533533,1409.17 533772,1409.17 534011,1409.17 534250,1409.17 534489,1409.17 534728,1409.18 534967,1409.18 535206,1409.18 \n",
       "  535445,1409.18 535684,1409.18 535923,1409.18 536162,1409.18 536401,1409.18 536640,1409.18 536879,1409.19 537117,1409.19 537356,1409.19 537595,1409.19 \n",
       "  537834,1409.19 538073,1409.19 538312,1409.19 538551,1409.19 538790,1409.19 539029,1409.19 539268,1409.2 539507,1409.2 539746,1409.2 539985,1409.2 \n",
       "  540224,1409.2 540463,1409.2 540702,1409.2 540941,1409.2 541180,1409.2 541419,1409.2 541657,1409.21 541896,1409.21 542135,1409.21 542374,1409.21 \n",
       "  542613,1409.21 542852,1409.21 543091,1409.21 543330,1409.21 543569,1409.21 543808,1409.21 544047,1409.22 544286,1409.22 544525,1409.22 544764,1409.22 \n",
       "  545003,1409.22 545242,1409.22 545481,1409.22 545720,1409.22 545959,1409.22 546198,1409.22 546436,1409.23 546675,1409.23 546914,1409.23 547153,1409.23 \n",
       "  547392,1409.23 547631,1409.23 547870,1409.23 548109,1409.23 548348,1409.23 548587,1409.23 548826,1409.24 549065,1409.24 549304,1409.24 549543,1409.24 \n",
       "  549782,1409.24 550021,1409.24 550260,1409.24 550499,1409.24 550738,1409.24 550976,1409.24 551215,1409.25 551454,1409.25 551693,1409.25 551932,1409.25 \n",
       "  552171,1409.25 552410,1409.25 552649,1409.25 552888,1409.25 553127,1409.25 553366,1409.25 553605,1409.25 553844,1409.26 554083,1409.26 554322,1409.26 \n",
       "  554561,1409.26 554800,1409.26 555039,1409.26 555278,1409.26 555516,1409.26 555755,1409.26 555994,1409.26 556233,1409.27 556472,1409.27 556711,1409.27 \n",
       "  556950,1409.27 557189,1409.27 557428,1409.27 557667,1409.27 557906,1409.27 558145,1409.27 558384,1409.27 558623,1409.28 558862,1409.28 559101,1409.28 \n",
       "  559340,1409.28 559579,1409.28 559818,1409.28 560056,1409.28 560295,1409.28 560534,1409.28 560773,1409.28 561012,1409.28 561251,1409.29 561490,1409.29 \n",
       "  561729,1409.29 561968,1409.29 562207,1409.29 562446,1409.29 562685,1409.29 562924,1409.29 563163,1409.29 563402,1409.29 563641,1409.29 563880,1409.3 \n",
       "  564119,1409.3 564358,1409.3 564596,1409.3 564835,1409.3 565074,1409.3 565313,1409.3 565552,1409.3 565791,1409.3 566030,1409.3 566269,1409.31 \n",
       "  566508,1409.31 566747,1409.31 566986,1409.31 567225,1409.31 567464,1409.31 567703,1409.31 567942,1409.31 568181,1409.31 568420,1409.31 568659,1409.31 \n",
       "  568898,1409.32 569136,1409.32 569375,1409.32 569614,1409.32 569853,1409.32 570092,1409.32 570331,1409.32 570570,1409.32 570809,1409.32 571048,1409.32 \n",
       "  571287,1409.32 571526,1409.33 571765,1409.33 572004,1409.33 572243,1409.33 572482,1409.33 572721,1409.33 572960,1409.33 573199,1409.33 573438,1409.33 \n",
       "  573676,1409.33 573915,1409.33 574154,1409.34 574393,1409.34 574632,1409.34 574871,1409.34 575110,1409.34 575349,1409.34 575588,1409.34 575827,1409.34 \n",
       "  576066,1409.34 576305,1409.34 576544,1409.34 576783,1409.34 577022,1409.35 577261,1409.35 577500,1409.35 577739,1409.35 577978,1409.35 578216,1409.35 \n",
       "  578455,1409.35 578694,1409.35 578933,1409.35 579172,1409.35 579411,1409.35 579650,1409.36 579889,1409.36 580128,1409.36 580367,1409.36 580606,1409.36 \n",
       "  580845,1409.36 581084,1409.36 581323,1409.36 581562,1409.36 581801,1409.36 582040,1409.36 582279,1409.37 582518,1409.37 582756,1409.37 582995,1409.37 \n",
       "  583234,1409.37 583473,1409.37 583712,1409.37 583951,1409.37 584190,1409.37 584429,1409.37 584668,1409.37 584907,1409.37 585146,1409.38 585385,1409.38 \n",
       "  585624,1409.38 585863,1409.38 586102,1409.38 586341,1409.38 586580,1409.38 586819,1409.38 587058,1409.38 587296,1409.38 587535,1409.38 587774,1409.39 \n",
       "  588013,1409.39 588252,1409.39 588491,1409.39 588730,1409.39 588969,1409.39 589208,1409.39 589447,1409.39 589686,1409.39 589925,1409.39 590164,1409.39 \n",
       "  590403,1409.39 590642,1409.4 590881,1409.4 591120,1409.4 591359,1409.4 591598,1409.4 591836,1409.4 592075,1409.4 592314,1409.4 592553,1409.4 \n",
       "  592792,1409.4 593031,1409.4 593270,1409.4 593509,1409.41 593748,1409.41 593987,1409.41 594226,1409.41 594465,1409.41 594704,1409.41 594943,1409.41 \n",
       "  595182,1409.41 595421,1409.41 595660,1409.41 595899,1409.41 596138,1409.41 596376,1409.42 596615,1409.42 596854,1409.42 597093,1409.42 597332,1409.42 \n",
       "  597571,1409.42 597810,1409.42 598049,1409.42 598288,1409.42 598527,1409.42 598766,1409.42 599005,1409.42 599244,1409.43 599483,1409.43 599722,1409.43 \n",
       "  599961,1409.43 600200,1409.43 600439,1409.43 600678,1409.43 600917,1409.43 601155,1409.43 601394,1409.43 601633,1409.43 601872,1409.43 602111,1409.44 \n",
       "  602350,1409.44 602589,1409.44 602828,1409.44 603067,1409.44 603306,1409.44 603545,1409.44 603784,1409.44 604023,1409.44 604262,1409.44 604501,1409.44 \n",
       "  604740,1409.44 604979,1409.45 605218,1409.45 605457,1409.45 605695,1409.45 605934,1409.45 606173,1409.45 606412,1409.45 606651,1409.45 606890,1409.45 \n",
       "  607129,1409.45 607368,1409.45 607607,1409.45 607846,1409.45 608085,1409.46 608324,1409.46 608563,1409.46 608802,1409.46 609041,1409.46 609280,1409.46 \n",
       "  609519,1409.46 609758,1409.46 609997,1409.46 610235,1409.46 610474,1409.46 610713,1409.46 610952,1409.47 611191,1409.47 611430,1409.47 611669,1409.47 \n",
       "  611908,1409.47 612147,1409.47 612386,1409.47 612625,1409.47 612864,1409.47 613103,1409.47 613342,1409.47 613581,1409.47 613820,1409.47 614059,1409.48 \n",
       "  614298,1409.48 614537,1409.48 614775,1409.48 615014,1409.48 615253,1409.48 615492,1409.48 615731,1409.48 615970,1409.48 616209,1409.48 616448,1409.48 \n",
       "  616687,1409.48 616926,1409.48 617165,1409.49 617404,1409.49 617643,1409.49 617882,1409.49 618121,1409.49 618360,1409.49 618599,1409.49 618838,1409.49 \n",
       "  619077,1409.49 619315,1409.49 619554,1409.49 619793,1409.49 620032,1409.49 620271,1409.5 620510,1409.5 620749,1409.5 620988,1409.5 621227,1409.5 \n",
       "  621466,1409.5 621705,1409.5 621944,1409.5 622183,1409.5 622422,1409.5 622661,1409.5 622900,1409.5 623139,1409.5 623378,1409.51 623617,1409.51 \n",
       "  623855,1409.51 624094,1409.51 624333,1409.51 624572,1409.51 624811,1409.51 625050,1409.51 625289,1409.51 625528,1409.51 625767,1409.51 626006,1409.51 \n",
       "  626245,1409.51 626484,1409.52 626723,1409.52 626962,1409.52 627201,1409.52 627440,1409.52 627679,1409.52 627918,1409.52 628157,1409.52 628395,1409.52 \n",
       "  628634,1409.52 628873,1409.52 629112,1409.52 629351,1409.52 629590,1409.53 629829,1409.53 630068,1409.53 630307,1409.53 630546,1409.53 630785,1409.53 \n",
       "  631024,1409.53 631263,1409.53 631502,1409.53 631741,1409.53 631980,1409.53 632219,1409.53 632458,1409.53 632697,1409.53 632935,1409.54 633174,1409.54 \n",
       "  633413,1409.54 633652,1409.54 633891,1409.54 634130,1409.54 634369,1409.54 634608,1409.54 634847,1409.54 635086,1409.54 635325,1409.54 635564,1409.54 \n",
       "  635803,1409.54 636042,1409.55 636281,1409.55 636520,1409.55 636759,1409.55 636998,1409.55 637237,1409.55 637475,1409.55 637714,1409.55 637953,1409.55 \n",
       "  638192,1409.55 638431,1409.55 638670,1409.55 638909,1409.55 639148,1409.55 639387,1409.56 639626,1409.56 639865,1409.56 640104,1409.56 640343,1409.56 \n",
       "  640582,1409.56 640821,1409.56 641060,1409.56 641299,1409.56 641538,1409.56 641777,1409.56 642015,1409.56 642254,1409.56 642493,1409.56 642732,1409.57 \n",
       "  642971,1409.57 643210,1409.57 643449,1409.57 643688,1409.57 643927,1409.57 644166,1409.57 644405,1409.57 644644,1409.57 644883,1409.57 645122,1409.57 \n",
       "  645361,1409.57 645600,1409.57 645839,1409.57 646078,1409.58 646317,1409.58 646555,1409.58 646794,1409.58 647033,1409.58 647272,1409.58 647511,1409.58 \n",
       "  647750,1409.58 647989,1409.58 648228,1409.58 648467,1409.58 648706,1409.58 648945,1409.58 649184,1409.58 649423,1409.59 649662,1409.59 649901,1409.59 \n",
       "  650140,1409.59 650379,1409.59 650618,1409.59 650857,1409.59 651096,1409.59 651334,1409.59 651573,1409.59 651812,1409.59 652051,1409.59 652290,1409.59 \n",
       "  652529,1409.59 652768,1409.6 653007,1409.6 653246,1409.6 653485,1409.6 653724,1409.6 653963,1409.6 654202,1409.6 654441,1409.6 654680,1409.6 \n",
       "  654919,1409.6 655158,1409.6 655397,1409.6 655636,1409.6 655874,1409.6 656113,1409.6 656352,1409.61 656591,1409.61 656830,1409.61 657069,1409.61 \n",
       "  657308,1409.61 657547,1409.61 657786,1409.61 658025,1409.61 658264,1409.61 658503,1409.61 658742,1409.61 658981,1409.61 659220,1409.61 659459,1409.61 \n",
       "  659698,1409.62 659937,1409.62 660176,1409.62 660414,1409.62 660653,1409.62 660892,1409.62 661131,1409.62 661370,1409.62 661609,1409.62 661848,1409.62 \n",
       "  662087,1409.62 662326,1409.62 662565,1409.62 662804,1409.62 663043,1409.62 663282,1409.63 663521,1409.63 663760,1409.63 663999,1409.63 664238,1409.63 \n",
       "  664477,1409.63 664716,1409.63 664954,1409.63 665193,1409.63 665432,1409.63 665671,1409.63 665910,1409.63 666149,1409.63 666388,1409.63 666627,1409.63 \n",
       "  666866,1409.64 667105,1409.64 667344,1409.64 667583,1409.64 667822,1409.64 668061,1409.64 668300,1409.64 668539,1409.64 668778,1409.64 669017,1409.64 \n",
       "  669256,1409.64 669494,1409.64 669733,1409.64 669972,1409.64 670211,1409.64 670450,1409.65 670689,1409.65 670928,1409.65 671167,1409.65 671406,1409.65 \n",
       "  671645,1409.65 671884,1409.65 672123,1409.65 672362,1409.65 672601,1409.65 672840,1409.65 673079,1409.65 673318,1409.65 673557,1409.65 673796,1409.65 \n",
       "  674034,1409.66 674273,1409.66 674512,1409.66 674751,1409.66 674990,1409.66 675229,1409.66 675468,1409.66 675707,1409.66 675946,1409.66 676185,1409.66 \n",
       "  676424,1409.66 676663,1409.66 676902,1409.66 677141,1409.66 677380,1409.66 677619,1409.66 677858,1409.67 678097,1409.67 678336,1409.67 678574,1409.67 \n",
       "  678813,1409.67 679052,1409.67 679291,1409.67 679530,1409.67 679769,1409.67 680008,1409.67 680247,1409.67 680486,1409.67 680725,1409.67 680964,1409.67 \n",
       "  681203,1409.67 681442,1409.67 681681,1409.68 681920,1409.68 682159,1409.68 682398,1409.68 682637,1409.68 682876,1409.68 683114,1409.68 683353,1409.68 \n",
       "  683592,1409.68 683831,1409.68 684070,1409.68 684309,1409.68 684548,1409.68 684787,1409.68 685026,1409.68 685265,1409.69 685504,1409.69 685743,1409.69 \n",
       "  685982,1409.69 686221,1409.69 686460,1409.69 686699,1409.69 686938,1409.69 687177,1409.69 687416,1409.69 687654,1409.69 687893,1409.69 688132,1409.69 \n",
       "  688371,1409.69 688610,1409.69 688849,1409.69 689088,1409.7 689327,1409.7 689566,1409.7 689805,1409.7 690044,1409.7 690283,1409.7 690522,1409.7 \n",
       "  690761,1409.7 691000,1409.7 691239,1409.7 691478,1409.7 691717,1409.7 691956,1409.7 692194,1409.7 692433,1409.7 692672,1409.7 692911,1409.71 \n",
       "  693150,1409.71 693389,1409.71 693628,1409.71 693867,1409.71 694106,1409.71 694345,1409.71 694584,1409.71 694823,1409.71 695062,1409.71 695301,1409.71 \n",
       "  695540,1409.71 695779,1409.71 696018,1409.71 696257,1409.71 696496,1409.71 696734,1409.71 696973,1409.72 697212,1409.72 697451,1409.72 697690,1409.72 \n",
       "  697929,1409.72 698168,1409.72 698407,1409.72 698646,1409.72 698885,1409.72 699124,1409.72 699363,1409.72 699602,1409.72 699841,1409.72 700080,1409.72 \n",
       "  700319,1409.72 700558,1409.72 700797,1409.73 701036,1409.73 701274,1409.73 701513,1409.73 701752,1409.73 701991,1409.73 702230,1409.73 702469,1409.73 \n",
       "  702708,1409.73 702947,1409.73 703186,1409.73 703425,1409.73 703664,1409.73 703903,1409.73 704142,1409.73 704381,1409.73 704620,1409.73 704859,1409.74 \n",
       "  705098,1409.74 705337,1409.74 705576,1409.74 705815,1409.74 706053,1409.74 706292,1409.74 706531,1409.74 706770,1409.74 707009,1409.74 707248,1409.74 \n",
       "  707487,1409.74 707726,1409.74 707965,1409.74 708204,1409.74 708443,1409.74 708682,1409.74 708921,1409.75 709160,1409.75 709399,1409.75 709638,1409.75 \n",
       "  709877,1409.75 710116,1409.75 710355,1409.75 710593,1409.75 710832,1409.75 711071,1409.75 711310,1409.75 711549,1409.75 711788,1409.75 712027,1409.75 \n",
       "  712266,1409.75 712505,1409.75 712744,1409.75 712983,1409.76 713222,1409.76 713461,1409.76 713700,1409.76 713939,1409.76 714178,1409.76 714417,1409.76 \n",
       "  714656,1409.76 714895,1409.76 715133,1409.76 715372,1409.76 715611,1409.76 715850,1409.76 716089,1409.76 716328,1409.76 716567,1409.76 716806,1409.76 \n",
       "  717045,1409.77 717284,1409.77 717523,1409.77 717762,1409.77 718001,1409.77 718240,1409.77 718479,1409.77 718718,1409.77 718957,1409.77 719196,1409.77 \n",
       "  719435,1409.77 719673,1409.77 719912,1409.77 720151,1409.77 720390,1409.77 720629,1409.77 720868,1409.77 721107,1409.78 721346,1409.78 721585,1409.78 \n",
       "  721824,1409.78 722063,1409.78 722302,1409.78 722541,1409.78 722780,1409.78 723019,1409.78 723258,1409.78 723497,1409.78 723736,1409.78 723975,1409.78 \n",
       "  724213,1409.78 724452,1409.78 724691,1409.78 724930,1409.78 725169,1409.78 725408,1409.79 725647,1409.79 725886,1409.79 726125,1409.79 726364,1409.79 \n",
       "  726603,1409.79 726842,1409.79 727081,1409.79 727320,1409.79 727559,1409.79 727798,1409.79 728037,1409.79 728276,1409.79 728515,1409.79 728753,1409.79 \n",
       "  728992,1409.79 729231,1409.79 729470,1409.79 729709,1409.8 729948,1409.8 730187,1409.8 730426,1409.8 730665,1409.8 730904,1409.8 731143,1409.8 \n",
       "  731382,1409.8 731621,1409.8 731860,1409.8 732099,1409.8 732338,1409.8 732577,1409.8 732816,1409.8 733055,1409.8 733293,1409.8 733532,1409.8 \n",
       "  733771,1409.8 734010,1409.81 734249,1409.81 734488,1409.81 734727,1409.81 734966,1409.81 735205,1409.81 735444,1409.81 735683,1409.81 735922,1409.81 \n",
       "  736161,1409.81 736400,1409.81 736639,1409.81 736878,1409.81 737117,1409.81 737356,1409.81 737595,1409.81 737833,1409.81 738072,1409.81 738311,1409.82 \n",
       "  738550,1409.82 738789,1409.82 739028,1409.82 739267,1409.82 739506,1409.82 739745,1409.82 739984,1409.82 740223,1409.82 740462,1409.82 740701,1409.82 \n",
       "  740940,1409.82 741179,1409.82 741418,1409.82 741657,1409.82 741896,1409.82 742135,1409.82 742373,1409.82 742612,1409.82 742851,1409.83 743090,1409.83 \n",
       "  743329,1409.83 743568,1409.83 743807,1409.83 744046,1409.83 744285,1409.83 744524,1409.83 744763,1409.83 745002,1409.83 745241,1409.83 745480,1409.83 \n",
       "  745719,1409.83 745958,1409.83 746197,1409.83 746436,1409.83 746675,1409.83 746913,1409.83 747152,1409.83 747391,1409.84 747630,1409.84 747869,1409.84 \n",
       "  748108,1409.84 748347,1409.84 748586,1409.84 748825,1409.84 749064,1409.84 749303,1409.84 749542,1409.84 749781,1409.84 750020,1409.84 750259,1409.84 \n",
       "  750498,1409.84 750737,1409.84 750976,1409.84 751215,1409.84 751453,1409.84 751692,1409.84 751931,1409.85 752170,1409.85 752409,1409.85 752648,1409.85 \n",
       "  752887,1409.85 753126,1409.85 753365,1409.85 753604,1409.85 753843,1409.85 754082,1409.85 754321,1409.85 754560,1409.85 754799,1409.85 755038,1409.85 \n",
       "  755277,1409.85 755516,1409.85 755755,1409.85 755993,1409.85 756232,1409.85 756471,1409.86 756710,1409.86 756949,1409.86 757188,1409.86 757427,1409.86 \n",
       "  757666,1409.86 757905,1409.86 758144,1409.86 758383,1409.86 758622,1409.86 758861,1409.86 759100,1409.86 759339,1409.86 759578,1409.86 759817,1409.86 \n",
       "  760056,1409.86 760295,1409.86 760534,1409.86 760772,1409.86 761011,1409.87 761250,1409.87 761489,1409.87 761728,1409.87 761967,1409.87 762206,1409.87 \n",
       "  762445,1409.87 762684,1409.87 762923,1409.87 763162,1409.87 763401,1409.87 763640,1409.87 763879,1409.87 764118,1409.87 764357,1409.87 764596,1409.87 \n",
       "  764835,1409.87 765074,1409.87 765312,1409.87 765551,1409.87 765790,1409.88 766029,1409.88 766268,1409.88 766507,1409.88 766746,1409.88 766985,1409.88 \n",
       "  767224,1409.88 767463,1409.88 767702,1409.88 767941,1409.88 768180,1409.88 768419,1409.88 768658,1409.88 768897,1409.88 769136,1409.88 769375,1409.88 \n",
       "  769614,1409.88 769852,1409.88 770091,1409.88 770330,1409.88 770569,1409.89 770808,1409.89 771047,1409.89 771286,1409.89 771525,1409.89 771764,1409.89 \n",
       "  772003,1409.89 772242,1409.89 772481,1409.89 772720,1409.89 772959,1409.89 773198,1409.89 773437,1409.89 773676,1409.89 773915,1409.89 774154,1409.89 \n",
       "  774392,1409.89 774631,1409.89 774870,1409.89 775109,1409.89 775348,1409.9 775587,1409.9 775826,1409.9 776065,1409.9 776304,1409.9 776543,1409.9 \n",
       "  776782,1409.9 777021,1409.9 777260,1409.9 777499,1409.9 777738,1409.9 777977,1409.9 778216,1409.9 778455,1409.9 778694,1409.9 778932,1409.9 \n",
       "  779171,1409.9 779410,1409.9 779649,1409.9 779888,1409.9 780127,1409.91 780366,1409.91 780605,1409.91 780844,1409.91 781083,1409.91 781322,1409.91 \n",
       "  781561,1409.91 781800,1409.91 782039,1409.91 782278,1409.91 782517,1409.91 782756,1409.91 782995,1409.91 783234,1409.91 783472,1409.91 783711,1409.91 \n",
       "  783950,1409.91 784189,1409.91 784428,1409.91 784667,1409.91 784906,1409.91 785145,1409.92 785384,1409.92 785623,1409.92 785862,1409.92 786101,1409.92 \n",
       "  786340,1409.92 786579,1409.92 786818,1409.92 787057,1409.92 787296,1409.92 787535,1409.92 787774,1409.92 788012,1409.92 788251,1409.92 788490,1409.92 \n",
       "  788729,1409.92 788968,1409.92 789207,1409.92 789446,1409.92 789685,1409.92 789924,1409.92 790163,1409.93 790402,1409.93 790641,1409.93 790880,1409.93 \n",
       "  791119,1409.93 791358,1409.93 791597,1409.93 791836,1409.93 792075,1409.93 792314,1409.93 792552,1409.93 792791,1409.93 793030,1409.93 793269,1409.93 \n",
       "  793508,1409.93 793747,1409.93 793986,1409.93 794225,1409.93 794464,1409.93 794703,1409.93 794942,1409.93 795181,1409.94 795420,1409.94 795659,1409.94 \n",
       "  795898,1409.94 796137,1409.94 796376,1409.94 796615,1409.94 796854,1409.94 797092,1409.94 797331,1409.94 797570,1409.94 797809,1409.94 798048,1409.94 \n",
       "  798287,1409.94 798526,1409.94 798765,1409.94 799004,1409.94 799243,1409.94 799482,1409.94 799721,1409.94 799960,1409.94 800199,1409.94 800438,1409.95 \n",
       "  800677,1409.95 800916,1409.95 801155,1409.95 801394,1409.95 801632,1409.95 801871,1409.95 802110,1409.95 802349,1409.95 802588,1409.95 802827,1409.95 \n",
       "  803066,1409.95 803305,1409.95 803544,1409.95 803783,1409.95 804022,1409.95 804261,1409.95 804500,1409.95 804739,1409.95 804978,1409.95 805217,1409.95 \n",
       "  805456,1409.96 805695,1409.96 805934,1409.96 806172,1409.96 806411,1409.96 806650,1409.96 806889,1409.96 807128,1409.96 807367,1409.96 807606,1409.96 \n",
       "  807845,1409.96 808084,1409.96 808323,1409.96 808562,1409.96 808801,1409.96 809040,1409.96 809279,1409.96 809518,1409.96 809757,1409.96 809996,1409.96 \n",
       "  810235,1409.96 810474,1409.96 810712,1409.97 810951,1409.97 811190,1409.97 811429,1409.97 811668,1409.97 811907,1409.97 812146,1409.97 812385,1409.97 \n",
       "  812624,1409.97 812863,1409.97 813102,1409.97 813341,1409.97 813580,1409.97 813819,1409.97 814058,1409.97 814297,1409.97 814536,1409.97 814775,1409.97 \n",
       "  815014,1409.97 815253,1409.97 815491,1409.97 815730,1409.97 815969,1409.97 816208,1409.98 816447,1409.98 816686,1409.98 816925,1409.98 817164,1409.98 \n",
       "  817403,1409.98 817642,1409.98 817881,1409.98 818120,1409.98 818359,1409.98 818598,1409.98 818837,1409.98 819076,1409.98 819315,1409.98 819554,1409.98 \n",
       "  819793,1409.98 820031,1409.98 820270,1409.98 820509,1409.98 820748,1409.98 820987,1409.98 821226,1409.98 821465,1409.99 821704,1409.99 821943,1409.99 \n",
       "  822182,1409.99 822421,1409.99 822660,1409.99 822899,1409.99 823138,1409.99 823377,1409.99 823616,1409.99 823855,1409.99 824094,1409.99 824333,1409.99 \n",
       "  824571,1409.99 824810,1409.99 825049,1409.99 825288,1409.99 825527,1409.99 825766,1409.99 826005,1409.99 826244,1409.99 826483,1409.99 826722,1409.99 \n",
       "  826961,1410 827200,1410 827439,1410 827678,1410 827917,1410 828156,1410 828395,1410 828634,1410 828873,1410 829111,1410 \n",
       "  829350,1410 829589,1410 829828,1410 830067,1410 830306,1410 830545,1410 830784,1410 831023,1410 831262,1410 831501,1410 \n",
       "  831740,1410 831979,1410 832218,1410 832457,1410 832696,1410.01 832935,1410.01 833174,1410.01 833413,1410.01 833651,1410.01 833890,1410.01 \n",
       "  834129,1410.01 834368,1410.01 834607,1410.01 834846,1410.01 835085,1410.01 835324,1410.01 835563,1410.01 835802,1410.01 836041,1410.01 836280,1410.01 \n",
       "  836519,1410.01 836758,1410.01 836997,1410.01 837236,1410.01 837475,1410.01 837714,1410.01 837953,1410.01 838191,1410.02 838430,1410.02 838669,1410.02 \n",
       "  838908,1410.02 839147,1410.02 839386,1410.02 839625,1410.02 839864,1410.02 840103,1410.02 840342,1410.02 840581,1410.02 840820,1410.02 841059,1410.02 \n",
       "  841298,1410.02 841537,1410.02 841776,1410.02 842015,1410.02 842254,1410.02 842493,1410.02 842731,1410.02 842970,1410.02 843209,1410.02 843448,1410.02 \n",
       "  843687,1410.02 843926,1410.03 844165,1410.03 844404,1410.03 844643,1410.03 844882,1410.03 845121,1410.03 845360,1410.03 845599,1410.03 845838,1410.03 \n",
       "  846077,1410.03 846316,1410.03 846555,1410.03 846794,1410.03 847033,1410.03 847271,1410.03 847510,1410.03 847749,1410.03 847988,1410.03 848227,1410.03 \n",
       "  848466,1410.03 848705,1410.03 848944,1410.03 849183,1410.03 849422,1410.03 849661,1410.04 849900,1410.04 850139,1410.04 850378,1410.04 850617,1410.04 \n",
       "  850856,1410.04 851095,1410.04 851334,1410.04 851573,1410.04 851811,1410.04 852050,1410.04 852289,1410.04 852528,1410.04 852767,1410.04 853006,1410.04 \n",
       "  853245,1410.04 853484,1410.04 853723,1410.04 853962,1410.04 854201,1410.04 854440,1410.04 854679,1410.04 854918,1410.04 855157,1410.04 855396,1410.04 \n",
       "  855635,1410.05 855874,1410.05 856113,1410.05 856351,1410.05 856590,1410.05 856829,1410.05 857068,1410.05 857307,1410.05 857546,1410.05 857785,1410.05 \n",
       "  858024,1410.05 858263,1410.05 858502,1410.05 858741,1410.05 858980,1410.05 859219,1410.05 859458,1410.05 859697,1410.05 859936,1410.05 860175,1410.05 \n",
       "  860414,1410.05 860653,1410.05 860891,1410.05 861130,1410.05 861369,1410.05 861608,1410.06 861847,1410.06 862086,1410.06 862325,1410.06 862564,1410.06 \n",
       "  862803,1410.06 863042,1410.06 863281,1410.06 863520,1410.06 863759,1410.06 863998,1410.06 864237,1410.06 864476,1410.06 864715,1410.06 864954,1410.06 \n",
       "  865193,1410.06 865432,1410.06 865670,1410.06 865909,1410.06 866148,1410.06 866387,1410.06 866626,1410.06 866865,1410.06 867104,1410.06 867343,1410.06 \n",
       "  867582,1410.07 867821,1410.07 868060,1410.07 868299,1410.07 868538,1410.07 868777,1410.07 869016,1410.07 869255,1410.07 869494,1410.07 869733,1410.07 \n",
       "  869972,1410.07 870210,1410.07 870449,1410.07 870688,1410.07 870927,1410.07 871166,1410.07 871405,1410.07 871644,1410.07 871883,1410.07 872122,1410.07 \n",
       "  872361,1410.07 872600,1410.07 872839,1410.07 873078,1410.07 873317,1410.07 873556,1410.08 873795,1410.08 874034,1410.08 874273,1410.08 874512,1410.08 \n",
       "  874750,1410.08 874989,1410.08 875228,1410.08 875467,1410.08 875706,1410.08 875945,1410.08 876184,1410.08 876423,1410.08 876662,1410.08 876901,1410.08 \n",
       "  877140,1410.08 877379,1410.08 877618,1410.08 877857,1410.08 878096,1410.08 878335,1410.08 878574,1410.08 878813,1410.08 879052,1410.08 879290,1410.08 \n",
       "  879529,1410.08 879768,1410.09 880007,1410.09 880246,1410.09 880485,1410.09 880724,1410.09 880963,1410.09 881202,1410.09 881441,1410.09 881680,1410.09 \n",
       "  881919,1410.09 882158,1410.09 882397,1410.09 882636,1410.09 882875,1410.09 883114,1410.09 883353,1410.09 883592,1410.09 883830,1410.09 884069,1410.09 \n",
       "  884308,1410.09 884547,1410.09 884786,1410.09 885025,1410.09 885264,1410.09 885503,1410.09 885742,1410.09 885981,1410.09 886220,1410.1 886459,1410.1 \n",
       "  886698,1410.1 886937,1410.1 887176,1410.1 887415,1410.1 887654,1410.1 887893,1410.1 888132,1410.1 888370,1410.1 888609,1410.1 888848,1410.1 \n",
       "  889087,1410.1 889326,1410.1 889565,1410.1 889804,1410.1 890043,1410.1 890282,1410.1 890521,1410.1 890760,1410.1 890999,1410.1 891238,1410.1 \n",
       "  891477,1410.1 891716,1410.1 891955,1410.1 892194,1410.1 892433,1410.11 892672,1410.11 892910,1410.11 893149,1410.11 893388,1410.11 893627,1410.11 \n",
       "  893866,1410.11 894105,1410.11 894344,1410.11 894583,1410.11 894822,1410.11 895061,1410.11 895300,1410.11 895539,1410.11 895778,1410.11 896017,1410.11 \n",
       "  896256,1410.11 896495,1410.11 896734,1410.11 896973,1410.11 897212,1410.11 897450,1410.11 897689,1410.11 897928,1410.11 898167,1410.11 898406,1410.11 \n",
       "  898645,1410.11 898884,1410.12 899123,1410.12 899362,1410.12 899601,1410.12 899840,1410.12 900079,1410.12 900318,1410.12 900557,1410.12 900796,1410.12 \n",
       "  901035,1410.12 901274,1410.12 901513,1410.12 901752,1410.12 901990,1410.12 902229,1410.12 902468,1410.12 902707,1410.12 902946,1410.12 903185,1410.12 \n",
       "  903424,1410.12 903663,1410.12 903902,1410.12 904141,1410.12 904380,1410.12 904619,1410.12 904858,1410.12 905097,1410.12 905336,1410.12 905575,1410.13 \n",
       "  905814,1410.13 906053,1410.13 906292,1410.13 906530,1410.13 906769,1410.13 907008,1410.13 907247,1410.13 907486,1410.13 907725,1410.13 907964,1410.13 \n",
       "  908203,1410.13 908442,1410.13 908681,1410.13 908920,1410.13 909159,1410.13 909398,1410.13 909637,1410.13 909876,1410.13 910115,1410.13 910354,1410.13 \n",
       "  910593,1410.13 910832,1410.13 911070,1410.13 911309,1410.13 911548,1410.13 911787,1410.13 912026,1410.13 912265,1410.14 912504,1410.14 912743,1410.14 \n",
       "  912982,1410.14 913221,1410.14 913460,1410.14 913699,1410.14 913938,1410.14 914177,1410.14 914416,1410.14 914655,1410.14 914894,1410.14 915133,1410.14 \n",
       "  915372,1410.14 915610,1410.14 915849,1410.14 916088,1410.14 916327,1410.14 916566,1410.14 916805,1410.14 917044,1410.14 917283,1410.14 917522,1410.14 \n",
       "  917761,1410.14 918000,1410.14 918239,1410.14 918478,1410.14 918717,1410.14 918956,1410.15 919195,1410.15 919434,1410.15 919673,1410.15 919912,1410.15 \n",
       "  920151,1410.15 920389,1410.15 920628,1410.15 920867,1410.15 921106,1410.15 921345,1410.15 921584,1410.15 921823,1410.15 922062,1410.15 922301,1410.15 \n",
       "  922540,1410.15 922779,1410.15 923018,1410.15 923257,1410.15 923496,1410.15 923735,1410.15 923974,1410.15 924213,1410.15 924452,1410.15 924691,1410.15 \n",
       "  924929,1410.15 925168,1410.15 925407,1410.15 925646,1410.15 925885,1410.16 926124,1410.16 926363,1410.16 926602,1410.16 926841,1410.16 927080,1410.16 \n",
       "  927319,1410.16 927558,1410.16 927797,1410.16 928036,1410.16 928275,1410.16 928514,1410.16 928753,1410.16 928992,1410.16 929231,1410.16 929469,1410.16 \n",
       "  929708,1410.16 929947,1410.16 930186,1410.16 930425,1410.16 930664,1410.16 930903,1410.16 931142,1410.16 931381,1410.16 931620,1410.16 931859,1410.16 \n",
       "  932098,1410.16 932337,1410.16 932576,1410.16 932815,1410.17 933054,1410.17 933293,1410.17 933532,1410.17 933771,1410.17 934009,1410.17 934248,1410.17 \n",
       "  934487,1410.17 934726,1410.17 934965,1410.17 935204,1410.17 935443,1410.17 935682,1410.17 935921,1410.17 936160,1410.17 936399,1410.17 936638,1410.17 \n",
       "  936877,1410.17 937116,1410.17 937355,1410.17 937594,1410.17 937833,1410.17 938072,1410.17 938311,1410.17 938549,1410.17 938788,1410.17 939027,1410.17 \n",
       "  939266,1410.17 939505,1410.17 939744,1410.17 939983,1410.18 940222,1410.18 940461,1410.18 940700,1410.18 940939,1410.18 941178,1410.18 941417,1410.18 \n",
       "  941656,1410.18 941895,1410.18 942134,1410.18 942373,1410.18 942612,1410.18 942851,1410.18 943089,1410.18 943328,1410.18 943567,1410.18 943806,1410.18 \n",
       "  944045,1410.18 944284,1410.18 944523,1410.18 944762,1410.18 945001,1410.18 945240,1410.18 945479,1410.18 945718,1410.18 945957,1410.18 946196,1410.18 \n",
       "  946435,1410.18 946674,1410.18 946913,1410.18 947152,1410.19 947391,1410.19 947629,1410.19 947868,1410.19 948107,1410.19 948346,1410.19 948585,1410.19 \n",
       "  948824,1410.19 949063,1410.19 949302,1410.19 949541,1410.19 949780,1410.19 950019,1410.19 950258,1410.19 950497,1410.19 950736,1410.19 950975,1410.19 \n",
       "  951214,1410.19 951453,1410.19 951692,1410.19 951931,1410.19 952169,1410.19 952408,1410.19 952647,1410.19 952886,1410.19 953125,1410.19 953364,1410.19 \n",
       "  953603,1410.19 953842,1410.19 954081,1410.19 954320,1410.2 954559,1410.2 954798,1410.2 955037,1410.2 955276,1410.2 955515,1410.2 955754,1410.2 \n",
       "  955993,1410.2 956232,1410.2 956471,1410.2 956709,1410.2 956948,1410.2 957187,1410.2 957426,1410.2 957665,1410.2 957904,1410.2 958143,1410.2 \n",
       "  958382,1410.2 958621,1410.2 958860,1410.2 959099,1410.2 959338,1410.2 959577,1410.2 959816,1410.2 960055,1410.2 960294,1410.2 960533,1410.2 \n",
       "  960772,1410.2 961011,1410.2 961249,1410.2 961488,1410.2 961727,1410.21 961966,1410.21 962205,1410.21 962444,1410.21 962683,1410.21 962922,1410.21 \n",
       "  963161,1410.21 963400,1410.21 963639,1410.21 963878,1410.21 964117,1410.21 964356,1410.21 964595,1410.21 964834,1410.21 965073,1410.21 965312,1410.21 \n",
       "  965551,1410.21 965789,1410.21 966028,1410.21 966267,1410.21 966506,1410.21 966745,1410.21 966984,1410.21 967223,1410.21 967462,1410.21 967701,1410.21 \n",
       "  967940,1410.21 968179,1410.21 968418,1410.21 968657,1410.21 968896,1410.21 969135,1410.22 969374,1410.22 969613,1410.22 969852,1410.22 970091,1410.22 \n",
       "  970329,1410.22 970568,1410.22 970807,1410.22 971046,1410.22 971285,1410.22 971524,1410.22 971763,1410.22 972002,1410.22 972241,1410.22 972480,1410.22 \n",
       "  972719,1410.22 972958,1410.22 973197,1410.22 973436,1410.22 973675,1410.22 973914,1410.22 974153,1410.22 974392,1410.22 974631,1410.22 974870,1410.22 \n",
       "  975108,1410.22 975347,1410.22 975586,1410.22 975825,1410.22 976064,1410.22 976303,1410.22 976542,1410.22 976781,1410.23 977020,1410.23 977259,1410.23 \n",
       "  977498,1410.23 977737,1410.23 977976,1410.23 978215,1410.23 978454,1410.23 978693,1410.23 978932,1410.23 979171,1410.23 979410,1410.23 979648,1410.23 \n",
       "  979887,1410.23 980126,1410.23 980365,1410.23 980604,1410.23 980843,1410.23 981082,1410.23 981321,1410.23 981560,1410.23 981799,1410.23 982038,1410.23 \n",
       "  982277,1410.23 982516,1410.23 982755,1410.23 982994,1410.23 983233,1410.23 983472,1410.23 983711,1410.23 983950,1410.23 984188,1410.23 984427,1410.23 \n",
       "  984666,1410.24 984905,1410.24 985144,1410.24 985383,1410.24 985622,1410.24 985861,1410.24 986100,1410.24 986339,1410.24 986578,1410.24 986817,1410.24 \n",
       "  987056,1410.24 987295,1410.24 987534,1410.24 987773,1410.24 988012,1410.24 988251,1410.24 988490,1410.24 988728,1410.24 988967,1410.24 989206,1410.24 \n",
       "  989445,1410.24 989684,1410.24 989923,1410.24 990162,1410.24 990401,1410.24 990640,1410.24 990879,1410.24 991118,1410.24 991357,1410.24 991596,1410.24 \n",
       "  991835,1410.24 992074,1410.24 992313,1410.24 992552,1410.25 992791,1410.25 993030,1410.25 993268,1410.25 993507,1410.25 993746,1410.25 993985,1410.25 \n",
       "  994224,1410.25 994463,1410.25 994702,1410.25 994941,1410.25 995180,1410.25 995419,1410.25 995658,1410.25 995897,1410.25 996136,1410.25 996375,1410.25 \n",
       "  996614,1410.25 996853,1410.25 997092,1410.25 997331,1410.25 997570,1410.25 997808,1410.25 998047,1410.25 998286,1410.25 998525,1410.25 998764,1410.25 \n",
       "  999003,1410.25 999242,1410.25 999481,1410.25 999720,1410.25 999959,1410.25 1.0002e+06,1410.25 1.00044e+06,1410.26 1.00068e+06,1410.26 1.00091e+06,1410.26 1.00115e+06,1410.26 \n",
       "  1.00139e+06,1410.26 1.00163e+06,1410.26 1.00187e+06,1410.26 1.00211e+06,1410.26 1.00235e+06,1410.26 1.00259e+06,1410.26 1.00283e+06,1410.26 1.00307e+06,1410.26 1.0033e+06,1410.26 1.00354e+06,1410.26 \n",
       "  1.00378e+06,1410.26 1.00402e+06,1410.26 1.00426e+06,1410.26 1.0045e+06,1410.26 1.00474e+06,1410.26 1.00498e+06,1410.26 1.00522e+06,1410.26 1.00545e+06,1410.26 1.00569e+06,1410.26 1.00593e+06,1410.26 \n",
       "  1.00617e+06,1410.26 1.00641e+06,1410.26 1.00665e+06,1410.26 1.00689e+06,1410.26 1.00713e+06,1410.26 1.00737e+06,1410.26 1.00761e+06,1410.26 1.00784e+06,1410.26 1.00808e+06,1410.26 1.00832e+06,1410.26 \n",
       "  1.00856e+06,1410.27 1.0088e+06,1410.27 1.00904e+06,1410.27 1.00928e+06,1410.27 1.00952e+06,1410.27 1.00976e+06,1410.27 1.00999e+06,1410.27 1.01023e+06,1410.27 1.01047e+06,1410.27 1.01071e+06,1410.27 \n",
       "  1.01095e+06,1410.27 1.01119e+06,1410.27 1.01143e+06,1410.27 1.01167e+06,1410.27 1.01191e+06,1410.27 1.01215e+06,1410.27 1.01238e+06,1410.27 1.01262e+06,1410.27 1.01286e+06,1410.27 1.0131e+06,1410.27 \n",
       "  1.01334e+06,1410.27 1.01358e+06,1410.27 1.01382e+06,1410.27 1.01406e+06,1410.27 1.0143e+06,1410.27 1.01453e+06,1410.27 1.01477e+06,1410.27 1.01501e+06,1410.27 1.01525e+06,1410.27 1.01549e+06,1410.27 \n",
       "  1.01573e+06,1410.27 1.01597e+06,1410.27 1.01621e+06,1410.27 1.01645e+06,1410.27 1.01669e+06,1410.27 1.01692e+06,1410.28 1.01716e+06,1410.28 1.0174e+06,1410.28 1.01764e+06,1410.28 1.01788e+06,1410.28 \n",
       "  1.01812e+06,1410.28 1.01836e+06,1410.28 1.0186e+06,1410.28 1.01884e+06,1410.28 1.01907e+06,1410.28 1.01931e+06,1410.28 1.01955e+06,1410.28 1.01979e+06,1410.28 1.02003e+06,1410.28 1.02027e+06,1410.28 \n",
       "  1.02051e+06,1410.28 1.02075e+06,1410.28 1.02099e+06,1410.28 1.02123e+06,1410.28 1.02146e+06,1410.28 1.0217e+06,1410.28 1.02194e+06,1410.28 1.02218e+06,1410.28 1.02242e+06,1410.28 1.02266e+06,1410.28 \n",
       "  1.0229e+06,1410.28 1.02314e+06,1410.28 1.02338e+06,1410.28 1.02361e+06,1410.28 1.02385e+06,1410.28 1.02409e+06,1410.28 1.02433e+06,1410.28 1.02457e+06,1410.28 1.02481e+06,1410.28 1.02505e+06,1410.28 \n",
       "  1.02529e+06,1410.29 1.02553e+06,1410.29 1.02577e+06,1410.29 1.026e+06,1410.29 1.02624e+06,1410.29 1.02648e+06,1410.29 1.02672e+06,1410.29 1.02696e+06,1410.29 1.0272e+06,1410.29 1.02744e+06,1410.29 \n",
       "  1.02768e+06,1410.29 1.02792e+06,1410.29 1.02815e+06,1410.29 1.02839e+06,1410.29 1.02863e+06,1410.29 1.02887e+06,1410.29 1.02911e+06,1410.29 1.02935e+06,1410.29 1.02959e+06,1410.29 1.02983e+06,1410.29 \n",
       "  1.03007e+06,1410.29 1.03031e+06,1410.29 1.03054e+06,1410.29 1.03078e+06,1410.29 1.03102e+06,1410.29 1.03126e+06,1410.29 1.0315e+06,1410.29 1.03174e+06,1410.29 1.03198e+06,1410.29 1.03222e+06,1410.29 \n",
       "  1.03246e+06,1410.29 1.03269e+06,1410.29 1.03293e+06,1410.29 1.03317e+06,1410.29 1.03341e+06,1410.29 1.03365e+06,1410.29 1.03389e+06,1410.3 1.03413e+06,1410.3 1.03437e+06,1410.3 1.03461e+06,1410.3 \n",
       "  1.03485e+06,1410.3 1.03508e+06,1410.3 1.03532e+06,1410.3 1.03556e+06,1410.3 1.0358e+06,1410.3 1.03604e+06,1410.3 1.03628e+06,1410.3 1.03652e+06,1410.3 1.03676e+06,1410.3 1.037e+06,1410.3 \n",
       "  1.03723e+06,1410.3 1.03747e+06,1410.3 1.03771e+06,1410.3 1.03795e+06,1410.3 1.03819e+06,1410.3 1.03843e+06,1410.3 1.03867e+06,1410.3 1.03891e+06,1410.3 1.03915e+06,1410.3 1.03939e+06,1410.3 \n",
       "  1.03962e+06,1410.3 1.03986e+06,1410.3 1.0401e+06,1410.3 1.04034e+06,1410.3 1.04058e+06,1410.3 1.04082e+06,1410.3 1.04106e+06,1410.3 1.0413e+06,1410.3 1.04154e+06,1410.3 1.04177e+06,1410.3 \n",
       "  1.04201e+06,1410.3 1.04225e+06,1410.3 1.04249e+06,1410.31 1.04273e+06,1410.31 1.04297e+06,1410.31 1.04321e+06,1410.31 1.04345e+06,1410.31 1.04369e+06,1410.31 1.04393e+06,1410.31 1.04416e+06,1410.31 \n",
       "  1.0444e+06,1410.31 1.04464e+06,1410.31 1.04488e+06,1410.31 1.04512e+06,1410.31 1.04536e+06,1410.31 1.0456e+06,1410.31 1.04584e+06,1410.31 1.04608e+06,1410.31 1.04631e+06,1410.31 1.04655e+06,1410.31 \n",
       "  1.04679e+06,1410.31 1.04703e+06,1410.31 1.04727e+06,1410.31 1.04751e+06,1410.31 1.04775e+06,1410.31 1.04799e+06,1410.31 1.04823e+06,1410.31 1.04847e+06,1410.31 1.0487e+06,1410.31 1.04894e+06,1410.31 \n",
       "  1.04918e+06,1410.31 1.04942e+06,1410.31 1.04966e+06,1410.31 1.0499e+06,1410.31 1.05014e+06,1410.31 1.05038e+06,1410.31 1.05062e+06,1410.31 1.05085e+06,1410.31 1.05109e+06,1410.31 1.05133e+06,1410.32 \n",
       "  1.05157e+06,1410.32 1.05181e+06,1410.32 1.05205e+06,1410.32 1.05229e+06,1410.32 1.05253e+06,1410.32 1.05277e+06,1410.32 1.05301e+06,1410.32 1.05324e+06,1410.32 1.05348e+06,1410.32 1.05372e+06,1410.32 \n",
       "  1.05396e+06,1410.32 1.0542e+06,1410.32 1.05444e+06,1410.32 1.05468e+06,1410.32 1.05492e+06,1410.32 1.05516e+06,1410.32 1.05539e+06,1410.32 1.05563e+06,1410.32 1.05587e+06,1410.32 1.05611e+06,1410.32 \n",
       "  1.05635e+06,1410.32 1.05659e+06,1410.32 1.05683e+06,1410.32 1.05707e+06,1410.32 1.05731e+06,1410.32 1.05755e+06,1410.32 1.05778e+06,1410.32 1.05802e+06,1410.32 1.05826e+06,1410.32 1.0585e+06,1410.32 \n",
       "  1.05874e+06,1410.32 1.05898e+06,1410.32 1.05922e+06,1410.32 1.05946e+06,1410.32 1.0597e+06,1410.32 1.05993e+06,1410.32 1.06017e+06,1410.32 1.06041e+06,1410.33 1.06065e+06,1410.33 1.06089e+06,1410.33 \n",
       "  1.06113e+06,1410.33 1.06137e+06,1410.33 1.06161e+06,1410.33 1.06185e+06,1410.33 1.06209e+06,1410.33 1.06232e+06,1410.33 1.06256e+06,1410.33 1.0628e+06,1410.33 1.06304e+06,1410.33 1.06328e+06,1410.33 \n",
       "  1.06352e+06,1410.33 1.06376e+06,1410.33 1.064e+06,1410.33 1.06424e+06,1410.33 1.06447e+06,1410.33 1.06471e+06,1410.33 1.06495e+06,1410.33 1.06519e+06,1410.33 1.06543e+06,1410.33 1.06567e+06,1410.33 \n",
       "  1.06591e+06,1410.33 1.06615e+06,1410.33 1.06639e+06,1410.33 1.06663e+06,1410.33 1.06686e+06,1410.33 1.0671e+06,1410.33 1.06734e+06,1410.33 1.06758e+06,1410.33 1.06782e+06,1410.33 1.06806e+06,1410.33 \n",
       "  1.0683e+06,1410.33 1.06854e+06,1410.33 1.06878e+06,1410.33 1.06901e+06,1410.33 1.06925e+06,1410.33 1.06949e+06,1410.34 1.06973e+06,1410.34 1.06997e+06,1410.34 1.07021e+06,1410.34 1.07045e+06,1410.34 \n",
       "  1.07069e+06,1410.34 1.07093e+06,1410.34 1.07117e+06,1410.34 1.0714e+06,1410.34 1.07164e+06,1410.34 1.07188e+06,1410.34 1.07212e+06,1410.34 1.07236e+06,1410.34 1.0726e+06,1410.34 1.07284e+06,1410.34 \n",
       "  1.07308e+06,1410.34 1.07332e+06,1410.34 1.07355e+06,1410.34 1.07379e+06,1410.34 1.07403e+06,1410.34 1.07427e+06,1410.34 1.07451e+06,1410.34 1.07475e+06,1410.34 1.07499e+06,1410.34 1.07523e+06,1410.34 \n",
       "  1.07547e+06,1410.34 1.07571e+06,1410.34 1.07594e+06,1410.34 1.07618e+06,1410.34 1.07642e+06,1410.34 1.07666e+06,1410.34 1.0769e+06,1410.34 1.07714e+06,1410.34 1.07738e+06,1410.34 1.07762e+06,1410.34 \n",
       "  1.07786e+06,1410.34 1.07809e+06,1410.34 1.07833e+06,1410.34 1.07857e+06,1410.34 1.07881e+06,1410.35 1.07905e+06,1410.35 1.07929e+06,1410.35 1.07953e+06,1410.35 1.07977e+06,1410.35 1.08001e+06,1410.35 \n",
       "  1.08025e+06,1410.35 1.08048e+06,1410.35 1.08072e+06,1410.35 1.08096e+06,1410.35 1.0812e+06,1410.35 1.08144e+06,1410.35 1.08168e+06,1410.35 1.08192e+06,1410.35 1.08216e+06,1410.35 1.0824e+06,1410.35 \n",
       "  1.08263e+06,1410.35 1.08287e+06,1410.35 1.08311e+06,1410.35 1.08335e+06,1410.35 1.08359e+06,1410.35 1.08383e+06,1410.35 1.08407e+06,1410.35 1.08431e+06,1410.35 1.08455e+06,1410.35 1.08479e+06,1410.35 \n",
       "  1.08502e+06,1410.35 1.08526e+06,1410.35 1.0855e+06,1410.35 1.08574e+06,1410.35 1.08598e+06,1410.35 1.08622e+06,1410.35 1.08646e+06,1410.35 1.0867e+06,1410.35 1.08694e+06,1410.35 1.08717e+06,1410.35 \n",
       "  1.08741e+06,1410.35 1.08765e+06,1410.35 1.08789e+06,1410.35 1.08813e+06,1410.35 1.08837e+06,1410.36 1.08861e+06,1410.36 1.08885e+06,1410.36 1.08909e+06,1410.36 1.08933e+06,1410.36 1.08956e+06,1410.36 \n",
       "  1.0898e+06,1410.36 1.09004e+06,1410.36 1.09028e+06,1410.36 1.09052e+06,1410.36 1.09076e+06,1410.36 1.091e+06,1410.36 1.09124e+06,1410.36 1.09148e+06,1410.36 1.09171e+06,1410.36 1.09195e+06,1410.36 \n",
       "  1.09219e+06,1410.36 1.09243e+06,1410.36 1.09267e+06,1410.36 1.09291e+06,1410.36 1.09315e+06,1410.36 1.09339e+06,1410.36 1.09363e+06,1410.36 1.09387e+06,1410.36 1.0941e+06,1410.36 1.09434e+06,1410.36 \n",
       "  1.09458e+06,1410.36 1.09482e+06,1410.36 1.09506e+06,1410.36 1.0953e+06,1410.36 1.09554e+06,1410.36 1.09578e+06,1410.36 1.09602e+06,1410.36 1.09625e+06,1410.36 1.09649e+06,1410.36 1.09673e+06,1410.36 \n",
       "  1.09697e+06,1410.36 1.09721e+06,1410.36 1.09745e+06,1410.36 1.09769e+06,1410.36 1.09793e+06,1410.37 1.09817e+06,1410.37 1.09841e+06,1410.37 1.09864e+06,1410.37 1.09888e+06,1410.37 1.09912e+06,1410.37 \n",
       "  1.09936e+06,1410.37 1.0996e+06,1410.37 1.09984e+06,1410.37 1.10008e+06,1410.37 1.10032e+06,1410.37 1.10056e+06,1410.37 1.10079e+06,1410.37 1.10103e+06,1410.37 1.10127e+06,1410.37 1.10151e+06,1410.37 \n",
       "  1.10175e+06,1410.37 1.10199e+06,1410.37 1.10223e+06,1410.37 1.10247e+06,1410.37 1.10271e+06,1410.37 1.10295e+06,1410.37 1.10318e+06,1410.37 1.10342e+06,1410.37 1.10366e+06,1410.37 1.1039e+06,1410.37 \n",
       "  1.10414e+06,1410.37 1.10438e+06,1410.37 1.10462e+06,1410.37 1.10486e+06,1410.37 1.1051e+06,1410.37 1.10533e+06,1410.37 1.10557e+06,1410.37 1.10581e+06,1410.37 1.10605e+06,1410.37 1.10629e+06,1410.37 \n",
       "  1.10653e+06,1410.37 1.10677e+06,1410.37 1.10701e+06,1410.37 1.10725e+06,1410.37 1.10749e+06,1410.37 1.10772e+06,1410.38 1.10796e+06,1410.38 1.1082e+06,1410.38 1.10844e+06,1410.38 1.10868e+06,1410.38 \n",
       "  1.10892e+06,1410.38 1.10916e+06,1410.38 1.1094e+06,1410.38 1.10964e+06,1410.38 1.10987e+06,1410.38 1.11011e+06,1410.38 1.11035e+06,1410.38 1.11059e+06,1410.38 1.11083e+06,1410.38 1.11107e+06,1410.38 \n",
       "  1.11131e+06,1410.38 1.11155e+06,1410.38 1.11179e+06,1410.38 1.11203e+06,1410.38 1.11226e+06,1410.38 1.1125e+06,1410.38 1.11274e+06,1410.38 1.11298e+06,1410.38 1.11322e+06,1410.38 1.11346e+06,1410.38 \n",
       "  1.1137e+06,1410.38 1.11394e+06,1410.38 1.11418e+06,1410.38 1.11441e+06,1410.38 1.11465e+06,1410.38 1.11489e+06,1410.38 1.11513e+06,1410.38 1.11537e+06,1410.38 1.11561e+06,1410.38 1.11585e+06,1410.38 \n",
       "  1.11609e+06,1410.38 1.11633e+06,1410.38 1.11657e+06,1410.38 1.1168e+06,1410.38 1.11704e+06,1410.38 1.11728e+06,1410.38 1.11752e+06,1410.38 1.11776e+06,1410.39 1.118e+06,1410.39 1.11824e+06,1410.39 \n",
       "  1.11848e+06,1410.39 1.11872e+06,1410.39 1.11895e+06,1410.39 1.11919e+06,1410.39 1.11943e+06,1410.39 1.11967e+06,1410.39 1.11991e+06,1410.39 1.12015e+06,1410.39 1.12039e+06,1410.39 1.12063e+06,1410.39 \n",
       "  1.12087e+06,1410.39 1.12111e+06,1410.39 1.12134e+06,1410.39 1.12158e+06,1410.39 1.12182e+06,1410.39 1.12206e+06,1410.39 1.1223e+06,1410.39 1.12254e+06,1410.39 1.12278e+06,1410.39 1.12302e+06,1410.39 \n",
       "  1.12326e+06,1410.39 1.12349e+06,1410.39 1.12373e+06,1410.39 1.12397e+06,1410.39 1.12421e+06,1410.39 1.12445e+06,1410.39 1.12469e+06,1410.39 1.12493e+06,1410.39 1.12517e+06,1410.39 1.12541e+06,1410.39 \n",
       "  1.12565e+06,1410.39 1.12588e+06,1410.39 1.12612e+06,1410.39 1.12636e+06,1410.39 1.1266e+06,1410.39 1.12684e+06,1410.39 1.12708e+06,1410.39 1.12732e+06,1410.39 1.12756e+06,1410.39 1.1278e+06,1410.39 \n",
       "  1.12803e+06,1410.4 1.12827e+06,1410.4 1.12851e+06,1410.4 1.12875e+06,1410.4 1.12899e+06,1410.4 1.12923e+06,1410.4 1.12947e+06,1410.4 1.12971e+06,1410.4 1.12995e+06,1410.4 1.13019e+06,1410.4 \n",
       "  1.13042e+06,1410.4 1.13066e+06,1410.4 1.1309e+06,1410.4 1.13114e+06,1410.4 1.13138e+06,1410.4 1.13162e+06,1410.4 1.13186e+06,1410.4 1.1321e+06,1410.4 1.13234e+06,1410.4 1.13257e+06,1410.4 \n",
       "  1.13281e+06,1410.4 1.13305e+06,1410.4 1.13329e+06,1410.4 1.13353e+06,1410.4 1.13377e+06,1410.4 1.13401e+06,1410.4 1.13425e+06,1410.4 1.13449e+06,1410.4 1.13473e+06,1410.4 1.13496e+06,1410.4 \n",
       "  1.1352e+06,1410.4 1.13544e+06,1410.4 1.13568e+06,1410.4 1.13592e+06,1410.4 1.13616e+06,1410.4 1.1364e+06,1410.4 1.13664e+06,1410.4 1.13688e+06,1410.4 1.13711e+06,1410.4 1.13735e+06,1410.4 \n",
       "  1.13759e+06,1410.4 1.13783e+06,1410.4 1.13807e+06,1410.4 1.13831e+06,1410.41 1.13855e+06,1410.41 1.13879e+06,1410.41 1.13903e+06,1410.41 1.13927e+06,1410.41 1.1395e+06,1410.41 1.13974e+06,1410.41 \n",
       "  1.13998e+06,1410.41 1.14022e+06,1410.41 1.14046e+06,1410.41 1.1407e+06,1410.41 1.14094e+06,1410.41 1.14118e+06,1410.41 1.14142e+06,1410.41 1.14165e+06,1410.41 1.14189e+06,1410.41 1.14213e+06,1410.41 \n",
       "  1.14237e+06,1410.41 1.14261e+06,1410.41 1.14285e+06,1410.41 1.14309e+06,1410.41 1.14333e+06,1410.41 1.14357e+06,1410.41 1.14381e+06,1410.41 1.14404e+06,1410.41 1.14428e+06,1410.41 1.14452e+06,1410.41 \n",
       "  1.14476e+06,1410.41 1.145e+06,1410.41 1.14524e+06,1410.41 1.14548e+06,1410.41 1.14572e+06,1410.41 1.14596e+06,1410.41 1.14619e+06,1410.41 1.14643e+06,1410.41 1.14667e+06,1410.41 1.14691e+06,1410.41 \n",
       "  1.14715e+06,1410.41 1.14739e+06,1410.41 1.14763e+06,1410.41 1.14787e+06,1410.41 1.14811e+06,1410.41 1.14835e+06,1410.41 1.14858e+06,1410.41 1.14882e+06,1410.42 1.14906e+06,1410.42 1.1493e+06,1410.42 \n",
       "  1.14954e+06,1410.42 1.14978e+06,1410.42 1.15002e+06,1410.42 1.15026e+06,1410.42 1.1505e+06,1410.42 1.15073e+06,1410.42 1.15097e+06,1410.42 1.15121e+06,1410.42 1.15145e+06,1410.42 1.15169e+06,1410.42 \n",
       "  1.15193e+06,1410.42 1.15217e+06,1410.42 1.15241e+06,1410.42 1.15265e+06,1410.42 1.15289e+06,1410.42 1.15312e+06,1410.42 1.15336e+06,1410.42 1.1536e+06,1410.42 1.15384e+06,1410.42 1.15408e+06,1410.42 \n",
       "  1.15432e+06,1410.42 1.15456e+06,1410.42 1.1548e+06,1410.42 1.15504e+06,1410.42 1.15527e+06,1410.42 1.15551e+06,1410.42 1.15575e+06,1410.42 1.15599e+06,1410.42 1.15623e+06,1410.42 1.15647e+06,1410.42 \n",
       "  1.15671e+06,1410.42 1.15695e+06,1410.42 1.15719e+06,1410.42 1.15743e+06,1410.42 1.15766e+06,1410.42 1.1579e+06,1410.42 1.15814e+06,1410.42 1.15838e+06,1410.42 1.15862e+06,1410.42 1.15886e+06,1410.42 \n",
       "  1.1591e+06,1410.42 1.15934e+06,1410.42 1.15958e+06,1410.43 1.15981e+06,1410.43 1.16005e+06,1410.43 1.16029e+06,1410.43 1.16053e+06,1410.43 1.16077e+06,1410.43 1.16101e+06,1410.43 1.16125e+06,1410.43 \n",
       "  1.16149e+06,1410.43 1.16173e+06,1410.43 1.16197e+06,1410.43 1.1622e+06,1410.43 1.16244e+06,1410.43 1.16268e+06,1410.43 1.16292e+06,1410.43 1.16316e+06,1410.43 1.1634e+06,1410.43 1.16364e+06,1410.43 \n",
       "  1.16388e+06,1410.43 1.16412e+06,1410.43 1.16435e+06,1410.43 1.16459e+06,1410.43 1.16483e+06,1410.43 1.16507e+06,1410.43 1.16531e+06,1410.43 1.16555e+06,1410.43 1.16579e+06,1410.43 1.16603e+06,1410.43 \n",
       "  1.16627e+06,1410.43 1.16651e+06,1410.43 1.16674e+06,1410.43 1.16698e+06,1410.43 1.16722e+06,1410.43 1.16746e+06,1410.43 1.1677e+06,1410.43 1.16794e+06,1410.43 1.16818e+06,1410.43 1.16842e+06,1410.43 \n",
       "  1.16866e+06,1410.43 1.16889e+06,1410.43 1.16913e+06,1410.43 1.16937e+06,1410.43 1.16961e+06,1410.43 1.16985e+06,1410.43 1.17009e+06,1410.43 1.17033e+06,1410.43 1.17057e+06,1410.44 1.17081e+06,1410.44 \n",
       "  1.17105e+06,1410.44 1.17128e+06,1410.44 1.17152e+06,1410.44 1.17176e+06,1410.44 1.172e+06,1410.44 1.17224e+06,1410.44 1.17248e+06,1410.44 1.17272e+06,1410.44 1.17296e+06,1410.44 1.1732e+06,1410.44 \n",
       "  1.17343e+06,1410.44 1.17367e+06,1410.44 1.17391e+06,1410.44 1.17415e+06,1410.44 1.17439e+06,1410.44 1.17463e+06,1410.44 1.17487e+06,1410.44 1.17511e+06,1410.44 1.17535e+06,1410.44 1.17559e+06,1410.44 \n",
       "  1.17582e+06,1410.44 1.17606e+06,1410.44 1.1763e+06,1410.44 1.17654e+06,1410.44 1.17678e+06,1410.44 1.17702e+06,1410.44 1.17726e+06,1410.44 1.1775e+06,1410.44 1.17774e+06,1410.44 1.17797e+06,1410.44 \n",
       "  1.17821e+06,1410.44 1.17845e+06,1410.44 1.17869e+06,1410.44 1.17893e+06,1410.44 1.17917e+06,1410.44 1.17941e+06,1410.44 1.17965e+06,1410.44 1.17989e+06,1410.44 1.18013e+06,1410.44 1.18036e+06,1410.44 \n",
       "  1.1806e+06,1410.44 1.18084e+06,1410.44 1.18108e+06,1410.44 1.18132e+06,1410.44 1.18156e+06,1410.44 1.1818e+06,1410.45 1.18204e+06,1410.45 1.18228e+06,1410.45 1.18251e+06,1410.45 1.18275e+06,1410.45 \n",
       "  1.18299e+06,1410.45 1.18323e+06,1410.45 1.18347e+06,1410.45 1.18371e+06,1410.45 1.18395e+06,1410.45 1.18419e+06,1410.45 1.18443e+06,1410.45 1.18467e+06,1410.45 1.1849e+06,1410.45 1.18514e+06,1410.45 \n",
       "  1.18538e+06,1410.45 1.18562e+06,1410.45 1.18586e+06,1410.45 1.1861e+06,1410.45 1.18634e+06,1410.45 1.18658e+06,1410.45 1.18682e+06,1410.45 1.18705e+06,1410.45 1.18729e+06,1410.45 1.18753e+06,1410.45 \n",
       "  1.18777e+06,1410.45 1.18801e+06,1410.45 1.18825e+06,1410.45 1.18849e+06,1410.45 1.18873e+06,1410.45 1.18897e+06,1410.45 1.18921e+06,1410.45 1.18944e+06,1410.45 1.18968e+06,1410.45 1.18992e+06,1410.45 \n",
       "  1.19016e+06,1410.45 1.1904e+06,1410.45 1.19064e+06,1410.45 1.19088e+06,1410.45 1.19112e+06,1410.45 1.19136e+06,1410.45 1.19159e+06,1410.45 1.19183e+06,1410.45 1.19207e+06,1410.45 1.19231e+06,1410.45 \n",
       "  1.19255e+06,1410.45 1.19279e+06,1410.45 1.19303e+06,1410.46 1.19327e+06,1410.46 1.19351e+06,1410.46 1.19375e+06,1410.46 1.19398e+06,1410.46 1.19422e+06,1410.46 1.19446e+06,1410.46 1.1947e+06,1410.46 \n",
       "  1.19494e+06,1410.46 1.19518e+06,1410.46 1.19542e+06,1410.46 1.19566e+06,1410.46 1.1959e+06,1410.46 1.19613e+06,1410.46 1.19637e+06,1410.46 1.19661e+06,1410.46 1.19685e+06,1410.46 1.19709e+06,1410.46 \n",
       "  1.19733e+06,1410.46 1.19757e+06,1410.46 1.19781e+06,1410.46 1.19805e+06,1410.46 1.19829e+06,1410.46 1.19852e+06,1410.46 1.19876e+06,1410.46 1.199e+06,1410.46 1.19924e+06,1410.46 1.19948e+06,1410.46 \n",
       "  1.19972e+06,1410.46 1.19996e+06,1410.46 1.2002e+06,1410.46 1.20044e+06,1410.46 1.20067e+06,1410.46 1.20091e+06,1410.46 1.20115e+06,1410.46 1.20139e+06,1410.46 1.20163e+06,1410.46 1.20187e+06,1410.46 \n",
       "  1.20211e+06,1410.46 1.20235e+06,1410.46 1.20259e+06,1410.46 1.20283e+06,1410.46 1.20306e+06,1410.46 1.2033e+06,1410.46 1.20354e+06,1410.46 1.20378e+06,1410.46 1.20402e+06,1410.46 1.20426e+06,1410.46 \n",
       "  1.2045e+06,1410.46 1.20474e+06,1410.47 1.20498e+06,1410.47 1.20521e+06,1410.47 1.20545e+06,1410.47 1.20569e+06,1410.47 1.20593e+06,1410.47 1.20617e+06,1410.47 1.20641e+06,1410.47 1.20665e+06,1410.47 \n",
       "  1.20689e+06,1410.47 1.20713e+06,1410.47 1.20737e+06,1410.47 1.2076e+06,1410.47 1.20784e+06,1410.47 1.20808e+06,1410.47 1.20832e+06,1410.47 1.20856e+06,1410.47 1.2088e+06,1410.47 1.20904e+06,1410.47 \n",
       "  1.20928e+06,1410.47 1.20952e+06,1410.47 1.20975e+06,1410.47 1.20999e+06,1410.47 1.21023e+06,1410.47 1.21047e+06,1410.47 1.21071e+06,1410.47 1.21095e+06,1410.47 1.21119e+06,1410.47 1.21143e+06,1410.47 \n",
       "  1.21167e+06,1410.47 1.21191e+06,1410.47 1.21214e+06,1410.47 1.21238e+06,1410.47 1.21262e+06,1410.47 1.21286e+06,1410.47 1.2131e+06,1410.47 1.21334e+06,1410.47 1.21358e+06,1410.47 1.21382e+06,1410.47 \n",
       "  1.21406e+06,1410.47 1.2143e+06,1410.47 1.21453e+06,1410.47 1.21477e+06,1410.47 1.21501e+06,1410.47 1.21525e+06,1410.47 1.21549e+06,1410.47 1.21573e+06,1410.47 1.21597e+06,1410.47 1.21621e+06,1410.47 \n",
       "  1.21645e+06,1410.48 1.21668e+06,1410.48 1.21692e+06,1410.48 1.21716e+06,1410.48 1.2174e+06,1410.48 1.21764e+06,1410.48 1.21788e+06,1410.48 1.21812e+06,1410.48 1.21836e+06,1410.48 1.2186e+06,1410.48 \n",
       "  1.21884e+06,1410.48 1.21907e+06,1410.48 1.21931e+06,1410.48 1.21955e+06,1410.48 1.21979e+06,1410.48 1.22003e+06,1410.48 1.22027e+06,1410.48 1.22051e+06,1410.48 1.22075e+06,1410.48 1.22099e+06,1410.48 \n",
       "  1.22122e+06,1410.48 1.22146e+06,1410.48 1.2217e+06,1410.48 1.22194e+06,1410.48 1.22218e+06,1410.48 1.22242e+06,1410.48 1.22266e+06,1410.48 1.2229e+06,1410.48 1.22314e+06,1410.48 1.22338e+06,1410.48 \n",
       "  1.22361e+06,1410.48 1.22385e+06,1410.48 1.22409e+06,1410.48 1.22433e+06,1410.48 1.22457e+06,1410.48 1.22481e+06,1410.48 1.22505e+06,1410.48 1.22529e+06,1410.48 1.22553e+06,1410.48 1.22576e+06,1410.48 \n",
       "  1.226e+06,1410.48 1.22624e+06,1410.48 1.22648e+06,1410.48 1.22672e+06,1410.48 1.22696e+06,1410.48 1.2272e+06,1410.48 1.22744e+06,1410.48 1.22768e+06,1410.48 1.22792e+06,1410.48 1.22815e+06,1410.48 \n",
       "  1.22839e+06,1410.48 1.22863e+06,1410.49 1.22887e+06,1410.49 1.22911e+06,1410.49 1.22935e+06,1410.49 1.22959e+06,1410.49 1.22983e+06,1410.49 1.23007e+06,1410.49 1.2303e+06,1410.49 1.23054e+06,1410.49 \n",
       "  1.23078e+06,1410.49 1.23102e+06,1410.49 1.23126e+06,1410.49 1.2315e+06,1410.49 1.23174e+06,1410.49 1.23198e+06,1410.49 1.23222e+06,1410.49 1.23246e+06,1410.49 1.23269e+06,1410.49 1.23293e+06,1410.49 \n",
       "  1.23317e+06,1410.49 1.23341e+06,1410.49 1.23365e+06,1410.49 1.23389e+06,1410.49 1.23413e+06,1410.49 1.23437e+06,1410.49 1.23461e+06,1410.49 1.23484e+06,1410.49 1.23508e+06,1410.49 1.23532e+06,1410.49 \n",
       "  1.23556e+06,1410.49 1.2358e+06,1410.49 1.23604e+06,1410.49 1.23628e+06,1410.49 1.23652e+06,1410.49 1.23676e+06,1410.49 1.237e+06,1410.49 1.23723e+06,1410.49 1.23747e+06,1410.49 1.23771e+06,1410.49 \n",
       "  1.23795e+06,1410.49 1.23819e+06,1410.49 1.23843e+06,1410.49 1.23867e+06,1410.49 1.23891e+06,1410.49 1.23915e+06,1410.49 1.23938e+06,1410.49 1.23962e+06,1410.49 1.23986e+06,1410.49 1.2401e+06,1410.49 \n",
       "  1.24034e+06,1410.49 1.24058e+06,1410.49 1.24082e+06,1410.5 1.24106e+06,1410.5 1.2413e+06,1410.5 1.24154e+06,1410.5 1.24177e+06,1410.5 1.24201e+06,1410.5 1.24225e+06,1410.5 1.24249e+06,1410.5 \n",
       "  1.24273e+06,1410.5 1.24297e+06,1410.5 1.24321e+06,1410.5 1.24345e+06,1410.5 1.24369e+06,1410.5 1.24392e+06,1410.5 1.24416e+06,1410.5 1.2444e+06,1410.5 1.24464e+06,1410.5 1.24488e+06,1410.5 \n",
       "  1.24512e+06,1410.5 1.24536e+06,1410.5 1.2456e+06,1410.5 1.24584e+06,1410.5 1.24608e+06,1410.5 1.24631e+06,1410.5 1.24655e+06,1410.5 1.24679e+06,1410.5 1.24703e+06,1410.5 1.24727e+06,1410.5 \n",
       "  1.24751e+06,1410.5 1.24775e+06,1410.5 1.24799e+06,1410.5 1.24823e+06,1410.5 1.24846e+06,1410.5 1.2487e+06,1410.5 1.24894e+06,1410.5 1.24918e+06,1410.5 1.24942e+06,1410.5 1.24966e+06,1410.5 \n",
       "  1.2499e+06,1410.5 1.25014e+06,1410.5 1.25038e+06,1410.5 1.25062e+06,1410.5 1.25085e+06,1410.5 1.25109e+06,1410.5 1.25133e+06,1410.5 1.25157e+06,1410.5 1.25181e+06,1410.5 1.25205e+06,1410.5 \n",
       "  1.25229e+06,1410.5 1.25253e+06,1410.5 1.25277e+06,1410.5 1.253e+06,1410.5 1.25324e+06,1410.5 1.25348e+06,1410.51 1.25372e+06,1410.51 1.25396e+06,1410.51 1.2542e+06,1410.51 1.25444e+06,1410.51 \n",
       "  1.25468e+06,1410.51 1.25492e+06,1410.51 1.25516e+06,1410.51 1.25539e+06,1410.51 1.25563e+06,1410.51 1.25587e+06,1410.51 1.25611e+06,1410.51 1.25635e+06,1410.51 1.25659e+06,1410.51 1.25683e+06,1410.51 \n",
       "  1.25707e+06,1410.51 1.25731e+06,1410.51 1.25754e+06,1410.51 1.25778e+06,1410.51 1.25802e+06,1410.51 1.25826e+06,1410.51 1.2585e+06,1410.51 1.25874e+06,1410.51 1.25898e+06,1410.51 1.25922e+06,1410.51 \n",
       "  1.25946e+06,1410.51 1.2597e+06,1410.51 1.25993e+06,1410.51 1.26017e+06,1410.51 1.26041e+06,1410.51 1.26065e+06,1410.51 1.26089e+06,1410.51 1.26113e+06,1410.51 1.26137e+06,1410.51 1.26161e+06,1410.51 \n",
       "  1.26185e+06,1410.51 1.26208e+06,1410.51 1.26232e+06,1410.51 1.26256e+06,1410.51 1.2628e+06,1410.51 1.26304e+06,1410.51 1.26328e+06,1410.51 1.26352e+06,1410.51 1.26376e+06,1410.51 1.264e+06,1410.51 \n",
       "  1.26424e+06,1410.51 1.26447e+06,1410.51 1.26471e+06,1410.51 1.26495e+06,1410.51 1.26519e+06,1410.51 1.26543e+06,1410.51 1.26567e+06,1410.51 1.26591e+06,1410.51 1.26615e+06,1410.52 1.26639e+06,1410.52 \n",
       "  1.26662e+06,1410.52 1.26686e+06,1410.52 1.2671e+06,1410.52 1.26734e+06,1410.52 1.26758e+06,1410.52 1.26782e+06,1410.52 1.26806e+06,1410.52 1.2683e+06,1410.52 1.26854e+06,1410.52 1.26878e+06,1410.52 \n",
       "  1.26901e+06,1410.52 1.26925e+06,1410.52 1.26949e+06,1410.52 1.26973e+06,1410.52 1.26997e+06,1410.52 1.27021e+06,1410.52 1.27045e+06,1410.52 1.27069e+06,1410.52 1.27093e+06,1410.52 1.27116e+06,1410.52 \n",
       "  1.2714e+06,1410.52 1.27164e+06,1410.52 1.27188e+06,1410.52 1.27212e+06,1410.52 1.27236e+06,1410.52 1.2726e+06,1410.52 1.27284e+06,1410.52 1.27308e+06,1410.52 1.27332e+06,1410.52 1.27355e+06,1410.52 \n",
       "  1.27379e+06,1410.52 1.27403e+06,1410.52 1.27427e+06,1410.52 1.27451e+06,1410.52 1.27475e+06,1410.52 1.27499e+06,1410.52 1.27523e+06,1410.52 1.27547e+06,1410.52 1.2757e+06,1410.52 1.27594e+06,1410.52 \n",
       "  1.27618e+06,1410.52 1.27642e+06,1410.52 1.27666e+06,1410.52 1.2769e+06,1410.52 1.27714e+06,1410.52 1.27738e+06,1410.52 1.27762e+06,1410.52 1.27786e+06,1410.52 1.27809e+06,1410.52 1.27833e+06,1410.52 \n",
       "  1.27857e+06,1410.52 1.27881e+06,1410.52 1.27905e+06,1410.52 1.27929e+06,1410.53 1.27953e+06,1410.53 1.27977e+06,1410.53 1.28001e+06,1410.53 1.28024e+06,1410.53 1.28048e+06,1410.53 1.28072e+06,1410.53 \n",
       "  1.28096e+06,1410.53 1.2812e+06,1410.53 1.28144e+06,1410.53 1.28168e+06,1410.53 1.28192e+06,1410.53 1.28216e+06,1410.53 1.2824e+06,1410.53 1.28263e+06,1410.53 1.28287e+06,1410.53 1.28311e+06,1410.53 \n",
       "  1.28335e+06,1410.53 1.28359e+06,1410.53 1.28383e+06,1410.53 1.28407e+06,1410.53 1.28431e+06,1410.53 1.28455e+06,1410.53 1.28478e+06,1410.53 1.28502e+06,1410.53 1.28526e+06,1410.53 1.2855e+06,1410.53 \n",
       "  1.28574e+06,1410.53 1.28598e+06,1410.53 1.28622e+06,1410.53 1.28646e+06,1410.53 1.2867e+06,1410.53 1.28694e+06,1410.53 1.28717e+06,1410.53 1.28741e+06,1410.53 1.28765e+06,1410.53 1.28789e+06,1410.53 \n",
       "  1.28813e+06,1410.53 1.28837e+06,1410.53 1.28861e+06,1410.53 1.28885e+06,1410.53 1.28909e+06,1410.53 1.28932e+06,1410.53 1.28956e+06,1410.53 1.2898e+06,1410.53 1.29004e+06,1410.53 1.29028e+06,1410.53 \n",
       "  1.29052e+06,1410.53 1.29076e+06,1410.53 1.291e+06,1410.53 1.29124e+06,1410.53 1.29148e+06,1410.53 1.29171e+06,1410.53 1.29195e+06,1410.53 1.29219e+06,1410.53 1.29243e+06,1410.53 1.29267e+06,1410.54 \n",
       "  1.29291e+06,1410.54 1.29315e+06,1410.54 1.29339e+06,1410.54 1.29363e+06,1410.54 1.29386e+06,1410.54 1.2941e+06,1410.54 1.29434e+06,1410.54 1.29458e+06,1410.54 1.29482e+06,1410.54 1.29506e+06,1410.54 \n",
       "  1.2953e+06,1410.54 1.29554e+06,1410.54 1.29578e+06,1410.54 1.29602e+06,1410.54 1.29625e+06,1410.54 1.29649e+06,1410.54 1.29673e+06,1410.54 1.29697e+06,1410.54 1.29721e+06,1410.54 1.29745e+06,1410.54 \n",
       "  1.29769e+06,1410.54 1.29793e+06,1410.54 1.29817e+06,1410.54 1.2984e+06,1410.54 1.29864e+06,1410.54 1.29888e+06,1410.54 1.29912e+06,1410.54 1.29936e+06,1410.54 1.2996e+06,1410.54 1.29984e+06,1410.54 \n",
       "  1.30008e+06,1410.54 1.30032e+06,1410.54 1.30056e+06,1410.54 1.30079e+06,1410.54 1.30103e+06,1410.54 1.30127e+06,1410.54 1.30151e+06,1410.54 1.30175e+06,1410.54 1.30199e+06,1410.54 1.30223e+06,1410.54 \n",
       "  1.30247e+06,1410.54 1.30271e+06,1410.54 1.30294e+06,1410.54 1.30318e+06,1410.54 1.30342e+06,1410.54 1.30366e+06,1410.54 1.3039e+06,1410.54 1.30414e+06,1410.54 1.30438e+06,1410.54 1.30462e+06,1410.54 \n",
       "  1.30486e+06,1410.54 1.3051e+06,1410.54 1.30533e+06,1410.54 1.30557e+06,1410.54 1.30581e+06,1410.54 1.30605e+06,1410.54 1.30629e+06,1410.55 1.30653e+06,1410.55 1.30677e+06,1410.55 1.30701e+06,1410.55 \n",
       "  1.30725e+06,1410.55 1.30748e+06,1410.55 1.30772e+06,1410.55 1.30796e+06,1410.55 1.3082e+06,1410.55 1.30844e+06,1410.55 1.30868e+06,1410.55 1.30892e+06,1410.55 1.30916e+06,1410.55 1.3094e+06,1410.55 \n",
       "  1.30964e+06,1410.55 1.30987e+06,1410.55 1.31011e+06,1410.55 1.31035e+06,1410.55 1.31059e+06,1410.55 1.31083e+06,1410.55 1.31107e+06,1410.55 1.31131e+06,1410.55 1.31155e+06,1410.55 1.31179e+06,1410.55 \n",
       "  1.31202e+06,1410.55 1.31226e+06,1410.55 1.3125e+06,1410.55 1.31274e+06,1410.55 1.31298e+06,1410.55 1.31322e+06,1410.55 1.31346e+06,1410.55 1.3137e+06,1410.55 1.31394e+06,1410.55 1.31418e+06,1410.55 \n",
       "  1.31441e+06,1410.55 1.31465e+06,1410.55 1.31489e+06,1410.55 1.31513e+06,1410.55 1.31537e+06,1410.55 1.31561e+06,1410.55 1.31585e+06,1410.55 1.31609e+06,1410.55 1.31633e+06,1410.55 1.31656e+06,1410.55 \n",
       "  1.3168e+06,1410.55 1.31704e+06,1410.55 1.31728e+06,1410.55 1.31752e+06,1410.55 1.31776e+06,1410.55 1.318e+06,1410.55 1.31824e+06,1410.55 1.31848e+06,1410.55 1.31872e+06,1410.55 1.31895e+06,1410.55 \n",
       "  1.31919e+06,1410.55 1.31943e+06,1410.55 1.31967e+06,1410.55 1.31991e+06,1410.55 1.32015e+06,1410.56 1.32039e+06,1410.56 1.32063e+06,1410.56 1.32087e+06,1410.56 1.3211e+06,1410.56 1.32134e+06,1410.56 \n",
       "  1.32158e+06,1410.56 1.32182e+06,1410.56 1.32206e+06,1410.56 1.3223e+06,1410.56 1.32254e+06,1410.56 1.32278e+06,1410.56 1.32302e+06,1410.56 1.32326e+06,1410.56 1.32349e+06,1410.56 1.32373e+06,1410.56 \n",
       "  1.32397e+06,1410.56 1.32421e+06,1410.56 1.32445e+06,1410.56 1.32469e+06,1410.56 1.32493e+06,1410.56 1.32517e+06,1410.56 1.32541e+06,1410.56 1.32564e+06,1410.56 1.32588e+06,1410.56 1.32612e+06,1410.56 \n",
       "  1.32636e+06,1410.56 1.3266e+06,1410.56 1.32684e+06,1410.56 1.32708e+06,1410.56 1.32732e+06,1410.56 1.32756e+06,1410.56 1.3278e+06,1410.56 1.32803e+06,1410.56 1.32827e+06,1410.56 1.32851e+06,1410.56 \n",
       "  1.32875e+06,1410.56 1.32899e+06,1410.56 1.32923e+06,1410.56 1.32947e+06,1410.56 1.32971e+06,1410.56 1.32995e+06,1410.56 1.33018e+06,1410.56 1.33042e+06,1410.56 1.33066e+06,1410.56 1.3309e+06,1410.56 \n",
       "  1.33114e+06,1410.56 1.33138e+06,1410.56 1.33162e+06,1410.56 1.33186e+06,1410.56 1.3321e+06,1410.56 1.33234e+06,1410.56 1.33257e+06,1410.56 1.33281e+06,1410.56 1.33305e+06,1410.56 1.33329e+06,1410.56 \n",
       "  1.33353e+06,1410.56 1.33377e+06,1410.56 1.33401e+06,1410.56 1.33425e+06,1410.57 1.33449e+06,1410.57 1.33472e+06,1410.57 1.33496e+06,1410.57 1.3352e+06,1410.57 1.33544e+06,1410.57 1.33568e+06,1410.57 \n",
       "  1.33592e+06,1410.57 1.33616e+06,1410.57 1.3364e+06,1410.57 1.33664e+06,1410.57 1.33688e+06,1410.57 1.33711e+06,1410.57 1.33735e+06,1410.57 1.33759e+06,1410.57 1.33783e+06,1410.57 1.33807e+06,1410.57 \n",
       "  1.33831e+06,1410.57 1.33855e+06,1410.57 1.33879e+06,1410.57 1.33903e+06,1410.57 1.33926e+06,1410.57 1.3395e+06,1410.57 1.33974e+06,1410.57 1.33998e+06,1410.57 1.34022e+06,1410.57 1.34046e+06,1410.57 \n",
       "  1.3407e+06,1410.57 1.34094e+06,1410.57 1.34118e+06,1410.57 1.34142e+06,1410.57 1.34165e+06,1410.57 1.34189e+06,1410.57 1.34213e+06,1410.57 1.34237e+06,1410.57 1.34261e+06,1410.57 1.34285e+06,1410.57 \n",
       "  1.34309e+06,1410.57 1.34333e+06,1410.57 1.34357e+06,1410.57 1.3438e+06,1410.57 1.34404e+06,1410.57 1.34428e+06,1410.57 1.34452e+06,1410.57 1.34476e+06,1410.57 1.345e+06,1410.57 1.34524e+06,1410.57 \n",
       "  1.34548e+06,1410.57 1.34572e+06,1410.57 1.34596e+06,1410.57 1.34619e+06,1410.57 1.34643e+06,1410.57 1.34667e+06,1410.57 1.34691e+06,1410.57 1.34715e+06,1410.57 1.34739e+06,1410.57 1.34763e+06,1410.57 \n",
       "  1.34787e+06,1410.57 1.34811e+06,1410.57 1.34834e+06,1410.57 1.34858e+06,1410.57 1.34882e+06,1410.58 1.34906e+06,1410.58 1.3493e+06,1410.58 1.34954e+06,1410.58 1.34978e+06,1410.58 1.35002e+06,1410.58 \n",
       "  1.35026e+06,1410.58 1.3505e+06,1410.58 1.35073e+06,1410.58 1.35097e+06,1410.58 1.35121e+06,1410.58 1.35145e+06,1410.58 1.35169e+06,1410.58 1.35193e+06,1410.58 1.35217e+06,1410.58 1.35241e+06,1410.58 \n",
       "  1.35265e+06,1410.58 1.35288e+06,1410.58 1.35312e+06,1410.58 1.35336e+06,1410.58 1.3536e+06,1410.58 1.35384e+06,1410.58 1.35408e+06,1410.58 1.35432e+06,1410.58 1.35456e+06,1410.58 1.3548e+06,1410.58 \n",
       "  1.35504e+06,1410.58 1.35527e+06,1410.58 1.35551e+06,1410.58 1.35575e+06,1410.58 1.35599e+06,1410.58 1.35623e+06,1410.58 1.35647e+06,1410.58 1.35671e+06,1410.58 1.35695e+06,1410.58 1.35719e+06,1410.58 \n",
       "  1.35742e+06,1410.58 1.35766e+06,1410.58 1.3579e+06,1410.58 1.35814e+06,1410.58 1.35838e+06,1410.58 1.35862e+06,1410.58 1.35886e+06,1410.58 1.3591e+06,1410.58 1.35934e+06,1410.58 1.35958e+06,1410.58 \n",
       "  1.35981e+06,1410.58 1.36005e+06,1410.58 1.36029e+06,1410.58 1.36053e+06,1410.58 1.36077e+06,1410.58 1.36101e+06,1410.58 1.36125e+06,1410.58 1.36149e+06,1410.58 1.36173e+06,1410.58 1.36196e+06,1410.58 \n",
       "  1.3622e+06,1410.58 1.36244e+06,1410.58 1.36268e+06,1410.58 1.36292e+06,1410.58 1.36316e+06,1410.58 1.3634e+06,1410.58 1.36364e+06,1410.59 1.36388e+06,1410.59 1.36412e+06,1410.59 1.36435e+06,1410.59 \n",
       "  1.36459e+06,1410.59 1.36483e+06,1410.59 1.36507e+06,1410.59 1.36531e+06,1410.59 1.36555e+06,1410.59 1.36579e+06,1410.59 1.36603e+06,1410.59 1.36627e+06,1410.59 1.3665e+06,1410.59 1.36674e+06,1410.59 \n",
       "  1.36698e+06,1410.59 1.36722e+06,1410.59 1.36746e+06,1410.59 1.3677e+06,1410.59 1.36794e+06,1410.59 1.36818e+06,1410.59 1.36842e+06,1410.59 1.36866e+06,1410.59 1.36889e+06,1410.59 1.36913e+06,1410.59 \n",
       "  1.36937e+06,1410.59 1.36961e+06,1410.59 1.36985e+06,1410.59 1.37009e+06,1410.59 1.37033e+06,1410.59 1.37057e+06,1410.59 1.37081e+06,1410.59 1.37104e+06,1410.59 1.37128e+06,1410.59 1.37152e+06,1410.59 \n",
       "  1.37176e+06,1410.59 1.372e+06,1410.59 1.37224e+06,1410.59 1.37248e+06,1410.59 1.37272e+06,1410.59 1.37296e+06,1410.59 1.3732e+06,1410.59 1.37343e+06,1410.59 1.37367e+06,1410.59 1.37391e+06,1410.59 \n",
       "  1.37415e+06,1410.59 1.37439e+06,1410.59 1.37463e+06,1410.59 1.37487e+06,1410.59 1.37511e+06,1410.59 1.37535e+06,1410.59 1.37558e+06,1410.59 1.37582e+06,1410.59 1.37606e+06,1410.59 1.3763e+06,1410.59 \n",
       "  1.37654e+06,1410.59 1.37678e+06,1410.59 1.37702e+06,1410.59 1.37726e+06,1410.59 1.3775e+06,1410.59 1.37774e+06,1410.59 1.37797e+06,1410.59 1.37821e+06,1410.59 1.37845e+06,1410.59 1.37869e+06,1410.6 \n",
       "  1.37893e+06,1410.6 1.37917e+06,1410.6 1.37941e+06,1410.6 1.37965e+06,1410.6 1.37989e+06,1410.6 1.38012e+06,1410.6 1.38036e+06,1410.6 1.3806e+06,1410.6 1.38084e+06,1410.6 1.38108e+06,1410.6 \n",
       "  1.38132e+06,1410.6 1.38156e+06,1410.6 1.3818e+06,1410.6 1.38204e+06,1410.6 1.38228e+06,1410.6 1.38251e+06,1410.6 1.38275e+06,1410.6 1.38299e+06,1410.6 1.38323e+06,1410.6 1.38347e+06,1410.6 \n",
       "  1.38371e+06,1410.6 1.38395e+06,1410.6 1.38419e+06,1410.6 1.38443e+06,1410.6 1.38466e+06,1410.6 1.3849e+06,1410.6 1.38514e+06,1410.6 1.38538e+06,1410.6 1.38562e+06,1410.6 1.38586e+06,1410.6 \n",
       "  1.3861e+06,1410.6 1.38634e+06,1410.6 1.38658e+06,1410.6 1.38682e+06,1410.6 1.38705e+06,1410.6 1.38729e+06,1410.6 1.38753e+06,1410.6 1.38777e+06,1410.6 1.38801e+06,1410.6 1.38825e+06,1410.6 \n",
       "  1.38849e+06,1410.6 1.38873e+06,1410.6 1.38897e+06,1410.6 1.3892e+06,1410.6 1.38944e+06,1410.6 1.38968e+06,1410.6 1.38992e+06,1410.6 1.39016e+06,1410.6 1.3904e+06,1410.6 1.39064e+06,1410.6 \n",
       "  1.39088e+06,1410.6 1.39112e+06,1410.6 1.39136e+06,1410.6 1.39159e+06,1410.6 1.39183e+06,1410.6 1.39207e+06,1410.6 1.39231e+06,1410.6 1.39255e+06,1410.6 1.39279e+06,1410.6 1.39303e+06,1410.6 \n",
       "  1.39327e+06,1410.6 1.39351e+06,1410.6 1.39374e+06,1410.6 1.39398e+06,1410.6 1.39422e+06,1410.61 1.39446e+06,1410.61 1.3947e+06,1410.61 1.39494e+06,1410.61 1.39518e+06,1410.61 1.39542e+06,1410.61 \n",
       "  1.39566e+06,1410.61 1.3959e+06,1410.61 1.39613e+06,1410.61 1.39637e+06,1410.61 1.39661e+06,1410.61 1.39685e+06,1410.61 1.39709e+06,1410.61 1.39733e+06,1410.61 1.39757e+06,1410.61 1.39781e+06,1410.61 \n",
       "  1.39805e+06,1410.61 1.39828e+06,1410.61 1.39852e+06,1410.61 1.39876e+06,1410.61 1.399e+06,1410.61 1.39924e+06,1410.61 1.39948e+06,1410.61 1.39972e+06,1410.61 1.39996e+06,1410.61 1.4002e+06,1410.61 \n",
       "  1.40044e+06,1410.61 1.40067e+06,1410.61 1.40091e+06,1410.61 1.40115e+06,1410.61 1.40139e+06,1410.61 1.40163e+06,1410.61 1.40187e+06,1410.61 1.40211e+06,1410.61 1.40235e+06,1410.61 1.40259e+06,1410.61 \n",
       "  1.40282e+06,1410.61 1.40306e+06,1410.61 1.4033e+06,1410.61 1.40354e+06,1410.61 1.40378e+06,1410.61 1.40402e+06,1410.61 1.40426e+06,1410.61 1.4045e+06,1410.61 1.40474e+06,1410.61 1.40498e+06,1410.61 \n",
       "  1.40521e+06,1410.61 1.40545e+06,1410.61 1.40569e+06,1410.61 1.40593e+06,1410.61 1.40617e+06,1410.61 1.40641e+06,1410.61 1.40665e+06,1410.61 1.40689e+06,1410.61 1.40713e+06,1410.61 1.40736e+06,1410.61 \n",
       "  1.4076e+06,1410.61 1.40784e+06,1410.61 1.40808e+06,1410.61 1.40832e+06,1410.61 1.40856e+06,1410.61 1.4088e+06,1410.61 1.40904e+06,1410.61 1.40928e+06,1410.61 1.40952e+06,1410.61 1.40975e+06,1410.61 \n",
       "  1.40999e+06,1410.61 1.41023e+06,1410.62 1.41047e+06,1410.62 1.41071e+06,1410.62 1.41095e+06,1410.62 1.41119e+06,1410.62 1.41143e+06,1410.62 1.41167e+06,1410.62 1.4119e+06,1410.62 1.41214e+06,1410.62 \n",
       "  1.41238e+06,1410.62 1.41262e+06,1410.62 1.41286e+06,1410.62 1.4131e+06,1410.62 1.41334e+06,1410.62 1.41358e+06,1410.62 1.41382e+06,1410.62 1.41406e+06,1410.62 1.41429e+06,1410.62 1.41453e+06,1410.62 \n",
       "  1.41477e+06,1410.62 1.41501e+06,1410.62 1.41525e+06,1410.62 1.41549e+06,1410.62 1.41573e+06,1410.62 1.41597e+06,1410.62 1.41621e+06,1410.62 1.41644e+06,1410.62 1.41668e+06,1410.62 1.41692e+06,1410.62 \n",
       "  1.41716e+06,1410.62 1.4174e+06,1410.62 1.41764e+06,1410.62 1.41788e+06,1410.62 1.41812e+06,1410.62 1.41836e+06,1410.62 1.4186e+06,1410.62 1.41883e+06,1410.62 1.41907e+06,1410.62 1.41931e+06,1410.62 \n",
       "  1.41955e+06,1410.62 1.41979e+06,1410.62 1.42003e+06,1410.62 1.42027e+06,1410.62 1.42051e+06,1410.62 1.42075e+06,1410.62 1.42098e+06,1410.62 1.42122e+06,1410.62 1.42146e+06,1410.62 1.4217e+06,1410.62 \n",
       "  1.42194e+06,1410.62 1.42218e+06,1410.62 1.42242e+06,1410.62 1.42266e+06,1410.62 1.4229e+06,1410.62 1.42314e+06,1410.62 1.42337e+06,1410.62 1.42361e+06,1410.62 1.42385e+06,1410.62 1.42409e+06,1410.62 \n",
       "  1.42433e+06,1410.62 1.42457e+06,1410.62 1.42481e+06,1410.62 1.42505e+06,1410.62 1.42529e+06,1410.62 1.42552e+06,1410.62 1.42576e+06,1410.62 1.426e+06,1410.62 1.42624e+06,1410.62 1.42648e+06,1410.63 \n",
       "  1.42672e+06,1410.63 1.42696e+06,1410.63 1.4272e+06,1410.63 1.42744e+06,1410.63 1.42768e+06,1410.63 1.42791e+06,1410.63 1.42815e+06,1410.63 1.42839e+06,1410.63 1.42863e+06,1410.63 1.42887e+06,1410.63 \n",
       "  1.42911e+06,1410.63 1.42935e+06,1410.63 1.42959e+06,1410.63 1.42983e+06,1410.63 1.43006e+06,1410.63 1.4303e+06,1410.63 1.43054e+06,1410.63 1.43078e+06,1410.63 1.43102e+06,1410.63 1.43126e+06,1410.63 \n",
       "  1.4315e+06,1410.63 1.43174e+06,1410.63 1.43198e+06,1410.63 1.43222e+06,1410.63 1.43245e+06,1410.63 1.43269e+06,1410.63 1.43293e+06,1410.63 1.43317e+06,1410.63 1.43341e+06,1410.63 1.43365e+06,1410.63 \n",
       "  1.43389e+06,1410.63 1.43413e+06,1410.63 1.43437e+06,1410.63 1.4346e+06,1410.63 1.43484e+06,1410.63 1.43508e+06,1410.63 1.43532e+06,1410.63 1.43556e+06,1410.63 1.4358e+06,1410.63 1.43604e+06,1410.63 \n",
       "  1.43628e+06,1410.63 1.43652e+06,1410.63 1.43676e+06,1410.63 1.43699e+06,1410.63 1.43723e+06,1410.63 1.43747e+06,1410.63 1.43771e+06,1410.63 1.43795e+06,1410.63 1.43819e+06,1410.63 1.43843e+06,1410.63 \n",
       "  1.43867e+06,1410.63 1.43891e+06,1410.63 1.43914e+06,1410.63 1.43938e+06,1410.63 1.43962e+06,1410.63 1.43986e+06,1410.63 1.4401e+06,1410.63 1.44034e+06,1410.63 1.44058e+06,1410.63 1.44082e+06,1410.63 \n",
       "  1.44106e+06,1410.63 1.4413e+06,1410.63 1.44153e+06,1410.63 1.44177e+06,1410.63 1.44201e+06,1410.63 1.44225e+06,1410.63 1.44249e+06,1410.63 1.44273e+06,1410.63 1.44297e+06,1410.64 1.44321e+06,1410.64 \n",
       "  1.44345e+06,1410.64 1.44368e+06,1410.64 1.44392e+06,1410.64 1.44416e+06,1410.64 1.4444e+06,1410.64 1.44464e+06,1410.64 1.44488e+06,1410.64 1.44512e+06,1410.64 1.44536e+06,1410.64 1.4456e+06,1410.64 \n",
       "  1.44584e+06,1410.64 1.44607e+06,1410.64 1.44631e+06,1410.64 1.44655e+06,1410.64 1.44679e+06,1410.64 1.44703e+06,1410.64 1.44727e+06,1410.64 1.44751e+06,1410.64 1.44775e+06,1410.64 1.44799e+06,1410.64 \n",
       "  1.44822e+06,1410.64 1.44846e+06,1410.64 1.4487e+06,1410.64 1.44894e+06,1410.64 1.44918e+06,1410.64 1.44942e+06,1410.64 1.44966e+06,1410.64 1.4499e+06,1410.64 1.45014e+06,1410.64 1.45038e+06,1410.64 \n",
       "  1.45061e+06,1410.64 1.45085e+06,1410.64 1.45109e+06,1410.64 1.45133e+06,1410.64 1.45157e+06,1410.64 1.45181e+06,1410.64 1.45205e+06,1410.64 1.45229e+06,1410.64 1.45253e+06,1410.64 1.45276e+06,1410.64 \n",
       "  1.453e+06,1410.64 1.45324e+06,1410.64 1.45348e+06,1410.64 1.45372e+06,1410.64 1.45396e+06,1410.64 1.4542e+06,1410.64 1.45444e+06,1410.64 1.45468e+06,1410.64 1.45492e+06,1410.64 1.45515e+06,1410.64 \n",
       "  1.45539e+06,1410.64 1.45563e+06,1410.64 1.45587e+06,1410.64 1.45611e+06,1410.64 1.45635e+06,1410.64 1.45659e+06,1410.64 1.45683e+06,1410.64 1.45707e+06,1410.64 1.4573e+06,1410.64 1.45754e+06,1410.64 \n",
       "  1.45778e+06,1410.64 1.45802e+06,1410.64 1.45826e+06,1410.64 1.4585e+06,1410.64 1.45874e+06,1410.64 1.45898e+06,1410.64 1.45922e+06,1410.64 1.45946e+06,1410.64 1.45969e+06,1410.64 1.45993e+06,1410.65 \n",
       "  1.46017e+06,1410.65 1.46041e+06,1410.65 1.46065e+06,1410.65 1.46089e+06,1410.65 1.46113e+06,1410.65 1.46137e+06,1410.65 1.46161e+06,1410.65 1.46184e+06,1410.65 1.46208e+06,1410.65 1.46232e+06,1410.65 \n",
       "  1.46256e+06,1410.65 1.4628e+06,1410.65 1.46304e+06,1410.65 1.46328e+06,1410.65 1.46352e+06,1410.65 1.46376e+06,1410.65 1.464e+06,1410.65 1.46423e+06,1410.65 1.46447e+06,1410.65 1.46471e+06,1410.65 \n",
       "  1.46495e+06,1410.65 1.46519e+06,1410.65 1.46543e+06,1410.65 1.46567e+06,1410.65 1.46591e+06,1410.65 1.46615e+06,1410.65 1.46638e+06,1410.65 1.46662e+06,1410.65 1.46686e+06,1410.65 1.4671e+06,1410.65 \n",
       "  1.46734e+06,1410.65 1.46758e+06,1410.65 1.46782e+06,1410.65 1.46806e+06,1410.65 1.4683e+06,1410.65 1.46854e+06,1410.65 1.46877e+06,1410.65 1.46901e+06,1410.65 1.46925e+06,1410.65 1.46949e+06,1410.65 \n",
       "  1.46973e+06,1410.65 1.46997e+06,1410.65 1.47021e+06,1410.65 1.47045e+06,1410.65 1.47069e+06,1410.65 1.47092e+06,1410.65 1.47116e+06,1410.65 1.4714e+06,1410.65 1.47164e+06,1410.65 1.47188e+06,1410.65 \n",
       "  1.47212e+06,1410.65 1.47236e+06,1410.65 1.4726e+06,1410.65 1.47284e+06,1410.65 1.47308e+06,1410.65 1.47331e+06,1410.65 1.47355e+06,1410.65 1.47379e+06,1410.65 1.47403e+06,1410.65 1.47427e+06,1410.65 \n",
       "  1.47451e+06,1410.65 1.47475e+06,1410.65 1.47499e+06,1410.65 1.47523e+06,1410.65 1.47546e+06,1410.65 1.4757e+06,1410.65 1.47594e+06,1410.65 1.47618e+06,1410.65 1.47642e+06,1410.65 1.47666e+06,1410.65 \n",
       "  1.4769e+06,1410.65 1.47714e+06,1410.65 1.47738e+06,1410.66 1.47762e+06,1410.66 1.47785e+06,1410.66 1.47809e+06,1410.66 1.47833e+06,1410.66 1.47857e+06,1410.66 1.47881e+06,1410.66 1.47905e+06,1410.66 \n",
       "  1.47929e+06,1410.66 1.47953e+06,1410.66 1.47977e+06,1410.66 1.48e+06,1410.66 1.48024e+06,1410.66 1.48048e+06,1410.66 1.48072e+06,1410.66 1.48096e+06,1410.66 1.4812e+06,1410.66 1.48144e+06,1410.66 \n",
       "  1.48168e+06,1410.66 1.48192e+06,1410.66 1.48216e+06,1410.66 1.48239e+06,1410.66 1.48263e+06,1410.66 1.48287e+06,1410.66 1.48311e+06,1410.66 1.48335e+06,1410.66 1.48359e+06,1410.66 1.48383e+06,1410.66 \n",
       "  1.48407e+06,1410.66 1.48431e+06,1410.66 1.48454e+06,1410.66 1.48478e+06,1410.66 1.48502e+06,1410.66 1.48526e+06,1410.66 1.4855e+06,1410.66 1.48574e+06,1410.66 1.48598e+06,1410.66 1.48622e+06,1410.66 \n",
       "  1.48646e+06,1410.66 1.4867e+06,1410.66 1.48693e+06,1410.66 1.48717e+06,1410.66 1.48741e+06,1410.66 1.48765e+06,1410.66 1.48789e+06,1410.66 1.48813e+06,1410.66 1.48837e+06,1410.66 1.48861e+06,1410.66 \n",
       "  1.48885e+06,1410.66 1.48908e+06,1410.66 1.48932e+06,1410.66 1.48956e+06,1410.66 1.4898e+06,1410.66 1.49004e+06,1410.66 1.49028e+06,1410.66 1.49052e+06,1410.66 1.49076e+06,1410.66 1.491e+06,1410.66 \n",
       "  1.49124e+06,1410.66 1.49147e+06,1410.66 1.49171e+06,1410.66 1.49195e+06,1410.66 1.49219e+06,1410.66 1.49243e+06,1410.66 1.49267e+06,1410.66 1.49291e+06,1410.66 1.49315e+06,1410.66 1.49339e+06,1410.66 \n",
       "  1.49362e+06,1410.66 1.49386e+06,1410.66 1.4941e+06,1410.66 1.49434e+06,1410.66 1.49458e+06,1410.66 1.49482e+06,1410.66 1.49506e+06,1410.67 1.4953e+06,1410.67 1.49554e+06,1410.67 1.49578e+06,1410.67 \n",
       "  1.49601e+06,1410.67 1.49625e+06,1410.67 1.49649e+06,1410.67 1.49673e+06,1410.67 1.49697e+06,1410.67 1.49721e+06,1410.67 1.49745e+06,1410.67 1.49769e+06,1410.67 1.49793e+06,1410.67 1.49816e+06,1410.67 \n",
       "  1.4984e+06,1410.67 1.49864e+06,1410.67 1.49888e+06,1410.67 1.49912e+06,1410.67 1.49936e+06,1410.67 1.4996e+06,1410.67 1.49984e+06,1410.67 1.50008e+06,1410.67 1.50032e+06,1410.67 1.50055e+06,1410.67 \n",
       "  1.50079e+06,1410.67 1.50103e+06,1410.67 1.50127e+06,1410.67 1.50151e+06,1410.67 1.50175e+06,1410.67 1.50199e+06,1410.67 1.50223e+06,1410.67 1.50247e+06,1410.67 1.5027e+06,1410.67 1.50294e+06,1410.67 \n",
       "  1.50318e+06,1410.67 1.50342e+06,1410.67 1.50366e+06,1410.67 1.5039e+06,1410.67 1.50414e+06,1410.67 1.50438e+06,1410.67 1.50462e+06,1410.67 1.50486e+06,1410.67 1.50509e+06,1410.67 1.50533e+06,1410.67 \n",
       "  1.50557e+06,1410.67 1.50581e+06,1410.67 1.50605e+06,1410.67 1.50629e+06,1410.67 1.50653e+06,1410.67 1.50677e+06,1410.67 1.50701e+06,1410.67 1.50724e+06,1410.67 1.50748e+06,1410.67 1.50772e+06,1410.67 \n",
       "  1.50796e+06,1410.67 1.5082e+06,1410.67 1.50844e+06,1410.67 1.50868e+06,1410.67 1.50892e+06,1410.67 1.50916e+06,1410.67 1.5094e+06,1410.67 1.50963e+06,1410.67 1.50987e+06,1410.67 1.51011e+06,1410.67 \n",
       "  1.51035e+06,1410.67 1.51059e+06,1410.67 1.51083e+06,1410.67 1.51107e+06,1410.67 1.51131e+06,1410.67 1.51155e+06,1410.67 1.51178e+06,1410.67 1.51202e+06,1410.67 1.51226e+06,1410.67 1.5125e+06,1410.67 \n",
       "  1.51274e+06,1410.67 1.51298e+06,1410.67 1.51322e+06,1410.67 1.51346e+06,1410.68 1.5137e+06,1410.68 1.51394e+06,1410.68 1.51417e+06,1410.68 1.51441e+06,1410.68 1.51465e+06,1410.68 1.51489e+06,1410.68 \n",
       "  1.51513e+06,1410.68 1.51537e+06,1410.68 1.51561e+06,1410.68 1.51585e+06,1410.68 1.51609e+06,1410.68 1.51632e+06,1410.68 1.51656e+06,1410.68 1.5168e+06,1410.68 1.51704e+06,1410.68 1.51728e+06,1410.68 \n",
       "  1.51752e+06,1410.68 1.51776e+06,1410.68 1.518e+06,1410.68 1.51824e+06,1410.68 1.51848e+06,1410.68 1.51871e+06,1410.68 1.51895e+06,1410.68 1.51919e+06,1410.68 1.51943e+06,1410.68 1.51967e+06,1410.68 \n",
       "  1.51991e+06,1410.68 1.52015e+06,1410.68 1.52039e+06,1410.68 1.52063e+06,1410.68 1.52086e+06,1410.68 1.5211e+06,1410.68 1.52134e+06,1410.68 1.52158e+06,1410.68 1.52182e+06,1410.68 1.52206e+06,1410.68 \n",
       "  1.5223e+06,1410.68 1.52254e+06,1410.68 1.52278e+06,1410.68 1.52302e+06,1410.68 1.52325e+06,1410.68 1.52349e+06,1410.68 1.52373e+06,1410.68 1.52397e+06,1410.68 1.52421e+06,1410.68 1.52445e+06,1410.68 \n",
       "  1.52469e+06,1410.68 1.52493e+06,1410.68 1.52517e+06,1410.68 1.5254e+06,1410.68 1.52564e+06,1410.68 1.52588e+06,1410.68 1.52612e+06,1410.68 1.52636e+06,1410.68 1.5266e+06,1410.68 1.52684e+06,1410.68 \n",
       "  1.52708e+06,1410.68 1.52732e+06,1410.68 1.52756e+06,1410.68 1.52779e+06,1410.68 1.52803e+06,1410.68 1.52827e+06,1410.68 1.52851e+06,1410.68 1.52875e+06,1410.68 1.52899e+06,1410.68 1.52923e+06,1410.68 \n",
       "  1.52947e+06,1410.68 1.52971e+06,1410.68 1.52994e+06,1410.68 1.53018e+06,1410.68 1.53042e+06,1410.68 1.53066e+06,1410.68 1.5309e+06,1410.68 1.53114e+06,1410.68 1.53138e+06,1410.68 1.53162e+06,1410.68 \n",
       "  1.53186e+06,1410.68 1.5321e+06,1410.69 1.53233e+06,1410.69 1.53257e+06,1410.69 1.53281e+06,1410.69 1.53305e+06,1410.69 1.53329e+06,1410.69 1.53353e+06,1410.69 1.53377e+06,1410.69 1.53401e+06,1410.69 \n",
       "  1.53425e+06,1410.69 1.53448e+06,1410.69 1.53472e+06,1410.69 1.53496e+06,1410.69 1.5352e+06,1410.69 1.53544e+06,1410.69 1.53568e+06,1410.69 1.53592e+06,1410.69 1.53616e+06,1410.69 1.5364e+06,1410.69 \n",
       "  1.53664e+06,1410.69 1.53687e+06,1410.69 1.53711e+06,1410.69 1.53735e+06,1410.69 1.53759e+06,1410.69 1.53783e+06,1410.69 1.53807e+06,1410.69 1.53831e+06,1410.69 1.53855e+06,1410.69 1.53879e+06,1410.69 \n",
       "  1.53902e+06,1410.69 1.53926e+06,1410.69 1.5395e+06,1410.69 1.53974e+06,1410.69 1.53998e+06,1410.69 1.54022e+06,1410.69 1.54046e+06,1410.69 1.5407e+06,1410.69 1.54094e+06,1410.69 1.54118e+06,1410.69 \n",
       "  1.54141e+06,1410.69 1.54165e+06,1410.69 1.54189e+06,1410.69 1.54213e+06,1410.69 1.54237e+06,1410.69 1.54261e+06,1410.69 1.54285e+06,1410.69 1.54309e+06,1410.69 1.54333e+06,1410.69 1.54356e+06,1410.69 \n",
       "  1.5438e+06,1410.69 1.54404e+06,1410.69 1.54428e+06,1410.69 1.54452e+06,1410.69 1.54476e+06,1410.69 1.545e+06,1410.69 1.54524e+06,1410.69 1.54548e+06,1410.69 1.54572e+06,1410.69 1.54595e+06,1410.69 \n",
       "  1.54619e+06,1410.69 1.54643e+06,1410.69 1.54667e+06,1410.69 1.54691e+06,1410.69 1.54715e+06,1410.69 1.54739e+06,1410.69 1.54763e+06,1410.69 1.54787e+06,1410.69 1.5481e+06,1410.69 1.54834e+06,1410.69 \n",
       "  1.54858e+06,1410.69 1.54882e+06,1410.69 1.54906e+06,1410.69 1.5493e+06,1410.69 1.54954e+06,1410.69 1.54978e+06,1410.69 1.55002e+06,1410.69 1.55026e+06,1410.69 1.55049e+06,1410.69 1.55073e+06,1410.69 \n",
       "  1.55097e+06,1410.69 1.55121e+06,1410.7 1.55145e+06,1410.7 1.55169e+06,1410.7 1.55193e+06,1410.7 1.55217e+06,1410.7 1.55241e+06,1410.7 1.55264e+06,1410.7 1.55288e+06,1410.7 1.55312e+06,1410.7 \n",
       "  1.55336e+06,1410.7 1.5536e+06,1410.7 1.55384e+06,1410.7 1.55408e+06,1410.7 1.55432e+06,1410.7 1.55456e+06,1410.7 1.5548e+06,1410.7 1.55503e+06,1410.7 1.55527e+06,1410.7 1.55551e+06,1410.7 \n",
       "  1.55575e+06,1410.7 1.55599e+06,1410.7 1.55623e+06,1410.7 1.55647e+06,1410.7 1.55671e+06,1410.7 1.55695e+06,1410.7 1.55718e+06,1410.7 1.55742e+06,1410.7 1.55766e+06,1410.7 1.5579e+06,1410.7 \n",
       "  1.55814e+06,1410.7 1.55838e+06,1410.7 1.55862e+06,1410.7 1.55886e+06,1410.7 1.5591e+06,1410.7 1.55934e+06,1410.7 1.55957e+06,1410.7 1.55981e+06,1410.7 1.56005e+06,1410.7 1.56029e+06,1410.7 \n",
       "  1.56053e+06,1410.7 1.56077e+06,1410.7 1.56101e+06,1410.7 1.56125e+06,1410.7 1.56149e+06,1410.7 1.56172e+06,1410.7 1.56196e+06,1410.7 1.5622e+06,1410.7 1.56244e+06,1410.7 1.56268e+06,1410.7 \n",
       "  1.56292e+06,1410.7 1.56316e+06,1410.7 1.5634e+06,1410.7 1.56364e+06,1410.7 1.56388e+06,1410.7 1.56411e+06,1410.7 1.56435e+06,1410.7 1.56459e+06,1410.7 1.56483e+06,1410.7 1.56507e+06,1410.7 \n",
       "  1.56531e+06,1410.7 1.56555e+06,1410.7 1.56579e+06,1410.7 1.56603e+06,1410.7 1.56626e+06,1410.7 1.5665e+06,1410.7 1.56674e+06,1410.7 1.56698e+06,1410.7 1.56722e+06,1410.7 1.56746e+06,1410.7 \n",
       "  1.5677e+06,1410.7 1.56794e+06,1410.7 1.56818e+06,1410.7 1.56842e+06,1410.7 1.56865e+06,1410.7 1.56889e+06,1410.7 1.56913e+06,1410.7 1.56937e+06,1410.7 1.56961e+06,1410.7 1.56985e+06,1410.7 \n",
       "  1.57009e+06,1410.7 1.57033e+06,1410.7 1.57057e+06,1410.7 1.5708e+06,1410.7 1.57104e+06,1410.71 1.57128e+06,1410.71 1.57152e+06,1410.71 1.57176e+06,1410.71 1.572e+06,1410.71 1.57224e+06,1410.71 \n",
       "  1.57248e+06,1410.71 1.57272e+06,1410.71 1.57296e+06,1410.71 1.57319e+06,1410.71 1.57343e+06,1410.71 1.57367e+06,1410.71 1.57391e+06,1410.71 1.57415e+06,1410.71 1.57439e+06,1410.71 1.57463e+06,1410.71 \n",
       "  1.57487e+06,1410.71 1.57511e+06,1410.71 1.57534e+06,1410.71 1.57558e+06,1410.71 1.57582e+06,1410.71 1.57606e+06,1410.71 1.5763e+06,1410.71 1.57654e+06,1410.71 1.57678e+06,1410.71 1.57702e+06,1410.71 \n",
       "  1.57726e+06,1410.71 1.5775e+06,1410.71 1.57773e+06,1410.71 1.57797e+06,1410.71 1.57821e+06,1410.71 1.57845e+06,1410.71 1.57869e+06,1410.71 1.57893e+06,1410.71 1.57917e+06,1410.71 1.57941e+06,1410.71 \n",
       "  1.57965e+06,1410.71 1.57988e+06,1410.71 1.58012e+06,1410.71 1.58036e+06,1410.71 1.5806e+06,1410.71 1.58084e+06,1410.71 1.58108e+06,1410.71 1.58132e+06,1410.71 1.58156e+06,1410.71 1.5818e+06,1410.71 \n",
       "  1.58204e+06,1410.71 1.58227e+06,1410.71 1.58251e+06,1410.71 1.58275e+06,1410.71 1.58299e+06,1410.71 1.58323e+06,1410.71 1.58347e+06,1410.71 1.58371e+06,1410.71 1.58395e+06,1410.71 1.58419e+06,1410.71 \n",
       "  1.58442e+06,1410.71 1.58466e+06,1410.71 1.5849e+06,1410.71 1.58514e+06,1410.71 1.58538e+06,1410.71 1.58562e+06,1410.71 1.58586e+06,1410.71 1.5861e+06,1410.71 1.58634e+06,1410.71 1.58658e+06,1410.71 \n",
       "  1.58681e+06,1410.71 1.58705e+06,1410.71 1.58729e+06,1410.71 1.58753e+06,1410.71 1.58777e+06,1410.71 1.58801e+06,1410.71 1.58825e+06,1410.71 1.58849e+06,1410.71 1.58873e+06,1410.71 1.58896e+06,1410.71 \n",
       "  1.5892e+06,1410.71 1.58944e+06,1410.71 1.58968e+06,1410.71 1.58992e+06,1410.71 1.59016e+06,1410.71 1.5904e+06,1410.71 1.59064e+06,1410.71 1.59088e+06,1410.71 1.59112e+06,1410.72 1.59135e+06,1410.72 \n",
       "  1.59159e+06,1410.72 1.59183e+06,1410.72 1.59207e+06,1410.72 1.59231e+06,1410.72 1.59255e+06,1410.72 1.59279e+06,1410.72 1.59303e+06,1410.72 1.59327e+06,1410.72 1.5935e+06,1410.72 1.59374e+06,1410.72 \n",
       "  1.59398e+06,1410.72 1.59422e+06,1410.72 1.59446e+06,1410.72 1.5947e+06,1410.72 1.59494e+06,1410.72 1.59518e+06,1410.72 1.59542e+06,1410.72 1.59566e+06,1410.72 1.59589e+06,1410.72 1.59613e+06,1410.72 \n",
       "  1.59637e+06,1410.72 1.59661e+06,1410.72 1.59685e+06,1410.72 1.59709e+06,1410.72 1.59733e+06,1410.72 1.59757e+06,1410.72 1.59781e+06,1410.72 1.59804e+06,1410.72 1.59828e+06,1410.72 1.59852e+06,1410.72 \n",
       "  1.59876e+06,1410.72 1.599e+06,1410.72 1.59924e+06,1410.72 1.59948e+06,1410.72 1.59972e+06,1410.72 1.59996e+06,1410.72 1.6002e+06,1410.72 1.60043e+06,1410.72 1.60067e+06,1410.72 1.60091e+06,1410.72 \n",
       "  1.60115e+06,1410.72 1.60139e+06,1410.72 1.60163e+06,1410.72 1.60187e+06,1410.72 1.60211e+06,1410.72 1.60235e+06,1410.72 1.60258e+06,1410.72 1.60282e+06,1410.72 1.60306e+06,1410.72 1.6033e+06,1410.72 \n",
       "  1.60354e+06,1410.72 1.60378e+06,1410.72 1.60402e+06,1410.72 1.60426e+06,1410.72 1.6045e+06,1410.72 1.60474e+06,1410.72 1.60497e+06,1410.72 1.60521e+06,1410.72 1.60545e+06,1410.72 1.60569e+06,1410.72 \n",
       "  1.60593e+06,1410.72 1.60617e+06,1410.72 1.60641e+06,1410.72 1.60665e+06,1410.72 1.60689e+06,1410.72 1.60712e+06,1410.72 1.60736e+06,1410.72 1.6076e+06,1410.72 1.60784e+06,1410.72 1.60808e+06,1410.72 \n",
       "  1.60832e+06,1410.72 1.60856e+06,1410.72 1.6088e+06,1410.72 1.60904e+06,1410.72 1.60928e+06,1410.72 1.60951e+06,1410.72 1.60975e+06,1410.72 1.60999e+06,1410.72 1.61023e+06,1410.72 1.61047e+06,1410.72 \n",
       "  1.61071e+06,1410.72 1.61095e+06,1410.72 1.61119e+06,1410.72 1.61143e+06,1410.72 1.61166e+06,1410.73 1.6119e+06,1410.73 1.61214e+06,1410.73 1.61238e+06,1410.73 1.61262e+06,1410.73 1.61286e+06,1410.73 \n",
       "  1.6131e+06,1410.73 1.61334e+06,1410.73 1.61358e+06,1410.73 1.61382e+06,1410.73 1.61405e+06,1410.73 1.61429e+06,1410.73 1.61453e+06,1410.73 1.61477e+06,1410.73 1.61501e+06,1410.73 1.61525e+06,1410.73 \n",
       "  1.61549e+06,1410.73 1.61573e+06,1410.73 1.61597e+06,1410.73 1.6162e+06,1410.73 1.61644e+06,1410.73 1.61668e+06,1410.73 1.61692e+06,1410.73 1.61716e+06,1410.73 1.6174e+06,1410.73 1.61764e+06,1410.73 \n",
       "  1.61788e+06,1410.73 1.61812e+06,1410.73 1.61836e+06,1410.73 1.61859e+06,1410.73 1.61883e+06,1410.73 1.61907e+06,1410.73 1.61931e+06,1410.73 1.61955e+06,1410.73 1.61979e+06,1410.73 1.62003e+06,1410.73 \n",
       "  1.62027e+06,1410.73 1.62051e+06,1410.73 1.62074e+06,1410.73 1.62098e+06,1410.73 1.62122e+06,1410.73 1.62146e+06,1410.73 1.6217e+06,1410.73 1.62194e+06,1410.73 1.62218e+06,1410.73 1.62242e+06,1410.73 \n",
       "  1.62266e+06,1410.73 1.6229e+06,1410.73 1.62313e+06,1410.73 1.62337e+06,1410.73 1.62361e+06,1410.73 1.62385e+06,1410.73 1.62409e+06,1410.73 1.62433e+06,1410.73 1.62457e+06,1410.73 1.62481e+06,1410.73 \n",
       "  1.62505e+06,1410.73 1.62528e+06,1410.73 1.62552e+06,1410.73 1.62576e+06,1410.73 1.626e+06,1410.73 1.62624e+06,1410.73 1.62648e+06,1410.73 1.62672e+06,1410.73 1.62696e+06,1410.73 1.6272e+06,1410.73 \n",
       "  1.62744e+06,1410.73 1.62767e+06,1410.73 1.62791e+06,1410.73 1.62815e+06,1410.73 1.62839e+06,1410.73 1.62863e+06,1410.73 1.62887e+06,1410.73 1.62911e+06,1410.73 1.62935e+06,1410.73 1.62959e+06,1410.73 \n",
       "  1.62982e+06,1410.73 1.63006e+06,1410.73 1.6303e+06,1410.73 1.63054e+06,1410.73 1.63078e+06,1410.73 1.63102e+06,1410.73 1.63126e+06,1410.73 1.6315e+06,1410.73 1.63174e+06,1410.73 1.63198e+06,1410.73 \n",
       "  1.63221e+06,1410.73 1.63245e+06,1410.73 1.63269e+06,1410.73 1.63293e+06,1410.74 1.63317e+06,1410.74 1.63341e+06,1410.74 1.63365e+06,1410.74 1.63389e+06,1410.74 1.63413e+06,1410.74 1.63436e+06,1410.74 \n",
       "  1.6346e+06,1410.74 1.63484e+06,1410.74 1.63508e+06,1410.74 1.63532e+06,1410.74 1.63556e+06,1410.74 1.6358e+06,1410.74 1.63604e+06,1410.74 1.63628e+06,1410.74 1.63652e+06,1410.74 1.63675e+06,1410.74 \n",
       "  1.63699e+06,1410.74 1.63723e+06,1410.74 1.63747e+06,1410.74 1.63771e+06,1410.74 1.63795e+06,1410.74 1.63819e+06,1410.74 1.63843e+06,1410.74 1.63867e+06,1410.74 1.6389e+06,1410.74 1.63914e+06,1410.74 \n",
       "  1.63938e+06,1410.74 1.63962e+06,1410.74 1.63986e+06,1410.74 1.6401e+06,1410.74 1.64034e+06,1410.74 1.64058e+06,1410.74 1.64082e+06,1410.74 1.64106e+06,1410.74 1.64129e+06,1410.74 1.64153e+06,1410.74 \n",
       "  1.64177e+06,1410.74 1.64201e+06,1410.74 1.64225e+06,1410.74 1.64249e+06,1410.74 1.64273e+06,1410.74 1.64297e+06,1410.74 1.64321e+06,1410.74 1.64344e+06,1410.74 1.64368e+06,1410.74 1.64392e+06,1410.74 \n",
       "  1.64416e+06,1410.74 1.6444e+06,1410.74 1.64464e+06,1410.74 1.64488e+06,1410.74 1.64512e+06,1410.74 1.64536e+06,1410.74 1.6456e+06,1410.74 1.64583e+06,1410.74 1.64607e+06,1410.74 1.64631e+06,1410.74 \n",
       "  1.64655e+06,1410.74 1.64679e+06,1410.74 1.64703e+06,1410.74 1.64727e+06,1410.74 1.64751e+06,1410.74 1.64775e+06,1410.74 1.64798e+06,1410.74 1.64822e+06,1410.74 1.64846e+06,1410.74 1.6487e+06,1410.74 \n",
       "  1.64894e+06,1410.74 1.64918e+06,1410.74 1.64942e+06,1410.74 1.64966e+06,1410.74 1.6499e+06,1410.74 1.65014e+06,1410.74 1.65037e+06,1410.74 1.65061e+06,1410.74 1.65085e+06,1410.74 1.65109e+06,1410.74 \n",
       "  1.65133e+06,1410.74 1.65157e+06,1410.74 1.65181e+06,1410.74 1.65205e+06,1410.74 1.65229e+06,1410.74 1.65252e+06,1410.74 1.65276e+06,1410.74 1.653e+06,1410.74 1.65324e+06,1410.74 1.65348e+06,1410.74 \n",
       "  1.65372e+06,1410.74 1.65396e+06,1410.74 1.6542e+06,1410.74 1.65444e+06,1410.74 1.65468e+06,1410.75 1.65491e+06,1410.75 1.65515e+06,1410.75 1.65539e+06,1410.75 1.65563e+06,1410.75 1.65587e+06,1410.75 \n",
       "  1.65611e+06,1410.75 1.65635e+06,1410.75 1.65659e+06,1410.75 1.65683e+06,1410.75 1.65706e+06,1410.75 1.6573e+06,1410.75 1.65754e+06,1410.75 1.65778e+06,1410.75 1.65802e+06,1410.75 1.65826e+06,1410.75 \n",
       "  1.6585e+06,1410.75 1.65874e+06,1410.75 1.65898e+06,1410.75 1.65922e+06,1410.75 1.65945e+06,1410.75 1.65969e+06,1410.75 1.65993e+06,1410.75 1.66017e+06,1410.75 1.66041e+06,1410.75 1.66065e+06,1410.75 \n",
       "  1.66089e+06,1410.75 1.66113e+06,1410.75 1.66137e+06,1410.75 1.6616e+06,1410.75 1.66184e+06,1410.75 1.66208e+06,1410.75 1.66232e+06,1410.75 1.66256e+06,1410.75 1.6628e+06,1410.75 1.66304e+06,1410.75 \n",
       "  1.66328e+06,1410.75 1.66352e+06,1410.75 1.66376e+06,1410.75 1.66399e+06,1410.75 1.66423e+06,1410.75 1.66447e+06,1410.75 1.66471e+06,1410.75 1.66495e+06,1410.75 1.66519e+06,1410.75 1.66543e+06,1410.75 \n",
       "  1.66567e+06,1410.75 1.66591e+06,1410.75 1.66614e+06,1410.75 1.66638e+06,1410.75 1.66662e+06,1410.75 1.66686e+06,1410.75 1.6671e+06,1410.75 1.66734e+06,1410.75 1.66758e+06,1410.75 1.66782e+06,1410.75 \n",
       "  1.66806e+06,1410.75 1.6683e+06,1410.75 1.66853e+06,1410.75 1.66877e+06,1410.75 1.66901e+06,1410.75 1.66925e+06,1410.75 1.66949e+06,1410.75 1.66973e+06,1410.75 1.66997e+06,1410.75 1.67021e+06,1410.75 \n",
       "  1.67045e+06,1410.75 1.67068e+06,1410.75 1.67092e+06,1410.75 1.67116e+06,1410.75 1.6714e+06,1410.75 1.67164e+06,1410.75 1.67188e+06,1410.75 1.67212e+06,1410.75 1.67236e+06,1410.75 1.6726e+06,1410.75 \n",
       "  1.67284e+06,1410.75 1.67307e+06,1410.75 1.67331e+06,1410.75 1.67355e+06,1410.75 1.67379e+06,1410.75 1.67403e+06,1410.75 1.67427e+06,1410.75 1.67451e+06,1410.75 1.67475e+06,1410.75 1.67499e+06,1410.75 \n",
       "  1.67522e+06,1410.75 1.67546e+06,1410.75 1.6757e+06,1410.75 1.67594e+06,1410.75 1.67618e+06,1410.75 1.67642e+06,1410.75 1.67666e+06,1410.75 1.6769e+06,1410.75 1.67714e+06,1410.76 1.67738e+06,1410.76 \n",
       "  1.67761e+06,1410.76 1.67785e+06,1410.76 1.67809e+06,1410.76 1.67833e+06,1410.76 1.67857e+06,1410.76 1.67881e+06,1410.76 1.67905e+06,1410.76 1.67929e+06,1410.76 1.67953e+06,1410.76 1.67976e+06,1410.76 \n",
       "  1.68e+06,1410.76 1.68024e+06,1410.76 1.68048e+06,1410.76 1.68072e+06,1410.76 1.68096e+06,1410.76 1.6812e+06,1410.76 1.68144e+06,1410.76 1.68168e+06,1410.76 1.68192e+06,1410.76 1.68215e+06,1410.76 \n",
       "  1.68239e+06,1410.76 1.68263e+06,1410.76 1.68287e+06,1410.76 1.68311e+06,1410.76 1.68335e+06,1410.76 1.68359e+06,1410.76 1.68383e+06,1410.76 1.68407e+06,1410.76 1.6843e+06,1410.76 1.68454e+06,1410.76 \n",
       "  1.68478e+06,1410.76 1.68502e+06,1410.76 1.68526e+06,1410.76 1.6855e+06,1410.76 1.68574e+06,1410.76 1.68598e+06,1410.76 1.68622e+06,1410.76 1.68646e+06,1410.76 1.68669e+06,1410.76 1.68693e+06,1410.76 \n",
       "  1.68717e+06,1410.76 1.68741e+06,1410.76 1.68765e+06,1410.76 1.68789e+06,1410.76 1.68813e+06,1410.76 1.68837e+06,1410.76 1.68861e+06,1410.76 1.68884e+06,1410.76 1.68908e+06,1410.76 1.68932e+06,1410.76 \n",
       "  1.68956e+06,1410.76 1.6898e+06,1410.76 1.69004e+06,1410.76 1.69028e+06,1410.76 1.69052e+06,1410.76 1.69076e+06,1410.76 1.691e+06,1410.76 1.69123e+06,1410.76 1.69147e+06,1410.76 1.69171e+06,1410.76 \n",
       "  1.69195e+06,1410.76 1.69219e+06,1410.76 1.69243e+06,1410.76 1.69267e+06,1410.76 1.69291e+06,1410.76 1.69315e+06,1410.76 1.69338e+06,1410.76 1.69362e+06,1410.76 1.69386e+06,1410.76 1.6941e+06,1410.76 \n",
       "  1.69434e+06,1410.76 1.69458e+06,1410.76 1.69482e+06,1410.76 1.69506e+06,1410.76 1.6953e+06,1410.76 1.69554e+06,1410.76 1.69577e+06,1410.76 1.69601e+06,1410.76 1.69625e+06,1410.76 1.69649e+06,1410.76 \n",
       "  1.69673e+06,1410.76 1.69697e+06,1410.76 1.69721e+06,1410.76 1.69745e+06,1410.76 1.69769e+06,1410.76 1.69792e+06,1410.76 1.69816e+06,1410.76 1.6984e+06,1410.76 1.69864e+06,1410.76 1.69888e+06,1410.76 \n",
       "  1.69912e+06,1410.76 1.69936e+06,1410.76 1.6996e+06,1410.76 1.69984e+06,1410.76 1.70008e+06,1410.77 1.70031e+06,1410.77 1.70055e+06,1410.77 1.70079e+06,1410.77 1.70103e+06,1410.77 1.70127e+06,1410.77 \n",
       "  1.70151e+06,1410.77 1.70175e+06,1410.77 1.70199e+06,1410.77 1.70223e+06,1410.77 1.70246e+06,1410.77 1.7027e+06,1410.77 1.70294e+06,1410.77 1.70318e+06,1410.77 1.70342e+06,1410.77 1.70366e+06,1410.77 \n",
       "  1.7039e+06,1410.77 1.70414e+06,1410.77 1.70438e+06,1410.77 1.70462e+06,1410.77 1.70485e+06,1410.77 1.70509e+06,1410.77 1.70533e+06,1410.77 1.70557e+06,1410.77 1.70581e+06,1410.77 1.70605e+06,1410.77 \n",
       "  1.70629e+06,1410.77 1.70653e+06,1410.77 1.70677e+06,1410.77 1.707e+06,1410.77 1.70724e+06,1410.77 1.70748e+06,1410.77 1.70772e+06,1410.77 1.70796e+06,1410.77 1.7082e+06,1410.77 1.70844e+06,1410.77 \n",
       "  1.70868e+06,1410.77 1.70892e+06,1410.77 1.70916e+06,1410.77 1.70939e+06,1410.77 1.70963e+06,1410.77 1.70987e+06,1410.77 1.71011e+06,1410.77 1.71035e+06,1410.77 1.71059e+06,1410.77 1.71083e+06,1410.77 \n",
       "  1.71107e+06,1410.77 1.71131e+06,1410.77 1.71154e+06,1410.77 1.71178e+06,1410.77 1.71202e+06,1410.77 1.71226e+06,1410.77 1.7125e+06,1410.77 1.71274e+06,1410.77 1.71298e+06,1410.77 1.71322e+06,1410.77 \n",
       "  1.71346e+06,1410.77 1.7137e+06,1410.77 1.71393e+06,1410.77 1.71417e+06,1410.77 1.71441e+06,1410.77 1.71465e+06,1410.77 1.71489e+06,1410.77 1.71513e+06,1410.77 1.71537e+06,1410.77 1.71561e+06,1410.77 \n",
       "  1.71585e+06,1410.77 1.71608e+06,1410.77 1.71632e+06,1410.77 1.71656e+06,1410.77 1.7168e+06,1410.77 1.71704e+06,1410.77 1.71728e+06,1410.77 1.71752e+06,1410.77 1.71776e+06,1410.77 1.718e+06,1410.77 \n",
       "  1.71824e+06,1410.77 1.71847e+06,1410.77 1.71871e+06,1410.77 1.71895e+06,1410.77 1.71919e+06,1410.77 1.71943e+06,1410.77 1.71967e+06,1410.77 1.71991e+06,1410.77 1.72015e+06,1410.77 1.72039e+06,1410.77 \n",
       "  1.72062e+06,1410.77 1.72086e+06,1410.77 1.7211e+06,1410.77 1.72134e+06,1410.77 1.72158e+06,1410.77 1.72182e+06,1410.77 1.72206e+06,1410.77 1.7223e+06,1410.77 1.72254e+06,1410.77 1.72278e+06,1410.77 \n",
       "  1.72301e+06,1410.77 1.72325e+06,1410.77 1.72349e+06,1410.77 1.72373e+06,1410.78 1.72397e+06,1410.78 1.72421e+06,1410.78 1.72445e+06,1410.78 1.72469e+06,1410.78 1.72493e+06,1410.78 1.72516e+06,1410.78 \n",
       "  1.7254e+06,1410.78 1.72564e+06,1410.78 1.72588e+06,1410.78 1.72612e+06,1410.78 1.72636e+06,1410.78 1.7266e+06,1410.78 1.72684e+06,1410.78 1.72708e+06,1410.78 1.72732e+06,1410.78 1.72755e+06,1410.78 \n",
       "  1.72779e+06,1410.78 1.72803e+06,1410.78 1.72827e+06,1410.78 1.72851e+06,1410.78 1.72875e+06,1410.78 1.72899e+06,1410.78 1.72923e+06,1410.78 1.72947e+06,1410.78 1.7297e+06,1410.78 1.72994e+06,1410.78 \n",
       "  1.73018e+06,1410.78 1.73042e+06,1410.78 1.73066e+06,1410.78 1.7309e+06,1410.78 1.73114e+06,1410.78 1.73138e+06,1410.78 1.73162e+06,1410.78 1.73186e+06,1410.78 1.73209e+06,1410.78 1.73233e+06,1410.78 \n",
       "  1.73257e+06,1410.78 1.73281e+06,1410.78 1.73305e+06,1410.78 1.73329e+06,1410.78 1.73353e+06,1410.78 1.73377e+06,1410.78 1.73401e+06,1410.78 1.73424e+06,1410.78 1.73448e+06,1410.78 1.73472e+06,1410.78 \n",
       "  1.73496e+06,1410.78 1.7352e+06,1410.78 1.73544e+06,1410.78 1.73568e+06,1410.78 1.73592e+06,1410.78 1.73616e+06,1410.78 1.7364e+06,1410.78 1.73663e+06,1410.78 1.73687e+06,1410.78 1.73711e+06,1410.78 \n",
       "  1.73735e+06,1410.78 1.73759e+06,1410.78 1.73783e+06,1410.78 1.73807e+06,1410.78 1.73831e+06,1410.78 1.73855e+06,1410.78 1.73878e+06,1410.78 1.73902e+06,1410.78 1.73926e+06,1410.78 1.7395e+06,1410.78 \n",
       "  1.73974e+06,1410.78 1.73998e+06,1410.78 1.74022e+06,1410.78 1.74046e+06,1410.78 1.7407e+06,1410.78 1.74094e+06,1410.78 1.74117e+06,1410.78 1.74141e+06,1410.78 1.74165e+06,1410.78 1.74189e+06,1410.78 \n",
       "  1.74213e+06,1410.78 1.74237e+06,1410.78 1.74261e+06,1410.78 1.74285e+06,1410.78 1.74309e+06,1410.78 1.74332e+06,1410.78 1.74356e+06,1410.78 1.7438e+06,1410.78 1.74404e+06,1410.78 1.74428e+06,1410.78 \n",
       "  1.74452e+06,1410.78 1.74476e+06,1410.78 1.745e+06,1410.78 1.74524e+06,1410.78 1.74548e+06,1410.78 1.74571e+06,1410.78 1.74595e+06,1410.78 1.74619e+06,1410.78 1.74643e+06,1410.78 1.74667e+06,1410.78 \n",
       "  1.74691e+06,1410.78 1.74715e+06,1410.78 1.74739e+06,1410.78 1.74763e+06,1410.78 1.74787e+06,1410.78 1.7481e+06,1410.79 1.74834e+06,1410.79 1.74858e+06,1410.79 1.74882e+06,1410.79 1.74906e+06,1410.79 \n",
       "  1.7493e+06,1410.79 1.74954e+06,1410.79 1.74978e+06,1410.79 1.75002e+06,1410.79 1.75025e+06,1410.79 1.75049e+06,1410.79 1.75073e+06,1410.79 1.75097e+06,1410.79 1.75121e+06,1410.79 1.75145e+06,1410.79 \n",
       "  1.75169e+06,1410.79 1.75193e+06,1410.79 1.75217e+06,1410.79 1.75241e+06,1410.79 1.75264e+06,1410.79 1.75288e+06,1410.79 1.75312e+06,1410.79 1.75336e+06,1410.79 1.7536e+06,1410.79 1.75384e+06,1410.79 \n",
       "  1.75408e+06,1410.79 1.75432e+06,1410.79 1.75456e+06,1410.79 1.75479e+06,1410.79 1.75503e+06,1410.79 1.75527e+06,1410.79 1.75551e+06,1410.79 1.75575e+06,1410.79 1.75599e+06,1410.79 1.75623e+06,1410.79 \n",
       "  1.75647e+06,1410.79 1.75671e+06,1410.79 1.75695e+06,1410.79 1.75718e+06,1410.79 1.75742e+06,1410.79 1.75766e+06,1410.79 1.7579e+06,1410.79 1.75814e+06,1410.79 1.75838e+06,1410.79 1.75862e+06,1410.79 \n",
       "  1.75886e+06,1410.79 1.7591e+06,1410.79 1.75933e+06,1410.79 1.75957e+06,1410.79 1.75981e+06,1410.79 1.76005e+06,1410.79 1.76029e+06,1410.79 1.76053e+06,1410.79 1.76077e+06,1410.79 1.76101e+06,1410.79 \n",
       "  1.76125e+06,1410.79 1.76149e+06,1410.79 1.76172e+06,1410.79 1.76196e+06,1410.79 1.7622e+06,1410.79 1.76244e+06,1410.79 1.76268e+06,1410.79 1.76292e+06,1410.79 1.76316e+06,1410.79 1.7634e+06,1410.79 \n",
       "  1.76364e+06,1410.79 1.76387e+06,1410.79 1.76411e+06,1410.79 1.76435e+06,1410.79 1.76459e+06,1410.79 1.76483e+06,1410.79 1.76507e+06,1410.79 1.76531e+06,1410.79 1.76555e+06,1410.79 1.76579e+06,1410.79 \n",
       "  1.76603e+06,1410.79 1.76626e+06,1410.79 1.7665e+06,1410.79 1.76674e+06,1410.79 1.76698e+06,1410.79 1.76722e+06,1410.79 1.76746e+06,1410.79 1.7677e+06,1410.79 1.76794e+06,1410.79 1.76818e+06,1410.79 \n",
       "  1.76841e+06,1410.79 1.76865e+06,1410.79 1.76889e+06,1410.79 1.76913e+06,1410.79 1.76937e+06,1410.79 1.76961e+06,1410.79 1.76985e+06,1410.79 1.77009e+06,1410.79 1.77033e+06,1410.79 1.77057e+06,1410.79 \n",
       "  1.7708e+06,1410.79 1.77104e+06,1410.79 1.77128e+06,1410.79 1.77152e+06,1410.79 1.77176e+06,1410.79 1.772e+06,1410.79 1.77224e+06,1410.79 1.77248e+06,1410.79 1.77272e+06,1410.79 1.77295e+06,1410.79 \n",
       "  1.77319e+06,1410.8 1.77343e+06,1410.8 1.77367e+06,1410.8 1.77391e+06,1410.8 1.77415e+06,1410.8 1.77439e+06,1410.8 1.77463e+06,1410.8 1.77487e+06,1410.8 1.77511e+06,1410.8 1.77534e+06,1410.8 \n",
       "  1.77558e+06,1410.8 1.77582e+06,1410.8 1.77606e+06,1410.8 1.7763e+06,1410.8 1.77654e+06,1410.8 1.77678e+06,1410.8 1.77702e+06,1410.8 1.77726e+06,1410.8 1.77749e+06,1410.8 1.77773e+06,1410.8 \n",
       "  1.77797e+06,1410.8 1.77821e+06,1410.8 1.77845e+06,1410.8 1.77869e+06,1410.8 1.77893e+06,1410.8 1.77917e+06,1410.8 1.77941e+06,1410.8 1.77965e+06,1410.8 1.77988e+06,1410.8 1.78012e+06,1410.8 \n",
       "  1.78036e+06,1410.8 1.7806e+06,1410.8 1.78084e+06,1410.8 1.78108e+06,1410.8 1.78132e+06,1410.8 1.78156e+06,1410.8 1.7818e+06,1410.8 1.78203e+06,1410.8 1.78227e+06,1410.8 1.78251e+06,1410.8 \n",
       "  1.78275e+06,1410.8 1.78299e+06,1410.8 1.78323e+06,1410.8 1.78347e+06,1410.8 1.78371e+06,1410.8 1.78395e+06,1410.8 1.78419e+06,1410.8 1.78442e+06,1410.8 1.78466e+06,1410.8 1.7849e+06,1410.8 \n",
       "  1.78514e+06,1410.8 1.78538e+06,1410.8 1.78562e+06,1410.8 1.78586e+06,1410.8 1.7861e+06,1410.8 1.78634e+06,1410.8 1.78657e+06,1410.8 1.78681e+06,1410.8 1.78705e+06,1410.8 1.78729e+06,1410.8 \n",
       "  1.78753e+06,1410.8 1.78777e+06,1410.8 1.78801e+06,1410.8 1.78825e+06,1410.8 1.78849e+06,1410.8 1.78873e+06,1410.8 1.78896e+06,1410.8 1.7892e+06,1410.8 1.78944e+06,1410.8 1.78968e+06,1410.8 \n",
       "  1.78992e+06,1410.8 1.79016e+06,1410.8 1.7904e+06,1410.8 1.79064e+06,1410.8 1.79088e+06,1410.8 1.79111e+06,1410.8 1.79135e+06,1410.8 1.79159e+06,1410.8 1.79183e+06,1410.8 1.79207e+06,1410.8 \n",
       "  1.79231e+06,1410.8 1.79255e+06,1410.8 1.79279e+06,1410.8 1.79303e+06,1410.8 1.79327e+06,1410.8 1.7935e+06,1410.8 1.79374e+06,1410.8 1.79398e+06,1410.8 1.79422e+06,1410.8 1.79446e+06,1410.8 \n",
       "  1.7947e+06,1410.8 1.79494e+06,1410.8 1.79518e+06,1410.8 1.79542e+06,1410.8 1.79565e+06,1410.8 1.79589e+06,1410.8 1.79613e+06,1410.8 1.79637e+06,1410.8 1.79661e+06,1410.8 1.79685e+06,1410.8 \n",
       "  1.79709e+06,1410.8 1.79733e+06,1410.8 1.79757e+06,1410.8 1.79781e+06,1410.8 1.79804e+06,1410.8 1.79828e+06,1410.8 1.79852e+06,1410.8 1.79876e+06,1410.81 1.799e+06,1410.81 1.79924e+06,1410.81 \n",
       "  1.79948e+06,1410.81 1.79972e+06,1410.81 1.79996e+06,1410.81 1.80019e+06,1410.81 1.80043e+06,1410.81 1.80067e+06,1410.81 1.80091e+06,1410.81 1.80115e+06,1410.81 1.80139e+06,1410.81 1.80163e+06,1410.81 \n",
       "  1.80187e+06,1410.81 1.80211e+06,1410.81 1.80235e+06,1410.81 1.80258e+06,1410.81 1.80282e+06,1410.81 1.80306e+06,1410.81 1.8033e+06,1410.81 1.80354e+06,1410.81 1.80378e+06,1410.81 1.80402e+06,1410.81 \n",
       "  1.80426e+06,1410.81 1.8045e+06,1410.81 1.80473e+06,1410.81 1.80497e+06,1410.81 1.80521e+06,1410.81 1.80545e+06,1410.81 1.80569e+06,1410.81 1.80593e+06,1410.81 1.80617e+06,1410.81 1.80641e+06,1410.81 \n",
       "  1.80665e+06,1410.81 1.80689e+06,1410.81 1.80712e+06,1410.81 1.80736e+06,1410.81 1.8076e+06,1410.81 1.80784e+06,1410.81 1.80808e+06,1410.81 1.80832e+06,1410.81 1.80856e+06,1410.81 1.8088e+06,1410.81 \n",
       "  1.80904e+06,1410.81 1.80927e+06,1410.81 1.80951e+06,1410.81 1.80975e+06,1410.81 1.80999e+06,1410.81 1.81023e+06,1410.81 1.81047e+06,1410.81 1.81071e+06,1410.81 1.81095e+06,1410.81 1.81119e+06,1410.81 \n",
       "  1.81143e+06,1410.81 1.81166e+06,1410.81 1.8119e+06,1410.81 1.81214e+06,1410.81 1.81238e+06,1410.81 1.81262e+06,1410.81 1.81286e+06,1410.81 1.8131e+06,1410.81 1.81334e+06,1410.81 1.81358e+06,1410.81 \n",
       "  1.81381e+06,1410.81 1.81405e+06,1410.81 1.81429e+06,1410.81 1.81453e+06,1410.81 1.81477e+06,1410.81 1.81501e+06,1410.81 1.81525e+06,1410.81 1.81549e+06,1410.81 1.81573e+06,1410.81 1.81597e+06,1410.81 \n",
       "  1.8162e+06,1410.81 1.81644e+06,1410.81 1.81668e+06,1410.81 1.81692e+06,1410.81 1.81716e+06,1410.81 1.8174e+06,1410.81 1.81764e+06,1410.81 1.81788e+06,1410.81 1.81812e+06,1410.81 1.81835e+06,1410.81 \n",
       "  1.81859e+06,1410.81 1.81883e+06,1410.81 1.81907e+06,1410.81 1.81931e+06,1410.81 1.81955e+06,1410.81 1.81979e+06,1410.81 1.82003e+06,1410.81 1.82027e+06,1410.81 1.82051e+06,1410.81 1.82074e+06,1410.81 \n",
       "  1.82098e+06,1410.81 1.82122e+06,1410.81 1.82146e+06,1410.81 1.8217e+06,1410.81 1.82194e+06,1410.81 1.82218e+06,1410.81 1.82242e+06,1410.81 1.82266e+06,1410.81 1.82289e+06,1410.81 1.82313e+06,1410.81 \n",
       "  1.82337e+06,1410.81 1.82361e+06,1410.81 1.82385e+06,1410.81 1.82409e+06,1410.81 1.82433e+06,1410.81 1.82457e+06,1410.81 1.82481e+06,1410.81 1.82505e+06,1410.81 1.82528e+06,1410.82 1.82552e+06,1410.82 \n",
       "  1.82576e+06,1410.82 1.826e+06,1410.82 1.82624e+06,1410.82 1.82648e+06,1410.82 1.82672e+06,1410.82 1.82696e+06,1410.82 1.8272e+06,1410.82 1.82743e+06,1410.82 1.82767e+06,1410.82 1.82791e+06,1410.82 \n",
       "  1.82815e+06,1410.82 1.82839e+06,1410.82 1.82863e+06,1410.82 1.82887e+06,1410.82 1.82911e+06,1410.82 1.82935e+06,1410.82 1.82959e+06,1410.82 1.82982e+06,1410.82 1.83006e+06,1410.82 1.8303e+06,1410.82 \n",
       "  1.83054e+06,1410.82 1.83078e+06,1410.82 1.83102e+06,1410.82 1.83126e+06,1410.82 1.8315e+06,1410.82 1.83174e+06,1410.82 1.83197e+06,1410.82 1.83221e+06,1410.82 1.83245e+06,1410.82 1.83269e+06,1410.82 \n",
       "  1.83293e+06,1410.82 1.83317e+06,1410.82 1.83341e+06,1410.82 1.83365e+06,1410.82 1.83389e+06,1410.82 1.83413e+06,1410.82 1.83436e+06,1410.82 1.8346e+06,1410.82 1.83484e+06,1410.82 1.83508e+06,1410.82 \n",
       "  1.83532e+06,1410.82 1.83556e+06,1410.82 1.8358e+06,1410.82 1.83604e+06,1410.82 1.83628e+06,1410.82 1.83651e+06,1410.82 1.83675e+06,1410.82 1.83699e+06,1410.82 1.83723e+06,1410.82 1.83747e+06,1410.82 \n",
       "  1.83771e+06,1410.82 1.83795e+06,1410.82 1.83819e+06,1410.82 1.83843e+06,1410.82 1.83867e+06,1410.82 1.8389e+06,1410.82 1.83914e+06,1410.82 1.83938e+06,1410.82 1.83962e+06,1410.82 1.83986e+06,1410.82 \n",
       "  1.8401e+06,1410.82 1.84034e+06,1410.82 1.84058e+06,1410.82 1.84082e+06,1410.82 1.84105e+06,1410.82 1.84129e+06,1410.82 1.84153e+06,1410.82 1.84177e+06,1410.82 1.84201e+06,1410.82 1.84225e+06,1410.82 \n",
       "  1.84249e+06,1410.82 1.84273e+06,1410.82 1.84297e+06,1410.82 1.84321e+06,1410.82 1.84344e+06,1410.82 1.84368e+06,1410.82 1.84392e+06,1410.82 1.84416e+06,1410.82 1.8444e+06,1410.82 1.84464e+06,1410.82 \n",
       "  1.84488e+06,1410.82 1.84512e+06,1410.82 1.84536e+06,1410.82 1.84559e+06,1410.82 1.84583e+06,1410.82 1.84607e+06,1410.82 1.84631e+06,1410.82 1.84655e+06,1410.82 1.84679e+06,1410.82 1.84703e+06,1410.82 \n",
       "  1.84727e+06,1410.82 1.84751e+06,1410.82 1.84775e+06,1410.82 1.84798e+06,1410.82 1.84822e+06,1410.82 1.84846e+06,1410.82 1.8487e+06,1410.82 1.84894e+06,1410.82 1.84918e+06,1410.82 1.84942e+06,1410.82 \n",
       "  1.84966e+06,1410.82 1.8499e+06,1410.82 1.85013e+06,1410.82 1.85037e+06,1410.82 1.85061e+06,1410.82 1.85085e+06,1410.82 1.85109e+06,1410.82 1.85133e+06,1410.82 1.85157e+06,1410.82 1.85181e+06,1410.82 \n",
       "  1.85205e+06,1410.82 1.85229e+06,1410.82 1.85252e+06,1410.83 1.85276e+06,1410.83 1.853e+06,1410.83 1.85324e+06,1410.83 1.85348e+06,1410.83 1.85372e+06,1410.83 1.85396e+06,1410.83 1.8542e+06,1410.83 \n",
       "  1.85444e+06,1410.83 1.85467e+06,1410.83 1.85491e+06,1410.83 1.85515e+06,1410.83 1.85539e+06,1410.83 1.85563e+06,1410.83 1.85587e+06,1410.83 1.85611e+06,1410.83 1.85635e+06,1410.83 1.85659e+06,1410.83 \n",
       "  1.85683e+06,1410.83 1.85706e+06,1410.83 1.8573e+06,1410.83 1.85754e+06,1410.83 1.85778e+06,1410.83 1.85802e+06,1410.83 1.85826e+06,1410.83 1.8585e+06,1410.83 1.85874e+06,1410.83 1.85898e+06,1410.83 \n",
       "  1.85921e+06,1410.83 1.85945e+06,1410.83 1.85969e+06,1410.83 1.85993e+06,1410.83 1.86017e+06,1410.83 1.86041e+06,1410.83 1.86065e+06,1410.83 1.86089e+06,1410.83 1.86113e+06,1410.83 1.86137e+06,1410.83 \n",
       "  1.8616e+06,1410.83 1.86184e+06,1410.83 1.86208e+06,1410.83 1.86232e+06,1410.83 1.86256e+06,1410.83 1.8628e+06,1410.83 1.86304e+06,1410.83 1.86328e+06,1410.83 1.86352e+06,1410.83 1.86375e+06,1410.83 \n",
       "  1.86399e+06,1410.83 1.86423e+06,1410.83 1.86447e+06,1410.83 1.86471e+06,1410.83 1.86495e+06,1410.83 1.86519e+06,1410.83 1.86543e+06,1410.83 1.86567e+06,1410.83 1.86591e+06,1410.83 1.86614e+06,1410.83 \n",
       "  1.86638e+06,1410.83 1.86662e+06,1410.83 1.86686e+06,1410.83 1.8671e+06,1410.83 1.86734e+06,1410.83 1.86758e+06,1410.83 1.86782e+06,1410.83 1.86806e+06,1410.83 1.86829e+06,1410.83 1.86853e+06,1410.83 \n",
       "  1.86877e+06,1410.83 1.86901e+06,1410.83 1.86925e+06,1410.83 1.86949e+06,1410.83 1.86973e+06,1410.83 1.86997e+06,1410.83 1.87021e+06,1410.83 1.87045e+06,1410.83 1.87068e+06,1410.83 1.87092e+06,1410.83 \n",
       "  1.87116e+06,1410.83 1.8714e+06,1410.83 1.87164e+06,1410.83 1.87188e+06,1410.83 1.87212e+06,1410.83 1.87236e+06,1410.83 1.8726e+06,1410.83 1.87283e+06,1410.83 1.87307e+06,1410.83 1.87331e+06,1410.83 \n",
       "  1.87355e+06,1410.83 1.87379e+06,1410.83 1.87403e+06,1410.83 1.87427e+06,1410.83 1.87451e+06,1410.83 1.87475e+06,1410.83 1.87499e+06,1410.83 1.87522e+06,1410.83 1.87546e+06,1410.83 1.8757e+06,1410.83 \n",
       "  1.87594e+06,1410.83 1.87618e+06,1410.83 1.87642e+06,1410.83 1.87666e+06,1410.83 1.8769e+06,1410.83 1.87714e+06,1410.83 1.87737e+06,1410.83 1.87761e+06,1410.83 1.87785e+06,1410.83 1.87809e+06,1410.83 \n",
       "  1.87833e+06,1410.83 1.87857e+06,1410.83 1.87881e+06,1410.83 1.87905e+06,1410.83 1.87929e+06,1410.83 1.87953e+06,1410.83 1.87976e+06,1410.83 1.88e+06,1410.83 1.88024e+06,1410.83 1.88048e+06,1410.83 \n",
       "  1.88072e+06,1410.84 1.88096e+06,1410.84 1.8812e+06,1410.84 1.88144e+06,1410.84 1.88168e+06,1410.84 1.88191e+06,1410.84 1.88215e+06,1410.84 1.88239e+06,1410.84 1.88263e+06,1410.84 1.88287e+06,1410.84 \n",
       "  1.88311e+06,1410.84 1.88335e+06,1410.84 1.88359e+06,1410.84 1.88383e+06,1410.84 1.88407e+06,1410.84 1.8843e+06,1410.84 1.88454e+06,1410.84 1.88478e+06,1410.84 1.88502e+06,1410.84 1.88526e+06,1410.84 \n",
       "  1.8855e+06,1410.84 1.88574e+06,1410.84 1.88598e+06,1410.84 1.88622e+06,1410.84 1.88645e+06,1410.84 1.88669e+06,1410.84 1.88693e+06,1410.84 1.88717e+06,1410.84 1.88741e+06,1410.84 1.88765e+06,1410.84 \n",
       "  1.88789e+06,1410.84 1.88813e+06,1410.84 1.88837e+06,1410.84 1.88861e+06,1410.84 1.88884e+06,1410.84 1.88908e+06,1410.84 1.88932e+06,1410.84 1.88956e+06,1410.84 1.8898e+06,1410.84 1.89004e+06,1410.84 \n",
       "  1.89028e+06,1410.84 1.89052e+06,1410.84 1.89076e+06,1410.84 1.89099e+06,1410.84 1.89123e+06,1410.84 1.89147e+06,1410.84 1.89171e+06,1410.84 1.89195e+06,1410.84 1.89219e+06,1410.84 1.89243e+06,1410.84 \n",
       "  1.89267e+06,1410.84 1.89291e+06,1410.84 1.89315e+06,1410.84 1.89338e+06,1410.84 1.89362e+06,1410.84 1.89386e+06,1410.84 1.8941e+06,1410.84 1.89434e+06,1410.84 1.89458e+06,1410.84 1.89482e+06,1410.84 \n",
       "  1.89506e+06,1410.84 1.8953e+06,1410.84 1.89553e+06,1410.84 1.89577e+06,1410.84 1.89601e+06,1410.84 1.89625e+06,1410.84 1.89649e+06,1410.84 1.89673e+06,1410.84 1.89697e+06,1410.84 1.89721e+06,1410.84 \n",
       "  1.89745e+06,1410.84 1.89769e+06,1410.84 1.89792e+06,1410.84 1.89816e+06,1410.84 1.8984e+06,1410.84 1.89864e+06,1410.84 1.89888e+06,1410.84 1.89912e+06,1410.84 1.89936e+06,1410.84 1.8996e+06,1410.84 \n",
       "  1.89984e+06,1410.84 1.90007e+06,1410.84 1.90031e+06,1410.84 1.90055e+06,1410.84 1.90079e+06,1410.84 1.90103e+06,1410.84 1.90127e+06,1410.84 1.90151e+06,1410.84 1.90175e+06,1410.84 1.90199e+06,1410.84 \n",
       "  1.90223e+06,1410.84 1.90246e+06,1410.84 1.9027e+06,1410.84 1.90294e+06,1410.84 1.90318e+06,1410.84 1.90342e+06,1410.84 1.90366e+06,1410.84 1.9039e+06,1410.84 1.90414e+06,1410.84 1.90438e+06,1410.84 \n",
       "  1.90461e+06,1410.84 1.90485e+06,1410.84 1.90509e+06,1410.84 1.90533e+06,1410.84 1.90557e+06,1410.84 1.90581e+06,1410.84 1.90605e+06,1410.84 1.90629e+06,1410.84 1.90653e+06,1410.84 1.90677e+06,1410.84 \n",
       "  1.907e+06,1410.84 1.90724e+06,1410.84 1.90748e+06,1410.84 1.90772e+06,1410.84 1.90796e+06,1410.84 1.9082e+06,1410.84 1.90844e+06,1410.84 1.90868e+06,1410.84 1.90892e+06,1410.84 1.90915e+06,1410.84 \n",
       "  1.90939e+06,1410.84 1.90963e+06,1410.85 1.90987e+06,1410.85 1.91011e+06,1410.85 1.91035e+06,1410.85 1.91059e+06,1410.85 1.91083e+06,1410.85 1.91107e+06,1410.85 1.91131e+06,1410.85 1.91154e+06,1410.85 \n",
       "  1.91178e+06,1410.85 1.91202e+06,1410.85 1.91226e+06,1410.85 1.9125e+06,1410.85 1.91274e+06,1410.85 1.91298e+06,1410.85 1.91322e+06,1410.85 1.91346e+06,1410.85 1.91369e+06,1410.85 1.91393e+06,1410.85 \n",
       "  1.91417e+06,1410.85 1.91441e+06,1410.85 1.91465e+06,1410.85 1.91489e+06,1410.85 1.91513e+06,1410.85 1.91537e+06,1410.85 1.91561e+06,1410.85 1.91585e+06,1410.85 1.91608e+06,1410.85 1.91632e+06,1410.85 \n",
       "  1.91656e+06,1410.85 1.9168e+06,1410.85 1.91704e+06,1410.85 1.91728e+06,1410.85 1.91752e+06,1410.85 1.91776e+06,1410.85 1.918e+06,1410.85 1.91823e+06,1410.85 1.91847e+06,1410.85 1.91871e+06,1410.85 \n",
       "  1.91895e+06,1410.85 1.91919e+06,1410.85 1.91943e+06,1410.85 1.91967e+06,1410.85 1.91991e+06,1410.85 1.92015e+06,1410.85 1.92039e+06,1410.85 1.92062e+06,1410.85 1.92086e+06,1410.85 1.9211e+06,1410.85 \n",
       "  1.92134e+06,1410.85 1.92158e+06,1410.85 1.92182e+06,1410.85 1.92206e+06,1410.85 1.9223e+06,1410.85 1.92254e+06,1410.85 1.92277e+06,1410.85 1.92301e+06,1410.85 1.92325e+06,1410.85 1.92349e+06,1410.85 \n",
       "  1.92373e+06,1410.85 1.92397e+06,1410.85 1.92421e+06,1410.85 1.92445e+06,1410.85 1.92469e+06,1410.85 1.92493e+06,1410.85 1.92516e+06,1410.85 1.9254e+06,1410.85 1.92564e+06,1410.85 1.92588e+06,1410.85 \n",
       "  1.92612e+06,1410.85 1.92636e+06,1410.85 1.9266e+06,1410.85 1.92684e+06,1410.85 1.92708e+06,1410.85 1.92731e+06,1410.85 1.92755e+06,1410.85 1.92779e+06,1410.85 1.92803e+06,1410.85 1.92827e+06,1410.85 \n",
       "  1.92851e+06,1410.85 1.92875e+06,1410.85 1.92899e+06,1410.85 1.92923e+06,1410.85 1.92947e+06,1410.85 1.9297e+06,1410.85 1.92994e+06,1410.85 1.93018e+06,1410.85 1.93042e+06,1410.85 1.93066e+06,1410.85 \n",
       "  1.9309e+06,1410.85 1.93114e+06,1410.85 1.93138e+06,1410.85 1.93162e+06,1410.85 1.93185e+06,1410.85 1.93209e+06,1410.85 1.93233e+06,1410.85 1.93257e+06,1410.85 1.93281e+06,1410.85 1.93305e+06,1410.85 \n",
       "  1.93329e+06,1410.85 1.93353e+06,1410.85 1.93377e+06,1410.85 1.93401e+06,1410.85 1.93424e+06,1410.85 1.93448e+06,1410.85 1.93472e+06,1410.85 1.93496e+06,1410.85 1.9352e+06,1410.85 1.93544e+06,1410.85 \n",
       "  1.93568e+06,1410.85 1.93592e+06,1410.85 1.93616e+06,1410.85 1.93639e+06,1410.85 1.93663e+06,1410.85 1.93687e+06,1410.85 1.93711e+06,1410.85 1.93735e+06,1410.85 1.93759e+06,1410.85 1.93783e+06,1410.85 \n",
       "  1.93807e+06,1410.85 1.93831e+06,1410.85 1.93855e+06,1410.85 1.93878e+06,1410.85 1.93902e+06,1410.85 1.93926e+06,1410.85 1.9395e+06,1410.86 1.93974e+06,1410.86 1.93998e+06,1410.86 1.94022e+06,1410.86 \n",
       "  1.94046e+06,1410.86 1.9407e+06,1410.86 1.94093e+06,1410.86 1.94117e+06,1410.86 1.94141e+06,1410.86 1.94165e+06,1410.86 1.94189e+06,1410.86 1.94213e+06,1410.86 1.94237e+06,1410.86 1.94261e+06,1410.86 \n",
       "  1.94285e+06,1410.86 1.94309e+06,1410.86 1.94332e+06,1410.86 1.94356e+06,1410.86 1.9438e+06,1410.86 1.94404e+06,1410.86 1.94428e+06,1410.86 1.94452e+06,1410.86 1.94476e+06,1410.86 1.945e+06,1410.86 \n",
       "  1.94524e+06,1410.86 1.94547e+06,1410.86 1.94571e+06,1410.86 1.94595e+06,1410.86 1.94619e+06,1410.86 1.94643e+06,1410.86 1.94667e+06,1410.86 1.94691e+06,1410.86 1.94715e+06,1410.86 1.94739e+06,1410.86 \n",
       "  1.94763e+06,1410.86 1.94786e+06,1410.86 1.9481e+06,1410.86 1.94834e+06,1410.86 1.94858e+06,1410.86 1.94882e+06,1410.86 1.94906e+06,1410.86 1.9493e+06,1410.86 1.94954e+06,1410.86 1.94978e+06,1410.86 \n",
       "  1.95001e+06,1410.86 1.95025e+06,1410.86 1.95049e+06,1410.86 1.95073e+06,1410.86 1.95097e+06,1410.86 1.95121e+06,1410.86 1.95145e+06,1410.86 1.95169e+06,1410.86 1.95193e+06,1410.86 1.95217e+06,1410.86 \n",
       "  1.9524e+06,1410.86 1.95264e+06,1410.86 1.95288e+06,1410.86 1.95312e+06,1410.86 1.95336e+06,1410.86 1.9536e+06,1410.86 1.95384e+06,1410.86 1.95408e+06,1410.86 1.95432e+06,1410.86 1.95455e+06,1410.86 \n",
       "  1.95479e+06,1410.86 1.95503e+06,1410.86 1.95527e+06,1410.86 1.95551e+06,1410.86 1.95575e+06,1410.86 1.95599e+06,1410.86 1.95623e+06,1410.86 1.95647e+06,1410.86 1.95671e+06,1410.86 1.95694e+06,1410.86 \n",
       "  1.95718e+06,1410.86 1.95742e+06,1410.86 1.95766e+06,1410.86 1.9579e+06,1410.86 1.95814e+06,1410.86 1.95838e+06,1410.86 1.95862e+06,1410.86 1.95886e+06,1410.86 1.95909e+06,1410.86 1.95933e+06,1410.86 \n",
       "  1.95957e+06,1410.86 1.95981e+06,1410.86 1.96005e+06,1410.86 1.96029e+06,1410.86 1.96053e+06,1410.86 1.96077e+06,1410.86 1.96101e+06,1410.86 1.96125e+06,1410.86 1.96148e+06,1410.86 1.96172e+06,1410.86 \n",
       "  1.96196e+06,1410.86 1.9622e+06,1410.86 1.96244e+06,1410.86 1.96268e+06,1410.86 1.96292e+06,1410.86 1.96316e+06,1410.86 1.9634e+06,1410.86 1.96363e+06,1410.86 1.96387e+06,1410.86 1.96411e+06,1410.86 \n",
       "  1.96435e+06,1410.86 1.96459e+06,1410.86 1.96483e+06,1410.86 1.96507e+06,1410.86 1.96531e+06,1410.86 1.96555e+06,1410.86 1.96579e+06,1410.86 1.96602e+06,1410.86 1.96626e+06,1410.86 1.9665e+06,1410.86 \n",
       "  1.96674e+06,1410.86 1.96698e+06,1410.86 1.96722e+06,1410.86 1.96746e+06,1410.86 1.9677e+06,1410.86 1.96794e+06,1410.86 1.96817e+06,1410.86 1.96841e+06,1410.86 1.96865e+06,1410.86 1.96889e+06,1410.86 \n",
       "  1.96913e+06,1410.86 1.96937e+06,1410.86 1.96961e+06,1410.86 1.96985e+06,1410.86 1.97009e+06,1410.86 1.97033e+06,1410.87 1.97056e+06,1410.87 1.9708e+06,1410.87 1.97104e+06,1410.87 1.97128e+06,1410.87 \n",
       "  1.97152e+06,1410.87 1.97176e+06,1410.87 1.972e+06,1410.87 1.97224e+06,1410.87 1.97248e+06,1410.87 1.97271e+06,1410.87 1.97295e+06,1410.87 1.97319e+06,1410.87 1.97343e+06,1410.87 1.97367e+06,1410.87 \n",
       "  1.97391e+06,1410.87 1.97415e+06,1410.87 1.97439e+06,1410.87 1.97463e+06,1410.87 1.97487e+06,1410.87 1.9751e+06,1410.87 1.97534e+06,1410.87 1.97558e+06,1410.87 1.97582e+06,1410.87 1.97606e+06,1410.87 \n",
       "  1.9763e+06,1410.87 1.97654e+06,1410.87 1.97678e+06,1410.87 1.97702e+06,1410.87 1.97725e+06,1410.87 1.97749e+06,1410.87 1.97773e+06,1410.87 1.97797e+06,1410.87 1.97821e+06,1410.87 1.97845e+06,1410.87 \n",
       "  1.97869e+06,1410.87 1.97893e+06,1410.87 1.97917e+06,1410.87 1.97941e+06,1410.87 1.97964e+06,1410.87 1.97988e+06,1410.87 1.98012e+06,1410.87 1.98036e+06,1410.87 1.9806e+06,1410.87 1.98084e+06,1410.87 \n",
       "  1.98108e+06,1410.87 1.98132e+06,1410.87 1.98156e+06,1410.87 1.98179e+06,1410.87 1.98203e+06,1410.87 1.98227e+06,1410.87 1.98251e+06,1410.87 1.98275e+06,1410.87 1.98299e+06,1410.87 1.98323e+06,1410.87 \n",
       "  1.98347e+06,1410.87 1.98371e+06,1410.87 1.98395e+06,1410.87 1.98418e+06,1410.87 1.98442e+06,1410.87 1.98466e+06,1410.87 1.9849e+06,1410.87 1.98514e+06,1410.87 1.98538e+06,1410.87 1.98562e+06,1410.87 \n",
       "  1.98586e+06,1410.87 1.9861e+06,1410.87 1.98633e+06,1410.87 1.98657e+06,1410.87 1.98681e+06,1410.87 1.98705e+06,1410.87 1.98729e+06,1410.87 1.98753e+06,1410.87 1.98777e+06,1410.87 1.98801e+06,1410.87 \n",
       "  1.98825e+06,1410.87 1.98849e+06,1410.87 1.98872e+06,1410.87 1.98896e+06,1410.87 1.9892e+06,1410.87 1.98944e+06,1410.87 1.98968e+06,1410.87 1.98992e+06,1410.87 1.99016e+06,1410.87 1.9904e+06,1410.87 \n",
       "  1.99064e+06,1410.87 1.99087e+06,1410.87 1.99111e+06,1410.87 1.99135e+06,1410.87 1.99159e+06,1410.87 1.99183e+06,1410.87 1.99207e+06,1410.87 1.99231e+06,1410.87 1.99255e+06,1410.87 1.99279e+06,1410.87 \n",
       "  1.99303e+06,1410.87 1.99326e+06,1410.87 1.9935e+06,1410.87 1.99374e+06,1410.87 1.99398e+06,1410.87 1.99422e+06,1410.87 1.99446e+06,1410.87 1.9947e+06,1410.87 1.99494e+06,1410.87 1.99518e+06,1410.87 \n",
       "  1.99541e+06,1410.87 1.99565e+06,1410.87 1.99589e+06,1410.87 1.99613e+06,1410.87 1.99637e+06,1410.87 1.99661e+06,1410.87 1.99685e+06,1410.87 1.99709e+06,1410.87 1.99733e+06,1410.87 1.99757e+06,1410.87 \n",
       "  1.9978e+06,1410.87 1.99804e+06,1410.87 1.99828e+06,1410.87 1.99852e+06,1410.87 1.99876e+06,1410.87 1.999e+06,1410.87 1.99924e+06,1410.87 1.99948e+06,1410.87 1.99972e+06,1410.87 1.99995e+06,1410.87 \n",
       "  2.00019e+06,1410.87 2.00043e+06,1410.87 2.00067e+06,1410.87 2.00091e+06,1410.87 2.00115e+06,1410.87 2.00139e+06,1410.87 2.00163e+06,1410.87 2.00187e+06,1410.87 2.00211e+06,1410.88 2.00234e+06,1410.88 \n",
       "  2.00258e+06,1410.88 2.00282e+06,1410.88 2.00306e+06,1410.88 2.0033e+06,1410.88 2.00354e+06,1410.88 2.00378e+06,1410.88 2.00402e+06,1410.88 2.00426e+06,1410.88 2.00449e+06,1410.88 2.00473e+06,1410.88 \n",
       "  2.00497e+06,1410.88 2.00521e+06,1410.88 2.00545e+06,1410.88 2.00569e+06,1410.88 2.00593e+06,1410.88 2.00617e+06,1410.88 2.00641e+06,1410.88 2.00665e+06,1410.88 2.00688e+06,1410.88 2.00712e+06,1410.88 \n",
       "  2.00736e+06,1410.88 2.0076e+06,1410.88 2.00784e+06,1410.88 2.00808e+06,1410.88 2.00832e+06,1410.88 2.00856e+06,1410.88 2.0088e+06,1410.88 2.00903e+06,1410.88 2.00927e+06,1410.88 2.00951e+06,1410.88 \n",
       "  2.00975e+06,1410.88 2.00999e+06,1410.88 2.01023e+06,1410.88 2.01047e+06,1410.88 2.01071e+06,1410.88 2.01095e+06,1410.88 2.01119e+06,1410.88 2.01142e+06,1410.88 2.01166e+06,1410.88 2.0119e+06,1410.88 \n",
       "  2.01214e+06,1410.88 2.01238e+06,1410.88 2.01262e+06,1410.88 2.01286e+06,1410.88 2.0131e+06,1410.88 2.01334e+06,1410.88 2.01357e+06,1410.88 2.01381e+06,1410.88 2.01405e+06,1410.88 2.01429e+06,1410.88 \n",
       "  2.01453e+06,1410.88 2.01477e+06,1410.88 2.01501e+06,1410.88 2.01525e+06,1410.88 2.01549e+06,1410.88 2.01573e+06,1410.88 2.01596e+06,1410.88 2.0162e+06,1410.88 2.01644e+06,1410.88 2.01668e+06,1410.88 \n",
       "  2.01692e+06,1410.88 2.01716e+06,1410.88 2.0174e+06,1410.88 2.01764e+06,1410.88 2.01788e+06,1410.88 2.01811e+06,1410.88 2.01835e+06,1410.88 2.01859e+06,1410.88 2.01883e+06,1410.88 2.01907e+06,1410.88 \n",
       "  2.01931e+06,1410.88 2.01955e+06,1410.88 2.01979e+06,1410.88 2.02003e+06,1410.88 2.02027e+06,1410.88 2.0205e+06,1410.88 2.02074e+06,1410.88 2.02098e+06,1410.88 2.02122e+06,1410.88 2.02146e+06,1410.88 \n",
       "  2.0217e+06,1410.88 2.02194e+06,1410.88 2.02218e+06,1410.88 2.02242e+06,1410.88 2.02265e+06,1410.88 2.02289e+06,1410.88 2.02313e+06,1410.88 2.02337e+06,1410.88 2.02361e+06,1410.88 2.02385e+06,1410.88 \n",
       "  2.02409e+06,1410.88 2.02433e+06,1410.88 2.02457e+06,1410.88 2.02481e+06,1410.88 2.02504e+06,1410.88 2.02528e+06,1410.88 2.02552e+06,1410.88 2.02576e+06,1410.88 2.026e+06,1410.88 2.02624e+06,1410.88 \n",
       "  2.02648e+06,1410.88 2.02672e+06,1410.88 2.02696e+06,1410.88 2.02719e+06,1410.88 2.02743e+06,1410.88 2.02767e+06,1410.88 2.02791e+06,1410.88 2.02815e+06,1410.88 2.02839e+06,1410.88 2.02863e+06,1410.88 \n",
       "  2.02887e+06,1410.88 2.02911e+06,1410.88 2.02935e+06,1410.88 2.02958e+06,1410.88 2.02982e+06,1410.88 2.03006e+06,1410.88 2.0303e+06,1410.88 2.03054e+06,1410.88 2.03078e+06,1410.88 2.03102e+06,1410.88 \n",
       "  2.03126e+06,1410.88 2.0315e+06,1410.88 2.03173e+06,1410.88 2.03197e+06,1410.88 2.03221e+06,1410.88 2.03245e+06,1410.88 2.03269e+06,1410.88 2.03293e+06,1410.88 2.03317e+06,1410.88 2.03341e+06,1410.88 \n",
       "  2.03365e+06,1410.88 2.03389e+06,1410.88 2.03412e+06,1410.88 2.03436e+06,1410.88 2.0346e+06,1410.88 2.03484e+06,1410.88 2.03508e+06,1410.89 2.03532e+06,1410.89 2.03556e+06,1410.89 2.0358e+06,1410.89 \n",
       "  2.03604e+06,1410.89 2.03627e+06,1410.89 2.03651e+06,1410.89 2.03675e+06,1410.89 2.03699e+06,1410.89 2.03723e+06,1410.89 2.03747e+06,1410.89 2.03771e+06,1410.89 2.03795e+06,1410.89 2.03819e+06,1410.89 \n",
       "  2.03843e+06,1410.89 2.03866e+06,1410.89 2.0389e+06,1410.89 2.03914e+06,1410.89 2.03938e+06,1410.89 2.03962e+06,1410.89 2.03986e+06,1410.89 2.0401e+06,1410.89 2.04034e+06,1410.89 2.04058e+06,1410.89 \n",
       "  2.04081e+06,1410.89 2.04105e+06,1410.89 2.04129e+06,1410.89 2.04153e+06,1410.89 2.04177e+06,1410.89 2.04201e+06,1410.89 2.04225e+06,1410.89 2.04249e+06,1410.89 2.04273e+06,1410.89 2.04297e+06,1410.89 \n",
       "  2.0432e+06,1410.89 2.04344e+06,1410.89 2.04368e+06,1410.89 2.04392e+06,1410.89 2.04416e+06,1410.89 2.0444e+06,1410.89 2.04464e+06,1410.89 2.04488e+06,1410.89 2.04512e+06,1410.89 2.04535e+06,1410.89 \n",
       "  2.04559e+06,1410.89 2.04583e+06,1410.89 2.04607e+06,1410.89 2.04631e+06,1410.89 2.04655e+06,1410.89 2.04679e+06,1410.89 2.04703e+06,1410.89 2.04727e+06,1410.89 2.04751e+06,1410.89 2.04774e+06,1410.89 \n",
       "  2.04798e+06,1410.89 2.04822e+06,1410.89 2.04846e+06,1410.89 2.0487e+06,1410.89 2.04894e+06,1410.89 2.04918e+06,1410.89 2.04942e+06,1410.89 2.04966e+06,1410.89 2.04989e+06,1410.89 2.05013e+06,1410.89 \n",
       "  2.05037e+06,1410.89 2.05061e+06,1410.89 2.05085e+06,1410.89 2.05109e+06,1410.89 2.05133e+06,1410.89 2.05157e+06,1410.89 2.05181e+06,1410.89 2.05205e+06,1410.89 2.05228e+06,1410.89 2.05252e+06,1410.89 \n",
       "  2.05276e+06,1410.89 2.053e+06,1410.89 2.05324e+06,1410.89 2.05348e+06,1410.89 2.05372e+06,1410.89 2.05396e+06,1410.89 2.0542e+06,1410.89 2.05443e+06,1410.89 2.05467e+06,1410.89 2.05491e+06,1410.89 \n",
       "  2.05515e+06,1410.89 2.05539e+06,1410.89 2.05563e+06,1410.89 2.05587e+06,1410.89 2.05611e+06,1410.89 2.05635e+06,1410.89 2.05659e+06,1410.89 2.05682e+06,1410.89 2.05706e+06,1410.89 2.0573e+06,1410.89 \n",
       "  2.05754e+06,1410.89 2.05778e+06,1410.89 2.05802e+06,1410.89 2.05826e+06,1410.89 2.0585e+06,1410.89 2.05874e+06,1410.89 2.05897e+06,1410.89 2.05921e+06,1410.89 2.05945e+06,1410.89 2.05969e+06,1410.89 \n",
       "  2.05993e+06,1410.89 2.06017e+06,1410.89 2.06041e+06,1410.89 2.06065e+06,1410.89 2.06089e+06,1410.89 2.06113e+06,1410.89 2.06136e+06,1410.89 2.0616e+06,1410.89 2.06184e+06,1410.89 2.06208e+06,1410.89 \n",
       "  2.06232e+06,1410.89 2.06256e+06,1410.89 2.0628e+06,1410.89 2.06304e+06,1410.89 2.06328e+06,1410.89 2.06351e+06,1410.89 2.06375e+06,1410.89 2.06399e+06,1410.89 2.06423e+06,1410.89 2.06447e+06,1410.89 \n",
       "  2.06471e+06,1410.89 2.06495e+06,1410.89 2.06519e+06,1410.89 2.06543e+06,1410.89 2.06567e+06,1410.89 2.0659e+06,1410.89 2.06614e+06,1410.89 2.06638e+06,1410.89 2.06662e+06,1410.89 2.06686e+06,1410.89 \n",
       "  2.0671e+06,1410.89 2.06734e+06,1410.89 2.06758e+06,1410.89 2.06782e+06,1410.89 2.06805e+06,1410.89 2.06829e+06,1410.89 2.06853e+06,1410.89 2.06877e+06,1410.89 2.06901e+06,1410.9 2.06925e+06,1410.9 \n",
       "  2.06949e+06,1410.9 2.06973e+06,1410.9 2.06997e+06,1410.9 2.07021e+06,1410.9 2.07044e+06,1410.9 2.07068e+06,1410.9 2.07092e+06,1410.9 2.07116e+06,1410.9 2.0714e+06,1410.9 2.07164e+06,1410.9 \n",
       "  2.07188e+06,1410.9 2.07212e+06,1410.9 2.07236e+06,1410.9 2.07259e+06,1410.9 2.07283e+06,1410.9 2.07307e+06,1410.9 2.07331e+06,1410.9 2.07355e+06,1410.9 2.07379e+06,1410.9 2.07403e+06,1410.9 \n",
       "  2.07427e+06,1410.9 2.07451e+06,1410.9 2.07475e+06,1410.9 2.07498e+06,1410.9 2.07522e+06,1410.9 2.07546e+06,1410.9 2.0757e+06,1410.9 2.07594e+06,1410.9 2.07618e+06,1410.9 2.07642e+06,1410.9 \n",
       "  2.07666e+06,1410.9 2.0769e+06,1410.9 2.07713e+06,1410.9 2.07737e+06,1410.9 2.07761e+06,1410.9 2.07785e+06,1410.9 2.07809e+06,1410.9 2.07833e+06,1410.9 2.07857e+06,1410.9 2.07881e+06,1410.9 \n",
       "  2.07905e+06,1410.9 2.07929e+06,1410.9 2.07952e+06,1410.9 2.07976e+06,1410.9 2.08e+06,1410.9 2.08024e+06,1410.9 2.08048e+06,1410.9 2.08072e+06,1410.9 2.08096e+06,1410.9 2.0812e+06,1410.9 \n",
       "  2.08144e+06,1410.9 2.08167e+06,1410.9 2.08191e+06,1410.9 2.08215e+06,1410.9 2.08239e+06,1410.9 2.08263e+06,1410.9 2.08287e+06,1410.9 2.08311e+06,1410.9 2.08335e+06,1410.9 2.08359e+06,1410.9 \n",
       "  2.08383e+06,1410.9 2.08406e+06,1410.9 2.0843e+06,1410.9 2.08454e+06,1410.9 2.08478e+06,1410.9 2.08502e+06,1410.9 2.08526e+06,1410.9 2.0855e+06,1410.9 2.08574e+06,1410.9 2.08598e+06,1410.9 \n",
       "  2.08621e+06,1410.9 2.08645e+06,1410.9 2.08669e+06,1410.9 2.08693e+06,1410.9 2.08717e+06,1410.9 2.08741e+06,1410.9 2.08765e+06,1410.9 2.08789e+06,1410.9 2.08813e+06,1410.9 2.08837e+06,1410.9 \n",
       "  2.0886e+06,1410.9 2.08884e+06,1410.9 2.08908e+06,1410.9 2.08932e+06,1410.9 2.08956e+06,1410.9 2.0898e+06,1410.9 2.09004e+06,1410.9 2.09028e+06,1410.9 2.09052e+06,1410.9 2.09075e+06,1410.9 \n",
       "  2.09099e+06,1410.9 2.09123e+06,1410.9 2.09147e+06,1410.9 2.09171e+06,1410.9 2.09195e+06,1410.9 2.09219e+06,1410.9 2.09243e+06,1410.9 2.09267e+06,1410.9 2.09291e+06,1410.9 2.09314e+06,1410.9 \n",
       "  2.09338e+06,1410.9 2.09362e+06,1410.9 2.09386e+06,1410.9 2.0941e+06,1410.9 2.09434e+06,1410.9 2.09458e+06,1410.9 2.09482e+06,1410.9 2.09506e+06,1410.9 2.09529e+06,1410.9 2.09553e+06,1410.9 \n",
       "  2.09577e+06,1410.9 2.09601e+06,1410.9 2.09625e+06,1410.9 2.09649e+06,1410.9 2.09673e+06,1410.9 2.09697e+06,1410.9 2.09721e+06,1410.9 2.09745e+06,1410.9 2.09768e+06,1410.9 2.09792e+06,1410.9 \n",
       "  2.09816e+06,1410.9 2.0984e+06,1410.9 2.09864e+06,1410.9 2.09888e+06,1410.9 2.09912e+06,1410.9 2.09936e+06,1410.9 2.0996e+06,1410.9 2.09983e+06,1410.9 2.10007e+06,1410.9 2.10031e+06,1410.9 \n",
       "  2.10055e+06,1410.9 2.10079e+06,1410.9 2.10103e+06,1410.9 2.10127e+06,1410.9 2.10151e+06,1410.9 2.10175e+06,1410.9 2.10199e+06,1410.9 2.10222e+06,1410.9 2.10246e+06,1410.9 2.1027e+06,1410.9 \n",
       "  2.10294e+06,1410.9 2.10318e+06,1410.9 2.10342e+06,1410.9 2.10366e+06,1410.9 2.1039e+06,1410.9 2.10414e+06,1410.91 2.10437e+06,1410.91 2.10461e+06,1410.91 2.10485e+06,1410.91 2.10509e+06,1410.91 \n",
       "  2.10533e+06,1410.91 2.10557e+06,1410.91 2.10581e+06,1410.91 2.10605e+06,1410.91 2.10629e+06,1410.91 2.10653e+06,1410.91 2.10676e+06,1410.91 2.107e+06,1410.91 2.10724e+06,1410.91 2.10748e+06,1410.91 \n",
       "  2.10772e+06,1410.91 2.10796e+06,1410.91 2.1082e+06,1410.91 2.10844e+06,1410.91 2.10868e+06,1410.91 2.10891e+06,1410.91 2.10915e+06,1410.91 2.10939e+06,1410.91 2.10963e+06,1410.91 2.10987e+06,1410.91 \n",
       "  2.11011e+06,1410.91 2.11035e+06,1410.91 2.11059e+06,1410.91 2.11083e+06,1410.91 2.11107e+06,1410.91 2.1113e+06,1410.91 2.11154e+06,1410.91 2.11178e+06,1410.91 2.11202e+06,1410.91 2.11226e+06,1410.91 \n",
       "  2.1125e+06,1410.91 2.11274e+06,1410.91 2.11298e+06,1410.91 2.11322e+06,1410.91 2.11345e+06,1410.91 2.11369e+06,1410.91 2.11393e+06,1410.91 2.11417e+06,1410.91 2.11441e+06,1410.91 2.11465e+06,1410.91 \n",
       "  2.11489e+06,1410.91 2.11513e+06,1410.91 2.11537e+06,1410.91 2.11561e+06,1410.91 2.11584e+06,1410.91 2.11608e+06,1410.91 2.11632e+06,1410.91 2.11656e+06,1410.91 2.1168e+06,1410.91 2.11704e+06,1410.91 \n",
       "  2.11728e+06,1410.91 2.11752e+06,1410.91 2.11776e+06,1410.91 2.11799e+06,1410.91 2.11823e+06,1410.91 2.11847e+06,1410.91 2.11871e+06,1410.91 2.11895e+06,1410.91 2.11919e+06,1410.91 2.11943e+06,1410.91 \n",
       "  2.11967e+06,1410.91 2.11991e+06,1410.91 2.12015e+06,1410.91 2.12038e+06,1410.91 2.12062e+06,1410.91 2.12086e+06,1410.91 2.1211e+06,1410.91 2.12134e+06,1410.91 2.12158e+06,1410.91 2.12182e+06,1410.91 \n",
       "  2.12206e+06,1410.91 2.1223e+06,1410.91 2.12253e+06,1410.91 2.12277e+06,1410.91 2.12301e+06,1410.91 2.12325e+06,1410.91 2.12349e+06,1410.91 2.12373e+06,1410.91 2.12397e+06,1410.91 2.12421e+06,1410.91 \n",
       "  2.12445e+06,1410.91 2.12469e+06,1410.91 2.12492e+06,1410.91 2.12516e+06,1410.91 2.1254e+06,1410.91 2.12564e+06,1410.91 2.12588e+06,1410.91 2.12612e+06,1410.91 2.12636e+06,1410.91 2.1266e+06,1410.91 \n",
       "  2.12684e+06,1410.91 2.12707e+06,1410.91 2.12731e+06,1410.91 2.12755e+06,1410.91 2.12779e+06,1410.91 2.12803e+06,1410.91 2.12827e+06,1410.91 2.12851e+06,1410.91 2.12875e+06,1410.91 2.12899e+06,1410.91 \n",
       "  2.12923e+06,1410.91 2.12946e+06,1410.91 2.1297e+06,1410.91 2.12994e+06,1410.91 2.13018e+06,1410.91 2.13042e+06,1410.91 2.13066e+06,1410.91 2.1309e+06,1410.91 2.13114e+06,1410.91 2.13138e+06,1410.91 \n",
       "  2.13161e+06,1410.91 2.13185e+06,1410.91 2.13209e+06,1410.91 2.13233e+06,1410.91 2.13257e+06,1410.91 2.13281e+06,1410.91 2.13305e+06,1410.91 2.13329e+06,1410.91 2.13353e+06,1410.91 2.13377e+06,1410.91 \n",
       "  2.134e+06,1410.91 2.13424e+06,1410.91 2.13448e+06,1410.91 2.13472e+06,1410.91 2.13496e+06,1410.91 2.1352e+06,1410.91 2.13544e+06,1410.91 2.13568e+06,1410.91 2.13592e+06,1410.91 2.13615e+06,1410.91 \n",
       "  2.13639e+06,1410.91 2.13663e+06,1410.91 2.13687e+06,1410.91 2.13711e+06,1410.91 2.13735e+06,1410.91 2.13759e+06,1410.91 2.13783e+06,1410.91 2.13807e+06,1410.91 2.13831e+06,1410.91 2.13854e+06,1410.91 \n",
       "  2.13878e+06,1410.91 2.13902e+06,1410.91 2.13926e+06,1410.91 2.1395e+06,1410.91 2.13974e+06,1410.91 2.13998e+06,1410.91 2.14022e+06,1410.91 2.14046e+06,1410.92 2.14069e+06,1410.92 2.14093e+06,1410.92 \n",
       "  2.14117e+06,1410.92 2.14141e+06,1410.92 2.14165e+06,1410.92 2.14189e+06,1410.92 2.14213e+06,1410.92 2.14237e+06,1410.92 2.14261e+06,1410.92 2.14285e+06,1410.92 2.14308e+06,1410.92 2.14332e+06,1410.92 \n",
       "  2.14356e+06,1410.92 2.1438e+06,1410.92 2.14404e+06,1410.92 2.14428e+06,1410.92 2.14452e+06,1410.92 2.14476e+06,1410.92 2.145e+06,1410.92 2.14523e+06,1410.92 2.14547e+06,1410.92 2.14571e+06,1410.92 \n",
       "  2.14595e+06,1410.92 2.14619e+06,1410.92 2.14643e+06,1410.92 2.14667e+06,1410.92 2.14691e+06,1410.92 2.14715e+06,1410.92 2.14739e+06,1410.92 2.14762e+06,1410.92 2.14786e+06,1410.92 2.1481e+06,1410.92 \n",
       "  2.14834e+06,1410.92 2.14858e+06,1410.92 2.14882e+06,1410.92 2.14906e+06,1410.92 2.1493e+06,1410.92 2.14954e+06,1410.92 2.14977e+06,1410.92 2.15001e+06,1410.92 2.15025e+06,1410.92 2.15049e+06,1410.92 \n",
       "  2.15073e+06,1410.92 2.15097e+06,1410.92 2.15121e+06,1410.92 2.15145e+06,1410.92 2.15169e+06,1410.92 2.15193e+06,1410.92 2.15216e+06,1410.92 2.1524e+06,1410.92 2.15264e+06,1410.92 2.15288e+06,1410.92 \n",
       "  2.15312e+06,1410.92 2.15336e+06,1410.92 2.1536e+06,1410.92 2.15384e+06,1410.92 2.15408e+06,1410.92 2.15431e+06,1410.92 2.15455e+06,1410.92 2.15479e+06,1410.92 2.15503e+06,1410.92 2.15527e+06,1410.92 \n",
       "  2.15551e+06,1410.92 2.15575e+06,1410.92 2.15599e+06,1410.92 2.15623e+06,1410.92 2.15647e+06,1410.92 2.1567e+06,1410.92 2.15694e+06,1410.92 2.15718e+06,1410.92 2.15742e+06,1410.92 2.15766e+06,1410.92 \n",
       "  2.1579e+06,1410.92 2.15814e+06,1410.92 2.15838e+06,1410.92 2.15862e+06,1410.92 2.15885e+06,1410.92 2.15909e+06,1410.92 2.15933e+06,1410.92 2.15957e+06,1410.92 2.15981e+06,1410.92 2.16005e+06,1410.92 \n",
       "  2.16029e+06,1410.92 2.16053e+06,1410.92 2.16077e+06,1410.92 2.16101e+06,1410.92 2.16124e+06,1410.92 2.16148e+06,1410.92 2.16172e+06,1410.92 2.16196e+06,1410.92 2.1622e+06,1410.92 2.16244e+06,1410.92 \n",
       "  2.16268e+06,1410.92 2.16292e+06,1410.92 2.16316e+06,1410.92 2.16339e+06,1410.92 2.16363e+06,1410.92 2.16387e+06,1410.92 2.16411e+06,1410.92 2.16435e+06,1410.92 2.16459e+06,1410.92 2.16483e+06,1410.92 \n",
       "  2.16507e+06,1410.92 2.16531e+06,1410.92 2.16555e+06,1410.92 2.16578e+06,1410.92 2.16602e+06,1410.92 2.16626e+06,1410.92 2.1665e+06,1410.92 2.16674e+06,1410.92 2.16698e+06,1410.92 2.16722e+06,1410.92 \n",
       "  2.16746e+06,1410.92 2.1677e+06,1410.92 2.16793e+06,1410.92 2.16817e+06,1410.92 2.16841e+06,1410.92 2.16865e+06,1410.92 2.16889e+06,1410.92 2.16913e+06,1410.92 2.16937e+06,1410.92 2.16961e+06,1410.92 \n",
       "  2.16985e+06,1410.92 2.17009e+06,1410.92 2.17032e+06,1410.92 2.17056e+06,1410.92 2.1708e+06,1410.92 2.17104e+06,1410.92 2.17128e+06,1410.92 2.17152e+06,1410.92 2.17176e+06,1410.92 2.172e+06,1410.92 \n",
       "  2.17224e+06,1410.92 2.17247e+06,1410.92 2.17271e+06,1410.92 2.17295e+06,1410.92 2.17319e+06,1410.92 2.17343e+06,1410.92 2.17367e+06,1410.92 2.17391e+06,1410.92 2.17415e+06,1410.92 2.17439e+06,1410.92 \n",
       "  2.17463e+06,1410.92 2.17486e+06,1410.92 2.1751e+06,1410.92 2.17534e+06,1410.92 2.17558e+06,1410.92 2.17582e+06,1410.92 2.17606e+06,1410.92 2.1763e+06,1410.92 2.17654e+06,1410.92 2.17678e+06,1410.92 \n",
       "  2.17701e+06,1410.92 2.17725e+06,1410.92 2.17749e+06,1410.92 2.17773e+06,1410.92 2.17797e+06,1410.93 2.17821e+06,1410.93 2.17845e+06,1410.93 2.17869e+06,1410.93 2.17893e+06,1410.93 2.17917e+06,1410.93 \n",
       "  2.1794e+06,1410.93 2.17964e+06,1410.93 2.17988e+06,1410.93 2.18012e+06,1410.93 2.18036e+06,1410.93 2.1806e+06,1410.93 2.18084e+06,1410.93 2.18108e+06,1410.93 2.18132e+06,1410.93 2.18155e+06,1410.93 \n",
       "  2.18179e+06,1410.93 2.18203e+06,1410.93 2.18227e+06,1410.93 2.18251e+06,1410.93 2.18275e+06,1410.93 2.18299e+06,1410.93 2.18323e+06,1410.93 2.18347e+06,1410.93 2.18371e+06,1410.93 2.18394e+06,1410.93 \n",
       "  2.18418e+06,1410.93 2.18442e+06,1410.93 2.18466e+06,1410.93 2.1849e+06,1410.93 2.18514e+06,1410.93 2.18538e+06,1410.93 2.18562e+06,1410.93 2.18586e+06,1410.93 2.18609e+06,1410.93 2.18633e+06,1410.93 \n",
       "  2.18657e+06,1410.93 2.18681e+06,1410.93 2.18705e+06,1410.93 2.18729e+06,1410.93 2.18753e+06,1410.93 2.18777e+06,1410.93 2.18801e+06,1410.93 2.18825e+06,1410.93 2.18848e+06,1410.93 2.18872e+06,1410.93 \n",
       "  2.18896e+06,1410.93 2.1892e+06,1410.93 2.18944e+06,1410.93 2.18968e+06,1410.93 2.18992e+06,1410.93 2.19016e+06,1410.93 2.1904e+06,1410.93 2.19063e+06,1410.93 2.19087e+06,1410.93 2.19111e+06,1410.93 \n",
       "  2.19135e+06,1410.93 2.19159e+06,1410.93 2.19183e+06,1410.93 2.19207e+06,1410.93 2.19231e+06,1410.93 2.19255e+06,1410.93 2.19279e+06,1410.93 2.19302e+06,1410.93 2.19326e+06,1410.93 2.1935e+06,1410.93 \n",
       "  2.19374e+06,1410.93 2.19398e+06,1410.93 2.19422e+06,1410.93 2.19446e+06,1410.93 2.1947e+06,1410.93 2.19494e+06,1410.93 2.19517e+06,1410.93 2.19541e+06,1410.93 2.19565e+06,1410.93 2.19589e+06,1410.93 \n",
       "  2.19613e+06,1410.93 2.19637e+06,1410.93 2.19661e+06,1410.93 2.19685e+06,1410.93 2.19709e+06,1410.93 2.19733e+06,1410.93 2.19756e+06,1410.93 2.1978e+06,1410.93 2.19804e+06,1410.93 2.19828e+06,1410.93 \n",
       "  2.19852e+06,1410.93 2.19876e+06,1410.93 2.199e+06,1410.93 2.19924e+06,1410.93 2.19948e+06,1410.93 2.19971e+06,1410.93 2.19995e+06,1410.93 2.20019e+06,1410.93 2.20043e+06,1410.93 2.20067e+06,1410.93 \n",
       "  2.20091e+06,1410.93 2.20115e+06,1410.93 2.20139e+06,1410.93 2.20163e+06,1410.93 2.20187e+06,1410.93 2.2021e+06,1410.93 2.20234e+06,1410.93 2.20258e+06,1410.93 2.20282e+06,1410.93 2.20306e+06,1410.93 \n",
       "  2.2033e+06,1410.93 2.20354e+06,1410.93 2.20378e+06,1410.93 2.20402e+06,1410.93 2.20425e+06,1410.93 2.20449e+06,1410.93 2.20473e+06,1410.93 2.20497e+06,1410.93 2.20521e+06,1410.93 2.20545e+06,1410.93 \n",
       "  2.20569e+06,1410.93 2.20593e+06,1410.93 2.20617e+06,1410.93 2.20641e+06,1410.93 2.20664e+06,1410.93 2.20688e+06,1410.93 2.20712e+06,1410.93 2.20736e+06,1410.93 2.2076e+06,1410.93 2.20784e+06,1410.93 \n",
       "  2.20808e+06,1410.93 2.20832e+06,1410.93 2.20856e+06,1410.93 2.20879e+06,1410.93 2.20903e+06,1410.93 2.20927e+06,1410.93 2.20951e+06,1410.93 2.20975e+06,1410.93 2.20999e+06,1410.93 2.21023e+06,1410.93 \n",
       "  2.21047e+06,1410.93 2.21071e+06,1410.93 2.21095e+06,1410.93 2.21118e+06,1410.93 2.21142e+06,1410.93 2.21166e+06,1410.93 2.2119e+06,1410.93 2.21214e+06,1410.93 2.21238e+06,1410.93 2.21262e+06,1410.93 \n",
       "  2.21286e+06,1410.93 2.2131e+06,1410.93 2.21333e+06,1410.93 2.21357e+06,1410.93 2.21381e+06,1410.93 2.21405e+06,1410.93 2.21429e+06,1410.93 2.21453e+06,1410.93 2.21477e+06,1410.93 2.21501e+06,1410.93 \n",
       "  2.21525e+06,1410.93 2.21549e+06,1410.93 2.21572e+06,1410.93 2.21596e+06,1410.93 2.2162e+06,1410.93 2.21644e+06,1410.93 2.21668e+06,1410.93 2.21692e+06,1410.94 2.21716e+06,1410.94 2.2174e+06,1410.94 \n",
       "  2.21764e+06,1410.94 2.21787e+06,1410.94 2.21811e+06,1410.94 2.21835e+06,1410.94 2.21859e+06,1410.94 2.21883e+06,1410.94 2.21907e+06,1410.94 2.21931e+06,1410.94 2.21955e+06,1410.94 2.21979e+06,1410.94 \n",
       "  2.22003e+06,1410.94 2.22026e+06,1410.94 2.2205e+06,1410.94 2.22074e+06,1410.94 2.22098e+06,1410.94 2.22122e+06,1410.94 2.22146e+06,1410.94 2.2217e+06,1410.94 2.22194e+06,1410.94 2.22218e+06,1410.94 \n",
       "  2.22241e+06,1410.94 2.22265e+06,1410.94 2.22289e+06,1410.94 2.22313e+06,1410.94 2.22337e+06,1410.94 2.22361e+06,1410.94 2.22385e+06,1410.94 2.22409e+06,1410.94 2.22433e+06,1410.94 2.22457e+06,1410.94 \n",
       "  2.2248e+06,1410.94 2.22504e+06,1410.94 2.22528e+06,1410.94 2.22552e+06,1410.94 2.22576e+06,1410.94 2.226e+06,1410.94 2.22624e+06,1410.94 2.22648e+06,1410.94 2.22672e+06,1410.94 2.22695e+06,1410.94 \n",
       "  2.22719e+06,1410.94 2.22743e+06,1410.94 2.22767e+06,1410.94 2.22791e+06,1410.94 2.22815e+06,1410.94 2.22839e+06,1410.94 2.22863e+06,1410.94 2.22887e+06,1410.94 2.22911e+06,1410.94 2.22934e+06,1410.94 \n",
       "  2.22958e+06,1410.94 2.22982e+06,1410.94 2.23006e+06,1410.94 2.2303e+06,1410.94 2.23054e+06,1410.94 2.23078e+06,1410.94 2.23102e+06,1410.94 2.23126e+06,1410.94 2.23149e+06,1410.94 2.23173e+06,1410.94 \n",
       "  2.23197e+06,1410.94 2.23221e+06,1410.94 2.23245e+06,1410.94 2.23269e+06,1410.94 2.23293e+06,1410.94 2.23317e+06,1410.94 2.23341e+06,1410.94 2.23365e+06,1410.94 2.23388e+06,1410.94 2.23412e+06,1410.94 \n",
       "  2.23436e+06,1410.94 2.2346e+06,1410.94 2.23484e+06,1410.94 2.23508e+06,1410.94 2.23532e+06,1410.94 2.23556e+06,1410.94 2.2358e+06,1410.94 2.23603e+06,1410.94 2.23627e+06,1410.94 2.23651e+06,1410.94 \n",
       "  2.23675e+06,1410.94 2.23699e+06,1410.94 2.23723e+06,1410.94 2.23747e+06,1410.94 2.23771e+06,1410.94 2.23795e+06,1410.94 2.23819e+06,1410.94 2.23842e+06,1410.94 2.23866e+06,1410.94 2.2389e+06,1410.94 \n",
       "  2.23914e+06,1410.94 2.23938e+06,1410.94 2.23962e+06,1410.94 2.23986e+06,1410.94 2.2401e+06,1410.94 2.24034e+06,1410.94 2.24057e+06,1410.94 2.24081e+06,1410.94 2.24105e+06,1410.94 2.24129e+06,1410.94 \n",
       "  2.24153e+06,1410.94 2.24177e+06,1410.94 2.24201e+06,1410.94 2.24225e+06,1410.94 2.24249e+06,1410.94 2.24273e+06,1410.94 2.24296e+06,1410.94 2.2432e+06,1410.94 2.24344e+06,1410.94 2.24368e+06,1410.94 \n",
       "  2.24392e+06,1410.94 2.24416e+06,1410.94 2.2444e+06,1410.94 2.24464e+06,1410.94 2.24488e+06,1410.94 2.24511e+06,1410.94 2.24535e+06,1410.94 2.24559e+06,1410.94 2.24583e+06,1410.94 2.24607e+06,1410.94 \n",
       "  2.24631e+06,1410.94 2.24655e+06,1410.94 2.24679e+06,1410.94 2.24703e+06,1410.94 2.24727e+06,1410.94 2.2475e+06,1410.94 2.24774e+06,1410.94 2.24798e+06,1410.94 2.24822e+06,1410.94 2.24846e+06,1410.94 \n",
       "  2.2487e+06,1410.94 2.24894e+06,1410.94 2.24918e+06,1410.94 2.24942e+06,1410.94 2.24965e+06,1410.94 2.24989e+06,1410.94 2.25013e+06,1410.94 2.25037e+06,1410.94 2.25061e+06,1410.94 2.25085e+06,1410.94 \n",
       "  2.25109e+06,1410.94 2.25133e+06,1410.94 2.25157e+06,1410.94 2.25181e+06,1410.94 2.25204e+06,1410.94 2.25228e+06,1410.94 2.25252e+06,1410.94 2.25276e+06,1410.94 2.253e+06,1410.94 2.25324e+06,1410.94 \n",
       "  2.25348e+06,1410.94 2.25372e+06,1410.94 2.25396e+06,1410.94 2.25419e+06,1410.94 2.25443e+06,1410.94 2.25467e+06,1410.94 2.25491e+06,1410.94 2.25515e+06,1410.94 2.25539e+06,1410.94 2.25563e+06,1410.94 \n",
       "  2.25587e+06,1410.94 2.25611e+06,1410.94 2.25635e+06,1410.94 2.25658e+06,1410.94 2.25682e+06,1410.94 2.25706e+06,1410.94 2.2573e+06,1410.95 2.25754e+06,1410.95 2.25778e+06,1410.95 2.25802e+06,1410.95 \n",
       "  2.25826e+06,1410.95 2.2585e+06,1410.95 2.25873e+06,1410.95 2.25897e+06,1410.95 2.25921e+06,1410.95 2.25945e+06,1410.95 2.25969e+06,1410.95 2.25993e+06,1410.95 2.26017e+06,1410.95 2.26041e+06,1410.95 \n",
       "  2.26065e+06,1410.95 2.26089e+06,1410.95 2.26112e+06,1410.95 2.26136e+06,1410.95 2.2616e+06,1410.95 2.26184e+06,1410.95 2.26208e+06,1410.95 2.26232e+06,1410.95 2.26256e+06,1410.95 2.2628e+06,1410.95 \n",
       "  2.26304e+06,1410.95 2.26327e+06,1410.95 2.26351e+06,1410.95 2.26375e+06,1410.95 2.26399e+06,1410.95 2.26423e+06,1410.95 2.26447e+06,1410.95 2.26471e+06,1410.95 2.26495e+06,1410.95 2.26519e+06,1410.95 \n",
       "  2.26543e+06,1410.95 2.26566e+06,1410.95 2.2659e+06,1410.95 2.26614e+06,1410.95 2.26638e+06,1410.95 2.26662e+06,1410.95 2.26686e+06,1410.95 2.2671e+06,1410.95 2.26734e+06,1410.95 2.26758e+06,1410.95 \n",
       "  2.26781e+06,1410.95 2.26805e+06,1410.95 2.26829e+06,1410.95 2.26853e+06,1410.95 2.26877e+06,1410.95 2.26901e+06,1410.95 2.26925e+06,1410.95 2.26949e+06,1410.95 2.26973e+06,1410.95 2.26997e+06,1410.95 \n",
       "  2.2702e+06,1410.95 2.27044e+06,1410.95 2.27068e+06,1410.95 2.27092e+06,1410.95 2.27116e+06,1410.95 2.2714e+06,1410.95 2.27164e+06,1410.95 2.27188e+06,1410.95 2.27212e+06,1410.95 2.27235e+06,1410.95 \n",
       "  2.27259e+06,1410.95 2.27283e+06,1410.95 2.27307e+06,1410.95 2.27331e+06,1410.95 2.27355e+06,1410.95 2.27379e+06,1410.95 2.27403e+06,1410.95 2.27427e+06,1410.95 2.27451e+06,1410.95 2.27474e+06,1410.95 \n",
       "  2.27498e+06,1410.95 2.27522e+06,1410.95 2.27546e+06,1410.95 2.2757e+06,1410.95 2.27594e+06,1410.95 2.27618e+06,1410.95 2.27642e+06,1410.95 2.27666e+06,1410.95 2.27689e+06,1410.95 2.27713e+06,1410.95 \n",
       "  2.27737e+06,1410.95 2.27761e+06,1410.95 2.27785e+06,1410.95 2.27809e+06,1410.95 2.27833e+06,1410.95 2.27857e+06,1410.95 2.27881e+06,1410.95 2.27905e+06,1410.95 2.27928e+06,1410.95 2.27952e+06,1410.95 \n",
       "  2.27976e+06,1410.95 2.28e+06,1410.95 2.28024e+06,1410.95 2.28048e+06,1410.95 2.28072e+06,1410.95 2.28096e+06,1410.95 2.2812e+06,1410.95 2.28144e+06,1410.95 2.28167e+06,1410.95 2.28191e+06,1410.95 \n",
       "  2.28215e+06,1410.95 2.28239e+06,1410.95 2.28263e+06,1410.95 2.28287e+06,1410.95 2.28311e+06,1410.95 2.28335e+06,1410.95 2.28359e+06,1410.95 2.28382e+06,1410.95 2.28406e+06,1410.95 2.2843e+06,1410.95 \n",
       "  2.28454e+06,1410.95 2.28478e+06,1410.95 2.28502e+06,1410.95 2.28526e+06,1410.95 2.2855e+06,1410.95 2.28574e+06,1410.95 2.28598e+06,1410.95 2.28621e+06,1410.95 2.28645e+06,1410.95 2.28669e+06,1410.95 \n",
       "  2.28693e+06,1410.95 2.28717e+06,1410.95 2.28741e+06,1410.95 2.28765e+06,1410.95 2.28789e+06,1410.95 2.28813e+06,1410.95 2.28836e+06,1410.95 2.2886e+06,1410.95 2.28884e+06,1410.95 2.28908e+06,1410.95 \n",
       "  2.28932e+06,1410.95 2.28956e+06,1410.95 2.2898e+06,1410.95 2.29004e+06,1410.95 2.29028e+06,1410.95 2.29052e+06,1410.95 2.29075e+06,1410.95 2.29099e+06,1410.95 2.29123e+06,1410.95 2.29147e+06,1410.95 \n",
       "  2.29171e+06,1410.95 2.29195e+06,1410.95 2.29219e+06,1410.95 2.29243e+06,1410.95 2.29267e+06,1410.95 2.2929e+06,1410.95 2.29314e+06,1410.95 2.29338e+06,1410.95 2.29362e+06,1410.95 2.29386e+06,1410.95 \n",
       "  2.2941e+06,1410.95 2.29434e+06,1410.95 2.29458e+06,1410.95 2.29482e+06,1410.95 2.29506e+06,1410.95 2.29529e+06,1410.95 2.29553e+06,1410.95 2.29577e+06,1410.95 2.29601e+06,1410.95 2.29625e+06,1410.95 \n",
       "  2.29649e+06,1410.95 2.29673e+06,1410.95 2.29697e+06,1410.95 2.29721e+06,1410.95 2.29744e+06,1410.95 2.29768e+06,1410.95 2.29792e+06,1410.95 2.29816e+06,1410.95 2.2984e+06,1410.95 2.29864e+06,1410.95 \n",
       "  2.29888e+06,1410.95 2.29912e+06,1410.96 2.29936e+06,1410.96 2.2996e+06,1410.96 2.29983e+06,1410.96 2.30007e+06,1410.96 2.30031e+06,1410.96 2.30055e+06,1410.96 2.30079e+06,1410.96 2.30103e+06,1410.96 \n",
       "  2.30127e+06,1410.96 2.30151e+06,1410.96 2.30175e+06,1410.96 2.30198e+06,1410.96 2.30222e+06,1410.96 2.30246e+06,1410.96 2.3027e+06,1410.96 2.30294e+06,1410.96 2.30318e+06,1410.96 2.30342e+06,1410.96 \n",
       "  2.30366e+06,1410.96 2.3039e+06,1410.96 2.30414e+06,1410.96 2.30437e+06,1410.96 2.30461e+06,1410.96 2.30485e+06,1410.96 2.30509e+06,1410.96 2.30533e+06,1410.96 2.30557e+06,1410.96 2.30581e+06,1410.96 \n",
       "  2.30605e+06,1410.96 2.30629e+06,1410.96 2.30652e+06,1410.96 2.30676e+06,1410.96 2.307e+06,1410.96 2.30724e+06,1410.96 2.30748e+06,1410.96 2.30772e+06,1410.96 2.30796e+06,1410.96 2.3082e+06,1410.96 \n",
       "  2.30844e+06,1410.96 2.30868e+06,1410.96 2.30891e+06,1410.96 2.30915e+06,1410.96 2.30939e+06,1410.96 2.30963e+06,1410.96 2.30987e+06,1410.96 2.31011e+06,1410.96 2.31035e+06,1410.96 2.31059e+06,1410.96 \n",
       "  2.31083e+06,1410.96 2.31106e+06,1410.96 2.3113e+06,1410.96 2.31154e+06,1410.96 2.31178e+06,1410.96 2.31202e+06,1410.96 2.31226e+06,1410.96 2.3125e+06,1410.96 2.31274e+06,1410.96 2.31298e+06,1410.96 \n",
       "  2.31322e+06,1410.96 2.31345e+06,1410.96 2.31369e+06,1410.96 2.31393e+06,1410.96 2.31417e+06,1410.96 2.31441e+06,1410.96 2.31465e+06,1410.96 2.31489e+06,1410.96 2.31513e+06,1410.96 2.31537e+06,1410.96 \n",
       "  2.3156e+06,1410.96 2.31584e+06,1410.96 2.31608e+06,1410.96 2.31632e+06,1410.96 2.31656e+06,1410.96 2.3168e+06,1410.96 2.31704e+06,1410.96 2.31728e+06,1410.96 2.31752e+06,1410.96 2.31776e+06,1410.96 \n",
       "  2.31799e+06,1410.96 2.31823e+06,1410.96 2.31847e+06,1410.96 2.31871e+06,1410.96 2.31895e+06,1410.96 2.31919e+06,1410.96 2.31943e+06,1410.96 2.31967e+06,1410.96 2.31991e+06,1410.96 2.32014e+06,1410.96 \n",
       "  2.32038e+06,1410.96 2.32062e+06,1410.96 2.32086e+06,1410.96 2.3211e+06,1410.96 2.32134e+06,1410.96 2.32158e+06,1410.96 2.32182e+06,1410.96 2.32206e+06,1410.96 2.3223e+06,1410.96 2.32253e+06,1410.96 \n",
       "  2.32277e+06,1410.96 2.32301e+06,1410.96 2.32325e+06,1410.96 2.32349e+06,1410.96 2.32373e+06,1410.96 2.32397e+06,1410.96 2.32421e+06,1410.96 2.32445e+06,1410.96 2.32468e+06,1410.96 2.32492e+06,1410.96 \n",
       "  2.32516e+06,1410.96 2.3254e+06,1410.96 2.32564e+06,1410.96 2.32588e+06,1410.96 2.32612e+06,1410.96 2.32636e+06,1410.96 2.3266e+06,1410.96 2.32684e+06,1410.96 2.32707e+06,1410.96 2.32731e+06,1410.96 \n",
       "  2.32755e+06,1410.96 2.32779e+06,1410.96 2.32803e+06,1410.96 2.32827e+06,1410.96 2.32851e+06,1410.96 2.32875e+06,1410.96 2.32899e+06,1410.96 2.32922e+06,1410.96 2.32946e+06,1410.96 2.3297e+06,1410.96 \n",
       "  2.32994e+06,1410.96 2.33018e+06,1410.96 2.33042e+06,1410.96 2.33066e+06,1410.96 2.3309e+06,1410.96 2.33114e+06,1410.96 2.33138e+06,1410.96 2.33161e+06,1410.96 2.33185e+06,1410.96 2.33209e+06,1410.96 \n",
       "  2.33233e+06,1410.96 2.33257e+06,1410.96 2.33281e+06,1410.96 2.33305e+06,1410.96 2.33329e+06,1410.96 2.33353e+06,1410.96 2.33376e+06,1410.96 2.334e+06,1410.96 2.33424e+06,1410.96 2.33448e+06,1410.96 \n",
       "  2.33472e+06,1410.96 2.33496e+06,1410.96 2.3352e+06,1410.96 2.33544e+06,1410.96 2.33568e+06,1410.96 2.33592e+06,1410.96 2.33615e+06,1410.96 2.33639e+06,1410.96 2.33663e+06,1410.96 2.33687e+06,1410.96 \n",
       "  2.33711e+06,1410.96 2.33735e+06,1410.96 2.33759e+06,1410.96 2.33783e+06,1410.96 2.33807e+06,1410.96 2.3383e+06,1410.96 2.33854e+06,1410.96 2.33878e+06,1410.96 2.33902e+06,1410.96 2.33926e+06,1410.96 \n",
       "  2.3395e+06,1410.96 2.33974e+06,1410.96 2.33998e+06,1410.96 2.34022e+06,1410.96 2.34046e+06,1410.96 2.34069e+06,1410.96 2.34093e+06,1410.96 2.34117e+06,1410.96 2.34141e+06,1410.96 2.34165e+06,1410.96 \n",
       "  2.34189e+06,1410.96 2.34213e+06,1410.96 2.34237e+06,1410.96 2.34261e+06,1410.97 2.34284e+06,1410.97 2.34308e+06,1410.97 2.34332e+06,1410.97 2.34356e+06,1410.97 2.3438e+06,1410.97 2.34404e+06,1410.97 \n",
       "  2.34428e+06,1410.97 2.34452e+06,1410.97 2.34476e+06,1410.97 2.345e+06,1410.97 2.34523e+06,1410.97 2.34547e+06,1410.97 2.34571e+06,1410.97 2.34595e+06,1410.97 2.34619e+06,1410.97 2.34643e+06,1410.97 \n",
       "  2.34667e+06,1410.97 2.34691e+06,1410.97 2.34715e+06,1410.97 2.34738e+06,1410.97 2.34762e+06,1410.97 2.34786e+06,1410.97 2.3481e+06,1410.97 2.34834e+06,1410.97 2.34858e+06,1410.97 2.34882e+06,1410.97 \n",
       "  2.34906e+06,1410.97 2.3493e+06,1410.97 2.34954e+06,1410.97 2.34977e+06,1410.97 2.35001e+06,1410.97 2.35025e+06,1410.97 2.35049e+06,1410.97 2.35073e+06,1410.97 2.35097e+06,1410.97 2.35121e+06,1410.97 \n",
       "  2.35145e+06,1410.97 2.35169e+06,1410.97 2.35192e+06,1410.97 2.35216e+06,1410.97 2.3524e+06,1410.97 2.35264e+06,1410.97 2.35288e+06,1410.97 2.35312e+06,1410.97 2.35336e+06,1410.97 2.3536e+06,1410.97 \n",
       "  2.35384e+06,1410.97 2.35408e+06,1410.97 2.35431e+06,1410.97 2.35455e+06,1410.97 2.35479e+06,1410.97 2.35503e+06,1410.97 2.35527e+06,1410.97 2.35551e+06,1410.97 2.35575e+06,1410.97 2.35599e+06,1410.97 \n",
       "  2.35623e+06,1410.97 2.35646e+06,1410.97 2.3567e+06,1410.97 2.35694e+06,1410.97 2.35718e+06,1410.97 2.35742e+06,1410.97 2.35766e+06,1410.97 2.3579e+06,1410.97 2.35814e+06,1410.97 2.35838e+06,1410.97 \n",
       "  2.35862e+06,1410.97 2.35885e+06,1410.97 2.35909e+06,1410.97 2.35933e+06,1410.97 2.35957e+06,1410.97 2.35981e+06,1410.97 2.36005e+06,1410.97 2.36029e+06,1410.97 2.36053e+06,1410.97 2.36077e+06,1410.97 \n",
       "  2.361e+06,1410.97 2.36124e+06,1410.97 2.36148e+06,1410.97 2.36172e+06,1410.97 2.36196e+06,1410.97 2.3622e+06,1410.97 2.36244e+06,1410.97 2.36268e+06,1410.97 2.36292e+06,1410.97 2.36316e+06,1410.97 \n",
       "  2.36339e+06,1410.97 2.36363e+06,1410.97 2.36387e+06,1410.97 2.36411e+06,1410.97 2.36435e+06,1410.97 2.36459e+06,1410.97 2.36483e+06,1410.97 2.36507e+06,1410.97 2.36531e+06,1410.97 2.36554e+06,1410.97 \n",
       "  2.36578e+06,1410.97 2.36602e+06,1410.97 2.36626e+06,1410.97 2.3665e+06,1410.97 2.36674e+06,1410.97 2.36698e+06,1410.97 2.36722e+06,1410.97 2.36746e+06,1410.97 2.3677e+06,1410.97 2.36793e+06,1410.97 \n",
       "  2.36817e+06,1410.97 2.36841e+06,1410.97 2.36865e+06,1410.97 2.36889e+06,1410.97 2.36913e+06,1410.97 2.36937e+06,1410.97 2.36961e+06,1410.97 2.36985e+06,1410.97 2.37008e+06,1410.97 2.37032e+06,1410.97 \n",
       "  2.37056e+06,1410.97 2.3708e+06,1410.97 2.37104e+06,1410.97 2.37128e+06,1410.97 2.37152e+06,1410.97 2.37176e+06,1410.97 2.372e+06,1410.97 2.37224e+06,1410.97 2.37247e+06,1410.97 2.37271e+06,1410.97 \n",
       "  2.37295e+06,1410.97 2.37319e+06,1410.97 2.37343e+06,1410.97 2.37367e+06,1410.97 2.37391e+06,1410.97 2.37415e+06,1410.97 2.37439e+06,1410.97 2.37462e+06,1410.97 2.37486e+06,1410.97 2.3751e+06,1410.97 \n",
       "  2.37534e+06,1410.97 2.37558e+06,1410.97 2.37582e+06,1410.97 2.37606e+06,1410.97 2.3763e+06,1410.97 2.37654e+06,1410.97 2.37678e+06,1410.97 2.37701e+06,1410.97 2.37725e+06,1410.97 2.37749e+06,1410.97 \n",
       "  2.37773e+06,1410.97 2.37797e+06,1410.97 2.37821e+06,1410.97 2.37845e+06,1410.97 2.37869e+06,1410.97 2.37893e+06,1410.97 2.37916e+06,1410.97 2.3794e+06,1410.97 2.37964e+06,1410.97 2.37988e+06,1410.97 \n",
       "  2.38012e+06,1410.97 2.38036e+06,1410.97 2.3806e+06,1410.97 2.38084e+06,1410.97 2.38108e+06,1410.97 2.38132e+06,1410.97 2.38155e+06,1410.97 2.38179e+06,1410.97 2.38203e+06,1410.97 2.38227e+06,1410.97 \n",
       "  2.38251e+06,1410.97 2.38275e+06,1410.97 2.38299e+06,1410.97 2.38323e+06,1410.97 2.38347e+06,1410.97 2.3837e+06,1410.97 2.38394e+06,1410.97 2.38418e+06,1410.97 2.38442e+06,1410.97 2.38466e+06,1410.97 \n",
       "  2.3849e+06,1410.97 2.38514e+06,1410.97 2.38538e+06,1410.97 2.38562e+06,1410.97 2.38586e+06,1410.97 2.38609e+06,1410.97 2.38633e+06,1410.97 2.38657e+06,1410.97 2.38681e+06,1410.97 2.38705e+06,1410.97 \n",
       "  2.38729e+06,1410.97 2.38753e+06,1410.98 2.38777e+06,1410.98 2.38801e+06,1410.98 2.38824e+06,1410.98 2.38848e+06,1410.98 2.38872e+06,1410.98 2.38896e+06,1410.98 2.3892e+06,1410.98 2.38944e+06,1410.98 \n",
       "  \n",
       "  \"/>\n",
       "<path clip-path=\"url(#clip610)\" d=\"\n",
       "M1989.69 196.379 L2281.07 196.379 L2281.07 92.6992 L1989.69 92.6992  Z\n",
       "  \" fill=\"#ffffff\" fill-rule=\"evenodd\" fill-opacity=\"1\"/>\n",
       "<polyline clip-path=\"url(#clip610)\" style=\"stroke:#000000; stroke-linecap:butt; stroke-linejoin:round; stroke-width:4; stroke-opacity:1; fill:none\" points=\"\n",
       "  1989.69,196.379 2281.07,196.379 2281.07,92.6992 1989.69,92.6992 1989.69,196.379 \n",
       "  \"/>\n",
       "<polyline clip-path=\"url(#clip610)\" style=\"stroke:#009af9; stroke-linecap:butt; stroke-linejoin:round; stroke-width:4; stroke-opacity:1; fill:none\" points=\"\n",
       "  2013.59,144.539 2156.96,144.539 \n",
       "  \"/>\n",
       "<path clip-path=\"url(#clip610)\" d=\"M2194.69 164.227 Q2192.89 168.856 2191.18 170.268 Q2189.46 171.68 2186.59 171.68 L2183.19 171.68 L2183.19 168.115 L2185.69 168.115 Q2187.45 168.115 2188.42 167.282 Q2189.39 166.449 2190.57 163.347 L2191.34 161.403 L2180.85 135.893 L2185.37 135.893 L2193.47 156.171 L2201.57 135.893 L2206.08 135.893 L2194.69 164.227 Z\" fill=\"#000000\" fill-rule=\"evenodd\" fill-opacity=\"1\" /><path clip-path=\"url(#clip610)\" d=\"M2213.37 157.884 L2221.01 157.884 L2221.01 131.518 L2212.7 133.185 L2212.7 128.926 L2220.97 127.259 L2225.64 127.259 L2225.64 157.884 L2233.28 157.884 L2233.28 161.819 L2213.37 161.819 L2213.37 157.884 Z\" fill=\"#000000\" fill-rule=\"evenodd\" fill-opacity=\"1\" /></svg>\n"
      ]
     },
     "execution_count": 33,
     "metadata": {},
     "output_type": "execute_result"
    }
   ],
   "source": [
    "plot(Rn,ΔTᵥ,ylabel=\"ΔT\",xlabel=\"Rn\",xlim=(1e-7,1e-6),ylim=(0.0005,10))"
   ]
  },
  {
   "cell_type": "markdown",
   "metadata": {},
   "source": [
    "### Rn = 12 μm -> ΔT = 0.3 [K]\n",
    "### Rn = 4 μm -> ΔT = 1    [K]\n",
    "### Rn = 0.7 μm -> ΔT = 5 [K]"
   ]
  },
  {
   "cell_type": "code",
   "execution_count": 35,
   "metadata": {},
   "outputs": [
    {
     "data": {
      "text/plain": [
       "364659.5696798975"
      ]
     },
     "execution_count": 35,
     "metadata": {},
     "output_type": "execute_result"
    }
   ],
   "source": [
    "hᵥ - hₗ "
   ]
  },
  {
   "cell_type": "code",
   "execution_count": null,
   "metadata": {},
   "outputs": [],
   "source": []
  }
 ],
 "metadata": {
  "kernelspec": {
   "display_name": "Julia 1.6.6",
   "language": "julia",
   "name": "julia-1.6"
  },
  "language_info": {
   "file_extension": ".jl",
   "mimetype": "application/julia",
   "name": "julia",
   "version": "1.6.6"
  }
 },
 "nbformat": 4,
 "nbformat_minor": 2
}
