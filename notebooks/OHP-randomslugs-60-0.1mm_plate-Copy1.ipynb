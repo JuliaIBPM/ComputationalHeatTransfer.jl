{
 "cells": [
  {
   "cell_type": "code",
   "execution_count": null,
   "metadata": {
    "scrolled": true
   },
   "outputs": [],
   "source": [
    "using ComputationalHeatTransfer\n",
    "using LaTeXStrings\n",
    "using Revise\n",
    "using LinearAlgebra\n",
    "using DifferentialEquations\n",
    "using Interpolations\n",
    "using JLD2\n",
    "using Plots\n",
    "pyplot()  \n",
    "\n",
    "cd(dirname(pwd()))\n",
    "cd(\"src\") \n",
    "includet(\"OneDOHP.jl\")\n",
    "using ..OneDOHP"
   ]
  },
  {
   "cell_type": "markdown",
   "metadata": {},
   "source": [
    "## turned on boiling"
   ]
  },
  {
   "cell_type": "markdown",
   "metadata": {},
   "source": [
    "# the plate code initialization"
   ]
  },
  {
   "cell_type": "markdown",
   "metadata": {},
   "source": [
    "### Physical parameters"
   ]
  },
  {
   "cell_type": "code",
   "execution_count": null,
   "metadata": {},
   "outputs": [],
   "source": [
    "ρ = 2700;\n",
    "c = 8.97e02;\n",
    "k = 1.67e02;\n",
    "# d = 2e-3;\n",
    "d = 1e-3;\n",
    "params = HeatConductionParameters(ρ,c,k,thickness=d)"
   ]
  },
  {
   "cell_type": "markdown",
   "metadata": {},
   "source": [
    "### Geometry parameters"
   ]
  },
  {
   "cell_type": "code",
   "execution_count": null,
   "metadata": {},
   "outputs": [],
   "source": [
    "inch = 2.54e-2;\n",
    "Lx = 0.1524;\n",
    "Ly = 0.0648;"
   ]
  },
  {
   "cell_type": "code",
   "execution_count": null,
   "metadata": {},
   "outputs": [],
   "source": [
    "xlim = (-Lx/2,Lx/2) .*1.0\n",
    "ylim = (-Ly/2,Ly/2) .*1.0\n",
    "Δx, Δt = setstepsizes(params.α,gridPe=8.0,fourier=0.3)\n"
   ]
  },
  {
   "cell_type": "markdown",
   "metadata": {},
   "source": [
    "### Set up the evaporator and condenser"
   ]
  },
  {
   "cell_type": "code",
   "execution_count": null,
   "metadata": {},
   "outputs": [],
   "source": [
    "eb1 = Rectangle(0.5inch,1.0inch,1.5*Δx)\n",
    "Te = RigidTransform((0.7inch,-0.0),0.0)\n",
    "Te(eb1)\n",
    "\n",
    "eb2 = Rectangle(0.5inch,1.0inch,1.5*Δx)\n",
    "Te = RigidTransform((-0.7inch,-0.0),0.0)\n",
    "Te(eb2)\n",
    "\n",
    "cb1 = Rectangle(0.5inch*0.9,Ly*0.9/2,1.5*Δx)\n",
    "Tc = RigidTransform((-2.5inch,-0.0),0.0)\n",
    "Tc(cb1)\n",
    "\n",
    "cb2 = Rectangle(0.5inch*0.9,Ly*0.9/2,1.5*Δx)\n",
    "Tc = RigidTransform((2.5inch,-0.0),0.0)\n",
    "Tc(cb2)\n",
    "\n",
    "qe = 15500.0\n",
    "hc = 1500.0\n",
    "Tc = 0.0\n",
    "\n",
    "eparams1 = PrescribedHeatFluxRegion(qe,eb1);\n",
    "eparams2 = PrescribedHeatFluxRegion(qe,eb2);\n",
    "cparams1 = PrescribedHeatModelRegion(hc,Tc,cb1);\n",
    "cparams2 = PrescribedHeatModelRegion(hc,Tc,cb2);"
   ]
  },
  {
   "cell_type": "markdown",
   "metadata": {},
   "source": [
    "### Set up the OHP"
   ]
  },
  {
   "cell_type": "code",
   "execution_count": null,
   "metadata": {},
   "outputs": [],
   "source": [
    "ds = 1.5Δx\n",
    "nturn = 16\n",
    "#pitch = 0.125\n",
    "length_ohp = 46.25*1e-3\n",
    "height = 133.83*1e-3\n",
    "gap = d\n",
    "pitch = length_ohp/(2*nturn+1)\n",
    "x0, y0 = height/2, length_ohp/2\n",
    "x, y, xf, yf = ComputationalHeatTransfer.construct_ohp_curve(nturn,pitch,height,gap,ds,x0,y0,false,false,3pi/2)\n",
    "ohp = BasicBody(x,y)\n",
    "\n",
    "plot(ohp,fillalpha=0,linecolor=:blue,xlims=xlim,ylims=ylim,framestyle = :box)\n"
   ]
  },
  {
   "cell_type": "code",
   "execution_count": null,
   "metadata": {},
   "outputs": [],
   "source": [
    "ohpgeom = ComputationalHeatTransfer.LineSourceParams(ohp)\n",
    "qtmp = zeros(numpts(ohp));"
   ]
  },
  {
   "cell_type": "markdown",
   "metadata": {},
   "source": [
    "### Create the system"
   ]
  },
  {
   "cell_type": "code",
   "execution_count": null,
   "metadata": {},
   "outputs": [],
   "source": [
    "sys = HeatConduction(params,Δx,xlim,ylim,Δt,qline=ohpgeom,qflux=[eparams1,eparams2],qmodel=[cparams1,cparams2])\n",
    "#sys = HeatConduction(params,Δx,xlim,ylim,Δt,qline=ohpgeom)"
   ]
  },
  {
   "cell_type": "markdown",
   "metadata": {},
   "source": [
    "### Initialize state, and create the integrator"
   ]
  },
  {
   "cell_type": "code",
   "execution_count": null,
   "metadata": {},
   "outputs": [],
   "source": [
    "u0 = newstate(sys)\n",
    "tspan = (0.0,1.0)\n",
    "integrator = init(u0,tspan,sys);\n",
    "Tn = temperature(integrator);"
   ]
  },
  {
   "cell_type": "markdown",
   "metadata": {},
   "source": [
    "### Set up values for the OHP heat flux per unit length and advance the solution"
   ]
  },
  {
   "cell_type": "code",
   "execution_count": null,
   "metadata": {},
   "outputs": [],
   "source": [
    "fill!(qtmp,-0.0)\n",
    "set_linesource_strength!(sys,qtmp)"
   ]
  },
  {
   "cell_type": "markdown",
   "metadata": {},
   "source": [
    "### Time marching"
   ]
  },
  {
   "cell_type": "code",
   "execution_count": null,
   "metadata": {},
   "outputs": [],
   "source": [
    "num = 1000\n",
    "ΔN = 100\n",
    "\n",
    "\n",
    "Thist=[]\n",
    "\n",
    "@time for i = 1:num\n",
    "    Tn = ADI_timemarching!(Tn,sys,Δt)\n",
    "    \n",
    "    if mod(i,ΔN) == 0\n",
    "        push!(Thist,deepcopy(Tn))\n",
    "    end\n",
    "end"
   ]
  },
  {
   "cell_type": "code",
   "execution_count": null,
   "metadata": {},
   "outputs": [],
   "source": [
    "typeof(sys.qline[1].arccoord)"
   ]
  },
  {
   "cell_type": "markdown",
   "metadata": {},
   "source": [
    "### Plotting temperature contours"
   ]
  },
  {
   "cell_type": "code",
   "execution_count": null,
   "metadata": {},
   "outputs": [],
   "source": [
    "plot(Tn,sys.grid,legend=true,color=cgrad(:RdBu,rev=true),line_z=0,xlabel=\"x [m]\",ylabel=\"y [m]\",title=L\"T \\quad [\\mathrm{K}]\")"
   ]
  },
  {
   "cell_type": "markdown",
   "metadata": {},
   "source": [
    "### Plot the temperature along the OHP channel"
   ]
  },
  {
   "cell_type": "code",
   "execution_count": null,
   "metadata": {},
   "outputs": [],
   "source": [
    "# plot(sys.qline[1].arccoord,temperature_linesource(integrator),xlabel=L\"\\xi\",ylabel=L\"T - T_0\")"
   ]
  },
  {
   "cell_type": "markdown",
   "metadata": {},
   "source": [
    "# OHP inner part"
   ]
  },
  {
   "cell_type": "code",
   "execution_count": null,
   "metadata": {},
   "outputs": [],
   "source": [
    "nondi_Q_to_Q = 1.35E+02\n",
    "t_to_nondi_t = 2.83E-01\n",
    "function di_T_to_nondi_T(di_T;T0=295.0) \n",
    "    \n",
    "    (di_T+T0)/T0\n",
    "    \n",
    "end\n",
    "\n"
   ]
  },
  {
   "cell_type": "code",
   "execution_count": null,
   "metadata": {},
   "outputs": [],
   "source": [
    "    ω = sqrt(2.45E+03);\n",
    "    ℘L = 2.05E+05;\n",
    "    k = 0.106024683\n",
    "\n",
    "    θinitial=1.0\n",
    "    θc = 1.0; # useless\n",
    "\n",
    "    Hwc = 0.0; #not useful later on. H between wall and condenser, \n",
    "#     Hₗ   =  1600.0; # liquid wall heat transfer coeffcient\n",
    "    Hₗ   =  1.01E+03; # liquid wall heat transfer coeffcient for static fluids\n",
    "    Hδ  = 4.65E+02;\n"
   ]
  },
  {
   "cell_type": "code",
   "execution_count": null,
   "metadata": {},
   "outputs": [],
   "source": [
    "    d = 6.56e-3 # dimensionless diameter\n",
    "    L = 34.35  # total length of the pipe when streched to a 1D pipe\n",
    "    L2D = 1.0 # the actual length of the bended pipe in the real world\n",
    "    angle = 0*pi/2 # inclination angle \n",
    "    ΔTthres = 0.3/295.0; # use a small threshold\n",
    "    closedornot = true"
   ]
  },
  {
   "cell_type": "code",
   "execution_count": null,
   "metadata": {},
   "outputs": [],
   "source": [
    "    nucleatenum = 256\n",
    "    Xstations = sort(rand(nucleatenum).*L);\n",
    "#     Xstations = LinRange(0.0,L-L/nucleatenum,nucleatenum)\n",
    "#     boilingΔt = 0.05"
   ]
  },
  {
   "cell_type": "code",
   "execution_count": null,
   "metadata": {},
   "outputs": [],
   "source": [
    "tube = Tube(d,L,L2D,angle,ΔTthres,closedornot);"
   ]
  },
  {
   "cell_type": "code",
   "execution_count": null,
   "metadata": {},
   "outputs": [],
   "source": [
    "# useless\n",
    "Xe = map(tuple, [1.0], [3.0])\n",
    "We = [0.0]\n",
    "evap = Evaporator(Xe,We);"
   ]
  },
  {
   "cell_type": "code",
   "execution_count": null,
   "metadata": {},
   "outputs": [],
   "source": [
    "# useless\n",
    "Xc = map(tuple, [0.0,3.0], [1.0,4.0])\n",
    "cond = Condenser(θc,Xc,Hwc);"
   ]
  },
  {
   "cell_type": "code",
   "execution_count": null,
   "metadata": {},
   "outputs": [],
   "source": [
    "X0,realratio = randomXp(L,numofslugs=60,chargeratio=0.45)\n",
    "\n",
    "dXdt0_l = zeros(length(X0))\n",
    "dXdt0_r = zeros(length(X0))\n",
    "dXdt0 = map(tuple,dXdt0_l,dXdt0_r)\n",
    "\n",
    "\n",
    "realratio"
   ]
  },
  {
   "cell_type": "code",
   "execution_count": null,
   "metadata": {},
   "outputs": [],
   "source": [
    "N=numpts(ohp)\n",
    "\n",
    "ρ = 102.593344 # density ratio\n",
    "Xarrays,θarrays = constructXarrays(X0,N,θinitial,L)\n",
    "liquids=Liquid(Hₗ,ρ,ω,℘L,X0,dXdt0,Xarrays,θarrays);"
   ]
  },
  {
   "cell_type": "code",
   "execution_count": null,
   "metadata": {},
   "outputs": [],
   "source": [
    "# P = [1.0,1.0,1.0,1.0,1.0]; # closed end\n",
    "\n",
    "γ = 1.4;\n",
    "# Hδ = 4.64E+02\n",
    "P = 0*zeros(length(X0)) .+ 1.0;\n",
    "δ = 0*zeros(length(X0)) .+ 2.78E-02;\n",
    "# δ = 0*zeros(length(X0)) .+ 2.78E-02 .* 10; # use a random film thickness\n",
    "vapors=Vapor(γ,Hδ,P,δ);"
   ]
  },
  {
   "cell_type": "code",
   "execution_count": null,
   "metadata": {},
   "outputs": [],
   "source": [
    "α = 1.154e-5 # nondimensional thermal diffusivity = (αₐ d^2) / (νₗ height^2)\n",
    "# Xwallarray,θwallarray = constructXarrays(L,N,θinitial)\n",
    "Xwallarray,θwallarray = constructXarrays(sys.qline[1].arccoord,L,θinitial)\n",
    "θwallarray = di_T_to_nondi_T(temperature_linesource(integrator));\n",
    "\n",
    "wall = Wall(α,Δt,Xstations,Xwallarray,θwallarray);"
   ]
  },
  {
   "cell_type": "code",
   "execution_count": null,
   "metadata": {},
   "outputs": [],
   "source": [
    "sys0_nomapping = PHPSystem_nomapping(tube,evap,cond,liquids,vapors,wall);\n",
    "θ_interp_walltoliquid, θ_interp_liquidtowall, H_interp_liquidtowall, P_interp_liquidtowall = sys_interpolation(sys0_nomapping)\n",
    "mapping = Mapping(θ_interp_walltoliquid, θ_interp_liquidtowall, H_interp_liquidtowall, P_interp_liquidtowall);"
   ]
  },
  {
   "cell_type": "code",
   "execution_count": null,
   "metadata": {},
   "outputs": [],
   "source": [
    "sys0 = PHPSystem(tube,evap,cond,liquids,vapors,wall,mapping);"
   ]
  },
  {
   "cell_type": "markdown",
   "metadata": {},
   "source": [
    "### construct state vector U"
   ]
  },
  {
   "cell_type": "code",
   "execution_count": null,
   "metadata": {},
   "outputs": [],
   "source": [
    "Lvaporplug = XptoLvaporplug(X0,sys0.tube.L,sys0.tube.closedornot)\n",
    "M = nondi_PtoD(P) .* Lvaporplug\n",
    "# M = P.^(1/γ).* Lvaporplug\n",
    "\n",
    "\n",
    "u=[XMδtovec(X0,dXdt0,M,δ); liquidθtovec(sys0.liquid.θarrays)];"
   ]
  },
  {
   "cell_type": "code",
   "execution_count": null,
   "metadata": {},
   "outputs": [],
   "source": [
    "cb_boiling =  DiscreteCallback(boiling_condition,boiling_affect!)\n",
    "# cb_boiling =  PeriodicCallback(boiling_affect!,0.01*t_to_nondi_t)\n",
    "cb_merging =  DiscreteCallback(merging_condition,merging_affect!)\n",
    "\n",
    "cbst = CallbackSet(cb_boiling,cb_merging);"
   ]
  },
  {
   "cell_type": "markdown",
   "metadata": {},
   "source": [
    "# combine inner tube and plate together"
   ]
  },
  {
   "cell_type": "code",
   "execution_count": null,
   "metadata": {},
   "outputs": [],
   "source": [
    "tspan = (0.0, 300.0);\n",
    "dt_record = tspan[2] /150;\n",
    "\n",
    "tstep=5e-4\n",
    "\n",
    "N_iter = 1\n",
    "# tstep_plate = tstep/N_iter\n",
    "# dt_record = tstep"
   ]
  },
  {
   "cell_type": "code",
   "execution_count": null,
   "metadata": {},
   "outputs": [],
   "source": [
    "u0 = newstate(sys)\n",
    "integrator_plate = init(u0,tspan,sys)\n",
    "Tplate = temperature(integrator_plate);"
   ]
  },
  {
   "cell_type": "code",
   "execution_count": null,
   "metadata": {},
   "outputs": [],
   "source": [
    "p = sys0\n",
    "u=[XMδtovec(X0,dXdt0,M,δ); liquidθtovec(sys0.liquid.θarrays)];\n",
    "prob = ODEProblem(ODE_innertube, u, tspan, p)\n",
    "integrator_tube = init(prob, RK4(),save_everystep=false, dt=tstep*t_to_nondi_t, callback=cbst);"
   ]
  },
  {
   "cell_type": "code",
   "execution_count": null,
   "metadata": {},
   "outputs": [],
   "source": [
    "plate_hist = []\n",
    "tube_hist  = []\n",
    "\n",
    "currentsys = integrator_tube.p\n",
    "currentsys = getcurrentsys(integrator_tube.u,currentsys);"
   ]
  },
  {
   "cell_type": "code",
   "execution_count": null,
   "metadata": {},
   "outputs": [],
   "source": [
    "# integrator_plate = plate_hist[end-3]\n",
    "# integrator_tube = tube_hist[end-3]\n",
    "\n",
    "# currentsys = integrator_tube.p\n",
    "# currentsys = getcurrentsys(integrator_tube.u,currentsys);\n",
    "\n",
    "# tspan = (integrator_plate.t, integrator_plate.t + 1.0);\n",
    "# dt_record = 0.01"
   ]
  },
  {
   "cell_type": "code",
   "execution_count": null,
   "metadata": {},
   "outputs": [],
   "source": [
    "# tspan = (integrator_plate.t, integrator_plate.t + 0.2);\n",
    "# dt_record = tstep"
   ]
  },
  {
   "cell_type": "code",
   "execution_count": null,
   "metadata": {
    "scrolled": false
   },
   "outputs": [],
   "source": [
    "\n",
    "@time for t in tspan[1]:tstep:tspan[2]\n",
    "    \n",
    "\n",
    "#   for j in 1:N_iter\n",
    "        currentsys.wall.θarray = di_T_to_nondi_T(temperature_linesource(integrator_plate))\n",
    "        currentsys = getcurrentsys(integrator_tube.u,currentsys)\n",
    "\n",
    "\n",
    "        nondi_qtmp = sys_to_heatflux(currentsys)\n",
    "        qtmp = nondi_Q_to_Q*nondi_qtmp\n",
    "        set_linesource_strength!(sys,qtmp)\n",
    "\n",
    "\n",
    "        Tplate = ADI_timemarching!(Tplate,sys,tstep)\n",
    "#     end\n",
    "    integrator_plate.t += tstep\n",
    "    \n",
    "    # reinitialize the integrator_tube to avoid some mysterious problems\n",
    "    prob = ODEProblem(ODE_innertube, deepcopy(integrator_tube.u), (integrator_plate.t*t_to_nondi_t-tstep*t_to_nondi_t,integrator_plate.t*t_to_nondi_t), currentsys)\n",
    "    integrator_tube = init(prob, RK4(), callback=cbst, dt=tstep*t_to_nondi_t);\n",
    "    step!(integrator_tube);\n",
    "#     @time step!(integrator_tube, tstep*t_to_nondi_t)\n",
    "\n",
    "    if (mod(integrator_plate.t,dt_record) < 1e-6) || (mod(-integrator_plate.t,dt_record) < 1e-6)\n",
    "        push!(plate_hist,deepcopy(integrator_plate)); \n",
    "        push!(tube_hist,deepcopy(integrator_tube));\n",
    "        println(integrator_plate.t)\n",
    "    end\n",
    "    \n",
    "end"
   ]
  },
  {
   "cell_type": "code",
   "execution_count": null,
   "metadata": {},
   "outputs": [],
   "source": [
    "        push!(plate_hist,deepcopy(integrator_plate)); \n",
    "        push!(tube_hist,deepcopy(integrator_tube));\n",
    "        println(integrator_plate.t)"
   ]
  },
  {
   "cell_type": "code",
   "execution_count": null,
   "metadata": {},
   "outputs": [],
   "source": [
    "sysfinal = []\n",
    "for i = 1:length(tube_hist)\n",
    "    push!(sysfinal, deepcopy(getcurrentsys(tube_hist[i].u,tube_hist[i].p)))\n",
    "end"
   ]
  },
  {
   "cell_type": "code",
   "execution_count": null,
   "metadata": {},
   "outputs": [],
   "source": [
    "# plot(ohp,fillalpha=0,line_z=temperature_linesource(integrator_plate))"
   ]
  },
  {
   "cell_type": "code",
   "execution_count": null,
   "metadata": {},
   "outputs": [],
   "source": [
    "maximum(temperature(plate_hist[end-5])[:])"
   ]
  },
  {
   "cell_type": "code",
   "execution_count": null,
   "metadata": {
    "scrolled": true
   },
   "outputs": [],
   "source": [
    "Tmax = maximum(temperature(plate_hist[end-1])[:])\n",
    "Tmin = 0.0\n",
    "@gif for i = 1:1:length(plate_hist)\n",
    "# @gif     for i = 1:1:1  \n",
    "    \n",
    "plot(temperature(plate_hist[i]),sys.grid,legend=true,color=cgrad(:RdBu,rev=true),clim=(Tmin,Tmax),line_z=0,xlabel=\"x [m]\",ylabel=\"y [m]\",title=string(\"time = \", round(plate_hist[i].t, digits=2), \"[s] \\n\",  L\"T - T0 \\quad [\\mathrm{K}]\"))\n",
    "end"
   ]
  },
  {
   "cell_type": "code",
   "execution_count": null,
   "metadata": {},
   "outputs": [],
   "source": [
    "minimum(temperature(plate_hist[end]))"
   ]
  },
  {
   "cell_type": "code",
   "execution_count": null,
   "metadata": {},
   "outputs": [],
   "source": [
    "length(plate_hist)"
   ]
  },
  {
   "cell_type": "code",
   "execution_count": null,
   "metadata": {},
   "outputs": [],
   "source": [
    "plot(sys.qline[1].arccoord,sys_to_heatflux(sysfinal[end]))"
   ]
  },
  {
   "cell_type": "code",
   "execution_count": null,
   "metadata": {},
   "outputs": [],
   "source": [
    "# @gif for i=1:1:1\n",
    "#     Htmp = sys_to_Harray(sysfinal[i])\n",
    "#     plot(ohp,fillalpha=0,linecolor=cgrad([:gold, :blue],rev=true),line_z=Htmp,xlabel=\"x \",ylabel=\"y \",border=:none,axis=nothing)\n",
    "# end"
   ]
  },
  {
   "cell_type": "code",
   "execution_count": null,
   "metadata": {},
   "outputs": [],
   "source": [
    "@gif for i=1:10:length(sysfinal)\n",
    "    Htmp = sys_to_Harray(sysfinal[i])\n",
    "    plot(ohp,fillalpha=0,linecolor=cgrad([:gold, :blue],rev=true),line_z=Htmp,xlabel=\"x \",ylabel=\"y \",border=:none,axis=nothing)\n",
    "end"
   ]
  },
  {
   "cell_type": "markdown",
   "metadata": {},
   "source": [
    "# plot the OHP"
   ]
  },
  {
   "cell_type": "code",
   "execution_count": null,
   "metadata": {},
   "outputs": [],
   "source": [
    "plot(sysfinal[60],xlim=(19.0,20.0),ylim=(295.0,298.0))"
   ]
  },
  {
   "cell_type": "code",
   "execution_count": null,
   "metadata": {},
   "outputs": [],
   "source": [
    "@gif for ii=1:length(sysfinal)\n",
    "     plot(sysfinal[ii],plottype=\"T\",xlim=(19.0,20.0))\n",
    "end"
   ]
  },
  {
   "cell_type": "code",
   "execution_count": null,
   "metadata": {},
   "outputs": [],
   "source": [
    "sysfinal[end].mapping.H_interp_liquidtowall[8.5:0.01:8.7]"
   ]
  },
  {
   "cell_type": "code",
   "execution_count": null,
   "metadata": {},
   "outputs": [],
   "source": [
    "plot(sysfinal[end-30],plottype=\"T\",xlim=(8.0,9.0))"
   ]
  },
  {
   "cell_type": "code",
   "execution_count": null,
   "metadata": {},
   "outputs": [],
   "source": [
    "plot(sysfinal[end-3],plottype=\"T\",xlim=(8.0,9.0))"
   ]
  },
  {
   "cell_type": "code",
   "execution_count": null,
   "metadata": {},
   "outputs": [],
   "source": [
    "plot(sysfinal[end],plottype=\"ΔT\",ylim=(-0.1,0.1))"
   ]
  },
  {
   "cell_type": "code",
   "execution_count": null,
   "metadata": {},
   "outputs": [],
   "source": [
    "@gif for ii=1:length(sysfinal)\n",
    "    plot(sysfinal[ii],plottype=\"ΔT\")\n",
    "end"
   ]
  },
  {
   "cell_type": "code",
   "execution_count": null,
   "metadata": {},
   "outputs": [],
   "source": [
    "# plate_hist, integrator_plate = load(\"plate_OHP_boiling.jld2\", \"plate_hist\",  \"integrator_plate\")"
   ]
  },
  {
   "cell_type": "code",
   "execution_count": null,
   "metadata": {},
   "outputs": [],
   "source": [
    "# tube_hist, integrator_tube = load(\"tube_OHP_boiling.jld2\", \"tube_hist\",  \"integrator_tube\")"
   ]
  },
  {
   "cell_type": "code",
   "execution_count": null,
   "metadata": {},
   "outputs": [],
   "source": [
    "sysfinal"
   ]
  },
  {
   "cell_type": "code",
   "execution_count": null,
   "metadata": {},
   "outputs": [],
   "source": [
    "save(\"plate_OHP_0.1.jld2\", \"plate_hist\", plate_hist, \"integrator_plate\", integrator_plate)"
   ]
  },
  {
   "cell_type": "code",
   "execution_count": null,
   "metadata": {},
   "outputs": [],
   "source": [
    "save(\"tube_OHP_0.1.jld2\", \"tube_hist\", tube_hist, \"integrator_tube\",integrator_tube)"
   ]
  },
  {
   "cell_type": "code",
   "execution_count": null,
   "metadata": {},
   "outputs": [],
   "source": [
    "inch = 2.54e-2;\n",
    "\n",
    "# x = [-2.7inch,0.0,2.7inch];\n",
    "# y = [0.0,0.0,0.0];\n",
    "\n",
    "x = [0.0]\n",
    "y = [0.0]\n",
    "\n",
    "X =  VectorData(x,y);"
   ]
  },
  {
   "cell_type": "code",
   "execution_count": null,
   "metadata": {},
   "outputs": [],
   "source": [
    "H = Regularize(X,cellsize(sys),I0=origin(sys.grid))\n",
    "g = ScalarData(X);"
   ]
  },
  {
   "cell_type": "code",
   "execution_count": null,
   "metadata": {},
   "outputs": [],
   "source": [
    "ghist = []\n",
    "thist = []\n",
    "for i = 1:length(plate_hist)\n",
    "    H(g,temperature(plate_hist[i]))\n",
    "    append!(ghist,deepcopy(g))\n",
    "    append!(thist,plate_hist[i].t)\n",
    "end"
   ]
  },
  {
   "cell_type": "code",
   "execution_count": null,
   "metadata": {},
   "outputs": [],
   "source": [
    "RTDx,RTDy = load(\"RTD4.jld2\",\"RTDx\",\"RTDy\")"
   ]
  },
  {
   "cell_type": "code",
   "execution_count": null,
   "metadata": {},
   "outputs": [],
   "source": [
    "plot(thist,ghist)\n",
    "scatter!(RTDx .- RTDx[1],RTDy .- RTDy[1])"
   ]
  },
  {
   "cell_type": "code",
   "execution_count": null,
   "metadata": {},
   "outputs": [],
   "source": [
    "rand(10)"
   ]
  },
  {
   "cell_type": "code",
   "execution_count": null,
   "metadata": {},
   "outputs": [],
   "source": []
  }
 ],
 "metadata": {
  "@webio": {
   "lastCommId": null,
   "lastKernelId": null
  },
  "kernelspec": {
   "display_name": "Julia 1.5.4",
   "language": "julia",
   "name": "julia-1.5"
  },
  "language_info": {
   "file_extension": ".jl",
   "mimetype": "application/julia",
   "name": "julia",
   "version": "1.5.4"
  }
 },
 "nbformat": 4,
 "nbformat_minor": 5
}
