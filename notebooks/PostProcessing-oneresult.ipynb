{
 "cells": [
  {
   "cell_type": "code",
   "execution_count": 1,
   "metadata": {},
   "outputs": [],
   "source": [
    "using Pkg"
   ]
  },
  {
   "cell_type": "code",
   "execution_count": 2,
   "metadata": {},
   "outputs": [
    {
     "name": "stderr",
     "output_type": "stream",
     "text": [
      "\u001b[32m\u001b[1m  Activating\u001b[22m\u001b[39m project at `~/Documents/GitHub/ComputationalHeatTransfer.jl`\n"
     ]
    }
   ],
   "source": [
    "Pkg.activate(dirname(pwd()))"
   ]
  },
  {
   "cell_type": "code",
   "execution_count": 3,
   "metadata": {},
   "outputs": [
    {
     "name": "stderr",
     "output_type": "stream",
     "text": [
      "┌ Warning: For saving to png with the `Plotly` backend `PlotlyBase` and `PlotlyKaleido` need to be installed.\n",
      "│   err = ArgumentError(\"Package PlotlyBase not found in current path.\\n- Run `import Pkg; Pkg.add(\\\"PlotlyBase\\\")` to install the PlotlyBase package.\")\n",
      "└ @ Plots /Users/yuxuanli/.julia/packages/Plots/4UTBj/src/backends.jl:425\n"
     ]
    },
    {
     "data": {
      "text/plain": [
       "Plots.PlotlyBackend()"
      ]
     },
     "execution_count": 3,
     "metadata": {},
     "output_type": "execute_result"
    }
   ],
   "source": [
    "using ComputationalHeatTransfer\n",
    "using LaTeXStrings\n",
    "using JLD2\n",
    "using Plots\n",
    "plotly()  "
   ]
  },
  {
   "cell_type": "markdown",
   "metadata": {},
   "source": [
    "## Get fluid properties"
   ]
  },
  {
   "cell_type": "code",
   "execution_count": 4,
   "metadata": {},
   "outputs": [
    {
     "data": {
      "text/plain": [
       "291.2"
      ]
     },
     "execution_count": 4,
     "metadata": {},
     "output_type": "execute_result"
    }
   ],
   "source": [
    "fluid_type = \"butane\"\n",
    "Tᵥ = 291.2"
   ]
  },
  {
   "cell_type": "markdown",
   "metadata": {},
   "source": [
    "## Read data"
   ]
  },
  {
   "cell_type": "code",
   "execution_count": 5,
   "metadata": {},
   "outputs": [],
   "source": [
    "using JLD2"
   ]
  },
  {
   "cell_type": "code",
   "execution_count": 6,
   "metadata": {},
   "outputs": [
    {
     "data": {
      "text/plain": [
       "\"/Users/yuxuanli/Documents/GitHub/ComputationalHeatTransfer.jl/notebooks\""
      ]
     },
     "execution_count": 6,
     "metadata": {},
     "output_type": "execute_result"
    }
   ],
   "source": [
    "pwd()"
   ]
  },
  {
   "cell_type": "code",
   "execution_count": 7,
   "metadata": {},
   "outputs": [
    {
     "data": {
      "text/plain": [
       "40"
      ]
     },
     "execution_count": 7,
     "metadata": {},
     "output_type": "execute_result"
    }
   ],
   "source": [
    "OHPdata = load(\"/Users/yuxuanli/Documents/OHPnume/ASETS-II OHP 2 LARGE HEATER_40W.jld2\")\n",
    "power = 40\n"
   ]
  },
  {
   "cell_type": "code",
   "execution_count": 8,
   "metadata": {},
   "outputs": [],
   "source": [
    "#     power = 20\n",
    "#     OHPdata = load(dirname(dirname(dirname(pwd())))*\"/OHPnume/d1.5e-3/\"*namei);\n",
    "    \n",
    "    ohp = OHPdata[\"ohp\"]\n",
    "    boil_data = OHPdata[\"boil_data\"]\n",
    "    tube_hist_t = OHPdata[\"tube_hist_t\"]\n",
    "    tube_hist_θwall = OHPdata[\"tube_hist_θwall\"]\n",
    "    tube_hist_u = OHPdata[\"tube_hist_u\"]\n",
    "    integrator_tube = OHPdata[\"integrator_tube\"]\n",
    "    sysfinal = getsysfinal(tube_hist_u,tube_hist_θwall,integrator_tube);\n",
    "\n",
    "    plate_T_hist = OHPdata[\"plate_T_hist\"]\n",
    "\n",
    "    integrator_plate = OHPdata[\"integrator_plate\"]\n",
    "    sys = integrator_plate.p\n",
    "    \n",
    "    \n",
    "    x = [-2.75inch,-1.4inch,-0.8inch,0.0,0.0,0.8inch,1.4inch,2.75inch]\n",
    "    y = [0.0,0.0,0.0,0.0,0.4inch,0.0,0.0,0.0];\n",
    "    X =  VectorData(x,y);\n",
    "    H = Regularize(X,cellsize(sys),I0=origin(sys.grid))\n",
    "    g = ScalarData(X);\n",
    "    ghist = getghist(g,H,plate_T_hist);\n",
    "    thist = tube_hist_t;"
   ]
  },
  {
   "cell_type": "markdown",
   "metadata": {},
   "source": [
    "## Get RTD result for OHP"
   ]
  },
  {
   "cell_type": "code",
   "execution_count": null,
   "metadata": {},
   "outputs": [],
   "source": [
    "import XLSX"
   ]
  },
  {
   "cell_type": "code",
   "execution_count": null,
   "metadata": {},
   "outputs": [],
   "source": [
    "# xf = XLSX.readxlsx(\"20190613_F_PD_#004_O001_H001_P040_expA.xlsx\")\n",
    "# starti = 3603\n",
    "# RTD = xf[\"Raw Data!G:N\"][starti:end,:];\n",
    "# RTDt = (1:size(RTD,1)) .+ starti;"
   ]
  },
  {
   "cell_type": "code",
   "execution_count": null,
   "metadata": {},
   "outputs": [],
   "source": [
    "# namei = \"20190604_F_PD_%23005_O002_H001_P010_expA.xlsx\"\n",
    "# namei = \"20190606_F_PD_%23006_O002_H001_P020_expA.xlsx\"\n",
    "# namei = \"20190612_F_PD_%23007_O002_H001_P030_expA.xlsx\"\n",
    "namei = \"20190613_F_PD_%23008_O002_H001_P040_expA.xlsx\"\n",
    "# namei = \"20190613_F_PD_%23004_O001_H001_P040_expA.xlsx\"\n",
    "\n",
    "xf = XLSX.readxlsx(dirname(dirname(dirname(pwd())))*\"/OHPexp/\"*namei)\n",
    "    Onum, Hnum, power_exp = getconfig(namei)\n",
    "    RTD,RTDt = getRTD(xf,Onum);"
   ]
  },
  {
   "cell_type": "markdown",
   "metadata": {},
   "source": [
    "## boiling frequency"
   ]
  },
  {
   "cell_type": "code",
   "execution_count": null,
   "metadata": {},
   "outputs": [],
   "source": [
    "Xstations = sysfinal[end].wall.Xstations;\n",
    "tend = boil_data[end,2]\n",
    "boil_dt = 0.1;"
   ]
  },
  {
   "cell_type": "code",
   "execution_count": null,
   "metadata": {},
   "outputs": [],
   "source": [
    "using SparseArrays "
   ]
  },
  {
   "cell_type": "code",
   "execution_count": null,
   "metadata": {},
   "outputs": [],
   "source": [
    "boil_matrix=spzeros(size(Xstations,1),Int64(round(tend/boil_dt)));\n",
    "for tnum = 1:size(boil_matrix,2)\n",
    "     boil_index = findall(x->Int64(round(x/boil_dt))==tnum,boil_data[:,2])\n",
    "\n",
    "    if length(boil_index) != 0\n",
    "        i_station_temp = Int64.(boil_data[boil_index,1])\n",
    "        for i in i_station_temp\n",
    "            boil_matrix[i,tnum] = 1\n",
    "        end\n",
    "    end\n",
    "end\n"
   ]
  },
  {
   "cell_type": "code",
   "execution_count": null,
   "metadata": {},
   "outputs": [],
   "source": [
    "boil_num_t = sum(boil_matrix, dims=1)'\n",
    "boil_num_x = sum(boil_matrix, dims=2);\n",
    "t_boil = boil_dt:boil_dt:boil_dt*length(boil_num_t)"
   ]
  },
  {
   "cell_type": "code",
   "execution_count": null,
   "metadata": {},
   "outputs": [],
   "source": [
    "using EasyFit\n",
    "m10 = movavg(vec(boil_num_t),10);"
   ]
  },
  {
   "cell_type": "markdown",
   "metadata": {},
   "source": [
    "## Contour graphs"
   ]
  },
  {
   "cell_type": "code",
   "execution_count": null,
   "metadata": {},
   "outputs": [],
   "source": [
    "gr()\n",
    "Hₗ = sysfinal[1].liquid.Hₗ\n",
    "adjust = 1e-2;\n",
    "\n",
    "anim = @animate for i=1:length(sysfinal)\n",
    "    Htmp = sys_to_Harray(sysfinal[i])\n",
    "    Htmp_marker = round.(div.(Htmp,Hₗ-1e-10))\n",
    "    plot(ohp,clim=(0,2),fillalpha=0,linewidth=2.0,linecolor=palette([:yellow,  :blue, :green]),\n",
    "        line_z=Htmp_marker,xlabel=\"x \",ylabel=\"y \",border=:none,axis=nothing,bbox_inches=\"tight\")\n",
    "        annotate!(0.0, 0.028, string(\"time = \", round(tube_hist_t[i], digits=2), \"[s]\"), :black,legend=false)\n",
    "    scatter!([-0.066+adjust],[-0.028],color=:yellow);scatter!([-0.03+adjust],[-0.028],color=:green);scatter!([0.02+adjust],[-0.028],color=:blue);\n",
    "    annotate!(-0.05+0.002+adjust, -0.028, \"dry vapor\", :black)\n",
    "    annotate!(-0.01+0.005+adjust, -0.028, \"vapor with film\", :black)\n",
    "    annotate!(0.03+0.002+adjust, -0.028, \"liquid\", :black)\n",
    "end\n",
    "gif(anim, \"slug_fps15.gif\", fps = 15)"
   ]
  },
  {
   "cell_type": "markdown",
   "metadata": {},
   "source": [
    "### plate T [K]"
   ]
  },
  {
   "cell_type": "code",
   "execution_count": null,
   "metadata": {},
   "outputs": [],
   "source": [
    "gr()\n",
    "Tmax = maximum(plate_T_hist[end])\n",
    "Tmin = minimum(plate_T_hist[1])\n",
    "xlim = integrator_plate.p.grid.xlim[1]\n",
    "ylim = integrator_plate.p.grid.xlim[2]\n",
    "\n",
    "anim = @animate for i = 1:1:length(plate_T_hist)\n",
    "# @gif for i = 1:1:1\n",
    "heatmap(plate_T_hist[i],sys.grid,legend=true,color=cgrad(:thermal),\n",
    "        xlimit=xlim,ylimit=ylim,clim=(Tmin,Tmax),line_z=0,xlabel=\"x [m]\",ylabel=\"y [m]\",\n",
    "        colorbar_title = \"T[K]\")\n",
    "scatter!([x[1],x[4],x[8]],[y[1],y[4],y[8]])\n",
    "annotate!(x[1]+0.002, y[1]+0.005, \"RTD1\", :white)\n",
    "annotate!(x[4]+0.002, y[4]+0.005, \"RTD4\", :white)\n",
    "annotate!(x[8]-0.001, y[8]+0.005, \"RTD8\", :white)\n",
    "annotate!(0.05, -0.028, string(\"time = \", round(tube_hist_t[i], digits=2), \"[s]\"), :white,legend=false)\n",
    "end\n",
    "gif(anim, \"temperature_fps15.gif\", fps = 15)"
   ]
  },
  {
   "cell_type": "markdown",
   "metadata": {},
   "source": [
    "## temperature curve"
   ]
  },
  {
   "cell_type": "code",
   "execution_count": null,
   "metadata": {},
   "outputs": [],
   "source": [
    "pyplot()\n",
    "i = 1 #RTD number\n",
    "\n",
    "p1 = plot(thist,ghist[i] .-Tᵥ, color=:red, label=string(\"RTD\", i,\" simulation\"),linewidth=2,legend = :topleft)\n",
    "scatter!(RTDt .- RTDt[1],RTD[:,i] .- RTD[1,i], color=:red, label=string(\"RTD\", i,\" experiment\"))\n",
    "\n",
    "i = 4 #RTD number\n",
    "\n",
    "plot!(thist,ghist[i] .-Tᵥ, color=:green, label=string(\"RTD\", i,\" simulation\"),linewidth=2)\n",
    "scatter!(RTDt .- RTDt[1],RTD[:,i] .- RTD[1,i], color=:green, label=string(\"RTD\", i,\" experiment\"))\n",
    "\n",
    "i = 8 #RTD number\n",
    "plot!(thist,ghist[i] .-Tᵥ,color=:orange,label=string(\"RTD\", i,\" simulation\"),linewidth=2)\n",
    "scatter!(RTDt .- RTDt[1],RTD[:,i] .- RTD[1,i], color=:orange, label=string(\"RTD\", i,\" experiment\"),\n",
    "    xlabel=\"time [s]\",ylabel=\"T-T₀ [K]\",xlim=(0,300),title=(\"temperature curve: OHP1 large heater\"))\n",
    "\n",
    "savefig(p1,\"temp_curve.pdf\")\n",
    "# p1"
   ]
  },
  {
   "cell_type": "code",
   "execution_count": null,
   "metadata": {
    "scrolled": true
   },
   "outputs": [],
   "source": [
    "pyplot()\n",
    "i1 = 4 #RTD number\n",
    "i2 = 8 #RTD number\n",
    "\n",
    "p1 = plot(thist,power./(ghist[i1] .-ghist[i2]),label=string(\"conductance simulation\"),linewidth=2,legend=:topleft)\n",
    "scatter!(RTDt .- RTDt[1],power./(RTD[:,i1] .- RTD[:,i2]), label=string(\"conductance experiment\"),\n",
    "    xlim=(0,thist[end]),ylim=(-0.2,10),title=\"thermal conductance and boiling frequency\",xlabel=\"time [s]\",ylabel=\"P/(T₄-T₈) [W/K]\")\n",
    "plot!(twinx(), t_boil,m10.x./boil_dt, color=:orange, ylabel=\"f [HZ]\",ylim=(-2,200),xlim=(0,thist[end]),label=\"overall boiling frequency (moving averaged)\")\n",
    "# plot!(right_bottom=10Plots.mm)\n",
    "savefig(p1,\"cond_curve.pdf\")\n",
    "# p1"
   ]
  },
  {
   "cell_type": "markdown",
   "metadata": {},
   "source": [
    "## boilng site"
   ]
  },
  {
   "cell_type": "code",
   "execution_count": null,
   "metadata": {},
   "outputs": [],
   "source": [
    "using Interpolations"
   ]
  },
  {
   "cell_type": "code",
   "execution_count": null,
   "metadata": {},
   "outputs": [],
   "source": [
    "ql = sys.qline[1]\n",
    "interp_linear_x = LinearInterpolation(ql.arccoord, ql.body.x,extrapolation_bc = Line());\n",
    "interp_linear_y = LinearInterpolation(ql.arccoord, ql.body.y,extrapolation_bc = Line());\n",
    "\n",
    "xstations = interp_linear_x[sysfinal[end].wall.Xstations]\n",
    "ystations = interp_linear_y[sysfinal[end].wall.Xstations];"
   ]
  },
  {
   "cell_type": "code",
   "execution_count": null,
   "metadata": {
    "scrolled": true
   },
   "outputs": [],
   "source": [
    "ohp = sys.qline[1].body\n",
    "gd = sys.grid\n",
    "scatter()\n",
    "plot!(ohp,fillalpha=0,xlim=gd.xlim[1],ylim=gd.xlim[2],linecolor=:gold,framestyle = :box)\n",
    "scatter!(xstations,ystations,marker_z=boil_num_x[:]./tend,\n",
    "    colorbar_title = \"boiling frequency\",markerstrokewidth=0,markercolor=cgrad(:greys, rev = true),\n",
    "    axis=nothing,title=\"boiling frequency for each location [HZ]\")\n",
    "\n",
    "savefig(\"boilingsite.pdf\")"
   ]
  },
  {
   "cell_type": "markdown",
   "metadata": {},
   "source": [
    "## dXdt distribution"
   ]
  },
  {
   "cell_type": "code",
   "execution_count": null,
   "metadata": {},
   "outputs": [],
   "source": [
    "using Statistics"
   ]
  },
  {
   "cell_type": "code",
   "execution_count": null,
   "metadata": {},
   "outputs": [],
   "source": [
    "Vavg_hist = []\n",
    "Vmax_hist = []\n",
    "Vmin_hist = []\n",
    "for sysi in sysfinal\n",
    "    V = [elem[2] for elem in sysi.liquid.dXdt]\n",
    "    Vavg = mean(abs.(V))\n",
    "    Vmax = maximum((V))\n",
    "    Vmin = minimum((V))\n",
    "    \n",
    "    push!(Vavg_hist, Vavg)\n",
    "    push!(Vmax_hist, Vmax)\n",
    "    push!(Vmin_hist, Vmin)\n",
    "end"
   ]
  },
  {
   "cell_type": "code",
   "execution_count": null,
   "metadata": {},
   "outputs": [],
   "source": [
    "plot(thist,movavg(Float64.(Vmax_hist),10).x,label=\"v range\",fillalpha = 0.35, c = :blue,fillrange = movavg(Float64.(Vmin_hist),10).x,fillcolor=:green)\n",
    "plot!(thist,movavg(Float64.(Vavg_hist),10).x,label=\"|v| avg\")\n",
    "plot!(thist,movavg(Float64.(Vmin_hist),10).x,color=:blue, label=false, xlabel=\"t [s]\", ylabel=\"v [m/s]\",title=\"velocity distribution\")\n",
    "savefig(\"velocity.pdf\")"
   ]
  },
  {
   "cell_type": "code",
   "execution_count": null,
   "metadata": {},
   "outputs": [],
   "source": [
    "U = mean(Vavg_hist)"
   ]
  },
  {
   "cell_type": "markdown",
   "metadata": {},
   "source": [
    "## OHP film thickness correlation"
   ]
  },
  {
   "cell_type": "code",
   "execution_count": null,
   "metadata": {},
   "outputs": [],
   "source": [
    "\n",
    "velocity_avg = zeros(length(sysfinal))\n",
    "velocity_max = zeros(length(sysfinal))\n",
    "\n",
    "for i = 1:length(sysfinal)\n",
    "    tmp = 0\n",
    "    for j = length(sysfinal[i].liquid.dXdt)\n",
    "        tmp += abs(sysfinal[i].liquid.dXdt[j][1])\n",
    "    \n",
    "        velocity_avg[i] = tmp/j\n",
    "    end\n",
    "    \n",
    "    velocity_max[i] = maximum(abs.(sysfinal[i].liquid.dXdt[:][1]))\n",
    "end\n",
    "\n"
   ]
  },
  {
   "cell_type": "code",
   "execution_count": null,
   "metadata": {},
   "outputs": [],
   "source": [
    "plot(thist,velocity_avg,label=\"v avg\")\n",
    "plot!(thist,velocity_max,label=\"v max\",xlabel=\"t [s]\", ylabel=\"v [m/s]\")"
   ]
  },
  {
   "cell_type": "code",
   "execution_count": null,
   "metadata": {},
   "outputs": [],
   "source": [
    "d_tube = sysfinal[end].tube.d"
   ]
  },
  {
   "cell_type": "markdown",
   "metadata": {},
   "source": [
    "### Range of Re\n",
    "### $Re = \\frac{\\rho_{\\mathrm{l}} v d}{\\mu_{\\mathrm{l}}}$\n",
    "\n"
   ]
  },
  {
   "cell_type": "code",
   "execution_count": null,
   "metadata": {},
   "outputs": [],
   "source": [
    "Re_avg = d_tube*ρₗ .* velocity_avg / μₗ\n",
    "Re_max = d_tube*ρₗ .* velocity_max / μₗ;"
   ]
  },
  {
   "cell_type": "code",
   "execution_count": null,
   "metadata": {},
   "outputs": [],
   "source": [
    "plot(thist,Re_avg,label=\"v avg\")\n",
    "plot!(thist,Re_max,label=\"v max\",xlabel=\"t [s]\", ylabel=\"Re\")"
   ]
  },
  {
   "cell_type": "code",
   "execution_count": null,
   "metadata": {},
   "outputs": [],
   "source": [
    "integrator_tube.p.vapor.δ"
   ]
  },
  {
   "cell_type": "code",
   "execution_count": null,
   "metadata": {},
   "outputs": [],
   "source": [
    "δ_corr = integrator_tube.p.tube.d * (0.67 .* Ca.^(2/3)) ./ ( 1 .+ 3.35 .* Ca.^(2/3))"
   ]
  },
  {
   "cell_type": "code",
   "execution_count": null,
   "metadata": {},
   "outputs": [],
   "source": [
    "δ_corr = integrator_tube.p.tube.d * (0.67 .* Ca2.^(2/3)) ./ ( 1 .+ 3.35 .* Ca2.^(2/3))"
   ]
  },
  {
   "cell_type": "code",
   "execution_count": null,
   "metadata": {},
   "outputs": [],
   "source": [
    "using UnPack\n",
    "\n",
    "p_fluid = SaturationFluidProperty(fluid_type,Tᵥ)\n",
    "@unpack Cpₗ,ρₗ,μₗ,hₗ,kₗ,Prₗ,Cpᵥ,ρᵥ,μᵥ,hᵥ,kᵥ,Prᵥ,σ,P,R,M,Rkg,αₗ,νₗ,νᵥ,hₗᵥ = p_fluid;"
   ]
  },
  {
   "cell_type": "code",
   "execution_count": null,
   "metadata": {},
   "outputs": [],
   "source": [
    "# U = 0.48 #m/s\n",
    "\n",
    "Ca = U .* μₗ ./σ"
   ]
  },
  {
   "cell_type": "code",
   "execution_count": null,
   "metadata": {},
   "outputs": [],
   "source": [
    "tube_d = 1e-3"
   ]
  },
  {
   "cell_type": "code",
   "execution_count": null,
   "metadata": {},
   "outputs": [],
   "source": [
    "Ca_star1 = (μₗ^2/(σ * ρₗ * tube_d/2))^(3/4)"
   ]
  },
  {
   "cell_type": "code",
   "execution_count": null,
   "metadata": {},
   "outputs": [],
   "source": [
    "Ca_star2 = (μₗ^2/(σ * ρₗ * tube_d/2))^(1/2)"
   ]
  },
  {
   "cell_type": "code",
   "execution_count": null,
   "metadata": {},
   "outputs": [],
   "source": [
    "Ca^(2/3)/(1+Ca^(2/3)) *tube_d/2"
   ]
  },
  {
   "cell_type": "code",
   "execution_count": null,
   "metadata": {},
   "outputs": [],
   "source": [
    "sysfinal[1].wall.ΔTthres"
   ]
  },
  {
   "cell_type": "code",
   "execution_count": null,
   "metadata": {},
   "outputs": [],
   "source": [
    "sysfinal[1].vapor.δ"
   ]
  },
  {
   "cell_type": "code",
   "execution_count": null,
   "metadata": {},
   "outputs": [],
   "source": [
    "l = @layout [a b ; c d]\n",
    "pltindex=[5,15,25,100]\n",
    "p1 = histogram(filmδcorr(getCa(μₗ,σ,[elem[2] for elem in sysfinal[pltindex[1]].liquid.dXdt]),sysfinal[1].tube.d),bins=0e-5:2e-6:5e-5,ylim=(0,20),title=string(\"t=\",round(plate_hist[pltindex[1]].t, digits=2), \"[s]\")) \n",
    "p2 = histogram(filmδcorr(getCa(μₗ,σ,[elem[2] for elem in sysfinal[pltindex[2]].liquid.dXdt]),sysfinal[1].tube.d),bins=0e-5:2e-6:5e-5,ylim=(0,20),title=string(\"t=\",round(plate_hist[pltindex[2]].t, digits=2), \"[s]\")) \n",
    "p3 = histogram(filmδcorr(getCa(μₗ,σ,[elem[2] for elem in sysfinal[pltindex[3]].liquid.dXdt]),sysfinal[1].tube.d),bins=0e-5:2e-6:5e-5,ylim=(0,20),title=string(\"t=\",round(plate_hist[pltindex[3]].t, digits=2), \"[s]\")) \n",
    "p4 = histogram(filmδcorr(getCa(μₗ,σ,[elem[2] for elem in sysfinal[pltindex[4]].liquid.dXdt]),sysfinal[1].tube.d),bins=0e-5:2e-6:5e-5,ylim=(0,20),title=string(\"t=\",round(plate_hist[pltindex[4]].t, digits=2), \"[s]\")) \n",
    "plot(p1, p2, p3, p4, layout = l,titlefontsize=10,labelfontsize=10,xticks=1e-5:2e-5:5e-5,legend=false,xlabel=\"δ [m]\",ylabel=\"N of vapor\",plot_title=\"film thickness histogram\")"
   ]
  },
  {
   "cell_type": "code",
   "execution_count": null,
   "metadata": {},
   "outputs": [],
   "source": []
  },
  {
   "cell_type": "code",
   "execution_count": null,
   "metadata": {},
   "outputs": [],
   "source": [
    "i = 100\n",
    "velocity = \n",
    "Ca = \n",
    "\n",
    "plot(δfilm)"
   ]
  },
  {
   "cell_type": "code",
   "execution_count": null,
   "metadata": {},
   "outputs": [],
   "source": [
    "velocity = [elem[1] for i =1:]getCa(μ,σ,velocity)"
   ]
  },
  {
   "cell_type": "code",
   "execution_count": null,
   "metadata": {},
   "outputs": [],
   "source": [
    "ρₗ-ρᵥ"
   ]
  },
  {
   "cell_type": "code",
   "execution_count": null,
   "metadata": {},
   "outputs": [],
   "source": [
    "bo = (ρₗ-ρᵥ).*9.8*(1e-3)^2/σ"
   ]
  },
  {
   "cell_type": "code",
   "execution_count": null,
   "metadata": {},
   "outputs": [],
   "source": [
    "μₗ.*1.0/σ"
   ]
  },
  {
   "cell_type": "code",
   "execution_count": null,
   "metadata": {},
   "outputs": [],
   "source": [
    "function getCa(μ,σ,velocity)\n",
    "    Ca = abs.(μ.*velocity./σ)\n",
    "end\n",
    "\n",
    "function filmδcorr(Ca,d)\n",
    "    filmδ = d .* 0.67.*Ca.^(2/3)./(1 .+ 3.35.*Ca.^(2/3))\n",
    "end"
   ]
  },
  {
   "cell_type": "markdown",
   "metadata": {},
   "source": [
    "## Film thickness graphs"
   ]
  },
  {
   "cell_type": "code",
   "execution_count": null,
   "metadata": {},
   "outputs": [],
   "source": [
    "@gif for i=length(sysfinal):length(sysfinal)\n",
    "    plot(sysfinal[i].vapor.δ,xlabel=\"vapor label\",ylabel=\"film thickness [m]\", label = \"δ\",ylim=(5e-6,1.5e-5))\n",
    "end"
   ]
  },
  {
   "cell_type": "markdown",
   "metadata": {},
   "source": [
    "## boiling graph"
   ]
  },
  {
   "cell_type": "code",
   "execution_count": null,
   "metadata": {},
   "outputs": [],
   "source": [
    "boil_data = load(\"OHP1_40W.jld2\",\"boil_data\");"
   ]
  },
  {
   "cell_type": "code",
   "execution_count": null,
   "metadata": {},
   "outputs": [],
   "source": [
    "Xstations = sysfinal[end].wall.Xstations;"
   ]
  },
  {
   "cell_type": "code",
   "execution_count": null,
   "metadata": {},
   "outputs": [],
   "source": [
    "tend = boil_data[end,2]\n",
    "boil_dt = 0.1;"
   ]
  },
  {
   "cell_type": "code",
   "execution_count": null,
   "metadata": {},
   "outputs": [],
   "source": [
    "using SparseArrays "
   ]
  },
  {
   "cell_type": "code",
   "execution_count": null,
   "metadata": {},
   "outputs": [],
   "source": [
    "boil_matrix=spzeros(size(Xstations,1),Int64(round(tend/boil_dt)));\n",
    "for tnum = 1:size(boil_matrix,2)\n",
    "     boil_index = findall(x->Int64(round(x/boil_dt))==tnum,boil_data[:,2])\n",
    "\n",
    "    if length(boil_index) != 0\n",
    "        i_station_temp = Int64.(boil_data[boil_index,1])\n",
    "        for i in i_station_temp\n",
    "            boil_matrix[i,tnum] = 1\n",
    "        end\n",
    "    end\n",
    "end\n"
   ]
  },
  {
   "cell_type": "code",
   "execution_count": null,
   "metadata": {},
   "outputs": [],
   "source": [
    "boil_num_t = sum(boil_matrix, dims=1)'\n",
    "boil_num_x = sum(boil_matrix, dims=2);"
   ]
  },
  {
   "cell_type": "code",
   "execution_count": null,
   "metadata": {},
   "outputs": [],
   "source": [
    "using EasyFit\n",
    "\n",
    "m10 = movavg(vec(boil_num_t),10)\n"
   ]
  },
  {
   "cell_type": "code",
   "execution_count": null,
   "metadata": {},
   "outputs": [],
   "source": [
    "m10.R"
   ]
  },
  {
   "cell_type": "code",
   "execution_count": null,
   "metadata": {},
   "outputs": [],
   "source": [
    "plot(0.1:0.1:300.0,m10.x,xlabel=\"t\",ylabel=\"N\",title=\"number of active boiling sites (moving averaged)\",legend=false)"
   ]
  },
  {
   "cell_type": "code",
   "execution_count": null,
   "metadata": {},
   "outputs": [],
   "source": [
    "savefig(\"boiling frequency.pdf\")"
   ]
  },
  {
   "cell_type": "code",
   "execution_count": null,
   "metadata": {},
   "outputs": [],
   "source": [
    "boiling"
   ]
  },
  {
   "cell_type": "code",
   "execution_count": null,
   "metadata": {},
   "outputs": [],
   "source": [
    "num_boiling = zeros(size(Xstations))\n",
    "for i = 1:size(boil_data,1)\n",
    "    num_boiling[Int64(sorted_boil_hist[i,1])] += 1\n",
    "end\n",
    "freq_boiling = num_boiling/tend;"
   ]
  },
  {
   "cell_type": "code",
   "execution_count": null,
   "metadata": {},
   "outputs": [],
   "source": [
    "sorted_boil_hist = boil_data[sortperm(boil_data[:, 1]), :]\n",
    "num_boiling = zeros(size(Xstations))\n",
    "for i = 1:size(sorted_boil_hist,1)\n",
    "    num_boiling[Int64(sorted_boil_hist[i,1])] += 1\n",
    "end\n",
    "freq_boiling = num_boiling/tend;"
   ]
  },
  {
   "cell_type": "code",
   "execution_count": null,
   "metadata": {
    "scrolled": true
   },
   "outputs": [],
   "source": [
    "scatter(xstations,freq_boiling,xlabel=\"x[m]\",ylabel=\"boiling frequency [HZ]\",legend=false)"
   ]
  },
  {
   "cell_type": "code",
   "execution_count": null,
   "metadata": {},
   "outputs": [],
   "source": [
    "scatter(ystations,freq_boiling,xlabel=\"y[m]\",ylabel=\"boiling frequency [HZ]\",legend=false)"
   ]
  },
  {
   "cell_type": "code",
   "execution_count": null,
   "metadata": {},
   "outputs": [],
   "source": [
    "ohp = load(\"ohp.jld2\",\"ohp\")"
   ]
  },
  {
   "cell_type": "code",
   "execution_count": null,
   "metadata": {},
   "outputs": [],
   "source": [
    "Lx = 0.1524; # plate size x\n",
    "Ly = 0.0648; # plate size y\n",
    "\n",
    "xlim = (-Lx/2,Lx/2) .*1.0\n",
    "ylim = (-Ly/2,Ly/2) .*1.0\n",
    "# Δx, Δt = setstepsizes(params.α,gridPe=8.0,fourier=0.3)\n"
   ]
  },
  {
   "cell_type": "code",
   "execution_count": null,
   "metadata": {},
   "outputs": [],
   "source": [
    "plot(ohp,fillalpha=0,linecolor=:blue,xlims=xlim,ylims=ylim,framestyle = :box)\n",
    "scatter!(xstations,ystations)"
   ]
  },
  {
   "cell_type": "code",
   "execution_count": null,
   "metadata": {},
   "outputs": [],
   "source": [
    "savefig(\"boiling sites.svg\")"
   ]
  },
  {
   "cell_type": "code",
   "execution_count": null,
   "metadata": {},
   "outputs": [],
   "source": [
    "Lliquid = XptoLliquidslug(sysfinal[end].liquid.Xp,sysfinal[end].tube.L)\n",
    "\n",
    "sum(Lliquid)/sysfinal[end].tube.L"
   ]
  },
  {
   "cell_type": "code",
   "execution_count": null,
   "metadata": {},
   "outputs": [],
   "source": [
    "Lx = 0.1524; # plate size x\n",
    "Ly = 0.0648; # plate size y"
   ]
  },
  {
   "cell_type": "code",
   "execution_count": null,
   "metadata": {},
   "outputs": [],
   "source": [
    "plate_d = 2e-3\n",
    "tube_d = 1e-3"
   ]
  },
  {
   "cell_type": "code",
   "execution_count": null,
   "metadata": {},
   "outputs": [],
   "source": [
    "(Lx*Ly*plate_d - sysfinal[1].tube.L * tube_d^2)/(Lx*Ly)"
   ]
  },
  {
   "cell_type": "code",
   "execution_count": null,
   "metadata": {},
   "outputs": [],
   "source": [
    "boil_data"
   ]
  },
  {
   "cell_type": "code",
   "execution_count": 25,
   "metadata": {},
   "outputs": [
    {
     "data": {
      "text/plain": [
       "0.001"
      ]
     },
     "execution_count": 25,
     "metadata": {},
     "output_type": "execute_result"
    }
   ],
   "source": [
    "sys = sysfinal[end]\n",
    "dXdt = sys.liquid.dXdt;\n",
    "μₗ = sys.liquid.μₗ;\n",
    "σ = sys.liquid.σ;\n",
    "Ca = getCa.(μₗ,σ,dXdt)\n",
    "d = sys.tube.d"
   ]
  },
  {
   "cell_type": "code",
   "execution_count": 38,
   "metadata": {},
   "outputs": [
    {
     "data": {
      "text/plain": [
       "2.947451763889078e-5"
      ]
     },
     "execution_count": 38,
     "metadata": {},
     "output_type": "execute_result"
    }
   ],
   "source": [
    "using Statistics\n",
    "V = [elem[2] for elem in sys.liquid.dXdt]\n",
    "    Vavg = mean(abs.(V))\n",
    "Ca = getCa.(μₗ,σ,Vavg)\n",
    "Catoδ.(d,Ca)"
   ]
  },
  {
   "cell_type": "code",
   "execution_count": 48,
   "metadata": {},
   "outputs": [
    {
     "data": {
      "text/plain": [
       "Catoδ (generic function with 3 methods)"
      ]
     },
     "execution_count": 48,
     "metadata": {},
     "output_type": "execute_result"
    }
   ],
   "source": [
    "function Catoδ(d,Ca;adjust_factor=1,δmin=5e-6,δmax=1e-4)\n",
    "\n",
    "    δ = Ca .^ (2/3) ./ (1 .+ Ca .^ (2/3)) .* d ./ 2 .* adjust_factor\n",
    "    if (δ < δmin)\n",
    "        return δmin\n",
    "    elseif (δ > δmax)\n",
    "        return δmax\n",
    "    else \n",
    "        return δ\n",
    "    end\n",
    "end"
   ]
  },
  {
   "cell_type": "code",
   "execution_count": 53,
   "metadata": {},
   "outputs": [
    {
     "data": {
      "text/plain": [
       "1.0188489983303563e-5"
      ]
     },
     "execution_count": 53,
     "metadata": {},
     "output_type": "execute_result"
    }
   ],
   "source": [
    "Catoδ.(d,3e-3)"
   ]
  },
  {
   "cell_type": "code",
   "execution_count": null,
   "metadata": {},
   "outputs": [],
   "source": []
  }
 ],
 "metadata": {
  "@webio": {
   "lastCommId": null,
   "lastKernelId": null
  },
  "kernelspec": {
   "display_name": "Julia 1.8.1",
   "language": "julia",
   "name": "julia-1.8"
  },
  "language_info": {
   "file_extension": ".jl",
   "mimetype": "application/julia",
   "name": "julia",
   "version": "1.8.1"
  }
 },
 "nbformat": 4,
 "nbformat_minor": 2
}
