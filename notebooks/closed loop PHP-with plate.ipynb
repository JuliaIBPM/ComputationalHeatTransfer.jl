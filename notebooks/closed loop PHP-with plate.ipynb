{
 "cells": [
  {
   "cell_type": "code",
   "execution_count": 14,
   "metadata": {
    "scrolled": true
   },
   "outputs": [],
   "source": [
    "using ComputationalHeatTransfer"
   ]
  },
  {
   "cell_type": "code",
   "execution_count": 15,
   "metadata": {},
   "outputs": [],
   "source": [
    "# using Plots\n",
    "using LaTeXStrings"
   ]
  },
  {
   "cell_type": "code",
   "execution_count": 16,
   "metadata": {},
   "outputs": [
    {
     "data": {
      "text/plain": [
       "Plots.PyPlotBackend()"
      ]
     },
     "execution_count": 16,
     "metadata": {},
     "output_type": "execute_result"
    }
   ],
   "source": [
    "using Revise\n",
    "using LinearAlgebra\n",
    "using DifferentialEquations\n",
    "using Plots\n",
    "pyplot()"
   ]
  },
  {
   "cell_type": "code",
   "execution_count": 17,
   "metadata": {},
   "outputs": [],
   "source": [
    "cd(dirname(pwd()))\n",
    "cd(\"src\") \n",
    "\n",
    "includet(\"OneDOHP.jl\")\n",
    "using ..OneDOHP"
   ]
  },
  {
   "cell_type": "markdown",
   "metadata": {},
   "source": [
    "### Physical parameters"
   ]
  },
  {
   "cell_type": "code",
   "execution_count": 97,
   "metadata": {},
   "outputs": [
    {
     "data": {
      "text/plain": [
       "HeatConductionParameters(2702.0, 903.0, 237.0, 9.713488962279695e-5, 0.001)"
      ]
     },
     "execution_count": 97,
     "metadata": {},
     "output_type": "execute_result"
    }
   ],
   "source": [
    "ρ = 2702;\n",
    "c = 9.03e02;\n",
    "k = 2.37e02;\n",
    "d = 1e-3;\n",
    "params = HeatConductionParameters(ρ,c,k,thickness=d)"
   ]
  },
  {
   "cell_type": "markdown",
   "metadata": {},
   "source": [
    "### Geometry parameters"
   ]
  },
  {
   "cell_type": "code",
   "execution_count": 98,
   "metadata": {},
   "outputs": [],
   "source": [
    "Lx = 0.1524\n",
    "Ly = 0.0648;\n",
    "inch = 2.54e-2;"
   ]
  },
  {
   "cell_type": "code",
   "execution_count": 99,
   "metadata": {},
   "outputs": [
    {
     "data": {
      "text/plain": [
       "(0.00048567444811398473, 0.23587966955082365)"
      ]
     },
     "execution_count": 99,
     "metadata": {},
     "output_type": "execute_result"
    }
   ],
   "source": [
    "xlim = (-Lx/2,Lx/2)\n",
    "ylim = (-Ly/2,Ly/2)\n",
    "# Δx, Δt = setstepsizes(params.α,gridPe=0.1,fourier=200.0)\n",
    "Δx, Δt = setstepsizes(params.α,gridPe=5.0,fourier=1000.0)\n",
    "Δx, Δt = setstepsizes(params.α,gridPe=5.0,fourier=1000000.0)"
   ]
  },
  {
   "cell_type": "markdown",
   "metadata": {},
   "source": [
    "### Set up the evaporator and condenser"
   ]
  },
  {
   "cell_type": "code",
   "execution_count": 100,
   "metadata": {},
   "outputs": [],
   "source": [
    "eb = Rectangle(inch,inch,1.5*Δx)\n",
    "Te = RigidTransform((0.0,-0.0),0.0)\n",
    "Te(eb)\n",
    "cb1 = Rectangle(0.5,0.5,1.5*Δx)\n",
    "Tc = RigidTransform((0.5+0.5Lx-inch,-0.0),0.0)\n",
    "Tc(cb1)\n",
    "\n",
    "cb2 = Rectangle(0.5,0.5,1.5*Δx)\n",
    "Tc = RigidTransform((0.5-(0.5Lx-inch),-0.0),0.0)\n",
    "Tc(cb2)\n",
    "\n",
    "qe = 15500.0\n",
    "hc = 2000.0\n",
    "Tc = -30.0\n",
    "\n",
    "eparams = PrescribedHeatFluxRegion(qe,eb);\n",
    "cparams = [PrescribedHeatModelRegion(hc,Tc,cb1);PrescribedHeatModelRegion(-hc,Tc,cb2)];"
   ]
  },
  {
   "cell_type": "markdown",
   "metadata": {},
   "source": [
    "### Set up the OHP"
   ]
  },
  {
   "cell_type": "code",
   "execution_count": 101,
   "metadata": {},
   "outputs": [
    {
     "data": {
      "image/png": "[encoded data removed]"
     },
     "execution_count": 101,
     "metadata": {},
     "output_type": "execute_result"
    }
   ],
   "source": [
    "ds = 1.5Δx\n",
    "nturn = 16\n",
    "#pitch = 0.125\n",
    "length_ohp = Ly*0.8\n",
    "height = Lx*0.8\n",
    "gap = 2*d\n",
    "pitch = length_ohp/(2*nturn+1)\n",
    "x0, y0 = height/2, length_ohp/2\n",
    "x, y, xf, yf = ComputationalHeatTransfer.construct_ohp_curve(nturn,pitch,height,gap,ds,x0,y0,false,false,3pi/2)\n",
    "ohp = BasicBody(x,y)\n",
    "\n",
    "plot(ohp,fillalpha=0,linecolor=:blue,xlims=xlim,ylims=ylim)\n"
   ]
  },
  {
   "cell_type": "code",
   "execution_count": 102,
   "metadata": {},
   "outputs": [],
   "source": [
    "ohpgeom = ComputationalHeatTransfer.LineSourceParams(ohp)\n",
    "qtmp = zeros(numpts(ohp));"
   ]
  },
  {
   "cell_type": "markdown",
   "metadata": {},
   "source": [
    "### Create the system"
   ]
  },
  {
   "cell_type": "code",
   "execution_count": 166,
   "metadata": {},
   "outputs": [
    {
     "data": {
      "text/plain": [
       "Unbounded Heat conduction system on a grid of size 320 x 140 and 0 static immersed points\n"
      ]
     },
     "execution_count": 166,
     "metadata": {},
     "output_type": "execute_result"
    }
   ],
   "source": [
    "sys = HeatConduction(params,Δx,xlim,ylim,Δt,qflux=eparams,qmodel=cparams,qline=ohpgeom)\n",
    "# sys = HeatConduction(params,Δx,xlim,ylim,Δt,qflux=eparams,qmodel=cparams)\n",
    "#sys = HeatConduction(params,Δx,xlim,ylim,Δt,qline=ohpgeom)"
   ]
  },
  {
   "cell_type": "markdown",
   "metadata": {},
   "source": [
    "#### Initialize state, and create the integrator"
   ]
  },
  {
   "cell_type": "code",
   "execution_count": 167,
   "metadata": {},
   "outputs": [
    {
     "data": {
      "text/plain": [
       "t: 0.0\n",
       "u: (Primal nodes in a (nx = 320, ny = 140) cell grid of type Float64 data\n",
       "  Number of Primal nodes: (nx = 319, ny = 139), Float64[])"
      ]
     },
     "execution_count": 167,
     "metadata": {},
     "output_type": "execute_result"
    }
   ],
   "source": [
    "u0 = newstate(sys)\n",
    "# tspan = (0.0,1.0)\n",
    "tspan = (0.0,0.1)\n",
    "integrator = init(u0,tspan,sys)"
   ]
  },
  {
   "cell_type": "markdown",
   "metadata": {},
   "source": [
    "### Set up values for the OHP heat flux per unit length and advance the solution"
   ]
  },
  {
   "cell_type": "code",
   "execution_count": 168,
   "metadata": {},
   "outputs": [
    {
     "data": {
      "text/plain": [
       "Unbounded Heat conduction system on a grid of size 320 x 140 and 0 static immersed points\n"
      ]
     },
     "execution_count": 168,
     "metadata": {},
     "output_type": "execute_result"
    }
   ],
   "source": [
    "fill!(qtmp,-0.0)\n",
    "set_linesource_strength!(sys,qtmp)"
   ]
  },
  {
   "cell_type": "code",
   "execution_count": 189,
   "metadata": {},
   "outputs": [
    {
     "name": "stdout",
     "output_type": "stream",
     "text": [
      "  6.268630 seconds (172.96 k allocations: 1.102 GiB, 6.27% gc time)\n"
     ]
    },
    {
     "data": {
      "text/plain": [
       "84.96809499134923"
      ]
     },
     "execution_count": 189,
     "metadata": {},
     "output_type": "execute_result"
    }
   ],
   "source": [
    "@time step!(integrator,5.0)\n",
    "maximum(integrator.u[:])"
   ]
  },
  {
   "cell_type": "code",
   "execution_count": 190,
   "metadata": {},
   "outputs": [
    {
     "data": {
      "text/plain": [
       "30.20000000000016"
      ]
     },
     "execution_count": 190,
     "metadata": {},
     "output_type": "execute_result"
    }
   ],
   "source": [
    "integrator.t"
   ]
  },
  {
   "cell_type": "code",
   "execution_count": 149,
   "metadata": {},
   "outputs": [
    {
     "data": {
      "image/png": "[encoded data removed]"
     },
     "execution_count": 149,
     "metadata": {},
     "output_type": "execute_result"
    }
   ],
   "source": [
    "plot(temperature(integrator),sys.grid,legend=true,color=cgrad(:RdBu,rev=true),line_z=0,xlabel=\"x [m]\",ylabel=\"y [m]\",title=L\"T - T_0 \\quad [\\mathrm{K}]\")\n",
    "# plot!(ohp,fillalpha=0,line_z=qtmp)"
   ]
  },
  {
   "cell_type": "code",
   "execution_count": 165,
   "metadata": {},
   "outputs": [
    {
     "data": {
      "text/plain": [
       "84.83744345401097"
      ]
     },
     "execution_count": 165,
     "metadata": {},
     "output_type": "execute_result"
    }
   ],
   "source": [
    "maximum(integrator.u[:])"
   ]
  },
  {
   "cell_type": "markdown",
   "metadata": {},
   "source": [
    "### Plot the temperature along the OHP channel"
   ]
  },
  {
   "cell_type": "code",
   "execution_count": null,
   "metadata": {
    "scrolled": true
   },
   "outputs": [],
   "source": [
    "plot(ohp,fillalpha=0,line_z=temperature_linesource(integrator))"
   ]
  },
  {
   "cell_type": "code",
   "execution_count": null,
   "metadata": {},
   "outputs": [],
   "source": [
    "plot(sys.qline[1].arccoord,temperature_linesource(integrator),xlabel=L\"\\xi\",ylabel=L\"T - T_0\")"
   ]
  },
  {
   "cell_type": "markdown",
   "metadata": {},
   "source": [
    "# OHP inner part"
   ]
  },
  {
   "cell_type": "code",
   "execution_count": null,
   "metadata": {},
   "outputs": [],
   "source": [
    "T0 = 273.15\n",
    "nondi_Q_to_Q = 8.52e01\n",
    "t_to_nondi_t = 3.42e-01\n",
    "function di_T_to_nondi_T(di_T;T0=273.15) \n",
    "    \n",
    "    (di_T+T0)/T0\n",
    "    \n",
    "end"
   ]
  },
  {
   "cell_type": "code",
   "execution_count": null,
   "metadata": {},
   "outputs": [],
   "source": [
    "    ω = sqrt(1.68e003);\n",
    "    ℘L = 6.2e004;\n",
    "    k = 115e-003\n",
    "\n",
    "    θinitial=1.0\n",
    "    θc = 1.0; # useless\n",
    "\n",
    "    Hwc = 0.0; #not useful later on. H between wall and condenser, \n",
    "    Hₗ   =  1600.0; # liquid wall heat transfer coeffcient\n",
    "#     Hₗ   =  2.57e004; # liquid wall heat transfer coeffcient\n",
    "    Hδ  = 7.34e002;\n"
   ]
  },
  {
   "cell_type": "code",
   "execution_count": null,
   "metadata": {},
   "outputs": [],
   "source": [
    "    \n",
    "    d = 6.56e-3 # dimensionless diameter\n",
    "    L = 35.0  # total length of the pipe when streched to a 1D pipe\n",
    "    L2D = 1.0 # the actual length of the bended pipe in the real world\n",
    "    angle = 0*pi/2 # inclination angle \n",
    "    closedornot = true"
   ]
  },
  {
   "cell_type": "code",
   "execution_count": null,
   "metadata": {},
   "outputs": [],
   "source": [
    "    nucleatenum = 10\n",
    "    Xstations = sort(rand(nucleatenum).*L);\n",
    "#     boilingΔt = 0.05"
   ]
  },
  {
   "cell_type": "code",
   "execution_count": null,
   "metadata": {},
   "outputs": [],
   "source": [
    "tube = Tube(d,L,L2D,angle,closedornot);"
   ]
  },
  {
   "cell_type": "code",
   "execution_count": null,
   "metadata": {},
   "outputs": [],
   "source": [
    "Xe = map(tuple, [1.0], [3.0])\n",
    "We = [0.0]\n",
    "evap = Evaporator(Xe,We);"
   ]
  },
  {
   "cell_type": "code",
   "execution_count": null,
   "metadata": {},
   "outputs": [],
   "source": [
    "Xc = map(tuple, [0.0,3.0], [1.0,4.0])\n",
    "cond = Condenser(θc,Xc,Hwc);"
   ]
  },
  {
   "cell_type": "code",
   "execution_count": null,
   "metadata": {},
   "outputs": [],
   "source": [
    "numofX=16\n",
    "Xps = sort(rand(2*numofX).*L);\n",
    "Xp1s = Xps[1:2:end];\n",
    "Xp2s = Xps[2:2:end];\n",
    "\n",
    "dXdt0 = map(tuple,0*Xp1s,0*Xp2s)\n",
    "X0 = map(tuple,Xp1s,Xp2s)\n"
   ]
  },
  {
   "cell_type": "code",
   "execution_count": null,
   "metadata": {},
   "outputs": [],
   "source": [
    "N=numpts(ohp)\n",
    "# X0 = [(L/4, L*3/4)]\n",
    "# dXdt0 = [(0.0,0.0)]\n",
    "ρ = 214.6\n",
    "Xarrays,θarrays = constructXarrays(X0,N,θinitial,L)\n",
    "liquids=Liquid(Hₗ,ρ,ω,℘L,X0,dXdt0,Xarrays,θarrays);"
   ]
  },
  {
   "cell_type": "code",
   "execution_count": null,
   "metadata": {},
   "outputs": [],
   "source": [
    "# P = [1.0,1.0,1.0,1.0,1.0]; # closed end\n",
    "\n",
    "γ = 1.4;\n",
    "Hδ = 7.34e2\n",
    "P = 0*Xp1s .+ 1.0;\n",
    "δ = 0*Xp1s .+ 2.86e-02;\n",
    "vapors=Vapor(γ,Hδ,P,δ);"
   ]
  },
  {
   "cell_type": "code",
   "execution_count": null,
   "metadata": {},
   "outputs": [],
   "source": [
    "α = 0 # nondimensional thermal diffusivity = (αₐ d^2) / (νₗ height^2)\n",
    "Xwallarray,θwallarray = constructXarrays(L,N,θinitial)\n",
    "\n",
    "wall = Wall(α,Δt,Xstations,Xwallarray,θwallarray);"
   ]
  },
  {
   "cell_type": "code",
   "execution_count": null,
   "metadata": {},
   "outputs": [],
   "source": [
    "walltoliquid, liquidtowall = constructmapping(Xarrays,Xwallarray,closedornot,L)\n",
    "mapping = Mapping(walltoliquid,liquidtowall);"
   ]
  },
  {
   "cell_type": "code",
   "execution_count": null,
   "metadata": {},
   "outputs": [],
   "source": [
    "sys0 = PHPSystem(tube,evap,cond,liquids,vapors,wall,mapping);"
   ]
  },
  {
   "cell_type": "markdown",
   "metadata": {},
   "source": [
    "## construct state vector U"
   ]
  },
  {
   "cell_type": "code",
   "execution_count": null,
   "metadata": {},
   "outputs": [],
   "source": [
    "Lvaporplug = XptoLvaporplug(X0,sys0.tube.L,sys0.tube.closedornot)\n",
    "M = P.^(1/γ).* Lvaporplug\n",
    "\n",
    "\n",
    "u=[XMδtovec(X0,dXdt0,M,δ); wallθtovec(sys0.wall.θarray); liquidθtovec(sys0.liquid.θarrays)];"
   ]
  },
  {
   "cell_type": "code",
   "execution_count": null,
   "metadata": {},
   "outputs": [],
   "source": [
    "cb_boiling =  DiscreteCallback(boiling_condition,boiling_affect!)\n",
    "cb_merging =  DiscreteCallback(merging_condition,merging_affect!)\n",
    "\n",
    "cbst = CallbackSet(cb_boiling,cb_merging)"
   ]
  },
  {
   "cell_type": "markdown",
   "metadata": {},
   "source": [
    "## solve OHP"
   ]
  },
  {
   "cell_type": "code",
   "execution_count": null,
   "metadata": {},
   "outputs": [],
   "source": [
    "tstep=1e-4\n",
    "\n",
    "p = sys0\n",
    "# tspan = (0.0, 0.01);\n",
    "prob = ODEProblem(ODE_innertube, u, tspan, p)\n",
    "\n",
    "integrator_tube = init(prob, RK4(), dt=tstep, callback=cbst);\n",
    "\n",
    "\n",
    "@time solve!(integrator_tube);\n",
    "\n"
   ]
  },
  {
   "cell_type": "code",
   "execution_count": null,
   "metadata": {},
   "outputs": [],
   "source": [
    "sol = integrator_tube.sol\n",
    "sysfinal = getcurrentsys.(sol.u,[sys0]);"
   ]
  },
  {
   "cell_type": "markdown",
   "metadata": {},
   "source": [
    "## combine inner tube and plate together"
   ]
  },
  {
   "cell_type": "code",
   "execution_count": null,
   "metadata": {},
   "outputs": [],
   "source": [
    "u0 = newstate(sys)\n",
    "integrator = init(u0,tspan,sys)"
   ]
  },
  {
   "cell_type": "code",
   "execution_count": null,
   "metadata": {},
   "outputs": [],
   "source": [
    "integrator_tube = init(prob, RK4(),save_everystep=false, callback=cbst);"
   ]
  },
  {
   "cell_type": "code",
   "execution_count": null,
   "metadata": {},
   "outputs": [],
   "source": [
    "# for t in tspan[1]:tstep:tspan[2]\n",
    "for t in tspan[1]:tstep:tspan[1]\n",
    "    @time currentsys = getcurrentsys(integrator_tube.u,sys0)\n",
    "\n",
    "    currentsys.wall.θarray = di_T_to_nondi_T(temperature_linesource(integrator))\n",
    "\n",
    "    nondi_qtmp = sys_to_heatflux(currentsys)\n",
    "    qtmp = nondi_Q_to_Q*nondi_qtmp\n",
    "    set_linesource_strength!(sys,qtmp)\n",
    "\n",
    "    @time step!(integrator,tstep, true)\n",
    "\n",
    "\n",
    "\n",
    "\n",
    "    current_u = deepcopy(integrator_tube.u)\n",
    "    index = findfirst(x -> (abs(x+1e10) <= 10^(-1)),current_u)\n",
    "    current_u[index+1:index+length(currentsys.wall.θarray)] = currentsys.wall.θarray\n",
    "    set_u!(integrator_tube, current_u)\n",
    "    @time step!(integrator_tube, tstep*t_to_nondi_t, true)\n",
    "\n",
    "end"
   ]
  },
  {
   "cell_type": "code",
   "execution_count": null,
   "metadata": {},
   "outputs": [],
   "source": [
    "integrator.t"
   ]
  },
  {
   "cell_type": "code",
   "execution_count": null,
   "metadata": {},
   "outputs": [],
   "source": [
    "sysfinal = [getcurrentsys(integrator_tube.u,sys0)];"
   ]
  },
  {
   "cell_type": "code",
   "execution_count": null,
   "metadata": {},
   "outputs": [],
   "source": [
    "# plot(ohp,fillalpha=0,line_z=temperature_linesource(integrator))"
   ]
  },
  {
   "cell_type": "code",
   "execution_count": null,
   "metadata": {},
   "outputs": [],
   "source": [
    "plot(sys.qline[1].arccoord,qtmp)"
   ]
  },
  {
   "cell_type": "code",
   "execution_count": null,
   "metadata": {},
   "outputs": [],
   "source": [
    "plot(sys.qline[1].arccoord,temperature_linesource(integrator),xlabel=L\"\\xi\",ylabel=L\"T - T_0\")"
   ]
  },
  {
   "cell_type": "code",
   "execution_count": null,
   "metadata": {},
   "outputs": [],
   "source": [
    "qtmp"
   ]
  },
  {
   "cell_type": "code",
   "execution_count": null,
   "metadata": {},
   "outputs": [],
   "source": [
    "plot(ohp,fillalpha=0,line_z=qtmp)"
   ]
  },
  {
   "cell_type": "code",
   "execution_count": null,
   "metadata": {},
   "outputs": [],
   "source": [
    "plot(temperature(integrator),sys.grid,legend=true,color=cgrad(:RdBu,rev=true),line_z=0,clim=(-1.5,1.5))\n",
    "plot!(ohp,fillalpha=0,line_z=0 .* qtmp)"
   ]
  },
  {
   "cell_type": "code",
   "execution_count": null,
   "metadata": {},
   "outputs": [],
   "source": [
    "integrator_tube.u"
   ]
  },
  {
   "cell_type": "code",
   "execution_count": null,
   "metadata": {},
   "outputs": [],
   "source": [
    "sysfinal = [getcurrentsys(integrator_tube.u,sys0)];\n",
    "sysfinal[1].vapor"
   ]
  },
  {
   "cell_type": "code",
   "execution_count": null,
   "metadata": {},
   "outputs": [],
   "source": [
    "sysfinal[1].vapor"
   ]
  },
  {
   "cell_type": "code",
   "execution_count": null,
   "metadata": {},
   "outputs": [],
   "source": [
    "plot(sysfinal[1].liquid.θarrays[4] .* T0)"
   ]
  },
  {
   "cell_type": "code",
   "execution_count": null,
   "metadata": {},
   "outputs": [],
   "source": [
    "sysfinal[end].tube.L"
   ]
  },
  {
   "cell_type": "code",
   "execution_count": null,
   "metadata": {},
   "outputs": [],
   "source": [
    "# closed loop plot\n",
    "@gif for i=1:1:length(sysfinal)\n",
    "\n",
    "    Xpvapor = getXpvapor(sysfinal[i].liquid.Xp,sysfinal[i].tube.L,sysfinal[i].tube.closedornot)\n",
    "    θvapor  = (sysfinal[i].vapor.P).^((γ-1)/γ)\n",
    "    Xp = sysfinal[i].liquid.Xp\n",
    "    \n",
    "    p = plot([sysfinal[i].wall.Xarray],[sysfinal[i].wall.θarray], linewidth=3, color = [:black], labels = \"θwall\", xlabel=\"X\", ylabel=\"θ\", title=(\"dimensionless temperatures\"),xlim=(0,sysfinal[i].tube.L))\n",
    "    \n",
    "    \n",
    "    j=1\n",
    "    while j <= length(Xp)\n",
    "        if Xp[j][end] >= Xp[j][1]\n",
    "            plot!(p, [sysfinal[i].liquid.Xarrays[j]],[sysfinal[i].liquid.θarrays[j]], linewidth=2, labels = string(\"θliquid \",j))\n",
    "            else \n",
    "            # find the index at the end\n",
    "            index = findfirst(x->x <= sysfinal[i].liquid.Xarrays[j][end], sysfinal[i].liquid.Xarrays[j])\n",
    "            \n",
    "            plot!(p, [sysfinal[i].liquid.Xarrays[j][1:index-1]],[sysfinal[i].liquid.θarrays[j][1:index-1]], linewidth=2, labels = string(\"θliquid \",j))\n",
    "            plot!(p, [sysfinal[i].liquid.Xarrays[j][index:end]],[sysfinal[i].liquid.θarrays[j][index:end]], linewidth=2, labels = string(\"θliquid \",j))\n",
    "\n",
    "        end\n",
    "        \n",
    "        j += 1\n",
    "    end\n",
    "\n",
    "        j=1\n",
    "    while j <= length(Xpvapor)\n",
    "        if Xpvapor[j][end] >= Xpvapor[j][1]\n",
    "            plot!(p,[Xpvapor[j][1],Xpvapor[j][end]],[θvapor[j]], labels = string(\"θvapor \",j))\n",
    "            else\n",
    "            \n",
    "            plot!(p,[0.0,Xpvapor[j][end]],[θvapor[j]], labels = string(\"θvapor \",j))\n",
    "            plot!(p,[Xpvapor[j][1],L],[θvapor[j]], labels = string(\"θvapor \",j))\n",
    "\n",
    "        end\n",
    "        \n",
    "        j += 1\n",
    "    end\n",
    "    \n",
    "#     j = 1\n",
    "#     plot!(p,[0.0,Xpvapor[j][end]],[θvapor[j]], labels = string(\"θvapor \",j))\n",
    "#     plot!(p,[Xpvapor[j][1],L],[θvapor[j]], labels = string(\"θvapor \",j))\n",
    "    \n",
    "#     j = 2\n",
    "#     while j  <= length(θvapor) \n",
    "    \n",
    "#         plot!(p,[Xpvapor[j][1],Xpvapor[j][end]],[θvapor[j]], labels = string(\"θvapor \",j))\n",
    "        \n",
    "#         j += 1\n",
    "#     end\n",
    "\n",
    "#     vline!( p, [collect(0:2:4)], color=[:blue,:red], width=196, alpha=[0.3,0.3,0.3],labels = \"\")\n",
    "    \n",
    "    end "
   ]
  },
  {
   "cell_type": "code",
   "execution_count": null,
   "metadata": {},
   "outputs": [],
   "source": []
  },
  {
   "cell_type": "code",
   "execution_count": null,
   "metadata": {},
   "outputs": [],
   "source": []
  }
 ],
 "metadata": {
  "@webio": {
   "lastCommId": null,
   "lastKernelId": null
  },
  "kernelspec": {
   "display_name": "Julia 1.5.4",
   "language": "julia",
   "name": "julia-1.5"
  },
  "language_info": {
   "file_extension": ".jl",
   "mimetype": "application/julia",
   "name": "julia",
   "version": "1.5.4"
  }
 },
 "nbformat": 4,
 "nbformat_minor": 5
}
