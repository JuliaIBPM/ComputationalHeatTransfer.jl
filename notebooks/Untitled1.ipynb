{
 "cells": [
  {
   "cell_type": "code",
   "execution_count": null,
   "id": "a5464048",
   "metadata": {},
   "outputs": [],
   "source": []
  },
  {
   "cell_type": "code",
   "execution_count": 114,
   "id": "c141d675",
   "metadata": {},
   "outputs": [],
   "source": [
    "N = 10\n",
    "\n",
    "list1 = rand(N,1)\n",
    "list2 = rand(N,1);"
   ]
  },
  {
   "cell_type": "code",
   "execution_count": 115,
   "id": "03d2a5c8",
   "metadata": {},
   "outputs": [],
   "source": [
    "r_tuple = [(list1[i],list2[i]) for i = 1:length(list1)];"
   ]
  },
  {
   "cell_type": "code",
   "execution_count": 123,
   "id": "4810723c",
   "metadata": {},
   "outputs": [
    {
     "name": "stdout",
     "output_type": "stream",
     "text": [
      "  0.000184 seconds (71 allocations: 2.375 KiB)\n"
     ]
    }
   ],
   "source": [
    "newm_bench = zeros(length(r_tuple),2)\n",
    "@time for i = 1:length(r_tuple)\n",
    "    newm_bench[i,:] = [r_tuple[i][1],r_tuple[i][2]]\n",
    "end"
   ]
  },
  {
   "cell_type": "code",
   "execution_count": 124,
   "id": "6a285a5a",
   "metadata": {},
   "outputs": [
    {
     "name": "stdout",
     "output_type": "stream",
     "text": [
      "  0.000018 seconds (2 allocations: 80 bytes)\n"
     ]
    }
   ],
   "source": [
    "@time newm = reshape(reinterpret(Float64, r_tuple),(:,2));"
   ]
  },
  {
   "cell_type": "code",
   "execution_count": 128,
   "id": "b1e6bd23",
   "metadata": {},
   "outputs": [
    {
     "data": {
      "text/plain": [
       "10×2 reshape(reinterpret(Float64, ::Vector{Tuple{Float64, Float64}}), 10, 2) with eltype Float64:\n",
       " 0.709458   0.730812\n",
       " 0.732603   0.175381\n",
       " 0.147133   0.970691\n",
       " 0.325354   0.950692\n",
       " 0.0836828  0.186869\n",
       " 0.894911   0.828769\n",
       " 0.778858   0.189057\n",
       " 0.248745   0.401042\n",
       " 0.690266   0.388252\n",
       " 0.194431   0.570441"
      ]
     },
     "execution_count": 128,
     "metadata": {},
     "output_type": "execute_result"
    }
   ],
   "source": [
    "newm"
   ]
  },
  {
   "cell_type": "code",
   "execution_count": 121,
   "id": "d8831f61",
   "metadata": {},
   "outputs": [
    {
     "data": {
      "text/plain": [
       "10×2 reshape(reinterpret(Float64, ::Vector{Tuple{Float64, Float64}}), 10, 2) with eltype Float64:\n",
       " 0.709458   0.730812\n",
       " 0.732603   0.175381\n",
       " 0.147133   0.970691\n",
       " 0.325354   0.950692\n",
       " 0.0836828  0.186869\n",
       " 0.894911   0.828769\n",
       " 0.778858   0.189057\n",
       " 0.248745   0.401042\n",
       " 0.690266   0.388252\n",
       " 0.194431   0.570441"
      ]
     },
     "execution_count": 121,
     "metadata": {},
     "output_type": "execute_result"
    }
   ],
   "source": [
    "newm"
   ]
  },
  {
   "cell_type": "code",
   "execution_count": 137,
   "id": "ce17e31e",
   "metadata": {},
   "outputs": [
    {
     "data": {
      "text/plain": [
       "(0.970690562643393, CartesianIndex(3, 2))"
      ]
     },
     "execution_count": 137,
     "metadata": {},
     "output_type": "execute_result"
    }
   ],
   "source": [
    "A,B = findmax(newm)"
   ]
  },
  {
   "cell_type": "code",
   "execution_count": 141,
   "id": "74b5b64b",
   "metadata": {},
   "outputs": [
    {
     "ename": "LoadError",
     "evalue": "syntax: invalid assignment location \"[BB1, BB2]\" around In[141]:1",
     "output_type": "error",
     "traceback": [
      "syntax: invalid assignment location \"[BB1, BB2]\" around In[141]:1",
      "",
      "Stacktrace:",
      " [1] top-level scope",
      "   @ In[141]:1",
      " [2] eval",
      "   @ ./boot.jl:360 [inlined]",
      " [3] include_string(mapexpr::typeof(REPL.softscope), mod::Module, code::String, filename::String)",
      "   @ Base ./loading.jl:1116"
     ]
    }
   ],
   "source": [
    "[BB1,BB2] = B"
   ]
  },
  {
   "cell_type": "code",
   "execution_count": 135,
   "id": "208bb83b",
   "metadata": {},
   "outputs": [
    {
     "ename": "LoadError",
     "evalue": "BoundsError: attempt to access Tuple{Int64, Int64} at index [3]",
     "output_type": "error",
     "traceback": [
      "BoundsError: attempt to access Tuple{Int64, Int64} at index [3]",
      "",
      "Stacktrace:",
      " [1] getindex",
      "   @ ./tuple.jl:29 [inlined]",
      " [2] getindex(index::CartesianIndex{2}, i::Int64)",
      "   @ Base.IteratorsMD ./multidimensional.jl:93",
      " [3] top-level scope",
      "   @ In[135]:1",
      " [4] eval",
      "   @ ./boot.jl:360 [inlined]",
      " [5] include_string(mapexpr::typeof(REPL.softscope), mod::Module, code::String, filename::String)",
      "   @ Base ./loading.jl:1116"
     ]
    }
   ],
   "source": [
    "B[3]"
   ]
  },
  {
   "cell_type": "code",
   "execution_count": 37,
   "id": "22cee53b",
   "metadata": {},
   "outputs": [
    {
     "ename": "LoadError",
     "evalue": "BoundsError: attempt to access 10-element Vector{Tuple{Float64, Float64}} at index [1:10, 2]",
     "output_type": "error",
     "traceback": [
      "BoundsError: attempt to access 10-element Vector{Tuple{Float64, Float64}} at index [1:10, 2]",
      "",
      "Stacktrace:",
      " [1] throw_boundserror(A::Vector{Tuple{Float64, Float64}}, I::Tuple{Base.Slice{Base.OneTo{Int64}}, Int64})",
      "   @ Base ./abstractarray.jl:651",
      " [2] checkbounds",
      "   @ ./abstractarray.jl:616 [inlined]",
      " [3] _getindex",
      "   @ ./multidimensional.jl:837 [inlined]",
      " [4] getindex(::Vector{Tuple{Float64, Float64}}, ::Function, ::Int64)",
      "   @ Base ./abstractarray.jl:1170",
      " [5] top-level scope",
      "   @ In[37]:1",
      " [6] eval",
      "   @ ./boot.jl:360 [inlined]",
      " [7] include_string(mapexpr::typeof(REPL.softscope), mod::Module, code::String, filename::String)",
      "   @ Base ./loading.jl:1116"
     ]
    }
   ],
   "source": [
    "r_tuple[:,2]"
   ]
  },
  {
   "cell_type": "code",
   "execution_count": 144,
   "id": "6439a28b",
   "metadata": {},
   "outputs": [
    {
     "data": {
      "text/plain": [
       "2-element Vector{Float64}:\n",
       " 0.2\n",
       " 0.5"
      ]
     },
     "execution_count": 144,
     "metadata": {},
     "output_type": "execute_result"
    }
   ],
   "source": [
    "[0.2\n",
    "    ,0.5]"
   ]
  },
  {
   "cell_type": "code",
   "execution_count": 145,
   "id": "5070ac6b",
   "metadata": {},
   "outputs": [
    {
     "data": {
      "text/plain": [
       "XHloop_append (generic function with 1 method)"
      ]
     },
     "execution_count": 145,
     "metadata": {},
     "output_type": "execute_result"
    }
   ],
   "source": [
    "function XHloop_append(i,H_film_start_one,H_film_end_one,sys)\n",
    "    Xp = sys.liquid.Xp[i]\n",
    "    δstart = sys.vapor.δstart[i]\n",
    "    δend = sys.vapor.δend[i]\n",
    "    Lfilm_start = sys.vapor.Lfilm_start[i]\n",
    "    Lfilm_end = sys.vapor.Lfilm_end[i]\n",
    "    \n",
    "    Hvapor = sys.vapor.Hᵥ\n",
    "    \n",
    "    L = sys.tube.L\n",
    "    \n",
    "    if Xp[2] > Xp[1]\n",
    "        \n",
    "        return \"Xp error 1\"\n",
    "        \n",
    "    elseif Xp[1] + Lfilm_start > L\n",
    "        \n",
    "        X_inner_loop_append = mod.([sys.vapor.Xp[i][1],L,\n",
    "                0.0,sys.vapor.Xp[i][1]+Lfilm_start,\n",
    "                sys.vapor.Xp[i][1]+Lfilm_start,sys.vapor.Xp[i][end]-Lfilm_end,\n",
    "                sys.vapor.Xp[i][end]-Lfilm_end,sys.vapor.Xp[i][end]],L)\n",
    "        \n",
    "        H_inner_loop_append = [H_film_start[i], H_film_start[i],\n",
    "                H_film_start[i], H_film_start[i],\n",
    "                H_vapor[i],H_vapor[i],\n",
    "                H_film_end[i],H_film_end[i]]\n",
    "        \n",
    "    elseif Xp[2] - Lfilm_end > L\n",
    "        \n",
    "        X_inner_loop_append = mod.([sys.vapor.Xp[i][1],sys.vapor.Xp[i][1]+Lfilm_start,\n",
    "                sys.vapor.Xp[i][1]+Lfilm_start, L,\n",
    "                0.0, sys.vapor.Xp[i][end]-Lfilm_end,\n",
    "                sys.vapor.Xp[i][end]-Lfilm_end,sys.vapor.Xp[i][end]],L)\n",
    "        \n",
    "        H_inner_loop_append = [H_film_start[i], H_film_start[i],\n",
    "                H_vapor[i], H_vapor[i],\n",
    "                H_vapor[i],H_vapor[i],\n",
    "                H_film_end[i],H_film_end[i]]\n",
    "        \n",
    "    elseif Xp[2] > L\n",
    "        \n",
    "        X_inner_loop_append = mod.([sys.vapor.Xp[i][1],sys.vapor.Xp[i][1]+Lfilm_start,\n",
    "                sys.vapor.Xp[i][1]+Lfilm_start, L,\n",
    "                0.0, sys.vapor.Xp[i][end]-Lfilm_end,\n",
    "                sys.vapor.Xp[i][end]-Lfilm_end,sys.vapor.Xp[i][end]],L)\n",
    "        \n",
    "        H_inner_loop_append = [H_film_start[i], H_film_start[i],\n",
    "                H_vapor[i], H_vapor[i],\n",
    "                H_film_end[i],H_film_end[i],\n",
    "                H_film_end[i],H_film_end[i]]\n",
    "        \n",
    "    else return \"Xp error 2\"\n",
    "    end\n",
    "    \n",
    "    return X_inner_loop_append,H_inner_loop_append\n",
    "end"
   ]
  },
  {
   "cell_type": "code",
   "execution_count": 198,
   "id": "5239dec6",
   "metadata": {},
   "outputs": [
    {
     "data": {
      "text/plain": [
       "500000"
      ]
     },
     "execution_count": 198,
     "metadata": {},
     "output_type": "execute_result"
    }
   ],
   "source": [
    "AA = rand(1000000);\n",
    "imin = 500000"
   ]
  },
  {
   "cell_type": "code",
   "execution_count": 183,
   "id": "9db38f79",
   "metadata": {},
   "outputs": [
    {
     "name": "stdout",
     "output_type": "stream",
     "text": [
      "  0.005939 seconds (1 allocation: 32 bytes)\n"
     ]
    },
    {
     "data": {
      "text/plain": [
       "(1.1563798429925498e-7, 569821)"
      ]
     },
     "execution_count": 183,
     "metadata": {},
     "output_type": "execute_result"
    }
   ],
   "source": [
    "@time findmin(AA)"
   ]
  },
  {
   "cell_type": "code",
   "execution_count": 184,
   "id": "0281b680",
   "metadata": {},
   "outputs": [
    {
     "name": "stdout",
     "output_type": "stream",
     "text": [
      "  0.005433 seconds (1 allocation: 16 bytes)\n"
     ]
    },
    {
     "data": {
      "text/plain": [
       "569821"
      ]
     },
     "execution_count": 184,
     "metadata": {},
     "output_type": "execute_result"
    }
   ],
   "source": [
    "@time argmin(AA)"
   ]
  },
  {
   "cell_type": "code",
   "execution_count": 199,
   "id": "6b240762",
   "metadata": {},
   "outputs": [],
   "source": [
    "AA2 = Array{Float64}(undef, 0);"
   ]
  },
  {
   "cell_type": "code",
   "execution_count": 204,
   "id": "5981c422",
   "metadata": {},
   "outputs": [
    {
     "name": "stdout",
     "output_type": "stream",
     "text": [
      "  0.010570 seconds (500.00 k allocations: 11.444 MiB)\n",
      "  0.010437 seconds (500.00 k allocations: 11.444 MiB)\n"
     ]
    }
   ],
   "source": [
    "AA2 = []\n",
    "@time append!(AA2,view(AA, imin:length(AA)))\n",
    "@time append!(AA2,view(AA, 1:imin-1));"
   ]
  },
  {
   "cell_type": "code",
   "execution_count": 205,
   "id": "2d5a16dd",
   "metadata": {},
   "outputs": [
    {
     "name": "stdout",
     "output_type": "stream",
     "text": [
      "  0.004764 seconds (10 allocations: 15.259 MiB)\n"
     ]
    },
    {
     "data": {
      "text/plain": [
       "1000000-element Vector{Float64}:\n",
       " 0.3707465598350228\n",
       " 0.36875070735466564\n",
       " 0.7681765956518849\n",
       " 0.17826840174393488\n",
       " 0.9569403942156849\n",
       " 0.08212618723051746\n",
       " 0.4766527676064414\n",
       " 0.15320691633526207\n",
       " 0.5374842036233569\n",
       " 0.5268734944271081\n",
       " 0.08443865947175366\n",
       " 0.8782269367500113\n",
       " 0.39327431877702246\n",
       " ⋮\n",
       " 0.12553642930120112\n",
       " 0.9734144371399245\n",
       " 0.5208508905645763\n",
       " 0.7406973069622247\n",
       " 0.013679583047938815\n",
       " 0.31057043985499644\n",
       " 0.8201245397363914\n",
       " 0.5390620547113423\n",
       " 0.4601038700927724\n",
       " 0.713119949484941\n",
       " 0.962484765725782\n",
       " 0.11578383373457912"
      ]
     },
     "execution_count": 205,
     "metadata": {},
     "output_type": "execute_result"
    }
   ],
   "source": [
    "AA2 = []\n",
    "@time AA2 = [AA[imin:length(AA)];AA[1:imin-1]]"
   ]
  },
  {
   "cell_type": "code",
   "execution_count": 213,
   "id": "2f127a6f",
   "metadata": {},
   "outputs": [
    {
     "data": {
      "text/plain": [
       "10-element Vector{Float64}:\n",
       " -0.24517383637157586\n",
       "  0.19073292719475776\n",
       " -0.4617114918937555\n",
       " -0.4724946130846719\n",
       " -0.13882201771879665\n",
       "  0.07225190353714339\n",
       " -0.08106502956779771\n",
       " -0.022247847826107225\n",
       " -0.4418463578605569\n",
       "  0.09088146783871331"
      ]
     },
     "execution_count": 213,
     "metadata": {},
     "output_type": "execute_result"
    }
   ],
   "source": [
    "AA = rand(10) .- 0.5"
   ]
  },
  {
   "cell_type": "code",
   "execution_count": 216,
   "id": "c0cccf81",
   "metadata": {},
   "outputs": [
    {
     "data": {
      "text/plain": [
       "10-element Vector{Float64}:\n",
       " 0.0\n",
       " 0.19073292719475776\n",
       " 0.0\n",
       " 0.0\n",
       " 0.0\n",
       " 0.07225190353714339\n",
       " 0.0\n",
       " 0.0\n",
       " 0.0\n",
       " 0.09088146783871331"
      ]
     },
     "execution_count": 216,
     "metadata": {},
     "output_type": "execute_result"
    }
   ],
   "source": [
    "max.(AA,0.0)"
   ]
  },
  {
   "cell_type": "code",
   "execution_count": 220,
   "id": "61b60063",
   "metadata": {},
   "outputs": [
    {
     "ename": "LoadError",
     "evalue": "ArgumentError: Package interpolation not found in current path:\n- Run `import Pkg; Pkg.add(\"interpolation\")` to install the interpolation package.\n",
     "output_type": "error",
     "traceback": [
      "ArgumentError: Package interpolation not found in current path:\n- Run `import Pkg; Pkg.add(\"interpolation\")` to install the interpolation package.\n",
      "",
      "Stacktrace:",
      " [1] require(into::Module, mod::Symbol)",
      "   @ Base ./loading.jl:893",
      " [2] eval",
      "   @ ./boot.jl:360 [inlined]",
      " [3] include_string(mapexpr::typeof(REPL.softscope), mod::Module, code::String, filename::String)",
      "   @ Base ./loading.jl:1116"
     ]
    }
   ],
   "source": [
    "using interpolation"
   ]
  },
  {
   "cell_type": "code",
   "execution_count": 218,
   "id": "0fe6cb81",
   "metadata": {},
   "outputs": [
    {
     "ename": "LoadError",
     "evalue": "UndefVarError: quadgk not defined",
     "output_type": "error",
     "traceback": [
      "UndefVarError: quadgk not defined",
      "",
      "Stacktrace:",
      " [1] top-level scope",
      "   @ In[218]:1",
      " [2] eval",
      "   @ ./boot.jl:360 [inlined]",
      " [3] include_string(mapexpr::typeof(REPL.softscope), mod::Module, code::String, filename::String)",
      "   @ Base ./loading.jl:1116"
     ]
    }
   ],
   "source": [
    "quadgk()"
   ]
  },
  {
   "cell_type": "code",
   "execution_count": 222,
   "id": "01a87397",
   "metadata": {},
   "outputs": [],
   "source": [
    "using Interpolations"
   ]
  },
  {
   "cell_type": "code",
   "execution_count": 236,
   "id": "a117ac1f",
   "metadata": {},
   "outputs": [
    {
     "data": {
      "text/plain": [
       "100-element extrapolate(scale(interpolate(::Vector{Float64}, BSpline(Linear())), (1:100,)), Throw()) with element type Float64:\n",
       " 0.5460267814467406\n",
       " 0.6645431031987998\n",
       " 0.8903396091304123\n",
       " 0.38329031818865844\n",
       " 0.35110199202647263\n",
       " 0.9410930801201836\n",
       " 0.4776995740400889\n",
       " 0.43361710150315047\n",
       " 0.4758117806654445\n",
       " 0.6843683412918968\n",
       " 0.7339634209309265\n",
       " 0.806022755665061\n",
       " 0.5267001380524376\n",
       " ⋮\n",
       " 0.9442547825630421\n",
       " 0.46403972839049534\n",
       " 0.16113474153286322\n",
       " 0.6830377212061058\n",
       " 0.7754873683583217\n",
       " 0.3781064374844807\n",
       " 0.2641464386179906\n",
       " 0.24624786628906503\n",
       " 0.1315009204364015\n",
       " 0.45350959378407585\n",
       " 0.8676603673483432\n",
       " 0.34959604455942594"
      ]
     },
     "execution_count": 236,
     "metadata": {},
     "output_type": "execute_result"
    }
   ],
   "source": [
    "interp1"
   ]
  },
  {
   "cell_type": "code",
   "execution_count": 237,
   "id": "a8593793",
   "metadata": {},
   "outputs": [
    {
     "data": {
      "text/plain": [
       "100-element extrapolate(scale(interpolate(::Vector{Float64}, BSpline(Linear())), (1:100,)), Throw()) with element type Float64:\n",
       " 0.41567413788914953\n",
       " 0.9821571883036979\n",
       " 0.8200669615613498\n",
       " 0.05392149887683639\n",
       " 0.028378516617479033\n",
       " 0.33653156232037107\n",
       " 0.5717091453551566\n",
       " 0.3397123906197821\n",
       " 0.7186559149873271\n",
       " 0.5721407593886456\n",
       " 0.6722904462444559\n",
       " 0.3345441670286997\n",
       " 0.20697861779580062\n",
       " ⋮\n",
       " 0.31763165793254244\n",
       " 0.9159198094896048\n",
       " 0.4048884625988469\n",
       " 0.9710348429962337\n",
       " 0.15655313788623193\n",
       " 0.15391378227976937\n",
       " 0.26715825627140566\n",
       " 0.2476806204072146\n",
       " 0.49610150882444515\n",
       " 0.7100339041608321\n",
       " 0.3603786475059989\n",
       " 0.7071917040531781"
      ]
     },
     "execution_count": 237,
     "metadata": {},
     "output_type": "execute_result"
    }
   ],
   "source": [
    "interp2"
   ]
  },
  {
   "cell_type": "code",
   "execution_count": 238,
   "id": "81edbe78",
   "metadata": {},
   "outputs": [],
   "source": [
    "interp1 = LinearInterpolation(2:100, rand(99))\n",
    "\n",
    "interp2 = LinearInterpolation(2:100, rand(99));"
   ]
  },
  {
   "cell_type": "code",
   "execution_count": 240,
   "id": "ef0cb544",
   "metadata": {},
   "outputs": [
    {
     "ename": "LoadError",
     "evalue": "MethodError: no method matching *(::Interpolations.Extrapolation{Float64, 1, ScaledInterpolation{Float64, 1, Interpolations.BSplineInterpolation{Float64, 1, Vector{Float64}, BSpline{Linear}, Tuple{Base.OneTo{Int64}}}, BSpline{Linear}, Tuple{UnitRange{Int64}}}, BSpline{Linear}, Throw{Nothing}}, ::Interpolations.Extrapolation{Float64, 1, ScaledInterpolation{Float64, 1, Interpolations.BSplineInterpolation{Float64, 1, Vector{Float64}, BSpline{Linear}, Tuple{Base.OneTo{Int64}}}, BSpline{Linear}, Tuple{UnitRange{Int64}}}, BSpline{Linear}, Throw{Nothing}})\n\u001b[0mClosest candidates are:\n\u001b[0m  *(::Any, ::Any, \u001b[91m::Any\u001b[39m, \u001b[91m::Any...\u001b[39m) at operators.jl:560\n\u001b[0m  *(\u001b[91m::WoodburyMatrices.AbstractWoodbury\u001b[39m, ::AbstractVector{T} where T) at /Users/yuxuanli/.julia/packages/WoodburyMatrices/zexu7/src/WoodburyMatrices.jl:50\n\u001b[0m  *(\u001b[91m::Dates.Period\u001b[39m, ::AbstractArray) at /Users/julia/buildbot/worker/package_macos64/build/usr/share/julia/stdlib/v1.6/Dates/src/periods.jl:97\n\u001b[0m  ...",
     "output_type": "error",
     "traceback": [
      "MethodError: no method matching *(::Interpolations.Extrapolation{Float64, 1, ScaledInterpolation{Float64, 1, Interpolations.BSplineInterpolation{Float64, 1, Vector{Float64}, BSpline{Linear}, Tuple{Base.OneTo{Int64}}}, BSpline{Linear}, Tuple{UnitRange{Int64}}}, BSpline{Linear}, Throw{Nothing}}, ::Interpolations.Extrapolation{Float64, 1, ScaledInterpolation{Float64, 1, Interpolations.BSplineInterpolation{Float64, 1, Vector{Float64}, BSpline{Linear}, Tuple{Base.OneTo{Int64}}}, BSpline{Linear}, Tuple{UnitRange{Int64}}}, BSpline{Linear}, Throw{Nothing}})\n\u001b[0mClosest candidates are:\n\u001b[0m  *(::Any, ::Any, \u001b[91m::Any\u001b[39m, \u001b[91m::Any...\u001b[39m) at operators.jl:560\n\u001b[0m  *(\u001b[91m::WoodburyMatrices.AbstractWoodbury\u001b[39m, ::AbstractVector{T} where T) at /Users/yuxuanli/.julia/packages/WoodburyMatrices/zexu7/src/WoodburyMatrices.jl:50\n\u001b[0m  *(\u001b[91m::Dates.Period\u001b[39m, ::AbstractArray) at /Users/julia/buildbot/worker/package_macos64/build/usr/share/julia/stdlib/v1.6/Dates/src/periods.jl:97\n\u001b[0m  ...",
      "",
      "Stacktrace:",
      " [1] top-level scope",
      "   @ In[240]:1",
      " [2] eval",
      "   @ ./boot.jl:360 [inlined]",
      " [3] include_string(mapexpr::typeof(REPL.softscope), mod::Module, code::String, filename::String)",
      "   @ Base ./loading.jl:1116"
     ]
    }
   ],
   "source": [
    "interp1 * interp2"
   ]
  },
  {
   "cell_type": "code",
   "execution_count": null,
   "id": "6bb69e70",
   "metadata": {},
   "outputs": [],
   "source": []
  }
 ],
 "metadata": {
  "kernelspec": {
   "display_name": "Julia 1.6.6",
   "language": "julia",
   "name": "julia-1.6"
  },
  "language_info": {
   "file_extension": ".jl",
   "mimetype": "application/julia",
   "name": "julia",
   "version": "1.6.6"
  }
 },
 "nbformat": 4,
 "nbformat_minor": 5
}
