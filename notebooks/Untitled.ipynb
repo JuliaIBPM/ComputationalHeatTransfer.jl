{
 "cells": [
  {
   "cell_type": "code",
   "execution_count": 1,
   "metadata": {},
   "outputs": [],
   "source": [
    "using Interpolations"
   ]
  },
  {
   "cell_type": "code",
   "execution_count": 5,
   "metadata": {},
   "outputs": [],
   "source": [
    "using Plots"
   ]
  },
  {
   "cell_type": "code",
   "execution_count": 11,
   "metadata": {},
   "outputs": [
    {
     "data": {
      "text/plain": [
       "1.1314023737384542"
      ]
     },
     "execution_count": 11,
     "metadata": {},
     "output_type": "execute_result"
    }
   ],
   "source": [
    "f(x) = log(x)\n",
    "xs = 1:0.2:5\n",
    "A = [f(x) for x in xs]\n",
    "\n",
    "# linear interpolation\n",
    "interp_linear = LinearInterpolation(xs, A)\n",
    "interp_linear(3) # exactly log(3)\n",
    "interp_linear(3.1) # approximately log(3.1)\n",
    "\n",
    "# cubic spline interpolation\n",
    "interp_cubic = CubicSplineInterpolation(xs, A)\n",
    "interp_cubic(3) # exactly log(3)\n",
    "interp_cubic(3.1) # approximately log(3.1)"
   ]
  },
  {
   "cell_type": "code",
   "execution_count": 12,
   "metadata": {},
   "outputs": [
    {
     "data": {
      "text/plain": [
       "StepRangeLen{Float64,Base.TwicePrecision{Float64},Base.TwicePrecision{Float64}}"
      ]
     },
     "execution_count": 12,
     "metadata": {},
     "output_type": "execute_result"
    }
   ],
   "source": [
    "typeof(xs)"
   ]
  },
  {
   "cell_type": "code",
   "execution_count": 6,
   "metadata": {},
   "outputs": [
    {
     "data": {
      "image/svg+xml": [
       "<?xml version=\"1.0\" encoding=\"utf-8\"?>\n",
       "<svg xmlns=\"http://www.w3.org/2000/svg\" xmlns:xlink=\"http://www.w3.org/1999/xlink\" width=\"600\" height=\"400\" viewBox=\"0 0 2400 1600\">\n",
       "<defs>\n",
       "  <clipPath id=\"clip820\">\n",
       "    <rect x=\"0\" y=\"0\" width=\"2400\" height=\"1600\"/>\n",
       "  </clipPath>\n",
       "</defs>\n",
       "<path clip-path=\"url(#clip820)\" d=\"\n",
       "M0 1600 L2400 1600 L2400 0 L0 0  Z\n",
       "  \" fill=\"#ffffff\" fill-rule=\"evenodd\" fill-opacity=\"1\"/>\n",
       "<defs>\n",
       "  <clipPath id=\"clip821\">\n",
       "    <rect x=\"480\" y=\"0\" width=\"1681\" height=\"1600\"/>\n",
       "  </clipPath>\n",
       "</defs>\n",
       "<path clip-path=\"url(#clip820)\" d=\"\n",
       "M156.112 1486.45 L2352.76 1486.45 L2352.76 47.2441 L156.112 47.2441  Z\n",
       "  \" fill=\"#ffffff\" fill-rule=\"evenodd\" fill-opacity=\"1\"/>\n",
       "<defs>\n",
       "  <clipPath id=\"clip822\">\n",
       "    <rect x=\"156\" y=\"47\" width=\"2198\" height=\"1440\"/>\n",
       "  </clipPath>\n",
       "</defs>\n",
       "<polyline clip-path=\"url(#clip822)\" style=\"stroke:#000000; stroke-width:2; stroke-opacity:0.1; fill:none\" points=\"\n",
       "  218.281,1486.45 218.281,47.2441 \n",
       "  \"/>\n",
       "<polyline clip-path=\"url(#clip822)\" style=\"stroke:#000000; stroke-width:2; stroke-opacity:0.1; fill:none\" points=\"\n",
       "  736.358,1486.45 736.358,47.2441 \n",
       "  \"/>\n",
       "<polyline clip-path=\"url(#clip822)\" style=\"stroke:#000000; stroke-width:2; stroke-opacity:0.1; fill:none\" points=\"\n",
       "  1254.43,1486.45 1254.43,47.2441 \n",
       "  \"/>\n",
       "<polyline clip-path=\"url(#clip822)\" style=\"stroke:#000000; stroke-width:2; stroke-opacity:0.1; fill:none\" points=\"\n",
       "  1772.51,1486.45 1772.51,47.2441 \n",
       "  \"/>\n",
       "<polyline clip-path=\"url(#clip822)\" style=\"stroke:#000000; stroke-width:2; stroke-opacity:0.1; fill:none\" points=\"\n",
       "  2290.59,1486.45 2290.59,47.2441 \n",
       "  \"/>\n",
       "<polyline clip-path=\"url(#clip820)\" style=\"stroke:#000000; stroke-width:4; stroke-opacity:1; fill:none\" points=\"\n",
       "  156.112,1486.45 2352.76,1486.45 \n",
       "  \"/>\n",
       "<polyline clip-path=\"url(#clip820)\" style=\"stroke:#000000; stroke-width:4; stroke-opacity:1; fill:none\" points=\"\n",
       "  218.281,1486.45 218.281,1469.18 \n",
       "  \"/>\n",
       "<polyline clip-path=\"url(#clip820)\" style=\"stroke:#000000; stroke-width:4; stroke-opacity:1; fill:none\" points=\"\n",
       "  736.358,1486.45 736.358,1469.18 \n",
       "  \"/>\n",
       "<polyline clip-path=\"url(#clip820)\" style=\"stroke:#000000; stroke-width:4; stroke-opacity:1; fill:none\" points=\"\n",
       "  1254.43,1486.45 1254.43,1469.18 \n",
       "  \"/>\n",
       "<polyline clip-path=\"url(#clip820)\" style=\"stroke:#000000; stroke-width:4; stroke-opacity:1; fill:none\" points=\"\n",
       "  1772.51,1486.45 1772.51,1469.18 \n",
       "  \"/>\n",
       "<polyline clip-path=\"url(#clip820)\" style=\"stroke:#000000; stroke-width:4; stroke-opacity:1; fill:none\" points=\"\n",
       "  2290.59,1486.45 2290.59,1469.18 \n",
       "  \"/>\n",
       "<path clip-path=\"url(#clip820)\" d=\"M 0 0 M208.663 1543.18 L216.302 1543.18 L216.302 1516.82 L207.992 1518.49 L207.992 1514.23 L216.256 1512.56 L220.932 1512.56 L220.932 1543.18 L228.571 1543.18 L228.571 1547.12 L208.663 1547.12 L208.663 1543.18 Z\" fill=\"#000000\" fill-rule=\"evenodd\" fill-opacity=\"1\" /><path clip-path=\"url(#clip820)\" d=\"M 0 0 M731.01 1543.18 L747.33 1543.18 L747.33 1547.12 L725.385 1547.12 L725.385 1543.18 Q728.048 1540.43 732.631 1535.8 Q737.237 1531.15 738.418 1529.81 Q740.663 1527.28 741.543 1525.55 Q742.446 1523.79 742.446 1522.1 Q742.446 1519.34 740.501 1517.61 Q738.58 1515.87 735.478 1515.87 Q733.279 1515.87 730.825 1516.63 Q728.395 1517.4 725.617 1518.95 L725.617 1514.23 Q728.441 1513.09 730.895 1512.51 Q733.348 1511.93 735.385 1511.93 Q740.756 1511.93 743.95 1514.62 Q747.145 1517.31 747.145 1521.8 Q747.145 1523.93 746.334 1525.85 Q745.547 1527.74 743.441 1530.34 Q742.862 1531.01 739.76 1534.23 Q736.659 1537.42 731.01 1543.18 Z\" fill=\"#000000\" fill-rule=\"evenodd\" fill-opacity=\"1\" /><path clip-path=\"url(#clip820)\" d=\"M 0 0 M1258.68 1528.49 Q1262.04 1529.2 1263.91 1531.47 Q1265.81 1533.74 1265.81 1537.07 Q1265.81 1542.19 1262.29 1544.99 Q1258.77 1547.79 1252.29 1547.79 Q1250.12 1547.79 1247.8 1547.35 Q1245.51 1546.93 1243.06 1546.08 L1243.06 1541.56 Q1245 1542.7 1247.32 1543.28 Q1249.63 1543.86 1252.15 1543.86 Q1256.55 1543.86 1258.84 1542.12 Q1261.16 1540.38 1261.16 1537.07 Q1261.16 1534.02 1259.01 1532.31 Q1256.88 1530.57 1253.06 1530.57 L1249.03 1530.57 L1249.03 1526.73 L1253.24 1526.73 Q1256.69 1526.73 1258.52 1525.36 Q1260.35 1523.97 1260.35 1521.38 Q1260.35 1518.72 1258.45 1517.31 Q1256.58 1515.87 1253.06 1515.87 Q1251.14 1515.87 1248.94 1516.29 Q1246.74 1516.7 1244.1 1517.58 L1244.1 1513.42 Q1246.76 1512.68 1249.08 1512.31 Q1251.41 1511.93 1253.47 1511.93 Q1258.8 1511.93 1261.9 1514.37 Q1265 1516.77 1265 1520.89 Q1265 1523.76 1263.36 1525.75 Q1261.71 1527.72 1258.68 1528.49 Z\" fill=\"#000000\" fill-rule=\"evenodd\" fill-opacity=\"1\" /><path clip-path=\"url(#clip820)\" d=\"M 0 0 M1775.52 1516.63 L1763.71 1535.08 L1775.52 1535.08 L1775.52 1516.63 M1774.29 1512.56 L1780.17 1512.56 L1780.17 1535.08 L1785.1 1535.08 L1785.1 1538.97 L1780.17 1538.97 L1780.17 1547.12 L1775.52 1547.12 L1775.52 1538.97 L1759.92 1538.97 L1759.92 1534.46 L1774.29 1512.56 Z\" fill=\"#000000\" fill-rule=\"evenodd\" fill-opacity=\"1\" /><path clip-path=\"url(#clip820)\" d=\"M 0 0 M2280.86 1512.56 L2299.22 1512.56 L2299.22 1516.5 L2285.15 1516.5 L2285.15 1524.97 Q2286.17 1524.62 2287.18 1524.46 Q2288.2 1524.27 2289.22 1524.27 Q2295.01 1524.27 2298.39 1527.44 Q2301.77 1530.62 2301.77 1536.03 Q2301.77 1541.61 2298.3 1544.71 Q2294.82 1547.79 2288.5 1547.79 Q2286.33 1547.79 2284.06 1547.42 Q2281.81 1547.05 2279.41 1546.31 L2279.41 1541.61 Q2281.49 1542.74 2283.71 1543.3 Q2285.93 1543.86 2288.41 1543.86 Q2292.42 1543.86 2294.75 1541.75 Q2297.09 1539.64 2297.09 1536.03 Q2297.09 1532.42 2294.75 1530.31 Q2292.42 1528.21 2288.41 1528.21 Q2286.54 1528.21 2284.66 1528.62 Q2282.81 1529.04 2280.86 1529.92 L2280.86 1512.56 Z\" fill=\"#000000\" fill-rule=\"evenodd\" fill-opacity=\"1\" /><polyline clip-path=\"url(#clip822)\" style=\"stroke:#000000; stroke-width:2; stroke-opacity:0.1; fill:none\" points=\"\n",
       "  156.112,1445.72 2352.76,1445.72 \n",
       "  \"/>\n",
       "<polyline clip-path=\"url(#clip822)\" style=\"stroke:#000000; stroke-width:2; stroke-opacity:0.1; fill:none\" points=\"\n",
       "  156.112,1023.91 2352.76,1023.91 \n",
       "  \"/>\n",
       "<polyline clip-path=\"url(#clip822)\" style=\"stroke:#000000; stroke-width:2; stroke-opacity:0.1; fill:none\" points=\"\n",
       "  156.112,602.105 2352.76,602.105 \n",
       "  \"/>\n",
       "<polyline clip-path=\"url(#clip822)\" style=\"stroke:#000000; stroke-width:2; stroke-opacity:0.1; fill:none\" points=\"\n",
       "  156.112,180.299 2352.76,180.299 \n",
       "  \"/>\n",
       "<polyline clip-path=\"url(#clip820)\" style=\"stroke:#000000; stroke-width:4; stroke-opacity:1; fill:none\" points=\"\n",
       "  156.112,1486.45 156.112,47.2441 \n",
       "  \"/>\n",
       "<polyline clip-path=\"url(#clip820)\" style=\"stroke:#000000; stroke-width:4; stroke-opacity:1; fill:none\" points=\"\n",
       "  156.112,1445.72 182.472,1445.72 \n",
       "  \"/>\n",
       "<polyline clip-path=\"url(#clip820)\" style=\"stroke:#000000; stroke-width:4; stroke-opacity:1; fill:none\" points=\"\n",
       "  156.112,1023.91 182.472,1023.91 \n",
       "  \"/>\n",
       "<polyline clip-path=\"url(#clip820)\" style=\"stroke:#000000; stroke-width:4; stroke-opacity:1; fill:none\" points=\"\n",
       "  156.112,602.105 182.472,602.105 \n",
       "  \"/>\n",
       "<polyline clip-path=\"url(#clip820)\" style=\"stroke:#000000; stroke-width:4; stroke-opacity:1; fill:none\" points=\"\n",
       "  156.112,180.299 182.472,180.299 \n",
       "  \"/>\n",
       "<path clip-path=\"url(#clip820)\" d=\"M 0 0 M62.9365 1431.51 Q59.3254 1431.51 57.4967 1435.08 Q55.6912 1438.62 55.6912 1445.75 Q55.6912 1452.86 57.4967 1456.42 Q59.3254 1459.96 62.9365 1459.96 Q66.5707 1459.96 68.3763 1456.42 Q70.205 1452.86 70.205 1445.75 Q70.205 1438.62 68.3763 1435.08 Q66.5707 1431.51 62.9365 1431.51 M62.9365 1427.81 Q68.7467 1427.81 71.8022 1432.42 Q74.8809 1437 74.8809 1445.75 Q74.8809 1454.48 71.8022 1459.08 Q68.7467 1463.67 62.9365 1463.67 Q57.1264 1463.67 54.0477 1459.08 Q50.9921 1454.48 50.9921 1445.75 Q50.9921 1437 54.0477 1432.42 Q57.1264 1427.81 62.9365 1427.81 Z\" fill=\"#000000\" fill-rule=\"evenodd\" fill-opacity=\"1\" /><path clip-path=\"url(#clip820)\" d=\"M 0 0 M83.0984 1457.12 L87.9827 1457.12 L87.9827 1463 L83.0984 1463 L83.0984 1457.12 Z\" fill=\"#000000\" fill-rule=\"evenodd\" fill-opacity=\"1\" /><path clip-path=\"url(#clip820)\" d=\"M 0 0 M108.168 1431.51 Q104.557 1431.51 102.728 1435.08 Q100.922 1438.62 100.922 1445.75 Q100.922 1452.86 102.728 1456.42 Q104.557 1459.96 108.168 1459.96 Q111.802 1459.96 113.608 1456.42 Q115.436 1452.86 115.436 1445.75 Q115.436 1438.62 113.608 1435.08 Q111.802 1431.51 108.168 1431.51 M108.168 1427.81 Q113.978 1427.81 117.033 1432.42 Q120.112 1437 120.112 1445.75 Q120.112 1454.48 117.033 1459.08 Q113.978 1463.67 108.168 1463.67 Q102.358 1463.67 99.2789 1459.08 Q96.2234 1454.48 96.2234 1445.75 Q96.2234 1437 99.2789 1432.42 Q102.358 1427.81 108.168 1427.81 Z\" fill=\"#000000\" fill-rule=\"evenodd\" fill-opacity=\"1\" /><path clip-path=\"url(#clip820)\" d=\"M 0 0 M63.9319 1009.71 Q60.3208 1009.71 58.4921 1013.27 Q56.6865 1016.82 56.6865 1023.94 Q56.6865 1031.05 58.4921 1034.62 Q60.3208 1038.16 63.9319 1038.16 Q67.5661 1038.16 69.3717 1034.62 Q71.2004 1031.05 71.2004 1023.94 Q71.2004 1016.82 69.3717 1013.27 Q67.5661 1009.71 63.9319 1009.71 M63.9319 1006.01 Q69.742 1006.01 72.7976 1010.61 Q75.8763 1015.19 75.8763 1023.94 Q75.8763 1032.67 72.7976 1037.28 Q69.742 1041.86 63.9319 1041.86 Q58.1217 1041.86 55.043 1037.28 Q51.9875 1032.67 51.9875 1023.94 Q51.9875 1015.19 55.043 1010.61 Q58.1217 1006.01 63.9319 1006.01 Z\" fill=\"#000000\" fill-rule=\"evenodd\" fill-opacity=\"1\" /><path clip-path=\"url(#clip820)\" d=\"M 0 0 M84.0938 1035.31 L88.978 1035.31 L88.978 1041.19 L84.0938 1041.19 L84.0938 1035.31 Z\" fill=\"#000000\" fill-rule=\"evenodd\" fill-opacity=\"1\" /><path clip-path=\"url(#clip820)\" d=\"M 0 0 M99.2095 1006.63 L117.566 1006.63 L117.566 1010.57 L103.492 1010.57 L103.492 1019.04 Q104.51 1018.69 105.529 1018.53 Q106.547 1018.34 107.566 1018.34 Q113.353 1018.34 116.733 1021.51 Q120.112 1024.69 120.112 1030.1 Q120.112 1035.68 116.64 1038.78 Q113.168 1041.86 106.848 1041.86 Q104.672 1041.86 102.404 1041.49 Q100.159 1041.12 97.7511 1040.38 L97.7511 1035.68 Q99.8345 1036.82 102.057 1037.37 Q104.279 1037.93 106.756 1037.93 Q110.76 1037.93 113.098 1035.82 Q115.436 1033.71 115.436 1030.1 Q115.436 1026.49 113.098 1024.38 Q110.76 1022.28 106.756 1022.28 Q104.881 1022.28 103.006 1022.69 Q101.154 1023.11 99.2095 1023.99 L99.2095 1006.63 Z\" fill=\"#000000\" fill-rule=\"evenodd\" fill-opacity=\"1\" /><path clip-path=\"url(#clip820)\" d=\"M 0 0 M53.7467 615.45 L61.3856 615.45 L61.3856 589.084 L53.0754 590.751 L53.0754 586.491 L61.3393 584.825 L66.0152 584.825 L66.0152 615.45 L73.654 615.45 L73.654 619.385 L53.7467 619.385 L53.7467 615.45 Z\" fill=\"#000000\" fill-rule=\"evenodd\" fill-opacity=\"1\" /><path clip-path=\"url(#clip820)\" d=\"M 0 0 M83.0984 613.505 L87.9827 613.505 L87.9827 619.385 L83.0984 619.385 L83.0984 613.505 Z\" fill=\"#000000\" fill-rule=\"evenodd\" fill-opacity=\"1\" /><path clip-path=\"url(#clip820)\" d=\"M 0 0 M108.168 587.903 Q104.557 587.903 102.728 591.468 Q100.922 595.01 100.922 602.139 Q100.922 609.246 102.728 612.811 Q104.557 616.352 108.168 616.352 Q111.802 616.352 113.608 612.811 Q115.436 609.246 115.436 602.139 Q115.436 595.01 113.608 591.468 Q111.802 587.903 108.168 587.903 M108.168 584.2 Q113.978 584.2 117.033 588.806 Q120.112 593.39 120.112 602.139 Q120.112 610.866 117.033 615.473 Q113.978 620.056 108.168 620.056 Q102.358 620.056 99.2789 615.473 Q96.2234 610.866 96.2234 602.139 Q96.2234 593.39 99.2789 588.806 Q102.358 584.2 108.168 584.2 Z\" fill=\"#000000\" fill-rule=\"evenodd\" fill-opacity=\"1\" /><path clip-path=\"url(#clip820)\" d=\"M 0 0 M54.7421 193.644 L62.381 193.644 L62.381 167.279 L54.0708 168.945 L54.0708 164.686 L62.3347 163.019 L67.0106 163.019 L67.0106 193.644 L74.6494 193.644 L74.6494 197.579 L54.7421 197.579 L54.7421 193.644 Z\" fill=\"#000000\" fill-rule=\"evenodd\" fill-opacity=\"1\" /><path clip-path=\"url(#clip820)\" d=\"M 0 0 M84.0938 191.7 L88.978 191.7 L88.978 197.579 L84.0938 197.579 L84.0938 191.7 Z\" fill=\"#000000\" fill-rule=\"evenodd\" fill-opacity=\"1\" /><path clip-path=\"url(#clip820)\" d=\"M 0 0 M99.2095 163.019 L117.566 163.019 L117.566 166.954 L103.492 166.954 L103.492 175.427 Q104.51 175.079 105.529 174.917 Q106.547 174.732 107.566 174.732 Q113.353 174.732 116.733 177.903 Q120.112 181.075 120.112 186.491 Q120.112 192.07 116.64 195.172 Q113.168 198.251 106.848 198.251 Q104.672 198.251 102.404 197.88 Q100.159 197.51 97.7511 196.769 L97.7511 192.07 Q99.8345 193.204 102.057 193.76 Q104.279 194.315 106.756 194.315 Q110.76 194.315 113.098 192.209 Q115.436 190.102 115.436 186.491 Q115.436 182.88 113.098 180.774 Q110.76 178.667 106.756 178.667 Q104.881 178.667 103.006 179.084 Q101.154 179.501 99.2095 180.38 L99.2095 163.019 Z\" fill=\"#000000\" fill-rule=\"evenodd\" fill-opacity=\"1\" /><polyline clip-path=\"url(#clip822)\" style=\"stroke:#009af9; stroke-width:4; stroke-opacity:1; fill:none\" points=\"\n",
       "  218.281,1445.72 321.897,1291.91 425.512,1161.86 529.127,1049.22 632.742,949.852 736.358,860.969 839.973,780.564 943.588,707.161 1047.2,639.636 1150.82,577.117 \n",
       "  1254.43,518.914 1358.05,464.469 1461.66,413.325 1565.28,365.106 1668.9,319.494 1772.51,276.223 1876.13,235.063 1979.74,195.818 2083.36,158.318 2186.97,122.414 \n",
       "  2290.59,87.9763 \n",
       "  \"/>\n",
       "<path clip-path=\"url(#clip820)\" d=\"\n",
       "M1983.03 216.178 L2279.53 216.178 L2279.53 95.2176 L1983.03 95.2176  Z\n",
       "  \" fill=\"#ffffff\" fill-rule=\"evenodd\" fill-opacity=\"1\"/>\n",
       "<polyline clip-path=\"url(#clip820)\" style=\"stroke:#000000; stroke-width:4; stroke-opacity:1; fill:none\" points=\"\n",
       "  1983.03,216.178 2279.53,216.178 2279.53,95.2176 1983.03,95.2176 1983.03,216.178 \n",
       "  \"/>\n",
       "<polyline clip-path=\"url(#clip820)\" style=\"stroke:#009af9; stroke-width:4; stroke-opacity:1; fill:none\" points=\"\n",
       "  2007.44,155.698 2153.88,155.698 \n",
       "  \"/>\n",
       "<path clip-path=\"url(#clip820)\" d=\"M 0 0 M2192.13 175.385 Q2190.33 180.015 2188.61 181.427 Q2186.9 182.839 2184.03 182.839 L2180.63 182.839 L2180.63 179.274 L2183.13 179.274 Q2184.89 179.274 2185.86 178.44 Q2186.83 177.607 2188.01 174.505 L2188.78 172.561 L2178.29 147.052 L2182.8 147.052 L2190.91 167.329 L2199.01 147.052 L2203.52 147.052 L2192.13 175.385 Z\" fill=\"#000000\" fill-rule=\"evenodd\" fill-opacity=\"1\" /><path clip-path=\"url(#clip820)\" d=\"M 0 0 M2210.81 169.042 L2218.45 169.042 L2218.45 142.677 L2210.14 144.343 L2210.14 140.084 L2218.41 138.418 L2223.08 138.418 L2223.08 169.042 L2230.72 169.042 L2230.72 172.978 L2210.81 172.978 L2210.81 169.042 Z\" fill=\"#000000\" fill-rule=\"evenodd\" fill-opacity=\"1\" /></svg>\n"
      ]
     },
     "execution_count": 6,
     "metadata": {},
     "output_type": "execute_result"
    }
   ],
   "source": [
    "plot(xs,A)"
   ]
  },
  {
   "cell_type": "code",
   "execution_count": 9,
   "metadata": {},
   "outputs": [
    {
     "data": {
      "text/plain": [
       "0.04143671745317155"
      ]
     },
     "execution_count": 9,
     "metadata": {},
     "output_type": "execute_result"
    }
   ],
   "source": [
    "xs = [x^2 for x = 1:0.2:5]\n",
    "A = [f(x) for x in xs]\n",
    "\n",
    "# linear interpolation\n",
    "interp_linear = LinearInterpolation(xs, A)\n",
    "interp_linear(1) # exactly log(1)\n",
    "interp_linear(1.05) # approximately log(1.05)"
   ]
  },
  {
   "cell_type": "code",
   "execution_count": null,
   "metadata": {},
   "outputs": [],
   "source": []
  }
 ],
 "metadata": {
  "kernelspec": {
   "display_name": "Julia 1.5.4",
   "language": "julia",
   "name": "julia-1.5"
  },
  "language_info": {
   "file_extension": ".jl",
   "mimetype": "application/julia",
   "name": "julia",
   "version": "1.5.4"
  }
 },
 "nbformat": 4,
 "nbformat_minor": 2
}
