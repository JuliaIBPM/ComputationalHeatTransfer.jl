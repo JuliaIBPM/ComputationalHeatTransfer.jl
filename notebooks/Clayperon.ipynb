{
 "cells": [
  {
   "cell_type": "code",
   "execution_count": 3,
   "id": "a18d7479",
   "metadata": {},
   "outputs": [],
   "source": [
    "using Clapeyron"
   ]
  },
  {
   "cell_type": "code",
   "execution_count": 9,
   "id": "0a61c4b0",
   "metadata": {},
   "outputs": [
    {
     "data": {
      "text/plain": [
       "GERG2008 with 1 component:\n",
       " \"butane\""
      ]
     },
     "execution_count": 9,
     "metadata": {},
     "output_type": "execute_result"
    }
   ],
   "source": [
    "model = GERG2008([\"butane\"])"
   ]
  },
  {
   "cell_type": "code",
   "execution_count": 16,
   "id": "88bb22f0",
   "metadata": {},
   "outputs": [
    {
     "data": {
      "text/plain": [
       "142.6348825035129"
      ]
     },
     "execution_count": 16,
     "metadata": {},
     "output_type": "execute_result"
    }
   ],
   "source": [
    "Cp = isobaric_heat_capacity(model, 10e5, 300)"
   ]
  },
  {
   "cell_type": "code",
   "execution_count": 21,
   "id": "c7ba32e7",
   "metadata": {},
   "outputs": [
    {
     "ename": "LoadError",
     "evalue": "MethodError: no method matching cholesky(::LinearAlgebra.Hermitian{Float64, StaticArrays.MMatrix{2, 2, Float64, 4}}; check=false)\n\u001b[0mClosest candidates are:\n\u001b[0m  cholesky(::Union{LinearAlgebra.Hermitian{var\"#s45\", var\"#s44\"}, LinearAlgebra.Hermitian{Complex{var\"#s45\"}, var\"#s44\"}, LinearAlgebra.Symmetric{var\"#s45\", var\"#s44\"}} where {var\"#s45\"<:Real, var\"#s44\"<:(StaticArrays.StaticMatrix)}) at ~/.julia/packages/StaticArrays/LJQEe/src/cholesky.jl:9\u001b[91m got unsupported keyword argument \"check\"\u001b[39m\n\u001b[0m  cholesky(\u001b[91m::Union{LinearAlgebra.Hermitian{Complex{T}, SparseArrays.SparseMatrixCSC{Complex{T}, Int64}}, LinearAlgebra.Hermitian{T, SparseArrays.SparseMatrixCSC{T, Int64}}, LinearAlgebra.Symmetric{T, SparseArrays.SparseMatrixCSC{T, Int64}}, SparseArrays.SparseMatrixCSC{T}, SparseArrays.SparseMatrixCSC{Complex{T}}}\u001b[39m; kws...) where T<:Real at /private/var/folders/z7/8p7f62h924bf9b863dgvfs6m0000gn/T/AppTranslocation/311C6843-1936-4C66-8D55-AEEFCC01FFED/d/Julia-1.7.app/Contents/Resources/julia/share/julia/stdlib/v1.7/SuiteSparse/src/cholmod.jl:1297\n\u001b[0m  cholesky(\u001b[91m::Union{Union{LinearAlgebra.Hermitian{var\"#s854\", var\"#s853\"}, LinearAlgebra.Hermitian{Complex{var\"#s854\"}, var\"#s853\"}, LinearAlgebra.Symmetric{var\"#s854\", var\"#s853\"}} where {var\"#s854\"<:Real, var\"#s853\"<:(StridedMatrix{T} where T)}, StridedMatrix}\u001b[39m) at /private/var/folders/z7/8p7f62h924bf9b863dgvfs6m0000gn/T/AppTranslocation/311C6843-1936-4C66-8D55-AEEFCC01FFED/d/Julia-1.7.app/Contents/Resources/julia/share/julia/stdlib/v1.7/LinearAlgebra/src/cholesky.jl:394\u001b[91m got unsupported keyword argument \"check\"\u001b[39m\n\u001b[0m  ...",
     "output_type": "error",
     "traceback": [
      "MethodError: no method matching cholesky(::LinearAlgebra.Hermitian{Float64, StaticArrays.MMatrix{2, 2, Float64, 4}}; check=false)\n\u001b[0mClosest candidates are:\n\u001b[0m  cholesky(::Union{LinearAlgebra.Hermitian{var\"#s45\", var\"#s44\"}, LinearAlgebra.Hermitian{Complex{var\"#s45\"}, var\"#s44\"}, LinearAlgebra.Symmetric{var\"#s45\", var\"#s44\"}} where {var\"#s45\"<:Real, var\"#s44\"<:(StaticArrays.StaticMatrix)}) at ~/.julia/packages/StaticArrays/LJQEe/src/cholesky.jl:9\u001b[91m got unsupported keyword argument \"check\"\u001b[39m\n\u001b[0m  cholesky(\u001b[91m::Union{LinearAlgebra.Hermitian{Complex{T}, SparseArrays.SparseMatrixCSC{Complex{T}, Int64}}, LinearAlgebra.Hermitian{T, SparseArrays.SparseMatrixCSC{T, Int64}}, LinearAlgebra.Symmetric{T, SparseArrays.SparseMatrixCSC{T, Int64}}, SparseArrays.SparseMatrixCSC{T}, SparseArrays.SparseMatrixCSC{Complex{T}}}\u001b[39m; kws...) where T<:Real at /private/var/folders/z7/8p7f62h924bf9b863dgvfs6m0000gn/T/AppTranslocation/311C6843-1936-4C66-8D55-AEEFCC01FFED/d/Julia-1.7.app/Contents/Resources/julia/share/julia/stdlib/v1.7/SuiteSparse/src/cholmod.jl:1297\n\u001b[0m  cholesky(\u001b[91m::Union{Union{LinearAlgebra.Hermitian{var\"#s854\", var\"#s853\"}, LinearAlgebra.Hermitian{Complex{var\"#s854\"}, var\"#s853\"}, LinearAlgebra.Symmetric{var\"#s854\", var\"#s853\"}} where {var\"#s854\"<:Real, var\"#s853\"<:(StridedMatrix{T} where T)}, StridedMatrix}\u001b[39m) at /private/var/folders/z7/8p7f62h924bf9b863dgvfs6m0000gn/T/AppTranslocation/311C6843-1936-4C66-8D55-AEEFCC01FFED/d/Julia-1.7.app/Contents/Resources/julia/share/julia/stdlib/v1.7/LinearAlgebra/src/cholesky.jl:394\u001b[91m got unsupported keyword argument \"check\"\u001b[39m\n\u001b[0m  ...",
      "",
      "Stacktrace:",
      "  [1] (::NLSolvers.NWI{typeof(LinearAlgebra.eigen)})(∇f::StaticArrays.MVector{2, Float64}, H::StaticArrays.MMatrix{2, 2, Float64, 4}, Δ::Float64, p::StaticArrays.MVector{2, Float64}, scheme::NLSolvers.Newton{NLSolvers.Direct, typeof(NLSolvers.default_newton_linsolve), Nothing, Nothing}; abstol::Float64, maxiter::Int64)",
      "    @ NLSolvers ~/.julia/packages/NLSolvers/1Q9Z9/src/globalization/trs_solvers/solvers/NWI.jl:246",
      "  [2] iterate!(p::StaticArrays.MVector{2, Float64}, objvars::NamedTuple{(:x, :fx, :∇fx, :z, :fz, :∇fz, :B, :Pg), Tuple{StaticArrays.MVector{2, Float64}, Float64, StaticArrays.MVector{2, Float64}, StaticArrays.MVector{2, Float64}, Float64, StaticArrays.MVector{2, Float64}, StaticArrays.MMatrix{2, 2, Float64, 4}, Nothing}}, Δk::Float64, approach::NLSolvers.TrustRegion{NLSolvers.Newton{NLSolvers.Direct, typeof(NLSolvers.default_newton_linsolve), Nothing, Nothing}, NLSolvers.NWI{typeof(LinearAlgebra.eigen)}, NLSolvers.BTR{Nothing}}, problem::NLSolvers.OptimizationProblem{NLSolvers.NormedResiduals{StaticArrays.MVector{2, Float64}, StaticArrays.MVector{2, Float64}, NLSolvers.VectorObjective{Clapeyron.ObjCritPure{GERG2008, Float64}, Clapeyron.Solvers.var\"#j!#1\"{Clapeyron.ObjCritPure{GERG2008, Float64}, ForwardDiff.JacobianConfig{ForwardDiff.Tag{Clapeyron.ObjCritPure{GERG2008, Float64}, Float64}, Float64, 2, Tuple{StaticArrays.MVector{2, ForwardDiff.Dual{ForwardDiff.Tag{Clapeyron.ObjCritPure{GERG2008, Float64}, Float64}, Float64, 2}}, StaticArrays.MVector{2, ForwardDiff.Dual{ForwardDiff.Tag{Clapeyron.ObjCritPure{GERG2008, Float64}, Float64}, Float64, 2}}}}, StaticArrays.MVector{2, Float64}}, Clapeyron.Solvers.var\"#fj!#2\"{Clapeyron.ObjCritPure{GERG2008, Float64}, ForwardDiff.JacobianConfig{ForwardDiff.Tag{Clapeyron.ObjCritPure{GERG2008, Float64}, Float64}, Float64, 2, Tuple{StaticArrays.MVector{2, ForwardDiff.Dual{ForwardDiff.Tag{Clapeyron.ObjCritPure{GERG2008, Float64}, Float64}, Float64, 2}}, StaticArrays.MVector{2, ForwardDiff.Dual{ForwardDiff.Tag{Clapeyron.ObjCritPure{GERG2008, Float64}, Float64}, Float64, 2}}}}}, Clapeyron.Solvers.var\"#jv!#3\"{Clapeyron.ObjCritPure{GERG2008, Float64}}}}, Nothing, NLSolvers.Euclidean{Tuple{0}}, Nothing, NLSolvers.InPlace, Nothing}, options::NLSolvers.OptimizationOptions{Float64, Float64, Float64, Int64, NLSolvers.var\"#10#14\", NLSolvers.var\"#11#15\"}, qnvars::NLSolvers.QNVars{StaticArrays.MVector{2, Float64}, StaticArrays.MVector{2, Float64}}, scale::Bool)",
      "    @ NLSolvers ~/.julia/packages/NLSolvers/1Q9Z9/src/optimize/trustregions/optimize/inplace_loop.jl:54",
      "  [3] solve(problem::NLSolvers.OptimizationProblem{NLSolvers.NormedResiduals{StaticArrays.MVector{2, Float64}, StaticArrays.MVector{2, Float64}, NLSolvers.VectorObjective{Clapeyron.ObjCritPure{GERG2008, Float64}, Clapeyron.Solvers.var\"#j!#1\"{Clapeyron.ObjCritPure{GERG2008, Float64}, ForwardDiff.JacobianConfig{ForwardDiff.Tag{Clapeyron.ObjCritPure{GERG2008, Float64}, Float64}, Float64, 2, Tuple{StaticArrays.MVector{2, ForwardDiff.Dual{ForwardDiff.Tag{Clapeyron.ObjCritPure{GERG2008, Float64}, Float64}, Float64, 2}}, StaticArrays.MVector{2, ForwardDiff.Dual{ForwardDiff.Tag{Clapeyron.ObjCritPure{GERG2008, Float64}, Float64}, Float64, 2}}}}, StaticArrays.MVector{2, Float64}}, Clapeyron.Solvers.var\"#fj!#2\"{Clapeyron.ObjCritPure{GERG2008, Float64}, ForwardDiff.JacobianConfig{ForwardDiff.Tag{Clapeyron.ObjCritPure{GERG2008, Float64}, Float64}, Float64, 2, Tuple{StaticArrays.MVector{2, ForwardDiff.Dual{ForwardDiff.Tag{Clapeyron.ObjCritPure{GERG2008, Float64}, Float64}, Float64, 2}}, StaticArrays.MVector{2, ForwardDiff.Dual{ForwardDiff.Tag{Clapeyron.ObjCritPure{GERG2008, Float64}, Float64}, Float64, 2}}}}}, Clapeyron.Solvers.var\"#jv!#3\"{Clapeyron.ObjCritPure{GERG2008, Float64}}}}, Nothing, NLSolvers.Euclidean{Tuple{0}}, Nothing, NLSolvers.InPlace, Nothing}, approach::NLSolvers.TrustRegion{NLSolvers.Newton{NLSolvers.Direct, typeof(NLSolvers.default_newton_linsolve), Nothing, Nothing}, NLSolvers.NWI{typeof(LinearAlgebra.eigen)}, NLSolvers.BTR{Nothing}}, options::NLSolvers.OptimizationOptions{Float64, Float64, Float64, Int64, NLSolvers.var\"#10#14\", NLSolvers.var\"#11#15\"}, objvars::NamedTuple{(:x, :fx, :∇fx, :z, :fz, :∇fz, :B, :Pg), Tuple{StaticArrays.MVector{2, Float64}, Float64, StaticArrays.MVector{2, Float64}, StaticArrays.MVector{2, Float64}, Float64, StaticArrays.MVector{2, Float64}, StaticArrays.MMatrix{2, 2, Float64, 4}, StaticArrays.MVector{2, Float64}}}; initial_Δ::Float64)",
      "    @ NLSolvers ~/.julia/packages/NLSolvers/1Q9Z9/src/optimize/trustregions/optimize/inplace_loop.jl:31",
      "  [4] #solve#60",
      "    @ ~/.julia/packages/NLSolvers/1Q9Z9/src/optimize/trustregions/optimize/inplace_loop.jl:4 [inlined]",
      "  [5] solve",
      "    @ ~/.julia/packages/NLSolvers/1Q9Z9/src/optimize/trustregions/optimize/inplace_loop.jl:2 [inlined]",
      "  [6] solve",
      "    @ ~/.julia/packages/NLSolvers/1Q9Z9/src/optimize/trustregions/trustregions.jl:37 [inlined]",
      "  [7] solve(prob::NLSolvers.NEqProblem{NLSolvers.VectorObjective{Clapeyron.ObjCritPure{GERG2008, Float64}, Clapeyron.Solvers.var\"#j!#1\"{Clapeyron.ObjCritPure{GERG2008, Float64}, ForwardDiff.JacobianConfig{ForwardDiff.Tag{Clapeyron.ObjCritPure{GERG2008, Float64}, Float64}, Float64, 2, Tuple{StaticArrays.MVector{2, ForwardDiff.Dual{ForwardDiff.Tag{Clapeyron.ObjCritPure{GERG2008, Float64}, Float64}, Float64, 2}}, StaticArrays.MVector{2, ForwardDiff.Dual{ForwardDiff.Tag{Clapeyron.ObjCritPure{GERG2008, Float64}, Float64}, Float64, 2}}}}, StaticArrays.MVector{2, Float64}}, Clapeyron.Solvers.var\"#fj!#2\"{Clapeyron.ObjCritPure{GERG2008, Float64}, ForwardDiff.JacobianConfig{ForwardDiff.Tag{Clapeyron.ObjCritPure{GERG2008, Float64}, Float64}, Float64, 2, Tuple{StaticArrays.MVector{2, ForwardDiff.Dual{ForwardDiff.Tag{Clapeyron.ObjCritPure{GERG2008, Float64}, Float64}, Float64, 2}}, StaticArrays.MVector{2, ForwardDiff.Dual{ForwardDiff.Tag{Clapeyron.ObjCritPure{GERG2008, Float64}, Float64}, Float64, 2}}}}}, Clapeyron.Solvers.var\"#jv!#3\"{Clapeyron.ObjCritPure{GERG2008, Float64}}}, Nothing, NLSolvers.Euclidean{Tuple{0}}, NLSolvers.InPlace}, x::StaticArrays.MVector{2, Float64}, approach::NLSolvers.TrustRegion{NLSolvers.Newton{NLSolvers.Direct, typeof(NLSolvers.default_newton_linsolve), Nothing, Nothing}, NLSolvers.NWI{typeof(LinearAlgebra.eigen)}, NLSolvers.BTR{Nothing}}, options::NLSolvers.NEqOptions{Float64, Int64, Nothing})",
      "    @ NLSolvers ~/.julia/packages/NLSolvers/1Q9Z9/src/nlsolve/trustregions/newton.jl:70",
      "  [8] nlsolve",
      "    @ ~/.julia/packages/Clapeyron/HK495/src/solvers/nlsolve.jl:18 [inlined]",
      "  [9] nlsolve(f!::Clapeyron.ObjCritPure{GERG2008, Float64}, x0::StaticArrays.MVector{2, Float64})",
      "    @ Clapeyron.Solvers ~/.julia/packages/Clapeyron/HK495/src/solvers/nlsolve.jl:16",
      " [10] crit_pure(model::GERG2008, x0::Nothing)",
      "    @ Clapeyron ~/.julia/packages/Clapeyron/HK495/src/methods/property_solvers/singlecomponent/crit_pure.jl:22",
      " [11] crit_pure",
      "    @ ~/.julia/packages/Clapeyron/HK495/src/methods/property_solvers/singlecomponent/crit_pure.jl:9 [inlined]",
      " [12] saturation_pressure(model::GERG2008, T::Int64, V0::Tuple{Float64, Float64})",
      "    @ Clapeyron ~/.julia/packages/Clapeyron/HK495/src/methods/property_solvers/singlecomponent/saturation.jl:59",
      " [13] saturation_pressure(model::GERG2008, T::Int64)",
      "    @ Clapeyron ~/.julia/packages/Clapeyron/HK495/src/methods/property_solvers/singlecomponent/saturation.jl:38",
      " [14] top-level scope",
      "    @ In[21]:1",
      " [15] eval",
      "    @ ./boot.jl:373 [inlined]",
      " [16] include_string(mapexpr::typeof(REPL.softscope), mod::Module, code::String, filename::String)",
      "    @ Base ./loading.jl:1196"
     ]
    }
   ],
   "source": [
    "saturation_pressure(model, 300)"
   ]
  },
  {
   "cell_type": "code",
   "execution_count": 20,
   "id": "063655df",
   "metadata": {},
   "outputs": [
    {
     "name": "stdout",
     "output_type": "stream",
     "text": [
      "search: \u001b[0m\u001b[1ms\u001b[22m\u001b[0m\u001b[1ma\u001b[22m\u001b[0m\u001b[1mt\u001b[22m\u001b[0m\u001b[1mu\u001b[22m\u001b[0m\u001b[1mr\u001b[22m\u001b[0m\u001b[1ma\u001b[22m\u001b[0m\u001b[1mt\u001b[22m\u001b[0m\u001b[1mi\u001b[22m\u001b[0m\u001b[1mo\u001b[22m\u001b[0m\u001b[1mn\u001b[22m\u001b[0m\u001b[1m_\u001b[22m\u001b[0m\u001b[1mp\u001b[22m\u001b[0m\u001b[1mr\u001b[22m\u001b[0m\u001b[1me\u001b[22m\u001b[0m\u001b[1ms\u001b[22m\u001b[0m\u001b[1ms\u001b[22m\u001b[0m\u001b[1mu\u001b[22m\u001b[0m\u001b[1mr\u001b[22m\u001b[0m\u001b[1me\u001b[22m \u001b[0m\u001b[1ms\u001b[22m\u001b[0m\u001b[1ma\u001b[22m\u001b[0m\u001b[1mt\u001b[22m\u001b[0m\u001b[1mu\u001b[22m\u001b[0m\u001b[1mr\u001b[22m\u001b[0m\u001b[1ma\u001b[22m\u001b[0m\u001b[1mt\u001b[22m\u001b[0m\u001b[1mi\u001b[22m\u001b[0m\u001b[1mo\u001b[22m\u001b[0m\u001b[1mn\u001b[22m\u001b[0m\u001b[1m_\u001b[22mtem\u001b[0m\u001b[1mp\u001b[22me\u001b[0m\u001b[1mr\u001b[22matur\u001b[0m\u001b[1me\u001b[22m\n",
      "\n"
     ]
    },
    {
     "data": {
      "text/latex": [
       "\\begin{verbatim}\n",
       "saturation_pressure(model::EoSModel, T, V0 = x0_sat_pure(model,T))\n",
       "\\end{verbatim}\n",
       "Performs a single component saturation equilibrium calculation, at the specified temperature \\texttt{T}, of one mol of pure sustance specified by \\texttt{model}\n",
       "\n",
       "Returns \\texttt{(p₀, Vₗ, Vᵥ)} where \\texttt{p₀} is the saturation pressure (in Pa), \\texttt{Vₗ} is the liquid saturation volume (in m³) and \\texttt{Vᵥ} is the vapour saturation volume (in m³).\n",
       "\n",
       "If the calculation fails, returns  \\texttt{(NaN, NaN, NaN)}\n",
       "\n",
       "\\texttt{V0} is \\texttt{[log10(Vₗ₀),log10(Vᵥ₀)]} , where \\texttt{Vₗ₀}  and \\texttt{Vᵥ₀} are initial guesses for the liquid and vapour volumes.\n",
       "\n"
      ],
      "text/markdown": [
       "```\n",
       "saturation_pressure(model::EoSModel, T, V0 = x0_sat_pure(model,T))\n",
       "```\n",
       "\n",
       "Performs a single component saturation equilibrium calculation, at the specified temperature `T`, of one mol of pure sustance specified by `model`\n",
       "\n",
       "Returns `(p₀, Vₗ, Vᵥ)` where `p₀` is the saturation pressure (in Pa), `Vₗ` is the liquid saturation volume (in m³) and `Vᵥ` is the vapour saturation volume (in m³).\n",
       "\n",
       "If the calculation fails, returns  `(NaN, NaN, NaN)`\n",
       "\n",
       "`V0` is `[log10(Vₗ₀),log10(Vᵥ₀)]` , where `Vₗ₀`  and `Vᵥ₀` are initial guesses for the liquid and vapour volumes.\n"
      ],
      "text/plain": [
       "\u001b[36m  saturation_pressure(model::EoSModel, T, V0 = x0_sat_pure(model,T))\u001b[39m\n",
       "\n",
       "  Performs a single component saturation equilibrium calculation, at the\n",
       "  specified temperature \u001b[36mT\u001b[39m, of one mol of pure sustance specified by \u001b[36mmodel\u001b[39m\n",
       "\n",
       "  Returns \u001b[36m(p₀, Vₗ, Vᵥ)\u001b[39m where \u001b[36mp₀\u001b[39m is the saturation pressure (in Pa), \u001b[36mVₗ\u001b[39m is the\n",
       "  liquid saturation volume (in m³) and \u001b[36mVᵥ\u001b[39m is the vapour saturation volume (in\n",
       "  m³).\n",
       "\n",
       "  If the calculation fails, returns \u001b[36m(NaN, NaN, NaN)\u001b[39m\n",
       "\n",
       "  \u001b[36mV0\u001b[39m is \u001b[36m[log10(Vₗ₀),log10(Vᵥ₀)]\u001b[39m , where \u001b[36mVₗ₀\u001b[39m and \u001b[36mVᵥ₀\u001b[39m are initial guesses for\n",
       "  the liquid and vapour volumes."
      ]
     },
     "execution_count": 20,
     "metadata": {},
     "output_type": "execute_result"
    }
   ],
   "source": [
    "?saturation_pressure"
   ]
  },
  {
   "cell_type": "code",
   "execution_count": null,
   "id": "9c83f736",
   "metadata": {},
   "outputs": [],
   "source": []
  }
 ],
 "metadata": {
  "kernelspec": {
   "display_name": "Julia 1.7.2",
   "language": "julia",
   "name": "julia-1.7"
  },
  "language_info": {
   "file_extension": ".jl",
   "mimetype": "application/julia",
   "name": "julia",
   "version": "1.7.2"
  }
 },
 "nbformat": 4,
 "nbformat_minor": 5
}
