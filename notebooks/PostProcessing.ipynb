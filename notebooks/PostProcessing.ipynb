{
 "cells": [
  {
   "cell_type": "code",
   "execution_count": 1,
   "metadata": {},
   "outputs": [],
   "source": [
    "using Pkg"
   ]
  },
  {
   "cell_type": "code",
   "execution_count": 2,
   "metadata": {},
   "outputs": [
    {
     "name": "stderr",
     "output_type": "stream",
     "text": [
      "\u001b[32m\u001b[1m  Activating\u001b[22m\u001b[39m environment at `~/Documents/GitHub/ComputationalHeatTransfer.jl/Project.toml`\n"
     ]
    }
   ],
   "source": [
    "Pkg.activate(dirname(pwd()))"
   ]
  },
  {
   "cell_type": "code",
   "execution_count": 3,
   "metadata": {},
   "outputs": [],
   "source": [
    "using ComputationalHeatTransfer\n",
    "using LaTeXStrings\n",
    "using Revise\n",
    "using LinearAlgebra\n",
    "using DifferentialEquations\n",
    "using CoolProp\n",
    "using Interpolations\n",
    "using JLD2\n",
    "using Plots\n",
    "gr()  \n",
    "\n",
    "cd(dirname(pwd()))\n",
    "cd(\"src\") \n",
    "# includet(\"ComputationalHeatTransfer.jl\")\n",
    "# using ..ComputationalHeatTransfer\n",
    "includet(\"OneDOHP.jl\")\n",
    "using ..OneDOHP"
   ]
  },
  {
   "cell_type": "markdown",
   "metadata": {},
   "source": [
    "## Get fluid properties"
   ]
  },
  {
   "cell_type": "code",
   "execution_count": 4,
   "metadata": {},
   "outputs": [
    {
     "data": {
      "text/plain": [
       "291.2"
      ]
     },
     "execution_count": 4,
     "metadata": {},
     "output_type": "execute_result"
    }
   ],
   "source": [
    "fluid_type = \"butane\"\n",
    "Tᵥ = 291.2"
   ]
  },
  {
   "cell_type": "code",
   "execution_count": 5,
   "metadata": {},
   "outputs": [],
   "source": [
    "using UnPack\n",
    "\n",
    "p_fluid = get_saturation_property(fluid_type,Tᵥ)\n",
    "@unpack Cpₗ,ρₗ,μₗ,hₗ,kₗ,Prₗ,Cpᵥ,ρᵥ,μᵥ,hᵥ,kᵥ,Prᵥ,σ,P,R,M,Rkg,αₗ,νₗ,νᵥ,hₗᵥ = p_fluid;"
   ]
  },
  {
   "cell_type": "markdown",
   "metadata": {},
   "source": [
    "## Read data"
   ]
  },
  {
   "cell_type": "code",
   "execution_count": 6,
   "metadata": {},
   "outputs": [],
   "source": [
    "using JLD"
   ]
  },
  {
   "cell_type": "code",
   "execution_count": 57,
   "metadata": {},
   "outputs": [
    {
     "data": {
      "text/plain": [
       "Dict{String, Any} with 6 entries:\n",
       "  \"integrator_tube\"  => t: 299.9999999963619…\n",
       "  \"integrator_plate\" => t: 300.0004999963619…\n",
       "  \"ohp\"              => Basic pointwise-specified body with 6524 points…\n",
       "  \"tube_hist\"        => Any[t: 0.9994999999999453…\n",
       "  \"plate_T_hist\"     => Any[Primal nodes in a (nx = 324, ny = 140) cell grid of…\n",
       "  \"boil_data\"        => [68.0 0.1; 97.0 0.1; … ; 886.0 300.0; 955.0 300.0]"
      ]
     },
     "execution_count": 57,
     "metadata": {},
     "output_type": "execute_result"
    }
   ],
   "source": [
    "# OHPdata = load(\"OHP1_40W.jld2\")\n",
    "# OHPdata = load(\"OHP1_40W_bothPe7.jld2\")\n",
    "# OHPdata = load(\"OHP1_40W_bothfine.jld2\")\n",
    "OHPdata = load(\"OHP1_40W_bothmidfine.jld2\")\n",
    "\n"
   ]
  },
  {
   "cell_type": "code",
   "execution_count": 58,
   "metadata": {},
   "outputs": [],
   "source": [
    "tube_hist = OHPdata[\"tube_hist\"]\n",
    "plate_T_hist = OHPdata[\"plate_T_hist\"]\n",
    "# plate_hist = load(\"plate_OHP1_40W.jld2\")\n",
    "integrator_plate = OHPdata[\"integrator_plate\"]\n",
    "sys = integrator_plate.p\n",
    "\n",
    "sysfinal = []\n",
    "for i = 1:length(tube_hist)\n",
    "    push!(sysfinal, deepcopy(getcurrentsys(tube_hist[i].u,tube_hist[i].p)))\n",
    "end"
   ]
  },
  {
   "cell_type": "code",
   "execution_count": 59,
   "metadata": {},
   "outputs": [],
   "source": [
    "# OHPdata = load(\"OHP2_40W.jld2\")\n",
    "# # sys = integrator_plate.p\n",
    "\n",
    "# tube_hist = OHPdata[\"tube_hist\"]\n",
    "# plate_T_hist = OHPdata[\"plate_T_hist\"]\n",
    "# integrator_plate = OHPdata[\"integrator_plate\"]\n",
    "# sys = integrator_plate.p\n",
    "\n",
    "# sysfinal = []\n",
    "# for i = 1:length(tube_hist)\n",
    "#     push!(sysfinal, deepcopy(getcurrentsys(tube_hist[i].u,tube_hist[i].p)))\n",
    "# end"
   ]
  },
  {
   "cell_type": "markdown",
   "metadata": {},
   "source": [
    "## Get RTD result for OHP"
   ]
  },
  {
   "cell_type": "code",
   "execution_count": 60,
   "metadata": {},
   "outputs": [],
   "source": [
    "import XLSX"
   ]
  },
  {
   "cell_type": "code",
   "execution_count": 61,
   "metadata": {},
   "outputs": [],
   "source": [
    "xf = XLSX.readxlsx(\"20190613_F_PD_#004_O001_H001_P040_expA.xlsx\")\n",
    "starti = 3603\n",
    "RTD = xf[\"Raw Data!G:N\"][starti:end,:];\n",
    "RTDt = (1:size(RTD,1)) .+ starti;"
   ]
  },
  {
   "cell_type": "code",
   "execution_count": 62,
   "metadata": {},
   "outputs": [],
   "source": [
    "# # xf = XLSX.readxlsx(\"20190613_F_PD_#004_O001_H001_P040_expA.xlsx\")\n",
    "# xf = XLSX.readxlsx(\"20190613_F_PD_#008_O002_H001_P040_expA.xlsx\")\n",
    "# starti = 3603\n",
    "# # RTD = xf[\"Raw Data!G:N\"][starti:end,:];\n",
    "# RTD = xf[\"Raw Data!U:AB\"][starti:end,:];\n",
    "# RTDt = (1:size(RTD,1)) .+ starti;"
   ]
  },
  {
   "cell_type": "code",
   "execution_count": 63,
   "metadata": {},
   "outputs": [],
   "source": [
    "inch = 2.54e-2;\n",
    "\n",
    "\n",
    "# x = [-2.6inch,-1.4inch,-0.8inch,0.0,0.0,0.8inch,1.4inch,2.75inch]\n",
    "x = [-2.75inch,-1.4inch,-0.8inch,0.0,0.0,0.8inch,1.4inch,2.75inch]\n",
    "y = [0.0,0.0,0.0,0.0,0.4inch,0.0,0.0,0.0];"
   ]
  },
  {
   "cell_type": "markdown",
   "metadata": {},
   "source": [
    "## Contour graphs"
   ]
  },
  {
   "cell_type": "markdown",
   "metadata": {},
   "source": [
    "### plate T [K]"
   ]
  },
  {
   "cell_type": "code",
   "execution_count": 64,
   "metadata": {},
   "outputs": [],
   "source": [
    "# Tmax = maximum(plate_T_hist[end][:])\n",
    "# Tmin = minimum(plate_T_hist[1][:])\n",
    "\n",
    "# l = @layout [a b ; c d]\n",
    "# p1 = plot(plate_T_hist[5],sys.grid,legend=true,color=cgrad(:RdBu,rev=true),clim=(Tmin,Tmax),xlabelfontsize =5,ylabelfontsize =5,xtickfontsize=5,ytickfontsize=5,titlefontsize =5,line_z=0,xlabel=\"x [m]\",ylabel=\"y [m]\",title=string(round(tube_hist[5].t, digits=2), \"[s]\"))\n",
    "# p2 = plot(plate_T_hist[25],sys.grid,legend=true,color=cgrad(:RdBu,rev=true),clim=(Tmin,Tmax),xlabelfontsize =5,ylabelfontsize =5,xtickfontsize=5,ytickfontsize=5,titlefontsize =5,line_z=0,xlabel=\"x [m]\",ylabel=\"y [m]\",title=string(round(tube_hist[25].t, digits=2), \"[s]\"))\n",
    "# p3 = plot(plate_T_hist[100],sys.grid,legend=true,color=cgrad(:RdBu,rev=true),clim=(Tmin,Tmax),xlabelfontsize =5,ylabelfontsize =5,xtickfontsize=5,ytickfontsize=5,titlefontsize =5,line_z=0,xlabel=\"x [m]\",ylabel=\"y [m]\",title=string(round(tube_hist[100].t, digits=2), \"[s]\"))\n",
    "# p4 = plot(plate_T_hist[300],sys.grid,legend=true,color=cgrad(:RdBu,rev=true),clim=(Tmin,Tmax),xlabelfontsize =5,ylabelfontsize =5,xtickfontsize=5,ytickfontsize=5,titlefontsize =5,line_z=0,xlabel=\"x [m]\",ylabel=\"y [m]\",title=string(round(tube_hist[300].t, digits=2), \"[s]\"))\n",
    "# plot(p1, p2, p3, p4, layout = l)"
   ]
  },
  {
   "cell_type": "code",
   "execution_count": 65,
   "metadata": {},
   "outputs": [],
   "source": [
    "# savefig(\"temperature_contour.pdf\")"
   ]
  },
  {
   "cell_type": "code",
   "execution_count": null,
   "metadata": {},
   "outputs": [],
   "source": []
  },
  {
   "cell_type": "code",
   "execution_count": 66,
   "metadata": {},
   "outputs": [],
   "source": [
    "# rectangle(w, h, xx, yy) = Shape(xx .+ [0,w,w,0], yy .+ [0,0,h,h])\n",
    "# @gif for i = 1:1:length(plate_T_hist)\n",
    "# plot(plate_T_hist[i],sys.grid,legend=true,color=cgrad(:RdBu,rev=true),clim=(Tmin,Tmax),line_z=0,xlabel=\"x [m]\",ylabel=\"y [m]\",title=string(\"time = \", round(tube_hist[i].t, digits=2), \"[s] \\n\",  \"T[K]\"))\n",
    "# scatter!([x[1],x[4],x[8]],[y[1],y[4],y[8]])\n",
    "# annotate!(x[1]+0.002, y[1]+0.005, \"RTD1\", :color)\n",
    "# annotate!(x[4]+0.002, y[4]+0.005, \"RTD4\", :color)\n",
    "# annotate!(x[8]+0.002, y[8]+0.005, \"RTD8\", :color,legend=false)\n",
    "# plot!(rectangle(0.03,0.06,0.003,-0.03), opacity=.2, color=:red)\n",
    "# plot!(rectangle(0.03,0.06,-0.033,-0.03), opacity=.2, color=:red)    \n",
    "# plot!(rectangle(0.03,0.0648,0.05,-0.0324), opacity=.2, color=:blue)   \n",
    "# end\n",
    "\n",
    "\n"
   ]
  },
  {
   "cell_type": "code",
   "execution_count": 67,
   "metadata": {},
   "outputs": [],
   "source": [
    "# savefig(\"temperature_contour_withRTD.pdf\")"
   ]
  },
  {
   "cell_type": "code",
   "execution_count": 68,
   "metadata": {},
   "outputs": [],
   "source": [
    "# @gif for ii=1:1:length(sysfinal)\n",
    "# #     plot(sysfinal[ii],plottype=\"T\",ylim=(Tmin,Tmax),xlabel=\"ξ [m]\",ylabel=\"T [K]\",xlim=(0.0,0.5))\n",
    "#     plot(sysfinal[ii],plottype=\"T\",ylim=(291.0,293.0),xlabel=\"ξ [m]\",ylabel=\"T [K]\",xlim=(0.0,0.1))\n",
    "# end\n",
    "# # savefig(\"tubetemp.svg\")"
   ]
  },
  {
   "cell_type": "code",
   "execution_count": 69,
   "metadata": {},
   "outputs": [],
   "source": [
    "# @gif for ii=1:length(sysfinal)\n",
    "#     plot(sysfinal[ii],plottype=\"ΔT\",ylim=(-4.0,1.0))\n",
    "#     plot!([0.0,sysfinal[ii].tube.L],[sysfinal[1].wall.ΔTthres,sysfinal[1].wall.ΔTthres],label=\"boiling threshold\")\n",
    "# end"
   ]
  },
  {
   "cell_type": "markdown",
   "metadata": {},
   "source": [
    "### liquid slugs"
   ]
  },
  {
   "cell_type": "code",
   "execution_count": 70,
   "metadata": {
    "scrolled": false
   },
   "outputs": [],
   "source": [
    "# l = @layout [a b ; c d]\n",
    "# Htmp = sys_to_Harray(sysfinal[5])\n",
    "# p1   = plot(sys.qline[1].body,fillalpha=0,titlefontsize=10,linecolor=cgrad([:gold, :blue],rev=true),line_z=Htmp,title=string(round(tube_hist[5].t, digits=2), \"[s]\"),xlabel=\"x \",ylabel=\"y \",border=:none,axis=nothing)\n",
    "# Htmp = sys_to_Harray(sysfinal[25])\n",
    "# p2   = plot(sys.qline[1].body,fillalpha=0,titlefontsize=10,linecolor=cgrad([:gold, :blue],rev=true),line_z=Htmp,title=string(round(tube_hist[25].t, digits=2), \"[s]\"),xlabel=\"x \",ylabel=\"y \",border=:none,axis=nothing)\n",
    "# Htmp = sys_to_Harray(sysfinal[100])\n",
    "# p3   = plot(sys.qline[1].body,fillalpha=0,titlefontsize=10,linecolor=cgrad([:gold, :blue],rev=true),line_z=Htmp,title=string(round(tube_hist[100].t, digits=2), \"[s]\"),xlabel=\"x \",ylabel=\"y \",border=:none,axis=nothing)\n",
    "# Htmp = sys_to_Harray(sysfinal[300])\n",
    "# p4   = plot(sys.qline[1].body,fillalpha=0,titlefontsize=10,linecolor=cgrad([:gold, :blue],rev=true),line_z=Htmp,title=string(round(tube_hist[300].t, digits=2), \"[s]\"),xlabel=\"x \",ylabel=\"y \",border=:none,axis=nothing)\n",
    "# plot(p1, p2, p3, p4, layout = l)"
   ]
  },
  {
   "cell_type": "code",
   "execution_count": 71,
   "metadata": {},
   "outputs": [],
   "source": [
    "# savefig(\"liquidvapor.pdf\")"
   ]
  },
  {
   "cell_type": "markdown",
   "metadata": {},
   "source": [
    "### blue:liquid, yellow:vapor"
   ]
  },
  {
   "cell_type": "code",
   "execution_count": 72,
   "metadata": {},
   "outputs": [],
   "source": [
    "# anim = @animate for i=1:1:length(sysfinal)\n",
    "#     Htmp = sys_to_Harray(sysfinal[i])\n",
    "#     plot(sys.qline[1].body,fillalpha=0,linecolor=cgrad([:gold, :blue],rev=true),line_z=Htmp,title=string(round(tube_hist[i].t, digits=2), \"[s]\"),xlabel=\"x \",ylabel=\"y \",border=:none,axis=nothing,label=\"asd\")\n",
    "# # plot!(rectangle(0.03,0.06,0.003,-0.03), opacity=.2, color=:red)\n",
    "# # plot!(rectangle(0.03,0.06,-0.033,-0.03), opacity=.2, color=:red)    \n",
    "# # plot!(rectangle(0.03,0.0648,0.05,-0.0324), opacity=.2, color=:blue)   \n",
    "# end"
   ]
  },
  {
   "cell_type": "code",
   "execution_count": 73,
   "metadata": {},
   "outputs": [],
   "source": [
    "# scatter(sysfinal[end].vapor.δ)\n",
    "# scatter!(sysfinal[300].vapor.δ)\n",
    "# plot!([0.0,24],[25e-6,25e-6])"
   ]
  },
  {
   "cell_type": "code",
   "execution_count": 74,
   "metadata": {},
   "outputs": [],
   "source": [
    "\n",
    "#     Htmp = sys_to_Harray(sysfinal[i])\n",
    "#     plot(sys.qline[1].body,fillalpha=0,linecolor=cgrad([:gold, :blue],rev=true),line_z=Htmp,title=string(round(tube_hist[i].t, digits=2), \"[s]\"),xlabel=\"x \",ylabel=\"y \",border=:none,axis=nothing,label=\"asd\")\n",
    "# plot!(rectangle(0.03,0.06,0.003,-0.03), opacity=.2, color=:red)\n",
    "# plot!(rectangle(0.03,0.06,-0.033,-0.03), opacity=.2, color=:red)    \n",
    "# plot!(rectangle(0.03,0.0648,0.05,-0.0324), opacity=.2, color=:blue)   \n",
    "# # end"
   ]
  },
  {
   "cell_type": "code",
   "execution_count": 75,
   "metadata": {},
   "outputs": [],
   "source": [
    "# @gif for i=1:1:length(sysfinal)\n",
    "#     Htmp = sys_to_Harray(sysfinal[i])\n",
    "#     plot(sys.qline[1].body,fillalpha=0,linecolor=cgrad([:gold, :blue],rev=true),line_z=Htmp,title=string(round(tube_hist[i].t, digits=2), \"[s]\"),xlabel=\"x \",ylabel=\"y \",border=:none,axis=nothing,label=\"asd\")\n",
    "# # plot!(rectangle(0.03,0.06,0.003,-0.03), opacity=.2, color=:red)\n",
    "# # plot!(rectangle(0.03,0.06,-0.033,-0.03), opacity=.2, color=:red)    \n",
    "# # plot!(rectangle(0.03,0.0648,0.05,-0.0324), opacity=.2, color=:blue)   \n",
    "# end"
   ]
  },
  {
   "cell_type": "code",
   "execution_count": 76,
   "metadata": {},
   "outputs": [],
   "source": [
    "# savefig(\"ohp.svg\")"
   ]
  },
  {
   "cell_type": "markdown",
   "metadata": {},
   "source": [
    "## get and save temperature line graph"
   ]
  },
  {
   "cell_type": "code",
   "execution_count": 77,
   "metadata": {},
   "outputs": [],
   "source": [
    "X =  VectorData(x,y);"
   ]
  },
  {
   "cell_type": "code",
   "execution_count": 78,
   "metadata": {},
   "outputs": [],
   "source": [
    "H = Regularize(X,cellsize(sys),I0=origin(sys.grid))\n",
    "g = ScalarData(X);"
   ]
  },
  {
   "cell_type": "code",
   "execution_count": 79,
   "metadata": {},
   "outputs": [],
   "source": [
    "ghist = []\n",
    "thist = []\n",
    "\n",
    "size(g)\n",
    "for j = 1:length(g)\n",
    "    gtemp = []\n",
    "    for i = 1:length(plate_T_hist)\n",
    "        H(g,plate_T_hist[i])\n",
    "        append!(gtemp,deepcopy(g[j]))\n",
    "    end\n",
    "    push!(ghist,deepcopy(gtemp))\n",
    "end\n",
    "\n",
    "\n",
    "\n",
    "thist = []\n",
    "    for i = 1:length(tube_hist)\n",
    "        append!(thist,tube_hist[i].t)\n",
    "    end"
   ]
  },
  {
   "cell_type": "code",
   "execution_count": 80,
   "metadata": {},
   "outputs": [],
   "source": [
    "# save(\"OHP1_40W_coarse_curve.jld2\",\"thist\",thist,\"ghist\",ghist)\n",
    "# save(\"OHP1_40W_Pe6_curve.jld2\",\"thist\",thist,\"ghist\",ghist)"
   ]
  },
  {
   "cell_type": "markdown",
   "metadata": {},
   "source": [
    "## Plot temperature curves"
   ]
  },
  {
   "cell_type": "code",
   "execution_count": 6,
   "metadata": {},
   "outputs": [],
   "source": [
    "Pe4 = load(\"OHP1_40W_Pe4_curve.jld2\");\n",
    "Pe6 = load(\"OHP1_40W_Pe6_curve.jld2\");\n",
    "Pe7 = load(\"OHP1_40W_Pe7_curve.jld2\");\n",
    "Pe8 = load(\"OHP1_40W_Pe8_curve.jld2\");"
   ]
  },
  {
   "cell_type": "code",
   "execution_count": null,
   "metadata": {},
   "outputs": [],
   "source": [
    "i = 1 #RTD number\n",
    "\n",
    "plot(thist,ghist[i] .-Tᵥ,label=string(\"RTD\", i,\" simulation\"),linewidth=2)\n",
    "# plot(thist_conserve_DT1_H3000_Film3_F1_Nu436_plated_2,ghist_conserve_DT1_H3000_Film3_F1_Nu436_plated_2[i] .-Tᵥ,label=string(\"RTD\", i,\" flim δ=30 μm, ΔT=1.0 [K], Hc = 3000 [W/K], plate d = 2 [mm]\"),linewidth=2)\n",
    "# plot!(thist_conserve_DT2_H4000_Film3_F1_Nu436_plated_15,ghist_conserve_DT2_H4000_Film3_F1_Nu436_plated_15[i] .-Tᵥ,label=string(\"RTD\", i,\" flim δ=30 μm, ΔT=2.0 [K], Hc = 4000 [W/K], plate d = 1.5 [mm]\"),linewidth=2)\n",
    "# plot!(thist_Conserve_H2250_D1_TH1,ghist_Conserve_H2250_D1_TH1[i] .-Tᵥ,label=string(\"RTD\", i,\" flim δ=10 μm, ΔT=1.0 [K], Hc = 2250 [W/K], plate d = 1.5 [mm]\"),linewidth=2)\n",
    "scatter!(RTDt .- RTDt[1],RTD[:,i] .- RTD[1,i], label=string(\"RTD\", i,\" experiment\"),xlim=(0.0,50.0))\n",
    "\n",
    "i = 4 #RTD number\n",
    "\n",
    "plot!(thist,ghist[i] .-Tᵥ,label=string(\"RTD\", i,\" simulation\"),linewidth=2)\n",
    "# plot(thist_conserve_DT1_H3000_Film3_F1_Nu436_plated_2,ghist_conserve_DT1_H3000_Film3_F1_Nu436_plated_2[i] .-Tᵥ,label=string(\"RTD\", i,\" flim δ=30 μm, ΔT=1.0 [K], Hc = 3000 [W/K], plate d = 2 [mm]\"),linewidth=2)\n",
    "# plot!(thist_conserve_DT2_H4000_Film3_F1_Nu436_plated_15,ghist_conserve_DT2_H4000_Film3_F1_Nu436_plated_15[i] .-Tᵥ,label=string(\"RTD\", i,\" flim δ=30 μm, ΔT=2.0 [K], Hc = 4000 [W/K], plate d = 1.5 [mm]\"),linewidth=2)\n",
    "# plot!(thist_Conserve_H2250_D1_TH1,ghist_Conserve_H2250_D1_TH1[i] .-Tᵥ,label=string(\"RTD\", i,\" flim δ=10 μm, ΔT=1.0 [K], Hc = 2250 [W/K], plate d = 1.5 [mm]\"),linewidth=2)\n",
    "scatter!(RTDt .- RTDt[1],RTD[:,i] .- RTD[1,i], label=string(\"RTD\", i,\" experiment\"),xlim=(0.0,50.0))\n",
    "\n",
    "# i = 8 #RTD number\n",
    "# plot!(thist,ghist[i] .-Tᵥ,label=string(\"RTD\", i,\" simulation\"),linewidth=2)\n",
    "# # plot!(thist_conserve_DT1_H3000_Film3_F1_Nu436_plated_2,ghist_conserve_DT1_H3000_Film3_F1_Nu436_plated_2[i] .-Tᵥ,label=string(\"RTD\", i,\" flim δ=30 μm, ΔT=1.0 [K], Hc = 3000 [W/K], plate d = 2 [mm]\"),linewidth=2)\n",
    "# # plot!(thist_conserve_DT2_H4000_Film3_F1_Nu436_plated_15,ghist_conserve_DT2_H4000_Film3_F1_Nu436_plated_15[i] .-Tᵥ,label=string(\"RTD\", i,\" flim δ=30 μm, ΔT=2.0 [K], Hc = 4000 [W/K], plate d = 1.5 [mm]\"),linewidth=2)\n",
    "# # plot!(thist_Conserve_H2250_D1_TH1,ghist_Conserve_H2250_D1_TH1[i] .-Tᵥ,label=string(\"RTD\", i,\" flim δ=10 μm, ΔT=1.0 [K], Hc = 2250 [W/K], plate d = 1.5 [mm]\"),linewidth=2)\n",
    "# # scatter!(RTDt .- RTDt[1],RTD[:,i] .- RTD[1,i],legend=:topleft, label=string(\"RTD\", i,\" experiment\"),title= \"30W, hc = (300,3000), superheat = 1.0K\",xlim=(thist[1],thist[end]),xlabel=\"time[s]\",ylabel=\"T-T0[K]\")\n",
    "# scatter!(RTDt .- RTDt[1],RTD[:,i] .- RTD[1,i],legend=:topleft, label=string(\"RTD\", i,\" experiment\"),title= \"40W, hc = (300,3000), superheat = 1.6K\",xlim=(0.0,600.0),xlabel=\"time[s]\",ylabel=\"T-T0[K]\")"
   ]
  },
  {
   "cell_type": "code",
   "execution_count": null,
   "metadata": {},
   "outputs": [],
   "source": [
    "# savefig(\"Tempcurves.pdf\")"
   ]
  },
  {
   "cell_type": "markdown",
   "metadata": {},
   "source": [
    "## ~heat ressistance curves"
   ]
  },
  {
   "cell_type": "code",
   "execution_count": 7,
   "metadata": {},
   "outputs": [
    {
     "data": {
      "text/plain": [
       "40"
      ]
     },
     "execution_count": 7,
     "metadata": {},
     "output_type": "execute_result"
    }
   ],
   "source": [
    "power = 40"
   ]
  },
  {
   "cell_type": "code",
   "execution_count": 8,
   "metadata": {},
   "outputs": [
    {
     "data": {
      "text/plain": [
       "1"
      ]
     },
     "execution_count": 8,
     "metadata": {},
     "output_type": "execute_result"
    }
   ],
   "source": [
    "i1 = 4 #RTD number\n",
    "i2 = 1 #RTD number"
   ]
  },
  {
   "cell_type": "code",
   "execution_count": 9,
   "metadata": {},
   "outputs": [],
   "source": [
    "condPe4 = power ./ (Pe4[\"ghist\"][i1] .-Pe4[\"ghist\"][i2])\n",
    "condPe6 = power ./ (Pe6[\"ghist\"][i1] .-Pe6[\"ghist\"][i2])\n",
    "condPe7 = power ./ (Pe7[\"ghist\"][i1] .-Pe7[\"ghist\"][i2])\n",
    "condPe8 = power ./ (Pe8[\"ghist\"][i1] .-Pe8[\"ghist\"][i2]);\n"
   ]
  },
  {
   "cell_type": "code",
   "execution_count": 10,
   "metadata": {},
   "outputs": [],
   "source": [
    "using Statistics"
   ]
  },
  {
   "cell_type": "code",
   "execution_count": null,
   "metadata": {},
   "outputs": [],
   "source": []
  },
  {
   "cell_type": "code",
   "execution_count": 11,
   "metadata": {},
   "outputs": [
    {
     "data": {
      "text/plain": [
       "6.5856813556775"
      ]
     },
     "execution_count": 11,
     "metadata": {},
     "output_type": "execute_result"
    }
   ],
   "source": [
    "meanPe4 = mean(condPe4[200:end])\n",
    "meanPe6 = mean(condPe6[200:end])\n",
    "meanPe7 = mean(condPe7[200:end])\n",
    "meanPe8 = mean(condPe8[200:end])"
   ]
  },
  {
   "cell_type": "code",
   "execution_count": 12,
   "metadata": {},
   "outputs": [
    {
     "data": {
      "image/svg+xml": [
       "<?xml version=\"1.0\" encoding=\"utf-8\"?>\n",
       "<svg xmlns=\"http://www.w3.org/2000/svg\" xmlns:xlink=\"http://www.w3.org/1999/xlink\" width=\"600\" height=\"400\" viewBox=\"0 0 2400 1600\">\n",
       "<defs>\n",
       "  <clipPath id=\"clip790\">\n",
       "    <rect x=\"0\" y=\"0\" width=\"2400\" height=\"1600\"/>\n",
       "  </clipPath>\n",
       "</defs>\n",
       "<path clip-path=\"url(#clip790)\" d=\"\n",
       "M0 1600 L2400 1600 L2400 0 L0 0  Z\n",
       "  \" fill=\"#ffffff\" fill-rule=\"evenodd\" fill-opacity=\"1\"/>\n",
       "<defs>\n",
       "  <clipPath id=\"clip791\">\n",
       "    <rect x=\"480\" y=\"0\" width=\"1681\" height=\"1600\"/>\n",
       "  </clipPath>\n",
       "</defs>\n",
       "<path clip-path=\"url(#clip790)\" d=\"\n",
       "M249.843 1423.18 L2352.76 1423.18 L2352.76 47.2441 L249.843 47.2441  Z\n",
       "  \" fill=\"#ffffff\" fill-rule=\"evenodd\" fill-opacity=\"1\"/>\n",
       "<defs>\n",
       "  <clipPath id=\"clip792\">\n",
       "    <rect x=\"249\" y=\"47\" width=\"2104\" height=\"1377\"/>\n",
       "  </clipPath>\n",
       "</defs>\n",
       "<polyline clip-path=\"url(#clip792)\" style=\"stroke:#000000; stroke-linecap:butt; stroke-linejoin:round; stroke-width:2; stroke-opacity:0.1; fill:none\" points=\"\n",
       "  309.359,1423.18 309.359,47.2441 \n",
       "  \"/>\n",
       "<polyline clip-path=\"url(#clip792)\" style=\"stroke:#000000; stroke-linecap:butt; stroke-linejoin:round; stroke-width:2; stroke-opacity:0.1; fill:none\" points=\"\n",
       "  805.329,1423.18 805.329,47.2441 \n",
       "  \"/>\n",
       "<polyline clip-path=\"url(#clip792)\" style=\"stroke:#000000; stroke-linecap:butt; stroke-linejoin:round; stroke-width:2; stroke-opacity:0.1; fill:none\" points=\"\n",
       "  1301.3,1423.18 1301.3,47.2441 \n",
       "  \"/>\n",
       "<polyline clip-path=\"url(#clip792)\" style=\"stroke:#000000; stroke-linecap:butt; stroke-linejoin:round; stroke-width:2; stroke-opacity:0.1; fill:none\" points=\"\n",
       "  1797.27,1423.18 1797.27,47.2441 \n",
       "  \"/>\n",
       "<polyline clip-path=\"url(#clip792)\" style=\"stroke:#000000; stroke-linecap:butt; stroke-linejoin:round; stroke-width:2; stroke-opacity:0.1; fill:none\" points=\"\n",
       "  2293.24,1423.18 2293.24,47.2441 \n",
       "  \"/>\n",
       "<polyline clip-path=\"url(#clip790)\" style=\"stroke:#000000; stroke-linecap:butt; stroke-linejoin:round; stroke-width:4; stroke-opacity:1; fill:none\" points=\"\n",
       "  249.843,1423.18 2352.76,1423.18 \n",
       "  \"/>\n",
       "<polyline clip-path=\"url(#clip790)\" style=\"stroke:#000000; stroke-linecap:butt; stroke-linejoin:round; stroke-width:4; stroke-opacity:1; fill:none\" points=\"\n",
       "  309.359,1423.18 309.359,1404.28 \n",
       "  \"/>\n",
       "<polyline clip-path=\"url(#clip790)\" style=\"stroke:#000000; stroke-linecap:butt; stroke-linejoin:round; stroke-width:4; stroke-opacity:1; fill:none\" points=\"\n",
       "  805.329,1423.18 805.329,1404.28 \n",
       "  \"/>\n",
       "<polyline clip-path=\"url(#clip790)\" style=\"stroke:#000000; stroke-linecap:butt; stroke-linejoin:round; stroke-width:4; stroke-opacity:1; fill:none\" points=\"\n",
       "  1301.3,1423.18 1301.3,1404.28 \n",
       "  \"/>\n",
       "<polyline clip-path=\"url(#clip790)\" style=\"stroke:#000000; stroke-linecap:butt; stroke-linejoin:round; stroke-width:4; stroke-opacity:1; fill:none\" points=\"\n",
       "  1797.27,1423.18 1797.27,1404.28 \n",
       "  \"/>\n",
       "<polyline clip-path=\"url(#clip790)\" style=\"stroke:#000000; stroke-linecap:butt; stroke-linejoin:round; stroke-width:4; stroke-opacity:1; fill:none\" points=\"\n",
       "  2293.24,1423.18 2293.24,1404.28 \n",
       "  \"/>\n",
       "<path clip-path=\"url(#clip790)\" d=\"M312.369 1455.09 L300.563 1473.54 L312.369 1473.54 L312.369 1455.09 M311.142 1451.02 L317.021 1451.02 L317.021 1473.54 L321.952 1473.54 L321.952 1477.43 L317.021 1477.43 L317.021 1485.58 L312.369 1485.58 L312.369 1477.43 L296.767 1477.43 L296.767 1472.92 L311.142 1451.02 Z\" fill=\"#000000\" fill-rule=\"evenodd\" fill-opacity=\"1\" /><path clip-path=\"url(#clip790)\" d=\"M795.607 1451.02 L813.964 1451.02 L813.964 1454.96 L799.89 1454.96 L799.89 1463.43 Q800.908 1463.08 801.927 1462.92 Q802.945 1462.73 803.964 1462.73 Q809.751 1462.73 813.13 1465.9 Q816.51 1469.08 816.51 1474.49 Q816.51 1480.07 813.038 1483.17 Q809.565 1486.25 803.246 1486.25 Q801.07 1486.25 798.802 1485.88 Q796.556 1485.51 794.149 1484.77 L794.149 1480.07 Q796.232 1481.2 798.454 1481.76 Q800.677 1482.32 803.153 1482.32 Q807.158 1482.32 809.496 1480.21 Q811.834 1478.1 811.834 1474.49 Q811.834 1470.88 809.496 1468.77 Q807.158 1466.67 803.153 1466.67 Q801.278 1466.67 799.404 1467.08 Q797.552 1467.5 795.607 1468.38 L795.607 1451.02 Z\" fill=\"#000000\" fill-rule=\"evenodd\" fill-opacity=\"1\" /><path clip-path=\"url(#clip790)\" d=\"M1301.7 1466.44 Q1298.56 1466.44 1296.7 1468.59 Q1294.88 1470.74 1294.88 1474.49 Q1294.88 1478.22 1296.7 1480.39 Q1298.56 1482.55 1301.7 1482.55 Q1304.85 1482.55 1306.68 1480.39 Q1308.53 1478.22 1308.53 1474.49 Q1308.53 1470.74 1306.68 1468.59 Q1304.85 1466.44 1301.7 1466.44 M1310.99 1451.78 L1310.99 1456.04 Q1309.23 1455.21 1307.42 1454.77 Q1305.64 1454.33 1303.88 1454.33 Q1299.25 1454.33 1296.8 1457.45 Q1294.37 1460.58 1294.02 1466.9 Q1295.39 1464.89 1297.45 1463.82 Q1299.51 1462.73 1301.98 1462.73 Q1307.19 1462.73 1310.2 1465.9 Q1313.23 1469.05 1313.23 1474.49 Q1313.23 1479.82 1310.08 1483.03 Q1306.94 1486.25 1301.7 1486.25 Q1295.71 1486.25 1292.54 1481.67 Q1289.37 1477.06 1289.37 1468.33 Q1289.37 1460.14 1293.26 1455.28 Q1297.14 1450.39 1303.7 1450.39 Q1305.45 1450.39 1307.24 1450.74 Q1309.04 1451.09 1310.99 1451.78 Z\" fill=\"#000000\" fill-rule=\"evenodd\" fill-opacity=\"1\" /><path clip-path=\"url(#clip790)\" d=\"M1786.16 1451.02 L1808.38 1451.02 L1808.38 1453.01 L1795.83 1485.58 L1790.95 1485.58 L1802.76 1454.96 L1786.16 1454.96 L1786.16 1451.02 Z\" fill=\"#000000\" fill-rule=\"evenodd\" fill-opacity=\"1\" /><path clip-path=\"url(#clip790)\" d=\"M2293.24 1469.17 Q2289.91 1469.17 2287.98 1470.95 Q2286.09 1472.73 2286.09 1475.86 Q2286.09 1478.98 2287.98 1480.77 Q2289.91 1482.55 2293.24 1482.55 Q2296.57 1482.55 2298.49 1480.77 Q2300.42 1478.96 2300.42 1475.86 Q2300.42 1472.73 2298.49 1470.95 Q2296.6 1469.17 2293.24 1469.17 M2288.56 1467.18 Q2285.55 1466.44 2283.86 1464.38 Q2282.2 1462.32 2282.2 1459.35 Q2282.2 1455.21 2285.14 1452.8 Q2288.1 1450.39 2293.24 1450.39 Q2298.4 1450.39 2301.34 1452.8 Q2304.28 1455.21 2304.28 1459.35 Q2304.28 1462.32 2302.59 1464.38 Q2300.92 1466.44 2297.94 1467.18 Q2301.32 1467.96 2303.19 1470.26 Q2305.09 1472.55 2305.09 1475.86 Q2305.09 1480.88 2302.01 1483.57 Q2298.96 1486.25 2293.24 1486.25 Q2287.52 1486.25 2284.44 1483.57 Q2281.39 1480.88 2281.39 1475.86 Q2281.39 1472.55 2283.29 1470.26 Q2285.18 1467.96 2288.56 1467.18 M2286.85 1459.79 Q2286.85 1462.48 2288.52 1463.98 Q2290.21 1465.49 2293.24 1465.49 Q2296.25 1465.49 2297.94 1463.98 Q2299.65 1462.48 2299.65 1459.79 Q2299.65 1457.11 2297.94 1455.6 Q2296.25 1454.1 2293.24 1454.1 Q2290.21 1454.1 2288.52 1455.6 Q2286.85 1457.11 2286.85 1459.79 Z\" fill=\"#000000\" fill-rule=\"evenodd\" fill-opacity=\"1\" /><path clip-path=\"url(#clip790)\" d=\"M1023.6 1561.26 L1023.6 1548.5 L1013.09 1548.5 L1013.09 1543.22 L1029.96 1543.22 L1029.96 1563.62 Q1026.24 1566.26 1021.75 1567.63 Q1017.26 1568.97 1012.17 1568.97 Q1001.03 1568.97 994.727 1562.47 Q988.457 1555.95 988.457 1544.33 Q988.457 1532.68 994.727 1526.19 Q1001.03 1519.66 1012.17 1519.66 Q1016.82 1519.66 1020.99 1520.81 Q1025.19 1521.96 1028.72 1524.18 L1028.72 1531.03 Q1025.16 1528 1021.14 1526.48 Q1017.13 1524.95 1012.71 1524.95 Q1003.99 1524.95 999.597 1529.82 Q995.236 1534.69 995.236 1544.33 Q995.236 1553.94 999.597 1558.81 Q1003.99 1563.68 1012.71 1563.68 Q1016.12 1563.68 1018.79 1563.11 Q1021.46 1562.51 1023.6 1561.26 Z\" fill=\"#000000\" fill-rule=\"evenodd\" fill-opacity=\"1\" /><path clip-path=\"url(#clip790)\" d=\"M1062.11 1537.87 Q1061.12 1537.3 1059.94 1537.04 Q1058.8 1536.76 1057.4 1536.76 Q1052.43 1536.76 1049.76 1540 Q1047.12 1543.22 1047.12 1549.27 L1047.12 1568.04 L1041.23 1568.04 L1041.23 1532.4 L1047.12 1532.4 L1047.12 1537.93 Q1048.96 1534.69 1051.92 1533.13 Q1054.88 1531.54 1059.12 1531.54 Q1059.72 1531.54 1060.45 1531.63 Q1061.18 1531.7 1062.08 1531.85 L1062.11 1537.87 Z\" fill=\"#000000\" fill-rule=\"evenodd\" fill-opacity=\"1\" /><path clip-path=\"url(#clip790)\" d=\"M1068.25 1532.4 L1074.11 1532.4 L1074.11 1568.04 L1068.25 1568.04 L1068.25 1532.4 M1068.25 1518.52 L1074.11 1518.52 L1074.11 1525.93 L1068.25 1525.93 L1068.25 1518.52 Z\" fill=\"#000000\" fill-rule=\"evenodd\" fill-opacity=\"1\" /><path clip-path=\"url(#clip790)\" d=\"M1109.82 1537.81 L1109.82 1518.52 L1115.68 1518.52 L1115.68 1568.04 L1109.82 1568.04 L1109.82 1562.7 Q1107.97 1565.88 1105.14 1567.44 Q1102.34 1568.97 1098.39 1568.97 Q1091.93 1568.97 1087.86 1563.81 Q1083.82 1558.65 1083.82 1550.25 Q1083.82 1541.85 1087.86 1536.69 Q1091.93 1531.54 1098.39 1531.54 Q1102.34 1531.54 1105.14 1533.1 Q1107.97 1534.62 1109.82 1537.81 M1089.86 1550.25 Q1089.86 1556.71 1092.5 1560.4 Q1095.18 1564.07 1099.82 1564.07 Q1104.47 1564.07 1107.15 1560.4 Q1109.82 1556.71 1109.82 1550.25 Q1109.82 1543.79 1107.15 1540.13 Q1104.47 1536.44 1099.82 1536.44 Q1095.18 1536.44 1092.5 1540.13 Q1089.86 1543.79 1089.86 1550.25 Z\" fill=\"#000000\" fill-rule=\"evenodd\" fill-opacity=\"1\" /><path clip-path=\"url(#clip790)\" d=\"M1155.14 1525.81 L1155.14 1543.66 L1163.23 1543.66 Q1167.72 1543.66 1170.17 1541.34 Q1172.62 1539.02 1172.62 1534.72 Q1172.62 1530.45 1170.17 1528.13 Q1167.72 1525.81 1163.23 1525.81 L1155.14 1525.81 M1148.71 1520.52 L1163.23 1520.52 Q1171.22 1520.52 1175.29 1524.15 Q1179.4 1527.75 1179.4 1534.72 Q1179.4 1541.75 1175.29 1545.35 Q1171.22 1548.95 1163.23 1548.95 L1155.14 1548.95 L1155.14 1568.04 L1148.71 1568.04 L1148.71 1520.52 Z\" fill=\"#000000\" fill-rule=\"evenodd\" fill-opacity=\"1\" /><path clip-path=\"url(#clip790)\" d=\"M1215.94 1548.76 L1215.94 1551.62 L1189.01 1551.62 Q1189.39 1557.67 1192.64 1560.85 Q1195.92 1564 1201.74 1564 Q1205.11 1564 1208.26 1563.17 Q1211.45 1562.35 1214.57 1560.69 L1214.57 1566.23 Q1211.42 1567.57 1208.11 1568.27 Q1204.8 1568.97 1201.39 1568.97 Q1192.86 1568.97 1187.86 1564 Q1182.9 1559.04 1182.9 1550.57 Q1182.9 1541.82 1187.61 1536.69 Q1192.35 1531.54 1200.37 1531.54 Q1207.56 1531.54 1211.73 1536.18 Q1215.94 1540.8 1215.94 1548.76 M1210.08 1547.04 Q1210.02 1542.23 1207.37 1539.37 Q1204.76 1536.5 1200.43 1536.5 Q1195.53 1536.5 1192.57 1539.27 Q1189.64 1542.04 1189.2 1547.07 L1210.08 1547.04 Z\" fill=\"#000000\" fill-rule=\"evenodd\" fill-opacity=\"1\" /><path clip-path=\"url(#clip790)\" d=\"M1251.2 1533.76 L1251.2 1539.24 Q1248.72 1537.87 1246.2 1537.2 Q1243.72 1536.5 1241.18 1536.5 Q1235.48 1536.5 1232.33 1540.13 Q1229.18 1543.73 1229.18 1550.25 Q1229.18 1556.78 1232.33 1560.4 Q1235.48 1564 1241.18 1564 Q1243.72 1564 1246.2 1563.33 Q1248.72 1562.63 1251.2 1561.26 L1251.2 1566.68 Q1248.75 1567.82 1246.11 1568.39 Q1243.5 1568.97 1240.54 1568.97 Q1232.49 1568.97 1227.74 1563.91 Q1223 1558.85 1223 1550.25 Q1223 1541.53 1227.78 1536.53 Q1232.58 1531.54 1240.92 1531.54 Q1243.63 1531.54 1246.2 1532.11 Q1248.78 1532.65 1251.2 1533.76 Z\" fill=\"#000000\" fill-rule=\"evenodd\" fill-opacity=\"1\" /><path clip-path=\"url(#clip790)\" d=\"M1261.39 1518.52 L1267.24 1518.52 L1267.24 1568.04 L1261.39 1568.04 L1261.39 1518.52 Z\" fill=\"#000000\" fill-rule=\"evenodd\" fill-opacity=\"1\" /><path clip-path=\"url(#clip790)\" d=\"M1309.99 1548.76 L1309.99 1551.62 L1283.06 1551.62 Q1283.44 1557.67 1286.69 1560.85 Q1289.97 1564 1295.79 1564 Q1299.17 1564 1302.32 1563.17 Q1305.5 1562.35 1308.62 1560.69 L1308.62 1566.23 Q1305.47 1567.57 1302.16 1568.27 Q1298.85 1568.97 1295.44 1568.97 Q1286.91 1568.97 1281.92 1564 Q1276.95 1559.04 1276.95 1550.57 Q1276.95 1541.82 1281.66 1536.69 Q1286.4 1531.54 1294.42 1531.54 Q1301.62 1531.54 1305.79 1536.18 Q1309.99 1540.8 1309.99 1548.76 M1304.13 1547.04 Q1304.07 1542.23 1301.43 1539.37 Q1298.82 1536.5 1294.49 1536.5 Q1289.59 1536.5 1286.63 1539.27 Q1283.7 1542.04 1283.25 1547.07 L1304.13 1547.04 Z\" fill=\"#000000\" fill-rule=\"evenodd\" fill-opacity=\"1\" /><path clip-path=\"url(#clip790)\" d=\"M1325.39 1522.27 L1325.39 1532.4 L1337.46 1532.4 L1337.46 1536.95 L1325.39 1536.95 L1325.39 1556.3 Q1325.39 1560.66 1326.57 1561.9 Q1327.78 1563.14 1331.44 1563.14 L1337.46 1563.14 L1337.46 1568.04 L1331.44 1568.04 Q1324.66 1568.04 1322.08 1565.53 Q1319.51 1562.98 1319.51 1556.3 L1319.51 1536.95 L1315.21 1536.95 L1315.21 1532.4 L1319.51 1532.4 L1319.51 1522.27 L1325.39 1522.27 Z\" fill=\"#000000\" fill-rule=\"evenodd\" fill-opacity=\"1\" /><path clip-path=\"url(#clip790)\" d=\"M1395.51 1546.53 L1395.51 1568.04 L1389.66 1568.04 L1389.66 1546.72 Q1389.66 1541.66 1387.68 1539.14 Q1385.71 1536.63 1381.76 1536.63 Q1377.02 1536.63 1374.28 1539.65 Q1371.55 1542.68 1371.55 1547.9 L1371.55 1568.04 L1365.66 1568.04 L1365.66 1532.4 L1371.55 1532.4 L1371.55 1537.93 Q1373.65 1534.72 1376.48 1533.13 Q1379.34 1531.54 1383.07 1531.54 Q1389.21 1531.54 1392.36 1535.36 Q1395.51 1539.14 1395.51 1546.53 Z\" fill=\"#000000\" fill-rule=\"evenodd\" fill-opacity=\"1\" /><path clip-path=\"url(#clip790)\" d=\"M1406.59 1553.98 L1406.59 1532.4 L1412.44 1532.4 L1412.44 1553.75 Q1412.44 1558.81 1414.42 1561.36 Q1416.39 1563.87 1420.34 1563.87 Q1425.08 1563.87 1427.82 1560.85 Q1430.59 1557.83 1430.59 1552.61 L1430.59 1532.4 L1436.44 1532.4 L1436.44 1568.04 L1430.59 1568.04 L1430.59 1562.57 Q1428.45 1565.82 1425.62 1567.41 Q1422.82 1568.97 1419.1 1568.97 Q1412.95 1568.97 1409.77 1565.15 Q1406.59 1561.33 1406.59 1553.98 M1421.32 1531.54 L1421.32 1531.54 Z\" fill=\"#000000\" fill-rule=\"evenodd\" fill-opacity=\"1\" /><path clip-path=\"url(#clip790)\" d=\"M1476.26 1539.24 Q1478.46 1535.29 1481.51 1533.41 Q1484.57 1531.54 1488.71 1531.54 Q1494.28 1531.54 1497.3 1535.45 Q1500.32 1539.33 1500.32 1546.53 L1500.32 1568.04 L1494.43 1568.04 L1494.43 1546.72 Q1494.43 1541.59 1492.62 1539.11 Q1490.81 1536.63 1487.08 1536.63 Q1482.53 1536.63 1479.89 1539.65 Q1477.25 1542.68 1477.25 1547.9 L1477.25 1568.04 L1471.36 1568.04 L1471.36 1546.72 Q1471.36 1541.56 1469.55 1539.11 Q1467.73 1536.63 1463.94 1536.63 Q1459.46 1536.63 1456.81 1539.68 Q1454.17 1542.71 1454.17 1547.9 L1454.17 1568.04 L1448.28 1568.04 L1448.28 1532.4 L1454.17 1532.4 L1454.17 1537.93 Q1456.18 1534.66 1458.98 1533.1 Q1461.78 1531.54 1465.63 1531.54 Q1469.51 1531.54 1472.22 1533.51 Q1474.96 1535.48 1476.26 1539.24 Z\" fill=\"#000000\" fill-rule=\"evenodd\" fill-opacity=\"1\" /><path clip-path=\"url(#clip790)\" d=\"M1537.59 1550.25 Q1537.59 1543.79 1534.92 1540.13 Q1532.28 1536.44 1527.63 1536.44 Q1522.99 1536.44 1520.31 1540.13 Q1517.67 1543.79 1517.67 1550.25 Q1517.67 1556.71 1520.31 1560.4 Q1522.99 1564.07 1527.63 1564.07 Q1532.28 1564.07 1534.92 1560.4 Q1537.59 1556.71 1537.59 1550.25 M1517.67 1537.81 Q1519.52 1534.62 1522.32 1533.1 Q1525.15 1531.54 1529.06 1531.54 Q1535.56 1531.54 1539.6 1536.69 Q1543.67 1541.85 1543.67 1550.25 Q1543.67 1558.65 1539.6 1563.81 Q1535.56 1568.97 1529.06 1568.97 Q1525.15 1568.97 1522.32 1567.44 Q1519.52 1565.88 1517.67 1562.7 L1517.67 1568.04 L1511.78 1568.04 L1511.78 1518.52 L1517.67 1518.52 L1517.67 1537.81 Z\" fill=\"#000000\" fill-rule=\"evenodd\" fill-opacity=\"1\" /><path clip-path=\"url(#clip790)\" d=\"M1583.87 1548.76 L1583.87 1551.62 L1556.95 1551.62 Q1557.33 1557.67 1560.57 1560.85 Q1563.85 1564 1569.68 1564 Q1573.05 1564 1576.2 1563.17 Q1579.39 1562.35 1582.5 1560.69 L1582.5 1566.23 Q1579.35 1567.57 1576.04 1568.27 Q1572.73 1568.97 1569.33 1568.97 Q1560.8 1568.97 1555.8 1564 Q1550.84 1559.04 1550.84 1550.57 Q1550.84 1541.82 1555.55 1536.69 Q1560.29 1531.54 1568.31 1531.54 Q1575.5 1531.54 1579.67 1536.18 Q1583.87 1540.8 1583.87 1548.76 M1578.02 1547.04 Q1577.95 1542.23 1575.31 1539.37 Q1572.7 1536.5 1568.37 1536.5 Q1563.47 1536.5 1560.51 1539.27 Q1557.58 1542.04 1557.14 1547.07 L1578.02 1547.04 Z\" fill=\"#000000\" fill-rule=\"evenodd\" fill-opacity=\"1\" /><path clip-path=\"url(#clip790)\" d=\"M1614.14 1537.87 Q1613.16 1537.3 1611.98 1537.04 Q1610.83 1536.76 1609.43 1536.76 Q1604.47 1536.76 1601.79 1540 Q1599.15 1543.22 1599.15 1549.27 L1599.15 1568.04 L1593.26 1568.04 L1593.26 1532.4 L1599.15 1532.4 L1599.15 1537.93 Q1601 1534.69 1603.96 1533.13 Q1606.92 1531.54 1611.15 1531.54 Q1611.75 1531.54 1612.49 1531.63 Q1613.22 1531.7 1614.11 1531.85 L1614.14 1537.87 Z\" fill=\"#000000\" fill-rule=\"evenodd\" fill-opacity=\"1\" /><polyline clip-path=\"url(#clip792)\" style=\"stroke:#000000; stroke-linecap:butt; stroke-linejoin:round; stroke-width:2; stroke-opacity:0.1; fill:none\" points=\"\n",
       "  249.843,1316.01 2352.76,1316.01 \n",
       "  \"/>\n",
       "<polyline clip-path=\"url(#clip792)\" style=\"stroke:#000000; stroke-linecap:butt; stroke-linejoin:round; stroke-width:2; stroke-opacity:0.1; fill:none\" points=\"\n",
       "  249.843,1123.96 2352.76,1123.96 \n",
       "  \"/>\n",
       "<polyline clip-path=\"url(#clip792)\" style=\"stroke:#000000; stroke-linecap:butt; stroke-linejoin:round; stroke-width:2; stroke-opacity:0.1; fill:none\" points=\"\n",
       "  249.843,931.911 2352.76,931.911 \n",
       "  \"/>\n",
       "<polyline clip-path=\"url(#clip792)\" style=\"stroke:#000000; stroke-linecap:butt; stroke-linejoin:round; stroke-width:2; stroke-opacity:0.1; fill:none\" points=\"\n",
       "  249.843,739.86 2352.76,739.86 \n",
       "  \"/>\n",
       "<polyline clip-path=\"url(#clip792)\" style=\"stroke:#000000; stroke-linecap:butt; stroke-linejoin:round; stroke-width:2; stroke-opacity:0.1; fill:none\" points=\"\n",
       "  249.843,547.809 2352.76,547.809 \n",
       "  \"/>\n",
       "<polyline clip-path=\"url(#clip792)\" style=\"stroke:#000000; stroke-linecap:butt; stroke-linejoin:round; stroke-width:2; stroke-opacity:0.1; fill:none\" points=\"\n",
       "  249.843,355.758 2352.76,355.758 \n",
       "  \"/>\n",
       "<polyline clip-path=\"url(#clip792)\" style=\"stroke:#000000; stroke-linecap:butt; stroke-linejoin:round; stroke-width:2; stroke-opacity:0.1; fill:none\" points=\"\n",
       "  249.843,163.707 2352.76,163.707 \n",
       "  \"/>\n",
       "<polyline clip-path=\"url(#clip790)\" style=\"stroke:#000000; stroke-linecap:butt; stroke-linejoin:round; stroke-width:4; stroke-opacity:1; fill:none\" points=\"\n",
       "  249.843,1423.18 249.843,47.2441 \n",
       "  \"/>\n",
       "<polyline clip-path=\"url(#clip790)\" style=\"stroke:#000000; stroke-linecap:butt; stroke-linejoin:round; stroke-width:4; stroke-opacity:1; fill:none\" points=\"\n",
       "  249.843,1316.01 268.741,1316.01 \n",
       "  \"/>\n",
       "<polyline clip-path=\"url(#clip790)\" style=\"stroke:#000000; stroke-linecap:butt; stroke-linejoin:round; stroke-width:4; stroke-opacity:1; fill:none\" points=\"\n",
       "  249.843,1123.96 268.741,1123.96 \n",
       "  \"/>\n",
       "<polyline clip-path=\"url(#clip790)\" style=\"stroke:#000000; stroke-linecap:butt; stroke-linejoin:round; stroke-width:4; stroke-opacity:1; fill:none\" points=\"\n",
       "  249.843,931.911 268.741,931.911 \n",
       "  \"/>\n",
       "<polyline clip-path=\"url(#clip790)\" style=\"stroke:#000000; stroke-linecap:butt; stroke-linejoin:round; stroke-width:4; stroke-opacity:1; fill:none\" points=\"\n",
       "  249.843,739.86 268.741,739.86 \n",
       "  \"/>\n",
       "<polyline clip-path=\"url(#clip790)\" style=\"stroke:#000000; stroke-linecap:butt; stroke-linejoin:round; stroke-width:4; stroke-opacity:1; fill:none\" points=\"\n",
       "  249.843,547.809 268.741,547.809 \n",
       "  \"/>\n",
       "<polyline clip-path=\"url(#clip790)\" style=\"stroke:#000000; stroke-linecap:butt; stroke-linejoin:round; stroke-width:4; stroke-opacity:1; fill:none\" points=\"\n",
       "  249.843,355.758 268.741,355.758 \n",
       "  \"/>\n",
       "<polyline clip-path=\"url(#clip790)\" style=\"stroke:#000000; stroke-linecap:butt; stroke-linejoin:round; stroke-width:4; stroke-opacity:1; fill:none\" points=\"\n",
       "  249.843,163.707 268.741,163.707 \n",
       "  \"/>\n",
       "<path clip-path=\"url(#clip790)\" d=\"M128.681 1314.15 Q125.533 1314.15 123.681 1316.3 Q121.853 1318.45 121.853 1322.2 Q121.853 1325.93 123.681 1328.11 Q125.533 1330.26 128.681 1330.26 Q131.83 1330.26 133.658 1328.11 Q135.51 1325.93 135.51 1322.2 Q135.51 1318.45 133.658 1316.3 Q131.83 1314.15 128.681 1314.15 M137.964 1299.5 L137.964 1303.76 Q136.204 1302.92 134.399 1302.48 Q132.617 1302.04 130.857 1302.04 Q126.228 1302.04 123.774 1305.17 Q121.343 1308.29 120.996 1314.61 Q122.362 1312.6 124.422 1311.53 Q126.482 1310.45 128.959 1310.45 Q134.167 1310.45 137.177 1313.62 Q140.209 1316.77 140.209 1322.2 Q140.209 1327.53 137.061 1330.75 Q133.913 1333.96 128.681 1333.96 Q122.686 1333.96 119.515 1329.38 Q116.343 1324.77 116.343 1316.05 Q116.343 1307.85 120.232 1302.99 Q124.121 1298.11 130.672 1298.11 Q132.431 1298.11 134.214 1298.45 Q136.019 1298.8 137.964 1299.5 Z\" fill=\"#000000\" fill-rule=\"evenodd\" fill-opacity=\"1\" /><path clip-path=\"url(#clip790)\" d=\"M148.265 1327.41 L153.149 1327.41 L153.149 1333.29 L148.265 1333.29 L148.265 1327.41 Z\" fill=\"#000000\" fill-rule=\"evenodd\" fill-opacity=\"1\" /><path clip-path=\"url(#clip790)\" d=\"M163.38 1298.73 L181.737 1298.73 L181.737 1302.67 L167.663 1302.67 L167.663 1311.14 Q168.681 1310.79 169.7 1310.63 Q170.718 1310.45 171.737 1310.45 Q177.524 1310.45 180.903 1313.62 Q184.283 1316.79 184.283 1322.2 Q184.283 1327.78 180.811 1330.89 Q177.339 1333.96 171.019 1333.96 Q168.843 1333.96 166.575 1333.59 Q164.329 1333.22 161.922 1332.48 L161.922 1327.78 Q164.005 1328.92 166.227 1329.47 Q168.45 1330.03 170.927 1330.03 Q174.931 1330.03 177.269 1327.92 Q179.607 1325.82 179.607 1322.2 Q179.607 1318.59 177.269 1316.49 Q174.931 1314.38 170.927 1314.38 Q169.052 1314.38 167.177 1314.8 Q165.325 1315.21 163.38 1316.09 L163.38 1298.73 Z\" fill=\"#000000\" fill-rule=\"evenodd\" fill-opacity=\"1\" /><path clip-path=\"url(#clip790)\" d=\"M197.524 1329.36 L213.843 1329.36 L213.843 1333.29 L191.899 1333.29 L191.899 1329.36 Q194.561 1326.6 199.144 1321.97 Q203.75 1317.32 204.931 1315.98 Q207.176 1313.45 208.056 1311.72 Q208.959 1309.96 208.959 1308.27 Q208.959 1305.52 207.014 1303.78 Q205.093 1302.04 201.991 1302.04 Q199.792 1302.04 197.338 1302.81 Q194.908 1303.57 192.13 1305.12 L192.13 1300.4 Q194.954 1299.27 197.408 1298.69 Q199.862 1298.11 201.899 1298.11 Q207.269 1298.11 210.463 1300.79 Q213.658 1303.48 213.658 1307.97 Q213.658 1310.1 212.848 1312.02 Q212.061 1313.92 209.954 1316.51 Q209.375 1317.18 206.274 1320.4 Q203.172 1323.59 197.524 1329.36 Z\" fill=\"#000000\" fill-rule=\"evenodd\" fill-opacity=\"1\" /><path clip-path=\"url(#clip790)\" d=\"M126.598 1122.1 Q123.45 1122.1 121.598 1124.25 Q119.769 1126.4 119.769 1130.15 Q119.769 1133.88 121.598 1136.06 Q123.45 1138.21 126.598 1138.21 Q129.746 1138.21 131.575 1136.06 Q133.427 1133.88 133.427 1130.15 Q133.427 1126.4 131.575 1124.25 Q129.746 1122.1 126.598 1122.1 M135.88 1107.45 L135.88 1111.7 Q134.121 1110.87 132.316 1110.43 Q130.533 1109.99 128.774 1109.99 Q124.144 1109.99 121.691 1113.12 Q119.26 1116.24 118.913 1122.56 Q120.279 1120.55 122.339 1119.48 Q124.399 1118.39 126.876 1118.39 Q132.084 1118.39 135.093 1121.57 Q138.126 1124.71 138.126 1130.15 Q138.126 1135.48 134.978 1138.7 Q131.83 1141.91 126.598 1141.91 Q120.603 1141.91 117.431 1137.33 Q114.26 1132.72 114.26 1124 Q114.26 1115.8 118.149 1110.94 Q122.038 1106.06 128.589 1106.06 Q130.348 1106.06 132.13 1106.4 Q133.936 1106.75 135.88 1107.45 Z\" fill=\"#000000\" fill-rule=\"evenodd\" fill-opacity=\"1\" /><path clip-path=\"url(#clip790)\" d=\"M146.181 1135.36 L151.066 1135.36 L151.066 1141.24 L146.181 1141.24 L146.181 1135.36 Z\" fill=\"#000000\" fill-rule=\"evenodd\" fill-opacity=\"1\" /><path clip-path=\"url(#clip790)\" d=\"M161.297 1106.68 L179.653 1106.68 L179.653 1110.62 L165.579 1110.62 L165.579 1119.09 Q166.598 1118.74 167.616 1118.58 Q168.635 1118.39 169.653 1118.39 Q175.44 1118.39 178.82 1121.57 Q182.2 1124.74 182.2 1130.15 Q182.2 1135.73 178.727 1138.83 Q175.255 1141.91 168.936 1141.91 Q166.76 1141.91 164.491 1141.54 Q162.246 1141.17 159.839 1140.43 L159.839 1135.73 Q161.922 1136.87 164.144 1137.42 Q166.366 1137.98 168.843 1137.98 Q172.848 1137.98 175.186 1135.87 Q177.524 1133.76 177.524 1130.15 Q177.524 1126.54 175.186 1124.44 Q172.848 1122.33 168.843 1122.33 Q166.968 1122.33 165.093 1122.75 Q163.241 1123.16 161.297 1124.04 L161.297 1106.68 Z\" fill=\"#000000\" fill-rule=\"evenodd\" fill-opacity=\"1\" /><path clip-path=\"url(#clip790)\" d=\"M204.26 1110.76 L192.454 1129.2 L204.26 1129.2 L204.26 1110.76 M203.033 1106.68 L208.912 1106.68 L208.912 1129.2 L213.843 1129.2 L213.843 1133.09 L208.912 1133.09 L208.912 1141.24 L204.26 1141.24 L204.26 1133.09 L188.658 1133.09 L188.658 1128.58 L203.033 1106.68 Z\" fill=\"#000000\" fill-rule=\"evenodd\" fill-opacity=\"1\" /><path clip-path=\"url(#clip790)\" d=\"M126.922 930.047 Q123.774 930.047 121.922 932.2 Q120.093 934.353 120.093 938.103 Q120.093 941.83 121.922 944.006 Q123.774 946.158 126.922 946.158 Q130.07 946.158 131.899 944.006 Q133.751 941.83 133.751 938.103 Q133.751 934.353 131.899 932.2 Q130.07 930.047 126.922 930.047 M136.204 915.395 L136.204 919.654 Q134.445 918.82 132.64 918.381 Q130.857 917.941 129.098 917.941 Q124.468 917.941 122.015 921.066 Q119.584 924.191 119.237 930.51 Q120.603 928.496 122.663 927.432 Q124.723 926.344 127.2 926.344 Q132.408 926.344 135.417 929.515 Q138.45 932.663 138.45 938.103 Q138.45 943.427 135.302 946.644 Q132.154 949.862 126.922 949.862 Q120.927 949.862 117.756 945.279 Q114.584 940.672 114.584 931.945 Q114.584 923.751 118.473 918.89 Q122.362 914.006 128.913 914.006 Q130.672 914.006 132.455 914.353 Q134.26 914.7 136.204 915.395 Z\" fill=\"#000000\" fill-rule=\"evenodd\" fill-opacity=\"1\" /><path clip-path=\"url(#clip790)\" d=\"M146.505 943.311 L151.39 943.311 L151.39 949.191 L146.505 949.191 L146.505 943.311 Z\" fill=\"#000000\" fill-rule=\"evenodd\" fill-opacity=\"1\" /><path clip-path=\"url(#clip790)\" d=\"M161.621 914.631 L179.977 914.631 L179.977 918.566 L165.903 918.566 L165.903 927.038 Q166.922 926.691 167.94 926.529 Q168.959 926.344 169.977 926.344 Q175.764 926.344 179.144 929.515 Q182.524 932.686 182.524 938.103 Q182.524 943.681 179.051 946.783 Q175.579 949.862 169.26 949.862 Q167.084 949.862 164.815 949.492 Q162.57 949.121 160.163 948.381 L160.163 943.681 Q162.246 944.816 164.468 945.371 Q166.69 945.927 169.167 945.927 Q173.172 945.927 175.51 943.82 Q177.848 941.714 177.848 938.103 Q177.848 934.492 175.51 932.385 Q173.172 930.279 169.167 930.279 Q167.292 930.279 165.417 930.695 Q163.565 931.112 161.621 931.992 L161.621 914.631 Z\" fill=\"#000000\" fill-rule=\"evenodd\" fill-opacity=\"1\" /><path clip-path=\"url(#clip790)\" d=\"M202.315 930.047 Q199.167 930.047 197.315 932.2 Q195.487 934.353 195.487 938.103 Q195.487 941.83 197.315 944.006 Q199.167 946.158 202.315 946.158 Q205.463 946.158 207.292 944.006 Q209.144 941.83 209.144 938.103 Q209.144 934.353 207.292 932.2 Q205.463 930.047 202.315 930.047 M211.598 915.395 L211.598 919.654 Q209.838 918.82 208.033 918.381 Q206.25 917.941 204.491 917.941 Q199.862 917.941 197.408 921.066 Q194.977 924.191 194.63 930.51 Q195.996 928.496 198.056 927.432 Q200.116 926.344 202.593 926.344 Q207.801 926.344 210.811 929.515 Q213.843 932.663 213.843 938.103 Q213.843 943.427 210.695 946.644 Q207.547 949.862 202.315 949.862 Q196.32 949.862 193.149 945.279 Q189.977 940.672 189.977 931.945 Q189.977 923.751 193.866 918.89 Q197.755 914.006 204.306 914.006 Q206.065 914.006 207.848 914.353 Q209.653 914.7 211.598 915.395 Z\" fill=\"#000000\" fill-rule=\"evenodd\" fill-opacity=\"1\" /><path clip-path=\"url(#clip790)\" d=\"M127.177 737.996 Q124.029 737.996 122.177 740.149 Q120.348 742.302 120.348 746.052 Q120.348 749.779 122.177 751.955 Q124.029 754.107 127.177 754.107 Q130.325 754.107 132.154 751.955 Q134.005 749.779 134.005 746.052 Q134.005 742.302 132.154 740.149 Q130.325 737.996 127.177 737.996 M136.459 723.344 L136.459 727.603 Q134.7 726.769 132.894 726.33 Q131.112 725.89 129.353 725.89 Q124.723 725.89 122.269 729.015 Q119.839 732.14 119.492 738.459 Q120.857 736.445 122.918 735.381 Q124.978 734.293 127.455 734.293 Q132.663 734.293 135.672 737.464 Q138.704 740.612 138.704 746.052 Q138.704 751.376 135.556 754.593 Q132.408 757.811 127.177 757.811 Q121.181 757.811 118.01 753.228 Q114.839 748.621 114.839 739.894 Q114.839 731.7 118.728 726.839 Q122.617 721.955 129.167 721.955 Q130.927 721.955 132.709 722.302 Q134.515 722.649 136.459 723.344 Z\" fill=\"#000000\" fill-rule=\"evenodd\" fill-opacity=\"1\" /><path clip-path=\"url(#clip790)\" d=\"M146.76 751.26 L151.644 751.26 L151.644 757.14 L146.76 757.14 L146.76 751.26 Z\" fill=\"#000000\" fill-rule=\"evenodd\" fill-opacity=\"1\" /><path clip-path=\"url(#clip790)\" d=\"M161.876 722.58 L180.232 722.58 L180.232 726.515 L166.158 726.515 L166.158 734.987 Q167.177 734.64 168.195 734.478 Q169.214 734.293 170.232 734.293 Q176.019 734.293 179.399 737.464 Q182.778 740.635 182.778 746.052 Q182.778 751.63 179.306 754.732 Q175.834 757.811 169.514 757.811 Q167.339 757.811 165.07 757.441 Q162.825 757.07 160.417 756.33 L160.417 751.63 Q162.501 752.765 164.723 753.32 Q166.945 753.876 169.422 753.876 Q173.427 753.876 175.764 751.769 Q178.102 749.663 178.102 746.052 Q178.102 742.441 175.764 740.334 Q173.427 738.228 169.422 738.228 Q167.547 738.228 165.672 738.644 Q163.82 739.061 161.876 739.941 L161.876 722.58 Z\" fill=\"#000000\" fill-rule=\"evenodd\" fill-opacity=\"1\" /><path clip-path=\"url(#clip790)\" d=\"M201.991 740.728 Q198.658 740.728 196.737 742.51 Q194.838 744.293 194.838 747.418 Q194.838 750.543 196.737 752.325 Q198.658 754.107 201.991 754.107 Q205.324 754.107 207.246 752.325 Q209.167 750.519 209.167 747.418 Q209.167 744.293 207.246 742.51 Q205.348 740.728 201.991 740.728 M197.315 738.737 Q194.306 737.996 192.616 735.936 Q190.95 733.876 190.95 730.913 Q190.95 726.769 193.889 724.362 Q196.852 721.955 201.991 721.955 Q207.153 721.955 210.093 724.362 Q213.033 726.769 213.033 730.913 Q213.033 733.876 211.343 735.936 Q209.676 737.996 206.69 738.737 Q210.07 739.524 211.945 741.816 Q213.843 744.107 213.843 747.418 Q213.843 752.441 210.764 755.126 Q207.709 757.811 201.991 757.811 Q196.274 757.811 193.195 755.126 Q190.139 752.441 190.139 747.418 Q190.139 744.107 192.038 741.816 Q193.936 739.524 197.315 738.737 M195.602 731.353 Q195.602 734.038 197.269 735.543 Q198.959 737.047 201.991 737.047 Q205 737.047 206.69 735.543 Q208.403 734.038 208.403 731.353 Q208.403 728.668 206.69 727.163 Q205 725.658 201.991 725.658 Q198.959 725.658 197.269 727.163 Q195.602 728.668 195.602 731.353 Z\" fill=\"#000000\" fill-rule=\"evenodd\" fill-opacity=\"1\" /><path clip-path=\"url(#clip790)\" d=\"M127.084 545.945 Q123.936 545.945 122.084 548.098 Q120.255 550.251 120.255 554.001 Q120.255 557.728 122.084 559.904 Q123.936 562.056 127.084 562.056 Q130.232 562.056 132.061 559.904 Q133.913 557.728 133.913 554.001 Q133.913 550.251 132.061 548.098 Q130.232 545.945 127.084 545.945 M136.367 531.293 L136.367 535.552 Q134.607 534.718 132.802 534.279 Q131.019 533.839 129.26 533.839 Q124.63 533.839 122.177 536.964 Q119.746 540.089 119.399 546.408 Q120.765 544.394 122.825 543.33 Q124.885 542.242 127.362 542.242 Q132.57 542.242 135.579 545.413 Q138.612 548.561 138.612 554.001 Q138.612 559.325 135.464 562.542 Q132.316 565.76 127.084 565.76 Q121.089 565.76 117.918 561.177 Q114.746 556.57 114.746 547.843 Q114.746 539.649 118.635 534.788 Q122.524 529.904 129.075 529.904 Q130.834 529.904 132.617 530.251 Q134.422 530.598 136.367 531.293 Z\" fill=\"#000000\" fill-rule=\"evenodd\" fill-opacity=\"1\" /><path clip-path=\"url(#clip790)\" d=\"M146.667 559.209 L151.552 559.209 L151.552 565.089 L146.667 565.089 L146.667 559.209 Z\" fill=\"#000000\" fill-rule=\"evenodd\" fill-opacity=\"1\" /><path clip-path=\"url(#clip790)\" d=\"M172.315 545.945 Q169.167 545.945 167.315 548.098 Q165.487 550.251 165.487 554.001 Q165.487 557.728 167.315 559.904 Q169.167 562.056 172.315 562.056 Q175.464 562.056 177.292 559.904 Q179.144 557.728 179.144 554.001 Q179.144 550.251 177.292 548.098 Q175.464 545.945 172.315 545.945 M181.598 531.293 L181.598 535.552 Q179.839 534.718 178.033 534.279 Q176.251 533.839 174.491 533.839 Q169.862 533.839 167.408 536.964 Q164.977 540.089 164.63 546.408 Q165.996 544.394 168.056 543.33 Q170.116 542.242 172.593 542.242 Q177.801 542.242 180.811 545.413 Q183.843 548.561 183.843 554.001 Q183.843 559.325 180.695 562.542 Q177.547 565.76 172.315 565.76 Q166.32 565.76 163.149 561.177 Q159.978 556.57 159.978 547.843 Q159.978 539.649 163.866 534.788 Q167.755 529.904 174.306 529.904 Q176.065 529.904 177.848 530.251 Q179.653 530.598 181.598 531.293 Z\" fill=\"#000000\" fill-rule=\"evenodd\" fill-opacity=\"1\" /><path clip-path=\"url(#clip790)\" d=\"M201.899 533.607 Q198.287 533.607 196.459 537.172 Q194.653 540.714 194.653 547.843 Q194.653 554.95 196.459 558.515 Q198.287 562.056 201.899 562.056 Q205.533 562.056 207.338 558.515 Q209.167 554.95 209.167 547.843 Q209.167 540.714 207.338 537.172 Q205.533 533.607 201.899 533.607 M201.899 529.904 Q207.709 529.904 210.764 534.51 Q213.843 539.093 213.843 547.843 Q213.843 556.57 210.764 561.177 Q207.709 565.76 201.899 565.76 Q196.088 565.76 193.01 561.177 Q189.954 556.57 189.954 547.843 Q189.954 539.093 193.01 534.51 Q196.088 529.904 201.899 529.904 Z\" fill=\"#000000\" fill-rule=\"evenodd\" fill-opacity=\"1\" /><path clip-path=\"url(#clip790)\" d=\"M128.681 353.894 Q125.533 353.894 123.681 356.047 Q121.853 358.2 121.853 361.95 Q121.853 365.677 123.681 367.853 Q125.533 370.005 128.681 370.005 Q131.83 370.005 133.658 367.853 Q135.51 365.677 135.51 361.95 Q135.51 358.2 133.658 356.047 Q131.83 353.894 128.681 353.894 M137.964 339.242 L137.964 343.501 Q136.204 342.667 134.399 342.228 Q132.617 341.788 130.857 341.788 Q126.228 341.788 123.774 344.913 Q121.343 348.038 120.996 354.357 Q122.362 352.343 124.422 351.279 Q126.482 350.191 128.959 350.191 Q134.167 350.191 137.177 353.362 Q140.209 356.51 140.209 361.95 Q140.209 367.274 137.061 370.491 Q133.913 373.709 128.681 373.709 Q122.686 373.709 119.515 369.126 Q116.343 364.519 116.343 355.792 Q116.343 347.598 120.232 342.737 Q124.121 337.853 130.672 337.853 Q132.431 337.853 134.214 338.2 Q136.019 338.547 137.964 339.242 Z\" fill=\"#000000\" fill-rule=\"evenodd\" fill-opacity=\"1\" /><path clip-path=\"url(#clip790)\" d=\"M148.265 367.158 L153.149 367.158 L153.149 373.038 L148.265 373.038 L148.265 367.158 Z\" fill=\"#000000\" fill-rule=\"evenodd\" fill-opacity=\"1\" /><path clip-path=\"url(#clip790)\" d=\"M173.913 353.894 Q170.764 353.894 168.913 356.047 Q167.084 358.2 167.084 361.95 Q167.084 365.677 168.913 367.853 Q170.764 370.005 173.913 370.005 Q177.061 370.005 178.889 367.853 Q180.741 365.677 180.741 361.95 Q180.741 358.2 178.889 356.047 Q177.061 353.894 173.913 353.894 M183.195 339.242 L183.195 343.501 Q181.436 342.667 179.63 342.228 Q177.848 341.788 176.089 341.788 Q171.459 341.788 169.005 344.913 Q166.575 348.038 166.227 354.357 Q167.593 352.343 169.653 351.279 Q171.714 350.191 174.19 350.191 Q179.399 350.191 182.408 353.362 Q185.44 356.51 185.44 361.95 Q185.44 367.274 182.292 370.491 Q179.144 373.709 173.913 373.709 Q167.917 373.709 164.746 369.126 Q161.575 364.519 161.575 355.792 Q161.575 347.598 165.464 342.737 Q169.352 337.853 175.903 337.853 Q177.663 337.853 179.445 338.2 Q181.251 338.547 183.195 339.242 Z\" fill=\"#000000\" fill-rule=\"evenodd\" fill-opacity=\"1\" /><path clip-path=\"url(#clip790)\" d=\"M197.524 369.103 L213.843 369.103 L213.843 373.038 L191.899 373.038 L191.899 369.103 Q194.561 366.348 199.144 361.718 Q203.75 357.066 204.931 355.723 Q207.176 353.2 208.056 351.464 Q208.959 349.704 208.959 348.015 Q208.959 345.26 207.014 343.524 Q205.093 341.788 201.991 341.788 Q199.792 341.788 197.338 342.552 Q194.908 343.316 192.13 344.867 L192.13 340.144 Q194.954 339.01 197.408 338.431 Q199.862 337.853 201.899 337.853 Q207.269 337.853 210.463 340.538 Q213.658 343.223 213.658 347.714 Q213.658 349.843 212.848 351.765 Q212.061 353.663 209.954 356.255 Q209.375 356.927 206.274 360.144 Q203.172 363.339 197.524 369.103 Z\" fill=\"#000000\" fill-rule=\"evenodd\" fill-opacity=\"1\" /><path clip-path=\"url(#clip790)\" d=\"M126.598 161.843 Q123.45 161.843 121.598 163.996 Q119.769 166.149 119.769 169.899 Q119.769 173.626 121.598 175.802 Q123.45 177.954 126.598 177.954 Q129.746 177.954 131.575 175.802 Q133.427 173.626 133.427 169.899 Q133.427 166.149 131.575 163.996 Q129.746 161.843 126.598 161.843 M135.88 147.191 L135.88 151.45 Q134.121 150.616 132.316 150.177 Q130.533 149.737 128.774 149.737 Q124.144 149.737 121.691 152.862 Q119.26 155.987 118.913 162.306 Q120.279 160.292 122.339 159.228 Q124.399 158.14 126.876 158.14 Q132.084 158.14 135.093 161.311 Q138.126 164.459 138.126 169.899 Q138.126 175.223 134.978 178.44 Q131.83 181.658 126.598 181.658 Q120.603 181.658 117.431 177.075 Q114.26 172.468 114.26 163.741 Q114.26 155.547 118.149 150.686 Q122.038 145.802 128.589 145.802 Q130.348 145.802 132.13 146.149 Q133.936 146.496 135.88 147.191 Z\" fill=\"#000000\" fill-rule=\"evenodd\" fill-opacity=\"1\" /><path clip-path=\"url(#clip790)\" d=\"M146.181 175.107 L151.066 175.107 L151.066 180.987 L146.181 180.987 L146.181 175.107 Z\" fill=\"#000000\" fill-rule=\"evenodd\" fill-opacity=\"1\" /><path clip-path=\"url(#clip790)\" d=\"M171.829 161.843 Q168.681 161.843 166.829 163.996 Q165.001 166.149 165.001 169.899 Q165.001 173.626 166.829 175.802 Q168.681 177.954 171.829 177.954 Q174.977 177.954 176.806 175.802 Q178.658 173.626 178.658 169.899 Q178.658 166.149 176.806 163.996 Q174.977 161.843 171.829 161.843 M181.112 147.191 L181.112 151.45 Q179.352 150.616 177.547 150.177 Q175.764 149.737 174.005 149.737 Q169.376 149.737 166.922 152.862 Q164.491 155.987 164.144 162.306 Q165.51 160.292 167.57 159.228 Q169.63 158.14 172.107 158.14 Q177.315 158.14 180.325 161.311 Q183.357 164.459 183.357 169.899 Q183.357 175.223 180.209 178.44 Q177.061 181.658 171.829 181.658 Q165.834 181.658 162.663 177.075 Q159.491 172.468 159.491 163.741 Q159.491 155.547 163.38 150.686 Q167.269 145.802 173.82 145.802 Q175.579 145.802 177.362 146.149 Q179.167 146.496 181.112 147.191 Z\" fill=\"#000000\" fill-rule=\"evenodd\" fill-opacity=\"1\" /><path clip-path=\"url(#clip790)\" d=\"M204.26 150.501 L192.454 168.95 L204.26 168.95 L204.26 150.501 M203.033 146.427 L208.912 146.427 L208.912 168.95 L213.843 168.95 L213.843 172.839 L208.912 172.839 L208.912 180.987 L204.26 180.987 L204.26 172.839 L188.658 172.839 L188.658 168.325 L203.033 146.427 Z\" fill=\"#000000\" fill-rule=\"evenodd\" fill-opacity=\"1\" /><path clip-path=\"url(#clip790)\" d=\"M42.4881 985.273 L64.0042 985.273 L64.0042 991.129 L42.679 991.129 Q37.6183 991.129 35.1038 993.103 Q32.5894 995.076 32.5894 999.023 Q32.5894 1003.77 35.6131 1006.5 Q38.6368 1009.24 43.8567 1009.24 L64.0042 1009.24 L64.0042 1015.13 L14.479 1015.13 L14.479 1009.24 L33.8944 1009.24 Q30.6797 1007.14 29.0883 1004.31 Q27.4968 1001.44 27.4968 997.718 Q27.4968 991.575 31.3163 988.424 Q35.1038 985.273 42.4881 985.273 Z\" fill=\"#000000\" fill-rule=\"evenodd\" fill-opacity=\"1\" /><path clip-path=\"url(#clip790)\" d=\"M44.7161 943.1 L47.5806 943.1 L47.5806 970.027 Q53.6281 969.645 56.8109 966.399 Q59.9619 963.12 59.9619 957.296 Q59.9619 953.922 59.1344 950.771 Q58.3069 947.588 56.6518 944.469 L62.1899 944.469 Q63.5267 947.62 64.227 950.93 Q64.9272 954.24 64.9272 957.646 Q64.9272 966.176 59.9619 971.173 Q54.9967 976.138 46.5303 976.138 Q37.7774 976.138 32.6531 971.427 Q27.4968 966.685 27.4968 958.664 Q27.4968 951.471 32.1438 947.301 Q36.7589 943.1 44.7161 943.1 M42.9973 948.956 Q38.1912 949.02 35.3266 951.662 Q32.4621 954.272 32.4621 958.601 Q32.4621 963.502 35.2312 966.462 Q38.0002 969.39 43.0292 969.836 L42.9973 948.956 Z\" fill=\"#000000\" fill-rule=\"evenodd\" fill-opacity=\"1\" /><path clip-path=\"url(#clip790)\" d=\"M46.0847 917.287 Q46.0847 924.385 47.7079 927.122 Q49.3312 929.859 53.2461 929.859 Q56.3653 929.859 58.2114 927.822 Q60.0256 925.753 60.0256 922.221 Q60.0256 917.351 56.5881 914.423 Q53.1188 911.462 47.3897 911.462 L46.0847 911.462 L46.0847 917.287 M43.6657 905.606 L64.0042 905.606 L64.0042 911.462 L58.5933 911.462 Q61.8398 913.468 63.3994 916.46 Q64.9272 919.451 64.9272 923.78 Q64.9272 929.255 61.8716 932.501 Q58.7843 935.716 53.6281 935.716 Q47.6125 935.716 44.5569 931.705 Q41.5014 927.663 41.5014 919.674 L41.5014 911.462 L40.9285 911.462 Q36.8862 911.462 34.6901 914.136 Q32.4621 916.778 32.4621 921.584 Q32.4621 924.639 33.1941 927.536 Q33.9262 930.432 35.3903 933.106 L29.9795 933.106 Q28.7381 929.891 28.1334 926.867 Q27.4968 923.844 27.4968 920.979 Q27.4968 913.245 31.5072 909.425 Q35.5176 905.606 43.6657 905.606 Z\" fill=\"#000000\" fill-rule=\"evenodd\" fill-opacity=\"1\" /><path clip-path=\"url(#clip790)\" d=\"M18.2347 887.75 L28.3562 887.75 L28.3562 875.687 L32.9077 875.687 L32.9077 887.75 L52.2594 887.75 Q56.6199 887.75 57.8613 886.573 Q59.1026 885.363 59.1026 881.703 L59.1026 875.687 L64.0042 875.687 L64.0042 881.703 Q64.0042 888.482 61.4897 891.06 Q58.9434 893.638 52.2594 893.638 L32.9077 893.638 L32.9077 897.935 L28.3562 897.935 L28.3562 893.638 L18.2347 893.638 L18.2347 887.75 Z\" fill=\"#000000\" fill-rule=\"evenodd\" fill-opacity=\"1\" /><path clip-path=\"url(#clip790)\" d=\"M29.7248 821.611 L35.1993 821.611 Q33.8307 824.093 33.1623 826.608 Q32.4621 829.09 32.4621 831.637 Q32.4621 837.334 36.0905 840.485 Q39.6872 843.636 46.212 843.636 Q52.7369 843.636 56.3653 840.485 Q59.9619 837.334 59.9619 831.637 Q59.9619 829.09 59.2935 826.608 Q58.5933 824.093 57.2247 821.611 L62.6355 821.611 Q63.7814 824.061 64.3543 826.703 Q64.9272 829.313 64.9272 832.273 Q64.9272 840.326 59.8664 845.068 Q54.8057 849.811 46.212 849.811 Q37.491 849.811 32.4939 845.036 Q27.4968 840.23 27.4968 831.891 Q27.4968 829.186 28.0697 826.608 Q28.6108 824.029 29.7248 821.611 Z\" fill=\"#000000\" fill-rule=\"evenodd\" fill-opacity=\"1\" /><path clip-path=\"url(#clip790)\" d=\"M32.4621 797.612 Q32.4621 802.322 36.1542 805.06 Q39.8145 807.797 46.212 807.797 Q52.6095 807.797 56.3017 805.092 Q59.9619 802.354 59.9619 797.612 Q59.9619 792.933 56.2698 790.196 Q52.5777 787.459 46.212 787.459 Q39.8781 787.459 36.186 790.196 Q32.4621 792.933 32.4621 797.612 M27.4968 797.612 Q27.4968 789.973 32.4621 785.612 Q37.4273 781.252 46.212 781.252 Q54.9649 781.252 59.9619 785.612 Q64.9272 789.973 64.9272 797.612 Q64.9272 805.282 59.9619 809.643 Q54.9649 813.972 46.212 813.972 Q37.4273 813.972 32.4621 809.643 Q27.4968 805.282 27.4968 797.612 Z\" fill=\"#000000\" fill-rule=\"evenodd\" fill-opacity=\"1\" /><path clip-path=\"url(#clip790)\" d=\"M42.4881 741.912 L64.0042 741.912 L64.0042 747.768 L42.679 747.768 Q37.6183 747.768 35.1038 749.742 Q32.5894 751.715 32.5894 755.662 Q32.5894 760.404 35.6131 763.142 Q38.6368 765.879 43.8567 765.879 L64.0042 765.879 L64.0042 771.767 L28.3562 771.767 L28.3562 765.879 L33.8944 765.879 Q30.6797 763.778 29.0883 760.945 Q27.4968 758.081 27.4968 754.357 Q27.4968 748.214 31.3163 745.063 Q35.1038 741.912 42.4881 741.912 Z\" fill=\"#000000\" fill-rule=\"evenodd\" fill-opacity=\"1\" /><path clip-path=\"url(#clip790)\" d=\"M33.7671 706.773 L14.479 706.773 L14.479 700.917 L64.0042 700.917 L64.0042 706.773 L58.657 706.773 Q61.8398 708.619 63.3994 711.452 Q64.9272 714.253 64.9272 718.2 Q64.9272 724.661 59.771 728.735 Q54.6147 732.777 46.212 732.777 Q37.8093 732.777 32.6531 728.735 Q27.4968 724.661 27.4968 718.2 Q27.4968 714.253 29.0564 711.452 Q30.5842 708.619 33.7671 706.773 M46.212 726.73 Q52.6732 726.73 56.3653 724.088 Q60.0256 721.414 60.0256 716.767 Q60.0256 712.12 56.3653 709.447 Q52.6732 706.773 46.212 706.773 Q39.7508 706.773 36.0905 709.447 Q32.3984 712.12 32.3984 716.767 Q32.3984 721.414 36.0905 724.088 Q39.7508 726.73 46.212 726.73 Z\" fill=\"#000000\" fill-rule=\"evenodd\" fill-opacity=\"1\" /><path clip-path=\"url(#clip790)\" d=\"M49.9359 689.458 L28.3562 689.458 L28.3562 683.602 L49.7131 683.602 Q54.7739 683.602 57.3202 681.629 Q59.8346 679.655 59.8346 675.709 Q59.8346 670.966 56.8109 668.229 Q53.7872 665.46 48.5673 665.46 L28.3562 665.46 L28.3562 659.603 L64.0042 659.603 L64.0042 665.46 L58.5296 665.46 Q61.7762 667.592 63.3676 670.425 Q64.9272 673.226 64.9272 676.95 Q64.9272 683.093 61.1078 686.276 Q57.2883 689.458 49.9359 689.458 M27.4968 674.722 L27.4968 674.722 Z\" fill=\"#000000\" fill-rule=\"evenodd\" fill-opacity=\"1\" /><path clip-path=\"url(#clip790)\" d=\"M29.7248 621.886 L35.1993 621.886 Q33.8307 624.369 33.1623 626.884 Q32.4621 629.366 32.4621 631.912 Q32.4621 637.61 36.0905 640.761 Q39.6872 643.912 46.212 643.912 Q52.7369 643.912 56.3653 640.761 Q59.9619 637.61 59.9619 631.912 Q59.9619 629.366 59.2935 626.884 Q58.5933 624.369 57.2247 621.886 L62.6355 621.886 Q63.7814 624.337 64.3543 626.979 Q64.9272 629.589 64.9272 632.549 Q64.9272 640.602 59.8664 645.344 Q54.8057 650.087 46.212 650.087 Q37.491 650.087 32.4939 645.312 Q27.4968 640.506 27.4968 632.167 Q27.4968 629.462 28.0697 626.884 Q28.6108 624.305 29.7248 621.886 Z\" fill=\"#000000\" fill-rule=\"evenodd\" fill-opacity=\"1\" /><path clip-path=\"url(#clip790)\" d=\"M18.2347 605.909 L28.3562 605.909 L28.3562 593.846 L32.9077 593.846 L32.9077 605.909 L52.2594 605.909 Q56.6199 605.909 57.8613 604.731 Q59.1026 603.521 59.1026 599.861 L59.1026 593.846 L64.0042 593.846 L64.0042 599.861 Q64.0042 606.641 61.4897 609.219 Q58.9434 611.797 52.2594 611.797 L32.9077 611.797 L32.9077 616.094 L28.3562 616.094 L28.3562 611.797 L18.2347 611.797 L18.2347 605.909 Z\" fill=\"#000000\" fill-rule=\"evenodd\" fill-opacity=\"1\" /><path clip-path=\"url(#clip790)\" d=\"M28.3562 586.143 L28.3562 580.287 L64.0042 580.287 L64.0042 586.143 L28.3562 586.143 M14.479 586.143 L14.479 580.287 L21.895 580.287 L21.895 586.143 L14.479 586.143 Z\" fill=\"#000000\" fill-rule=\"evenodd\" fill-opacity=\"1\" /><path clip-path=\"url(#clip790)\" d=\"M28.3562 572.234 L28.3562 566.027 L58.275 554.887 L28.3562 543.747 L28.3562 537.541 L64.0042 550.909 L64.0042 558.866 L28.3562 572.234 Z\" fill=\"#000000\" fill-rule=\"evenodd\" fill-opacity=\"1\" /><path clip-path=\"url(#clip790)\" d=\"M28.3562 529.456 L28.3562 523.6 L64.0042 523.6 L64.0042 529.456 L28.3562 529.456 M14.479 529.456 L14.479 523.6 L21.895 523.6 L21.895 529.456 L14.479 529.456 Z\" fill=\"#000000\" fill-rule=\"evenodd\" fill-opacity=\"1\" /><path clip-path=\"url(#clip790)\" d=\"M18.2347 505.553 L28.3562 505.553 L28.3562 493.49 L32.9077 493.49 L32.9077 505.553 L52.2594 505.553 Q56.6199 505.553 57.8613 504.376 Q59.1026 503.166 59.1026 499.506 L59.1026 493.49 L64.0042 493.49 L64.0042 499.506 Q64.0042 506.285 61.4897 508.863 Q58.9434 511.441 52.2594 511.441 L32.9077 511.441 L32.9077 515.738 L28.3562 515.738 L28.3562 511.441 L18.2347 511.441 L18.2347 505.553 Z\" fill=\"#000000\" fill-rule=\"evenodd\" fill-opacity=\"1\" /><path clip-path=\"url(#clip790)\" d=\"M67.3143 470.956 Q73.68 473.438 75.6216 475.794 Q77.5631 478.149 77.5631 482.096 L77.5631 486.774 L72.6615 486.774 L72.6615 483.337 Q72.6615 480.918 71.5157 479.581 Q70.3699 478.244 66.1048 476.621 L63.4312 475.571 L28.3562 489.989 L28.3562 483.782 L56.238 472.642 L28.3562 461.502 L28.3562 455.296 L67.3143 470.956 Z\" fill=\"#000000\" fill-rule=\"evenodd\" fill-opacity=\"1\" /><circle clip-path=\"url(#clip792)\" cx=\"309.359\" cy=\"86.1857\" r=\"14\" fill=\"#009af9\" fill-rule=\"evenodd\" fill-opacity=\"1\" stroke=\"#000000\" stroke-opacity=\"1\" stroke-width=\"3.2\"/>\n",
       "<circle clip-path=\"url(#clip792)\" cx=\"1301.3\" cy=\"347.637\" r=\"14\" fill=\"#009af9\" fill-rule=\"evenodd\" fill-opacity=\"1\" stroke=\"#000000\" stroke-opacity=\"1\" stroke-width=\"3.2\"/>\n",
       "<circle clip-path=\"url(#clip792)\" cx=\"1797.27\" cy=\"1384.24\" r=\"14\" fill=\"#009af9\" fill-rule=\"evenodd\" fill-opacity=\"1\" stroke=\"#000000\" stroke-opacity=\"1\" stroke-width=\"3.2\"/>\n",
       "<circle clip-path=\"url(#clip792)\" cx=\"2293.24\" cy=\"685.304\" r=\"14\" fill=\"#009af9\" fill-rule=\"evenodd\" fill-opacity=\"1\" stroke=\"#000000\" stroke-opacity=\"1\" stroke-width=\"3.2\"/>\n",
       "<path clip-path=\"url(#clip790)\" d=\"\n",
       "M1996.57 196.789 L2282.66 196.789 L2282.66 93.1086 L1996.57 93.1086  Z\n",
       "  \" fill=\"#ffffff\" fill-rule=\"evenodd\" fill-opacity=\"1\"/>\n",
       "<polyline clip-path=\"url(#clip790)\" style=\"stroke:#000000; stroke-linecap:butt; stroke-linejoin:round; stroke-width:4; stroke-opacity:1; fill:none\" points=\"\n",
       "  1996.57,196.789 2282.66,196.789 2282.66,93.1086 1996.57,93.1086 1996.57,196.789 \n",
       "  \"/>\n",
       "<circle clip-path=\"url(#clip790)\" cx=\"2090.03\" cy=\"144.949\" r=\"23\" fill=\"#009af9\" fill-rule=\"evenodd\" fill-opacity=\"1\" stroke=\"#000000\" stroke-opacity=\"1\" stroke-width=\"5.12\"/>\n",
       "<path clip-path=\"url(#clip790)\" d=\"M2197.34 164.636 Q2195.53 169.266 2193.82 170.678 Q2192.11 172.09 2189.24 172.09 L2185.84 172.09 L2185.84 168.525 L2188.34 168.525 Q2190.09 168.525 2191.07 167.692 Q2192.04 166.858 2193.22 163.756 L2193.98 161.812 L2183.5 136.303 L2188.01 136.303 L2196.11 156.581 L2204.21 136.303 L2208.73 136.303 L2197.34 164.636 Z\" fill=\"#000000\" fill-rule=\"evenodd\" fill-opacity=\"1\" /><path clip-path=\"url(#clip790)\" d=\"M2216.02 158.293 L2223.66 158.293 L2223.66 131.928 L2215.35 133.595 L2215.35 129.335 L2223.61 127.669 L2228.29 127.669 L2228.29 158.293 L2235.93 158.293 L2235.93 162.229 L2216.02 162.229 L2216.02 158.293 Z\" fill=\"#000000\" fill-rule=\"evenodd\" fill-opacity=\"1\" /></svg>\n"
      ]
     },
     "execution_count": 12,
     "metadata": {},
     "output_type": "execute_result"
    }
   ],
   "source": [
    "scatter([4,6,7,8],[meanPe4,meanPe6,meanPe7,meanPe8],xlabel=\"Grid Peclet number\",ylabel=\"heat conductivity\")"
   ]
  },
  {
   "cell_type": "code",
   "execution_count": 13,
   "metadata": {},
   "outputs": [
    {
     "data": {
      "image/svg+xml": [
       "<?xml version=\"1.0\" encoding=\"utf-8\"?>\n",
       "<svg xmlns=\"http://www.w3.org/2000/svg\" xmlns:xlink=\"http://www.w3.org/1999/xlink\" width=\"600\" height=\"400\" viewBox=\"0 0 2400 1600\">\n",
       "<defs>\n",
       "  <clipPath id=\"clip830\">\n",
       "    <rect x=\"0\" y=\"0\" width=\"2400\" height=\"1600\"/>\n",
       "  </clipPath>\n",
       "</defs>\n",
       "<path clip-path=\"url(#clip830)\" d=\"\n",
       "M0 1600 L2400 1600 L2400 0 L0 0  Z\n",
       "  \" fill=\"#ffffff\" fill-rule=\"evenodd\" fill-opacity=\"1\"/>\n",
       "<defs>\n",
       "  <clipPath id=\"clip831\">\n",
       "    <rect x=\"480\" y=\"0\" width=\"1681\" height=\"1600\"/>\n",
       "  </clipPath>\n",
       "</defs>\n",
       "<path clip-path=\"url(#clip830)\" d=\"\n",
       "M138.959 1486.45 L2352.76 1486.45 L2352.76 47.2441 L138.959 47.2441  Z\n",
       "  \" fill=\"#ffffff\" fill-rule=\"evenodd\" fill-opacity=\"1\"/>\n",
       "<defs>\n",
       "  <clipPath id=\"clip832\">\n",
       "    <rect x=\"138\" y=\"47\" width=\"2215\" height=\"1440\"/>\n",
       "  </clipPath>\n",
       "</defs>\n",
       "<polyline clip-path=\"url(#clip832)\" style=\"stroke:#000000; stroke-linecap:butt; stroke-linejoin:round; stroke-width:2; stroke-opacity:0.1; fill:none\" points=\"\n",
       "  198.131,1486.45 198.131,47.2441 \n",
       "  \"/>\n",
       "<polyline clip-path=\"url(#clip832)\" style=\"stroke:#000000; stroke-linecap:butt; stroke-linejoin:round; stroke-width:2; stroke-opacity:0.1; fill:none\" points=\"\n",
       "  895.456,1486.45 895.456,47.2441 \n",
       "  \"/>\n",
       "<polyline clip-path=\"url(#clip832)\" style=\"stroke:#000000; stroke-linecap:butt; stroke-linejoin:round; stroke-width:2; stroke-opacity:0.1; fill:none\" points=\"\n",
       "  1592.78,1486.45 1592.78,47.2441 \n",
       "  \"/>\n",
       "<polyline clip-path=\"url(#clip832)\" style=\"stroke:#000000; stroke-linecap:butt; stroke-linejoin:round; stroke-width:2; stroke-opacity:0.1; fill:none\" points=\"\n",
       "  2290.1,1486.45 2290.1,47.2441 \n",
       "  \"/>\n",
       "<polyline clip-path=\"url(#clip830)\" style=\"stroke:#000000; stroke-linecap:butt; stroke-linejoin:round; stroke-width:4; stroke-opacity:1; fill:none\" points=\"\n",
       "  138.959,1486.45 2352.76,1486.45 \n",
       "  \"/>\n",
       "<polyline clip-path=\"url(#clip830)\" style=\"stroke:#000000; stroke-linecap:butt; stroke-linejoin:round; stroke-width:4; stroke-opacity:1; fill:none\" points=\"\n",
       "  198.131,1486.45 198.131,1467.55 \n",
       "  \"/>\n",
       "<polyline clip-path=\"url(#clip830)\" style=\"stroke:#000000; stroke-linecap:butt; stroke-linejoin:round; stroke-width:4; stroke-opacity:1; fill:none\" points=\"\n",
       "  895.456,1486.45 895.456,1467.55 \n",
       "  \"/>\n",
       "<polyline clip-path=\"url(#clip830)\" style=\"stroke:#000000; stroke-linecap:butt; stroke-linejoin:round; stroke-width:4; stroke-opacity:1; fill:none\" points=\"\n",
       "  1592.78,1486.45 1592.78,1467.55 \n",
       "  \"/>\n",
       "<polyline clip-path=\"url(#clip830)\" style=\"stroke:#000000; stroke-linecap:butt; stroke-linejoin:round; stroke-width:4; stroke-opacity:1; fill:none\" points=\"\n",
       "  2290.1,1486.45 2290.1,1467.55 \n",
       "  \"/>\n",
       "<path clip-path=\"url(#clip830)\" d=\"M198.131 1517.37 Q194.52 1517.37 192.691 1520.93 Q190.886 1524.47 190.886 1531.6 Q190.886 1538.71 192.691 1542.27 Q194.52 1545.82 198.131 1545.82 Q201.765 1545.82 203.571 1542.27 Q205.399 1538.71 205.399 1531.6 Q205.399 1524.47 203.571 1520.93 Q201.765 1517.37 198.131 1517.37 M198.131 1513.66 Q203.941 1513.66 206.997 1518.27 Q210.075 1522.85 210.075 1531.6 Q210.075 1540.33 206.997 1544.94 Q203.941 1549.52 198.131 1549.52 Q192.321 1549.52 189.242 1544.94 Q186.187 1540.33 186.187 1531.6 Q186.187 1522.85 189.242 1518.27 Q192.321 1513.66 198.131 1513.66 Z\" fill=\"#000000\" fill-rule=\"evenodd\" fill-opacity=\"1\" /><path clip-path=\"url(#clip830)\" d=\"M855.062 1544.91 L862.701 1544.91 L862.701 1518.55 L854.391 1520.21 L854.391 1515.95 L862.655 1514.29 L867.331 1514.29 L867.331 1544.91 L874.97 1544.91 L874.97 1548.85 L855.062 1548.85 L855.062 1544.91 Z\" fill=\"#000000\" fill-rule=\"evenodd\" fill-opacity=\"1\" /><path clip-path=\"url(#clip830)\" d=\"M894.414 1517.37 Q890.803 1517.37 888.974 1520.93 Q887.169 1524.47 887.169 1531.6 Q887.169 1538.71 888.974 1542.27 Q890.803 1545.82 894.414 1545.82 Q898.048 1545.82 899.854 1542.27 Q901.682 1538.71 901.682 1531.6 Q901.682 1524.47 899.854 1520.93 Q898.048 1517.37 894.414 1517.37 M894.414 1513.66 Q900.224 1513.66 903.28 1518.27 Q906.358 1522.85 906.358 1531.6 Q906.358 1540.33 903.28 1544.94 Q900.224 1549.52 894.414 1549.52 Q888.604 1549.52 885.525 1544.94 Q882.469 1540.33 882.469 1531.6 Q882.469 1522.85 885.525 1518.27 Q888.604 1513.66 894.414 1513.66 Z\" fill=\"#000000\" fill-rule=\"evenodd\" fill-opacity=\"1\" /><path clip-path=\"url(#clip830)\" d=\"M924.576 1517.37 Q920.965 1517.37 919.136 1520.93 Q917.33 1524.47 917.33 1531.6 Q917.33 1538.71 919.136 1542.27 Q920.965 1545.82 924.576 1545.82 Q928.21 1545.82 930.016 1542.27 Q931.844 1538.71 931.844 1531.6 Q931.844 1524.47 930.016 1520.93 Q928.21 1517.37 924.576 1517.37 M924.576 1513.66 Q930.386 1513.66 933.441 1518.27 Q936.52 1522.85 936.52 1531.6 Q936.52 1540.33 933.441 1544.94 Q930.386 1549.52 924.576 1549.52 Q918.766 1549.52 915.687 1544.94 Q912.631 1540.33 912.631 1531.6 Q912.631 1522.85 915.687 1518.27 Q918.766 1513.66 924.576 1513.66 Z\" fill=\"#000000\" fill-rule=\"evenodd\" fill-opacity=\"1\" /><path clip-path=\"url(#clip830)\" d=\"M1556.47 1544.91 L1572.79 1544.91 L1572.79 1548.85 L1550.85 1548.85 L1550.85 1544.91 Q1553.51 1542.16 1558.09 1537.53 Q1562.7 1532.88 1563.88 1531.53 Q1566.13 1529.01 1567 1527.27 Q1567.91 1525.51 1567.91 1523.82 Q1567.91 1521.07 1565.96 1519.33 Q1564.04 1517.6 1560.94 1517.6 Q1558.74 1517.6 1556.29 1518.36 Q1553.86 1519.13 1551.08 1520.68 L1551.08 1515.95 Q1553.9 1514.82 1556.36 1514.24 Q1558.81 1513.66 1560.85 1513.66 Q1566.22 1513.66 1569.41 1516.35 Q1572.61 1519.03 1572.61 1523.52 Q1572.61 1525.65 1571.8 1527.57 Q1571.01 1529.47 1568.9 1532.07 Q1568.32 1532.74 1565.22 1535.95 Q1562.12 1539.15 1556.47 1544.91 Z\" fill=\"#000000\" fill-rule=\"evenodd\" fill-opacity=\"1\" /><path clip-path=\"url(#clip830)\" d=\"M1592.61 1517.37 Q1589 1517.37 1587.17 1520.93 Q1585.36 1524.47 1585.36 1531.6 Q1585.36 1538.71 1587.17 1542.27 Q1589 1545.82 1592.61 1545.82 Q1596.24 1545.82 1598.05 1542.27 Q1599.88 1538.71 1599.88 1531.6 Q1599.88 1524.47 1598.05 1520.93 Q1596.24 1517.37 1592.61 1517.37 M1592.61 1513.66 Q1598.42 1513.66 1601.47 1518.27 Q1604.55 1522.85 1604.55 1531.6 Q1604.55 1540.33 1601.47 1544.94 Q1598.42 1549.52 1592.61 1549.52 Q1586.8 1549.52 1583.72 1544.94 Q1580.66 1540.33 1580.66 1531.6 Q1580.66 1522.85 1583.72 1518.27 Q1586.8 1513.66 1592.61 1513.66 Z\" fill=\"#000000\" fill-rule=\"evenodd\" fill-opacity=\"1\" /><path clip-path=\"url(#clip830)\" d=\"M1622.77 1517.37 Q1619.16 1517.37 1617.33 1520.93 Q1615.52 1524.47 1615.52 1531.6 Q1615.52 1538.71 1617.33 1542.27 Q1619.16 1545.82 1622.77 1545.82 Q1626.4 1545.82 1628.21 1542.27 Q1630.04 1538.71 1630.04 1531.6 Q1630.04 1524.47 1628.21 1520.93 Q1626.4 1517.37 1622.77 1517.37 M1622.77 1513.66 Q1628.58 1513.66 1631.63 1518.27 Q1634.71 1522.85 1634.71 1531.6 Q1634.71 1540.33 1631.63 1544.94 Q1628.58 1549.52 1622.77 1549.52 Q1616.96 1549.52 1613.88 1544.94 Q1610.82 1540.33 1610.82 1531.6 Q1610.82 1522.85 1613.88 1518.27 Q1616.96 1513.66 1622.77 1513.66 Z\" fill=\"#000000\" fill-rule=\"evenodd\" fill-opacity=\"1\" /><path clip-path=\"url(#clip830)\" d=\"M2263.87 1530.21 Q2267.22 1530.93 2269.1 1533.2 Q2271 1535.47 2271 1538.8 Q2271 1543.92 2267.48 1546.72 Q2263.96 1549.52 2257.48 1549.52 Q2255.3 1549.52 2252.99 1549.08 Q2250.7 1548.66 2248.24 1547.81 L2248.24 1543.29 Q2250.19 1544.43 2252.5 1545.01 Q2254.82 1545.58 2257.34 1545.58 Q2261.74 1545.58 2264.03 1543.85 Q2266.34 1542.11 2266.34 1538.8 Q2266.34 1535.75 2264.19 1534.03 Q2262.06 1532.3 2258.24 1532.3 L2254.21 1532.3 L2254.21 1528.45 L2258.43 1528.45 Q2261.88 1528.45 2263.7 1527.09 Q2265.53 1525.7 2265.53 1523.11 Q2265.53 1520.45 2263.64 1519.03 Q2261.76 1517.6 2258.24 1517.6 Q2256.32 1517.6 2254.12 1518.01 Q2251.92 1518.43 2249.28 1519.31 L2249.28 1515.14 Q2251.95 1514.4 2254.26 1514.03 Q2256.6 1513.66 2258.66 1513.66 Q2263.98 1513.66 2267.08 1516.09 Q2270.19 1518.5 2270.19 1522.62 Q2270.19 1525.49 2268.54 1527.48 Q2266.9 1529.45 2263.87 1530.21 Z\" fill=\"#000000\" fill-rule=\"evenodd\" fill-opacity=\"1\" /><path clip-path=\"url(#clip830)\" d=\"M2289.86 1517.37 Q2286.25 1517.37 2284.42 1520.93 Q2282.62 1524.47 2282.62 1531.6 Q2282.62 1538.71 2284.42 1542.27 Q2286.25 1545.82 2289.86 1545.82 Q2293.5 1545.82 2295.3 1542.27 Q2297.13 1538.71 2297.13 1531.6 Q2297.13 1524.47 2295.3 1520.93 Q2293.5 1517.37 2289.86 1517.37 M2289.86 1513.66 Q2295.67 1513.66 2298.73 1518.27 Q2301.81 1522.85 2301.81 1531.6 Q2301.81 1540.33 2298.73 1544.94 Q2295.67 1549.52 2289.86 1549.52 Q2284.05 1549.52 2280.97 1544.94 Q2277.92 1540.33 2277.92 1531.6 Q2277.92 1522.85 2280.97 1518.27 Q2284.05 1513.66 2289.86 1513.66 Z\" fill=\"#000000\" fill-rule=\"evenodd\" fill-opacity=\"1\" /><path clip-path=\"url(#clip830)\" d=\"M2320.02 1517.37 Q2316.41 1517.37 2314.58 1520.93 Q2312.78 1524.47 2312.78 1531.6 Q2312.78 1538.71 2314.58 1542.27 Q2316.41 1545.82 2320.02 1545.82 Q2323.66 1545.82 2325.46 1542.27 Q2327.29 1538.71 2327.29 1531.6 Q2327.29 1524.47 2325.46 1520.93 Q2323.66 1517.37 2320.02 1517.37 M2320.02 1513.66 Q2325.83 1513.66 2328.89 1518.27 Q2331.97 1522.85 2331.97 1531.6 Q2331.97 1540.33 2328.89 1544.94 Q2325.83 1549.52 2320.02 1549.52 Q2314.21 1549.52 2311.13 1544.94 Q2308.08 1540.33 2308.08 1531.6 Q2308.08 1522.85 2311.13 1518.27 Q2314.21 1513.66 2320.02 1513.66 Z\" fill=\"#000000\" fill-rule=\"evenodd\" fill-opacity=\"1\" /><polyline clip-path=\"url(#clip832)\" style=\"stroke:#000000; stroke-linecap:butt; stroke-linejoin:round; stroke-width:2; stroke-opacity:0.1; fill:none\" points=\"\n",
       "  138.959,1486.45 2352.76,1486.45 \n",
       "  \"/>\n",
       "<polyline clip-path=\"url(#clip832)\" style=\"stroke:#000000; stroke-linecap:butt; stroke-linejoin:round; stroke-width:2; stroke-opacity:0.1; fill:none\" points=\"\n",
       "  138.959,1006.71 2352.76,1006.71 \n",
       "  \"/>\n",
       "<polyline clip-path=\"url(#clip832)\" style=\"stroke:#000000; stroke-linecap:butt; stroke-linejoin:round; stroke-width:2; stroke-opacity:0.1; fill:none\" points=\"\n",
       "  138.959,526.979 2352.76,526.979 \n",
       "  \"/>\n",
       "<polyline clip-path=\"url(#clip832)\" style=\"stroke:#000000; stroke-linecap:butt; stroke-linejoin:round; stroke-width:2; stroke-opacity:0.1; fill:none\" points=\"\n",
       "  138.959,47.2441 2352.76,47.2441 \n",
       "  \"/>\n",
       "<polyline clip-path=\"url(#clip830)\" style=\"stroke:#000000; stroke-linecap:butt; stroke-linejoin:round; stroke-width:4; stroke-opacity:1; fill:none\" points=\"\n",
       "  138.959,1486.45 138.959,47.2441 \n",
       "  \"/>\n",
       "<polyline clip-path=\"url(#clip830)\" style=\"stroke:#000000; stroke-linecap:butt; stroke-linejoin:round; stroke-width:4; stroke-opacity:1; fill:none\" points=\"\n",
       "  138.959,1486.45 157.857,1486.45 \n",
       "  \"/>\n",
       "<polyline clip-path=\"url(#clip830)\" style=\"stroke:#000000; stroke-linecap:butt; stroke-linejoin:round; stroke-width:4; stroke-opacity:1; fill:none\" points=\"\n",
       "  138.959,1006.71 157.857,1006.71 \n",
       "  \"/>\n",
       "<polyline clip-path=\"url(#clip830)\" style=\"stroke:#000000; stroke-linecap:butt; stroke-linejoin:round; stroke-width:4; stroke-opacity:1; fill:none\" points=\"\n",
       "  138.959,526.979 157.857,526.979 \n",
       "  \"/>\n",
       "<polyline clip-path=\"url(#clip830)\" style=\"stroke:#000000; stroke-linecap:butt; stroke-linejoin:round; stroke-width:4; stroke-opacity:1; fill:none\" points=\"\n",
       "  138.959,47.2441 157.857,47.2441 \n",
       "  \"/>\n",
       "<path clip-path=\"url(#clip830)\" d=\"M91.0151 1472.25 Q87.404 1472.25 85.5753 1475.81 Q83.7697 1479.35 83.7697 1486.48 Q83.7697 1493.59 85.5753 1497.15 Q87.404 1500.7 91.0151 1500.7 Q94.6493 1500.7 96.4548 1497.15 Q98.2835 1493.59 98.2835 1486.48 Q98.2835 1479.35 96.4548 1475.81 Q94.6493 1472.25 91.0151 1472.25 M91.0151 1468.54 Q96.8252 1468.54 99.8808 1473.15 Q102.959 1477.73 102.959 1486.48 Q102.959 1495.21 99.8808 1499.82 Q96.8252 1504.4 91.0151 1504.4 Q85.2049 1504.4 82.1262 1499.82 Q79.0707 1495.21 79.0707 1486.48 Q79.0707 1477.73 82.1262 1473.15 Q85.2049 1468.54 91.0151 1468.54 Z\" fill=\"#000000\" fill-rule=\"evenodd\" fill-opacity=\"1\" /><path clip-path=\"url(#clip830)\" d=\"M82.0568 989.433 L100.413 989.433 L100.413 993.368 L86.3392 993.368 L86.3392 1001.84 Q87.3577 1001.49 88.3762 1001.33 Q89.3947 1001.15 90.4132 1001.15 Q96.2002 1001.15 99.5798 1004.32 Q102.959 1007.49 102.959 1012.91 Q102.959 1018.48 99.4872 1021.59 Q96.015 1024.66 89.6956 1024.66 Q87.5197 1024.66 85.2512 1024.29 Q83.0058 1023.92 80.5984 1023.18 L80.5984 1018.48 Q82.6818 1019.62 84.904 1020.17 Q87.1262 1020.73 89.603 1020.73 Q93.6076 1020.73 95.9456 1018.62 Q98.2835 1016.52 98.2835 1012.91 Q98.2835 1009.29 95.9456 1007.19 Q93.6076 1005.08 89.603 1005.08 Q87.728 1005.08 85.8531 1005.5 Q84.0012 1005.91 82.0568 1006.79 L82.0568 989.433 Z\" fill=\"#000000\" fill-rule=\"evenodd\" fill-opacity=\"1\" /><path clip-path=\"url(#clip830)\" d=\"M51.6634 540.324 L59.3023 540.324 L59.3023 513.958 L50.9921 515.625 L50.9921 511.365 L59.256 509.699 L63.9319 509.699 L63.9319 540.324 L71.5707 540.324 L71.5707 544.259 L51.6634 544.259 L51.6634 540.324 Z\" fill=\"#000000\" fill-rule=\"evenodd\" fill-opacity=\"1\" /><path clip-path=\"url(#clip830)\" d=\"M91.0151 512.777 Q87.404 512.777 85.5753 516.342 Q83.7697 519.884 83.7697 527.013 Q83.7697 534.12 85.5753 537.685 Q87.404 541.226 91.0151 541.226 Q94.6493 541.226 96.4548 537.685 Q98.2835 534.12 98.2835 527.013 Q98.2835 519.884 96.4548 516.342 Q94.6493 512.777 91.0151 512.777 M91.0151 509.074 Q96.8252 509.074 99.8808 513.68 Q102.959 518.263 102.959 527.013 Q102.959 535.74 99.8808 540.347 Q96.8252 544.93 91.0151 544.93 Q85.2049 544.93 82.1262 540.347 Q79.0707 535.74 79.0707 527.013 Q79.0707 518.263 82.1262 513.68 Q85.2049 509.074 91.0151 509.074 Z\" fill=\"#000000\" fill-rule=\"evenodd\" fill-opacity=\"1\" /><path clip-path=\"url(#clip830)\" d=\"M52.6588 60.5889 L60.2976 60.5889 L60.2976 34.2233 L51.9875 35.89 L51.9875 31.6308 L60.2513 29.9641 L64.9272 29.9641 L64.9272 60.5889 L72.5661 60.5889 L72.5661 64.5241 L52.6588 64.5241 L52.6588 60.5889 Z\" fill=\"#000000\" fill-rule=\"evenodd\" fill-opacity=\"1\" /><path clip-path=\"url(#clip830)\" d=\"M82.0568 29.9641 L100.413 29.9641 L100.413 33.8993 L86.3392 33.8993 L86.3392 42.3714 Q87.3577 42.0242 88.3762 41.8622 Q89.3947 41.677 90.4132 41.677 Q96.2002 41.677 99.5798 44.8483 Q102.959 48.0196 102.959 53.4362 Q102.959 59.0149 99.4872 62.1167 Q96.015 65.1954 89.6956 65.1954 Q87.5197 65.1954 85.2512 64.825 Q83.0058 64.4547 80.5984 63.7139 L80.5984 59.0149 Q82.6818 60.1491 84.904 60.7047 Q87.1262 61.2602 89.603 61.2602 Q93.6076 61.2602 95.9456 59.1538 Q98.2835 57.0473 98.2835 53.4362 Q98.2835 49.8251 95.9456 47.7186 Q93.6076 45.6122 89.603 45.6122 Q87.728 45.6122 85.8531 46.0288 Q84.0012 46.4455 82.0568 47.3251 L82.0568 29.9641 Z\" fill=\"#000000\" fill-rule=\"evenodd\" fill-opacity=\"1\" /><polyline clip-path=\"url(#clip832)\" style=\"stroke:#009af9; stroke-linecap:butt; stroke-linejoin:round; stroke-width:8; stroke-opacity:1; fill:none\" points=\"\n",
       "  205.101,-1863.41 212.074,-727.861 219.047,-349.884 226.02,7.36691 232.994,338.241 239.967,295.08 246.94,347.095 253.913,406.788 260.887,454.079 267.86,530.559 \n",
       "  274.833,541.973 281.806,562.441 288.78,627.511 295.753,646.475 302.726,749.26 309.699,744.139 316.673,758.335 323.646,755.062 330.619,718.756 337.592,768.912 \n",
       "  344.566,788.451 351.539,745.147 358.512,726.873 365.485,784.36 372.459,750.797 379.432,787.476 386.405,779.004 393.378,828.261 400.352,806.765 407.325,842.851 \n",
       "  414.298,792.019 421.271,762.887 428.245,794.468 435.218,786.703 442.191,802.415 449.164,815.53 456.138,826.131 463.111,812.903 470.084,802.552 477.057,842.996 \n",
       "  484.031,911.368 491.004,817.45 497.977,816.1 504.95,806.288 511.924,837.633 518.897,826.699 525.87,819.678 532.843,816.89 539.816,834.13 546.79,850.723 \n",
       "  553.763,821.467 560.736,829.577 567.709,804.657 574.683,816.496 581.656,820.189 588.629,832.214 595.602,814.809 602.576,806.165 609.549,825.978 616.522,824.483 \n",
       "  623.495,858.238 630.469,864.479 637.442,860.869 644.415,842.635 651.388,858.012 658.362,790.33 665.335,796.408 672.308,855.569 679.281,839.443 686.255,807.658 \n",
       "  693.228,817.97 700.201,821.013 707.174,812.887 714.148,820.854 721.121,825.901 728.094,836.705 735.067,848.521 742.041,859.88 749.014,870.82 755.987,859.767 \n",
       "  762.96,827.316 769.934,859.102 776.907,862.739 783.88,842.057 790.853,823.695 797.827,831.332 804.8,840.223 811.773,867.998 818.746,829.97 825.72,861.608 \n",
       "  832.693,825.18 839.666,817.997 846.639,828.646 853.613,841.167 860.586,822.265 867.559,874.976 874.532,881.591 881.506,882.29 888.479,873.906 895.452,865.041 \n",
       "  902.425,859.303 909.399,857.98 916.372,860.249 923.345,834.719 930.318,849.49 937.292,855.488 944.265,860.192 951.238,842.624 958.211,829.667 965.185,839.168 \n",
       "  972.158,872.785 979.131,869.528 986.104,843.945 993.077,826.439 1000.05,828.064 1007.02,804.982 1014,822.74 1020.97,850.708 1027.94,856.38 1034.92,822.577 \n",
       "  1041.89,841.743 1048.86,855.77 1055.84,878.605 1062.81,800.112 1069.78,836.352 1076.76,835.06 1083.73,845.011 1090.7,828.653 1097.68,850.627 1104.65,851.406 \n",
       "  1111.62,777.071 1118.6,792.097 1125.57,840.553 1132.54,838.331 1139.52,856.176 1146.49,879.711 1153.46,842.186 1160.44,890.638 1167.41,841.673 1174.38,863.499 \n",
       "  1181.36,855.486 1188.33,839.775 1195.3,894.024 1202.27,860.462 1209.25,864.864 1216.22,922.227 1223.19,866.855 1230.17,853.104 1237.14,835.156 1244.11,858.51 \n",
       "  1251.09,860.638 1258.06,857.819 1265.03,861.906 1272.01,863.117 1278.98,876.287 1285.95,909.068 1292.93,863.798 1299.9,887.318 1306.87,872.605 1313.85,853.596 \n",
       "  1320.82,825.097 1327.79,839.672 1334.77,847.758 1341.74,851.174 1348.71,853.684 1355.69,868.05 1362.66,849.782 1369.63,851.867 1376.61,852.49 1383.58,846.366 \n",
       "  1390.55,867.652 1397.53,834.444 1404.5,848.711 1411.47,846.609 1418.45,808.724 1425.42,823.197 1432.39,827.986 1439.37,837.508 1446.34,843.979 1453.31,851.428 \n",
       "  1460.28,851.53 1467.26,841.203 1474.23,850.446 1481.2,813.491 1488.18,840.805 1495.15,842.917 1502.12,862.542 1509.1,884.395 1516.07,860.191 1523.04,881.796 \n",
       "  1530.02,883.639 1536.99,926.049 1543.96,876.437 1550.94,858.979 1557.91,878.07 1564.88,834.094 1571.86,884.577 1578.83,843.654 1585.8,912.505 1592.78,877.89 \n",
       "  1599.75,897.946 1606.72,874.529 1613.7,883.489 1620.67,838.791 1627.64,869.987 1634.62,868.758 1641.59,840.055 1648.56,872.507 1655.54,856.133 1662.51,835.488 \n",
       "  1669.48,839.582 1676.46,835.534 1683.43,843.624 1690.4,829.915 1697.38,819.733 1704.35,835.847 1711.32,848.309 1718.3,815.584 1725.27,847.502 1732.24,867.533 \n",
       "  1739.21,839.136 1746.19,860.749 1753.16,820.243 1760.13,838.451 1767.11,845.724 1774.08,818.789 1781.05,896.432 1788.03,896.368 1795,823.768 1801.97,845.025 \n",
       "  1808.95,855.773 1815.92,865.549 1822.89,860.458 1829.87,868.018 1836.84,827.869 1843.81,835.414 1850.79,840.926 1857.76,840.1 1864.73,837.055 1871.71,819.601 \n",
       "  1878.68,839.233 1885.65,829.374 1892.63,876.636 1899.6,852.479 1906.57,867.697 1913.55,847.181 1920.52,876.57 1927.49,856.525 1934.47,862.912 1941.44,866.239 \n",
       "  1948.41,857.084 1955.39,829.062 1962.36,839.687 1969.33,826.528 1976.31,833.196 1983.28,841.33 1990.25,831.001 1997.22,882.453 2004.2,846.8 2011.17,842.485 \n",
       "  2018.14,848.925 2025.12,851.685 2032.09,871.129 2039.06,872.476 2046.04,858.936 2053.01,901.573 2059.98,863.659 2066.96,866.137 2073.93,891.681 2080.9,840.7 \n",
       "  2087.88,838.472 2094.85,859.36 2101.82,831.494 2108.8,903.955 2115.77,859.199 2122.74,834.639 2129.72,853.936 2136.69,828.353 2143.66,840.993 2150.64,826.753 \n",
       "  2157.61,820.222 2164.58,823.097 2171.56,807.844 2178.53,836.372 2185.5,837.244 2192.48,854.705 2199.45,811.148 2206.42,876.291 2213.4,838.107 2220.37,856.948 \n",
       "  2227.34,838.753 2234.32,839.087 2241.29,809.791 2248.26,857.989 2255.24,828.077 2262.21,819.752 2269.18,823.227 2276.15,833.89 2283.13,843.762 2290.1,868.145 \n",
       "  \n",
       "  \"/>\n",
       "<polyline clip-path=\"url(#clip832)\" style=\"stroke:#e26f46; stroke-linecap:butt; stroke-linejoin:round; stroke-width:8; stroke-opacity:1; fill:none\" points=\"\n",
       "  205.101,-1931.78 212.074,-781.713 219.047,-231.124 226.02,21.2227 232.994,94.263 239.967,353.547 246.94,293.963 253.913,432.605 260.887,411.604 267.86,432.52 \n",
       "  274.833,590.368 281.806,587.216 288.78,638.908 295.753,707.674 302.726,720.318 309.699,771.839 316.673,736.382 323.646,778.096 330.619,740.266 337.592,765.811 \n",
       "  344.566,754.336 351.539,730.869 358.512,748.868 365.485,778.884 372.459,781.436 379.432,781.551 386.405,780.572 393.378,758.194 400.352,813.997 407.325,800.298 \n",
       "  414.298,784.697 421.271,768.175 428.245,786.939 435.218,838.97 442.191,793.746 449.164,823.643 456.138,803.015 463.111,828.583 470.084,834.259 477.057,830.859 \n",
       "  484.031,887.896 491.004,869.112 497.977,868.021 504.95,864.771 511.924,846.955 518.897,860.666 525.87,882.336 532.843,859.832 539.816,883.078 546.79,876.151 \n",
       "  553.763,887.989 560.736,879.558 567.709,887.269 574.683,869.934 581.656,876.34 588.629,837.309 595.602,877.38 602.576,830.336 609.549,845.042 616.522,822.378 \n",
       "  623.495,846.566 630.469,877.386 637.442,855.802 644.415,877.439 651.388,831.337 658.362,841.11 665.335,809.7 672.308,807.96 679.281,815.759 686.255,828.589 \n",
       "  693.228,821.148 700.201,841.45 707.174,862.929 714.148,812.016 721.121,826.933 728.094,853.764 735.067,828.62 742.041,928.366 749.014,859.831 755.987,841.721 \n",
       "  762.96,848.035 769.934,826.173 776.907,862.114 783.88,856.316 790.853,836.307 797.827,834.8 804.8,836.035 811.773,867.036 818.746,896.376 825.72,847.724 \n",
       "  832.693,864.694 839.666,840.267 846.639,865.118 853.613,857.366 860.586,927.003 867.559,894.66 874.532,901.083 881.506,842.613 888.479,867.362 895.452,861.484 \n",
       "  902.425,861.133 909.399,853.639 916.372,887.734 923.345,857.402 930.318,871.515 937.292,865.105 944.265,859.58 951.238,838.921 958.211,866.364 965.185,834.231 \n",
       "  972.158,856.573 979.131,882.586 986.104,852.389 993.077,883.026 1000.05,891.135 1007.02,860.905 1014,857.053 1020.97,841.436 1027.94,873.484 1034.92,873.578 \n",
       "  1041.89,916.739 1048.86,881.043 1055.84,860.004 1062.81,869.657 1069.78,887.958 1076.76,875.77 1083.73,887.754 1090.7,836.562 1097.68,876.346 1104.65,872.353 \n",
       "  1111.62,856.36 1118.6,831.325 1125.57,847.175 1132.54,835.083 1139.52,852.821 1146.49,834.484 1153.46,841.619 1160.44,814.363 1167.41,835.572 1174.38,870.961 \n",
       "  1181.36,867.011 1188.33,869.797 1195.3,848.727 1202.27,856.649 1209.25,854.752 1216.22,834.412 1223.19,854.498 1230.17,845.9 1237.14,844.462 1244.11,835.697 \n",
       "  1251.09,853.114 1258.06,845.077 1265.03,858.881 1272.01,847.468 1278.98,872.291 1285.95,866.98 1292.93,868.477 1299.9,818.415 1306.87,825.694 1313.85,840.041 \n",
       "  1320.82,795.494 1327.79,841.431 1334.77,833.306 1341.74,857.331 1348.71,821.981 1355.69,823.032 1362.66,815.214 1369.63,836.409 1376.61,834.562 1383.58,816.585 \n",
       "  1390.55,824.025 1397.53,822.822 1404.5,856.008 1411.47,840.964 1418.45,847.007 1425.42,831.467 1432.39,805.161 1439.37,827.439 1446.34,847.392 1453.31,835.114 \n",
       "  1460.28,835.67 1467.26,827.952 1474.23,836.377 1481.2,826.563 1488.18,836.572 1495.15,861.653 1502.12,865.013 1509.1,908.663 1516.07,871.926 1523.04,857.98 \n",
       "  1530.02,842.535 1536.99,870.085 1543.96,848.999 1550.94,835.456 1557.91,844.501 1564.88,824.154 1571.86,833.528 1578.83,843.518 1585.8,822.832 1592.78,842.619 \n",
       "  1599.75,833.336 1606.72,861.102 1613.7,830.549 1620.67,842.756 1627.64,846.642 1634.62,861.09 1641.59,858.915 1648.56,832.293 1655.54,839.144 1662.51,844.075 \n",
       "  1669.48,845.728 1676.46,840.693 1683.43,851.704 1690.4,856.691 1697.38,832.983 1704.35,838.451 1711.32,832.143 1718.3,835.013 1725.27,853.427 1732.24,842.658 \n",
       "  1739.21,818.603 1746.19,818.869 1753.16,820.664 1760.13,796.457 1767.11,789.222 1774.08,811.522 1781.05,795.132 1788.03,861.941 1795,808.897 1801.97,874.169 \n",
       "  1808.95,816.359 1815.92,848.155 1822.89,840.565 1829.87,818.209 1836.84,822.292 1843.81,808.605 1850.79,850.999 1857.76,842.522 1864.73,895.827 1871.71,901.851 \n",
       "  1878.68,858.098 1885.65,835.432 1892.63,853.666 1899.6,832.864 1906.57,852.447 1913.55,854.987 1920.52,843.918 1927.49,851.311 1934.47,835.099 1941.44,841.234 \n",
       "  1948.41,851.195 1955.39,833.546 1962.36,835.259 1969.33,851.51 1976.31,866.593 1983.28,857.276 1990.25,884.031 1997.22,905.05 2004.2,844.366 2011.17,836.357 \n",
       "  2018.14,840.361 2025.12,857.848 2032.09,832.225 2039.06,840.985 2046.04,880.094 2053.01,851.47 2059.98,862.046 2066.96,881.152 2073.93,865.778 2080.9,869.673 \n",
       "  2087.88,883.265 2094.85,830.895 2101.82,841.71 2108.8,855.609 2115.77,837.439 2122.74,832.193 2129.72,880.851 2136.69,872.478 2143.66,864.674 2150.64,878.195 \n",
       "  2157.61,879.413 2164.58,869.242 2171.56,862.846 2178.53,851.26 2185.5,879.453 2192.48,857.685 2199.45,845.182 2206.42,897.481 2213.4,861.023 2220.37,864.615 \n",
       "  2227.34,901.33 2234.32,910.244 2241.29,881.981 2248.26,882.084 2255.24,883.289 2262.21,861.144 2269.18,889.038 2276.15,867.192 2283.13,840.677 2290.1,839.78 \n",
       "  \n",
       "  \"/>\n",
       "<polyline clip-path=\"url(#clip832)\" style=\"stroke:#3da44d; stroke-linecap:butt; stroke-linejoin:round; stroke-width:8; stroke-opacity:1; fill:none\" points=\"\n",
       "  205.101,-2047.75 212.074,-693.065 219.047,-30.1114 226.02,11.2723 232.994,176.307 239.967,542.391 246.94,412.783 253.913,453.705 260.887,479.572 267.86,596.295 \n",
       "  274.833,613.25 281.806,584.067 288.78,641.43 295.753,694.943 302.726,666.475 309.699,689.936 316.673,781.253 323.646,722.227 330.619,801.157 337.592,760.289 \n",
       "  344.566,776.838 351.539,790.598 358.512,823.156 365.485,789.974 372.459,769.674 379.432,793.702 386.405,801.43 393.378,827.112 400.352,846.965 407.325,842.096 \n",
       "  414.298,828.024 421.271,791.929 428.245,818.808 435.218,854.887 442.191,869.504 449.164,846.849 456.138,857.095 463.111,865.289 470.084,840.94 477.057,817.49 \n",
       "  484.031,834.289 491.004,828.596 497.977,828.556 504.95,849.24 511.924,821.709 518.897,823.301 525.87,852.687 532.843,895.12 539.816,838.316 546.79,831.849 \n",
       "  553.763,835.766 560.736,874.687 567.709,842.313 574.683,893.509 581.656,858.475 588.629,867.433 595.602,868.138 602.576,855.39 609.549,835.208 616.522,853.852 \n",
       "  623.495,866.425 630.469,856.779 637.442,909.748 644.415,890.706 651.388,885.399 658.362,853.13 665.335,883.443 672.308,896.141 679.281,871.123 686.255,879.294 \n",
       "  693.228,901.184 700.201,903.631 707.174,895.051 714.148,927.788 721.121,916.009 728.094,893.261 735.067,879.118 742.041,868.356 749.014,855.845 755.987,857.915 \n",
       "  762.96,862.174 769.934,855.875 776.907,854.561 783.88,888.201 790.853,895.843 797.827,874.804 804.8,886.74 811.773,869.13 818.746,880.795 825.72,870.04 \n",
       "  832.693,856.301 839.666,866.864 846.639,839.441 853.613,868.593 860.586,858.32 867.559,862.876 874.532,880.482 881.506,874.553 888.479,870.475 895.452,911.603 \n",
       "  902.425,861.852 909.399,877.947 916.372,861.472 923.345,882.481 930.318,893.464 937.292,884.251 944.265,903.844 951.238,897.741 958.211,858.603 965.185,879.619 \n",
       "  972.158,905.588 979.131,878.908 986.104,865.085 993.077,857.301 1000.05,865.229 1007.02,863.337 1014,897.308 1020.97,884.061 1027.94,841.378 1034.92,864.943 \n",
       "  1041.89,869.083 1048.86,863.335 1055.84,856.302 1062.81,855.054 1069.78,853.146 1076.76,858.309 1083.73,892.013 1090.7,900.195 1097.68,858.516 1104.65,865.509 \n",
       "  1111.62,848.382 1118.6,848.032 1125.57,867.199 1132.54,897.013 1139.52,869.929 1146.49,869.741 1153.46,866.201 1160.44,880.729 1167.41,867.204 1174.38,837.546 \n",
       "  1181.36,870.735 1188.33,845.531 1195.3,858.836 1202.27,854.491 1209.25,849.961 1216.22,833.241 1223.19,828.35 1230.17,851.157 1237.14,906.307 1244.11,888.564 \n",
       "  1251.09,882.317 1258.06,866.722 1265.03,890.523 1272.01,879.763 1278.98,869.63 1285.95,866.995 1292.93,876.807 1299.9,875.16 1306.87,863.177 1313.85,855.037 \n",
       "  1320.82,878.677 1327.79,861.913 1334.77,857.913 1341.74,847.751 1348.71,856.349 1355.69,832.952 1362.66,886.217 1369.63,877.769 1376.61,855.795 1383.58,872.097 \n",
       "  1390.55,877.06 1397.53,831.719 1404.5,834.624 1411.47,849.499 1418.45,867.499 1425.42,856.576 1432.39,878.673 1439.37,881.672 1446.34,885.154 1453.31,907.814 \n",
       "  1460.28,881.577 1467.26,911.962 1474.23,901.013 1481.2,872.641 1488.18,887.922 1495.15,911.359 1502.12,897.658 1509.1,917.235 1516.07,906.983 1523.04,884.459 \n",
       "  1530.02,862.917 1536.99,852.695 1543.96,875.96 1550.94,857.566 1557.91,866.924 1564.88,874.229 1571.86,855.272 1578.83,860.396 1585.8,841.217 1592.78,845.584 \n",
       "  1599.75,841.274 1606.72,851.828 1613.7,885.66 1620.67,893.032 1627.64,852.039 1634.62,850.404 1641.59,857.457 1648.56,860.462 1655.54,821.672 1662.51,834.318 \n",
       "  1669.48,840.971 1676.46,833.366 1683.43,841.365 1690.4,874.943 1697.38,867.268 1704.35,876.078 1711.32,880.607 1718.3,869.9 1725.27,843.129 1732.24,843.895 \n",
       "  1739.21,870.971 1746.19,860.465 1753.16,859.528 1760.13,860.593 1767.11,840.648 1774.08,863.328 1781.05,873.879 1788.03,879.674 1795,860.418 1801.97,844.398 \n",
       "  1808.95,872.755 1815.92,872.146 1822.89,886.699 1829.87,878.342 1836.84,886.715 1843.81,878.06 1850.79,866.616 1857.76,846.51 1864.73,852.907 1871.71,844.692 \n",
       "  1878.68,835.57 1885.65,840.654 1892.63,871.108 1899.6,834.077 1906.57,842.381 1913.55,855.489 1920.52,876.203 1927.49,883.734 1934.47,876.308 1941.44,905.662 \n",
       "  1948.41,866.207 1955.39,908.18 1962.36,862.161 1969.33,886.747 1976.31,857.246 1983.28,854.333 1990.25,874.229 1997.22,895.876 2004.2,912.268 2011.17,846.312 \n",
       "  2018.14,841.358 2025.12,886.937 2032.09,881.024 2039.06,890.056 2046.04,914.416 2053.01,920.959 2059.98,876.823 2066.96,864.97 2073.93,888.926 2080.9,894.346 \n",
       "  2087.88,865.204 2094.85,859.573 2101.82,865.094 2108.8,855.381 2115.77,848.661 2122.74,875.913 2129.72,860.291 2136.69,873.088 2143.66,856.183 2150.64,849.145 \n",
       "  2157.61,850.421 2164.58,842.904 2171.56,847.673 2178.53,835.308 2185.5,834.363 2192.48,834.538 2199.45,875.402 2206.42,855.797 2213.4,824.562 2220.37,816.919 \n",
       "  2227.34,826.523 2234.32,829.084 2241.29,889.138 2248.26,821.568 2255.24,845.172 2262.21,853.014 2269.18,847.706 2276.15,838.806 2283.13,865.972 2290.1,864.564 \n",
       "  \n",
       "  \"/>\n",
       "<polyline clip-path=\"url(#clip832)\" style=\"stroke:#c271d2; stroke-linecap:butt; stroke-linejoin:round; stroke-width:8; stroke-opacity:1; fill:none\" points=\"\n",
       "  201.614,-6740.05 205.101,-1958.97 208.587,-1119.75 212.074,-731.842 215.561,-462.284 219.047,-306.901 222.534,-137.035 226.02,39.9631 229.507,154.983 232.994,137.716 \n",
       "  236.48,153.052 239.967,269.49 243.454,311.362 246.94,391.668 250.427,413.41 253.913,378.54 257.4,435.694 260.887,467.749 264.373,561.768 267.86,523.229 \n",
       "  271.347,530.394 274.833,551.256 278.32,551.017 281.806,608.036 285.293,663.693 288.78,608.296 292.266,630.342 295.753,612.684 299.24,653.305 302.726,688.24 \n",
       "  306.213,650.347 309.699,657.027 313.186,693.165 316.673,676.229 320.159,664.117 323.646,714.184 327.132,746.281 330.619,781.171 334.106,804.26 337.592,742.649 \n",
       "  341.079,773.214 344.566,794.123 348.052,781.06 351.539,766.821 355.025,787.615 358.512,764.541 361.999,760.379 365.485,767.759 368.972,775.807 372.459,772.173 \n",
       "  375.945,775.692 379.432,814.795 382.918,802.249 386.405,797.927 389.892,803.736 393.378,803.053 396.865,768.221 400.352,783.666 403.838,777.625 407.325,769.066 \n",
       "  410.811,778.036 414.298,789.129 417.785,776.753 421.271,785.296 424.758,804.534 428.245,836.567 431.731,804.712 435.218,810.479 438.704,817.164 442.191,868.708 \n",
       "  445.678,842.836 449.164,812.166 452.651,788.948 456.138,788.482 459.624,825.592 463.111,815.998 466.597,820.076 470.084,826.44 473.571,835.271 477.057,825.272 \n",
       "  480.544,842.809 484.031,831.311 487.517,847.58 491.004,837.354 494.49,873.535 497.977,877.826 501.464,877.72 504.95,860.614 508.437,848.614 511.924,835.297 \n",
       "  515.41,827.447 518.897,835.572 522.383,814.81 525.87,851.563 529.357,834.579 532.843,853.077 536.33,865.572 539.816,869.227 543.303,826.871 546.79,843.608 \n",
       "  550.276,842.511 553.763,848.093 557.25,849.411 560.736,839.901 564.223,898.009 567.709,874.274 571.196,848.234 574.683,833.4 578.169,832.395 581.656,841.488 \n",
       "  585.143,846.448 588.629,851.072 592.116,860.673 595.602,858.347 599.089,837.058 602.576,846.037 606.062,830.776 609.549,849.912 613.036,859.582 616.522,856.015 \n",
       "  620.009,846.951 623.495,842.99 626.982,817.056 630.469,808.796 633.955,819.525 637.442,832.793 640.929,839.643 644.415,838.517 647.902,855.589 651.388,857.403 \n",
       "  654.875,831.649 658.362,829.52 661.848,843.818 665.335,830.072 668.822,839.201 672.308,825.691 675.795,841.459 679.281,877.313 682.768,844.103 686.255,832.472 \n",
       "  689.741,843.151 693.228,852.135 696.715,851.397 700.201,842.725 703.688,850.615 707.174,854.981 710.661,876.95 714.148,872.228 717.634,837.786 721.121,835.118 \n",
       "  724.608,851.514 728.094,824.845 731.581,863.311 735.067,851.012 738.554,836.962 742.041,869.344 745.527,870.33 749.014,824.115 752.501,830.311 755.987,830.243 \n",
       "  759.474,836.391 762.96,844.546 766.447,828.03 769.934,848.907 773.42,843.116 776.907,819.481 780.393,870.017 783.88,850.806 787.367,825.467 790.853,833.275 \n",
       "  794.34,814.652 797.827,847.939 801.313,821.667 804.8,853.371 808.286,858.792 811.773,857.226 815.26,860.541 818.746,864.989 822.233,841.977 825.72,838.601 \n",
       "  829.206,822.908 832.693,846.934 836.179,875.152 839.666,845.342 843.153,808.691 846.639,827.35 850.126,826.768 853.613,813.399 857.099,856.94 860.586,824.141 \n",
       "  864.072,832.696 867.559,834.056 871.046,831.59 874.532,821.933 878.019,809.141 881.506,840.837 884.992,827.238 888.479,839.472 891.965,852.706 895.452,845.53 \n",
       "  898.939,857.755 902.425,854.177 905.912,861.384 909.399,831.033 912.885,840.207 916.372,840.405 919.858,853.868 923.345,840.479 926.832,837.363 930.318,872.728 \n",
       "  933.805,855.694 937.292,867.931 940.778,906.561 944.265,882.462 947.751,918.383 951.238,895.668 954.725,861.19 958.211,881.732 961.698,867.162 965.185,887.46 \n",
       "  968.671,868.533 972.158,859.821 975.644,863.692 979.131,885.364 982.618,896.754 986.104,892.232 989.591,895.009 993.077,901.441 996.564,892.917 1000.05,857.139 \n",
       "  1003.54,865.045 1007.02,869.155 1010.51,873.084 1014,864.388 1017.48,886.619 1020.97,862.31 1024.46,861.338 1027.94,856.927 1031.43,871.584 1034.92,897.253 \n",
       "  1038.4,879.298 1041.89,891 1045.38,866.204 1048.86,864.608 1052.35,877.46 1055.84,857.19 1059.32,903.068 1062.81,889.563 1066.3,851.916 1069.78,865.711 \n",
       "  1073.27,881.736 1076.76,874.535 1080.24,874.572 1083.73,871.925 1087.22,887.822 1090.7,894.346 1094.19,857.42 1097.68,898.3 1101.16,904.646 1104.65,895.281 \n",
       "  1108.14,878.398 1111.62,867.227 1115.11,858.959 1118.6,862.176 1122.08,853.241 1125.57,868.92 1129.06,870.805 1132.54,855.554 1136.03,843.633 1139.52,846.663 \n",
       "  1143,846.16 1146.49,854.346 1149.98,887.475 1153.46,930.875 1156.95,932.562 1160.44,899.224 1163.92,884.635 1167.41,881.047 1170.9,872.169 1174.38,866.321 \n",
       "  1177.87,891.736 1181.36,884.924 1184.84,883.391 1188.33,870.316 1191.82,880.877 1195.3,876.836 1198.79,858.717 1202.27,859.187 1205.76,844.35 1209.25,846.197 \n",
       "  1212.73,833.486 1216.22,850.313 1219.71,867.542 1223.19,848.754 1226.68,851.582 1230.17,870.878 1233.65,872.157 1237.14,842.744 1240.63,841.544 1244.11,828.262 \n",
       "  1247.6,838.909 1251.09,822.663 1254.57,840.418 1258.06,845.758 1261.55,835.2 1265.03,848.405 1268.52,870.309 1272.01,878.493 1275.49,868.781 1278.98,856.77 \n",
       "  1282.47,855.213 1285.95,844.64 1289.44,852.212 1292.93,847.647 1296.41,876.748 1299.9,855.438 1303.39,839.232 1306.87,841.926 1310.36,882.421 1313.85,853.005 \n",
       "  1317.33,873.037 1320.82,877.457 1324.31,892.932 1327.79,894.534 1331.28,883.139 1334.77,854.623 1338.25,860.645 1341.74,862.787 1345.23,861.246 1348.71,881.435 \n",
       "  1352.2,853.856 1355.69,875.284 1359.17,842.906 1362.66,822.989 1366.15,862.949 1369.63,817.532 1373.12,819.107 1376.61,837.426 1380.09,854.754 1383.58,852.336 \n",
       "  1387.07,858.185 1390.55,871.194 1394.04,867.058 1397.53,838.138 1401.01,828.918 1404.5,870.213 1407.99,837.743 1411.47,859.767 1414.96,797.969 1418.45,783.553 \n",
       "  1421.93,784.776 1425.42,799.213 1428.91,782.787 1432.39,799.547 1435.88,806.509 1439.37,813.648 1442.85,891.304 1446.34,850.039 1449.83,838.233 1453.31,839.704 \n",
       "  1456.8,820.839 1460.28,826.848 1463.77,821.071 1467.26,841.817 1470.74,848.781 1474.23,858.527 1477.72,844.644 1481.2,855.314 1484.69,857.741 1488.18,828.841 \n",
       "  1491.66,865.575 1495.15,853.226 1498.64,872.027 1502.12,896.966 1505.61,853.405 1509.1,847.813 1512.58,851.727 1516.07,874.915 1519.56,852.168 1523.04,831.562 \n",
       "  1526.53,845.802 1530.02,859.019 1533.5,849.021 1536.99,840.734 1540.48,866.439 1543.96,843.997 1547.45,836.013 1550.94,828.629 1554.42,832.719 1557.91,828.673 \n",
       "  1561.4,831.5 1564.88,829.746 1568.37,844.914 1571.86,844.941 1575.34,827.625 1578.83,871.452 1582.32,881.89 1585.8,864.193 1589.29,845.891 1592.78,860.023 \n",
       "  1596.26,843.679 1599.75,840.005 1603.24,850.081 1606.72,822.29 1610.21,884.427 1613.7,859.786 1617.18,855.707 1620.67,849.698 1624.16,861.326 1627.64,836.381 \n",
       "  1631.13,832.143 1634.62,837.185 1638.1,836.496 1641.59,847.136 1645.08,828.563 1648.56,849.319 1652.05,833.688 1655.54,849.777 1659.02,860.399 1662.51,839.498 \n",
       "  1666,829.485 1669.48,848.537 1672.97,823.794 1676.46,819.79 1679.94,810.071 1683.43,829.706 1686.92,834.449 1690.4,907.716 1693.89,862.465 1697.38,845.07 \n",
       "  1700.86,870.563 1704.35,848.831 1707.84,851.633 1711.32,916.037 1714.81,877.315 1718.3,860.989 1721.78,872.966 1725.27,869.96 1728.75,828.3 1732.24,880.48 \n",
       "  1735.73,855.028 1739.21,836.623 1742.7,841.512 1746.19,816.028 1749.67,867.505 1753.16,848.1 1756.65,863.115 1760.13,850.957 1763.62,863.905 1767.11,884.734 \n",
       "  1770.59,856.621 1774.08,890.745 1777.57,862.106 1781.05,872.537 1784.54,849.086 1788.03,869.189 1791.51,847.228 1795,875.726 1798.49,850.06 1801.97,862.938 \n",
       "  1805.46,831.233 1808.95,825.528 1812.43,823.173 1815.92,852.789 1819.41,834.776 1822.89,807.99 1826.38,882.813 1829.87,856.544 1833.35,859.599 1836.84,855.555 \n",
       "  1840.33,872.478 1843.81,869.477 1847.3,884.799 1850.79,875.439 1854.27,880.506 1857.76,840.521 1861.25,856.729 1864.73,872.196 1868.22,881.071 1871.71,865.703 \n",
       "  1875.19,852.936 1878.68,840.565 1882.17,824.776 1885.65,841.398 1889.14,889.194 1892.63,856.254 1896.11,864.553 1899.6,854.81 1903.09,858.754 1906.57,837.064 \n",
       "  1910.06,834.462 1913.55,845.152 1917.03,837.65 1920.52,860.491 1924.01,851.431 1927.49,856.853 1930.98,844.679 1934.47,851.145 1937.95,863.289 1941.44,846.717 \n",
       "  1944.93,853.348 1948.41,849.362 1951.9,851.408 1955.39,864.759 1958.87,863.94 1962.36,833.891 1965.85,837.306 1969.33,830.414 1972.82,825.607 1976.31,794.772 \n",
       "  1979.79,822.51 1983.28,822.85 1986.77,822.965 1990.25,847.518 1993.74,836.185 1997.22,811.567 2000.71,793.8 2004.2,816.111 2007.68,807.287 2011.17,796.397 \n",
       "  2014.66,822.232 2018.14,821.715 2021.63,829.546 2025.12,855.84 2028.6,877.012 2032.09,854.874 2035.58,864.371 2039.06,865.869 2042.55,857.943 2046.04,844.503 \n",
       "  2049.52,836.217 2053.01,869.91 2056.5,865.148 2059.98,849.507 2063.47,848.152 2066.96,851.82 2070.44,844.162 2073.93,872.848 2077.42,879.344 2080.9,878.869 \n",
       "  2084.39,860.519 2087.88,841.812 2091.36,862.558 2094.85,862.438 2098.34,870.974 2101.82,858.85 2105.31,860.629 2108.8,845.066 2112.28,828.894 2115.77,855.453 \n",
       "  2119.26,887.991 2122.74,840.555 2126.23,820.984 2129.72,850.472 2133.2,839.693 2136.69,826.132 2140.18,801.746 2143.66,838.219 2147.15,844.398 2150.64,837.605 \n",
       "  2154.12,849.649 2157.61,886.764 2161.1,868.153 2164.58,864.736 2168.07,854.94 2171.56,823.778 2175.04,834.28 2178.53,832.386 2182.02,824.995 2185.5,826.6 \n",
       "  2188.99,849.674 2192.48,853.222 2195.96,830.77 2199.45,806.307 2202.94,850.45 2206.42,837.609 2209.91,856.787 2213.4,842.522 2216.88,838.209 2220.37,840.523 \n",
       "  2223.86,839.902 2227.34,840.971 2230.83,866.89 2234.32,864.634 2237.8,858.994 2241.29,851.852 2244.78,869.326 2248.26,858.091 2251.75,831.077 2255.24,873.412 \n",
       "  2258.72,879.568 2262.21,853.938 2265.69,863.828 2269.18,854.423 2272.67,833.827 2276.15,865.698 2279.64,861.698 2283.13,861.652 2286.61,871.15 2290.1,871.416 \n",
       "  \n",
       "  \"/>\n",
       "<path clip-path=\"url(#clip830)\" d=\"\n",
       "M1318.43 354.418 L2278.96 354.418 L2278.96 95.2176 L1318.43 95.2176  Z\n",
       "  \" fill=\"#ffffff\" fill-rule=\"evenodd\" fill-opacity=\"1\"/>\n",
       "<polyline clip-path=\"url(#clip830)\" style=\"stroke:#000000; stroke-linecap:butt; stroke-linejoin:round; stroke-width:4; stroke-opacity:1; fill:none\" points=\"\n",
       "  1318.43,354.418 2278.96,354.418 2278.96,95.2176 1318.43,95.2176 1318.43,354.418 \n",
       "  \"/>\n",
       "<polyline clip-path=\"url(#clip830)\" style=\"stroke:#009af9; stroke-linecap:butt; stroke-linejoin:round; stroke-width:4; stroke-opacity:1; fill:none\" points=\"\n",
       "  1343.03,147.058 1490.61,147.058 \n",
       "  \"/>\n",
       "<path clip-path=\"url(#clip830)\" d=\"M1530.81 133.852 L1519.01 152.301 L1530.81 152.301 L1530.81 133.852 M1529.59 129.778 L1535.47 129.778 L1535.47 152.301 L1540.4 152.301 L1540.4 156.189 L1535.47 156.189 L1535.47 164.338 L1530.81 164.338 L1530.81 156.189 L1515.21 156.189 L1515.21 151.676 L1529.59 129.778 Z\" fill=\"#000000\" fill-rule=\"evenodd\" fill-opacity=\"1\" /><path clip-path=\"url(#clip830)\" d=\"M1558.13 132.856 Q1554.52 132.856 1552.69 136.421 Q1550.88 139.963 1550.88 147.092 Q1550.88 154.199 1552.69 157.764 Q1554.52 161.305 1558.13 161.305 Q1561.76 161.305 1563.57 157.764 Q1565.4 154.199 1565.4 147.092 Q1565.4 139.963 1563.57 136.421 Q1561.76 132.856 1558.13 132.856 M1558.13 129.153 Q1563.94 129.153 1566.99 133.759 Q1570.07 138.342 1570.07 147.092 Q1570.07 155.819 1566.99 160.426 Q1563.94 165.009 1558.13 165.009 Q1552.32 165.009 1549.24 160.426 Q1546.18 155.819 1546.18 147.092 Q1546.18 138.342 1549.24 133.759 Q1552.32 129.153 1558.13 129.153 Z\" fill=\"#000000\" fill-rule=\"evenodd\" fill-opacity=\"1\" /><path clip-path=\"url(#clip830)\" d=\"M1589.86 129.778 L1594.59 129.778 L1601.85 158.99 L1609.1 129.778 L1614.35 129.778 L1621.62 158.99 L1628.87 129.778 L1633.61 129.778 L1624.93 164.338 L1619.05 164.338 L1611.76 134.338 L1604.4 164.338 L1598.52 164.338 L1589.86 129.778 Z\" fill=\"#000000\" fill-rule=\"evenodd\" fill-opacity=\"1\" /><path clip-path=\"url(#clip830)\" d=\"M1648.38 151.305 Q1643.22 151.305 1641.23 152.486 Q1639.24 153.666 1639.24 156.514 Q1639.24 158.782 1640.72 160.125 Q1642.22 161.444 1644.79 161.444 Q1648.34 161.444 1650.46 158.944 Q1652.62 156.421 1652.62 152.254 L1652.62 151.305 L1648.38 151.305 M1656.88 149.546 L1656.88 164.338 L1652.62 164.338 L1652.62 160.402 Q1651.16 162.763 1648.98 163.898 Q1646.81 165.009 1643.66 165.009 Q1639.68 165.009 1637.32 162.787 Q1634.98 160.541 1634.98 156.791 Q1634.98 152.416 1637.9 150.194 Q1640.84 147.972 1646.65 147.972 L1652.62 147.972 L1652.62 147.555 Q1652.62 144.615 1650.67 143.018 Q1648.75 141.398 1645.26 141.398 Q1643.03 141.398 1640.93 141.93 Q1638.82 142.463 1636.88 143.527 L1636.88 139.592 Q1639.21 138.69 1641.41 138.25 Q1643.61 137.787 1645.7 137.787 Q1651.32 137.787 1654.1 140.703 Q1656.88 143.62 1656.88 149.546 Z\" fill=\"#000000\" fill-rule=\"evenodd\" fill-opacity=\"1\" /><path clip-path=\"url(#clip830)\" d=\"M1669.86 131.051 L1669.86 138.412 L1678.64 138.412 L1678.64 141.722 L1669.86 141.722 L1669.86 155.796 Q1669.86 158.967 1670.72 159.87 Q1671.6 160.773 1674.26 160.773 L1678.64 160.773 L1678.64 164.338 L1674.26 164.338 Q1669.33 164.338 1667.46 162.509 Q1665.58 160.657 1665.58 155.796 L1665.58 141.722 L1662.46 141.722 L1662.46 138.412 L1665.58 138.412 L1665.58 131.051 L1669.86 131.051 Z\" fill=\"#000000\" fill-rule=\"evenodd\" fill-opacity=\"1\" /><path clip-path=\"url(#clip830)\" d=\"M1688.45 131.051 L1688.45 138.412 L1697.22 138.412 L1697.22 141.722 L1688.45 141.722 L1688.45 155.796 Q1688.45 158.967 1689.31 159.87 Q1690.19 160.773 1692.85 160.773 L1697.22 160.773 L1697.22 164.338 L1692.85 164.338 Q1687.92 164.338 1686.04 162.509 Q1684.17 160.657 1684.17 155.796 L1684.17 141.722 L1681.04 141.722 L1681.04 138.412 L1684.17 138.412 L1684.17 131.051 L1688.45 131.051 Z\" fill=\"#000000\" fill-rule=\"evenodd\" fill-opacity=\"1\" /><path clip-path=\"url(#clip830)\" d=\"M1739.45 148.689 L1739.45 164.338 L1735.19 164.338 L1735.19 148.828 Q1735.19 145.148 1733.75 143.319 Q1732.32 141.49 1729.45 141.49 Q1726 141.49 1724.01 143.69 Q1722.02 145.889 1722.02 149.685 L1722.02 164.338 L1717.73 164.338 L1717.73 128.319 L1722.02 128.319 L1722.02 142.44 Q1723.54 140.102 1725.6 138.944 Q1727.69 137.787 1730.39 137.787 Q1734.86 137.787 1737.15 140.565 Q1739.45 143.319 1739.45 148.689 Z\" fill=\"#000000\" fill-rule=\"evenodd\" fill-opacity=\"1\" /><path clip-path=\"url(#clip830)\" d=\"M1770.12 150.31 L1770.12 152.393 L1750.53 152.393 Q1750.81 156.791 1753.17 159.106 Q1755.56 161.398 1759.79 161.398 Q1762.25 161.398 1764.54 160.796 Q1766.85 160.194 1769.12 158.99 L1769.12 163.018 Q1766.83 163.99 1764.42 164.5 Q1762.02 165.009 1759.54 165.009 Q1753.33 165.009 1749.7 161.398 Q1746.09 157.787 1746.09 151.629 Q1746.09 145.264 1749.52 141.537 Q1752.96 137.787 1758.8 137.787 Q1764.03 137.787 1767.06 141.166 Q1770.12 144.523 1770.12 150.31 M1765.86 149.06 Q1765.81 145.565 1763.89 143.481 Q1761.99 141.398 1758.84 141.398 Q1755.28 141.398 1753.13 143.412 Q1751 145.426 1750.67 149.083 L1765.86 149.06 Z\" fill=\"#000000\" fill-rule=\"evenodd\" fill-opacity=\"1\" /><path clip-path=\"url(#clip830)\" d=\"M1788.89 151.305 Q1783.73 151.305 1781.74 152.486 Q1779.75 153.666 1779.75 156.514 Q1779.75 158.782 1781.23 160.125 Q1782.73 161.444 1785.3 161.444 Q1788.84 161.444 1790.97 158.944 Q1793.13 156.421 1793.13 152.254 L1793.13 151.305 L1788.89 151.305 M1797.39 149.546 L1797.39 164.338 L1793.13 164.338 L1793.13 160.402 Q1791.67 162.763 1789.49 163.898 Q1787.32 165.009 1784.17 165.009 Q1780.19 165.009 1777.83 162.787 Q1775.49 160.541 1775.49 156.791 Q1775.49 152.416 1778.4 150.194 Q1781.34 147.972 1787.15 147.972 L1793.13 147.972 L1793.13 147.555 Q1793.13 144.615 1791.18 143.018 Q1789.26 141.398 1785.76 141.398 Q1783.54 141.398 1781.44 141.93 Q1779.33 142.463 1777.39 143.527 L1777.39 139.592 Q1779.72 138.69 1781.92 138.25 Q1784.12 137.787 1786.2 137.787 Q1791.83 137.787 1794.61 140.703 Q1797.39 143.62 1797.39 149.546 Z\" fill=\"#000000\" fill-rule=\"evenodd\" fill-opacity=\"1\" /><path clip-path=\"url(#clip830)\" d=\"M1810.37 131.051 L1810.37 138.412 L1819.14 138.412 L1819.14 141.722 L1810.37 141.722 L1810.37 155.796 Q1810.37 158.967 1811.23 159.87 Q1812.11 160.773 1814.77 160.773 L1819.14 160.773 L1819.14 164.338 L1814.77 164.338 Q1809.84 164.338 1807.96 162.509 Q1806.09 160.657 1806.09 155.796 L1806.09 141.722 L1802.96 141.722 L1802.96 138.412 L1806.09 138.412 L1806.09 131.051 L1810.37 131.051 Z\" fill=\"#000000\" fill-rule=\"evenodd\" fill-opacity=\"1\" /><path clip-path=\"url(#clip830)\" d=\"M1846.92 150.31 L1846.92 152.393 L1827.34 152.393 Q1827.62 156.791 1829.98 159.106 Q1832.36 161.398 1836.6 161.398 Q1839.05 161.398 1841.34 160.796 Q1843.66 160.194 1845.93 158.99 L1845.93 163.018 Q1843.64 163.99 1841.23 164.5 Q1838.82 165.009 1836.34 165.009 Q1830.14 165.009 1826.51 161.398 Q1822.89 157.787 1822.89 151.629 Q1822.89 145.264 1826.32 141.537 Q1829.77 137.787 1835.6 137.787 Q1840.83 137.787 1843.87 141.166 Q1846.92 144.523 1846.92 150.31 M1842.66 149.06 Q1842.62 145.565 1840.7 143.481 Q1838.8 141.398 1835.65 141.398 Q1832.08 141.398 1829.93 143.412 Q1827.8 145.426 1827.48 149.083 L1842.66 149.06 Z\" fill=\"#000000\" fill-rule=\"evenodd\" fill-opacity=\"1\" /><path clip-path=\"url(#clip830)\" d=\"M1868.94 142.393 Q1868.22 141.977 1867.36 141.791 Q1866.53 141.583 1865.51 141.583 Q1861.9 141.583 1859.95 143.944 Q1858.03 146.282 1858.03 150.68 L1858.03 164.338 L1853.75 164.338 L1853.75 138.412 L1858.03 138.412 L1858.03 142.44 Q1859.38 140.078 1861.53 138.944 Q1863.68 137.787 1866.76 137.787 Q1867.2 137.787 1867.73 137.856 Q1868.26 137.903 1868.91 138.018 L1868.94 142.393 Z\" fill=\"#000000\" fill-rule=\"evenodd\" fill-opacity=\"1\" /><path clip-path=\"url(#clip830)\" d=\"M1905 139.176 L1905 143.203 Q1903.19 142.277 1901.25 141.815 Q1899.31 141.352 1897.22 141.352 Q1894.05 141.352 1892.45 142.324 Q1890.88 143.296 1890.88 145.24 Q1890.88 146.722 1892.01 147.578 Q1893.15 148.412 1896.57 149.176 L1898.03 149.5 Q1902.57 150.472 1904.47 152.254 Q1906.39 154.014 1906.39 157.185 Q1906.39 160.796 1903.52 162.902 Q1900.67 165.009 1895.67 165.009 Q1893.59 165.009 1891.32 164.592 Q1889.07 164.199 1886.57 163.388 L1886.57 158.99 Q1888.94 160.217 1891.23 160.842 Q1893.52 161.444 1895.76 161.444 Q1898.77 161.444 1900.39 160.426 Q1902.01 159.384 1902.01 157.509 Q1902.01 155.773 1900.83 154.847 Q1899.68 153.921 1895.72 153.064 L1894.24 152.717 Q1890.28 151.884 1888.52 150.171 Q1886.76 148.435 1886.76 145.426 Q1886.76 141.768 1889.35 139.778 Q1891.94 137.787 1896.71 137.787 Q1899.07 137.787 1901.16 138.134 Q1903.24 138.481 1905 139.176 Z\" fill=\"#000000\" fill-rule=\"evenodd\" fill-opacity=\"1\" /><path clip-path=\"url(#clip830)\" d=\"M1913.17 138.412 L1917.43 138.412 L1917.43 164.338 L1913.17 164.338 L1913.17 138.412 M1913.17 128.319 L1917.43 128.319 L1917.43 133.713 L1913.17 133.713 L1913.17 128.319 Z\" fill=\"#000000\" fill-rule=\"evenodd\" fill-opacity=\"1\" /><path clip-path=\"url(#clip830)\" d=\"M1946.53 143.389 Q1948.13 140.518 1950.35 139.153 Q1952.57 137.787 1955.58 137.787 Q1959.63 137.787 1961.83 140.634 Q1964.03 143.458 1964.03 148.689 L1964.03 164.338 L1959.75 164.338 L1959.75 148.828 Q1959.75 145.102 1958.43 143.296 Q1957.11 141.49 1954.4 141.49 Q1951.09 141.49 1949.17 143.69 Q1947.25 145.889 1947.25 149.685 L1947.25 164.338 L1942.96 164.338 L1942.96 148.828 Q1942.96 145.078 1941.64 143.296 Q1940.32 141.49 1937.57 141.49 Q1934.31 141.49 1932.38 143.713 Q1930.46 145.912 1930.46 149.685 L1930.46 164.338 L1926.18 164.338 L1926.18 138.412 L1930.46 138.412 L1930.46 142.44 Q1931.92 140.055 1933.96 138.921 Q1936 137.787 1938.8 137.787 Q1941.62 137.787 1943.59 139.222 Q1945.58 140.657 1946.53 143.389 Z\" fill=\"#000000\" fill-rule=\"evenodd\" fill-opacity=\"1\" /><path clip-path=\"url(#clip830)\" d=\"M1972.08 154.106 L1972.08 138.412 L1976.34 138.412 L1976.34 153.944 Q1976.34 157.625 1977.78 159.476 Q1979.21 161.305 1982.08 161.305 Q1985.53 161.305 1987.52 159.106 Q1989.54 156.907 1989.54 153.111 L1989.54 138.412 L1993.8 138.412 L1993.8 164.338 L1989.54 164.338 L1989.54 160.356 Q1987.99 162.717 1985.93 163.875 Q1983.89 165.009 1981.18 165.009 Q1976.71 165.009 1974.4 162.231 Q1972.08 159.453 1972.08 154.106 M1982.8 137.787 L1982.8 137.787 Z\" fill=\"#000000\" fill-rule=\"evenodd\" fill-opacity=\"1\" /><path clip-path=\"url(#clip830)\" d=\"M2002.57 128.319 L2006.83 128.319 L2006.83 164.338 L2002.57 164.338 L2002.57 128.319 Z\" fill=\"#000000\" fill-rule=\"evenodd\" fill-opacity=\"1\" /><path clip-path=\"url(#clip830)\" d=\"M2027.52 151.305 Q2022.36 151.305 2020.37 152.486 Q2018.38 153.666 2018.38 156.514 Q2018.38 158.782 2019.86 160.125 Q2021.37 161.444 2023.93 161.444 Q2027.48 161.444 2029.61 158.944 Q2031.76 156.421 2031.76 152.254 L2031.76 151.305 L2027.52 151.305 M2036.02 149.546 L2036.02 164.338 L2031.76 164.338 L2031.76 160.402 Q2030.3 162.763 2028.12 163.898 Q2025.95 165.009 2022.8 165.009 Q2018.82 165.009 2016.46 162.787 Q2014.12 160.541 2014.12 156.791 Q2014.12 152.416 2017.04 150.194 Q2019.98 147.972 2025.79 147.972 L2031.76 147.972 L2031.76 147.555 Q2031.76 144.615 2029.81 143.018 Q2027.89 141.398 2024.4 141.398 Q2022.18 141.398 2020.07 141.93 Q2017.96 142.463 2016.02 143.527 L2016.02 139.592 Q2018.36 138.69 2020.56 138.25 Q2022.75 137.787 2024.84 137.787 Q2030.46 137.787 2033.24 140.703 Q2036.02 143.62 2036.02 149.546 Z\" fill=\"#000000\" fill-rule=\"evenodd\" fill-opacity=\"1\" /><path clip-path=\"url(#clip830)\" d=\"M2049 131.051 L2049 138.412 L2057.78 138.412 L2057.78 141.722 L2049 141.722 L2049 155.796 Q2049 158.967 2049.86 159.87 Q2050.74 160.773 2053.4 160.773 L2057.78 160.773 L2057.78 164.338 L2053.4 164.338 Q2048.47 164.338 2046.6 162.509 Q2044.72 160.657 2044.72 155.796 L2044.72 141.722 L2041.6 141.722 L2041.6 138.412 L2044.72 138.412 L2044.72 131.051 L2049 131.051 Z\" fill=\"#000000\" fill-rule=\"evenodd\" fill-opacity=\"1\" /><path clip-path=\"url(#clip830)\" d=\"M2063.38 138.412 L2067.64 138.412 L2067.64 164.338 L2063.38 164.338 L2063.38 138.412 M2063.38 128.319 L2067.64 128.319 L2067.64 133.713 L2063.38 133.713 L2063.38 128.319 Z\" fill=\"#000000\" fill-rule=\"evenodd\" fill-opacity=\"1\" /><path clip-path=\"url(#clip830)\" d=\"M2086.6 141.398 Q2083.17 141.398 2081.18 144.083 Q2079.19 146.745 2079.19 151.398 Q2079.19 156.051 2081.16 158.736 Q2083.15 161.398 2086.6 161.398 Q2090 161.398 2091.99 158.713 Q2093.98 156.027 2093.98 151.398 Q2093.98 146.791 2091.99 144.106 Q2090 141.398 2086.6 141.398 M2086.6 137.787 Q2092.15 137.787 2095.32 141.398 Q2098.49 145.009 2098.49 151.398 Q2098.49 157.764 2095.32 161.398 Q2092.15 165.009 2086.6 165.009 Q2081.02 165.009 2077.85 161.398 Q2074.7 157.764 2074.7 151.398 Q2074.7 145.009 2077.85 141.398 Q2081.02 137.787 2086.6 137.787 Z\" fill=\"#000000\" fill-rule=\"evenodd\" fill-opacity=\"1\" /><path clip-path=\"url(#clip830)\" d=\"M2127.11 148.689 L2127.11 164.338 L2122.85 164.338 L2122.85 148.828 Q2122.85 145.148 2121.41 143.319 Q2119.98 141.49 2117.11 141.49 Q2113.66 141.49 2111.67 143.69 Q2109.68 145.889 2109.68 149.685 L2109.68 164.338 L2105.39 164.338 L2105.39 138.412 L2109.68 138.412 L2109.68 142.44 Q2111.2 140.102 2113.26 138.944 Q2115.35 137.787 2118.05 137.787 Q2122.52 137.787 2124.81 140.565 Q2127.11 143.319 2127.11 148.689 Z\" fill=\"#000000\" fill-rule=\"evenodd\" fill-opacity=\"1\" /><path clip-path=\"url(#clip830)\" d=\"M2155.53 133.62 L2155.53 146.606 L2161.41 146.606 Q2164.67 146.606 2166.46 144.916 Q2168.24 143.227 2168.24 140.102 Q2168.24 137 2166.46 135.31 Q2164.67 133.62 2161.41 133.62 L2155.53 133.62 M2150.86 129.778 L2161.41 129.778 Q2167.22 129.778 2170.18 132.416 Q2173.17 135.032 2173.17 140.102 Q2173.17 145.217 2170.18 147.833 Q2167.22 150.449 2161.41 150.449 L2155.53 150.449 L2155.53 164.338 L2150.86 164.338 L2150.86 129.778 Z\" fill=\"#000000\" fill-rule=\"evenodd\" fill-opacity=\"1\" /><path clip-path=\"url(#clip830)\" d=\"M2199.74 150.31 L2199.74 152.393 L2180.16 152.393 Q2180.44 156.791 2182.8 159.106 Q2185.18 161.398 2189.42 161.398 Q2191.87 161.398 2194.17 160.796 Q2196.48 160.194 2198.75 158.99 L2198.75 163.018 Q2196.46 163.99 2194.05 164.5 Q2191.64 165.009 2189.17 165.009 Q2182.96 165.009 2179.33 161.398 Q2175.72 157.787 2175.72 151.629 Q2175.72 145.264 2179.14 141.537 Q2182.59 137.787 2188.42 137.787 Q2193.66 137.787 2196.69 141.166 Q2199.74 144.523 2199.74 150.31 M2195.48 149.06 Q2195.44 145.565 2193.52 143.481 Q2191.62 141.398 2188.47 141.398 Q2184.91 141.398 2182.75 143.412 Q2180.62 145.426 2180.3 149.083 L2195.48 149.06 Z\" fill=\"#000000\" fill-rule=\"evenodd\" fill-opacity=\"1\" /><path clip-path=\"url(#clip830)\" d=\"M2220.18 133.852 L2208.38 152.301 L2220.18 152.301 L2220.18 133.852 M2218.96 129.778 L2224.84 129.778 L2224.84 152.301 L2229.77 152.301 L2229.77 156.189 L2224.84 156.189 L2224.84 164.338 L2220.18 164.338 L2220.18 156.189 L2204.58 156.189 L2204.58 151.676 L2218.96 129.778 Z\" fill=\"#000000\" fill-rule=\"evenodd\" fill-opacity=\"1\" /><polyline clip-path=\"url(#clip830)\" style=\"stroke:#e26f46; stroke-linecap:butt; stroke-linejoin:round; stroke-width:4; stroke-opacity:1; fill:none\" points=\"\n",
       "  1343.03,198.898 1490.61,198.898 \n",
       "  \"/>\n",
       "<path clip-path=\"url(#clip830)\" d=\"M1530.81 185.692 L1519.01 204.141 L1530.81 204.141 L1530.81 185.692 M1529.59 181.618 L1535.47 181.618 L1535.47 204.141 L1540.4 204.141 L1540.4 208.029 L1535.47 208.029 L1535.47 216.178 L1530.81 216.178 L1530.81 208.029 L1515.21 208.029 L1515.21 203.516 L1529.59 181.618 Z\" fill=\"#000000\" fill-rule=\"evenodd\" fill-opacity=\"1\" /><path clip-path=\"url(#clip830)\" d=\"M1558.13 184.696 Q1554.52 184.696 1552.69 188.261 Q1550.88 191.803 1550.88 198.932 Q1550.88 206.039 1552.69 209.604 Q1554.52 213.145 1558.13 213.145 Q1561.76 213.145 1563.57 209.604 Q1565.4 206.039 1565.4 198.932 Q1565.4 191.803 1563.57 188.261 Q1561.76 184.696 1558.13 184.696 M1558.13 180.993 Q1563.94 180.993 1566.99 185.599 Q1570.07 190.182 1570.07 198.932 Q1570.07 207.659 1566.99 212.266 Q1563.94 216.849 1558.13 216.849 Q1552.32 216.849 1549.24 212.266 Q1546.18 207.659 1546.18 198.932 Q1546.18 190.182 1549.24 185.599 Q1552.32 180.993 1558.13 180.993 Z\" fill=\"#000000\" fill-rule=\"evenodd\" fill-opacity=\"1\" /><path clip-path=\"url(#clip830)\" d=\"M1589.86 181.618 L1594.59 181.618 L1601.85 210.83 L1609.1 181.618 L1614.35 181.618 L1621.62 210.83 L1628.87 181.618 L1633.61 181.618 L1624.93 216.178 L1619.05 216.178 L1611.76 186.178 L1604.4 216.178 L1598.52 216.178 L1589.86 181.618 Z\" fill=\"#000000\" fill-rule=\"evenodd\" fill-opacity=\"1\" /><path clip-path=\"url(#clip830)\" d=\"M1648.38 203.145 Q1643.22 203.145 1641.23 204.326 Q1639.24 205.506 1639.24 208.354 Q1639.24 210.622 1640.72 211.965 Q1642.22 213.284 1644.79 213.284 Q1648.34 213.284 1650.46 210.784 Q1652.62 208.261 1652.62 204.094 L1652.62 203.145 L1648.38 203.145 M1656.88 201.386 L1656.88 216.178 L1652.62 216.178 L1652.62 212.242 Q1651.16 214.603 1648.98 215.738 Q1646.81 216.849 1643.66 216.849 Q1639.68 216.849 1637.32 214.627 Q1634.98 212.381 1634.98 208.631 Q1634.98 204.256 1637.9 202.034 Q1640.84 199.812 1646.65 199.812 L1652.62 199.812 L1652.62 199.395 Q1652.62 196.455 1650.67 194.858 Q1648.75 193.238 1645.26 193.238 Q1643.03 193.238 1640.93 193.77 Q1638.82 194.303 1636.88 195.367 L1636.88 191.432 Q1639.21 190.53 1641.41 190.09 Q1643.61 189.627 1645.7 189.627 Q1651.32 189.627 1654.1 192.543 Q1656.88 195.46 1656.88 201.386 Z\" fill=\"#000000\" fill-rule=\"evenodd\" fill-opacity=\"1\" /><path clip-path=\"url(#clip830)\" d=\"M1669.86 182.891 L1669.86 190.252 L1678.64 190.252 L1678.64 193.562 L1669.86 193.562 L1669.86 207.636 Q1669.86 210.807 1670.72 211.71 Q1671.6 212.613 1674.26 212.613 L1678.64 212.613 L1678.64 216.178 L1674.26 216.178 Q1669.33 216.178 1667.46 214.349 Q1665.58 212.497 1665.58 207.636 L1665.58 193.562 L1662.46 193.562 L1662.46 190.252 L1665.58 190.252 L1665.58 182.891 L1669.86 182.891 Z\" fill=\"#000000\" fill-rule=\"evenodd\" fill-opacity=\"1\" /><path clip-path=\"url(#clip830)\" d=\"M1688.45 182.891 L1688.45 190.252 L1697.22 190.252 L1697.22 193.562 L1688.45 193.562 L1688.45 207.636 Q1688.45 210.807 1689.31 211.71 Q1690.19 212.613 1692.85 212.613 L1697.22 212.613 L1697.22 216.178 L1692.85 216.178 Q1687.92 216.178 1686.04 214.349 Q1684.17 212.497 1684.17 207.636 L1684.17 193.562 L1681.04 193.562 L1681.04 190.252 L1684.17 190.252 L1684.17 182.891 L1688.45 182.891 Z\" fill=\"#000000\" fill-rule=\"evenodd\" fill-opacity=\"1\" /><path clip-path=\"url(#clip830)\" d=\"M1739.45 200.529 L1739.45 216.178 L1735.19 216.178 L1735.19 200.668 Q1735.19 196.988 1733.75 195.159 Q1732.32 193.33 1729.45 193.33 Q1726 193.33 1724.01 195.53 Q1722.02 197.729 1722.02 201.525 L1722.02 216.178 L1717.73 216.178 L1717.73 180.159 L1722.02 180.159 L1722.02 194.28 Q1723.54 191.942 1725.6 190.784 Q1727.69 189.627 1730.39 189.627 Q1734.86 189.627 1737.15 192.405 Q1739.45 195.159 1739.45 200.529 Z\" fill=\"#000000\" fill-rule=\"evenodd\" fill-opacity=\"1\" /><path clip-path=\"url(#clip830)\" d=\"M1770.12 202.15 L1770.12 204.233 L1750.53 204.233 Q1750.81 208.631 1753.17 210.946 Q1755.56 213.238 1759.79 213.238 Q1762.25 213.238 1764.54 212.636 Q1766.85 212.034 1769.12 210.83 L1769.12 214.858 Q1766.83 215.83 1764.42 216.34 Q1762.02 216.849 1759.54 216.849 Q1753.33 216.849 1749.7 213.238 Q1746.09 209.627 1746.09 203.469 Q1746.09 197.104 1749.52 193.377 Q1752.96 189.627 1758.8 189.627 Q1764.03 189.627 1767.06 193.006 Q1770.12 196.363 1770.12 202.15 M1765.86 200.9 Q1765.81 197.405 1763.89 195.321 Q1761.99 193.238 1758.84 193.238 Q1755.28 193.238 1753.13 195.252 Q1751 197.266 1750.67 200.923 L1765.86 200.9 Z\" fill=\"#000000\" fill-rule=\"evenodd\" fill-opacity=\"1\" /><path clip-path=\"url(#clip830)\" d=\"M1788.89 203.145 Q1783.73 203.145 1781.74 204.326 Q1779.75 205.506 1779.75 208.354 Q1779.75 210.622 1781.23 211.965 Q1782.73 213.284 1785.3 213.284 Q1788.84 213.284 1790.97 210.784 Q1793.13 208.261 1793.13 204.094 L1793.13 203.145 L1788.89 203.145 M1797.39 201.386 L1797.39 216.178 L1793.13 216.178 L1793.13 212.242 Q1791.67 214.603 1789.49 215.738 Q1787.32 216.849 1784.17 216.849 Q1780.19 216.849 1777.83 214.627 Q1775.49 212.381 1775.49 208.631 Q1775.49 204.256 1778.4 202.034 Q1781.34 199.812 1787.15 199.812 L1793.13 199.812 L1793.13 199.395 Q1793.13 196.455 1791.18 194.858 Q1789.26 193.238 1785.76 193.238 Q1783.54 193.238 1781.44 193.77 Q1779.33 194.303 1777.39 195.367 L1777.39 191.432 Q1779.72 190.53 1781.92 190.09 Q1784.12 189.627 1786.2 189.627 Q1791.83 189.627 1794.61 192.543 Q1797.39 195.46 1797.39 201.386 Z\" fill=\"#000000\" fill-rule=\"evenodd\" fill-opacity=\"1\" /><path clip-path=\"url(#clip830)\" d=\"M1810.37 182.891 L1810.37 190.252 L1819.14 190.252 L1819.14 193.562 L1810.37 193.562 L1810.37 207.636 Q1810.37 210.807 1811.23 211.71 Q1812.11 212.613 1814.77 212.613 L1819.14 212.613 L1819.14 216.178 L1814.77 216.178 Q1809.84 216.178 1807.96 214.349 Q1806.09 212.497 1806.09 207.636 L1806.09 193.562 L1802.96 193.562 L1802.96 190.252 L1806.09 190.252 L1806.09 182.891 L1810.37 182.891 Z\" fill=\"#000000\" fill-rule=\"evenodd\" fill-opacity=\"1\" /><path clip-path=\"url(#clip830)\" d=\"M1846.92 202.15 L1846.92 204.233 L1827.34 204.233 Q1827.62 208.631 1829.98 210.946 Q1832.36 213.238 1836.6 213.238 Q1839.05 213.238 1841.34 212.636 Q1843.66 212.034 1845.93 210.83 L1845.93 214.858 Q1843.64 215.83 1841.23 216.34 Q1838.82 216.849 1836.34 216.849 Q1830.14 216.849 1826.51 213.238 Q1822.89 209.627 1822.89 203.469 Q1822.89 197.104 1826.32 193.377 Q1829.77 189.627 1835.6 189.627 Q1840.83 189.627 1843.87 193.006 Q1846.92 196.363 1846.92 202.15 M1842.66 200.9 Q1842.62 197.405 1840.7 195.321 Q1838.8 193.238 1835.65 193.238 Q1832.08 193.238 1829.93 195.252 Q1827.8 197.266 1827.48 200.923 L1842.66 200.9 Z\" fill=\"#000000\" fill-rule=\"evenodd\" fill-opacity=\"1\" /><path clip-path=\"url(#clip830)\" d=\"M1868.94 194.233 Q1868.22 193.817 1867.36 193.631 Q1866.53 193.423 1865.51 193.423 Q1861.9 193.423 1859.95 195.784 Q1858.03 198.122 1858.03 202.52 L1858.03 216.178 L1853.75 216.178 L1853.75 190.252 L1858.03 190.252 L1858.03 194.28 Q1859.38 191.918 1861.53 190.784 Q1863.68 189.627 1866.76 189.627 Q1867.2 189.627 1867.73 189.696 Q1868.26 189.743 1868.91 189.858 L1868.94 194.233 Z\" fill=\"#000000\" fill-rule=\"evenodd\" fill-opacity=\"1\" /><path clip-path=\"url(#clip830)\" d=\"M1905 191.016 L1905 195.043 Q1903.19 194.117 1901.25 193.655 Q1899.31 193.192 1897.22 193.192 Q1894.05 193.192 1892.45 194.164 Q1890.88 195.136 1890.88 197.08 Q1890.88 198.562 1892.01 199.418 Q1893.15 200.252 1896.57 201.016 L1898.03 201.34 Q1902.57 202.312 1904.47 204.094 Q1906.39 205.854 1906.39 209.025 Q1906.39 212.636 1903.52 214.742 Q1900.67 216.849 1895.67 216.849 Q1893.59 216.849 1891.32 216.432 Q1889.07 216.039 1886.57 215.228 L1886.57 210.83 Q1888.94 212.057 1891.23 212.682 Q1893.52 213.284 1895.76 213.284 Q1898.77 213.284 1900.39 212.266 Q1902.01 211.224 1902.01 209.349 Q1902.01 207.613 1900.83 206.687 Q1899.68 205.761 1895.72 204.904 L1894.24 204.557 Q1890.28 203.724 1888.52 202.011 Q1886.76 200.275 1886.76 197.266 Q1886.76 193.608 1889.35 191.618 Q1891.94 189.627 1896.71 189.627 Q1899.07 189.627 1901.16 189.974 Q1903.24 190.321 1905 191.016 Z\" fill=\"#000000\" fill-rule=\"evenodd\" fill-opacity=\"1\" /><path clip-path=\"url(#clip830)\" d=\"M1913.17 190.252 L1917.43 190.252 L1917.43 216.178 L1913.17 216.178 L1913.17 190.252 M1913.17 180.159 L1917.43 180.159 L1917.43 185.553 L1913.17 185.553 L1913.17 180.159 Z\" fill=\"#000000\" fill-rule=\"evenodd\" fill-opacity=\"1\" /><path clip-path=\"url(#clip830)\" d=\"M1946.53 195.229 Q1948.13 192.358 1950.35 190.993 Q1952.57 189.627 1955.58 189.627 Q1959.63 189.627 1961.83 192.474 Q1964.03 195.298 1964.03 200.529 L1964.03 216.178 L1959.75 216.178 L1959.75 200.668 Q1959.75 196.942 1958.43 195.136 Q1957.11 193.33 1954.4 193.33 Q1951.09 193.33 1949.17 195.53 Q1947.25 197.729 1947.25 201.525 L1947.25 216.178 L1942.96 216.178 L1942.96 200.668 Q1942.96 196.918 1941.64 195.136 Q1940.32 193.33 1937.57 193.33 Q1934.31 193.33 1932.38 195.553 Q1930.46 197.752 1930.46 201.525 L1930.46 216.178 L1926.18 216.178 L1926.18 190.252 L1930.46 190.252 L1930.46 194.28 Q1931.92 191.895 1933.96 190.761 Q1936 189.627 1938.8 189.627 Q1941.62 189.627 1943.59 191.062 Q1945.58 192.497 1946.53 195.229 Z\" fill=\"#000000\" fill-rule=\"evenodd\" fill-opacity=\"1\" /><path clip-path=\"url(#clip830)\" d=\"M1972.08 205.946 L1972.08 190.252 L1976.34 190.252 L1976.34 205.784 Q1976.34 209.465 1977.78 211.316 Q1979.21 213.145 1982.08 213.145 Q1985.53 213.145 1987.52 210.946 Q1989.54 208.747 1989.54 204.951 L1989.54 190.252 L1993.8 190.252 L1993.8 216.178 L1989.54 216.178 L1989.54 212.196 Q1987.99 214.557 1985.93 215.715 Q1983.89 216.849 1981.18 216.849 Q1976.71 216.849 1974.4 214.071 Q1972.08 211.293 1972.08 205.946 M1982.8 189.627 L1982.8 189.627 Z\" fill=\"#000000\" fill-rule=\"evenodd\" fill-opacity=\"1\" /><path clip-path=\"url(#clip830)\" d=\"M2002.57 180.159 L2006.83 180.159 L2006.83 216.178 L2002.57 216.178 L2002.57 180.159 Z\" fill=\"#000000\" fill-rule=\"evenodd\" fill-opacity=\"1\" /><path clip-path=\"url(#clip830)\" d=\"M2027.52 203.145 Q2022.36 203.145 2020.37 204.326 Q2018.38 205.506 2018.38 208.354 Q2018.38 210.622 2019.86 211.965 Q2021.37 213.284 2023.93 213.284 Q2027.48 213.284 2029.61 210.784 Q2031.76 208.261 2031.76 204.094 L2031.76 203.145 L2027.52 203.145 M2036.02 201.386 L2036.02 216.178 L2031.76 216.178 L2031.76 212.242 Q2030.3 214.603 2028.12 215.738 Q2025.95 216.849 2022.8 216.849 Q2018.82 216.849 2016.46 214.627 Q2014.12 212.381 2014.12 208.631 Q2014.12 204.256 2017.04 202.034 Q2019.98 199.812 2025.79 199.812 L2031.76 199.812 L2031.76 199.395 Q2031.76 196.455 2029.81 194.858 Q2027.89 193.238 2024.4 193.238 Q2022.18 193.238 2020.07 193.77 Q2017.96 194.303 2016.02 195.367 L2016.02 191.432 Q2018.36 190.53 2020.56 190.09 Q2022.75 189.627 2024.84 189.627 Q2030.46 189.627 2033.24 192.543 Q2036.02 195.46 2036.02 201.386 Z\" fill=\"#000000\" fill-rule=\"evenodd\" fill-opacity=\"1\" /><path clip-path=\"url(#clip830)\" d=\"M2049 182.891 L2049 190.252 L2057.78 190.252 L2057.78 193.562 L2049 193.562 L2049 207.636 Q2049 210.807 2049.86 211.71 Q2050.74 212.613 2053.4 212.613 L2057.78 212.613 L2057.78 216.178 L2053.4 216.178 Q2048.47 216.178 2046.6 214.349 Q2044.72 212.497 2044.72 207.636 L2044.72 193.562 L2041.6 193.562 L2041.6 190.252 L2044.72 190.252 L2044.72 182.891 L2049 182.891 Z\" fill=\"#000000\" fill-rule=\"evenodd\" fill-opacity=\"1\" /><path clip-path=\"url(#clip830)\" d=\"M2063.38 190.252 L2067.64 190.252 L2067.64 216.178 L2063.38 216.178 L2063.38 190.252 M2063.38 180.159 L2067.64 180.159 L2067.64 185.553 L2063.38 185.553 L2063.38 180.159 Z\" fill=\"#000000\" fill-rule=\"evenodd\" fill-opacity=\"1\" /><path clip-path=\"url(#clip830)\" d=\"M2086.6 193.238 Q2083.17 193.238 2081.18 195.923 Q2079.19 198.585 2079.19 203.238 Q2079.19 207.891 2081.16 210.576 Q2083.15 213.238 2086.6 213.238 Q2090 213.238 2091.99 210.553 Q2093.98 207.867 2093.98 203.238 Q2093.98 198.631 2091.99 195.946 Q2090 193.238 2086.6 193.238 M2086.6 189.627 Q2092.15 189.627 2095.32 193.238 Q2098.49 196.849 2098.49 203.238 Q2098.49 209.604 2095.32 213.238 Q2092.15 216.849 2086.6 216.849 Q2081.02 216.849 2077.85 213.238 Q2074.7 209.604 2074.7 203.238 Q2074.7 196.849 2077.85 193.238 Q2081.02 189.627 2086.6 189.627 Z\" fill=\"#000000\" fill-rule=\"evenodd\" fill-opacity=\"1\" /><path clip-path=\"url(#clip830)\" d=\"M2127.11 200.529 L2127.11 216.178 L2122.85 216.178 L2122.85 200.668 Q2122.85 196.988 2121.41 195.159 Q2119.98 193.33 2117.11 193.33 Q2113.66 193.33 2111.67 195.53 Q2109.68 197.729 2109.68 201.525 L2109.68 216.178 L2105.39 216.178 L2105.39 190.252 L2109.68 190.252 L2109.68 194.28 Q2111.2 191.942 2113.26 190.784 Q2115.35 189.627 2118.05 189.627 Q2122.52 189.627 2124.81 192.405 Q2127.11 195.159 2127.11 200.529 Z\" fill=\"#000000\" fill-rule=\"evenodd\" fill-opacity=\"1\" /><path clip-path=\"url(#clip830)\" d=\"M2155.53 185.46 L2155.53 198.446 L2161.41 198.446 Q2164.67 198.446 2166.46 196.756 Q2168.24 195.067 2168.24 191.942 Q2168.24 188.84 2166.46 187.15 Q2164.67 185.46 2161.41 185.46 L2155.53 185.46 M2150.86 181.618 L2161.41 181.618 Q2167.22 181.618 2170.18 184.256 Q2173.17 186.872 2173.17 191.942 Q2173.17 197.057 2170.18 199.673 Q2167.22 202.289 2161.41 202.289 L2155.53 202.289 L2155.53 216.178 L2150.86 216.178 L2150.86 181.618 Z\" fill=\"#000000\" fill-rule=\"evenodd\" fill-opacity=\"1\" /><path clip-path=\"url(#clip830)\" d=\"M2199.74 202.15 L2199.74 204.233 L2180.16 204.233 Q2180.44 208.631 2182.8 210.946 Q2185.18 213.238 2189.42 213.238 Q2191.87 213.238 2194.17 212.636 Q2196.48 212.034 2198.75 210.83 L2198.75 214.858 Q2196.46 215.83 2194.05 216.34 Q2191.64 216.849 2189.17 216.849 Q2182.96 216.849 2179.33 213.238 Q2175.72 209.627 2175.72 203.469 Q2175.72 197.104 2179.14 193.377 Q2182.59 189.627 2188.42 189.627 Q2193.66 189.627 2196.69 193.006 Q2199.74 196.363 2199.74 202.15 M2195.48 200.9 Q2195.44 197.405 2193.52 195.321 Q2191.62 193.238 2188.47 193.238 Q2184.91 193.238 2182.75 195.252 Q2180.62 197.266 2180.3 200.923 L2195.48 200.9 Z\" fill=\"#000000\" fill-rule=\"evenodd\" fill-opacity=\"1\" /><path clip-path=\"url(#clip830)\" d=\"M2217.92 197.034 Q2214.77 197.034 2212.92 199.187 Q2211.09 201.34 2211.09 205.09 Q2211.09 208.816 2212.92 210.992 Q2214.77 213.145 2217.92 213.145 Q2221.06 213.145 2222.89 210.992 Q2224.74 208.816 2224.74 205.09 Q2224.74 201.34 2222.89 199.187 Q2221.06 197.034 2217.92 197.034 M2227.2 182.381 L2227.2 186.641 Q2225.44 185.807 2223.63 185.368 Q2221.85 184.928 2220.09 184.928 Q2215.46 184.928 2213.01 188.053 Q2210.58 191.178 2210.23 197.497 Q2211.6 195.483 2213.66 194.418 Q2215.72 193.33 2218.19 193.33 Q2223.4 193.33 2226.41 196.502 Q2229.44 199.65 2229.44 205.09 Q2229.44 210.414 2226.3 213.631 Q2223.15 216.849 2217.92 216.849 Q2211.92 216.849 2208.75 212.266 Q2205.58 207.659 2205.58 198.932 Q2205.58 190.738 2209.47 185.877 Q2213.36 180.993 2219.91 180.993 Q2221.67 180.993 2223.45 181.34 Q2225.25 181.687 2227.2 182.381 Z\" fill=\"#000000\" fill-rule=\"evenodd\" fill-opacity=\"1\" /><polyline clip-path=\"url(#clip830)\" style=\"stroke:#3da44d; stroke-linecap:butt; stroke-linejoin:round; stroke-width:4; stroke-opacity:1; fill:none\" points=\"\n",
       "  1343.03,250.738 1490.61,250.738 \n",
       "  \"/>\n",
       "<path clip-path=\"url(#clip830)\" d=\"M1530.81 237.532 L1519.01 255.981 L1530.81 255.981 L1530.81 237.532 M1529.59 233.458 L1535.47 233.458 L1535.47 255.981 L1540.4 255.981 L1540.4 259.869 L1535.47 259.869 L1535.47 268.018 L1530.81 268.018 L1530.81 259.869 L1515.21 259.869 L1515.21 255.356 L1529.59 233.458 Z\" fill=\"#000000\" fill-rule=\"evenodd\" fill-opacity=\"1\" /><path clip-path=\"url(#clip830)\" d=\"M1558.13 236.536 Q1554.52 236.536 1552.69 240.101 Q1550.88 243.643 1550.88 250.772 Q1550.88 257.879 1552.69 261.444 Q1554.52 264.985 1558.13 264.985 Q1561.76 264.985 1563.57 261.444 Q1565.4 257.879 1565.4 250.772 Q1565.4 243.643 1563.57 240.101 Q1561.76 236.536 1558.13 236.536 M1558.13 232.833 Q1563.94 232.833 1566.99 237.439 Q1570.07 242.022 1570.07 250.772 Q1570.07 259.499 1566.99 264.106 Q1563.94 268.689 1558.13 268.689 Q1552.32 268.689 1549.24 264.106 Q1546.18 259.499 1546.18 250.772 Q1546.18 242.022 1549.24 237.439 Q1552.32 232.833 1558.13 232.833 Z\" fill=\"#000000\" fill-rule=\"evenodd\" fill-opacity=\"1\" /><path clip-path=\"url(#clip830)\" d=\"M1589.86 233.458 L1594.59 233.458 L1601.85 262.67 L1609.1 233.458 L1614.35 233.458 L1621.62 262.67 L1628.87 233.458 L1633.61 233.458 L1624.93 268.018 L1619.05 268.018 L1611.76 238.018 L1604.4 268.018 L1598.52 268.018 L1589.86 233.458 Z\" fill=\"#000000\" fill-rule=\"evenodd\" fill-opacity=\"1\" /><path clip-path=\"url(#clip830)\" d=\"M1648.38 254.985 Q1643.22 254.985 1641.23 256.166 Q1639.24 257.346 1639.24 260.194 Q1639.24 262.462 1640.72 263.805 Q1642.22 265.124 1644.79 265.124 Q1648.34 265.124 1650.46 262.624 Q1652.62 260.101 1652.62 255.934 L1652.62 254.985 L1648.38 254.985 M1656.88 253.226 L1656.88 268.018 L1652.62 268.018 L1652.62 264.082 Q1651.16 266.443 1648.98 267.578 Q1646.81 268.689 1643.66 268.689 Q1639.68 268.689 1637.32 266.467 Q1634.98 264.221 1634.98 260.471 Q1634.98 256.096 1637.9 253.874 Q1640.84 251.652 1646.65 251.652 L1652.62 251.652 L1652.62 251.235 Q1652.62 248.295 1650.67 246.698 Q1648.75 245.078 1645.26 245.078 Q1643.03 245.078 1640.93 245.61 Q1638.82 246.143 1636.88 247.207 L1636.88 243.272 Q1639.21 242.37 1641.41 241.93 Q1643.61 241.467 1645.7 241.467 Q1651.32 241.467 1654.1 244.383 Q1656.88 247.3 1656.88 253.226 Z\" fill=\"#000000\" fill-rule=\"evenodd\" fill-opacity=\"1\" /><path clip-path=\"url(#clip830)\" d=\"M1669.86 234.731 L1669.86 242.092 L1678.64 242.092 L1678.64 245.402 L1669.86 245.402 L1669.86 259.476 Q1669.86 262.647 1670.72 263.55 Q1671.6 264.453 1674.26 264.453 L1678.64 264.453 L1678.64 268.018 L1674.26 268.018 Q1669.33 268.018 1667.46 266.189 Q1665.58 264.337 1665.58 259.476 L1665.58 245.402 L1662.46 245.402 L1662.46 242.092 L1665.58 242.092 L1665.58 234.731 L1669.86 234.731 Z\" fill=\"#000000\" fill-rule=\"evenodd\" fill-opacity=\"1\" /><path clip-path=\"url(#clip830)\" d=\"M1688.45 234.731 L1688.45 242.092 L1697.22 242.092 L1697.22 245.402 L1688.45 245.402 L1688.45 259.476 Q1688.45 262.647 1689.31 263.55 Q1690.19 264.453 1692.85 264.453 L1697.22 264.453 L1697.22 268.018 L1692.85 268.018 Q1687.92 268.018 1686.04 266.189 Q1684.17 264.337 1684.17 259.476 L1684.17 245.402 L1681.04 245.402 L1681.04 242.092 L1684.17 242.092 L1684.17 234.731 L1688.45 234.731 Z\" fill=\"#000000\" fill-rule=\"evenodd\" fill-opacity=\"1\" /><path clip-path=\"url(#clip830)\" d=\"M1739.45 252.369 L1739.45 268.018 L1735.19 268.018 L1735.19 252.508 Q1735.19 248.828 1733.75 246.999 Q1732.32 245.17 1729.45 245.17 Q1726 245.17 1724.01 247.37 Q1722.02 249.569 1722.02 253.365 L1722.02 268.018 L1717.73 268.018 L1717.73 231.999 L1722.02 231.999 L1722.02 246.12 Q1723.54 243.782 1725.6 242.624 Q1727.69 241.467 1730.39 241.467 Q1734.86 241.467 1737.15 244.245 Q1739.45 246.999 1739.45 252.369 Z\" fill=\"#000000\" fill-rule=\"evenodd\" fill-opacity=\"1\" /><path clip-path=\"url(#clip830)\" d=\"M1770.12 253.99 L1770.12 256.073 L1750.53 256.073 Q1750.81 260.471 1753.17 262.786 Q1755.56 265.078 1759.79 265.078 Q1762.25 265.078 1764.54 264.476 Q1766.85 263.874 1769.12 262.67 L1769.12 266.698 Q1766.83 267.67 1764.42 268.18 Q1762.02 268.689 1759.54 268.689 Q1753.33 268.689 1749.7 265.078 Q1746.09 261.467 1746.09 255.309 Q1746.09 248.944 1749.52 245.217 Q1752.96 241.467 1758.8 241.467 Q1764.03 241.467 1767.06 244.846 Q1770.12 248.203 1770.12 253.99 M1765.86 252.74 Q1765.81 249.245 1763.89 247.161 Q1761.99 245.078 1758.84 245.078 Q1755.28 245.078 1753.13 247.092 Q1751 249.106 1750.67 252.763 L1765.86 252.74 Z\" fill=\"#000000\" fill-rule=\"evenodd\" fill-opacity=\"1\" /><path clip-path=\"url(#clip830)\" d=\"M1788.89 254.985 Q1783.73 254.985 1781.74 256.166 Q1779.75 257.346 1779.75 260.194 Q1779.75 262.462 1781.23 263.805 Q1782.73 265.124 1785.3 265.124 Q1788.84 265.124 1790.97 262.624 Q1793.13 260.101 1793.13 255.934 L1793.13 254.985 L1788.89 254.985 M1797.39 253.226 L1797.39 268.018 L1793.13 268.018 L1793.13 264.082 Q1791.67 266.443 1789.49 267.578 Q1787.32 268.689 1784.17 268.689 Q1780.19 268.689 1777.83 266.467 Q1775.49 264.221 1775.49 260.471 Q1775.49 256.096 1778.4 253.874 Q1781.34 251.652 1787.15 251.652 L1793.13 251.652 L1793.13 251.235 Q1793.13 248.295 1791.18 246.698 Q1789.26 245.078 1785.76 245.078 Q1783.54 245.078 1781.44 245.61 Q1779.33 246.143 1777.39 247.207 L1777.39 243.272 Q1779.72 242.37 1781.92 241.93 Q1784.12 241.467 1786.2 241.467 Q1791.83 241.467 1794.61 244.383 Q1797.39 247.3 1797.39 253.226 Z\" fill=\"#000000\" fill-rule=\"evenodd\" fill-opacity=\"1\" /><path clip-path=\"url(#clip830)\" d=\"M1810.37 234.731 L1810.37 242.092 L1819.14 242.092 L1819.14 245.402 L1810.37 245.402 L1810.37 259.476 Q1810.37 262.647 1811.23 263.55 Q1812.11 264.453 1814.77 264.453 L1819.14 264.453 L1819.14 268.018 L1814.77 268.018 Q1809.84 268.018 1807.96 266.189 Q1806.09 264.337 1806.09 259.476 L1806.09 245.402 L1802.96 245.402 L1802.96 242.092 L1806.09 242.092 L1806.09 234.731 L1810.37 234.731 Z\" fill=\"#000000\" fill-rule=\"evenodd\" fill-opacity=\"1\" /><path clip-path=\"url(#clip830)\" d=\"M1846.92 253.99 L1846.92 256.073 L1827.34 256.073 Q1827.62 260.471 1829.98 262.786 Q1832.36 265.078 1836.6 265.078 Q1839.05 265.078 1841.34 264.476 Q1843.66 263.874 1845.93 262.67 L1845.93 266.698 Q1843.64 267.67 1841.23 268.18 Q1838.82 268.689 1836.34 268.689 Q1830.14 268.689 1826.51 265.078 Q1822.89 261.467 1822.89 255.309 Q1822.89 248.944 1826.32 245.217 Q1829.77 241.467 1835.6 241.467 Q1840.83 241.467 1843.87 244.846 Q1846.92 248.203 1846.92 253.99 M1842.66 252.74 Q1842.62 249.245 1840.7 247.161 Q1838.8 245.078 1835.65 245.078 Q1832.08 245.078 1829.93 247.092 Q1827.8 249.106 1827.48 252.763 L1842.66 252.74 Z\" fill=\"#000000\" fill-rule=\"evenodd\" fill-opacity=\"1\" /><path clip-path=\"url(#clip830)\" d=\"M1868.94 246.073 Q1868.22 245.657 1867.36 245.471 Q1866.53 245.263 1865.51 245.263 Q1861.9 245.263 1859.95 247.624 Q1858.03 249.962 1858.03 254.36 L1858.03 268.018 L1853.75 268.018 L1853.75 242.092 L1858.03 242.092 L1858.03 246.12 Q1859.38 243.758 1861.53 242.624 Q1863.68 241.467 1866.76 241.467 Q1867.2 241.467 1867.73 241.536 Q1868.26 241.583 1868.91 241.698 L1868.94 246.073 Z\" fill=\"#000000\" fill-rule=\"evenodd\" fill-opacity=\"1\" /><path clip-path=\"url(#clip830)\" d=\"M1905 242.856 L1905 246.883 Q1903.19 245.957 1901.25 245.495 Q1899.31 245.032 1897.22 245.032 Q1894.05 245.032 1892.45 246.004 Q1890.88 246.976 1890.88 248.92 Q1890.88 250.402 1892.01 251.258 Q1893.15 252.092 1896.57 252.856 L1898.03 253.18 Q1902.57 254.152 1904.47 255.934 Q1906.39 257.694 1906.39 260.865 Q1906.39 264.476 1903.52 266.582 Q1900.67 268.689 1895.67 268.689 Q1893.59 268.689 1891.32 268.272 Q1889.07 267.879 1886.57 267.068 L1886.57 262.67 Q1888.94 263.897 1891.23 264.522 Q1893.52 265.124 1895.76 265.124 Q1898.77 265.124 1900.39 264.106 Q1902.01 263.064 1902.01 261.189 Q1902.01 259.453 1900.83 258.527 Q1899.68 257.601 1895.72 256.744 L1894.24 256.397 Q1890.28 255.564 1888.52 253.851 Q1886.76 252.115 1886.76 249.106 Q1886.76 245.448 1889.35 243.458 Q1891.94 241.467 1896.71 241.467 Q1899.07 241.467 1901.16 241.814 Q1903.24 242.161 1905 242.856 Z\" fill=\"#000000\" fill-rule=\"evenodd\" fill-opacity=\"1\" /><path clip-path=\"url(#clip830)\" d=\"M1913.17 242.092 L1917.43 242.092 L1917.43 268.018 L1913.17 268.018 L1913.17 242.092 M1913.17 231.999 L1917.43 231.999 L1917.43 237.393 L1913.17 237.393 L1913.17 231.999 Z\" fill=\"#000000\" fill-rule=\"evenodd\" fill-opacity=\"1\" /><path clip-path=\"url(#clip830)\" d=\"M1946.53 247.069 Q1948.13 244.198 1950.35 242.833 Q1952.57 241.467 1955.58 241.467 Q1959.63 241.467 1961.83 244.314 Q1964.03 247.138 1964.03 252.369 L1964.03 268.018 L1959.75 268.018 L1959.75 252.508 Q1959.75 248.782 1958.43 246.976 Q1957.11 245.17 1954.4 245.17 Q1951.09 245.17 1949.17 247.37 Q1947.25 249.569 1947.25 253.365 L1947.25 268.018 L1942.96 268.018 L1942.96 252.508 Q1942.96 248.758 1941.64 246.976 Q1940.32 245.17 1937.57 245.17 Q1934.31 245.17 1932.38 247.393 Q1930.46 249.592 1930.46 253.365 L1930.46 268.018 L1926.18 268.018 L1926.18 242.092 L1930.46 242.092 L1930.46 246.12 Q1931.92 243.735 1933.96 242.601 Q1936 241.467 1938.8 241.467 Q1941.62 241.467 1943.59 242.902 Q1945.58 244.337 1946.53 247.069 Z\" fill=\"#000000\" fill-rule=\"evenodd\" fill-opacity=\"1\" /><path clip-path=\"url(#clip830)\" d=\"M1972.08 257.786 L1972.08 242.092 L1976.34 242.092 L1976.34 257.624 Q1976.34 261.305 1977.78 263.156 Q1979.21 264.985 1982.08 264.985 Q1985.53 264.985 1987.52 262.786 Q1989.54 260.587 1989.54 256.791 L1989.54 242.092 L1993.8 242.092 L1993.8 268.018 L1989.54 268.018 L1989.54 264.036 Q1987.99 266.397 1985.93 267.555 Q1983.89 268.689 1981.18 268.689 Q1976.71 268.689 1974.4 265.911 Q1972.08 263.133 1972.08 257.786 M1982.8 241.467 L1982.8 241.467 Z\" fill=\"#000000\" fill-rule=\"evenodd\" fill-opacity=\"1\" /><path clip-path=\"url(#clip830)\" d=\"M2002.57 231.999 L2006.83 231.999 L2006.83 268.018 L2002.57 268.018 L2002.57 231.999 Z\" fill=\"#000000\" fill-rule=\"evenodd\" fill-opacity=\"1\" /><path clip-path=\"url(#clip830)\" d=\"M2027.52 254.985 Q2022.36 254.985 2020.37 256.166 Q2018.38 257.346 2018.38 260.194 Q2018.38 262.462 2019.86 263.805 Q2021.37 265.124 2023.93 265.124 Q2027.48 265.124 2029.61 262.624 Q2031.76 260.101 2031.76 255.934 L2031.76 254.985 L2027.52 254.985 M2036.02 253.226 L2036.02 268.018 L2031.76 268.018 L2031.76 264.082 Q2030.3 266.443 2028.12 267.578 Q2025.95 268.689 2022.8 268.689 Q2018.82 268.689 2016.46 266.467 Q2014.12 264.221 2014.12 260.471 Q2014.12 256.096 2017.04 253.874 Q2019.98 251.652 2025.79 251.652 L2031.76 251.652 L2031.76 251.235 Q2031.76 248.295 2029.81 246.698 Q2027.89 245.078 2024.4 245.078 Q2022.18 245.078 2020.07 245.61 Q2017.96 246.143 2016.02 247.207 L2016.02 243.272 Q2018.36 242.37 2020.56 241.93 Q2022.75 241.467 2024.84 241.467 Q2030.46 241.467 2033.24 244.383 Q2036.02 247.3 2036.02 253.226 Z\" fill=\"#000000\" fill-rule=\"evenodd\" fill-opacity=\"1\" /><path clip-path=\"url(#clip830)\" d=\"M2049 234.731 L2049 242.092 L2057.78 242.092 L2057.78 245.402 L2049 245.402 L2049 259.476 Q2049 262.647 2049.86 263.55 Q2050.74 264.453 2053.4 264.453 L2057.78 264.453 L2057.78 268.018 L2053.4 268.018 Q2048.47 268.018 2046.6 266.189 Q2044.72 264.337 2044.72 259.476 L2044.72 245.402 L2041.6 245.402 L2041.6 242.092 L2044.72 242.092 L2044.72 234.731 L2049 234.731 Z\" fill=\"#000000\" fill-rule=\"evenodd\" fill-opacity=\"1\" /><path clip-path=\"url(#clip830)\" d=\"M2063.38 242.092 L2067.64 242.092 L2067.64 268.018 L2063.38 268.018 L2063.38 242.092 M2063.38 231.999 L2067.64 231.999 L2067.64 237.393 L2063.38 237.393 L2063.38 231.999 Z\" fill=\"#000000\" fill-rule=\"evenodd\" fill-opacity=\"1\" /><path clip-path=\"url(#clip830)\" d=\"M2086.6 245.078 Q2083.17 245.078 2081.18 247.763 Q2079.19 250.425 2079.19 255.078 Q2079.19 259.731 2081.16 262.416 Q2083.15 265.078 2086.6 265.078 Q2090 265.078 2091.99 262.393 Q2093.98 259.707 2093.98 255.078 Q2093.98 250.471 2091.99 247.786 Q2090 245.078 2086.6 245.078 M2086.6 241.467 Q2092.15 241.467 2095.32 245.078 Q2098.49 248.689 2098.49 255.078 Q2098.49 261.444 2095.32 265.078 Q2092.15 268.689 2086.6 268.689 Q2081.02 268.689 2077.85 265.078 Q2074.7 261.444 2074.7 255.078 Q2074.7 248.689 2077.85 245.078 Q2081.02 241.467 2086.6 241.467 Z\" fill=\"#000000\" fill-rule=\"evenodd\" fill-opacity=\"1\" /><path clip-path=\"url(#clip830)\" d=\"M2127.11 252.369 L2127.11 268.018 L2122.85 268.018 L2122.85 252.508 Q2122.85 248.828 2121.41 246.999 Q2119.98 245.17 2117.11 245.17 Q2113.66 245.17 2111.67 247.37 Q2109.68 249.569 2109.68 253.365 L2109.68 268.018 L2105.39 268.018 L2105.39 242.092 L2109.68 242.092 L2109.68 246.12 Q2111.2 243.782 2113.26 242.624 Q2115.35 241.467 2118.05 241.467 Q2122.52 241.467 2124.81 244.245 Q2127.11 246.999 2127.11 252.369 Z\" fill=\"#000000\" fill-rule=\"evenodd\" fill-opacity=\"1\" /><path clip-path=\"url(#clip830)\" d=\"M2155.53 237.3 L2155.53 250.286 L2161.41 250.286 Q2164.67 250.286 2166.46 248.596 Q2168.24 246.907 2168.24 243.782 Q2168.24 240.68 2166.46 238.99 Q2164.67 237.3 2161.41 237.3 L2155.53 237.3 M2150.86 233.458 L2161.41 233.458 Q2167.22 233.458 2170.18 236.096 Q2173.17 238.712 2173.17 243.782 Q2173.17 248.897 2170.18 251.513 Q2167.22 254.129 2161.41 254.129 L2155.53 254.129 L2155.53 268.018 L2150.86 268.018 L2150.86 233.458 Z\" fill=\"#000000\" fill-rule=\"evenodd\" fill-opacity=\"1\" /><path clip-path=\"url(#clip830)\" d=\"M2199.74 253.99 L2199.74 256.073 L2180.16 256.073 Q2180.44 260.471 2182.8 262.786 Q2185.18 265.078 2189.42 265.078 Q2191.87 265.078 2194.17 264.476 Q2196.48 263.874 2198.75 262.67 L2198.75 266.698 Q2196.46 267.67 2194.05 268.18 Q2191.64 268.689 2189.17 268.689 Q2182.96 268.689 2179.33 265.078 Q2175.72 261.467 2175.72 255.309 Q2175.72 248.944 2179.14 245.217 Q2182.59 241.467 2188.42 241.467 Q2193.66 241.467 2196.69 244.846 Q2199.74 248.203 2199.74 253.99 M2195.48 252.74 Q2195.44 249.245 2193.52 247.161 Q2191.62 245.078 2188.47 245.078 Q2184.91 245.078 2182.75 247.092 Q2180.62 249.106 2180.3 252.763 L2195.48 252.74 Z\" fill=\"#000000\" fill-rule=\"evenodd\" fill-opacity=\"1\" /><path clip-path=\"url(#clip830)\" d=\"M2206.16 233.458 L2228.38 233.458 L2228.38 235.448 L2215.83 268.018 L2210.95 268.018 L2222.75 237.393 L2206.16 237.393 L2206.16 233.458 Z\" fill=\"#000000\" fill-rule=\"evenodd\" fill-opacity=\"1\" /><polyline clip-path=\"url(#clip830)\" style=\"stroke:#c271d2; stroke-linecap:butt; stroke-linejoin:round; stroke-width:4; stroke-opacity:1; fill:none\" points=\"\n",
       "  1343.03,302.578 1490.61,302.578 \n",
       "  \"/>\n",
       "<path clip-path=\"url(#clip830)\" d=\"M1530.81 289.372 L1519.01 307.821 L1530.81 307.821 L1530.81 289.372 M1529.59 285.298 L1535.47 285.298 L1535.47 307.821 L1540.4 307.821 L1540.4 311.709 L1535.47 311.709 L1535.47 319.858 L1530.81 319.858 L1530.81 311.709 L1515.21 311.709 L1515.21 307.196 L1529.59 285.298 Z\" fill=\"#000000\" fill-rule=\"evenodd\" fill-opacity=\"1\" /><path clip-path=\"url(#clip830)\" d=\"M1558.13 288.376 Q1554.52 288.376 1552.69 291.941 Q1550.88 295.483 1550.88 302.612 Q1550.88 309.719 1552.69 313.284 Q1554.52 316.825 1558.13 316.825 Q1561.76 316.825 1563.57 313.284 Q1565.4 309.719 1565.4 302.612 Q1565.4 295.483 1563.57 291.941 Q1561.76 288.376 1558.13 288.376 M1558.13 284.673 Q1563.94 284.673 1566.99 289.279 Q1570.07 293.862 1570.07 302.612 Q1570.07 311.339 1566.99 315.946 Q1563.94 320.529 1558.13 320.529 Q1552.32 320.529 1549.24 315.946 Q1546.18 311.339 1546.18 302.612 Q1546.18 293.862 1549.24 289.279 Q1552.32 284.673 1558.13 284.673 Z\" fill=\"#000000\" fill-rule=\"evenodd\" fill-opacity=\"1\" /><path clip-path=\"url(#clip830)\" d=\"M1589.86 285.298 L1594.59 285.298 L1601.85 314.51 L1609.1 285.298 L1614.35 285.298 L1621.62 314.51 L1628.87 285.298 L1633.61 285.298 L1624.93 319.858 L1619.05 319.858 L1611.76 289.858 L1604.4 319.858 L1598.52 319.858 L1589.86 285.298 Z\" fill=\"#000000\" fill-rule=\"evenodd\" fill-opacity=\"1\" /><path clip-path=\"url(#clip830)\" d=\"M1648.38 306.825 Q1643.22 306.825 1641.23 308.006 Q1639.24 309.186 1639.24 312.034 Q1639.24 314.302 1640.72 315.645 Q1642.22 316.964 1644.79 316.964 Q1648.34 316.964 1650.46 314.464 Q1652.62 311.941 1652.62 307.774 L1652.62 306.825 L1648.38 306.825 M1656.88 305.066 L1656.88 319.858 L1652.62 319.858 L1652.62 315.922 Q1651.16 318.283 1648.98 319.418 Q1646.81 320.529 1643.66 320.529 Q1639.68 320.529 1637.32 318.307 Q1634.98 316.061 1634.98 312.311 Q1634.98 307.936 1637.9 305.714 Q1640.84 303.492 1646.65 303.492 L1652.62 303.492 L1652.62 303.075 Q1652.62 300.135 1650.67 298.538 Q1648.75 296.918 1645.26 296.918 Q1643.03 296.918 1640.93 297.45 Q1638.82 297.983 1636.88 299.047 L1636.88 295.112 Q1639.21 294.21 1641.41 293.77 Q1643.61 293.307 1645.7 293.307 Q1651.32 293.307 1654.1 296.223 Q1656.88 299.14 1656.88 305.066 Z\" fill=\"#000000\" fill-rule=\"evenodd\" fill-opacity=\"1\" /><path clip-path=\"url(#clip830)\" d=\"M1669.86 286.571 L1669.86 293.932 L1678.64 293.932 L1678.64 297.242 L1669.86 297.242 L1669.86 311.316 Q1669.86 314.487 1670.72 315.39 Q1671.6 316.293 1674.26 316.293 L1678.64 316.293 L1678.64 319.858 L1674.26 319.858 Q1669.33 319.858 1667.46 318.029 Q1665.58 316.177 1665.58 311.316 L1665.58 297.242 L1662.46 297.242 L1662.46 293.932 L1665.58 293.932 L1665.58 286.571 L1669.86 286.571 Z\" fill=\"#000000\" fill-rule=\"evenodd\" fill-opacity=\"1\" /><path clip-path=\"url(#clip830)\" d=\"M1688.45 286.571 L1688.45 293.932 L1697.22 293.932 L1697.22 297.242 L1688.45 297.242 L1688.45 311.316 Q1688.45 314.487 1689.31 315.39 Q1690.19 316.293 1692.85 316.293 L1697.22 316.293 L1697.22 319.858 L1692.85 319.858 Q1687.92 319.858 1686.04 318.029 Q1684.17 316.177 1684.17 311.316 L1684.17 297.242 L1681.04 297.242 L1681.04 293.932 L1684.17 293.932 L1684.17 286.571 L1688.45 286.571 Z\" fill=\"#000000\" fill-rule=\"evenodd\" fill-opacity=\"1\" /><path clip-path=\"url(#clip830)\" d=\"M1739.45 304.209 L1739.45 319.858 L1735.19 319.858 L1735.19 304.348 Q1735.19 300.668 1733.75 298.839 Q1732.32 297.01 1729.45 297.01 Q1726 297.01 1724.01 299.21 Q1722.02 301.409 1722.02 305.205 L1722.02 319.858 L1717.73 319.858 L1717.73 283.839 L1722.02 283.839 L1722.02 297.96 Q1723.54 295.622 1725.6 294.464 Q1727.69 293.307 1730.39 293.307 Q1734.86 293.307 1737.15 296.085 Q1739.45 298.839 1739.45 304.209 Z\" fill=\"#000000\" fill-rule=\"evenodd\" fill-opacity=\"1\" /><path clip-path=\"url(#clip830)\" d=\"M1770.12 305.83 L1770.12 307.913 L1750.53 307.913 Q1750.81 312.311 1753.17 314.626 Q1755.56 316.918 1759.79 316.918 Q1762.25 316.918 1764.54 316.316 Q1766.85 315.714 1769.12 314.51 L1769.12 318.538 Q1766.83 319.51 1764.42 320.02 Q1762.02 320.529 1759.54 320.529 Q1753.33 320.529 1749.7 316.918 Q1746.09 313.307 1746.09 307.149 Q1746.09 300.784 1749.52 297.057 Q1752.96 293.307 1758.8 293.307 Q1764.03 293.307 1767.06 296.686 Q1770.12 300.043 1770.12 305.83 M1765.86 304.58 Q1765.81 301.085 1763.89 299.001 Q1761.99 296.918 1758.84 296.918 Q1755.28 296.918 1753.13 298.932 Q1751 300.946 1750.67 304.603 L1765.86 304.58 Z\" fill=\"#000000\" fill-rule=\"evenodd\" fill-opacity=\"1\" /><path clip-path=\"url(#clip830)\" d=\"M1788.89 306.825 Q1783.73 306.825 1781.74 308.006 Q1779.75 309.186 1779.75 312.034 Q1779.75 314.302 1781.23 315.645 Q1782.73 316.964 1785.3 316.964 Q1788.84 316.964 1790.97 314.464 Q1793.13 311.941 1793.13 307.774 L1793.13 306.825 L1788.89 306.825 M1797.39 305.066 L1797.39 319.858 L1793.13 319.858 L1793.13 315.922 Q1791.67 318.283 1789.49 319.418 Q1787.32 320.529 1784.17 320.529 Q1780.19 320.529 1777.83 318.307 Q1775.49 316.061 1775.49 312.311 Q1775.49 307.936 1778.4 305.714 Q1781.34 303.492 1787.15 303.492 L1793.13 303.492 L1793.13 303.075 Q1793.13 300.135 1791.18 298.538 Q1789.26 296.918 1785.76 296.918 Q1783.54 296.918 1781.44 297.45 Q1779.33 297.983 1777.39 299.047 L1777.39 295.112 Q1779.72 294.21 1781.92 293.77 Q1784.12 293.307 1786.2 293.307 Q1791.83 293.307 1794.61 296.223 Q1797.39 299.14 1797.39 305.066 Z\" fill=\"#000000\" fill-rule=\"evenodd\" fill-opacity=\"1\" /><path clip-path=\"url(#clip830)\" d=\"M1810.37 286.571 L1810.37 293.932 L1819.14 293.932 L1819.14 297.242 L1810.37 297.242 L1810.37 311.316 Q1810.37 314.487 1811.23 315.39 Q1812.11 316.293 1814.77 316.293 L1819.14 316.293 L1819.14 319.858 L1814.77 319.858 Q1809.84 319.858 1807.96 318.029 Q1806.09 316.177 1806.09 311.316 L1806.09 297.242 L1802.96 297.242 L1802.96 293.932 L1806.09 293.932 L1806.09 286.571 L1810.37 286.571 Z\" fill=\"#000000\" fill-rule=\"evenodd\" fill-opacity=\"1\" /><path clip-path=\"url(#clip830)\" d=\"M1846.92 305.83 L1846.92 307.913 L1827.34 307.913 Q1827.62 312.311 1829.98 314.626 Q1832.36 316.918 1836.6 316.918 Q1839.05 316.918 1841.34 316.316 Q1843.66 315.714 1845.93 314.51 L1845.93 318.538 Q1843.64 319.51 1841.23 320.02 Q1838.82 320.529 1836.34 320.529 Q1830.14 320.529 1826.51 316.918 Q1822.89 313.307 1822.89 307.149 Q1822.89 300.784 1826.32 297.057 Q1829.77 293.307 1835.6 293.307 Q1840.83 293.307 1843.87 296.686 Q1846.92 300.043 1846.92 305.83 M1842.66 304.58 Q1842.62 301.085 1840.7 299.001 Q1838.8 296.918 1835.65 296.918 Q1832.08 296.918 1829.93 298.932 Q1827.8 300.946 1827.48 304.603 L1842.66 304.58 Z\" fill=\"#000000\" fill-rule=\"evenodd\" fill-opacity=\"1\" /><path clip-path=\"url(#clip830)\" d=\"M1868.94 297.913 Q1868.22 297.497 1867.36 297.311 Q1866.53 297.103 1865.51 297.103 Q1861.9 297.103 1859.95 299.464 Q1858.03 301.802 1858.03 306.2 L1858.03 319.858 L1853.75 319.858 L1853.75 293.932 L1858.03 293.932 L1858.03 297.96 Q1859.38 295.598 1861.53 294.464 Q1863.68 293.307 1866.76 293.307 Q1867.2 293.307 1867.73 293.376 Q1868.26 293.423 1868.91 293.538 L1868.94 297.913 Z\" fill=\"#000000\" fill-rule=\"evenodd\" fill-opacity=\"1\" /><path clip-path=\"url(#clip830)\" d=\"M1905 294.696 L1905 298.723 Q1903.19 297.797 1901.25 297.335 Q1899.31 296.872 1897.22 296.872 Q1894.05 296.872 1892.45 297.844 Q1890.88 298.816 1890.88 300.76 Q1890.88 302.242 1892.01 303.098 Q1893.15 303.932 1896.57 304.696 L1898.03 305.02 Q1902.57 305.992 1904.47 307.774 Q1906.39 309.534 1906.39 312.705 Q1906.39 316.316 1903.52 318.422 Q1900.67 320.529 1895.67 320.529 Q1893.59 320.529 1891.32 320.112 Q1889.07 319.719 1886.57 318.908 L1886.57 314.51 Q1888.94 315.737 1891.23 316.362 Q1893.52 316.964 1895.76 316.964 Q1898.77 316.964 1900.39 315.946 Q1902.01 314.904 1902.01 313.029 Q1902.01 311.293 1900.83 310.367 Q1899.68 309.441 1895.72 308.584 L1894.24 308.237 Q1890.28 307.404 1888.52 305.691 Q1886.76 303.955 1886.76 300.946 Q1886.76 297.288 1889.35 295.298 Q1891.94 293.307 1896.71 293.307 Q1899.07 293.307 1901.16 293.654 Q1903.24 294.001 1905 294.696 Z\" fill=\"#000000\" fill-rule=\"evenodd\" fill-opacity=\"1\" /><path clip-path=\"url(#clip830)\" d=\"M1913.17 293.932 L1917.43 293.932 L1917.43 319.858 L1913.17 319.858 L1913.17 293.932 M1913.17 283.839 L1917.43 283.839 L1917.43 289.233 L1913.17 289.233 L1913.17 283.839 Z\" fill=\"#000000\" fill-rule=\"evenodd\" fill-opacity=\"1\" /><path clip-path=\"url(#clip830)\" d=\"M1946.53 298.909 Q1948.13 296.038 1950.35 294.673 Q1952.57 293.307 1955.58 293.307 Q1959.63 293.307 1961.83 296.154 Q1964.03 298.978 1964.03 304.209 L1964.03 319.858 L1959.75 319.858 L1959.75 304.348 Q1959.75 300.622 1958.43 298.816 Q1957.11 297.01 1954.4 297.01 Q1951.09 297.01 1949.17 299.21 Q1947.25 301.409 1947.25 305.205 L1947.25 319.858 L1942.96 319.858 L1942.96 304.348 Q1942.96 300.598 1941.64 298.816 Q1940.32 297.01 1937.57 297.01 Q1934.31 297.01 1932.38 299.233 Q1930.46 301.432 1930.46 305.205 L1930.46 319.858 L1926.18 319.858 L1926.18 293.932 L1930.46 293.932 L1930.46 297.96 Q1931.92 295.575 1933.96 294.441 Q1936 293.307 1938.8 293.307 Q1941.62 293.307 1943.59 294.742 Q1945.58 296.177 1946.53 298.909 Z\" fill=\"#000000\" fill-rule=\"evenodd\" fill-opacity=\"1\" /><path clip-path=\"url(#clip830)\" d=\"M1972.08 309.626 L1972.08 293.932 L1976.34 293.932 L1976.34 309.464 Q1976.34 313.145 1977.78 314.996 Q1979.21 316.825 1982.08 316.825 Q1985.53 316.825 1987.52 314.626 Q1989.54 312.427 1989.54 308.631 L1989.54 293.932 L1993.8 293.932 L1993.8 319.858 L1989.54 319.858 L1989.54 315.876 Q1987.99 318.237 1985.93 319.395 Q1983.89 320.529 1981.18 320.529 Q1976.71 320.529 1974.4 317.751 Q1972.08 314.973 1972.08 309.626 M1982.8 293.307 L1982.8 293.307 Z\" fill=\"#000000\" fill-rule=\"evenodd\" fill-opacity=\"1\" /><path clip-path=\"url(#clip830)\" d=\"M2002.57 283.839 L2006.83 283.839 L2006.83 319.858 L2002.57 319.858 L2002.57 283.839 Z\" fill=\"#000000\" fill-rule=\"evenodd\" fill-opacity=\"1\" /><path clip-path=\"url(#clip830)\" d=\"M2027.52 306.825 Q2022.36 306.825 2020.37 308.006 Q2018.38 309.186 2018.38 312.034 Q2018.38 314.302 2019.86 315.645 Q2021.37 316.964 2023.93 316.964 Q2027.48 316.964 2029.61 314.464 Q2031.76 311.941 2031.76 307.774 L2031.76 306.825 L2027.52 306.825 M2036.02 305.066 L2036.02 319.858 L2031.76 319.858 L2031.76 315.922 Q2030.3 318.283 2028.12 319.418 Q2025.95 320.529 2022.8 320.529 Q2018.82 320.529 2016.46 318.307 Q2014.12 316.061 2014.12 312.311 Q2014.12 307.936 2017.04 305.714 Q2019.98 303.492 2025.79 303.492 L2031.76 303.492 L2031.76 303.075 Q2031.76 300.135 2029.81 298.538 Q2027.89 296.918 2024.4 296.918 Q2022.18 296.918 2020.07 297.45 Q2017.96 297.983 2016.02 299.047 L2016.02 295.112 Q2018.36 294.21 2020.56 293.77 Q2022.75 293.307 2024.84 293.307 Q2030.46 293.307 2033.24 296.223 Q2036.02 299.14 2036.02 305.066 Z\" fill=\"#000000\" fill-rule=\"evenodd\" fill-opacity=\"1\" /><path clip-path=\"url(#clip830)\" d=\"M2049 286.571 L2049 293.932 L2057.78 293.932 L2057.78 297.242 L2049 297.242 L2049 311.316 Q2049 314.487 2049.86 315.39 Q2050.74 316.293 2053.4 316.293 L2057.78 316.293 L2057.78 319.858 L2053.4 319.858 Q2048.47 319.858 2046.6 318.029 Q2044.72 316.177 2044.72 311.316 L2044.72 297.242 L2041.6 297.242 L2041.6 293.932 L2044.72 293.932 L2044.72 286.571 L2049 286.571 Z\" fill=\"#000000\" fill-rule=\"evenodd\" fill-opacity=\"1\" /><path clip-path=\"url(#clip830)\" d=\"M2063.38 293.932 L2067.64 293.932 L2067.64 319.858 L2063.38 319.858 L2063.38 293.932 M2063.38 283.839 L2067.64 283.839 L2067.64 289.233 L2063.38 289.233 L2063.38 283.839 Z\" fill=\"#000000\" fill-rule=\"evenodd\" fill-opacity=\"1\" /><path clip-path=\"url(#clip830)\" d=\"M2086.6 296.918 Q2083.17 296.918 2081.18 299.603 Q2079.19 302.265 2079.19 306.918 Q2079.19 311.571 2081.16 314.256 Q2083.15 316.918 2086.6 316.918 Q2090 316.918 2091.99 314.233 Q2093.98 311.547 2093.98 306.918 Q2093.98 302.311 2091.99 299.626 Q2090 296.918 2086.6 296.918 M2086.6 293.307 Q2092.15 293.307 2095.32 296.918 Q2098.49 300.529 2098.49 306.918 Q2098.49 313.284 2095.32 316.918 Q2092.15 320.529 2086.6 320.529 Q2081.02 320.529 2077.85 316.918 Q2074.7 313.284 2074.7 306.918 Q2074.7 300.529 2077.85 296.918 Q2081.02 293.307 2086.6 293.307 Z\" fill=\"#000000\" fill-rule=\"evenodd\" fill-opacity=\"1\" /><path clip-path=\"url(#clip830)\" d=\"M2127.11 304.209 L2127.11 319.858 L2122.85 319.858 L2122.85 304.348 Q2122.85 300.668 2121.41 298.839 Q2119.98 297.01 2117.11 297.01 Q2113.66 297.01 2111.67 299.21 Q2109.68 301.409 2109.68 305.205 L2109.68 319.858 L2105.39 319.858 L2105.39 293.932 L2109.68 293.932 L2109.68 297.96 Q2111.2 295.622 2113.26 294.464 Q2115.35 293.307 2118.05 293.307 Q2122.52 293.307 2124.81 296.085 Q2127.11 298.839 2127.11 304.209 Z\" fill=\"#000000\" fill-rule=\"evenodd\" fill-opacity=\"1\" /><path clip-path=\"url(#clip830)\" d=\"M2155.53 289.14 L2155.53 302.126 L2161.41 302.126 Q2164.67 302.126 2166.46 300.436 Q2168.24 298.747 2168.24 295.622 Q2168.24 292.52 2166.46 290.83 Q2164.67 289.14 2161.41 289.14 L2155.53 289.14 M2150.86 285.298 L2161.41 285.298 Q2167.22 285.298 2170.18 287.936 Q2173.17 290.552 2173.17 295.622 Q2173.17 300.737 2170.18 303.353 Q2167.22 305.969 2161.41 305.969 L2155.53 305.969 L2155.53 319.858 L2150.86 319.858 L2150.86 285.298 Z\" fill=\"#000000\" fill-rule=\"evenodd\" fill-opacity=\"1\" /><path clip-path=\"url(#clip830)\" d=\"M2199.74 305.83 L2199.74 307.913 L2180.16 307.913 Q2180.44 312.311 2182.8 314.626 Q2185.18 316.918 2189.42 316.918 Q2191.87 316.918 2194.17 316.316 Q2196.48 315.714 2198.75 314.51 L2198.75 318.538 Q2196.46 319.51 2194.05 320.02 Q2191.64 320.529 2189.17 320.529 Q2182.96 320.529 2179.33 316.918 Q2175.72 313.307 2175.72 307.149 Q2175.72 300.784 2179.14 297.057 Q2182.59 293.307 2188.42 293.307 Q2193.66 293.307 2196.69 296.686 Q2199.74 300.043 2199.74 305.83 M2195.48 304.58 Q2195.44 301.085 2193.52 299.001 Q2191.62 296.918 2188.47 296.918 Q2184.91 296.918 2182.75 298.932 Q2180.62 300.946 2180.3 304.603 L2195.48 304.58 Z\" fill=\"#000000\" fill-rule=\"evenodd\" fill-opacity=\"1\" /><path clip-path=\"url(#clip830)\" d=\"M2217.34 303.446 Q2214 303.446 2212.08 305.228 Q2210.18 307.01 2210.18 310.135 Q2210.18 313.26 2212.08 315.043 Q2214 316.825 2217.34 316.825 Q2220.67 316.825 2222.59 315.043 Q2224.51 313.237 2224.51 310.135 Q2224.51 307.01 2222.59 305.228 Q2220.69 303.446 2217.34 303.446 M2212.66 301.455 Q2209.65 300.714 2207.96 298.654 Q2206.3 296.594 2206.3 293.631 Q2206.3 289.487 2209.23 287.08 Q2212.2 284.673 2217.34 284.673 Q2222.5 284.673 2225.44 287.08 Q2228.38 289.487 2228.38 293.631 Q2228.38 296.594 2226.69 298.654 Q2225.02 300.714 2222.04 301.455 Q2225.42 302.242 2227.29 304.534 Q2229.19 306.825 2229.19 310.135 Q2229.19 315.159 2226.11 317.844 Q2223.05 320.529 2217.34 320.529 Q2211.62 320.529 2208.54 317.844 Q2205.48 315.159 2205.48 310.135 Q2205.48 306.825 2207.38 304.534 Q2209.28 302.242 2212.66 301.455 M2210.95 294.071 Q2210.95 296.756 2212.61 298.26 Q2214.3 299.765 2217.34 299.765 Q2220.35 299.765 2222.04 298.26 Q2223.75 296.756 2223.75 294.071 Q2223.75 291.385 2222.04 289.881 Q2220.35 288.376 2217.34 288.376 Q2214.3 288.376 2212.61 289.881 Q2210.95 291.385 2210.95 294.071 Z\" fill=\"#000000\" fill-rule=\"evenodd\" fill-opacity=\"1\" /></svg>\n"
      ]
     },
     "execution_count": 13,
     "metadata": {},
     "output_type": "execute_result"
    }
   ],
   "source": [
    "\n",
    "plot(Pe4[\"thist\"], power ./ (Pe4[\"ghist\"][i1] .-Pe4[\"ghist\"][i2]),label=string(\"40 Watt heater simulation Pe4\"),linewidth=2,ylim=(0,15))\n",
    "plot!(Pe6[\"thist\"], power ./ (Pe6[\"ghist\"][i1] .-Pe6[\"ghist\"][i2]),label=string(\"40 Watt heater simulation Pe6\"),linewidth=2,ylim=(0,15))\n",
    "plot!(Pe7[\"thist\"], power ./ (Pe7[\"ghist\"][i1] .-Pe7[\"ghist\"][i2]),label=string(\"40 Watt heater simulation Pe7\"),linewidth=2,ylim=(0,15))\n",
    "plot!(Pe8[\"thist\"], power ./ (Pe8[\"ghist\"][i1] .-Pe8[\"ghist\"][i2]),label=string(\"40 Watt heater simulation Pe8\"),linewidth=2,ylim=(0,15))\n",
    "# scatter!(RTDt .- RTDt[1],power ./(RTD[:,i1] .- RTD[:,i2]), label=string(\"40 Watt heater experiment\"),legend=:topright,xlim=(thist[1],thist[end]),title=\"thermal conductance \",xlabel=\"time [s]\",ylabel=\"P/(T₄-T₈) [W/K]\")"
   ]
  },
  {
   "cell_type": "code",
   "execution_count": 33,
   "metadata": {},
   "outputs": [
    {
     "data": {
      "image/svg+xml": [
       "<?xml version=\"1.0\" encoding=\"utf-8\"?>\n",
       "<svg xmlns=\"http://www.w3.org/2000/svg\" xmlns:xlink=\"http://www.w3.org/1999/xlink\" width=\"600\" height=\"400\" viewBox=\"0 0 2400 1600\">\n",
       "<defs>\n",
       "  <clipPath id=\"clip960\">\n",
       "    <rect x=\"0\" y=\"0\" width=\"2400\" height=\"1600\"/>\n",
       "  </clipPath>\n",
       "</defs>\n",
       "<path clip-path=\"url(#clip960)\" d=\"\n",
       "M0 1600 L2400 1600 L2400 0 L0 0  Z\n",
       "  \" fill=\"#ffffff\" fill-rule=\"evenodd\" fill-opacity=\"1\"/>\n",
       "<defs>\n",
       "  <clipPath id=\"clip961\">\n",
       "    <rect x=\"480\" y=\"0\" width=\"1681\" height=\"1600\"/>\n",
       "  </clipPath>\n",
       "</defs>\n",
       "<path clip-path=\"url(#clip960)\" d=\"\n",
       "M202.227 1423.18 L2352.76 1423.18 L2352.76 123.472 L202.227 123.472  Z\n",
       "  \" fill=\"#ffffff\" fill-rule=\"evenodd\" fill-opacity=\"1\"/>\n",
       "<defs>\n",
       "  <clipPath id=\"clip962\">\n",
       "    <rect x=\"202\" y=\"123\" width=\"2152\" height=\"1301\"/>\n",
       "  </clipPath>\n",
       "</defs>\n",
       "<polyline clip-path=\"url(#clip962)\" style=\"stroke:#000000; stroke-linecap:butt; stroke-linejoin:round; stroke-width:2; stroke-opacity:0.1; fill:none\" points=\"\n",
       "  554.659,1423.18 554.659,123.472 \n",
       "  \"/>\n",
       "<polyline clip-path=\"url(#clip962)\" style=\"stroke:#000000; stroke-linecap:butt; stroke-linejoin:round; stroke-width:2; stroke-opacity:0.1; fill:none\" points=\"\n",
       "  914.279,1423.18 914.279,123.472 \n",
       "  \"/>\n",
       "<polyline clip-path=\"url(#clip962)\" style=\"stroke:#000000; stroke-linecap:butt; stroke-linejoin:round; stroke-width:2; stroke-opacity:0.1; fill:none\" points=\"\n",
       "  1273.9,1423.18 1273.9,123.472 \n",
       "  \"/>\n",
       "<polyline clip-path=\"url(#clip962)\" style=\"stroke:#000000; stroke-linecap:butt; stroke-linejoin:round; stroke-width:2; stroke-opacity:0.1; fill:none\" points=\"\n",
       "  1633.52,1423.18 1633.52,123.472 \n",
       "  \"/>\n",
       "<polyline clip-path=\"url(#clip962)\" style=\"stroke:#000000; stroke-linecap:butt; stroke-linejoin:round; stroke-width:2; stroke-opacity:0.1; fill:none\" points=\"\n",
       "  1993.14,1423.18 1993.14,123.472 \n",
       "  \"/>\n",
       "<polyline clip-path=\"url(#clip960)\" style=\"stroke:#000000; stroke-linecap:butt; stroke-linejoin:round; stroke-width:4; stroke-opacity:1; fill:none\" points=\"\n",
       "  202.227,1423.18 2352.76,1423.18 \n",
       "  \"/>\n",
       "<polyline clip-path=\"url(#clip960)\" style=\"stroke:#000000; stroke-linecap:butt; stroke-linejoin:round; stroke-width:4; stroke-opacity:1; fill:none\" points=\"\n",
       "  554.659,1423.18 554.659,1404.28 \n",
       "  \"/>\n",
       "<polyline clip-path=\"url(#clip960)\" style=\"stroke:#000000; stroke-linecap:butt; stroke-linejoin:round; stroke-width:4; stroke-opacity:1; fill:none\" points=\"\n",
       "  914.279,1423.18 914.279,1404.28 \n",
       "  \"/>\n",
       "<polyline clip-path=\"url(#clip960)\" style=\"stroke:#000000; stroke-linecap:butt; stroke-linejoin:round; stroke-width:4; stroke-opacity:1; fill:none\" points=\"\n",
       "  1273.9,1423.18 1273.9,1404.28 \n",
       "  \"/>\n",
       "<polyline clip-path=\"url(#clip960)\" style=\"stroke:#000000; stroke-linecap:butt; stroke-linejoin:round; stroke-width:4; stroke-opacity:1; fill:none\" points=\"\n",
       "  1633.52,1423.18 1633.52,1404.28 \n",
       "  \"/>\n",
       "<polyline clip-path=\"url(#clip960)\" style=\"stroke:#000000; stroke-linecap:butt; stroke-linejoin:round; stroke-width:4; stroke-opacity:1; fill:none\" points=\"\n",
       "  1993.14,1423.18 1993.14,1404.28 \n",
       "  \"/>\n",
       "<path clip-path=\"url(#clip960)\" d=\"M529.358 1451.02 L547.714 1451.02 L547.714 1454.96 L533.64 1454.96 L533.64 1463.43 Q534.659 1463.08 535.677 1462.92 Q536.696 1462.73 537.714 1462.73 Q543.501 1462.73 546.881 1465.9 Q550.261 1469.08 550.261 1474.49 Q550.261 1480.07 546.788 1483.17 Q543.316 1486.25 536.997 1486.25 Q534.821 1486.25 532.552 1485.88 Q530.307 1485.51 527.9 1484.77 L527.9 1480.07 Q529.983 1481.2 532.205 1481.76 Q534.427 1482.32 536.904 1482.32 Q540.909 1482.32 543.247 1480.21 Q545.585 1478.1 545.585 1474.49 Q545.585 1470.88 543.247 1468.77 Q540.909 1466.67 536.904 1466.67 Q535.029 1466.67 533.154 1467.08 Q531.302 1467.5 529.358 1468.38 L529.358 1451.02 Z\" fill=\"#000000\" fill-rule=\"evenodd\" fill-opacity=\"1\" /><path clip-path=\"url(#clip960)\" d=\"M569.474 1454.1 Q565.862 1454.1 564.034 1457.66 Q562.228 1461.2 562.228 1468.33 Q562.228 1475.44 564.034 1479.01 Q565.862 1482.55 569.474 1482.55 Q573.108 1482.55 574.913 1479.01 Q576.742 1475.44 576.742 1468.33 Q576.742 1461.2 574.913 1457.66 Q573.108 1454.1 569.474 1454.1 M569.474 1450.39 Q575.284 1450.39 578.339 1455 Q581.418 1459.58 581.418 1468.33 Q581.418 1477.06 578.339 1481.67 Q575.284 1486.25 569.474 1486.25 Q563.663 1486.25 560.585 1481.67 Q557.529 1477.06 557.529 1468.33 Q557.529 1459.58 560.585 1455 Q563.663 1450.39 569.474 1450.39 Z\" fill=\"#000000\" fill-rule=\"evenodd\" fill-opacity=\"1\" /><path clip-path=\"url(#clip960)\" d=\"M873.886 1481.64 L881.524 1481.64 L881.524 1455.28 L873.214 1456.95 L873.214 1452.69 L881.478 1451.02 L886.154 1451.02 L886.154 1481.64 L893.793 1481.64 L893.793 1485.58 L873.886 1485.58 L873.886 1481.64 Z\" fill=\"#000000\" fill-rule=\"evenodd\" fill-opacity=\"1\" /><path clip-path=\"url(#clip960)\" d=\"M913.237 1454.1 Q909.626 1454.1 907.797 1457.66 Q905.992 1461.2 905.992 1468.33 Q905.992 1475.44 907.797 1479.01 Q909.626 1482.55 913.237 1482.55 Q916.872 1482.55 918.677 1479.01 Q920.506 1475.44 920.506 1468.33 Q920.506 1461.2 918.677 1457.66 Q916.872 1454.1 913.237 1454.1 M913.237 1450.39 Q919.047 1450.39 922.103 1455 Q925.182 1459.58 925.182 1468.33 Q925.182 1477.06 922.103 1481.67 Q919.047 1486.25 913.237 1486.25 Q907.427 1486.25 904.348 1481.67 Q901.293 1477.06 901.293 1468.33 Q901.293 1459.58 904.348 1455 Q907.427 1450.39 913.237 1450.39 Z\" fill=\"#000000\" fill-rule=\"evenodd\" fill-opacity=\"1\" /><path clip-path=\"url(#clip960)\" d=\"M943.399 1454.1 Q939.788 1454.1 937.959 1457.66 Q936.154 1461.2 936.154 1468.33 Q936.154 1475.44 937.959 1479.01 Q939.788 1482.55 943.399 1482.55 Q947.033 1482.55 948.839 1479.01 Q950.668 1475.44 950.668 1468.33 Q950.668 1461.2 948.839 1457.66 Q947.033 1454.1 943.399 1454.1 M943.399 1450.39 Q949.209 1450.39 952.265 1455 Q955.344 1459.58 955.344 1468.33 Q955.344 1477.06 952.265 1481.67 Q949.209 1486.25 943.399 1486.25 Q937.589 1486.25 934.51 1481.67 Q931.455 1477.06 931.455 1468.33 Q931.455 1459.58 934.51 1455 Q937.589 1450.39 943.399 1450.39 Z\" fill=\"#000000\" fill-rule=\"evenodd\" fill-opacity=\"1\" /><path clip-path=\"url(#clip960)\" d=\"M1233.51 1481.64 L1241.14 1481.64 L1241.14 1455.28 L1232.83 1456.95 L1232.83 1452.69 L1241.1 1451.02 L1245.77 1451.02 L1245.77 1481.64 L1253.41 1481.64 L1253.41 1485.58 L1233.51 1485.58 L1233.51 1481.64 Z\" fill=\"#000000\" fill-rule=\"evenodd\" fill-opacity=\"1\" /><path clip-path=\"url(#clip960)\" d=\"M1262.9 1451.02 L1281.26 1451.02 L1281.26 1454.96 L1267.19 1454.96 L1267.19 1463.43 Q1268.2 1463.08 1269.22 1462.92 Q1270.24 1462.73 1271.26 1462.73 Q1277.05 1462.73 1280.43 1465.9 Q1283.81 1469.08 1283.81 1474.49 Q1283.81 1480.07 1280.33 1483.17 Q1276.86 1486.25 1270.54 1486.25 Q1268.37 1486.25 1266.1 1485.88 Q1263.85 1485.51 1261.45 1484.77 L1261.45 1480.07 Q1263.53 1481.2 1265.75 1481.76 Q1267.97 1482.32 1270.45 1482.32 Q1274.45 1482.32 1276.79 1480.21 Q1279.13 1478.1 1279.13 1474.49 Q1279.13 1470.88 1276.79 1468.77 Q1274.45 1466.67 1270.45 1466.67 Q1268.58 1466.67 1266.7 1467.08 Q1264.85 1467.5 1262.9 1468.38 L1262.9 1451.02 Z\" fill=\"#000000\" fill-rule=\"evenodd\" fill-opacity=\"1\" /><path clip-path=\"url(#clip960)\" d=\"M1303.02 1454.1 Q1299.41 1454.1 1297.58 1457.66 Q1295.77 1461.2 1295.77 1468.33 Q1295.77 1475.44 1297.58 1479.01 Q1299.41 1482.55 1303.02 1482.55 Q1306.65 1482.55 1308.46 1479.01 Q1310.29 1475.44 1310.29 1468.33 Q1310.29 1461.2 1308.46 1457.66 Q1306.65 1454.1 1303.02 1454.1 M1303.02 1450.39 Q1308.83 1450.39 1311.88 1455 Q1314.96 1459.58 1314.96 1468.33 Q1314.96 1477.06 1311.88 1481.67 Q1308.83 1486.25 1303.02 1486.25 Q1297.21 1486.25 1294.13 1481.67 Q1291.07 1477.06 1291.07 1468.33 Q1291.07 1459.58 1294.13 1455 Q1297.21 1450.39 1303.02 1450.39 Z\" fill=\"#000000\" fill-rule=\"evenodd\" fill-opacity=\"1\" /><path clip-path=\"url(#clip960)\" d=\"M1597.21 1481.64 L1613.53 1481.64 L1613.53 1485.58 L1591.59 1485.58 L1591.59 1481.64 Q1594.25 1478.89 1598.83 1474.26 Q1603.44 1469.61 1604.62 1468.27 Q1606.86 1465.74 1607.74 1464.01 Q1608.65 1462.25 1608.65 1460.56 Q1608.65 1457.8 1606.7 1456.07 Q1604.78 1454.33 1601.68 1454.33 Q1599.48 1454.33 1597.03 1455.09 Q1594.6 1455.86 1591.82 1457.41 L1591.82 1452.69 Q1594.64 1451.55 1597.1 1450.97 Q1599.55 1450.39 1601.59 1450.39 Q1606.96 1450.39 1610.15 1453.08 Q1613.35 1455.77 1613.35 1460.26 Q1613.35 1462.39 1612.54 1464.31 Q1611.75 1466.2 1609.64 1468.8 Q1609.06 1469.47 1605.96 1472.69 Q1602.86 1475.88 1597.21 1481.64 Z\" fill=\"#000000\" fill-rule=\"evenodd\" fill-opacity=\"1\" /><path clip-path=\"url(#clip960)\" d=\"M1633.35 1454.1 Q1629.73 1454.1 1627.91 1457.66 Q1626.1 1461.2 1626.1 1468.33 Q1626.1 1475.44 1627.91 1479.01 Q1629.73 1482.55 1633.35 1482.55 Q1636.98 1482.55 1638.79 1479.01 Q1640.61 1475.44 1640.61 1468.33 Q1640.61 1461.2 1638.79 1457.66 Q1636.98 1454.1 1633.35 1454.1 M1633.35 1450.39 Q1639.16 1450.39 1642.21 1455 Q1645.29 1459.58 1645.29 1468.33 Q1645.29 1477.06 1642.21 1481.67 Q1639.16 1486.25 1633.35 1486.25 Q1627.54 1486.25 1624.46 1481.67 Q1621.4 1477.06 1621.4 1468.33 Q1621.4 1459.58 1624.46 1455 Q1627.54 1450.39 1633.35 1450.39 Z\" fill=\"#000000\" fill-rule=\"evenodd\" fill-opacity=\"1\" /><path clip-path=\"url(#clip960)\" d=\"M1663.51 1454.1 Q1659.9 1454.1 1658.07 1457.66 Q1656.26 1461.2 1656.26 1468.33 Q1656.26 1475.44 1658.07 1479.01 Q1659.9 1482.55 1663.51 1482.55 Q1667.14 1482.55 1668.95 1479.01 Q1670.78 1475.44 1670.78 1468.33 Q1670.78 1461.2 1668.95 1457.66 Q1667.14 1454.1 1663.51 1454.1 M1663.51 1450.39 Q1669.32 1450.39 1672.37 1455 Q1675.45 1459.58 1675.45 1468.33 Q1675.45 1477.06 1672.37 1481.67 Q1669.32 1486.25 1663.51 1486.25 Q1657.7 1486.25 1654.62 1481.67 Q1651.56 1477.06 1651.56 1468.33 Q1651.56 1459.58 1654.62 1455 Q1657.7 1450.39 1663.51 1450.39 Z\" fill=\"#000000\" fill-rule=\"evenodd\" fill-opacity=\"1\" /><path clip-path=\"url(#clip960)\" d=\"M1956.83 1481.64 L1973.15 1481.64 L1973.15 1485.58 L1951.21 1485.58 L1951.21 1481.64 Q1953.87 1478.89 1958.45 1474.26 Q1963.06 1469.61 1964.24 1468.27 Q1966.48 1465.74 1967.36 1464.01 Q1968.27 1462.25 1968.27 1460.56 Q1968.27 1457.8 1966.32 1456.07 Q1964.4 1454.33 1961.3 1454.33 Q1959.1 1454.33 1956.65 1455.09 Q1954.22 1455.86 1951.44 1457.41 L1951.44 1452.69 Q1954.26 1451.55 1956.72 1450.97 Q1959.17 1450.39 1961.21 1450.39 Q1966.58 1450.39 1969.77 1453.08 Q1972.97 1455.77 1972.97 1460.26 Q1972.97 1462.39 1972.16 1464.31 Q1971.37 1466.2 1969.26 1468.8 Q1968.68 1469.47 1965.58 1472.69 Q1962.48 1475.88 1956.83 1481.64 Z\" fill=\"#000000\" fill-rule=\"evenodd\" fill-opacity=\"1\" /><path clip-path=\"url(#clip960)\" d=\"M1983.01 1451.02 L2001.37 1451.02 L2001.37 1454.96 L1987.29 1454.96 L1987.29 1463.43 Q1988.31 1463.08 1989.33 1462.92 Q1990.35 1462.73 1991.37 1462.73 Q1997.16 1462.73 2000.54 1465.9 Q2003.91 1469.08 2003.91 1474.49 Q2003.91 1480.07 2000.44 1483.17 Q1996.97 1486.25 1990.65 1486.25 Q1988.48 1486.25 1986.21 1485.88 Q1983.96 1485.51 1981.55 1484.77 L1981.55 1480.07 Q1983.64 1481.2 1985.86 1481.76 Q1988.08 1482.32 1990.56 1482.32 Q1994.56 1482.32 1996.9 1480.21 Q1999.24 1478.1 1999.24 1474.49 Q1999.24 1470.88 1996.9 1468.77 Q1994.56 1466.67 1990.56 1466.67 Q1988.68 1466.67 1986.81 1467.08 Q1984.96 1467.5 1983.01 1468.38 L1983.01 1451.02 Z\" fill=\"#000000\" fill-rule=\"evenodd\" fill-opacity=\"1\" /><path clip-path=\"url(#clip960)\" d=\"M2023.13 1454.1 Q2019.52 1454.1 2017.69 1457.66 Q2015.88 1461.2 2015.88 1468.33 Q2015.88 1475.44 2017.69 1479.01 Q2019.52 1482.55 2023.13 1482.55 Q2026.76 1482.55 2028.57 1479.01 Q2030.4 1475.44 2030.4 1468.33 Q2030.4 1461.2 2028.57 1457.66 Q2026.76 1454.1 2023.13 1454.1 M2023.13 1450.39 Q2028.94 1450.39 2031.99 1455 Q2035.07 1459.58 2035.07 1468.33 Q2035.07 1477.06 2031.99 1481.67 Q2028.94 1486.25 2023.13 1486.25 Q2017.32 1486.25 2014.24 1481.67 Q2011.18 1477.06 2011.18 1468.33 Q2011.18 1459.58 2014.24 1455 Q2017.32 1450.39 2023.13 1450.39 Z\" fill=\"#000000\" fill-rule=\"evenodd\" fill-opacity=\"1\" /><path clip-path=\"url(#clip960)\" d=\"M1164.95 1522.27 L1164.95 1532.4 L1177.01 1532.4 L1177.01 1536.95 L1164.95 1536.95 L1164.95 1556.3 Q1164.95 1560.66 1166.12 1561.9 Q1167.33 1563.14 1170.99 1563.14 L1177.01 1563.14 L1177.01 1568.04 L1170.99 1568.04 Q1164.21 1568.04 1161.64 1565.53 Q1159.06 1562.98 1159.06 1556.3 L1159.06 1536.95 L1154.76 1536.95 L1154.76 1532.4 L1159.06 1532.4 L1159.06 1522.27 L1164.95 1522.27 Z\" fill=\"#000000\" fill-rule=\"evenodd\" fill-opacity=\"1\" /><path clip-path=\"url(#clip960)\" d=\"M1184.71 1532.4 L1190.57 1532.4 L1190.57 1568.04 L1184.71 1568.04 L1184.71 1532.4 M1184.71 1518.52 L1190.57 1518.52 L1190.57 1525.93 L1184.71 1525.93 L1184.71 1518.52 Z\" fill=\"#000000\" fill-rule=\"evenodd\" fill-opacity=\"1\" /><path clip-path=\"url(#clip960)\" d=\"M1230.58 1539.24 Q1232.77 1535.29 1235.83 1533.41 Q1238.88 1531.54 1243.02 1531.54 Q1248.59 1531.54 1251.62 1535.45 Q1254.64 1539.33 1254.64 1546.53 L1254.64 1568.04 L1248.75 1568.04 L1248.75 1546.72 Q1248.75 1541.59 1246.94 1539.11 Q1245.12 1536.63 1241.4 1536.63 Q1236.85 1536.63 1234.2 1539.65 Q1231.56 1542.68 1231.56 1547.9 L1231.56 1568.04 L1225.67 1568.04 L1225.67 1546.72 Q1225.67 1541.56 1223.86 1539.11 Q1222.05 1536.63 1218.26 1536.63 Q1213.77 1536.63 1211.13 1539.68 Q1208.49 1542.71 1208.49 1547.9 L1208.49 1568.04 L1202.6 1568.04 L1202.6 1532.4 L1208.49 1532.4 L1208.49 1537.93 Q1210.49 1534.66 1213.29 1533.1 Q1216.09 1531.54 1219.95 1531.54 Q1223.83 1531.54 1226.53 1533.51 Q1229.27 1535.48 1230.58 1539.24 Z\" fill=\"#000000\" fill-rule=\"evenodd\" fill-opacity=\"1\" /><path clip-path=\"url(#clip960)\" d=\"M1296.81 1548.76 L1296.81 1551.62 L1269.88 1551.62 Q1270.27 1557.67 1273.51 1560.85 Q1276.79 1564 1282.62 1564 Q1285.99 1564 1289.14 1563.17 Q1292.32 1562.35 1295.44 1560.69 L1295.44 1566.23 Q1292.29 1567.57 1288.98 1568.27 Q1285.67 1568.97 1282.27 1568.97 Q1273.74 1568.97 1268.74 1564 Q1263.77 1559.04 1263.77 1550.57 Q1263.77 1541.82 1268.48 1536.69 Q1273.23 1531.54 1281.25 1531.54 Q1288.44 1531.54 1292.61 1536.18 Q1296.81 1540.8 1296.81 1548.76 M1290.96 1547.04 Q1290.89 1542.23 1288.25 1539.37 Q1285.64 1536.5 1281.31 1536.5 Q1276.41 1536.5 1273.45 1539.27 Q1270.52 1542.04 1270.08 1547.07 L1290.96 1547.04 Z\" fill=\"#000000\" fill-rule=\"evenodd\" fill-opacity=\"1\" /><path clip-path=\"url(#clip960)\" d=\"M1326.6 1518.52 L1340.1 1518.52 L1340.1 1523.07 L1332.46 1523.07 L1332.46 1572.09 L1340.1 1572.09 L1340.1 1576.64 L1326.6 1576.64 L1326.6 1518.52 Z\" fill=\"#000000\" fill-rule=\"evenodd\" fill-opacity=\"1\" /><path clip-path=\"url(#clip960)\" d=\"M1375.3 1533.45 L1375.3 1538.98 Q1372.82 1537.71 1370.14 1537.07 Q1367.47 1536.44 1364.61 1536.44 Q1360.25 1536.44 1358.05 1537.77 Q1355.89 1539.11 1355.89 1541.79 Q1355.89 1543.82 1357.44 1545 Q1359 1546.15 1363.72 1547.2 L1365.72 1547.64 Q1371.96 1548.98 1374.57 1551.43 Q1377.21 1553.85 1377.21 1558.21 Q1377.21 1563.17 1373.26 1566.07 Q1369.35 1568.97 1362.47 1568.97 Q1359.61 1568.97 1356.49 1568.39 Q1353.4 1567.85 1349.97 1566.74 L1349.97 1560.69 Q1353.21 1562.38 1356.36 1563.24 Q1359.51 1564.07 1362.6 1564.07 Q1366.74 1564.07 1368.97 1562.66 Q1371.19 1561.23 1371.19 1558.65 Q1371.19 1556.27 1369.57 1554.99 Q1367.98 1553.72 1362.54 1552.54 L1360.5 1552.07 Q1355.06 1550.92 1352.64 1548.56 Q1350.22 1546.18 1350.22 1542.04 Q1350.22 1537.01 1353.78 1534.27 Q1357.35 1531.54 1363.91 1531.54 Q1367.15 1531.54 1370.02 1532.01 Q1372.88 1532.49 1375.3 1533.45 Z\" fill=\"#000000\" fill-rule=\"evenodd\" fill-opacity=\"1\" /><path clip-path=\"url(#clip960)\" d=\"M1400.22 1518.52 L1400.22 1576.64 L1386.73 1576.64 L1386.73 1572.09 L1394.33 1572.09 L1394.33 1523.07 L1386.73 1523.07 L1386.73 1518.52 L1400.22 1518.52 Z\" fill=\"#000000\" fill-rule=\"evenodd\" fill-opacity=\"1\" /><polyline clip-path=\"url(#clip962)\" style=\"stroke:#000000; stroke-linecap:butt; stroke-linejoin:round; stroke-width:2; stroke-opacity:0.1; fill:none\" points=\"\n",
       "  202.227,1423.18 2352.76,1423.18 \n",
       "  \"/>\n",
       "<polyline clip-path=\"url(#clip962)\" style=\"stroke:#000000; stroke-linecap:butt; stroke-linejoin:round; stroke-width:2; stroke-opacity:0.1; fill:none\" points=\"\n",
       "  202.227,989.944 2352.76,989.944 \n",
       "  \"/>\n",
       "<polyline clip-path=\"url(#clip962)\" style=\"stroke:#000000; stroke-linecap:butt; stroke-linejoin:round; stroke-width:2; stroke-opacity:0.1; fill:none\" points=\"\n",
       "  202.227,556.708 2352.76,556.708 \n",
       "  \"/>\n",
       "<polyline clip-path=\"url(#clip962)\" style=\"stroke:#000000; stroke-linecap:butt; stroke-linejoin:round; stroke-width:2; stroke-opacity:0.1; fill:none\" points=\"\n",
       "  202.227,123.472 2352.76,123.472 \n",
       "  \"/>\n",
       "<polyline clip-path=\"url(#clip960)\" style=\"stroke:#000000; stroke-linecap:butt; stroke-linejoin:round; stroke-width:4; stroke-opacity:1; fill:none\" points=\"\n",
       "  202.227,1423.18 202.227,123.472 \n",
       "  \"/>\n",
       "<polyline clip-path=\"url(#clip960)\" style=\"stroke:#000000; stroke-linecap:butt; stroke-linejoin:round; stroke-width:4; stroke-opacity:1; fill:none\" points=\"\n",
       "  202.227,1423.18 221.125,1423.18 \n",
       "  \"/>\n",
       "<polyline clip-path=\"url(#clip960)\" style=\"stroke:#000000; stroke-linecap:butt; stroke-linejoin:round; stroke-width:4; stroke-opacity:1; fill:none\" points=\"\n",
       "  202.227,989.944 221.125,989.944 \n",
       "  \"/>\n",
       "<polyline clip-path=\"url(#clip960)\" style=\"stroke:#000000; stroke-linecap:butt; stroke-linejoin:round; stroke-width:4; stroke-opacity:1; fill:none\" points=\"\n",
       "  202.227,556.708 221.125,556.708 \n",
       "  \"/>\n",
       "<polyline clip-path=\"url(#clip960)\" style=\"stroke:#000000; stroke-linecap:butt; stroke-linejoin:round; stroke-width:4; stroke-opacity:1; fill:none\" points=\"\n",
       "  202.227,123.472 221.125,123.472 \n",
       "  \"/>\n",
       "<path clip-path=\"url(#clip960)\" d=\"M154.283 1408.98 Q150.672 1408.98 148.843 1412.54 Q147.038 1416.08 147.038 1423.21 Q147.038 1430.32 148.843 1433.89 Q150.672 1437.43 154.283 1437.43 Q157.917 1437.43 159.723 1433.89 Q161.552 1430.32 161.552 1423.21 Q161.552 1416.08 159.723 1412.54 Q157.917 1408.98 154.283 1408.98 M154.283 1405.27 Q160.093 1405.27 163.149 1409.88 Q166.227 1414.46 166.227 1423.21 Q166.227 1431.94 163.149 1436.55 Q160.093 1441.13 154.283 1441.13 Q148.473 1441.13 145.394 1436.55 Q142.339 1431.94 142.339 1423.21 Q142.339 1414.46 145.394 1409.88 Q148.473 1405.27 154.283 1405.27 Z\" fill=\"#000000\" fill-rule=\"evenodd\" fill-opacity=\"1\" /><path clip-path=\"url(#clip960)\" d=\"M145.325 972.664 L163.681 972.664 L163.681 976.599 L149.607 976.599 L149.607 985.071 Q150.626 984.724 151.644 984.562 Q152.663 984.377 153.681 984.377 Q159.468 984.377 162.848 987.548 Q166.227 990.719 166.227 996.136 Q166.227 1001.71 162.755 1004.82 Q159.283 1007.9 152.964 1007.9 Q150.788 1007.9 148.519 1007.52 Q146.274 1007.15 143.866 1006.41 L143.866 1001.71 Q145.95 1002.85 148.172 1003.4 Q150.394 1003.96 152.871 1003.96 Q156.876 1003.96 159.214 1001.85 Q161.552 999.747 161.552 996.136 Q161.552 992.525 159.214 990.418 Q156.876 988.312 152.871 988.312 Q150.996 988.312 149.121 988.729 Q147.269 989.145 145.325 990.025 L145.325 972.664 Z\" fill=\"#000000\" fill-rule=\"evenodd\" fill-opacity=\"1\" /><path clip-path=\"url(#clip960)\" d=\"M114.931 570.053 L122.57 570.053 L122.57 543.687 L114.26 545.354 L114.26 541.095 L122.524 539.428 L127.2 539.428 L127.2 570.053 L134.839 570.053 L134.839 573.988 L114.931 573.988 L114.931 570.053 Z\" fill=\"#000000\" fill-rule=\"evenodd\" fill-opacity=\"1\" /><path clip-path=\"url(#clip960)\" d=\"M154.283 542.507 Q150.672 542.507 148.843 546.072 Q147.038 549.613 147.038 556.743 Q147.038 563.849 148.843 567.414 Q150.672 570.956 154.283 570.956 Q157.917 570.956 159.723 567.414 Q161.552 563.849 161.552 556.743 Q161.552 549.613 159.723 546.072 Q157.917 542.507 154.283 542.507 M154.283 538.803 Q160.093 538.803 163.149 543.409 Q166.227 547.993 166.227 556.743 Q166.227 565.47 163.149 570.076 Q160.093 574.659 154.283 574.659 Q148.473 574.659 145.394 570.076 Q142.339 565.47 142.339 556.743 Q142.339 547.993 145.394 543.409 Q148.473 538.803 154.283 538.803 Z\" fill=\"#000000\" fill-rule=\"evenodd\" fill-opacity=\"1\" /><path clip-path=\"url(#clip960)\" d=\"M115.927 136.817 L123.566 136.817 L123.566 110.451 L115.256 112.118 L115.256 107.859 L123.519 106.192 L128.195 106.192 L128.195 136.817 L135.834 136.817 L135.834 140.752 L115.927 140.752 L115.927 136.817 Z\" fill=\"#000000\" fill-rule=\"evenodd\" fill-opacity=\"1\" /><path clip-path=\"url(#clip960)\" d=\"M145.325 106.192 L163.681 106.192 L163.681 110.127 L149.607 110.127 L149.607 118.599 Q150.626 118.252 151.644 118.09 Q152.663 117.905 153.681 117.905 Q159.468 117.905 162.848 121.076 Q166.227 124.248 166.227 129.664 Q166.227 135.243 162.755 138.345 Q159.283 141.423 152.964 141.423 Q150.788 141.423 148.519 141.053 Q146.274 140.683 143.866 139.942 L143.866 135.243 Q145.95 136.377 148.172 136.933 Q150.394 137.488 152.871 137.488 Q156.876 137.488 159.214 135.382 Q161.552 133.275 161.552 129.664 Q161.552 126.053 159.214 123.947 Q156.876 121.84 152.871 121.84 Q150.996 121.84 149.121 122.257 Q147.269 122.674 145.325 123.553 L145.325 106.192 Z\" fill=\"#000000\" fill-rule=\"evenodd\" fill-opacity=\"1\" /><path clip-path=\"url(#clip960)\" d=\"M21.7677 992.052 L39.6235 992.052 L39.6235 983.967 Q39.6235 979.479 37.3 977.029 Q34.9765 974.578 30.6797 974.578 Q26.4147 974.578 24.0912 977.029 Q21.7677 979.479 21.7677 983.967 L21.7677 992.052 M16.4842 998.481 L16.4842 983.967 Q16.4842 975.978 20.1126 971.904 Q23.7092 967.798 30.6797 967.798 Q37.7138 967.798 41.3104 971.904 Q44.907 975.978 44.907 983.967 L44.907 992.052 L64.0042 992.052 L64.0042 998.481 L16.4842 998.481 Z\" fill=\"#000000\" fill-rule=\"evenodd\" fill-opacity=\"1\" /><path clip-path=\"url(#clip960)\" d=\"M16.4842 949.019 L16.4842 943.609 L70.0516 960.159 L70.0516 965.57 L16.4842 949.019 Z\" fill=\"#000000\" fill-rule=\"evenodd\" fill-opacity=\"1\" /><path clip-path=\"url(#clip960)\" d=\"M14.5426 923.398 Q21.8632 927.663 29.0246 929.731 Q36.186 931.8 43.5384 931.8 Q50.8908 931.8 58.1159 929.731 Q65.3091 927.631 72.5979 923.398 L72.5979 928.49 Q65.1182 933.264 57.8931 935.652 Q50.668 938.007 43.5384 938.007 Q36.4406 938.007 29.2474 935.652 Q22.0542 933.296 14.5426 928.49 L14.5426 923.398 Z\" fill=\"#000000\" fill-rule=\"evenodd\" fill-opacity=\"1\" /><path clip-path=\"url(#clip960)\" d=\"M16.4842 918.369 L16.4842 878.169 L21.895 878.169 L21.895 895.038 L64.0042 895.038 L64.0042 901.499 L21.895 901.499 L21.895 918.369 L16.4842 918.369 Z\" fill=\"#000000\" fill-rule=\"evenodd\" fill-opacity=\"1\" /><path clip-path=\"url(#clip960)\" d=\"M41.2786 863.178 L54.6147 873.013 L54.6147 863.178 L41.2786 863.178 M37.4273 863.878 L37.4273 858.595 L54.6147 858.595 L54.6147 854.298 L58.0841 854.298 L58.0841 858.595 L64.0042 858.595 L64.0042 863.178 L58.0841 863.178 L58.0841 876.355 L54.2328 876.355 L37.4273 863.878 Z\" fill=\"#000000\" fill-rule=\"evenodd\" fill-opacity=\"1\" /><path clip-path=\"url(#clip960)\" d=\"M43.5384 849.046 L43.5384 831.89 L48.7583 831.89 L48.7583 849.046 L43.5384 849.046 Z\" fill=\"#000000\" fill-rule=\"evenodd\" fill-opacity=\"1\" /><path clip-path=\"url(#clip960)\" d=\"M16.4842 834.882 L16.4842 794.683 L21.895 794.683 L21.895 811.552 L64.0042 811.552 L64.0042 818.013 L21.895 818.013 L21.895 834.882 L16.4842 834.882 Z\" fill=\"#000000\" fill-rule=\"evenodd\" fill-opacity=\"1\" /><path clip-path=\"url(#clip960)\" d=\"M52.7369 776.891 Q51.3364 778.578 51.3364 781.538 Q51.3364 784.498 52.7369 786.185 Q54.1055 787.872 56.4926 787.872 Q58.9116 787.872 60.2802 786.185 Q61.6488 784.498 61.6488 781.538 Q61.6488 778.61 60.2484 776.891 Q58.8798 775.204 56.4926 775.204 Q54.1055 775.204 52.7369 776.891 M49.7768 785.675 Q49.2039 788.349 47.6443 789.813 Q46.0529 791.309 43.7612 791.309 Q40.5784 791.309 38.7323 788.699 Q36.8862 786.089 36.8862 781.538 Q36.8862 776.986 38.7323 774.376 Q40.5784 771.798 43.7612 771.798 Q46.1165 771.798 47.6443 773.262 Q49.2039 774.758 49.7768 777.4 Q50.3497 774.535 52.1958 772.753 Q53.9463 771.066 56.4926 771.066 Q60.3439 771.066 62.4127 773.772 Q64.4816 776.509 64.4816 781.538 Q64.4816 786.598 62.4127 789.304 Q60.3439 792.041 56.4926 792.041 Q54.01 792.041 52.1958 790.354 Q50.4134 788.636 49.7768 785.675 M44.1113 787.203 Q46.1165 787.203 47.326 785.707 Q48.5037 784.243 48.5037 781.538 Q48.5037 778.96 47.326 777.4 Q46.1802 775.872 44.1113 775.872 Q42.1061 775.872 40.8966 777.4 Q39.719 778.896 39.719 781.538 Q39.719 784.18 40.8966 785.707 Q42.0425 787.203 44.1113 787.203 Z\" fill=\"#000000\" fill-rule=\"evenodd\" fill-opacity=\"1\" /><path clip-path=\"url(#clip960)\" d=\"M14.5426 763.523 L14.5426 758.43 Q22.0542 753.656 29.2474 751.301 Q36.4406 748.913 43.5384 748.913 Q50.668 748.913 57.8931 751.301 Q65.1182 753.656 72.5979 758.43 L72.5979 763.523 Q65.3091 759.29 58.1159 757.221 Q50.8908 755.12 43.5384 755.12 Q36.186 755.12 29.0246 757.221 Q21.8632 759.29 14.5426 763.523 Z\" fill=\"#000000\" fill-rule=\"evenodd\" fill-opacity=\"1\" /><path clip-path=\"url(#clip960)\" d=\"M14.479 716.989 L14.479 703.494 L19.0304 703.494 L19.0304 711.133 L68.0464 711.133 L68.0464 703.494 L72.5979 703.494 L72.5979 716.989 L14.479 716.989 Z\" fill=\"#000000\" fill-rule=\"evenodd\" fill-opacity=\"1\" /><path clip-path=\"url(#clip960)\" d=\"M16.4842 694.996 L16.4842 688.503 L56.6518 678.509 L16.4842 668.546 L16.4842 661.321 L56.6518 651.327 L16.4842 641.365 L16.4842 634.84 L64.0042 646.776 L64.0042 654.86 L22.7544 664.886 L64.0042 675.008 L64.0042 683.092 L16.4842 694.996 Z\" fill=\"#000000\" fill-rule=\"evenodd\" fill-opacity=\"1\" /><path clip-path=\"url(#clip960)\" d=\"M16.4842 616.157 L16.4842 610.746 L70.0516 627.297 L70.0516 632.708 L16.4842 616.157 Z\" fill=\"#000000\" fill-rule=\"evenodd\" fill-opacity=\"1\" /><path clip-path=\"url(#clip960)\" d=\"M16.4842 604.348 L16.4842 597.919 L36.568 597.919 L16.4842 576.594 L16.4842 568.318 L38.6368 591.903 L64.0042 566.631 L64.0042 575.098 L41.1194 597.919 L64.0042 597.919 L64.0042 604.348 L16.4842 604.348 Z\" fill=\"#000000\" fill-rule=\"evenodd\" fill-opacity=\"1\" /><path clip-path=\"url(#clip960)\" d=\"M14.479 548.171 L72.5979 548.171 L72.5979 561.666 L68.0464 561.666 L68.0464 554.059 L19.0304 554.059 L19.0304 561.666 L14.479 561.666 L14.479 548.171 Z\" fill=\"#000000\" fill-rule=\"evenodd\" fill-opacity=\"1\" /><path clip-path=\"url(#clip960)\" d=\"M837.239 14.324 L837.239 27.2059 L852.592 27.2059 L852.592 32.9987 L837.239 32.9987 L837.239 57.6282 Q837.239 63.1779 838.738 64.7578 Q840.278 66.3376 844.936 66.3376 L852.592 66.3376 L852.592 72.576 L844.936 72.576 Q836.308 72.576 833.026 69.3758 Q829.745 66.1351 829.745 57.6282 L829.745 32.9987 L824.277 32.9987 L824.277 27.2059 L829.745 27.2059 L829.745 14.324 L837.239 14.324 Z\" fill=\"#000000\" fill-rule=\"evenodd\" fill-opacity=\"1\" /><path clip-path=\"url(#clip960)\" d=\"M900.109 45.1919 L900.109 72.576 L892.656 72.576 L892.656 45.4349 Q892.656 38.994 890.144 35.7938 Q887.633 32.5936 882.61 32.5936 Q876.574 32.5936 873.09 36.4419 Q869.606 40.2903 869.606 46.9338 L869.606 72.576 L862.112 72.576 L862.112 9.54393 L869.606 9.54393 L869.606 34.2544 Q872.28 30.163 875.885 28.1376 Q879.531 26.1121 884.27 26.1121 Q892.089 26.1121 896.099 30.9732 Q900.109 35.7938 900.109 45.1919 Z\" fill=\"#000000\" fill-rule=\"evenodd\" fill-opacity=\"1\" /><path clip-path=\"url(#clip960)\" d=\"M953.784 48.0275 L953.784 51.6733 L919.513 51.6733 Q919.999 59.3701 924.131 63.421 Q928.304 67.4314 935.717 67.4314 Q940.011 67.4314 944.021 66.3781 Q948.072 65.3249 952.042 63.2184 L952.042 70.267 Q948.032 71.9684 943.819 72.8596 Q939.606 73.7508 935.271 73.7508 Q924.415 73.7508 918.055 67.4314 Q911.736 61.1119 911.736 50.3365 Q911.736 39.1965 917.731 32.6746 Q923.767 26.1121 933.975 26.1121 Q943.13 26.1121 948.437 32.0264 Q953.784 37.9003 953.784 48.0275 M946.33 45.84 Q946.249 39.7232 942.887 36.0774 Q939.565 32.4315 934.056 32.4315 Q927.818 32.4315 924.05 35.9558 Q920.323 39.4801 919.756 45.8805 L946.33 45.84 Z\" fill=\"#000000\" fill-rule=\"evenodd\" fill-opacity=\"1\" /><path clip-path=\"url(#clip960)\" d=\"M992.308 34.1734 Q991.052 33.4443 989.553 33.1202 Q988.095 32.7556 986.313 32.7556 Q979.993 32.7556 976.591 36.8875 Q973.228 40.9789 973.228 48.6757 L973.228 72.576 L965.734 72.576 L965.734 27.2059 L973.228 27.2059 L973.228 34.2544 Q975.578 30.1225 979.345 28.1376 Q983.112 26.1121 988.5 26.1121 Q989.27 26.1121 990.202 26.2337 Q991.133 26.3147 992.268 26.5172 L992.308 34.1734 Z\" fill=\"#000000\" fill-rule=\"evenodd\" fill-opacity=\"1\" /><path clip-path=\"url(#clip960)\" d=\"M1033.99 35.9153 Q1036.79 30.8922 1040.68 28.5022 Q1044.56 26.1121 1049.83 26.1121 Q1056.92 26.1121 1060.77 31.0947 Q1064.62 36.0368 1064.62 45.1919 L1064.62 72.576 L1057.12 72.576 L1057.12 45.4349 Q1057.12 38.913 1054.81 35.7533 Q1052.5 32.5936 1047.76 32.5936 Q1041.97 32.5936 1038.61 36.4419 Q1035.25 40.2903 1035.25 46.9338 L1035.25 72.576 L1027.75 72.576 L1027.75 45.4349 Q1027.75 38.8725 1025.44 35.7533 Q1023.14 32.5936 1018.31 32.5936 Q1012.6 32.5936 1009.24 36.4824 Q1005.88 40.3308 1005.88 46.9338 L1005.88 72.576 L998.384 72.576 L998.384 27.2059 L1005.88 27.2059 L1005.88 34.2544 Q1008.43 30.082 1012 28.0971 Q1015.56 26.1121 1020.46 26.1121 Q1025.4 26.1121 1028.85 28.6237 Q1032.33 31.1352 1033.99 35.9153 Z\" fill=\"#000000\" fill-rule=\"evenodd\" fill-opacity=\"1\" /><path clip-path=\"url(#clip960)\" d=\"M1100.1 49.7694 Q1091.07 49.7694 1087.59 51.8354 Q1084.1 53.9013 1084.1 58.8839 Q1084.1 62.8538 1086.69 65.2034 Q1089.33 67.5124 1093.82 67.5124 Q1100.02 67.5124 1103.75 63.1374 Q1107.52 58.7219 1107.52 51.4303 L1107.52 49.7694 L1100.1 49.7694 M1114.97 46.6907 L1114.97 72.576 L1107.52 72.576 L1107.52 65.6895 Q1104.96 69.8214 1101.16 71.8063 Q1097.35 73.7508 1091.84 73.7508 Q1084.87 73.7508 1080.74 69.8619 Q1076.65 65.9325 1076.65 59.3701 Q1076.65 51.7138 1081.75 47.825 Q1086.9 43.9361 1097.06 43.9361 L1107.52 43.9361 L1107.52 43.2069 Q1107.52 38.0623 1104.11 35.2672 Q1100.75 32.4315 1094.63 32.4315 Q1090.75 32.4315 1087.06 33.3632 Q1083.37 34.295 1079.97 36.1584 L1079.97 29.2718 Q1084.06 27.692 1087.91 26.9223 Q1091.76 26.1121 1095.4 26.1121 Q1105.25 26.1121 1110.11 31.2163 Q1114.97 36.3204 1114.97 46.6907 Z\" fill=\"#000000\" fill-rule=\"evenodd\" fill-opacity=\"1\" /><path clip-path=\"url(#clip960)\" d=\"M1130.32 9.54393 L1137.78 9.54393 L1137.78 72.576 L1130.32 72.576 L1130.32 9.54393 Z\" fill=\"#000000\" fill-rule=\"evenodd\" fill-opacity=\"1\" /><path clip-path=\"url(#clip960)\" d=\"M1212.39 28.9478 L1212.39 35.9153 Q1209.23 34.1734 1206.03 33.3227 Q1202.87 32.4315 1199.63 32.4315 Q1192.38 32.4315 1188.37 37.0496 Q1184.36 41.6271 1184.36 49.9314 Q1184.36 58.2358 1188.37 62.8538 Q1192.38 67.4314 1199.63 67.4314 Q1202.87 67.4314 1206.03 66.5807 Q1209.23 65.6895 1212.39 63.9476 L1212.39 70.8341 Q1209.27 72.2924 1205.91 73.0216 Q1202.59 73.7508 1198.82 73.7508 Q1188.57 73.7508 1182.54 67.3098 Q1176.5 60.8689 1176.5 49.9314 Q1176.5 38.832 1182.58 32.472 Q1188.7 26.1121 1199.31 26.1121 Q1202.75 26.1121 1206.03 26.8413 Q1209.31 27.5299 1212.39 28.9478 Z\" fill=\"#000000\" fill-rule=\"evenodd\" fill-opacity=\"1\" /><path clip-path=\"url(#clip960)\" d=\"M1242.94 32.4315 Q1236.94 32.4315 1233.46 37.1306 Q1229.97 41.7891 1229.97 49.9314 Q1229.97 58.0738 1233.42 62.7728 Q1236.9 67.4314 1242.94 67.4314 Q1248.89 67.4314 1252.38 62.7323 Q1255.86 58.0333 1255.86 49.9314 Q1255.86 41.8701 1252.38 37.1711 Q1248.89 32.4315 1242.94 32.4315 M1242.94 26.1121 Q1252.66 26.1121 1258.21 32.4315 Q1263.76 38.7509 1263.76 49.9314 Q1263.76 61.0714 1258.21 67.4314 Q1252.66 73.7508 1242.94 73.7508 Q1233.17 73.7508 1227.63 67.4314 Q1222.12 61.0714 1222.12 49.9314 Q1222.12 38.7509 1227.63 32.4315 Q1233.17 26.1121 1242.94 26.1121 Z\" fill=\"#000000\" fill-rule=\"evenodd\" fill-opacity=\"1\" /><path clip-path=\"url(#clip960)\" d=\"M1313.83 45.1919 L1313.83 72.576 L1306.37 72.576 L1306.37 45.4349 Q1306.37 38.994 1303.86 35.7938 Q1301.35 32.5936 1296.33 32.5936 Q1290.29 32.5936 1286.81 36.4419 Q1283.32 40.2903 1283.32 46.9338 L1283.32 72.576 L1275.83 72.576 L1275.83 27.2059 L1283.32 27.2059 L1283.32 34.2544 Q1286 30.163 1289.6 28.1376 Q1293.25 26.1121 1297.99 26.1121 Q1305.81 26.1121 1309.82 30.9732 Q1313.83 35.7938 1313.83 45.1919 Z\" fill=\"#000000\" fill-rule=\"evenodd\" fill-opacity=\"1\" /><path clip-path=\"url(#clip960)\" d=\"M1358.55 34.0924 L1358.55 9.54393 L1366 9.54393 L1366 72.576 L1358.55 72.576 L1358.55 65.7705 Q1356.2 69.8214 1352.6 71.8063 Q1349.03 73.7508 1344.01 73.7508 Q1335.78 73.7508 1330.6 67.1883 Q1325.45 60.6258 1325.45 49.9314 Q1325.45 39.2371 1330.6 32.6746 Q1335.78 26.1121 1344.01 26.1121 Q1349.03 26.1121 1352.6 28.0971 Q1356.2 30.0415 1358.55 34.0924 M1333.15 49.9314 Q1333.15 58.1548 1336.51 62.8538 Q1339.92 67.5124 1345.83 67.5124 Q1351.74 67.5124 1355.15 62.8538 Q1358.55 58.1548 1358.55 49.9314 Q1358.55 41.7081 1355.15 37.0496 Q1351.74 32.3505 1345.83 32.3505 Q1339.92 32.3505 1336.51 37.0496 Q1333.15 41.7081 1333.15 49.9314 Z\" fill=\"#000000\" fill-rule=\"evenodd\" fill-opacity=\"1\" /><path clip-path=\"url(#clip960)\" d=\"M1380.59 54.671 L1380.59 27.2059 L1388.04 27.2059 L1388.04 54.3874 Q1388.04 60.8284 1390.55 64.0691 Q1393.06 67.2693 1398.09 67.2693 Q1404.12 67.2693 1407.61 63.421 Q1411.13 59.5726 1411.13 52.9291 L1411.13 27.2059 L1418.58 27.2059 L1418.58 72.576 L1411.13 72.576 L1411.13 65.6084 Q1408.42 69.7404 1404.81 71.7658 Q1401.25 73.7508 1396.51 73.7508 Q1388.69 73.7508 1384.64 68.8897 Q1380.59 64.0286 1380.59 54.671 M1399.34 26.1121 L1399.34 26.1121 Z\" fill=\"#000000\" fill-rule=\"evenodd\" fill-opacity=\"1\" /><path clip-path=\"url(#clip960)\" d=\"M1466.59 28.9478 L1466.59 35.9153 Q1463.43 34.1734 1460.23 33.3227 Q1457.07 32.4315 1453.83 32.4315 Q1446.58 32.4315 1442.57 37.0496 Q1438.56 41.6271 1438.56 49.9314 Q1438.56 58.2358 1442.57 62.8538 Q1446.58 67.4314 1453.83 67.4314 Q1457.07 67.4314 1460.23 66.5807 Q1463.43 65.6895 1466.59 63.9476 L1466.59 70.8341 Q1463.47 72.2924 1460.11 73.0216 Q1456.78 73.7508 1453.02 73.7508 Q1442.77 73.7508 1436.73 67.3098 Q1430.7 60.8689 1430.7 49.9314 Q1430.7 38.832 1436.77 32.472 Q1442.89 26.1121 1453.5 26.1121 Q1456.95 26.1121 1460.23 26.8413 Q1463.51 27.5299 1466.59 28.9478 Z\" fill=\"#000000\" fill-rule=\"evenodd\" fill-opacity=\"1\" /><path clip-path=\"url(#clip960)\" d=\"M1486.92 14.324 L1486.92 27.2059 L1502.28 27.2059 L1502.28 32.9987 L1486.92 32.9987 L1486.92 57.6282 Q1486.92 63.1779 1488.42 64.7578 Q1489.96 66.3376 1494.62 66.3376 L1502.28 66.3376 L1502.28 72.576 L1494.62 72.576 Q1485.99 72.576 1482.71 69.3758 Q1479.43 66.1351 1479.43 57.6282 L1479.43 32.9987 L1473.96 32.9987 L1473.96 27.2059 L1479.43 27.2059 L1479.43 14.324 L1486.92 14.324 Z\" fill=\"#000000\" fill-rule=\"evenodd\" fill-opacity=\"1\" /><path clip-path=\"url(#clip960)\" d=\"M1532.7 49.7694 Q1523.67 49.7694 1520.18 51.8354 Q1516.7 53.9013 1516.7 58.8839 Q1516.7 62.8538 1519.29 65.2034 Q1521.92 67.5124 1526.42 67.5124 Q1532.62 67.5124 1536.34 63.1374 Q1540.11 58.7219 1540.11 51.4303 L1540.11 49.7694 L1532.7 49.7694 M1547.57 46.6907 L1547.57 72.576 L1540.11 72.576 L1540.11 65.6895 Q1537.56 69.8214 1533.75 71.8063 Q1529.94 73.7508 1524.43 73.7508 Q1517.47 73.7508 1513.34 69.8619 Q1509.24 65.9325 1509.24 59.3701 Q1509.24 51.7138 1514.35 47.825 Q1519.49 43.9361 1529.66 43.9361 L1540.11 43.9361 L1540.11 43.2069 Q1540.11 38.0623 1536.71 35.2672 Q1533.35 32.4315 1527.23 32.4315 Q1523.34 32.4315 1519.65 33.3632 Q1515.97 34.295 1512.57 36.1584 L1512.57 29.2718 Q1516.66 27.692 1520.51 26.9223 Q1524.35 26.1121 1528 26.1121 Q1537.84 26.1121 1542.7 31.2163 Q1547.57 36.3204 1547.57 46.6907 Z\" fill=\"#000000\" fill-rule=\"evenodd\" fill-opacity=\"1\" /><path clip-path=\"url(#clip960)\" d=\"M1600.63 45.1919 L1600.63 72.576 L1593.18 72.576 L1593.18 45.4349 Q1593.18 38.994 1590.67 35.7938 Q1588.16 32.5936 1583.13 32.5936 Q1577.1 32.5936 1573.61 36.4419 Q1570.13 40.2903 1570.13 46.9338 L1570.13 72.576 L1562.63 72.576 L1562.63 27.2059 L1570.13 27.2059 L1570.13 34.2544 Q1572.8 30.163 1576.41 28.1376 Q1580.05 26.1121 1584.79 26.1121 Q1592.61 26.1121 1596.62 30.9732 Q1600.63 35.7938 1600.63 45.1919 Z\" fill=\"#000000\" fill-rule=\"evenodd\" fill-opacity=\"1\" /><path clip-path=\"url(#clip960)\" d=\"M1648.15 28.9478 L1648.15 35.9153 Q1644.99 34.1734 1641.79 33.3227 Q1638.63 32.4315 1635.39 32.4315 Q1628.14 32.4315 1624.13 37.0496 Q1620.12 41.6271 1620.12 49.9314 Q1620.12 58.2358 1624.13 62.8538 Q1628.14 67.4314 1635.39 67.4314 Q1638.63 67.4314 1641.79 66.5807 Q1644.99 65.6895 1648.15 63.9476 L1648.15 70.8341 Q1645.03 72.2924 1641.67 73.0216 Q1638.35 73.7508 1634.58 73.7508 Q1624.33 73.7508 1618.29 67.3098 Q1612.26 60.8689 1612.26 49.9314 Q1612.26 38.832 1618.33 32.472 Q1624.45 26.1121 1635.07 26.1121 Q1638.51 26.1121 1641.79 26.8413 Q1645.07 27.5299 1648.15 28.9478 Z\" fill=\"#000000\" fill-rule=\"evenodd\" fill-opacity=\"1\" /><path clip-path=\"url(#clip960)\" d=\"M1699.92 48.0275 L1699.92 51.6733 L1665.65 51.6733 Q1666.14 59.3701 1670.27 63.421 Q1674.44 67.4314 1681.85 67.4314 Q1686.15 67.4314 1690.16 66.3781 Q1694.21 65.3249 1698.18 63.2184 L1698.18 70.267 Q1694.17 71.9684 1689.95 72.8596 Q1685.74 73.7508 1681.41 73.7508 Q1670.55 73.7508 1664.19 67.4314 Q1657.87 61.1119 1657.87 50.3365 Q1657.87 39.1965 1663.87 32.6746 Q1669.9 26.1121 1680.11 26.1121 Q1689.27 26.1121 1694.57 32.0264 Q1699.92 37.9003 1699.92 48.0275 M1692.47 45.84 Q1692.39 39.7232 1689.02 36.0774 Q1685.7 32.4315 1680.19 32.4315 Q1673.95 32.4315 1670.19 35.9558 Q1666.46 39.4801 1665.89 45.8805 L1692.47 45.84 Z\" fill=\"#000000\" fill-rule=\"evenodd\" fill-opacity=\"1\" /><polyline clip-path=\"url(#clip962)\" style=\"stroke:#009af9; stroke-linecap:butt; stroke-linejoin:round; stroke-width:8; stroke-opacity:1; fill:none\" points=\"\n",
       "  202.227,-1768.46 209.42,-545.081 216.612,53.6144 223.805,90.9869 230.997,240.026 238.189,570.626 245.382,453.58 252.574,490.536 259.767,513.896 266.959,619.306 \n",
       "  274.151,634.618 281.344,608.263 288.536,660.066 295.729,708.393 302.921,682.683 310.114,703.871 317.306,786.337 324.498,733.032 331.691,804.312 338.883,767.405 \n",
       "  346.076,782.35 353.268,794.776 360.46,824.178 367.653,794.212 374.845,775.88 382.038,797.579 389.23,804.558 396.422,827.751 403.615,845.68 410.807,841.282 \n",
       "  418,828.575 425.192,795.977 432.384,820.252 439.577,852.834 446.769,866.034 453.962,845.575 461.154,854.828 468.346,862.227 475.539,840.239 482.731,819.061 \n",
       "  489.924,834.232 497.116,829.091 504.308,829.055 511.501,847.734 518.693,822.871 525.886,824.309 533.078,850.846 540.27,889.167 547.463,837.869 554.655,832.029 \n",
       "  561.848,835.566 569.04,870.715 576.232,841.478 583.425,887.712 590.617,856.073 597.81,864.164 605.002,864.8 612.194,853.288 619.387,835.062 626.579,851.899 \n",
       "  633.772,863.253 640.964,854.542 648.156,902.377 655.349,885.181 662.541,880.388 669.734,851.246 676.926,878.622 684.118,890.089 691.311,867.496 698.503,874.875 \n",
       "  705.696,894.644 712.888,896.853 720.08,889.104 727.273,918.668 734.465,908.031 741.658,887.488 748.85,874.716 756.042,864.997 763.235,853.699 770.427,855.568 \n",
       "  777.62,859.414 784.812,853.726 792.005,852.54 799.197,882.919 806.389,889.819 813.582,870.82 820.774,881.599 827.967,865.696 835.159,876.23 842.351,866.518 \n",
       "  849.544,854.111 856.736,863.65 863.929,838.885 871.121,865.211 878.313,855.934 885.506,860.048 892.698,875.948 899.891,870.593 907.083,866.911 914.275,904.053 \n",
       "  921.468,859.123 928.66,873.659 935.853,858.781 943.045,877.753 950.237,887.671 957.43,879.351 964.622,897.045 971.815,891.534 979.007,856.189 986.199,875.168 \n",
       "  993.392,898.62 1000.58,874.526 1007.78,862.043 1014.97,855.014 1022.16,862.173 1029.35,860.465 1036.55,891.143 1043.74,879.18 1050.93,840.634 1058.12,861.915 \n",
       "  1065.32,865.653 1072.51,860.463 1079.7,854.111 1086.89,852.985 1094.09,851.261 1101.28,855.924 1108.47,886.361 1115.66,893.75 1122.86,856.111 1130.05,862.426 \n",
       "  1137.24,846.959 1144.43,846.643 1151.62,863.952 1158.82,890.877 1166.01,866.417 1173.2,866.248 1180.39,863.051 1187.59,876.17 1194.78,863.956 1201.97,837.173 \n",
       "  1209.16,867.146 1216.36,844.384 1223.55,856.4 1230.74,852.476 1237.93,848.385 1245.13,833.286 1252.32,828.868 1259.51,849.465 1266.7,899.27 1273.9,883.247 \n",
       "  1281.09,877.605 1288.28,863.521 1295.47,885.016 1302.67,875.298 1309.86,866.148 1317.05,863.768 1324.24,872.629 1331.43,871.141 1338.63,860.32 1345.82,852.969 \n",
       "  1353.01,874.318 1360.2,859.179 1367.4,855.566 1374.59,846.389 1381.78,854.154 1388.97,833.025 1396.17,881.127 1403.36,873.498 1410.55,853.654 1417.74,868.376 \n",
       "  1424.94,872.858 1432.13,831.911 1439.32,834.535 1446.51,847.968 1453.71,864.223 1460.9,854.359 1468.09,874.314 1475.28,877.023 1482.48,880.167 1489.67,900.631 \n",
       "  1496.86,876.936 1504.05,904.376 1511.24,894.489 1518.44,868.866 1525.63,882.667 1532.82,903.832 1540.01,891.459 1547.21,909.138 1554.4,899.88 1561.59,879.539 \n",
       "  1568.78,860.085 1575.98,850.854 1583.17,871.864 1590.36,855.253 1597.55,863.704 1604.75,870.301 1611.94,853.181 1619.13,857.809 1626.32,840.488 1633.52,844.432 \n",
       "  1640.71,840.54 1647.9,850.071 1655.09,880.624 1662.29,887.282 1669.48,850.262 1676.67,848.785 1683.86,855.154 1691.05,857.868 1698.25,822.838 1705.44,834.258 \n",
       "  1712.63,840.266 1719.82,833.398 1727.02,840.622 1734.21,870.946 1741.4,864.015 1748.59,871.971 1755.79,876.061 1762.98,866.391 1770.17,842.215 1777.36,842.907 \n",
       "  1784.56,867.358 1791.75,857.871 1798.94,857.025 1806.13,857.986 1813.33,839.975 1820.52,860.456 1827.71,869.985 1834.9,875.218 1842.1,857.829 1849.29,843.362 \n",
       "  1856.48,868.969 1863.67,868.42 1870.86,881.562 1878.06,874.015 1885.25,881.576 1892.44,873.761 1899.63,863.426 1906.83,845.269 1914.02,851.046 1921.21,843.627 \n",
       "  1928.4,835.389 1935.6,839.98 1942.79,867.482 1949.98,834.04 1957.17,841.54 1964.37,853.377 1971.56,872.083 1978.75,878.885 1985.94,872.178 1993.14,898.687 \n",
       "  2000.33,863.057 2007.52,900.961 2014.71,859.403 2021.91,881.605 2029.1,854.964 2036.29,852.333 2043.48,870.301 2050.67,889.849 2057.87,904.653 2065.06,845.089 \n",
       "  2072.25,840.616 2079.44,881.777 2086.64,876.437 2093.83,884.594 2101.02,906.593 2108.21,912.502 2115.41,872.643 2122.6,861.94 2129.79,883.573 2136.98,888.468 \n",
       "  2144.18,862.15 2151.37,857.065 2158.56,862.051 2165.75,853.28 2172.95,847.211 2180.14,871.822 2187.33,857.714 2194.52,869.27 2201.72,854.004 2208.91,847.648 \n",
       "  2216.1,848.8 2223.29,842.012 2230.49,846.319 2237.68,835.152 2244.87,834.299 2252.06,834.457 2259.25,871.36 2266.45,853.655 2273.64,825.448 2280.83,818.545 \n",
       "  2288.02,827.219 2295.22,829.532 2302.41,883.765 2309.6,822.744 2316.79,844.06 2323.99,851.142 2331.18,846.349 2338.37,838.311 2345.56,862.844 2352.76,861.572 \n",
       "  \n",
       "  \"/>\n",
       "<circle clip-path=\"url(#clip962)\" cx=\"216.616\" cy=\"185.363\" r=\"14\" fill=\"#e26f46\" fill-rule=\"evenodd\" fill-opacity=\"1\" stroke=\"#000000\" stroke-opacity=\"1\" stroke-width=\"3.2\"/>\n",
       "<circle clip-path=\"url(#clip962)\" cx=\"223.808\" cy=\"403.801\" r=\"14\" fill=\"#e26f46\" fill-rule=\"evenodd\" fill-opacity=\"1\" stroke=\"#000000\" stroke-opacity=\"1\" stroke-width=\"3.2\"/>\n",
       "<circle clip-path=\"url(#clip962)\" cx=\"231.001\" cy=\"511.104\" r=\"14\" fill=\"#e26f46\" fill-rule=\"evenodd\" fill-opacity=\"1\" stroke=\"#000000\" stroke-opacity=\"1\" stroke-width=\"3.2\"/>\n",
       "<circle clip-path=\"url(#clip962)\" cx=\"238.193\" cy=\"597.969\" r=\"14\" fill=\"#e26f46\" fill-rule=\"evenodd\" fill-opacity=\"1\" stroke=\"#000000\" stroke-opacity=\"1\" stroke-width=\"3.2\"/>\n",
       "<circle clip-path=\"url(#clip962)\" cx=\"245.385\" cy=\"617.16\" r=\"14\" fill=\"#e26f46\" fill-rule=\"evenodd\" fill-opacity=\"1\" stroke=\"#000000\" stroke-opacity=\"1\" stroke-width=\"3.2\"/>\n",
       "<circle clip-path=\"url(#clip962)\" cx=\"252.578\" cy=\"669.726\" r=\"14\" fill=\"#e26f46\" fill-rule=\"evenodd\" fill-opacity=\"1\" stroke=\"#000000\" stroke-opacity=\"1\" stroke-width=\"3.2\"/>\n",
       "<circle clip-path=\"url(#clip962)\" cx=\"259.77\" cy=\"669.726\" r=\"14\" fill=\"#e26f46\" fill-rule=\"evenodd\" fill-opacity=\"1\" stroke=\"#000000\" stroke-opacity=\"1\" stroke-width=\"3.2\"/>\n",
       "<circle clip-path=\"url(#clip962)\" cx=\"266.963\" cy=\"730.002\" r=\"14\" fill=\"#e26f46\" fill-rule=\"evenodd\" fill-opacity=\"1\" stroke=\"#000000\" stroke-opacity=\"1\" stroke-width=\"3.2\"/>\n",
       "<circle clip-path=\"url(#clip962)\" cx=\"274.155\" cy=\"669.726\" r=\"14\" fill=\"#e26f46\" fill-rule=\"evenodd\" fill-opacity=\"1\" stroke=\"#000000\" stroke-opacity=\"1\" stroke-width=\"3.2\"/>\n",
       "<circle clip-path=\"url(#clip962)\" cx=\"281.347\" cy=\"701.12\" r=\"14\" fill=\"#e26f46\" fill-rule=\"evenodd\" fill-opacity=\"1\" stroke=\"#000000\" stroke-opacity=\"1\" stroke-width=\"3.2\"/>\n",
       "<circle clip-path=\"url(#clip962)\" cx=\"288.54\" cy=\"743.594\" r=\"14\" fill=\"#e26f46\" fill-rule=\"evenodd\" fill-opacity=\"1\" stroke=\"#000000\" stroke-opacity=\"1\" stroke-width=\"3.2\"/>\n",
       "<circle clip-path=\"url(#clip962)\" cx=\"295.732\" cy=\"701.12\" r=\"14\" fill=\"#e26f46\" fill-rule=\"evenodd\" fill-opacity=\"1\" stroke=\"#000000\" stroke-opacity=\"1\" stroke-width=\"3.2\"/>\n",
       "<circle clip-path=\"url(#clip962)\" cx=\"302.925\" cy=\"743.594\" r=\"14\" fill=\"#e26f46\" fill-rule=\"evenodd\" fill-opacity=\"1\" stroke=\"#000000\" stroke-opacity=\"1\" stroke-width=\"3.2\"/>\n",
       "<circle clip-path=\"url(#clip962)\" cx=\"310.117\" cy=\"743.594\" r=\"14\" fill=\"#e26f46\" fill-rule=\"evenodd\" fill-opacity=\"1\" stroke=\"#000000\" stroke-opacity=\"1\" stroke-width=\"3.2\"/>\n",
       "<circle clip-path=\"url(#clip962)\" cx=\"317.31\" cy=\"730.002\" r=\"14\" fill=\"#e26f46\" fill-rule=\"evenodd\" fill-opacity=\"1\" stroke=\"#000000\" stroke-opacity=\"1\" stroke-width=\"3.2\"/>\n",
       "<circle clip-path=\"url(#clip962)\" cx=\"324.502\" cy=\"730.002\" r=\"14\" fill=\"#e26f46\" fill-rule=\"evenodd\" fill-opacity=\"1\" stroke=\"#000000\" stroke-opacity=\"1\" stroke-width=\"3.2\"/>\n",
       "<circle clip-path=\"url(#clip962)\" cx=\"331.694\" cy=\"769.239\" r=\"14\" fill=\"#e26f46\" fill-rule=\"evenodd\" fill-opacity=\"1\" stroke=\"#000000\" stroke-opacity=\"1\" stroke-width=\"3.2\"/>\n",
       "<circle clip-path=\"url(#clip962)\" cx=\"338.887\" cy=\"743.594\" r=\"14\" fill=\"#e26f46\" fill-rule=\"evenodd\" fill-opacity=\"1\" stroke=\"#000000\" stroke-opacity=\"1\" stroke-width=\"3.2\"/>\n",
       "<circle clip-path=\"url(#clip962)\" cx=\"346.079\" cy=\"730.002\" r=\"14\" fill=\"#e26f46\" fill-rule=\"evenodd\" fill-opacity=\"1\" stroke=\"#000000\" stroke-opacity=\"1\" stroke-width=\"3.2\"/>\n",
       "<circle clip-path=\"url(#clip962)\" cx=\"353.272\" cy=\"730.002\" r=\"14\" fill=\"#e26f46\" fill-rule=\"evenodd\" fill-opacity=\"1\" stroke=\"#000000\" stroke-opacity=\"1\" stroke-width=\"3.2\"/>\n",
       "<circle clip-path=\"url(#clip962)\" cx=\"360.464\" cy=\"769.239\" r=\"14\" fill=\"#e26f46\" fill-rule=\"evenodd\" fill-opacity=\"1\" stroke=\"#000000\" stroke-opacity=\"1\" stroke-width=\"3.2\"/>\n",
       "<circle clip-path=\"url(#clip962)\" cx=\"367.656\" cy=\"769.239\" r=\"14\" fill=\"#e26f46\" fill-rule=\"evenodd\" fill-opacity=\"1\" stroke=\"#000000\" stroke-opacity=\"1\" stroke-width=\"3.2\"/>\n",
       "<circle clip-path=\"url(#clip962)\" cx=\"374.849\" cy=\"769.239\" r=\"14\" fill=\"#e26f46\" fill-rule=\"evenodd\" fill-opacity=\"1\" stroke=\"#000000\" stroke-opacity=\"1\" stroke-width=\"3.2\"/>\n",
       "<circle clip-path=\"url(#clip962)\" cx=\"382.041\" cy=\"793.019\" r=\"14\" fill=\"#e26f46\" fill-rule=\"evenodd\" fill-opacity=\"1\" stroke=\"#000000\" stroke-opacity=\"1\" stroke-width=\"3.2\"/>\n",
       "<circle clip-path=\"url(#clip962)\" cx=\"389.234\" cy=\"769.239\" r=\"14\" fill=\"#e26f46\" fill-rule=\"evenodd\" fill-opacity=\"1\" stroke=\"#000000\" stroke-opacity=\"1\" stroke-width=\"3.2\"/>\n",
       "<circle clip-path=\"url(#clip962)\" cx=\"396.426\" cy=\"769.239\" r=\"14\" fill=\"#e26f46\" fill-rule=\"evenodd\" fill-opacity=\"1\" stroke=\"#000000\" stroke-opacity=\"1\" stroke-width=\"3.2\"/>\n",
       "<circle clip-path=\"url(#clip962)\" cx=\"403.618\" cy=\"769.239\" r=\"14\" fill=\"#e26f46\" fill-rule=\"evenodd\" fill-opacity=\"1\" stroke=\"#000000\" stroke-opacity=\"1\" stroke-width=\"3.2\"/>\n",
       "<circle clip-path=\"url(#clip962)\" cx=\"410.811\" cy=\"804.271\" r=\"14\" fill=\"#e26f46\" fill-rule=\"evenodd\" fill-opacity=\"1\" stroke=\"#000000\" stroke-opacity=\"1\" stroke-width=\"3.2\"/>\n",
       "<circle clip-path=\"url(#clip962)\" cx=\"418.003\" cy=\"769.239\" r=\"14\" fill=\"#e26f46\" fill-rule=\"evenodd\" fill-opacity=\"1\" stroke=\"#000000\" stroke-opacity=\"1\" stroke-width=\"3.2\"/>\n",
       "<circle clip-path=\"url(#clip962)\" cx=\"425.196\" cy=\"781.349\" r=\"14\" fill=\"#e26f46\" fill-rule=\"evenodd\" fill-opacity=\"1\" stroke=\"#000000\" stroke-opacity=\"1\" stroke-width=\"3.2\"/>\n",
       "<circle clip-path=\"url(#clip962)\" cx=\"432.388\" cy=\"743.594\" r=\"14\" fill=\"#e26f46\" fill-rule=\"evenodd\" fill-opacity=\"1\" stroke=\"#000000\" stroke-opacity=\"1\" stroke-width=\"3.2\"/>\n",
       "<circle clip-path=\"url(#clip962)\" cx=\"439.58\" cy=\"793.019\" r=\"14\" fill=\"#e26f46\" fill-rule=\"evenodd\" fill-opacity=\"1\" stroke=\"#000000\" stroke-opacity=\"1\" stroke-width=\"3.2\"/>\n",
       "<circle clip-path=\"url(#clip962)\" cx=\"446.773\" cy=\"769.239\" r=\"14\" fill=\"#e26f46\" fill-rule=\"evenodd\" fill-opacity=\"1\" stroke=\"#000000\" stroke-opacity=\"1\" stroke-width=\"3.2\"/>\n",
       "<circle clip-path=\"url(#clip962)\" cx=\"453.965\" cy=\"769.239\" r=\"14\" fill=\"#e26f46\" fill-rule=\"evenodd\" fill-opacity=\"1\" stroke=\"#000000\" stroke-opacity=\"1\" stroke-width=\"3.2\"/>\n",
       "<circle clip-path=\"url(#clip962)\" cx=\"461.158\" cy=\"769.239\" r=\"14\" fill=\"#e26f46\" fill-rule=\"evenodd\" fill-opacity=\"1\" stroke=\"#000000\" stroke-opacity=\"1\" stroke-width=\"3.2\"/>\n",
       "<circle clip-path=\"url(#clip962)\" cx=\"468.35\" cy=\"781.349\" r=\"14\" fill=\"#e26f46\" fill-rule=\"evenodd\" fill-opacity=\"1\" stroke=\"#000000\" stroke-opacity=\"1\" stroke-width=\"3.2\"/>\n",
       "<circle clip-path=\"url(#clip962)\" cx=\"475.542\" cy=\"804.271\" r=\"14\" fill=\"#e26f46\" fill-rule=\"evenodd\" fill-opacity=\"1\" stroke=\"#000000\" stroke-opacity=\"1\" stroke-width=\"3.2\"/>\n",
       "<circle clip-path=\"url(#clip962)\" cx=\"482.735\" cy=\"756.663\" r=\"14\" fill=\"#e26f46\" fill-rule=\"evenodd\" fill-opacity=\"1\" stroke=\"#000000\" stroke-opacity=\"1\" stroke-width=\"3.2\"/>\n",
       "<circle clip-path=\"url(#clip962)\" cx=\"489.927\" cy=\"756.663\" r=\"14\" fill=\"#e26f46\" fill-rule=\"evenodd\" fill-opacity=\"1\" stroke=\"#000000\" stroke-opacity=\"1\" stroke-width=\"3.2\"/>\n",
       "<circle clip-path=\"url(#clip962)\" cx=\"497.12\" cy=\"781.349\" r=\"14\" fill=\"#e26f46\" fill-rule=\"evenodd\" fill-opacity=\"1\" stroke=\"#000000\" stroke-opacity=\"1\" stroke-width=\"3.2\"/>\n",
       "<circle clip-path=\"url(#clip962)\" cx=\"504.312\" cy=\"781.349\" r=\"14\" fill=\"#e26f46\" fill-rule=\"evenodd\" fill-opacity=\"1\" stroke=\"#000000\" stroke-opacity=\"1\" stroke-width=\"3.2\"/>\n",
       "<circle clip-path=\"url(#clip962)\" cx=\"511.504\" cy=\"781.349\" r=\"14\" fill=\"#e26f46\" fill-rule=\"evenodd\" fill-opacity=\"1\" stroke=\"#000000\" stroke-opacity=\"1\" stroke-width=\"3.2\"/>\n",
       "<circle clip-path=\"url(#clip962)\" cx=\"518.697\" cy=\"781.349\" r=\"14\" fill=\"#e26f46\" fill-rule=\"evenodd\" fill-opacity=\"1\" stroke=\"#000000\" stroke-opacity=\"1\" stroke-width=\"3.2\"/>\n",
       "<circle clip-path=\"url(#clip962)\" cx=\"525.889\" cy=\"804.271\" r=\"14\" fill=\"#e26f46\" fill-rule=\"evenodd\" fill-opacity=\"1\" stroke=\"#000000\" stroke-opacity=\"1\" stroke-width=\"3.2\"/>\n",
       "<circle clip-path=\"url(#clip962)\" cx=\"533.082\" cy=\"815.129\" r=\"14\" fill=\"#e26f46\" fill-rule=\"evenodd\" fill-opacity=\"1\" stroke=\"#000000\" stroke-opacity=\"1\" stroke-width=\"3.2\"/>\n",
       "<circle clip-path=\"url(#clip962)\" cx=\"540.274\" cy=\"793.019\" r=\"14\" fill=\"#e26f46\" fill-rule=\"evenodd\" fill-opacity=\"1\" stroke=\"#000000\" stroke-opacity=\"1\" stroke-width=\"3.2\"/>\n",
       "<circle clip-path=\"url(#clip962)\" cx=\"547.466\" cy=\"793.019\" r=\"14\" fill=\"#e26f46\" fill-rule=\"evenodd\" fill-opacity=\"1\" stroke=\"#000000\" stroke-opacity=\"1\" stroke-width=\"3.2\"/>\n",
       "<circle clip-path=\"url(#clip962)\" cx=\"554.659\" cy=\"804.271\" r=\"14\" fill=\"#e26f46\" fill-rule=\"evenodd\" fill-opacity=\"1\" stroke=\"#000000\" stroke-opacity=\"1\" stroke-width=\"3.2\"/>\n",
       "<circle clip-path=\"url(#clip962)\" cx=\"561.851\" cy=\"769.239\" r=\"14\" fill=\"#e26f46\" fill-rule=\"evenodd\" fill-opacity=\"1\" stroke=\"#000000\" stroke-opacity=\"1\" stroke-width=\"3.2\"/>\n",
       "<circle clip-path=\"url(#clip962)\" cx=\"569.044\" cy=\"845.532\" r=\"14\" fill=\"#e26f46\" fill-rule=\"evenodd\" fill-opacity=\"1\" stroke=\"#000000\" stroke-opacity=\"1\" stroke-width=\"3.2\"/>\n",
       "<circle clip-path=\"url(#clip962)\" cx=\"576.236\" cy=\"815.129\" r=\"14\" fill=\"#e26f46\" fill-rule=\"evenodd\" fill-opacity=\"1\" stroke=\"#000000\" stroke-opacity=\"1\" stroke-width=\"3.2\"/>\n",
       "<circle clip-path=\"url(#clip962)\" cx=\"583.428\" cy=\"815.129\" r=\"14\" fill=\"#e26f46\" fill-rule=\"evenodd\" fill-opacity=\"1\" stroke=\"#000000\" stroke-opacity=\"1\" stroke-width=\"3.2\"/>\n",
       "<circle clip-path=\"url(#clip962)\" cx=\"590.621\" cy=\"815.129\" r=\"14\" fill=\"#e26f46\" fill-rule=\"evenodd\" fill-opacity=\"1\" stroke=\"#000000\" stroke-opacity=\"1\" stroke-width=\"3.2\"/>\n",
       "<circle clip-path=\"url(#clip962)\" cx=\"597.813\" cy=\"793.019\" r=\"14\" fill=\"#e26f46\" fill-rule=\"evenodd\" fill-opacity=\"1\" stroke=\"#000000\" stroke-opacity=\"1\" stroke-width=\"3.2\"/>\n",
       "<circle clip-path=\"url(#clip962)\" cx=\"605.006\" cy=\"804.271\" r=\"14\" fill=\"#e26f46\" fill-rule=\"evenodd\" fill-opacity=\"1\" stroke=\"#000000\" stroke-opacity=\"1\" stroke-width=\"3.2\"/>\n",
       "<circle clip-path=\"url(#clip962)\" cx=\"612.198\" cy=\"815.129\" r=\"14\" fill=\"#e26f46\" fill-rule=\"evenodd\" fill-opacity=\"1\" stroke=\"#000000\" stroke-opacity=\"1\" stroke-width=\"3.2\"/>\n",
       "<circle clip-path=\"url(#clip962)\" cx=\"619.39\" cy=\"835.741\" r=\"14\" fill=\"#e26f46\" fill-rule=\"evenodd\" fill-opacity=\"1\" stroke=\"#000000\" stroke-opacity=\"1\" stroke-width=\"3.2\"/>\n",
       "<circle clip-path=\"url(#clip962)\" cx=\"626.583\" cy=\"815.129\" r=\"14\" fill=\"#e26f46\" fill-rule=\"evenodd\" fill-opacity=\"1\" stroke=\"#000000\" stroke-opacity=\"1\" stroke-width=\"3.2\"/>\n",
       "<circle clip-path=\"url(#clip962)\" cx=\"633.775\" cy=\"835.741\" r=\"14\" fill=\"#e26f46\" fill-rule=\"evenodd\" fill-opacity=\"1\" stroke=\"#000000\" stroke-opacity=\"1\" stroke-width=\"3.2\"/>\n",
       "<circle clip-path=\"url(#clip962)\" cx=\"640.968\" cy=\"793.019\" r=\"14\" fill=\"#e26f46\" fill-rule=\"evenodd\" fill-opacity=\"1\" stroke=\"#000000\" stroke-opacity=\"1\" stroke-width=\"3.2\"/>\n",
       "<circle clip-path=\"url(#clip962)\" cx=\"648.16\" cy=\"815.129\" r=\"14\" fill=\"#e26f46\" fill-rule=\"evenodd\" fill-opacity=\"1\" stroke=\"#000000\" stroke-opacity=\"1\" stroke-width=\"3.2\"/>\n",
       "<circle clip-path=\"url(#clip962)\" cx=\"655.352\" cy=\"793.019\" r=\"14\" fill=\"#e26f46\" fill-rule=\"evenodd\" fill-opacity=\"1\" stroke=\"#000000\" stroke-opacity=\"1\" stroke-width=\"3.2\"/>\n",
       "<circle clip-path=\"url(#clip962)\" cx=\"662.545\" cy=\"804.271\" r=\"14\" fill=\"#e26f46\" fill-rule=\"evenodd\" fill-opacity=\"1\" stroke=\"#000000\" stroke-opacity=\"1\" stroke-width=\"3.2\"/>\n",
       "<circle clip-path=\"url(#clip962)\" cx=\"669.737\" cy=\"825.613\" r=\"14\" fill=\"#e26f46\" fill-rule=\"evenodd\" fill-opacity=\"1\" stroke=\"#000000\" stroke-opacity=\"1\" stroke-width=\"3.2\"/>\n",
       "<circle clip-path=\"url(#clip962)\" cx=\"676.93\" cy=\"835.741\" r=\"14\" fill=\"#e26f46\" fill-rule=\"evenodd\" fill-opacity=\"1\" stroke=\"#000000\" stroke-opacity=\"1\" stroke-width=\"3.2\"/>\n",
       "<circle clip-path=\"url(#clip962)\" cx=\"684.122\" cy=\"845.532\" r=\"14\" fill=\"#e26f46\" fill-rule=\"evenodd\" fill-opacity=\"1\" stroke=\"#000000\" stroke-opacity=\"1\" stroke-width=\"3.2\"/>\n",
       "<circle clip-path=\"url(#clip962)\" cx=\"691.314\" cy=\"804.271\" r=\"14\" fill=\"#e26f46\" fill-rule=\"evenodd\" fill-opacity=\"1\" stroke=\"#000000\" stroke-opacity=\"1\" stroke-width=\"3.2\"/>\n",
       "<circle clip-path=\"url(#clip962)\" cx=\"698.507\" cy=\"815.129\" r=\"14\" fill=\"#e26f46\" fill-rule=\"evenodd\" fill-opacity=\"1\" stroke=\"#000000\" stroke-opacity=\"1\" stroke-width=\"3.2\"/>\n",
       "<circle clip-path=\"url(#clip962)\" cx=\"705.699\" cy=\"845.532\" r=\"14\" fill=\"#e26f46\" fill-rule=\"evenodd\" fill-opacity=\"1\" stroke=\"#000000\" stroke-opacity=\"1\" stroke-width=\"3.2\"/>\n",
       "<circle clip-path=\"url(#clip962)\" cx=\"712.892\" cy=\"855.002\" r=\"14\" fill=\"#e26f46\" fill-rule=\"evenodd\" fill-opacity=\"1\" stroke=\"#000000\" stroke-opacity=\"1\" stroke-width=\"3.2\"/>\n",
       "<circle clip-path=\"url(#clip962)\" cx=\"720.084\" cy=\"825.613\" r=\"14\" fill=\"#e26f46\" fill-rule=\"evenodd\" fill-opacity=\"1\" stroke=\"#000000\" stroke-opacity=\"1\" stroke-width=\"3.2\"/>\n",
       "<circle clip-path=\"url(#clip962)\" cx=\"727.276\" cy=\"845.532\" r=\"14\" fill=\"#e26f46\" fill-rule=\"evenodd\" fill-opacity=\"1\" stroke=\"#000000\" stroke-opacity=\"1\" stroke-width=\"3.2\"/>\n",
       "<circle clip-path=\"url(#clip962)\" cx=\"734.469\" cy=\"845.532\" r=\"14\" fill=\"#e26f46\" fill-rule=\"evenodd\" fill-opacity=\"1\" stroke=\"#000000\" stroke-opacity=\"1\" stroke-width=\"3.2\"/>\n",
       "<circle clip-path=\"url(#clip962)\" cx=\"741.661\" cy=\"825.613\" r=\"14\" fill=\"#e26f46\" fill-rule=\"evenodd\" fill-opacity=\"1\" stroke=\"#000000\" stroke-opacity=\"1\" stroke-width=\"3.2\"/>\n",
       "<circle clip-path=\"url(#clip962)\" cx=\"748.854\" cy=\"804.271\" r=\"14\" fill=\"#e26f46\" fill-rule=\"evenodd\" fill-opacity=\"1\" stroke=\"#000000\" stroke-opacity=\"1\" stroke-width=\"3.2\"/>\n",
       "<circle clip-path=\"url(#clip962)\" cx=\"756.046\" cy=\"815.129\" r=\"14\" fill=\"#e26f46\" fill-rule=\"evenodd\" fill-opacity=\"1\" stroke=\"#000000\" stroke-opacity=\"1\" stroke-width=\"3.2\"/>\n",
       "<circle clip-path=\"url(#clip962)\" cx=\"763.238\" cy=\"804.271\" r=\"14\" fill=\"#e26f46\" fill-rule=\"evenodd\" fill-opacity=\"1\" stroke=\"#000000\" stroke-opacity=\"1\" stroke-width=\"3.2\"/>\n",
       "<circle clip-path=\"url(#clip962)\" cx=\"770.431\" cy=\"825.613\" r=\"14\" fill=\"#e26f46\" fill-rule=\"evenodd\" fill-opacity=\"1\" stroke=\"#000000\" stroke-opacity=\"1\" stroke-width=\"3.2\"/>\n",
       "<circle clip-path=\"url(#clip962)\" cx=\"777.623\" cy=\"881.635\" r=\"14\" fill=\"#e26f46\" fill-rule=\"evenodd\" fill-opacity=\"1\" stroke=\"#000000\" stroke-opacity=\"1\" stroke-width=\"3.2\"/>\n",
       "<circle clip-path=\"url(#clip962)\" cx=\"784.816\" cy=\"845.532\" r=\"14\" fill=\"#e26f46\" fill-rule=\"evenodd\" fill-opacity=\"1\" stroke=\"#000000\" stroke-opacity=\"1\" stroke-width=\"3.2\"/>\n",
       "<circle clip-path=\"url(#clip962)\" cx=\"792.008\" cy=\"845.532\" r=\"14\" fill=\"#e26f46\" fill-rule=\"evenodd\" fill-opacity=\"1\" stroke=\"#000000\" stroke-opacity=\"1\" stroke-width=\"3.2\"/>\n",
       "<circle clip-path=\"url(#clip962)\" cx=\"799.2\" cy=\"835.741\" r=\"14\" fill=\"#e26f46\" fill-rule=\"evenodd\" fill-opacity=\"1\" stroke=\"#000000\" stroke-opacity=\"1\" stroke-width=\"3.2\"/>\n",
       "<circle clip-path=\"url(#clip962)\" cx=\"806.393\" cy=\"845.532\" r=\"14\" fill=\"#e26f46\" fill-rule=\"evenodd\" fill-opacity=\"1\" stroke=\"#000000\" stroke-opacity=\"1\" stroke-width=\"3.2\"/>\n",
       "<circle clip-path=\"url(#clip962)\" cx=\"813.585\" cy=\"835.741\" r=\"14\" fill=\"#e26f46\" fill-rule=\"evenodd\" fill-opacity=\"1\" stroke=\"#000000\" stroke-opacity=\"1\" stroke-width=\"3.2\"/>\n",
       "<circle clip-path=\"url(#clip962)\" cx=\"820.778\" cy=\"825.613\" r=\"14\" fill=\"#e26f46\" fill-rule=\"evenodd\" fill-opacity=\"1\" stroke=\"#000000\" stroke-opacity=\"1\" stroke-width=\"3.2\"/>\n",
       "<circle clip-path=\"url(#clip962)\" cx=\"827.97\" cy=\"864.166\" r=\"14\" fill=\"#e26f46\" fill-rule=\"evenodd\" fill-opacity=\"1\" stroke=\"#000000\" stroke-opacity=\"1\" stroke-width=\"3.2\"/>\n",
       "<circle clip-path=\"url(#clip962)\" cx=\"835.163\" cy=\"845.532\" r=\"14\" fill=\"#e26f46\" fill-rule=\"evenodd\" fill-opacity=\"1\" stroke=\"#000000\" stroke-opacity=\"1\" stroke-width=\"3.2\"/>\n",
       "<circle clip-path=\"url(#clip962)\" cx=\"842.355\" cy=\"825.613\" r=\"14\" fill=\"#e26f46\" fill-rule=\"evenodd\" fill-opacity=\"1\" stroke=\"#000000\" stroke-opacity=\"1\" stroke-width=\"3.2\"/>\n",
       "<circle clip-path=\"url(#clip962)\" cx=\"849.547\" cy=\"845.532\" r=\"14\" fill=\"#e26f46\" fill-rule=\"evenodd\" fill-opacity=\"1\" stroke=\"#000000\" stroke-opacity=\"1\" stroke-width=\"3.2\"/>\n",
       "<circle clip-path=\"url(#clip962)\" cx=\"856.74\" cy=\"835.741\" r=\"14\" fill=\"#e26f46\" fill-rule=\"evenodd\" fill-opacity=\"1\" stroke=\"#000000\" stroke-opacity=\"1\" stroke-width=\"3.2\"/>\n",
       "<circle clip-path=\"url(#clip962)\" cx=\"863.932\" cy=\"825.613\" r=\"14\" fill=\"#e26f46\" fill-rule=\"evenodd\" fill-opacity=\"1\" stroke=\"#000000\" stroke-opacity=\"1\" stroke-width=\"3.2\"/>\n",
       "<circle clip-path=\"url(#clip962)\" cx=\"871.125\" cy=\"835.741\" r=\"14\" fill=\"#e26f46\" fill-rule=\"evenodd\" fill-opacity=\"1\" stroke=\"#000000\" stroke-opacity=\"1\" stroke-width=\"3.2\"/>\n",
       "<circle clip-path=\"url(#clip962)\" cx=\"878.317\" cy=\"815.129\" r=\"14\" fill=\"#e26f46\" fill-rule=\"evenodd\" fill-opacity=\"1\" stroke=\"#000000\" stroke-opacity=\"1\" stroke-width=\"3.2\"/>\n",
       "<circle clip-path=\"url(#clip962)\" cx=\"885.509\" cy=\"845.532\" r=\"14\" fill=\"#e26f46\" fill-rule=\"evenodd\" fill-opacity=\"1\" stroke=\"#000000\" stroke-opacity=\"1\" stroke-width=\"3.2\"/>\n",
       "<circle clip-path=\"url(#clip962)\" cx=\"892.702\" cy=\"825.613\" r=\"14\" fill=\"#e26f46\" fill-rule=\"evenodd\" fill-opacity=\"1\" stroke=\"#000000\" stroke-opacity=\"1\" stroke-width=\"3.2\"/>\n",
       "<circle clip-path=\"url(#clip962)\" cx=\"899.894\" cy=\"815.129\" r=\"14\" fill=\"#e26f46\" fill-rule=\"evenodd\" fill-opacity=\"1\" stroke=\"#000000\" stroke-opacity=\"1\" stroke-width=\"3.2\"/>\n",
       "<circle clip-path=\"url(#clip962)\" cx=\"907.087\" cy=\"835.741\" r=\"14\" fill=\"#e26f46\" fill-rule=\"evenodd\" fill-opacity=\"1\" stroke=\"#000000\" stroke-opacity=\"1\" stroke-width=\"3.2\"/>\n",
       "<circle clip-path=\"url(#clip962)\" cx=\"914.279\" cy=\"815.129\" r=\"14\" fill=\"#e26f46\" fill-rule=\"evenodd\" fill-opacity=\"1\" stroke=\"#000000\" stroke-opacity=\"1\" stroke-width=\"3.2\"/>\n",
       "<circle clip-path=\"url(#clip962)\" cx=\"921.471\" cy=\"804.271\" r=\"14\" fill=\"#e26f46\" fill-rule=\"evenodd\" fill-opacity=\"1\" stroke=\"#000000\" stroke-opacity=\"1\" stroke-width=\"3.2\"/>\n",
       "<circle clip-path=\"url(#clip962)\" cx=\"928.664\" cy=\"804.271\" r=\"14\" fill=\"#e26f46\" fill-rule=\"evenodd\" fill-opacity=\"1\" stroke=\"#000000\" stroke-opacity=\"1\" stroke-width=\"3.2\"/>\n",
       "<circle clip-path=\"url(#clip962)\" cx=\"935.856\" cy=\"815.129\" r=\"14\" fill=\"#e26f46\" fill-rule=\"evenodd\" fill-opacity=\"1\" stroke=\"#000000\" stroke-opacity=\"1\" stroke-width=\"3.2\"/>\n",
       "<circle clip-path=\"url(#clip962)\" cx=\"943.049\" cy=\"804.271\" r=\"14\" fill=\"#e26f46\" fill-rule=\"evenodd\" fill-opacity=\"1\" stroke=\"#000000\" stroke-opacity=\"1\" stroke-width=\"3.2\"/>\n",
       "<circle clip-path=\"url(#clip962)\" cx=\"950.241\" cy=\"815.129\" r=\"14\" fill=\"#e26f46\" fill-rule=\"evenodd\" fill-opacity=\"1\" stroke=\"#000000\" stroke-opacity=\"1\" stroke-width=\"3.2\"/>\n",
       "<circle clip-path=\"url(#clip962)\" cx=\"957.433\" cy=\"815.129\" r=\"14\" fill=\"#e26f46\" fill-rule=\"evenodd\" fill-opacity=\"1\" stroke=\"#000000\" stroke-opacity=\"1\" stroke-width=\"3.2\"/>\n",
       "<circle clip-path=\"url(#clip962)\" cx=\"964.626\" cy=\"804.271\" r=\"14\" fill=\"#e26f46\" fill-rule=\"evenodd\" fill-opacity=\"1\" stroke=\"#000000\" stroke-opacity=\"1\" stroke-width=\"3.2\"/>\n",
       "<circle clip-path=\"url(#clip962)\" cx=\"971.818\" cy=\"815.129\" r=\"14\" fill=\"#e26f46\" fill-rule=\"evenodd\" fill-opacity=\"1\" stroke=\"#000000\" stroke-opacity=\"1\" stroke-width=\"3.2\"/>\n",
       "<circle clip-path=\"url(#clip962)\" cx=\"979.011\" cy=\"804.271\" r=\"14\" fill=\"#e26f46\" fill-rule=\"evenodd\" fill-opacity=\"1\" stroke=\"#000000\" stroke-opacity=\"1\" stroke-width=\"3.2\"/>\n",
       "<circle clip-path=\"url(#clip962)\" cx=\"986.203\" cy=\"769.239\" r=\"14\" fill=\"#e26f46\" fill-rule=\"evenodd\" fill-opacity=\"1\" stroke=\"#000000\" stroke-opacity=\"1\" stroke-width=\"3.2\"/>\n",
       "<circle clip-path=\"url(#clip962)\" cx=\"993.395\" cy=\"825.613\" r=\"14\" fill=\"#e26f46\" fill-rule=\"evenodd\" fill-opacity=\"1\" stroke=\"#000000\" stroke-opacity=\"1\" stroke-width=\"3.2\"/>\n",
       "<circle clip-path=\"url(#clip962)\" cx=\"1000.59\" cy=\"804.271\" r=\"14\" fill=\"#e26f46\" fill-rule=\"evenodd\" fill-opacity=\"1\" stroke=\"#000000\" stroke-opacity=\"1\" stroke-width=\"3.2\"/>\n",
       "<circle clip-path=\"url(#clip962)\" cx=\"1007.78\" cy=\"835.741\" r=\"14\" fill=\"#e26f46\" fill-rule=\"evenodd\" fill-opacity=\"1\" stroke=\"#000000\" stroke-opacity=\"1\" stroke-width=\"3.2\"/>\n",
       "<circle clip-path=\"url(#clip962)\" cx=\"1014.97\" cy=\"793.019\" r=\"14\" fill=\"#e26f46\" fill-rule=\"evenodd\" fill-opacity=\"1\" stroke=\"#000000\" stroke-opacity=\"1\" stroke-width=\"3.2\"/>\n",
       "<circle clip-path=\"url(#clip962)\" cx=\"1022.16\" cy=\"804.271\" r=\"14\" fill=\"#e26f46\" fill-rule=\"evenodd\" fill-opacity=\"1\" stroke=\"#000000\" stroke-opacity=\"1\" stroke-width=\"3.2\"/>\n",
       "<circle clip-path=\"url(#clip962)\" cx=\"1029.36\" cy=\"815.129\" r=\"14\" fill=\"#e26f46\" fill-rule=\"evenodd\" fill-opacity=\"1\" stroke=\"#000000\" stroke-opacity=\"1\" stroke-width=\"3.2\"/>\n",
       "<circle clip-path=\"url(#clip962)\" cx=\"1036.55\" cy=\"825.613\" r=\"14\" fill=\"#e26f46\" fill-rule=\"evenodd\" fill-opacity=\"1\" stroke=\"#000000\" stroke-opacity=\"1\" stroke-width=\"3.2\"/>\n",
       "<circle clip-path=\"url(#clip962)\" cx=\"1043.74\" cy=\"815.129\" r=\"14\" fill=\"#e26f46\" fill-rule=\"evenodd\" fill-opacity=\"1\" stroke=\"#000000\" stroke-opacity=\"1\" stroke-width=\"3.2\"/>\n",
       "<circle clip-path=\"url(#clip962)\" cx=\"1050.93\" cy=\"845.532\" r=\"14\" fill=\"#e26f46\" fill-rule=\"evenodd\" fill-opacity=\"1\" stroke=\"#000000\" stroke-opacity=\"1\" stroke-width=\"3.2\"/>\n",
       "<circle clip-path=\"url(#clip962)\" cx=\"1058.13\" cy=\"804.271\" r=\"14\" fill=\"#e26f46\" fill-rule=\"evenodd\" fill-opacity=\"1\" stroke=\"#000000\" stroke-opacity=\"1\" stroke-width=\"3.2\"/>\n",
       "<circle clip-path=\"url(#clip962)\" cx=\"1065.32\" cy=\"793.019\" r=\"14\" fill=\"#e26f46\" fill-rule=\"evenodd\" fill-opacity=\"1\" stroke=\"#000000\" stroke-opacity=\"1\" stroke-width=\"3.2\"/>\n",
       "<circle clip-path=\"url(#clip962)\" cx=\"1072.51\" cy=\"825.613\" r=\"14\" fill=\"#e26f46\" fill-rule=\"evenodd\" fill-opacity=\"1\" stroke=\"#000000\" stroke-opacity=\"1\" stroke-width=\"3.2\"/>\n",
       "<circle clip-path=\"url(#clip962)\" cx=\"1079.7\" cy=\"815.129\" r=\"14\" fill=\"#e26f46\" fill-rule=\"evenodd\" fill-opacity=\"1\" stroke=\"#000000\" stroke-opacity=\"1\" stroke-width=\"3.2\"/>\n",
       "<circle clip-path=\"url(#clip962)\" cx=\"1086.9\" cy=\"804.271\" r=\"14\" fill=\"#e26f46\" fill-rule=\"evenodd\" fill-opacity=\"1\" stroke=\"#000000\" stroke-opacity=\"1\" stroke-width=\"3.2\"/>\n",
       "<circle clip-path=\"url(#clip962)\" cx=\"1094.09\" cy=\"793.019\" r=\"14\" fill=\"#e26f46\" fill-rule=\"evenodd\" fill-opacity=\"1\" stroke=\"#000000\" stroke-opacity=\"1\" stroke-width=\"3.2\"/>\n",
       "<circle clip-path=\"url(#clip962)\" cx=\"1101.28\" cy=\"845.532\" r=\"14\" fill=\"#e26f46\" fill-rule=\"evenodd\" fill-opacity=\"1\" stroke=\"#000000\" stroke-opacity=\"1\" stroke-width=\"3.2\"/>\n",
       "<circle clip-path=\"url(#clip962)\" cx=\"1108.47\" cy=\"835.741\" r=\"14\" fill=\"#e26f46\" fill-rule=\"evenodd\" fill-opacity=\"1\" stroke=\"#000000\" stroke-opacity=\"1\" stroke-width=\"3.2\"/>\n",
       "<circle clip-path=\"url(#clip962)\" cx=\"1115.67\" cy=\"815.129\" r=\"14\" fill=\"#e26f46\" fill-rule=\"evenodd\" fill-opacity=\"1\" stroke=\"#000000\" stroke-opacity=\"1\" stroke-width=\"3.2\"/>\n",
       "<circle clip-path=\"url(#clip962)\" cx=\"1122.86\" cy=\"804.271\" r=\"14\" fill=\"#e26f46\" fill-rule=\"evenodd\" fill-opacity=\"1\" stroke=\"#000000\" stroke-opacity=\"1\" stroke-width=\"3.2\"/>\n",
       "<circle clip-path=\"url(#clip962)\" cx=\"1130.05\" cy=\"845.532\" r=\"14\" fill=\"#e26f46\" fill-rule=\"evenodd\" fill-opacity=\"1\" stroke=\"#000000\" stroke-opacity=\"1\" stroke-width=\"3.2\"/>\n",
       "<circle clip-path=\"url(#clip962)\" cx=\"1137.24\" cy=\"845.532\" r=\"14\" fill=\"#e26f46\" fill-rule=\"evenodd\" fill-opacity=\"1\" stroke=\"#000000\" stroke-opacity=\"1\" stroke-width=\"3.2\"/>\n",
       "<circle clip-path=\"url(#clip962)\" cx=\"1144.44\" cy=\"845.532\" r=\"14\" fill=\"#e26f46\" fill-rule=\"evenodd\" fill-opacity=\"1\" stroke=\"#000000\" stroke-opacity=\"1\" stroke-width=\"3.2\"/>\n",
       "<circle clip-path=\"url(#clip962)\" cx=\"1151.63\" cy=\"815.129\" r=\"14\" fill=\"#e26f46\" fill-rule=\"evenodd\" fill-opacity=\"1\" stroke=\"#000000\" stroke-opacity=\"1\" stroke-width=\"3.2\"/>\n",
       "<circle clip-path=\"url(#clip962)\" cx=\"1158.82\" cy=\"804.271\" r=\"14\" fill=\"#e26f46\" fill-rule=\"evenodd\" fill-opacity=\"1\" stroke=\"#000000\" stroke-opacity=\"1\" stroke-width=\"3.2\"/>\n",
       "<circle clip-path=\"url(#clip962)\" cx=\"1166.01\" cy=\"815.129\" r=\"14\" fill=\"#e26f46\" fill-rule=\"evenodd\" fill-opacity=\"1\" stroke=\"#000000\" stroke-opacity=\"1\" stroke-width=\"3.2\"/>\n",
       "<circle clip-path=\"url(#clip962)\" cx=\"1173.21\" cy=\"835.741\" r=\"14\" fill=\"#e26f46\" fill-rule=\"evenodd\" fill-opacity=\"1\" stroke=\"#000000\" stroke-opacity=\"1\" stroke-width=\"3.2\"/>\n",
       "<circle clip-path=\"url(#clip962)\" cx=\"1180.4\" cy=\"815.129\" r=\"14\" fill=\"#e26f46\" fill-rule=\"evenodd\" fill-opacity=\"1\" stroke=\"#000000\" stroke-opacity=\"1\" stroke-width=\"3.2\"/>\n",
       "<circle clip-path=\"url(#clip962)\" cx=\"1187.59\" cy=\"855.002\" r=\"14\" fill=\"#e26f46\" fill-rule=\"evenodd\" fill-opacity=\"1\" stroke=\"#000000\" stroke-opacity=\"1\" stroke-width=\"3.2\"/>\n",
       "<circle clip-path=\"url(#clip962)\" cx=\"1194.78\" cy=\"815.129\" r=\"14\" fill=\"#e26f46\" fill-rule=\"evenodd\" fill-opacity=\"1\" stroke=\"#000000\" stroke-opacity=\"1\" stroke-width=\"3.2\"/>\n",
       "<circle clip-path=\"url(#clip962)\" cx=\"1201.98\" cy=\"804.271\" r=\"14\" fill=\"#e26f46\" fill-rule=\"evenodd\" fill-opacity=\"1\" stroke=\"#000000\" stroke-opacity=\"1\" stroke-width=\"3.2\"/>\n",
       "<circle clip-path=\"url(#clip962)\" cx=\"1209.17\" cy=\"793.019\" r=\"14\" fill=\"#e26f46\" fill-rule=\"evenodd\" fill-opacity=\"1\" stroke=\"#000000\" stroke-opacity=\"1\" stroke-width=\"3.2\"/>\n",
       "<circle clip-path=\"url(#clip962)\" cx=\"1216.36\" cy=\"804.271\" r=\"14\" fill=\"#e26f46\" fill-rule=\"evenodd\" fill-opacity=\"1\" stroke=\"#000000\" stroke-opacity=\"1\" stroke-width=\"3.2\"/>\n",
       "<circle clip-path=\"url(#clip962)\" cx=\"1223.55\" cy=\"815.129\" r=\"14\" fill=\"#e26f46\" fill-rule=\"evenodd\" fill-opacity=\"1\" stroke=\"#000000\" stroke-opacity=\"1\" stroke-width=\"3.2\"/>\n",
       "<circle clip-path=\"url(#clip962)\" cx=\"1230.74\" cy=\"835.741\" r=\"14\" fill=\"#e26f46\" fill-rule=\"evenodd\" fill-opacity=\"1\" stroke=\"#000000\" stroke-opacity=\"1\" stroke-width=\"3.2\"/>\n",
       "<circle clip-path=\"url(#clip962)\" cx=\"1237.94\" cy=\"825.613\" r=\"14\" fill=\"#e26f46\" fill-rule=\"evenodd\" fill-opacity=\"1\" stroke=\"#000000\" stroke-opacity=\"1\" stroke-width=\"3.2\"/>\n",
       "<circle clip-path=\"url(#clip962)\" cx=\"1245.13\" cy=\"815.129\" r=\"14\" fill=\"#e26f46\" fill-rule=\"evenodd\" fill-opacity=\"1\" stroke=\"#000000\" stroke-opacity=\"1\" stroke-width=\"3.2\"/>\n",
       "<circle clip-path=\"url(#clip962)\" cx=\"1252.32\" cy=\"804.271\" r=\"14\" fill=\"#e26f46\" fill-rule=\"evenodd\" fill-opacity=\"1\" stroke=\"#000000\" stroke-opacity=\"1\" stroke-width=\"3.2\"/>\n",
       "<circle clip-path=\"url(#clip962)\" cx=\"1259.51\" cy=\"815.129\" r=\"14\" fill=\"#e26f46\" fill-rule=\"evenodd\" fill-opacity=\"1\" stroke=\"#000000\" stroke-opacity=\"1\" stroke-width=\"3.2\"/>\n",
       "<circle clip-path=\"url(#clip962)\" cx=\"1266.71\" cy=\"835.741\" r=\"14\" fill=\"#e26f46\" fill-rule=\"evenodd\" fill-opacity=\"1\" stroke=\"#000000\" stroke-opacity=\"1\" stroke-width=\"3.2\"/>\n",
       "<circle clip-path=\"url(#clip962)\" cx=\"1273.9\" cy=\"815.129\" r=\"14\" fill=\"#e26f46\" fill-rule=\"evenodd\" fill-opacity=\"1\" stroke=\"#000000\" stroke-opacity=\"1\" stroke-width=\"3.2\"/>\n",
       "<circle clip-path=\"url(#clip962)\" cx=\"1281.09\" cy=\"825.613\" r=\"14\" fill=\"#e26f46\" fill-rule=\"evenodd\" fill-opacity=\"1\" stroke=\"#000000\" stroke-opacity=\"1\" stroke-width=\"3.2\"/>\n",
       "<circle clip-path=\"url(#clip962)\" cx=\"1288.28\" cy=\"815.129\" r=\"14\" fill=\"#e26f46\" fill-rule=\"evenodd\" fill-opacity=\"1\" stroke=\"#000000\" stroke-opacity=\"1\" stroke-width=\"3.2\"/>\n",
       "<circle clip-path=\"url(#clip962)\" cx=\"1295.48\" cy=\"845.532\" r=\"14\" fill=\"#e26f46\" fill-rule=\"evenodd\" fill-opacity=\"1\" stroke=\"#000000\" stroke-opacity=\"1\" stroke-width=\"3.2\"/>\n",
       "<circle clip-path=\"url(#clip962)\" cx=\"1302.67\" cy=\"825.613\" r=\"14\" fill=\"#e26f46\" fill-rule=\"evenodd\" fill-opacity=\"1\" stroke=\"#000000\" stroke-opacity=\"1\" stroke-width=\"3.2\"/>\n",
       "<circle clip-path=\"url(#clip962)\" cx=\"1309.86\" cy=\"835.741\" r=\"14\" fill=\"#e26f46\" fill-rule=\"evenodd\" fill-opacity=\"1\" stroke=\"#000000\" stroke-opacity=\"1\" stroke-width=\"3.2\"/>\n",
       "<circle clip-path=\"url(#clip962)\" cx=\"1317.05\" cy=\"835.741\" r=\"14\" fill=\"#e26f46\" fill-rule=\"evenodd\" fill-opacity=\"1\" stroke=\"#000000\" stroke-opacity=\"1\" stroke-width=\"3.2\"/>\n",
       "<circle clip-path=\"url(#clip962)\" cx=\"1324.25\" cy=\"855.002\" r=\"14\" fill=\"#e26f46\" fill-rule=\"evenodd\" fill-opacity=\"1\" stroke=\"#000000\" stroke-opacity=\"1\" stroke-width=\"3.2\"/>\n",
       "<circle clip-path=\"url(#clip962)\" cx=\"1331.44\" cy=\"835.741\" r=\"14\" fill=\"#e26f46\" fill-rule=\"evenodd\" fill-opacity=\"1\" stroke=\"#000000\" stroke-opacity=\"1\" stroke-width=\"3.2\"/>\n",
       "<circle clip-path=\"url(#clip962)\" cx=\"1338.63\" cy=\"815.129\" r=\"14\" fill=\"#e26f46\" fill-rule=\"evenodd\" fill-opacity=\"1\" stroke=\"#000000\" stroke-opacity=\"1\" stroke-width=\"3.2\"/>\n",
       "<circle clip-path=\"url(#clip962)\" cx=\"1345.82\" cy=\"804.271\" r=\"14\" fill=\"#e26f46\" fill-rule=\"evenodd\" fill-opacity=\"1\" stroke=\"#000000\" stroke-opacity=\"1\" stroke-width=\"3.2\"/>\n",
       "<circle clip-path=\"url(#clip962)\" cx=\"1353.02\" cy=\"815.129\" r=\"14\" fill=\"#e26f46\" fill-rule=\"evenodd\" fill-opacity=\"1\" stroke=\"#000000\" stroke-opacity=\"1\" stroke-width=\"3.2\"/>\n",
       "<circle clip-path=\"url(#clip962)\" cx=\"1360.21\" cy=\"804.271\" r=\"14\" fill=\"#e26f46\" fill-rule=\"evenodd\" fill-opacity=\"1\" stroke=\"#000000\" stroke-opacity=\"1\" stroke-width=\"3.2\"/>\n",
       "<circle clip-path=\"url(#clip962)\" cx=\"1367.4\" cy=\"804.271\" r=\"14\" fill=\"#e26f46\" fill-rule=\"evenodd\" fill-opacity=\"1\" stroke=\"#000000\" stroke-opacity=\"1\" stroke-width=\"3.2\"/>\n",
       "<circle clip-path=\"url(#clip962)\" cx=\"1374.59\" cy=\"815.129\" r=\"14\" fill=\"#e26f46\" fill-rule=\"evenodd\" fill-opacity=\"1\" stroke=\"#000000\" stroke-opacity=\"1\" stroke-width=\"3.2\"/>\n",
       "<circle clip-path=\"url(#clip962)\" cx=\"1381.79\" cy=\"793.019\" r=\"14\" fill=\"#e26f46\" fill-rule=\"evenodd\" fill-opacity=\"1\" stroke=\"#000000\" stroke-opacity=\"1\" stroke-width=\"3.2\"/>\n",
       "<circle clip-path=\"url(#clip962)\" cx=\"1388.98\" cy=\"835.741\" r=\"14\" fill=\"#e26f46\" fill-rule=\"evenodd\" fill-opacity=\"1\" stroke=\"#000000\" stroke-opacity=\"1\" stroke-width=\"3.2\"/>\n",
       "<circle clip-path=\"url(#clip962)\" cx=\"1396.17\" cy=\"845.532\" r=\"14\" fill=\"#e26f46\" fill-rule=\"evenodd\" fill-opacity=\"1\" stroke=\"#000000\" stroke-opacity=\"1\" stroke-width=\"3.2\"/>\n",
       "<circle clip-path=\"url(#clip962)\" cx=\"1403.36\" cy=\"825.613\" r=\"14\" fill=\"#e26f46\" fill-rule=\"evenodd\" fill-opacity=\"1\" stroke=\"#000000\" stroke-opacity=\"1\" stroke-width=\"3.2\"/>\n",
       "<circle clip-path=\"url(#clip962)\" cx=\"1410.55\" cy=\"815.129\" r=\"14\" fill=\"#e26f46\" fill-rule=\"evenodd\" fill-opacity=\"1\" stroke=\"#000000\" stroke-opacity=\"1\" stroke-width=\"3.2\"/>\n",
       "<circle clip-path=\"url(#clip962)\" cx=\"1417.75\" cy=\"825.613\" r=\"14\" fill=\"#e26f46\" fill-rule=\"evenodd\" fill-opacity=\"1\" stroke=\"#000000\" stroke-opacity=\"1\" stroke-width=\"3.2\"/>\n",
       "<circle clip-path=\"url(#clip962)\" cx=\"1424.94\" cy=\"825.613\" r=\"14\" fill=\"#e26f46\" fill-rule=\"evenodd\" fill-opacity=\"1\" stroke=\"#000000\" stroke-opacity=\"1\" stroke-width=\"3.2\"/>\n",
       "<circle clip-path=\"url(#clip962)\" cx=\"1432.13\" cy=\"804.271\" r=\"14\" fill=\"#e26f46\" fill-rule=\"evenodd\" fill-opacity=\"1\" stroke=\"#000000\" stroke-opacity=\"1\" stroke-width=\"3.2\"/>\n",
       "<circle clip-path=\"url(#clip962)\" cx=\"1439.32\" cy=\"804.271\" r=\"14\" fill=\"#e26f46\" fill-rule=\"evenodd\" fill-opacity=\"1\" stroke=\"#000000\" stroke-opacity=\"1\" stroke-width=\"3.2\"/>\n",
       "<circle clip-path=\"url(#clip962)\" cx=\"1446.52\" cy=\"815.129\" r=\"14\" fill=\"#e26f46\" fill-rule=\"evenodd\" fill-opacity=\"1\" stroke=\"#000000\" stroke-opacity=\"1\" stroke-width=\"3.2\"/>\n",
       "<circle clip-path=\"url(#clip962)\" cx=\"1453.71\" cy=\"815.129\" r=\"14\" fill=\"#e26f46\" fill-rule=\"evenodd\" fill-opacity=\"1\" stroke=\"#000000\" stroke-opacity=\"1\" stroke-width=\"3.2\"/>\n",
       "<circle clip-path=\"url(#clip962)\" cx=\"1460.9\" cy=\"815.129\" r=\"14\" fill=\"#e26f46\" fill-rule=\"evenodd\" fill-opacity=\"1\" stroke=\"#000000\" stroke-opacity=\"1\" stroke-width=\"3.2\"/>\n",
       "<circle clip-path=\"url(#clip962)\" cx=\"1468.09\" cy=\"804.271\" r=\"14\" fill=\"#e26f46\" fill-rule=\"evenodd\" fill-opacity=\"1\" stroke=\"#000000\" stroke-opacity=\"1\" stroke-width=\"3.2\"/>\n",
       "<circle clip-path=\"url(#clip962)\" cx=\"1475.29\" cy=\"804.271\" r=\"14\" fill=\"#e26f46\" fill-rule=\"evenodd\" fill-opacity=\"1\" stroke=\"#000000\" stroke-opacity=\"1\" stroke-width=\"3.2\"/>\n",
       "<circle clip-path=\"url(#clip962)\" cx=\"1482.48\" cy=\"825.613\" r=\"14\" fill=\"#e26f46\" fill-rule=\"evenodd\" fill-opacity=\"1\" stroke=\"#000000\" stroke-opacity=\"1\" stroke-width=\"3.2\"/>\n",
       "<circle clip-path=\"url(#clip962)\" cx=\"1489.67\" cy=\"815.129\" r=\"14\" fill=\"#e26f46\" fill-rule=\"evenodd\" fill-opacity=\"1\" stroke=\"#000000\" stroke-opacity=\"1\" stroke-width=\"3.2\"/>\n",
       "<circle clip-path=\"url(#clip962)\" cx=\"1496.86\" cy=\"835.741\" r=\"14\" fill=\"#e26f46\" fill-rule=\"evenodd\" fill-opacity=\"1\" stroke=\"#000000\" stroke-opacity=\"1\" stroke-width=\"3.2\"/>\n",
       "<circle clip-path=\"url(#clip962)\" cx=\"1504.06\" cy=\"804.271\" r=\"14\" fill=\"#e26f46\" fill-rule=\"evenodd\" fill-opacity=\"1\" stroke=\"#000000\" stroke-opacity=\"1\" stroke-width=\"3.2\"/>\n",
       "<circle clip-path=\"url(#clip962)\" cx=\"1511.25\" cy=\"804.271\" r=\"14\" fill=\"#e26f46\" fill-rule=\"evenodd\" fill-opacity=\"1\" stroke=\"#000000\" stroke-opacity=\"1\" stroke-width=\"3.2\"/>\n",
       "<circle clip-path=\"url(#clip962)\" cx=\"1518.44\" cy=\"804.271\" r=\"14\" fill=\"#e26f46\" fill-rule=\"evenodd\" fill-opacity=\"1\" stroke=\"#000000\" stroke-opacity=\"1\" stroke-width=\"3.2\"/>\n",
       "<circle clip-path=\"url(#clip962)\" cx=\"1525.63\" cy=\"835.741\" r=\"14\" fill=\"#e26f46\" fill-rule=\"evenodd\" fill-opacity=\"1\" stroke=\"#000000\" stroke-opacity=\"1\" stroke-width=\"3.2\"/>\n",
       "<circle clip-path=\"url(#clip962)\" cx=\"1532.83\" cy=\"815.129\" r=\"14\" fill=\"#e26f46\" fill-rule=\"evenodd\" fill-opacity=\"1\" stroke=\"#000000\" stroke-opacity=\"1\" stroke-width=\"3.2\"/>\n",
       "<circle clip-path=\"url(#clip962)\" cx=\"1540.02\" cy=\"815.129\" r=\"14\" fill=\"#e26f46\" fill-rule=\"evenodd\" fill-opacity=\"1\" stroke=\"#000000\" stroke-opacity=\"1\" stroke-width=\"3.2\"/>\n",
       "<circle clip-path=\"url(#clip962)\" cx=\"1547.21\" cy=\"864.166\" r=\"14\" fill=\"#e26f46\" fill-rule=\"evenodd\" fill-opacity=\"1\" stroke=\"#000000\" stroke-opacity=\"1\" stroke-width=\"3.2\"/>\n",
       "<circle clip-path=\"url(#clip962)\" cx=\"1554.4\" cy=\"835.741\" r=\"14\" fill=\"#e26f46\" fill-rule=\"evenodd\" fill-opacity=\"1\" stroke=\"#000000\" stroke-opacity=\"1\" stroke-width=\"3.2\"/>\n",
       "<circle clip-path=\"url(#clip962)\" cx=\"1561.6\" cy=\"825.613\" r=\"14\" fill=\"#e26f46\" fill-rule=\"evenodd\" fill-opacity=\"1\" stroke=\"#000000\" stroke-opacity=\"1\" stroke-width=\"3.2\"/>\n",
       "<circle clip-path=\"url(#clip962)\" cx=\"1568.79\" cy=\"793.019\" r=\"14\" fill=\"#e26f46\" fill-rule=\"evenodd\" fill-opacity=\"1\" stroke=\"#000000\" stroke-opacity=\"1\" stroke-width=\"3.2\"/>\n",
       "<circle clip-path=\"url(#clip962)\" cx=\"1575.98\" cy=\"793.019\" r=\"14\" fill=\"#e26f46\" fill-rule=\"evenodd\" fill-opacity=\"1\" stroke=\"#000000\" stroke-opacity=\"1\" stroke-width=\"3.2\"/>\n",
       "<circle clip-path=\"url(#clip962)\" cx=\"1583.17\" cy=\"815.129\" r=\"14\" fill=\"#e26f46\" fill-rule=\"evenodd\" fill-opacity=\"1\" stroke=\"#000000\" stroke-opacity=\"1\" stroke-width=\"3.2\"/>\n",
       "<circle clip-path=\"url(#clip962)\" cx=\"1590.36\" cy=\"825.613\" r=\"14\" fill=\"#e26f46\" fill-rule=\"evenodd\" fill-opacity=\"1\" stroke=\"#000000\" stroke-opacity=\"1\" stroke-width=\"3.2\"/>\n",
       "<circle clip-path=\"url(#clip962)\" cx=\"1597.56\" cy=\"804.271\" r=\"14\" fill=\"#e26f46\" fill-rule=\"evenodd\" fill-opacity=\"1\" stroke=\"#000000\" stroke-opacity=\"1\" stroke-width=\"3.2\"/>\n",
       "<circle clip-path=\"url(#clip962)\" cx=\"1604.75\" cy=\"815.129\" r=\"14\" fill=\"#e26f46\" fill-rule=\"evenodd\" fill-opacity=\"1\" stroke=\"#000000\" stroke-opacity=\"1\" stroke-width=\"3.2\"/>\n",
       "<circle clip-path=\"url(#clip962)\" cx=\"1611.94\" cy=\"815.129\" r=\"14\" fill=\"#e26f46\" fill-rule=\"evenodd\" fill-opacity=\"1\" stroke=\"#000000\" stroke-opacity=\"1\" stroke-width=\"3.2\"/>\n",
       "<circle clip-path=\"url(#clip962)\" cx=\"1619.13\" cy=\"793.019\" r=\"14\" fill=\"#e26f46\" fill-rule=\"evenodd\" fill-opacity=\"1\" stroke=\"#000000\" stroke-opacity=\"1\" stroke-width=\"3.2\"/>\n",
       "<circle clip-path=\"url(#clip962)\" cx=\"1626.33\" cy=\"835.741\" r=\"14\" fill=\"#e26f46\" fill-rule=\"evenodd\" fill-opacity=\"1\" stroke=\"#000000\" stroke-opacity=\"1\" stroke-width=\"3.2\"/>\n",
       "<circle clip-path=\"url(#clip962)\" cx=\"1633.52\" cy=\"825.613\" r=\"14\" fill=\"#e26f46\" fill-rule=\"evenodd\" fill-opacity=\"1\" stroke=\"#000000\" stroke-opacity=\"1\" stroke-width=\"3.2\"/>\n",
       "<circle clip-path=\"url(#clip962)\" cx=\"1640.71\" cy=\"804.271\" r=\"14\" fill=\"#e26f46\" fill-rule=\"evenodd\" fill-opacity=\"1\" stroke=\"#000000\" stroke-opacity=\"1\" stroke-width=\"3.2\"/>\n",
       "<circle clip-path=\"url(#clip962)\" cx=\"1647.9\" cy=\"855.002\" r=\"14\" fill=\"#e26f46\" fill-rule=\"evenodd\" fill-opacity=\"1\" stroke=\"#000000\" stroke-opacity=\"1\" stroke-width=\"3.2\"/>\n",
       "<circle clip-path=\"url(#clip962)\" cx=\"1655.1\" cy=\"845.532\" r=\"14\" fill=\"#e26f46\" fill-rule=\"evenodd\" fill-opacity=\"1\" stroke=\"#000000\" stroke-opacity=\"1\" stroke-width=\"3.2\"/>\n",
       "<circle clip-path=\"url(#clip962)\" cx=\"1662.29\" cy=\"845.532\" r=\"14\" fill=\"#e26f46\" fill-rule=\"evenodd\" fill-opacity=\"1\" stroke=\"#000000\" stroke-opacity=\"1\" stroke-width=\"3.2\"/>\n",
       "<circle clip-path=\"url(#clip962)\" cx=\"1669.48\" cy=\"845.532\" r=\"14\" fill=\"#e26f46\" fill-rule=\"evenodd\" fill-opacity=\"1\" stroke=\"#000000\" stroke-opacity=\"1\" stroke-width=\"3.2\"/>\n",
       "<circle clip-path=\"url(#clip962)\" cx=\"1676.67\" cy=\"815.129\" r=\"14\" fill=\"#e26f46\" fill-rule=\"evenodd\" fill-opacity=\"1\" stroke=\"#000000\" stroke-opacity=\"1\" stroke-width=\"3.2\"/>\n",
       "<circle clip-path=\"url(#clip962)\" cx=\"1683.87\" cy=\"845.532\" r=\"14\" fill=\"#e26f46\" fill-rule=\"evenodd\" fill-opacity=\"1\" stroke=\"#000000\" stroke-opacity=\"1\" stroke-width=\"3.2\"/>\n",
       "<circle clip-path=\"url(#clip962)\" cx=\"1691.06\" cy=\"815.129\" r=\"14\" fill=\"#e26f46\" fill-rule=\"evenodd\" fill-opacity=\"1\" stroke=\"#000000\" stroke-opacity=\"1\" stroke-width=\"3.2\"/>\n",
       "<circle clip-path=\"url(#clip962)\" cx=\"1698.25\" cy=\"815.129\" r=\"14\" fill=\"#e26f46\" fill-rule=\"evenodd\" fill-opacity=\"1\" stroke=\"#000000\" stroke-opacity=\"1\" stroke-width=\"3.2\"/>\n",
       "<circle clip-path=\"url(#clip962)\" cx=\"1705.44\" cy=\"845.532\" r=\"14\" fill=\"#e26f46\" fill-rule=\"evenodd\" fill-opacity=\"1\" stroke=\"#000000\" stroke-opacity=\"1\" stroke-width=\"3.2\"/>\n",
       "<circle clip-path=\"url(#clip962)\" cx=\"1712.64\" cy=\"835.741\" r=\"14\" fill=\"#e26f46\" fill-rule=\"evenodd\" fill-opacity=\"1\" stroke=\"#000000\" stroke-opacity=\"1\" stroke-width=\"3.2\"/>\n",
       "<circle clip-path=\"url(#clip962)\" cx=\"1719.83\" cy=\"825.613\" r=\"14\" fill=\"#e26f46\" fill-rule=\"evenodd\" fill-opacity=\"1\" stroke=\"#000000\" stroke-opacity=\"1\" stroke-width=\"3.2\"/>\n",
       "<circle clip-path=\"url(#clip962)\" cx=\"1727.02\" cy=\"825.613\" r=\"14\" fill=\"#e26f46\" fill-rule=\"evenodd\" fill-opacity=\"1\" stroke=\"#000000\" stroke-opacity=\"1\" stroke-width=\"3.2\"/>\n",
       "<circle clip-path=\"url(#clip962)\" cx=\"1734.21\" cy=\"825.613\" r=\"14\" fill=\"#e26f46\" fill-rule=\"evenodd\" fill-opacity=\"1\" stroke=\"#000000\" stroke-opacity=\"1\" stroke-width=\"3.2\"/>\n",
       "<circle clip-path=\"url(#clip962)\" cx=\"1741.41\" cy=\"825.613\" r=\"14\" fill=\"#e26f46\" fill-rule=\"evenodd\" fill-opacity=\"1\" stroke=\"#000000\" stroke-opacity=\"1\" stroke-width=\"3.2\"/>\n",
       "<circle clip-path=\"url(#clip962)\" cx=\"1748.6\" cy=\"815.129\" r=\"14\" fill=\"#e26f46\" fill-rule=\"evenodd\" fill-opacity=\"1\" stroke=\"#000000\" stroke-opacity=\"1\" stroke-width=\"3.2\"/>\n",
       "<circle clip-path=\"url(#clip962)\" cx=\"1755.79\" cy=\"825.613\" r=\"14\" fill=\"#e26f46\" fill-rule=\"evenodd\" fill-opacity=\"1\" stroke=\"#000000\" stroke-opacity=\"1\" stroke-width=\"3.2\"/>\n",
       "<circle clip-path=\"url(#clip962)\" cx=\"1762.98\" cy=\"835.741\" r=\"14\" fill=\"#e26f46\" fill-rule=\"evenodd\" fill-opacity=\"1\" stroke=\"#000000\" stroke-opacity=\"1\" stroke-width=\"3.2\"/>\n",
       "<circle clip-path=\"url(#clip962)\" cx=\"1770.17\" cy=\"815.129\" r=\"14\" fill=\"#e26f46\" fill-rule=\"evenodd\" fill-opacity=\"1\" stroke=\"#000000\" stroke-opacity=\"1\" stroke-width=\"3.2\"/>\n",
       "<circle clip-path=\"url(#clip962)\" cx=\"1777.37\" cy=\"845.532\" r=\"14\" fill=\"#e26f46\" fill-rule=\"evenodd\" fill-opacity=\"1\" stroke=\"#000000\" stroke-opacity=\"1\" stroke-width=\"3.2\"/>\n",
       "<circle clip-path=\"url(#clip962)\" cx=\"1784.56\" cy=\"815.129\" r=\"14\" fill=\"#e26f46\" fill-rule=\"evenodd\" fill-opacity=\"1\" stroke=\"#000000\" stroke-opacity=\"1\" stroke-width=\"3.2\"/>\n",
       "<circle clip-path=\"url(#clip962)\" cx=\"1791.75\" cy=\"793.019\" r=\"14\" fill=\"#e26f46\" fill-rule=\"evenodd\" fill-opacity=\"1\" stroke=\"#000000\" stroke-opacity=\"1\" stroke-width=\"3.2\"/>\n",
       "<circle clip-path=\"url(#clip962)\" cx=\"1798.94\" cy=\"845.532\" r=\"14\" fill=\"#e26f46\" fill-rule=\"evenodd\" fill-opacity=\"1\" stroke=\"#000000\" stroke-opacity=\"1\" stroke-width=\"3.2\"/>\n",
       "<circle clip-path=\"url(#clip962)\" cx=\"1806.14\" cy=\"804.271\" r=\"14\" fill=\"#e26f46\" fill-rule=\"evenodd\" fill-opacity=\"1\" stroke=\"#000000\" stroke-opacity=\"1\" stroke-width=\"3.2\"/>\n",
       "<circle clip-path=\"url(#clip962)\" cx=\"1813.33\" cy=\"835.741\" r=\"14\" fill=\"#e26f46\" fill-rule=\"evenodd\" fill-opacity=\"1\" stroke=\"#000000\" stroke-opacity=\"1\" stroke-width=\"3.2\"/>\n",
       "<circle clip-path=\"url(#clip962)\" cx=\"1820.52\" cy=\"815.129\" r=\"14\" fill=\"#e26f46\" fill-rule=\"evenodd\" fill-opacity=\"1\" stroke=\"#000000\" stroke-opacity=\"1\" stroke-width=\"3.2\"/>\n",
       "<circle clip-path=\"url(#clip962)\" cx=\"1827.71\" cy=\"793.019\" r=\"14\" fill=\"#e26f46\" fill-rule=\"evenodd\" fill-opacity=\"1\" stroke=\"#000000\" stroke-opacity=\"1\" stroke-width=\"3.2\"/>\n",
       "<circle clip-path=\"url(#clip962)\" cx=\"1834.91\" cy=\"804.271\" r=\"14\" fill=\"#e26f46\" fill-rule=\"evenodd\" fill-opacity=\"1\" stroke=\"#000000\" stroke-opacity=\"1\" stroke-width=\"3.2\"/>\n",
       "<circle clip-path=\"url(#clip962)\" cx=\"1842.1\" cy=\"815.129\" r=\"14\" fill=\"#e26f46\" fill-rule=\"evenodd\" fill-opacity=\"1\" stroke=\"#000000\" stroke-opacity=\"1\" stroke-width=\"3.2\"/>\n",
       "<circle clip-path=\"url(#clip962)\" cx=\"1849.29\" cy=\"804.271\" r=\"14\" fill=\"#e26f46\" fill-rule=\"evenodd\" fill-opacity=\"1\" stroke=\"#000000\" stroke-opacity=\"1\" stroke-width=\"3.2\"/>\n",
       "<circle clip-path=\"url(#clip962)\" cx=\"1856.48\" cy=\"781.349\" r=\"14\" fill=\"#e26f46\" fill-rule=\"evenodd\" fill-opacity=\"1\" stroke=\"#000000\" stroke-opacity=\"1\" stroke-width=\"3.2\"/>\n",
       "<circle clip-path=\"url(#clip962)\" cx=\"1863.68\" cy=\"835.741\" r=\"14\" fill=\"#e26f46\" fill-rule=\"evenodd\" fill-opacity=\"1\" stroke=\"#000000\" stroke-opacity=\"1\" stroke-width=\"3.2\"/>\n",
       "<circle clip-path=\"url(#clip962)\" cx=\"1870.87\" cy=\"825.613\" r=\"14\" fill=\"#e26f46\" fill-rule=\"evenodd\" fill-opacity=\"1\" stroke=\"#000000\" stroke-opacity=\"1\" stroke-width=\"3.2\"/>\n",
       "<circle clip-path=\"url(#clip962)\" cx=\"1878.06\" cy=\"815.129\" r=\"14\" fill=\"#e26f46\" fill-rule=\"evenodd\" fill-opacity=\"1\" stroke=\"#000000\" stroke-opacity=\"1\" stroke-width=\"3.2\"/>\n",
       "<circle clip-path=\"url(#clip962)\" cx=\"1885.25\" cy=\"825.613\" r=\"14\" fill=\"#e26f46\" fill-rule=\"evenodd\" fill-opacity=\"1\" stroke=\"#000000\" stroke-opacity=\"1\" stroke-width=\"3.2\"/>\n",
       "<circle clip-path=\"url(#clip962)\" cx=\"1892.45\" cy=\"845.532\" r=\"14\" fill=\"#e26f46\" fill-rule=\"evenodd\" fill-opacity=\"1\" stroke=\"#000000\" stroke-opacity=\"1\" stroke-width=\"3.2\"/>\n",
       "<circle clip-path=\"url(#clip962)\" cx=\"1899.64\" cy=\"835.741\" r=\"14\" fill=\"#e26f46\" fill-rule=\"evenodd\" fill-opacity=\"1\" stroke=\"#000000\" stroke-opacity=\"1\" stroke-width=\"3.2\"/>\n",
       "<circle clip-path=\"url(#clip962)\" cx=\"1906.83\" cy=\"804.271\" r=\"14\" fill=\"#e26f46\" fill-rule=\"evenodd\" fill-opacity=\"1\" stroke=\"#000000\" stroke-opacity=\"1\" stroke-width=\"3.2\"/>\n",
       "<circle clip-path=\"url(#clip962)\" cx=\"1914.02\" cy=\"804.271\" r=\"14\" fill=\"#e26f46\" fill-rule=\"evenodd\" fill-opacity=\"1\" stroke=\"#000000\" stroke-opacity=\"1\" stroke-width=\"3.2\"/>\n",
       "<circle clip-path=\"url(#clip962)\" cx=\"1921.22\" cy=\"835.741\" r=\"14\" fill=\"#e26f46\" fill-rule=\"evenodd\" fill-opacity=\"1\" stroke=\"#000000\" stroke-opacity=\"1\" stroke-width=\"3.2\"/>\n",
       "<circle clip-path=\"url(#clip962)\" cx=\"1928.41\" cy=\"804.271\" r=\"14\" fill=\"#e26f46\" fill-rule=\"evenodd\" fill-opacity=\"1\" stroke=\"#000000\" stroke-opacity=\"1\" stroke-width=\"3.2\"/>\n",
       "<circle clip-path=\"url(#clip962)\" cx=\"1935.6\" cy=\"815.129\" r=\"14\" fill=\"#e26f46\" fill-rule=\"evenodd\" fill-opacity=\"1\" stroke=\"#000000\" stroke-opacity=\"1\" stroke-width=\"3.2\"/>\n",
       "<circle clip-path=\"url(#clip962)\" cx=\"1942.79\" cy=\"815.129\" r=\"14\" fill=\"#e26f46\" fill-rule=\"evenodd\" fill-opacity=\"1\" stroke=\"#000000\" stroke-opacity=\"1\" stroke-width=\"3.2\"/>\n",
       "<circle clip-path=\"url(#clip962)\" cx=\"1949.98\" cy=\"804.271\" r=\"14\" fill=\"#e26f46\" fill-rule=\"evenodd\" fill-opacity=\"1\" stroke=\"#000000\" stroke-opacity=\"1\" stroke-width=\"3.2\"/>\n",
       "<circle clip-path=\"url(#clip962)\" cx=\"1957.18\" cy=\"804.271\" r=\"14\" fill=\"#e26f46\" fill-rule=\"evenodd\" fill-opacity=\"1\" stroke=\"#000000\" stroke-opacity=\"1\" stroke-width=\"3.2\"/>\n",
       "<circle clip-path=\"url(#clip962)\" cx=\"1964.37\" cy=\"815.129\" r=\"14\" fill=\"#e26f46\" fill-rule=\"evenodd\" fill-opacity=\"1\" stroke=\"#000000\" stroke-opacity=\"1\" stroke-width=\"3.2\"/>\n",
       "<circle clip-path=\"url(#clip962)\" cx=\"1971.56\" cy=\"815.129\" r=\"14\" fill=\"#e26f46\" fill-rule=\"evenodd\" fill-opacity=\"1\" stroke=\"#000000\" stroke-opacity=\"1\" stroke-width=\"3.2\"/>\n",
       "<circle clip-path=\"url(#clip962)\" cx=\"1978.75\" cy=\"825.613\" r=\"14\" fill=\"#e26f46\" fill-rule=\"evenodd\" fill-opacity=\"1\" stroke=\"#000000\" stroke-opacity=\"1\" stroke-width=\"3.2\"/>\n",
       "<circle clip-path=\"url(#clip962)\" cx=\"1985.95\" cy=\"815.129\" r=\"14\" fill=\"#e26f46\" fill-rule=\"evenodd\" fill-opacity=\"1\" stroke=\"#000000\" stroke-opacity=\"1\" stroke-width=\"3.2\"/>\n",
       "<circle clip-path=\"url(#clip962)\" cx=\"1993.14\" cy=\"845.532\" r=\"14\" fill=\"#e26f46\" fill-rule=\"evenodd\" fill-opacity=\"1\" stroke=\"#000000\" stroke-opacity=\"1\" stroke-width=\"3.2\"/>\n",
       "<circle clip-path=\"url(#clip962)\" cx=\"2000.33\" cy=\"825.613\" r=\"14\" fill=\"#e26f46\" fill-rule=\"evenodd\" fill-opacity=\"1\" stroke=\"#000000\" stroke-opacity=\"1\" stroke-width=\"3.2\"/>\n",
       "<circle clip-path=\"url(#clip962)\" cx=\"2007.52\" cy=\"804.271\" r=\"14\" fill=\"#e26f46\" fill-rule=\"evenodd\" fill-opacity=\"1\" stroke=\"#000000\" stroke-opacity=\"1\" stroke-width=\"3.2\"/>\n",
       "<circle clip-path=\"url(#clip962)\" cx=\"2014.72\" cy=\"864.166\" r=\"14\" fill=\"#e26f46\" fill-rule=\"evenodd\" fill-opacity=\"1\" stroke=\"#000000\" stroke-opacity=\"1\" stroke-width=\"3.2\"/>\n",
       "<circle clip-path=\"url(#clip962)\" cx=\"2021.91\" cy=\"825.613\" r=\"14\" fill=\"#e26f46\" fill-rule=\"evenodd\" fill-opacity=\"1\" stroke=\"#000000\" stroke-opacity=\"1\" stroke-width=\"3.2\"/>\n",
       "<circle clip-path=\"url(#clip962)\" cx=\"2029.1\" cy=\"825.613\" r=\"14\" fill=\"#e26f46\" fill-rule=\"evenodd\" fill-opacity=\"1\" stroke=\"#000000\" stroke-opacity=\"1\" stroke-width=\"3.2\"/>\n",
       "<circle clip-path=\"url(#clip962)\" cx=\"2036.29\" cy=\"835.741\" r=\"14\" fill=\"#e26f46\" fill-rule=\"evenodd\" fill-opacity=\"1\" stroke=\"#000000\" stroke-opacity=\"1\" stroke-width=\"3.2\"/>\n",
       "<circle clip-path=\"url(#clip962)\" cx=\"2043.49\" cy=\"804.271\" r=\"14\" fill=\"#e26f46\" fill-rule=\"evenodd\" fill-opacity=\"1\" stroke=\"#000000\" stroke-opacity=\"1\" stroke-width=\"3.2\"/>\n",
       "<circle clip-path=\"url(#clip962)\" cx=\"2050.68\" cy=\"804.271\" r=\"14\" fill=\"#e26f46\" fill-rule=\"evenodd\" fill-opacity=\"1\" stroke=\"#000000\" stroke-opacity=\"1\" stroke-width=\"3.2\"/>\n",
       "<circle clip-path=\"url(#clip962)\" cx=\"2057.87\" cy=\"804.271\" r=\"14\" fill=\"#e26f46\" fill-rule=\"evenodd\" fill-opacity=\"1\" stroke=\"#000000\" stroke-opacity=\"1\" stroke-width=\"3.2\"/>\n",
       "<circle clip-path=\"url(#clip962)\" cx=\"2065.06\" cy=\"793.019\" r=\"14\" fill=\"#e26f46\" fill-rule=\"evenodd\" fill-opacity=\"1\" stroke=\"#000000\" stroke-opacity=\"1\" stroke-width=\"3.2\"/>\n",
       "<circle clip-path=\"url(#clip962)\" cx=\"2072.26\" cy=\"815.129\" r=\"14\" fill=\"#e26f46\" fill-rule=\"evenodd\" fill-opacity=\"1\" stroke=\"#000000\" stroke-opacity=\"1\" stroke-width=\"3.2\"/>\n",
       "<circle clip-path=\"url(#clip962)\" cx=\"2079.45\" cy=\"793.019\" r=\"14\" fill=\"#e26f46\" fill-rule=\"evenodd\" fill-opacity=\"1\" stroke=\"#000000\" stroke-opacity=\"1\" stroke-width=\"3.2\"/>\n",
       "<circle clip-path=\"url(#clip962)\" cx=\"2086.64\" cy=\"793.019\" r=\"14\" fill=\"#e26f46\" fill-rule=\"evenodd\" fill-opacity=\"1\" stroke=\"#000000\" stroke-opacity=\"1\" stroke-width=\"3.2\"/>\n",
       "<circle clip-path=\"url(#clip962)\" cx=\"2093.83\" cy=\"793.019\" r=\"14\" fill=\"#e26f46\" fill-rule=\"evenodd\" fill-opacity=\"1\" stroke=\"#000000\" stroke-opacity=\"1\" stroke-width=\"3.2\"/>\n",
       "<circle clip-path=\"url(#clip962)\" cx=\"2101.03\" cy=\"845.532\" r=\"14\" fill=\"#e26f46\" fill-rule=\"evenodd\" fill-opacity=\"1\" stroke=\"#000000\" stroke-opacity=\"1\" stroke-width=\"3.2\"/>\n",
       "<circle clip-path=\"url(#clip962)\" cx=\"2108.22\" cy=\"873.039\" r=\"14\" fill=\"#e26f46\" fill-rule=\"evenodd\" fill-opacity=\"1\" stroke=\"#000000\" stroke-opacity=\"1\" stroke-width=\"3.2\"/>\n",
       "<circle clip-path=\"url(#clip962)\" cx=\"2115.41\" cy=\"845.532\" r=\"14\" fill=\"#e26f46\" fill-rule=\"evenodd\" fill-opacity=\"1\" stroke=\"#000000\" stroke-opacity=\"1\" stroke-width=\"3.2\"/>\n",
       "<circle clip-path=\"url(#clip962)\" cx=\"2122.6\" cy=\"835.741\" r=\"14\" fill=\"#e26f46\" fill-rule=\"evenodd\" fill-opacity=\"1\" stroke=\"#000000\" stroke-opacity=\"1\" stroke-width=\"3.2\"/>\n",
       "<circle clip-path=\"url(#clip962)\" cx=\"2129.8\" cy=\"815.129\" r=\"14\" fill=\"#e26f46\" fill-rule=\"evenodd\" fill-opacity=\"1\" stroke=\"#000000\" stroke-opacity=\"1\" stroke-width=\"3.2\"/>\n",
       "<circle clip-path=\"url(#clip962)\" cx=\"2136.99\" cy=\"815.129\" r=\"14\" fill=\"#e26f46\" fill-rule=\"evenodd\" fill-opacity=\"1\" stroke=\"#000000\" stroke-opacity=\"1\" stroke-width=\"3.2\"/>\n",
       "<circle clip-path=\"url(#clip962)\" cx=\"2144.18\" cy=\"793.019\" r=\"14\" fill=\"#e26f46\" fill-rule=\"evenodd\" fill-opacity=\"1\" stroke=\"#000000\" stroke-opacity=\"1\" stroke-width=\"3.2\"/>\n",
       "<circle clip-path=\"url(#clip962)\" cx=\"2151.37\" cy=\"793.019\" r=\"14\" fill=\"#e26f46\" fill-rule=\"evenodd\" fill-opacity=\"1\" stroke=\"#000000\" stroke-opacity=\"1\" stroke-width=\"3.2\"/>\n",
       "<circle clip-path=\"url(#clip962)\" cx=\"2158.56\" cy=\"825.613\" r=\"14\" fill=\"#e26f46\" fill-rule=\"evenodd\" fill-opacity=\"1\" stroke=\"#000000\" stroke-opacity=\"1\" stroke-width=\"3.2\"/>\n",
       "<circle clip-path=\"url(#clip962)\" cx=\"2165.76\" cy=\"835.741\" r=\"14\" fill=\"#e26f46\" fill-rule=\"evenodd\" fill-opacity=\"1\" stroke=\"#000000\" stroke-opacity=\"1\" stroke-width=\"3.2\"/>\n",
       "<circle clip-path=\"url(#clip962)\" cx=\"2172.95\" cy=\"835.741\" r=\"14\" fill=\"#e26f46\" fill-rule=\"evenodd\" fill-opacity=\"1\" stroke=\"#000000\" stroke-opacity=\"1\" stroke-width=\"3.2\"/>\n",
       "<circle clip-path=\"url(#clip962)\" cx=\"2180.14\" cy=\"845.532\" r=\"14\" fill=\"#e26f46\" fill-rule=\"evenodd\" fill-opacity=\"1\" stroke=\"#000000\" stroke-opacity=\"1\" stroke-width=\"3.2\"/>\n",
       "<circle clip-path=\"url(#clip962)\" cx=\"2187.33\" cy=\"845.532\" r=\"14\" fill=\"#e26f46\" fill-rule=\"evenodd\" fill-opacity=\"1\" stroke=\"#000000\" stroke-opacity=\"1\" stroke-width=\"3.2\"/>\n",
       "<circle clip-path=\"url(#clip962)\" cx=\"2194.53\" cy=\"815.129\" r=\"14\" fill=\"#e26f46\" fill-rule=\"evenodd\" fill-opacity=\"1\" stroke=\"#000000\" stroke-opacity=\"1\" stroke-width=\"3.2\"/>\n",
       "<circle clip-path=\"url(#clip962)\" cx=\"2201.72\" cy=\"825.613\" r=\"14\" fill=\"#e26f46\" fill-rule=\"evenodd\" fill-opacity=\"1\" stroke=\"#000000\" stroke-opacity=\"1\" stroke-width=\"3.2\"/>\n",
       "<circle clip-path=\"url(#clip962)\" cx=\"2208.91\" cy=\"804.271\" r=\"14\" fill=\"#e26f46\" fill-rule=\"evenodd\" fill-opacity=\"1\" stroke=\"#000000\" stroke-opacity=\"1\" stroke-width=\"3.2\"/>\n",
       "<circle clip-path=\"url(#clip962)\" cx=\"2216.1\" cy=\"825.613\" r=\"14\" fill=\"#e26f46\" fill-rule=\"evenodd\" fill-opacity=\"1\" stroke=\"#000000\" stroke-opacity=\"1\" stroke-width=\"3.2\"/>\n",
       "<circle clip-path=\"url(#clip962)\" cx=\"2223.3\" cy=\"815.129\" r=\"14\" fill=\"#e26f46\" fill-rule=\"evenodd\" fill-opacity=\"1\" stroke=\"#000000\" stroke-opacity=\"1\" stroke-width=\"3.2\"/>\n",
       "<circle clip-path=\"url(#clip962)\" cx=\"2230.49\" cy=\"804.271\" r=\"14\" fill=\"#e26f46\" fill-rule=\"evenodd\" fill-opacity=\"1\" stroke=\"#000000\" stroke-opacity=\"1\" stroke-width=\"3.2\"/>\n",
       "<circle clip-path=\"url(#clip962)\" cx=\"2237.68\" cy=\"845.532\" r=\"14\" fill=\"#e26f46\" fill-rule=\"evenodd\" fill-opacity=\"1\" stroke=\"#000000\" stroke-opacity=\"1\" stroke-width=\"3.2\"/>\n",
       "<circle clip-path=\"url(#clip962)\" cx=\"2244.87\" cy=\"815.129\" r=\"14\" fill=\"#e26f46\" fill-rule=\"evenodd\" fill-opacity=\"1\" stroke=\"#000000\" stroke-opacity=\"1\" stroke-width=\"3.2\"/>\n",
       "<circle clip-path=\"url(#clip962)\" cx=\"2252.07\" cy=\"825.613\" r=\"14\" fill=\"#e26f46\" fill-rule=\"evenodd\" fill-opacity=\"1\" stroke=\"#000000\" stroke-opacity=\"1\" stroke-width=\"3.2\"/>\n",
       "<circle clip-path=\"url(#clip962)\" cx=\"2259.26\" cy=\"815.129\" r=\"14\" fill=\"#e26f46\" fill-rule=\"evenodd\" fill-opacity=\"1\" stroke=\"#000000\" stroke-opacity=\"1\" stroke-width=\"3.2\"/>\n",
       "<circle clip-path=\"url(#clip962)\" cx=\"2266.45\" cy=\"845.532\" r=\"14\" fill=\"#e26f46\" fill-rule=\"evenodd\" fill-opacity=\"1\" stroke=\"#000000\" stroke-opacity=\"1\" stroke-width=\"3.2\"/>\n",
       "<circle clip-path=\"url(#clip962)\" cx=\"2273.64\" cy=\"835.741\" r=\"14\" fill=\"#e26f46\" fill-rule=\"evenodd\" fill-opacity=\"1\" stroke=\"#000000\" stroke-opacity=\"1\" stroke-width=\"3.2\"/>\n",
       "<circle clip-path=\"url(#clip962)\" cx=\"2280.84\" cy=\"825.613\" r=\"14\" fill=\"#e26f46\" fill-rule=\"evenodd\" fill-opacity=\"1\" stroke=\"#000000\" stroke-opacity=\"1\" stroke-width=\"3.2\"/>\n",
       "<circle clip-path=\"url(#clip962)\" cx=\"2288.03\" cy=\"815.129\" r=\"14\" fill=\"#e26f46\" fill-rule=\"evenodd\" fill-opacity=\"1\" stroke=\"#000000\" stroke-opacity=\"1\" stroke-width=\"3.2\"/>\n",
       "<circle clip-path=\"url(#clip962)\" cx=\"2295.22\" cy=\"825.613\" r=\"14\" fill=\"#e26f46\" fill-rule=\"evenodd\" fill-opacity=\"1\" stroke=\"#000000\" stroke-opacity=\"1\" stroke-width=\"3.2\"/>\n",
       "<circle clip-path=\"url(#clip962)\" cx=\"2302.41\" cy=\"845.532\" r=\"14\" fill=\"#e26f46\" fill-rule=\"evenodd\" fill-opacity=\"1\" stroke=\"#000000\" stroke-opacity=\"1\" stroke-width=\"3.2\"/>\n",
       "<circle clip-path=\"url(#clip962)\" cx=\"2309.61\" cy=\"825.613\" r=\"14\" fill=\"#e26f46\" fill-rule=\"evenodd\" fill-opacity=\"1\" stroke=\"#000000\" stroke-opacity=\"1\" stroke-width=\"3.2\"/>\n",
       "<circle clip-path=\"url(#clip962)\" cx=\"2316.8\" cy=\"835.741\" r=\"14\" fill=\"#e26f46\" fill-rule=\"evenodd\" fill-opacity=\"1\" stroke=\"#000000\" stroke-opacity=\"1\" stroke-width=\"3.2\"/>\n",
       "<circle clip-path=\"url(#clip962)\" cx=\"2323.99\" cy=\"825.613\" r=\"14\" fill=\"#e26f46\" fill-rule=\"evenodd\" fill-opacity=\"1\" stroke=\"#000000\" stroke-opacity=\"1\" stroke-width=\"3.2\"/>\n",
       "<circle clip-path=\"url(#clip962)\" cx=\"2331.18\" cy=\"815.129\" r=\"14\" fill=\"#e26f46\" fill-rule=\"evenodd\" fill-opacity=\"1\" stroke=\"#000000\" stroke-opacity=\"1\" stroke-width=\"3.2\"/>\n",
       "<circle clip-path=\"url(#clip962)\" cx=\"2338.37\" cy=\"835.741\" r=\"14\" fill=\"#e26f46\" fill-rule=\"evenodd\" fill-opacity=\"1\" stroke=\"#000000\" stroke-opacity=\"1\" stroke-width=\"3.2\"/>\n",
       "<circle clip-path=\"url(#clip962)\" cx=\"2345.57\" cy=\"781.349\" r=\"14\" fill=\"#e26f46\" fill-rule=\"evenodd\" fill-opacity=\"1\" stroke=\"#000000\" stroke-opacity=\"1\" stroke-width=\"3.2\"/>\n",
       "<path clip-path=\"url(#clip960)\" d=\"\n",
       "M1402.17 322.316 L2281.07 322.316 L2281.07 166.796 L1402.17 166.796  Z\n",
       "  \" fill=\"#ffffff\" fill-rule=\"evenodd\" fill-opacity=\"1\"/>\n",
       "<polyline clip-path=\"url(#clip960)\" style=\"stroke:#000000; stroke-linecap:butt; stroke-linejoin:round; stroke-width:4; stroke-opacity:1; fill:none\" points=\"\n",
       "  1402.17,322.316 2281.07,322.316 2281.07,166.796 1402.17,166.796 1402.17,322.316 \n",
       "  \"/>\n",
       "<polyline clip-path=\"url(#clip960)\" style=\"stroke:#009af9; stroke-linecap:butt; stroke-linejoin:round; stroke-width:4; stroke-opacity:1; fill:none\" points=\"\n",
       "  1426.07,218.636 1569.44,218.636 \n",
       "  \"/>\n",
       "<path clip-path=\"url(#clip960)\" d=\"M1608.93 205.43 L1597.13 223.879 L1608.93 223.879 L1608.93 205.43 M1607.71 201.356 L1613.59 201.356 L1613.59 223.879 L1618.52 223.879 L1618.52 227.768 L1613.59 227.768 L1613.59 235.916 L1608.93 235.916 L1608.93 227.768 L1593.33 227.768 L1593.33 223.254 L1607.71 201.356 Z\" fill=\"#000000\" fill-rule=\"evenodd\" fill-opacity=\"1\" /><path clip-path=\"url(#clip960)\" d=\"M1636.25 204.434 Q1632.64 204.434 1630.81 207.999 Q1629 211.541 1629 218.67 Q1629 225.777 1630.81 229.342 Q1632.64 232.883 1636.25 232.883 Q1639.88 232.883 1641.69 229.342 Q1643.52 225.777 1643.52 218.67 Q1643.52 211.541 1641.69 207.999 Q1639.88 204.434 1636.25 204.434 M1636.25 200.731 Q1642.06 200.731 1645.11 205.337 Q1648.19 209.92 1648.19 218.67 Q1648.19 227.397 1645.11 232.004 Q1642.06 236.587 1636.25 236.587 Q1630.44 236.587 1627.36 232.004 Q1624.3 227.397 1624.3 218.67 Q1624.3 209.92 1627.36 205.337 Q1630.44 200.731 1636.25 200.731 Z\" fill=\"#000000\" fill-rule=\"evenodd\" fill-opacity=\"1\" /><path clip-path=\"url(#clip960)\" d=\"M1667.98 201.356 L1672.71 201.356 L1679.97 230.569 L1687.22 201.356 L1692.47 201.356 L1699.74 230.569 L1706.99 201.356 L1711.73 201.356 L1703.05 235.916 L1697.17 235.916 L1689.88 205.916 L1682.52 235.916 L1676.64 235.916 L1667.98 201.356 Z\" fill=\"#000000\" fill-rule=\"evenodd\" fill-opacity=\"1\" /><path clip-path=\"url(#clip960)\" d=\"M1726.5 222.883 Q1721.34 222.883 1719.35 224.064 Q1717.36 225.244 1717.36 228.092 Q1717.36 230.36 1718.84 231.703 Q1720.35 233.022 1722.91 233.022 Q1726.46 233.022 1728.59 230.522 Q1730.74 227.999 1730.74 223.832 L1730.74 222.883 L1726.5 222.883 M1735 221.124 L1735 235.916 L1730.74 235.916 L1730.74 231.981 Q1729.28 234.342 1727.1 235.476 Q1724.93 236.587 1721.78 236.587 Q1717.8 236.587 1715.44 234.365 Q1713.1 232.119 1713.1 228.369 Q1713.1 223.994 1716.02 221.772 Q1718.96 219.55 1724.77 219.55 L1730.74 219.55 L1730.74 219.133 Q1730.74 216.194 1728.79 214.596 Q1726.87 212.976 1723.38 212.976 Q1721.16 212.976 1719.05 213.508 Q1716.94 214.041 1715 215.106 L1715 211.17 Q1717.34 210.268 1719.53 209.828 Q1721.73 209.365 1723.82 209.365 Q1729.44 209.365 1732.22 212.282 Q1735 215.198 1735 221.124 Z\" fill=\"#000000\" fill-rule=\"evenodd\" fill-opacity=\"1\" /><path clip-path=\"url(#clip960)\" d=\"M1747.98 202.629 L1747.98 209.99 L1756.76 209.99 L1756.76 213.3 L1747.98 213.3 L1747.98 227.374 Q1747.98 230.545 1748.84 231.448 Q1749.72 232.351 1752.38 232.351 L1756.76 232.351 L1756.76 235.916 L1752.38 235.916 Q1747.45 235.916 1745.58 234.087 Q1743.7 232.235 1743.7 227.374 L1743.7 213.3 L1740.58 213.3 L1740.58 209.99 L1743.7 209.99 L1743.7 202.629 L1747.98 202.629 Z\" fill=\"#000000\" fill-rule=\"evenodd\" fill-opacity=\"1\" /><path clip-path=\"url(#clip960)\" d=\"M1766.57 202.629 L1766.57 209.99 L1775.34 209.99 L1775.34 213.3 L1766.57 213.3 L1766.57 227.374 Q1766.57 230.545 1767.43 231.448 Q1768.31 232.351 1770.97 232.351 L1775.34 232.351 L1775.34 235.916 L1770.97 235.916 Q1766.04 235.916 1764.16 234.087 Q1762.29 232.235 1762.29 227.374 L1762.29 213.3 L1759.16 213.3 L1759.16 209.99 L1762.29 209.99 L1762.29 202.629 L1766.57 202.629 Z\" fill=\"#000000\" fill-rule=\"evenodd\" fill-opacity=\"1\" /><path clip-path=\"url(#clip960)\" d=\"M1817.57 220.268 L1817.57 235.916 L1813.31 235.916 L1813.31 220.407 Q1813.31 216.726 1811.87 214.897 Q1810.44 213.069 1807.57 213.069 Q1804.12 213.069 1802.13 215.268 Q1800.14 217.467 1800.14 221.263 L1800.14 235.916 L1795.85 235.916 L1795.85 199.897 L1800.14 199.897 L1800.14 214.018 Q1801.66 211.68 1803.72 210.522 Q1805.81 209.365 1808.52 209.365 Q1812.98 209.365 1815.28 212.143 Q1817.57 214.897 1817.57 220.268 Z\" fill=\"#000000\" fill-rule=\"evenodd\" fill-opacity=\"1\" /><path clip-path=\"url(#clip960)\" d=\"M1848.24 221.888 L1848.24 223.971 L1828.65 223.971 Q1828.93 228.369 1831.29 230.684 Q1833.68 232.976 1837.91 232.976 Q1840.37 232.976 1842.66 232.374 Q1844.97 231.772 1847.24 230.569 L1847.24 234.596 Q1844.95 235.568 1842.54 236.078 Q1840.14 236.587 1837.66 236.587 Q1831.46 236.587 1827.82 232.976 Q1824.21 229.365 1824.21 223.207 Q1824.21 216.842 1827.64 213.115 Q1831.09 209.365 1836.92 209.365 Q1842.15 209.365 1845.18 212.745 Q1848.24 216.101 1848.24 221.888 M1843.98 220.638 Q1843.93 217.143 1842.01 215.059 Q1840.11 212.976 1836.96 212.976 Q1833.4 212.976 1831.25 214.99 Q1829.12 217.004 1828.79 220.661 L1843.98 220.638 Z\" fill=\"#000000\" fill-rule=\"evenodd\" fill-opacity=\"1\" /><path clip-path=\"url(#clip960)\" d=\"M1867.01 222.883 Q1861.85 222.883 1859.86 224.064 Q1857.87 225.244 1857.87 228.092 Q1857.87 230.36 1859.35 231.703 Q1860.85 233.022 1863.42 233.022 Q1866.96 233.022 1869.09 230.522 Q1871.25 227.999 1871.25 223.832 L1871.25 222.883 L1867.01 222.883 M1875.51 221.124 L1875.51 235.916 L1871.25 235.916 L1871.25 231.981 Q1869.79 234.342 1867.61 235.476 Q1865.44 236.587 1862.29 236.587 Q1858.31 236.587 1855.95 234.365 Q1853.61 232.119 1853.61 228.369 Q1853.61 223.994 1856.52 221.772 Q1859.46 219.55 1865.27 219.55 L1871.25 219.55 L1871.25 219.133 Q1871.25 216.194 1869.3 214.596 Q1867.38 212.976 1863.89 212.976 Q1861.66 212.976 1859.56 213.508 Q1857.45 214.041 1855.51 215.106 L1855.51 211.17 Q1857.84 210.268 1860.04 209.828 Q1862.24 209.365 1864.33 209.365 Q1869.95 209.365 1872.73 212.282 Q1875.51 215.198 1875.51 221.124 Z\" fill=\"#000000\" fill-rule=\"evenodd\" fill-opacity=\"1\" /><path clip-path=\"url(#clip960)\" d=\"M1888.49 202.629 L1888.49 209.99 L1897.27 209.99 L1897.27 213.3 L1888.49 213.3 L1888.49 227.374 Q1888.49 230.545 1889.35 231.448 Q1890.23 232.351 1892.89 232.351 L1897.27 232.351 L1897.27 235.916 L1892.89 235.916 Q1887.96 235.916 1886.08 234.087 Q1884.21 232.235 1884.21 227.374 L1884.21 213.3 L1881.08 213.3 L1881.08 209.99 L1884.21 209.99 L1884.21 202.629 L1888.49 202.629 Z\" fill=\"#000000\" fill-rule=\"evenodd\" fill-opacity=\"1\" /><path clip-path=\"url(#clip960)\" d=\"M1925.04 221.888 L1925.04 223.971 L1905.46 223.971 Q1905.74 228.369 1908.1 230.684 Q1910.48 232.976 1914.72 232.976 Q1917.17 232.976 1919.46 232.374 Q1921.78 231.772 1924.05 230.569 L1924.05 234.596 Q1921.76 235.568 1919.35 236.078 Q1916.94 236.587 1914.46 236.587 Q1908.26 236.587 1904.63 232.976 Q1901.02 229.365 1901.02 223.207 Q1901.02 216.842 1904.44 213.115 Q1907.89 209.365 1913.72 209.365 Q1918.96 209.365 1921.99 212.745 Q1925.04 216.101 1925.04 221.888 M1920.78 220.638 Q1920.74 217.143 1918.82 215.059 Q1916.92 212.976 1913.77 212.976 Q1910.21 212.976 1908.05 214.99 Q1905.92 217.004 1905.6 220.661 L1920.78 220.638 Z\" fill=\"#000000\" fill-rule=\"evenodd\" fill-opacity=\"1\" /><path clip-path=\"url(#clip960)\" d=\"M1947.06 213.971 Q1946.34 213.555 1945.48 213.37 Q1944.65 213.161 1943.63 213.161 Q1940.02 213.161 1938.08 215.522 Q1936.15 217.86 1936.15 222.258 L1936.15 235.916 L1931.87 235.916 L1931.87 209.99 L1936.15 209.99 L1936.15 214.018 Q1937.5 211.657 1939.65 210.522 Q1941.8 209.365 1944.88 209.365 Q1945.32 209.365 1945.85 209.434 Q1946.39 209.481 1947.03 209.596 L1947.06 213.971 Z\" fill=\"#000000\" fill-rule=\"evenodd\" fill-opacity=\"1\" /><path clip-path=\"url(#clip960)\" d=\"M1983.12 210.754 L1983.12 214.782 Q1981.32 213.856 1979.37 213.393 Q1977.43 212.93 1975.34 212.93 Q1972.17 212.93 1970.58 213.902 Q1969 214.874 1969 216.819 Q1969 218.3 1970.14 219.157 Q1971.27 219.99 1974.7 220.754 L1976.15 221.078 Q1980.69 222.05 1982.59 223.832 Q1984.51 225.592 1984.51 228.763 Q1984.51 232.374 1981.64 234.481 Q1978.79 236.587 1973.79 236.587 Q1971.71 236.587 1969.44 236.17 Q1967.2 235.777 1964.7 234.967 L1964.7 230.569 Q1967.06 231.795 1969.35 232.42 Q1971.64 233.022 1973.89 233.022 Q1976.89 233.022 1978.51 232.004 Q1980.14 230.962 1980.14 229.087 Q1980.14 227.351 1978.95 226.425 Q1977.8 225.499 1973.84 224.643 L1972.36 224.295 Q1968.4 223.462 1966.64 221.749 Q1964.88 220.013 1964.88 217.004 Q1964.88 213.346 1967.47 211.356 Q1970.07 209.365 1974.83 209.365 Q1977.2 209.365 1979.28 209.712 Q1981.36 210.059 1983.12 210.754 Z\" fill=\"#000000\" fill-rule=\"evenodd\" fill-opacity=\"1\" /><path clip-path=\"url(#clip960)\" d=\"M1991.29 209.99 L1995.55 209.99 L1995.55 235.916 L1991.29 235.916 L1991.29 209.99 M1991.29 199.897 L1995.55 199.897 L1995.55 205.291 L1991.29 205.291 L1991.29 199.897 Z\" fill=\"#000000\" fill-rule=\"evenodd\" fill-opacity=\"1\" /><path clip-path=\"url(#clip960)\" d=\"M2024.65 214.967 Q2026.25 212.096 2028.47 210.731 Q2030.69 209.365 2033.7 209.365 Q2037.75 209.365 2039.95 212.212 Q2042.15 215.036 2042.15 220.268 L2042.15 235.916 L2037.87 235.916 L2037.87 220.407 Q2037.87 216.68 2036.55 214.874 Q2035.23 213.069 2032.52 213.069 Q2029.21 213.069 2027.29 215.268 Q2025.37 217.467 2025.37 221.263 L2025.37 235.916 L2021.08 235.916 L2021.08 220.407 Q2021.08 216.657 2019.76 214.874 Q2018.45 213.069 2015.69 213.069 Q2012.43 213.069 2010.51 215.291 Q2008.58 217.49 2008.58 221.263 L2008.58 235.916 L2004.3 235.916 L2004.3 209.99 L2008.58 209.99 L2008.58 214.018 Q2010.04 211.633 2012.08 210.499 Q2014.12 209.365 2016.92 209.365 Q2019.74 209.365 2021.71 210.8 Q2023.7 212.235 2024.65 214.967 Z\" fill=\"#000000\" fill-rule=\"evenodd\" fill-opacity=\"1\" /><path clip-path=\"url(#clip960)\" d=\"M2050.2 225.684 L2050.2 209.99 L2054.46 209.99 L2054.46 225.522 Q2054.46 229.203 2055.9 231.055 Q2057.33 232.883 2060.2 232.883 Q2063.65 232.883 2065.64 230.684 Q2067.66 228.485 2067.66 224.689 L2067.66 209.99 L2071.92 209.99 L2071.92 235.916 L2067.66 235.916 L2067.66 231.934 Q2066.11 234.295 2064.05 235.453 Q2062.01 236.587 2059.3 236.587 Q2054.83 236.587 2052.52 233.809 Q2050.2 231.031 2050.2 225.684 M2060.92 209.365 L2060.92 209.365 Z\" fill=\"#000000\" fill-rule=\"evenodd\" fill-opacity=\"1\" /><path clip-path=\"url(#clip960)\" d=\"M2080.69 199.897 L2084.95 199.897 L2084.95 235.916 L2080.69 235.916 L2080.69 199.897 Z\" fill=\"#000000\" fill-rule=\"evenodd\" fill-opacity=\"1\" /><path clip-path=\"url(#clip960)\" d=\"M2105.64 222.883 Q2100.48 222.883 2098.49 224.064 Q2096.5 225.244 2096.5 228.092 Q2096.5 230.36 2097.98 231.703 Q2099.49 233.022 2102.06 233.022 Q2105.6 233.022 2107.73 230.522 Q2109.88 227.999 2109.88 223.832 L2109.88 222.883 L2105.64 222.883 M2114.14 221.124 L2114.14 235.916 L2109.88 235.916 L2109.88 231.981 Q2108.42 234.342 2106.25 235.476 Q2104.07 236.587 2100.92 236.587 Q2096.94 236.587 2094.58 234.365 Q2092.24 232.119 2092.24 228.369 Q2092.24 223.994 2095.16 221.772 Q2098.1 219.55 2103.91 219.55 L2109.88 219.55 L2109.88 219.133 Q2109.88 216.194 2107.94 214.596 Q2106.01 212.976 2102.52 212.976 Q2100.3 212.976 2098.19 213.508 Q2096.08 214.041 2094.14 215.106 L2094.14 211.17 Q2096.48 210.268 2098.68 209.828 Q2100.88 209.365 2102.96 209.365 Q2108.58 209.365 2111.36 212.282 Q2114.14 215.198 2114.14 221.124 Z\" fill=\"#000000\" fill-rule=\"evenodd\" fill-opacity=\"1\" /><path clip-path=\"url(#clip960)\" d=\"M2127.13 202.629 L2127.13 209.99 L2135.9 209.99 L2135.9 213.3 L2127.13 213.3 L2127.13 227.374 Q2127.13 230.545 2127.98 231.448 Q2128.86 232.351 2131.52 232.351 L2135.9 232.351 L2135.9 235.916 L2131.52 235.916 Q2126.59 235.916 2124.72 234.087 Q2122.84 232.235 2122.84 227.374 L2122.84 213.3 L2119.72 213.3 L2119.72 209.99 L2122.84 209.99 L2122.84 202.629 L2127.13 202.629 Z\" fill=\"#000000\" fill-rule=\"evenodd\" fill-opacity=\"1\" /><path clip-path=\"url(#clip960)\" d=\"M2141.5 209.99 L2145.76 209.99 L2145.76 235.916 L2141.5 235.916 L2141.5 209.99 M2141.5 199.897 L2145.76 199.897 L2145.76 205.291 L2141.5 205.291 L2141.5 199.897 Z\" fill=\"#000000\" fill-rule=\"evenodd\" fill-opacity=\"1\" /><path clip-path=\"url(#clip960)\" d=\"M2164.72 212.976 Q2161.29 212.976 2159.3 215.661 Q2157.31 218.323 2157.31 222.976 Q2157.31 227.629 2159.28 230.314 Q2161.27 232.976 2164.72 232.976 Q2168.12 232.976 2170.11 230.291 Q2172.1 227.606 2172.1 222.976 Q2172.1 218.37 2170.11 215.684 Q2168.12 212.976 2164.72 212.976 M2164.72 209.365 Q2170.27 209.365 2173.44 212.976 Q2176.62 216.587 2176.62 222.976 Q2176.62 229.342 2173.44 232.976 Q2170.27 236.587 2164.72 236.587 Q2159.14 236.587 2155.97 232.976 Q2152.82 229.342 2152.82 222.976 Q2152.82 216.587 2155.97 212.976 Q2159.14 209.365 2164.72 209.365 Z\" fill=\"#000000\" fill-rule=\"evenodd\" fill-opacity=\"1\" /><path clip-path=\"url(#clip960)\" d=\"M2205.23 220.268 L2205.23 235.916 L2200.97 235.916 L2200.97 220.407 Q2200.97 216.726 2199.53 214.897 Q2198.1 213.069 2195.23 213.069 Q2191.78 213.069 2189.79 215.268 Q2187.8 217.467 2187.8 221.263 L2187.8 235.916 L2183.51 235.916 L2183.51 209.99 L2187.8 209.99 L2187.8 214.018 Q2189.32 211.68 2191.38 210.522 Q2193.47 209.365 2196.18 209.365 Q2200.64 209.365 2202.94 212.143 Q2205.23 214.897 2205.23 220.268 Z\" fill=\"#000000\" fill-rule=\"evenodd\" fill-opacity=\"1\" /><circle clip-path=\"url(#clip960)\" cx=\"1497.75\" cy=\"270.476\" r=\"23\" fill=\"#e26f46\" fill-rule=\"evenodd\" fill-opacity=\"1\" stroke=\"#000000\" stroke-opacity=\"1\" stroke-width=\"5.12\"/>\n",
       "<path clip-path=\"url(#clip960)\" d=\"M1608.93 257.27 L1597.13 275.719 L1608.93 275.719 L1608.93 257.27 M1607.71 253.196 L1613.59 253.196 L1613.59 275.719 L1618.52 275.719 L1618.52 279.608 L1613.59 279.608 L1613.59 287.756 L1608.93 287.756 L1608.93 279.608 L1593.33 279.608 L1593.33 275.094 L1607.71 253.196 Z\" fill=\"#000000\" fill-rule=\"evenodd\" fill-opacity=\"1\" /><path clip-path=\"url(#clip960)\" d=\"M1636.25 256.274 Q1632.64 256.274 1630.81 259.839 Q1629 263.381 1629 270.51 Q1629 277.617 1630.81 281.182 Q1632.64 284.723 1636.25 284.723 Q1639.88 284.723 1641.69 281.182 Q1643.52 277.617 1643.52 270.51 Q1643.52 263.381 1641.69 259.839 Q1639.88 256.274 1636.25 256.274 M1636.25 252.571 Q1642.06 252.571 1645.11 257.177 Q1648.19 261.76 1648.19 270.51 Q1648.19 279.237 1645.11 283.844 Q1642.06 288.427 1636.25 288.427 Q1630.44 288.427 1627.36 283.844 Q1624.3 279.237 1624.3 270.51 Q1624.3 261.76 1627.36 257.177 Q1630.44 252.571 1636.25 252.571 Z\" fill=\"#000000\" fill-rule=\"evenodd\" fill-opacity=\"1\" /><path clip-path=\"url(#clip960)\" d=\"M1667.98 253.196 L1672.71 253.196 L1679.97 282.409 L1687.22 253.196 L1692.47 253.196 L1699.74 282.409 L1706.99 253.196 L1711.73 253.196 L1703.05 287.756 L1697.17 287.756 L1689.88 257.756 L1682.52 287.756 L1676.64 287.756 L1667.98 253.196 Z\" fill=\"#000000\" fill-rule=\"evenodd\" fill-opacity=\"1\" /><path clip-path=\"url(#clip960)\" d=\"M1726.5 274.723 Q1721.34 274.723 1719.35 275.904 Q1717.36 277.084 1717.36 279.932 Q1717.36 282.2 1718.84 283.543 Q1720.35 284.862 1722.91 284.862 Q1726.46 284.862 1728.59 282.362 Q1730.74 279.839 1730.74 275.672 L1730.74 274.723 L1726.5 274.723 M1735 272.964 L1735 287.756 L1730.74 287.756 L1730.74 283.821 Q1729.28 286.182 1727.1 287.316 Q1724.93 288.427 1721.78 288.427 Q1717.8 288.427 1715.44 286.205 Q1713.1 283.959 1713.1 280.209 Q1713.1 275.834 1716.02 273.612 Q1718.96 271.39 1724.77 271.39 L1730.74 271.39 L1730.74 270.973 Q1730.74 268.034 1728.79 266.436 Q1726.87 264.816 1723.38 264.816 Q1721.16 264.816 1719.05 265.348 Q1716.94 265.881 1715 266.946 L1715 263.01 Q1717.34 262.108 1719.53 261.668 Q1721.73 261.205 1723.82 261.205 Q1729.44 261.205 1732.22 264.122 Q1735 267.038 1735 272.964 Z\" fill=\"#000000\" fill-rule=\"evenodd\" fill-opacity=\"1\" /><path clip-path=\"url(#clip960)\" d=\"M1747.98 254.469 L1747.98 261.83 L1756.76 261.83 L1756.76 265.14 L1747.98 265.14 L1747.98 279.214 Q1747.98 282.385 1748.84 283.288 Q1749.72 284.191 1752.38 284.191 L1756.76 284.191 L1756.76 287.756 L1752.38 287.756 Q1747.45 287.756 1745.58 285.927 Q1743.7 284.075 1743.7 279.214 L1743.7 265.14 L1740.58 265.14 L1740.58 261.83 L1743.7 261.83 L1743.7 254.469 L1747.98 254.469 Z\" fill=\"#000000\" fill-rule=\"evenodd\" fill-opacity=\"1\" /><path clip-path=\"url(#clip960)\" d=\"M1766.57 254.469 L1766.57 261.83 L1775.34 261.83 L1775.34 265.14 L1766.57 265.14 L1766.57 279.214 Q1766.57 282.385 1767.43 283.288 Q1768.31 284.191 1770.97 284.191 L1775.34 284.191 L1775.34 287.756 L1770.97 287.756 Q1766.04 287.756 1764.16 285.927 Q1762.29 284.075 1762.29 279.214 L1762.29 265.14 L1759.16 265.14 L1759.16 261.83 L1762.29 261.83 L1762.29 254.469 L1766.57 254.469 Z\" fill=\"#000000\" fill-rule=\"evenodd\" fill-opacity=\"1\" /><path clip-path=\"url(#clip960)\" d=\"M1817.57 272.108 L1817.57 287.756 L1813.31 287.756 L1813.31 272.247 Q1813.31 268.566 1811.87 266.737 Q1810.44 264.909 1807.57 264.909 Q1804.12 264.909 1802.13 267.108 Q1800.14 269.307 1800.14 273.103 L1800.14 287.756 L1795.85 287.756 L1795.85 251.737 L1800.14 251.737 L1800.14 265.858 Q1801.66 263.52 1803.72 262.362 Q1805.81 261.205 1808.52 261.205 Q1812.98 261.205 1815.28 263.983 Q1817.57 266.737 1817.57 272.108 Z\" fill=\"#000000\" fill-rule=\"evenodd\" fill-opacity=\"1\" /><path clip-path=\"url(#clip960)\" d=\"M1848.24 273.728 L1848.24 275.811 L1828.65 275.811 Q1828.93 280.209 1831.29 282.524 Q1833.68 284.816 1837.91 284.816 Q1840.37 284.816 1842.66 284.214 Q1844.97 283.612 1847.24 282.409 L1847.24 286.436 Q1844.95 287.408 1842.54 287.918 Q1840.14 288.427 1837.66 288.427 Q1831.46 288.427 1827.82 284.816 Q1824.21 281.205 1824.21 275.047 Q1824.21 268.682 1827.64 264.955 Q1831.09 261.205 1836.92 261.205 Q1842.15 261.205 1845.18 264.585 Q1848.24 267.941 1848.24 273.728 M1843.98 272.478 Q1843.93 268.983 1842.01 266.899 Q1840.11 264.816 1836.96 264.816 Q1833.4 264.816 1831.25 266.83 Q1829.12 268.844 1828.79 272.501 L1843.98 272.478 Z\" fill=\"#000000\" fill-rule=\"evenodd\" fill-opacity=\"1\" /><path clip-path=\"url(#clip960)\" d=\"M1867.01 274.723 Q1861.85 274.723 1859.86 275.904 Q1857.87 277.084 1857.87 279.932 Q1857.87 282.2 1859.35 283.543 Q1860.85 284.862 1863.42 284.862 Q1866.96 284.862 1869.09 282.362 Q1871.25 279.839 1871.25 275.672 L1871.25 274.723 L1867.01 274.723 M1875.51 272.964 L1875.51 287.756 L1871.25 287.756 L1871.25 283.821 Q1869.79 286.182 1867.61 287.316 Q1865.44 288.427 1862.29 288.427 Q1858.31 288.427 1855.95 286.205 Q1853.61 283.959 1853.61 280.209 Q1853.61 275.834 1856.52 273.612 Q1859.46 271.39 1865.27 271.39 L1871.25 271.39 L1871.25 270.973 Q1871.25 268.034 1869.3 266.436 Q1867.38 264.816 1863.89 264.816 Q1861.66 264.816 1859.56 265.348 Q1857.45 265.881 1855.51 266.946 L1855.51 263.01 Q1857.84 262.108 1860.04 261.668 Q1862.24 261.205 1864.33 261.205 Q1869.95 261.205 1872.73 264.122 Q1875.51 267.038 1875.51 272.964 Z\" fill=\"#000000\" fill-rule=\"evenodd\" fill-opacity=\"1\" /><path clip-path=\"url(#clip960)\" d=\"M1888.49 254.469 L1888.49 261.83 L1897.27 261.83 L1897.27 265.14 L1888.49 265.14 L1888.49 279.214 Q1888.49 282.385 1889.35 283.288 Q1890.23 284.191 1892.89 284.191 L1897.27 284.191 L1897.27 287.756 L1892.89 287.756 Q1887.96 287.756 1886.08 285.927 Q1884.21 284.075 1884.21 279.214 L1884.21 265.14 L1881.08 265.14 L1881.08 261.83 L1884.21 261.83 L1884.21 254.469 L1888.49 254.469 Z\" fill=\"#000000\" fill-rule=\"evenodd\" fill-opacity=\"1\" /><path clip-path=\"url(#clip960)\" d=\"M1925.04 273.728 L1925.04 275.811 L1905.46 275.811 Q1905.74 280.209 1908.1 282.524 Q1910.48 284.816 1914.72 284.816 Q1917.17 284.816 1919.46 284.214 Q1921.78 283.612 1924.05 282.409 L1924.05 286.436 Q1921.76 287.408 1919.35 287.918 Q1916.94 288.427 1914.46 288.427 Q1908.26 288.427 1904.63 284.816 Q1901.02 281.205 1901.02 275.047 Q1901.02 268.682 1904.44 264.955 Q1907.89 261.205 1913.72 261.205 Q1918.96 261.205 1921.99 264.585 Q1925.04 267.941 1925.04 273.728 M1920.78 272.478 Q1920.74 268.983 1918.82 266.899 Q1916.92 264.816 1913.77 264.816 Q1910.21 264.816 1908.05 266.83 Q1905.92 268.844 1905.6 272.501 L1920.78 272.478 Z\" fill=\"#000000\" fill-rule=\"evenodd\" fill-opacity=\"1\" /><path clip-path=\"url(#clip960)\" d=\"M1947.06 265.811 Q1946.34 265.395 1945.48 265.21 Q1944.65 265.001 1943.63 265.001 Q1940.02 265.001 1938.08 267.362 Q1936.15 269.7 1936.15 274.098 L1936.15 287.756 L1931.87 287.756 L1931.87 261.83 L1936.15 261.83 L1936.15 265.858 Q1937.5 263.497 1939.65 262.362 Q1941.8 261.205 1944.88 261.205 Q1945.32 261.205 1945.85 261.274 Q1946.39 261.321 1947.03 261.436 L1947.06 265.811 Z\" fill=\"#000000\" fill-rule=\"evenodd\" fill-opacity=\"1\" /><path clip-path=\"url(#clip960)\" d=\"M1988.77 273.728 L1988.77 275.811 L1969.19 275.811 Q1969.46 280.209 1971.83 282.524 Q1974.21 284.816 1978.45 284.816 Q1980.9 284.816 1983.19 284.214 Q1985.51 283.612 1987.77 282.409 L1987.77 286.436 Q1985.48 287.408 1983.08 287.918 Q1980.67 288.427 1978.19 288.427 Q1971.99 288.427 1968.35 284.816 Q1964.74 281.205 1964.74 275.047 Q1964.74 268.682 1968.17 264.955 Q1971.62 261.205 1977.45 261.205 Q1982.68 261.205 1985.71 264.585 Q1988.77 267.941 1988.77 273.728 M1984.51 272.478 Q1984.46 268.983 1982.54 266.899 Q1980.64 264.816 1977.5 264.816 Q1973.93 264.816 1971.78 266.83 Q1969.65 268.844 1969.33 272.501 L1984.51 272.478 Z\" fill=\"#000000\" fill-rule=\"evenodd\" fill-opacity=\"1\" /><path clip-path=\"url(#clip960)\" d=\"M2016.48 261.83 L2007.1 274.446 L2016.96 287.756 L2011.94 287.756 L2004.39 277.571 L1996.85 287.756 L1991.83 287.756 L2001.89 274.191 L1992.68 261.83 L1997.7 261.83 L2004.58 271.066 L2011.45 261.83 L2016.48 261.83 Z\" fill=\"#000000\" fill-rule=\"evenodd\" fill-opacity=\"1\" /><path clip-path=\"url(#clip960)\" d=\"M2027.1 283.867 L2027.1 297.617 L2022.82 297.617 L2022.82 261.83 L2027.1 261.83 L2027.1 265.765 Q2028.45 263.45 2030.48 262.339 Q2032.54 261.205 2035.39 261.205 Q2040.11 261.205 2043.05 264.955 Q2046.01 268.705 2046.01 274.816 Q2046.01 280.927 2043.05 284.677 Q2040.11 288.427 2035.39 288.427 Q2032.54 288.427 2030.48 287.316 Q2028.45 286.182 2027.1 283.867 M2041.59 274.816 Q2041.59 270.117 2039.65 267.455 Q2037.73 264.77 2034.35 264.77 Q2030.97 264.77 2029.02 267.455 Q2027.1 270.117 2027.1 274.816 Q2027.1 279.515 2029.02 282.2 Q2030.97 284.862 2034.35 284.862 Q2037.73 284.862 2039.65 282.2 Q2041.59 279.515 2041.59 274.816 Z\" fill=\"#000000\" fill-rule=\"evenodd\" fill-opacity=\"1\" /><path clip-path=\"url(#clip960)\" d=\"M2075.25 273.728 L2075.25 275.811 L2055.67 275.811 Q2055.95 280.209 2058.31 282.524 Q2060.69 284.816 2064.93 284.816 Q2067.38 284.816 2069.67 284.214 Q2071.99 283.612 2074.26 282.409 L2074.26 286.436 Q2071.96 287.408 2069.56 287.918 Q2067.15 288.427 2064.67 288.427 Q2058.47 288.427 2054.83 284.816 Q2051.22 281.205 2051.22 275.047 Q2051.22 268.682 2054.65 264.955 Q2058.1 261.205 2063.93 261.205 Q2069.16 261.205 2072.2 264.585 Q2075.25 267.941 2075.25 273.728 M2070.99 272.478 Q2070.95 268.983 2069.02 266.899 Q2067.13 264.816 2063.98 264.816 Q2060.41 264.816 2058.26 266.83 Q2056.13 268.844 2055.81 272.501 L2070.99 272.478 Z\" fill=\"#000000\" fill-rule=\"evenodd\" fill-opacity=\"1\" /><path clip-path=\"url(#clip960)\" d=\"M2097.26 265.811 Q2096.55 265.395 2095.69 265.21 Q2094.86 265.001 2093.84 265.001 Q2090.23 265.001 2088.28 267.362 Q2086.36 269.7 2086.36 274.098 L2086.36 287.756 L2082.08 287.756 L2082.08 261.83 L2086.36 261.83 L2086.36 265.858 Q2087.7 263.497 2089.86 262.362 Q2092.01 261.205 2095.09 261.205 Q2095.53 261.205 2096.06 261.274 Q2096.59 261.321 2097.24 261.436 L2097.26 265.811 Z\" fill=\"#000000\" fill-rule=\"evenodd\" fill-opacity=\"1\" /><path clip-path=\"url(#clip960)\" d=\"M2101.73 261.83 L2105.99 261.83 L2105.99 287.756 L2101.73 287.756 L2101.73 261.83 M2101.73 251.737 L2105.99 251.737 L2105.99 257.131 L2101.73 257.131 L2101.73 251.737 Z\" fill=\"#000000\" fill-rule=\"evenodd\" fill-opacity=\"1\" /><path clip-path=\"url(#clip960)\" d=\"M2135.09 266.807 Q2136.69 263.936 2138.91 262.571 Q2141.13 261.205 2144.14 261.205 Q2148.19 261.205 2150.39 264.052 Q2152.59 266.876 2152.59 272.108 L2152.59 287.756 L2148.31 287.756 L2148.31 272.247 Q2148.31 268.52 2146.99 266.714 Q2145.67 264.909 2142.96 264.909 Q2139.65 264.909 2137.73 267.108 Q2135.81 269.307 2135.81 273.103 L2135.81 287.756 L2131.52 287.756 L2131.52 272.247 Q2131.52 268.497 2130.2 266.714 Q2128.88 264.909 2126.13 264.909 Q2122.87 264.909 2120.94 267.131 Q2119.02 269.33 2119.02 273.103 L2119.02 287.756 L2114.74 287.756 L2114.74 261.83 L2119.02 261.83 L2119.02 265.858 Q2120.48 263.473 2122.52 262.339 Q2124.56 261.205 2127.36 261.205 Q2130.18 261.205 2132.15 262.64 Q2134.14 264.075 2135.09 266.807 Z\" fill=\"#000000\" fill-rule=\"evenodd\" fill-opacity=\"1\" /><path clip-path=\"url(#clip960)\" d=\"M2183.26 273.728 L2183.26 275.811 L2163.68 275.811 Q2163.95 280.209 2166.31 282.524 Q2168.7 284.816 2172.94 284.816 Q2175.39 284.816 2177.68 284.214 Q2180 283.612 2182.26 282.409 L2182.26 286.436 Q2179.97 287.408 2177.56 287.918 Q2175.16 288.427 2172.68 288.427 Q2166.48 288.427 2162.84 284.816 Q2159.23 281.205 2159.23 275.047 Q2159.23 268.682 2162.66 264.955 Q2166.11 261.205 2171.94 261.205 Q2177.17 261.205 2180.2 264.585 Q2183.26 267.941 2183.26 273.728 M2179 272.478 Q2178.95 268.983 2177.03 266.899 Q2175.13 264.816 2171.99 264.816 Q2168.42 264.816 2166.27 266.83 Q2164.14 268.844 2163.81 272.501 L2179 272.478 Z\" fill=\"#000000\" fill-rule=\"evenodd\" fill-opacity=\"1\" /><path clip-path=\"url(#clip960)\" d=\"M2211.8 272.108 L2211.8 287.756 L2207.54 287.756 L2207.54 272.247 Q2207.54 268.566 2206.11 266.737 Q2204.67 264.909 2201.8 264.909 Q2198.35 264.909 2196.36 267.108 Q2194.37 269.307 2194.37 273.103 L2194.37 287.756 L2190.09 287.756 L2190.09 261.83 L2194.37 261.83 L2194.37 265.858 Q2195.9 263.52 2197.96 262.362 Q2200.04 261.205 2202.75 261.205 Q2207.22 261.205 2209.51 263.983 Q2211.8 266.737 2211.8 272.108 Z\" fill=\"#000000\" fill-rule=\"evenodd\" fill-opacity=\"1\" /><path clip-path=\"url(#clip960)\" d=\"M2224.51 254.469 L2224.51 261.83 L2233.28 261.83 L2233.28 265.14 L2224.51 265.14 L2224.51 279.214 Q2224.51 282.385 2225.37 283.288 Q2226.25 284.191 2228.91 284.191 L2233.28 284.191 L2233.28 287.756 L2228.91 287.756 Q2223.98 287.756 2222.1 285.927 Q2220.23 284.075 2220.23 279.214 L2220.23 265.14 L2217.1 265.14 L2217.1 261.83 L2220.23 261.83 L2220.23 254.469 L2224.51 254.469 Z\" fill=\"#000000\" fill-rule=\"evenodd\" fill-opacity=\"1\" /></svg>\n"
      ]
     },
     "execution_count": 33,
     "metadata": {},
     "output_type": "execute_result"
    }
   ],
   "source": [
    "# i1 = 4 #RTD number\n",
    "# i2 = 1 #RTD number\n",
    "# plot(thist, power ./ (ghist[i1] .-ghist[i2]),label=string(\"40 Watt heater simulation\"),linewidth=2,ylim=(0,15))\n",
    "# # plot(thist_DT1_H3000_Film3_F1_Nu436_plated_2, power ./ (ghist_conserve_DT1_H3000_Film3_F1_Nu436_plated_2[i1] .-ghist_conserve_DT1_H3000_Film3_F1_Nu436_plated_2[i2]),label=string(\"40 Watt heater simulation\"),linewidth=2,ylim=(0,15))\n",
    "# # plot(thist_conserve_DT1_H3000_Film3_F1_Nu436_plated_2,ghist_conserve_DT1_H3000_Film3_F1_Nu436_plated_2[i1] .-ghist_conserve_DT1_H3000_Film3_F1_Nu436_plated_2[i2],label=string(\"RTD\", i,\" flim δ=30 μm, ΔT=1.0 [K], Hc = 3000 [W/K], plate d = 2 [mm]\"),linewidth=2)\n",
    "# # plot!(thist_conserve_DT2_H4000_Film3_F1_Nu436_plated_15,ghist_conserve_DT2_H4000_Film3_F1_Nu436_plated_15[i] .-Tᵥ,label=string(\"RTD\", i,\" flim δ=30 μm, ΔT=2.0 [K], Hc = 4000 [W/K], plate d = 1.5 [mm]\"),linewidth=2)\n",
    "# # plot!(thist_Conserve_H2250_D1_TH1,ghist_Conserve_H2250_D1_TH1[i1] .-ghist_Conserve_H2250_D1_TH1[i2],label=string(\"RTD\", i,\" flim δ=10 μm, ΔT=1.0 [K], Hc = 2250 [W/K], plate d = 1.5 [mm]\"),linewidth=2)\n",
    "# scatter!(RTDt .- RTDt[1],power ./(RTD[:,i1] .- RTD[:,i2]), label=string(\"40 Watt heater experiment\"),legend=:topright,xlim=(thist[1],thist[end]),title=\"thermal conductance \",xlabel=\"time [s]\",ylabel=\"P/(T₄-T₈) [W/K]\")"
   ]
  },
  {
   "cell_type": "code",
   "execution_count": null,
   "metadata": {},
   "outputs": [],
   "source": [
    "# savefig(\"thermal_conductance.pdf\")"
   ]
  },
  {
   "cell_type": "code",
   "execution_count": null,
   "metadata": {},
   "outputs": [],
   "source": []
  },
  {
   "cell_type": "markdown",
   "metadata": {},
   "source": [
    "## Plot temperature curves"
   ]
  },
  {
   "cell_type": "code",
   "execution_count": null,
   "metadata": {},
   "outputs": [],
   "source": [
    "i = 1 #RTD number\n",
    "\n",
    "plot(thist,ghist[i] .-Tᵥ,label=string(\"RTD\", i,\" simulation\"),linewidth=2)\n",
    "# plot(thist_conserve_DT1_H3000_Film3_F1_Nu436_plated_2,ghist_conserve_DT1_H3000_Film3_F1_Nu436_plated_2[i] .-Tᵥ,label=string(\"RTD\", i,\" flim δ=30 μm, ΔT=1.0 [K], Hc = 3000 [W/K], plate d = 2 [mm]\"),linewidth=2)\n",
    "# plot!(thist_conserve_DT2_H4000_Film3_F1_Nu436_plated_15,ghist_conserve_DT2_H4000_Film3_F1_Nu436_plated_15[i] .-Tᵥ,label=string(\"RTD\", i,\" flim δ=30 μm, ΔT=2.0 [K], Hc = 4000 [W/K], plate d = 1.5 [mm]\"),linewidth=2)\n",
    "# plot!(thist_Conserve_H2250_D1_TH1,ghist_Conserve_H2250_D1_TH1[i] .-Tᵥ,label=string(\"RTD\", i,\" flim δ=10 μm, ΔT=1.0 [K], Hc = 2250 [W/K], plate d = 1.5 [mm]\"),linewidth=2)\n",
    "scatter!(RTDt .- RTDt[1],RTD[:,i] .- RTD[1,i], label=string(\"RTD\", i,\" experiment\"),xlim=(0.0,50.0))\n",
    "\n",
    "i = 4 #RTD number\n",
    "\n",
    "plot!(thist,ghist[i] .-Tᵥ,label=string(\"RTD\", i,\" simulation\"),linewidth=2)\n",
    "# plot(thist_conserve_DT1_H3000_Film3_F1_Nu436_plated_2,ghist_conserve_DT1_H3000_Film3_F1_Nu436_plated_2[i] .-Tᵥ,label=string(\"RTD\", i,\" flim δ=30 μm, ΔT=1.0 [K], Hc = 3000 [W/K], plate d = 2 [mm]\"),linewidth=2)\n",
    "# plot!(thist_conserve_DT2_H4000_Film3_F1_Nu436_plated_15,ghist_conserve_DT2_H4000_Film3_F1_Nu436_plated_15[i] .-Tᵥ,label=string(\"RTD\", i,\" flim δ=30 μm, ΔT=2.0 [K], Hc = 4000 [W/K], plate d = 1.5 [mm]\"),linewidth=2)\n",
    "# plot!(thist_Conserve_H2250_D1_TH1,ghist_Conserve_H2250_D1_TH1[i] .-Tᵥ,label=string(\"RTD\", i,\" flim δ=10 μm, ΔT=1.0 [K], Hc = 2250 [W/K], plate d = 1.5 [mm]\"),linewidth=2)\n",
    "scatter!(RTDt .- RTDt[1],RTD[:,i] .- RTD[1,i], label=string(\"RTD\", i,\" experiment\"),xlim=(0.0,50.0))\n",
    "\n",
    "i = 8 #RTD number\n",
    "plot!(thist,ghist[i] .-Tᵥ,label=string(\"RTD\", i,\" simulation\"),linewidth=2)\n",
    "# plot!(thist_conserve_DT1_H3000_Film3_F1_Nu436_plated_2,ghist_conserve_DT1_H3000_Film3_F1_Nu436_plated_2[i] .-Tᵥ,label=string(\"RTD\", i,\" flim δ=30 μm, ΔT=1.0 [K], Hc = 3000 [W/K], plate d = 2 [mm]\"),linewidth=2)\n",
    "# plot!(thist_conserve_DT2_H4000_Film3_F1_Nu436_plated_15,ghist_conserve_DT2_H4000_Film3_F1_Nu436_plated_15[i] .-Tᵥ,label=string(\"RTD\", i,\" flim δ=30 μm, ΔT=2.0 [K], Hc = 4000 [W/K], plate d = 1.5 [mm]\"),linewidth=2)\n",
    "# plot!(thist_Conserve_H2250_D1_TH1,ghist_Conserve_H2250_D1_TH1[i] .-Tᵥ,label=string(\"RTD\", i,\" flim δ=10 μm, ΔT=1.0 [K], Hc = 2250 [W/K], plate d = 1.5 [mm]\"),linewidth=2)\n",
    "scatter!(RTDt .- RTDt[1],RTD[:,i] .- RTD[1,i],legend=:topleft, label=string(\"RTD\", i,\" experiment\"),title= \"40W, hc = (300,3000), superheat = 1.8K\",xlim=(0.0,400.0),xlabel=\"time[s]\",ylabel=\"T-T0[K]\")"
   ]
  },
  {
   "cell_type": "code",
   "execution_count": null,
   "metadata": {},
   "outputs": [],
   "source": [
    "savefig(\"Tempcurves.svg\")"
   ]
  },
  {
   "cell_type": "markdown",
   "metadata": {},
   "source": [
    "## ~heat ressistance curves"
   ]
  },
  {
   "cell_type": "code",
   "execution_count": null,
   "metadata": {},
   "outputs": [],
   "source": [
    "power = 40"
   ]
  },
  {
   "cell_type": "code",
   "execution_count": null,
   "metadata": {},
   "outputs": [],
   "source": [
    "i1 = 4 #RTD number\n",
    "i2 = 8 #RTD number\n",
    "plot(thist, power ./ (ghist[i1] .-ghist[i2]),label=string(\"40 Watt heater simulation\"),linewidth=2,ylim=(0,15))\n",
    "# plot(thist_DT1_H3000_Film3_F1_Nu436_plated_2, power ./ (ghist_conserve_DT1_H3000_Film3_F1_Nu436_plated_2[i1] .-ghist_conserve_DT1_H3000_Film3_F1_Nu436_plated_2[i2]),label=string(\"40 Watt heater simulation\"),linewidth=2,ylim=(0,15))\n",
    "# plot(thist_conserve_DT1_H3000_Film3_F1_Nu436_plated_2,ghist_conserve_DT1_H3000_Film3_F1_Nu436_plated_2[i1] .-ghist_conserve_DT1_H3000_Film3_F1_Nu436_plated_2[i2],label=string(\"RTD\", i,\" flim δ=30 μm, ΔT=1.0 [K], Hc = 3000 [W/K], plate d = 2 [mm]\"),linewidth=2)\n",
    "# plot!(thist_conserve_DT2_H4000_Film3_F1_Nu436_plated_15,ghist_conserve_DT2_H4000_Film3_F1_Nu436_plated_15[i] .-Tᵥ,label=string(\"RTD\", i,\" flim δ=30 μm, ΔT=2.0 [K], Hc = 4000 [W/K], plate d = 1.5 [mm]\"),linewidth=2)\n",
    "# plot!(thist_Conserve_H2250_D1_TH1,ghist_Conserve_H2250_D1_TH1[i1] .-ghist_Conserve_H2250_D1_TH1[i2],label=string(\"RTD\", i,\" flim δ=10 μm, ΔT=1.0 [K], Hc = 2250 [W/K], plate d = 1.5 [mm]\"),linewidth=2)\n",
    "scatter!(RTDt .- RTDt[1],power ./(RTD[:,i1] .- RTD[:,i2]), label=string(\"40 Watt heater experiment\"),legend=:topright,xlim=(0.0,400.0),title=\"thermal conductance \",xlabel=\"time [s]\",ylabel=\"P/(T₄-T₁) [W/K]\")"
   ]
  },
  {
   "cell_type": "markdown",
   "metadata": {},
   "source": [
    "## film δ distribution"
   ]
  },
  {
   "cell_type": "code",
   "execution_count": null,
   "metadata": {},
   "outputs": [],
   "source": [
    "addindex = 50:1:300\n",
    "δArray = []\n",
    "for i in addindex\n",
    "δArray = [δArray;sysfinal[i].vapor.δ]\n",
    "end"
   ]
  },
  {
   "cell_type": "code",
   "execution_count": null,
   "metadata": {},
   "outputs": [],
   "source": [
    "histogram(δArray,bins=2.0e-5:0.25e-6:3.0e-5,title=\"sum of δ from 50[s] : 1[s] : 100[s]\",legend=false,xlabel=\"δ [m]\",ylabel=\"N of vapor\") "
   ]
  },
  {
   "cell_type": "code",
   "execution_count": null,
   "metadata": {},
   "outputs": [],
   "source": [
    "savefig(\"sum_film_thickness.svg\")"
   ]
  },
  {
   "cell_type": "code",
   "execution_count": null,
   "metadata": {},
   "outputs": [],
   "source": [
    "sysfinal[end].vapor.δ"
   ]
  },
  {
   "cell_type": "code",
   "execution_count": null,
   "metadata": {},
   "outputs": [],
   "source": [
    "l = @layout [a b ; c d]\n",
    "pltindex=[5,25,100,300]\n",
    "p1 = histogram(sysfinal[pltindex[1]].vapor.δ,bins=2.5e-5:0.25e-6:3.5e-5,ylim=(0,20),title=string(\"t=\",round(tube_hist[pltindex[1]].t, digits=2), \"[s]\")) \n",
    "p2 = histogram(sysfinal[pltindex[2]].vapor.δ,bins=2.5e-5:0.25e-6:3.5e-5,ylim=(0,20),title=string(\"t=\",round(tube_hist[pltindex[2]].t, digits=2), \"[s]\")) \n",
    "p3 = histogram(sysfinal[pltindex[3]].vapor.δ,bins=2.5e-5:0.25e-6:3.5e-5,ylim=(0,20),title=string(\"t=\",round(tube_hist[pltindex[3]].t, digits=2), \"[s]\")) \n",
    "p4 = histogram(sysfinal[pltindex[4]].vapor.δ,bins=2.5e-5:0.25e-6:3.5e-5,ylim=(0,20),title=string(\"t=\",round(tube_hist[pltindex[4]].t, digits=2), \"[s]\")) \n",
    "plot(p1, p2, p3, p4, layout = l,titlefontsize=10,labelfontsize=10,xticks=2.5e-5:0.5e-5:3.5e-5,legend=false,xlabel=\"δ [m]\",ylabel=\"N of vapor\",plot_title=\"film thickness histogram\")"
   ]
  },
  {
   "cell_type": "code",
   "execution_count": null,
   "metadata": {},
   "outputs": [],
   "source": [
    "savefig(\"film_histogram.pdf\")"
   ]
  },
  {
   "cell_type": "markdown",
   "metadata": {},
   "source": [
    "## dXdt distribution"
   ]
  },
  {
   "cell_type": "code",
   "execution_count": null,
   "metadata": {},
   "outputs": [],
   "source": [
    "V = [elem[2] for elem in sysfinal[end-5].liquid.dXdt]\n",
    "Vavg = sum(abs.(V))/length(V)"
   ]
  },
  {
   "cell_type": "code",
   "execution_count": null,
   "metadata": {},
   "outputs": [],
   "source": [
    "addindex = 50:1:100\n",
    "VArray = []\n",
    "for i in addindex\n",
    "VArray = [VArray;[elem[2] for elem in sysfinal[i].liquid.dXdt]]\n",
    "end"
   ]
  },
  {
   "cell_type": "code",
   "execution_count": null,
   "metadata": {},
   "outputs": [],
   "source": [
    "density  = fitdensity(VArray,step=0.1,norm=1)"
   ]
  },
  {
   "cell_type": "code",
   "execution_count": null,
   "metadata": {},
   "outputs": [],
   "source": [
    "plot(density.x,density.d)"
   ]
  },
  {
   "cell_type": "code",
   "execution_count": null,
   "metadata": {},
   "outputs": [],
   "source": [
    "histogram(VArray,title=\"sum of interface V from 50[s] : 1[s] : 100[s]\",legend=false,xlabel=\"dXdt [m/s]\",ylabel=\"N of liquid\") "
   ]
  },
  {
   "cell_type": "code",
   "execution_count": null,
   "metadata": {},
   "outputs": [],
   "source": [
    "savefig(\"sum_interface_V.svg\")"
   ]
  },
  {
   "cell_type": "code",
   "execution_count": null,
   "metadata": {},
   "outputs": [],
   "source": [
    "([elem[1] for elem in sysfinal[pltindex[1]].liquid.dXdt]-[elem[2] for elem in sysfinal[pltindex[1]].liquid.dXdt])./[elem[1] for elem in sysfinal[pltindex[1]].liquid.dXdt]"
   ]
  },
  {
   "cell_type": "code",
   "execution_count": null,
   "metadata": {},
   "outputs": [],
   "source": [
    "l = @layout [a b ; c d]\n",
    "pltindex=[5,25,100,300]\n",
    "p1 = histogram([elem[1] for elem in sysfinal[pltindex[1]].liquid.dXdt],bins=-2:0.1:2,ylim=(0,20),title=string(round(tube_hist[pltindex[1]].t, digits=2), \"[s]\")) \n",
    "p2 = histogram([elem[1] for elem in sysfinal[pltindex[2]].liquid.dXdt],bins=-2:0.1:2,ylim=(0,20),title=string(round(tube_hist[pltindex[2]].t, digits=2), \"[s]\")) \n",
    "p3 = histogram([elem[1] for elem in sysfinal[pltindex[3]].liquid.dXdt],bins=-2:0.1:2,ylim=(0,20),title=string(round(tube_hist[pltindex[3]].t, digits=2), \"[s]\")) \n",
    "p4 = histogram([elem[1] for elem in sysfinal[pltindex[4]].liquid.dXdt],bins=-2:0.1:2,ylim=(0,20),title=string(round(tube_hist[pltindex[4]].t, digits=2), \"[s]\")) \n",
    "plot(p1, p2, p3, p4, layout = l,titlefontsize=10,labelfontsize=10,legend=false,xlabel=\"dXdt [m/s]\",ylabel=\"N of liquid\",plot_title=\"liquid slug velocity histogram\")"
   ]
  },
  {
   "cell_type": "code",
   "execution_count": null,
   "metadata": {},
   "outputs": [],
   "source": [
    "savefig(\"bulkV_histogram.pdf\")"
   ]
  },
  {
   "cell_type": "markdown",
   "metadata": {},
   "source": [
    "## correlated film δ"
   ]
  },
  {
   "cell_type": "code",
   "execution_count": null,
   "metadata": {},
   "outputs": [],
   "source": [
    "l = @layout [a b ; c d]\n",
    "pltindex=[5,15,25,590]\n",
    "p1 = histogram(filmδcorr(getCa(μₗ,σ,[elem[2] for elem in sysfinal[pltindex[1]].liquid.dXdt]),sysfinal[1].tube.d),bins=0e-5:2e-6:3e-5,ylim=(0,20),title=string(\"t=\",round(tube_hist[pltindex[1]].t, digits=2), \"[s]\")) \n",
    "p2 = histogram(filmδcorr(getCa(μₗ,σ,[elem[2] for elem in sysfinal[pltindex[2]].liquid.dXdt]),sysfinal[1].tube.d),bins=0e-5:2e-6:3e-5,ylim=(0,20),title=string(\"t=\",round(tube_hist[pltindex[2]].t, digits=2), \"[s]\")) \n",
    "p3 = histogram(filmδcorr(getCa(μₗ,σ,[elem[2] for elem in sysfinal[pltindex[3]].liquid.dXdt]),sysfinal[1].tube.d),bins=0e-5:2e-6:3e-5,ylim=(0,20),title=string(\"t=\",round(tube_hist[pltindex[3]].t, digits=2), \"[s]\")) \n",
    "p4 = histogram(filmδcorr(getCa(μₗ,σ,[elem[2] for elem in sysfinal[pltindex[4]].liquid.dXdt]),sysfinal[1].tube.d),bins=0e-5:2e-6:3e-5,ylim=(0,20),title=string(\"t=\",round(tube_hist[pltindex[4]].t, digits=2), \"[s]\")) \n",
    "plot(p1, p2, p3, p4, layout = l,titlefontsize=10,labelfontsize=10,xticks=1e-5:2e-5:5e-5,legend=false,xlabel=\"δ [m]\",ylabel=\"N of vapor\",plot_title=\"film thickness histogram from Ca correlarion\")"
   ]
  },
  {
   "cell_type": "markdown",
   "metadata": {},
   "source": [
    "## OHP animation"
   ]
  },
  {
   "cell_type": "code",
   "execution_count": null,
   "metadata": {},
   "outputs": [],
   "source": [
    "ρ = 2700;\n",
    "c = 8.97e02;\n",
    "k = 1.67e02;\n",
    "d = 2e-3;\n",
    "params = HeatConductionParameters(ρ,c,k,thickness=d)"
   ]
  },
  {
   "cell_type": "code",
   "execution_count": null,
   "metadata": {},
   "outputs": [],
   "source": [
    "Δx = cellsize(sys)\n",
    "ds = 1.5Δx\n",
    "nturn = 16\n",
    "#pitch = 0.125\n",
    "length_ohp = 44.25*1e-3\n",
    "height = 133.83*1e-3\n",
    "gap = d\n",
    "pitch = length_ohp/(2*nturn+1)\n",
    "x0, y0 = height/2, length_ohp/2\n",
    "x, y, xf, yf = ComputationalHeatTransfer.construct_ohp_curve(nturn,pitch,height,gap,ds,x0,y0,false,false,3pi/2)\n",
    "ohp = BasicBody(x,y)"
   ]
  },
  {
   "cell_type": "code",
   "execution_count": null,
   "metadata": {},
   "outputs": [],
   "source": [
    "sys.points"
   ]
  },
  {
   "cell_type": "code",
   "execution_count": null,
   "metadata": {},
   "outputs": [],
   "source": [
    "@gif for i=1:1:length(sysfinal)\n",
    "    Htmp = sys_to_Harray(sysfinal[i])\n",
    "    plot(ohp,fillalpha=0,linecolor=cgrad([:gold, :blue],rev=true),line_z=Htmp,xlabel=\"x \",ylabel=\"y \",border=:none,axis=nothing,title=string(\"time = \", round(plate_hist[i].t, digits=2), \"[s] \\n\",  \"T[K]\"))\n",
    "end"
   ]
  },
  {
   "cell_type": "markdown",
   "metadata": {},
   "source": [
    "## OHP film thickness correlation"
   ]
  },
  {
   "cell_type": "code",
   "execution_count": null,
   "metadata": {},
   "outputs": [],
   "source": [
    "integrator_tube.p.vapor.δ"
   ]
  },
  {
   "cell_type": "code",
   "execution_count": null,
   "metadata": {},
   "outputs": [],
   "source": [
    "\n",
    "velocity_avg = zeros(length(sysfinal))\n",
    "velocity_max = zeros(length(sysfinal))\n",
    "\n",
    "for i = 1:length(sysfinal)\n",
    "    tmp = 0\n",
    "    for j = length(sysfinal[i].liquid.dXdt)\n",
    "        tmp += abs(sysfinal[i].liquid.dXdt[j][1])\n",
    "    \n",
    "        velocity_avg[i] = tmp/j\n",
    "    end\n",
    "    \n",
    "    velocity_max[i] = maximum(abs.(sysfinal[i].liquid.dXdt[:][1]))\n",
    "end\n",
    "\n"
   ]
  },
  {
   "cell_type": "code",
   "execution_count": null,
   "metadata": {},
   "outputs": [],
   "source": [
    "μₗ"
   ]
  },
  {
   "cell_type": "code",
   "execution_count": null,
   "metadata": {},
   "outputs": [],
   "source": [
    "Ca = velocity_max .* μₗ ./σ"
   ]
  },
  {
   "cell_type": "code",
   "execution_count": null,
   "metadata": {},
   "outputs": [],
   "source": [
    "plot(thist,velocity_avg,label=\"v avg\")\n",
    "plot!(thist,velocity_max,label=\"v max\",xlabel=\"t [s]\", ylabel=\"v [m/s]\")"
   ]
  },
  {
   "cell_type": "code",
   "execution_count": null,
   "metadata": {},
   "outputs": [],
   "source": [
    "d_tube = sysfinal[end].tube.d"
   ]
  },
  {
   "cell_type": "markdown",
   "metadata": {},
   "source": [
    "### Range of Re\n",
    "### $Re = \\frac{\\rho_{\\mathrm{l}} v d}{\\mu_{\\mathrm{l}}}$\n",
    "\n"
   ]
  },
  {
   "cell_type": "code",
   "execution_count": null,
   "metadata": {},
   "outputs": [],
   "source": [
    "Re_avg = d_tube*ρₗ .* velocity_avg / μₗ\n",
    "Re_max = d_tube*ρₗ .* velocity_max / μₗ;"
   ]
  },
  {
   "cell_type": "code",
   "execution_count": null,
   "metadata": {},
   "outputs": [],
   "source": [
    "plot(thist,Re_avg,label=\"v avg\")\n",
    "plot!(thist,Re_max,label=\"v max\",xlabel=\"t [s]\", ylabel=\"Re\")"
   ]
  },
  {
   "cell_type": "code",
   "execution_count": null,
   "metadata": {},
   "outputs": [],
   "source": [
    "integrator_tube.p.vapor.δ"
   ]
  },
  {
   "cell_type": "code",
   "execution_count": null,
   "metadata": {},
   "outputs": [],
   "source": [
    "δ_corr = integrator_tube.p.tube.d * (0.67 .* Ca.^(2/3)) ./ ( 1 .+ 3.35 .* Ca.^(2/3))"
   ]
  },
  {
   "cell_type": "code",
   "execution_count": null,
   "metadata": {},
   "outputs": [],
   "source": [
    "δ_corr = integrator_tube.p.tube.d * (0.67 .* Ca2.^(2/3)) ./ ( 1 .+ 3.35 .* Ca2.^(2/3))"
   ]
  },
  {
   "cell_type": "code",
   "execution_count": null,
   "metadata": {},
   "outputs": [],
   "source": [
    "U = 0.4 #m/s\n",
    "\n",
    "Ca2 = U .* μₗ ./σ"
   ]
  },
  {
   "cell_type": "code",
   "execution_count": null,
   "metadata": {},
   "outputs": [],
   "source": [
    "tube_d = 1e-3"
   ]
  },
  {
   "cell_type": "code",
   "execution_count": null,
   "metadata": {},
   "outputs": [],
   "source": [
    "Ca_star1 = (μₗ^2/(σ * ρₗ * tube_d/2))^(3/4)"
   ]
  },
  {
   "cell_type": "code",
   "execution_count": null,
   "metadata": {},
   "outputs": [],
   "source": [
    "Ca_star2 = (μₗ^2/(σ * ρₗ * tube_d/2))^(1/2)"
   ]
  },
  {
   "cell_type": "code",
   "execution_count": null,
   "metadata": {},
   "outputs": [],
   "source": [
    "sysfinal[1].wall.ΔTthres"
   ]
  },
  {
   "cell_type": "code",
   "execution_count": null,
   "metadata": {},
   "outputs": [],
   "source": [
    "sysfinal[1].vapor.δ"
   ]
  },
  {
   "cell_type": "code",
   "execution_count": null,
   "metadata": {},
   "outputs": [],
   "source": [
    "l = @layout [a b ; c d]\n",
    "pltindex=[5,15,25,100]\n",
    "p1 = histogram(filmδcorr(getCa(μₗ,σ,[elem[2] for elem in sysfinal[pltindex[1]].liquid.dXdt]),sysfinal[1].tube.d),bins=0e-5:2e-6:5e-5,ylim=(0,20),title=string(\"t=\",round(plate_hist[pltindex[1]].t, digits=2), \"[s]\")) \n",
    "p2 = histogram(filmδcorr(getCa(μₗ,σ,[elem[2] for elem in sysfinal[pltindex[2]].liquid.dXdt]),sysfinal[1].tube.d),bins=0e-5:2e-6:5e-5,ylim=(0,20),title=string(\"t=\",round(plate_hist[pltindex[2]].t, digits=2), \"[s]\")) \n",
    "p3 = histogram(filmδcorr(getCa(μₗ,σ,[elem[2] for elem in sysfinal[pltindex[3]].liquid.dXdt]),sysfinal[1].tube.d),bins=0e-5:2e-6:5e-5,ylim=(0,20),title=string(\"t=\",round(plate_hist[pltindex[3]].t, digits=2), \"[s]\")) \n",
    "p4 = histogram(filmδcorr(getCa(μₗ,σ,[elem[2] for elem in sysfinal[pltindex[4]].liquid.dXdt]),sysfinal[1].tube.d),bins=0e-5:2e-6:5e-5,ylim=(0,20),title=string(\"t=\",round(plate_hist[pltindex[4]].t, digits=2), \"[s]\")) \n",
    "plot(p1, p2, p3, p4, layout = l,titlefontsize=10,labelfontsize=10,xticks=1e-5:2e-5:5e-5,legend=false,xlabel=\"δ [m]\",ylabel=\"N of vapor\",plot_title=\"film thickness histogram\")"
   ]
  },
  {
   "cell_type": "code",
   "execution_count": null,
   "metadata": {},
   "outputs": [],
   "source": []
  },
  {
   "cell_type": "code",
   "execution_count": null,
   "metadata": {},
   "outputs": [],
   "source": [
    "i = 100\n",
    "velocity = \n",
    "Ca = \n",
    "\n",
    "plot(δfilm)"
   ]
  },
  {
   "cell_type": "code",
   "execution_count": null,
   "metadata": {},
   "outputs": [],
   "source": [
    "velocity = [elem[1] for i =1:]getCa(μ,σ,velocity)"
   ]
  },
  {
   "cell_type": "code",
   "execution_count": null,
   "metadata": {},
   "outputs": [],
   "source": [
    "ρₗ-ρᵥ"
   ]
  },
  {
   "cell_type": "code",
   "execution_count": null,
   "metadata": {},
   "outputs": [],
   "source": [
    "bo = (ρₗ-ρᵥ).*9.8*(1e-3)^2/σ"
   ]
  },
  {
   "cell_type": "code",
   "execution_count": null,
   "metadata": {},
   "outputs": [],
   "source": [
    "μₗ.*1.0/σ"
   ]
  },
  {
   "cell_type": "code",
   "execution_count": null,
   "metadata": {},
   "outputs": [],
   "source": [
    "function getCa(μ,σ,velocity)\n",
    "    Ca = abs.(μ.*velocity./σ)\n",
    "end\n",
    "\n",
    "function filmδcorr(Ca,d)\n",
    "    filmδ = d .* 0.67.*Ca.^(2/3)./(1 .+ 3.35.*Ca.^(2/3))\n",
    "end"
   ]
  },
  {
   "cell_type": "markdown",
   "metadata": {},
   "source": [
    "## Film thickness graphs"
   ]
  },
  {
   "cell_type": "code",
   "execution_count": null,
   "metadata": {},
   "outputs": [],
   "source": [
    "@gif for i=length(sysfinal):length(sysfinal)\n",
    "    plot(sysfinal[i].vapor.δ,xlabel=\"vapor label\",ylabel=\"film thickness [m]\", label = \"δ\",ylim=(5e-6,1.5e-5))\n",
    "end"
   ]
  },
  {
   "cell_type": "markdown",
   "metadata": {},
   "source": [
    "## boiling graph"
   ]
  },
  {
   "cell_type": "code",
   "execution_count": null,
   "metadata": {},
   "outputs": [],
   "source": [
    "boil_data = load(\"OHP1_40W.jld2\",\"boil_data\");"
   ]
  },
  {
   "cell_type": "code",
   "execution_count": null,
   "metadata": {},
   "outputs": [],
   "source": [
    "Xstations = sysfinal[end].wall.Xstations;"
   ]
  },
  {
   "cell_type": "code",
   "execution_count": null,
   "metadata": {},
   "outputs": [],
   "source": [
    "tend = boil_data[end,2]\n",
    "boil_dt = 0.1;"
   ]
  },
  {
   "cell_type": "code",
   "execution_count": null,
   "metadata": {},
   "outputs": [],
   "source": [
    "using SparseArrays "
   ]
  },
  {
   "cell_type": "code",
   "execution_count": null,
   "metadata": {},
   "outputs": [],
   "source": [
    "boil_matrix=spzeros(size(Xstations,1),Int64(round(tend/boil_dt)));\n",
    "for tnum = 1:size(boil_matrix,2)\n",
    "     boil_index = findall(x->Int64(round(x/boil_dt))==tnum,boil_data[:,2])\n",
    "\n",
    "    if length(boil_index) != 0\n",
    "        i_station_temp = Int64.(boil_data[boil_index,1])\n",
    "        for i in i_station_temp\n",
    "            boil_matrix[i,tnum] = 1\n",
    "        end\n",
    "    end\n",
    "end\n"
   ]
  },
  {
   "cell_type": "code",
   "execution_count": null,
   "metadata": {},
   "outputs": [],
   "source": [
    "boil_num_t = sum(boil_matrix, dims=1)'\n",
    "boil_num_x = sum(boil_matrix, dims=2);"
   ]
  },
  {
   "cell_type": "code",
   "execution_count": null,
   "metadata": {},
   "outputs": [],
   "source": [
    "using EasyFit\n",
    "\n",
    "m10 = movavg(vec(boil_num_t),10)\n"
   ]
  },
  {
   "cell_type": "code",
   "execution_count": null,
   "metadata": {},
   "outputs": [],
   "source": [
    "m10.R"
   ]
  },
  {
   "cell_type": "code",
   "execution_count": null,
   "metadata": {},
   "outputs": [],
   "source": [
    "plot(0.1:0.1:300.0,m10.x,xlabel=\"t\",ylabel=\"N\",title=\"number of active boiling sites (moving averaged)\",legend=false)"
   ]
  },
  {
   "cell_type": "code",
   "execution_count": null,
   "metadata": {},
   "outputs": [],
   "source": [
    "savefig(\"boiling frequency.pdf\")"
   ]
  },
  {
   "cell_type": "code",
   "execution_count": null,
   "metadata": {},
   "outputs": [],
   "source": [
    "boiling"
   ]
  },
  {
   "cell_type": "code",
   "execution_count": null,
   "metadata": {},
   "outputs": [],
   "source": [
    "num_boiling = zeros(size(Xstations))\n",
    "for i = 1:size(boil_data,1)\n",
    "    num_boiling[Int64(sorted_boil_hist[i,1])] += 1\n",
    "end\n",
    "freq_boiling = num_boiling/tend;"
   ]
  },
  {
   "cell_type": "code",
   "execution_count": null,
   "metadata": {},
   "outputs": [],
   "source": [
    "sorted_boil_hist = boil_data[sortperm(boil_data[:, 1]), :]\n",
    "num_boiling = zeros(size(Xstations))\n",
    "for i = 1:size(sorted_boil_hist,1)\n",
    "    num_boiling[Int64(sorted_boil_hist[i,1])] += 1\n",
    "end\n",
    "freq_boiling = num_boiling/tend;"
   ]
  },
  {
   "cell_type": "code",
   "execution_count": null,
   "metadata": {
    "scrolled": true
   },
   "outputs": [],
   "source": [
    "scatter(xstations,freq_boiling,xlabel=\"x[m]\",ylabel=\"boiling frequency [HZ]\",legend=false)"
   ]
  },
  {
   "cell_type": "code",
   "execution_count": null,
   "metadata": {},
   "outputs": [],
   "source": [
    "scatter(ystations,freq_boiling,xlabel=\"y[m]\",ylabel=\"boiling frequency [HZ]\",legend=false)"
   ]
  },
  {
   "cell_type": "code",
   "execution_count": null,
   "metadata": {},
   "outputs": [],
   "source": [
    "ohp = load(\"ohp.jld2\",\"ohp\")"
   ]
  },
  {
   "cell_type": "code",
   "execution_count": null,
   "metadata": {},
   "outputs": [],
   "source": [
    "Lx = 0.1524; # plate size x\n",
    "Ly = 0.0648; # plate size y\n",
    "\n",
    "xlim = (-Lx/2,Lx/2) .*1.0\n",
    "ylim = (-Ly/2,Ly/2) .*1.0\n",
    "# Δx, Δt = setstepsizes(params.α,gridPe=8.0,fourier=0.3)\n"
   ]
  },
  {
   "cell_type": "code",
   "execution_count": null,
   "metadata": {},
   "outputs": [],
   "source": [
    "plot(ohp,fillalpha=0,linecolor=:blue,xlims=xlim,ylims=ylim,framestyle = :box)\n",
    "scatter!(xstations,ystations)"
   ]
  },
  {
   "cell_type": "code",
   "execution_count": null,
   "metadata": {},
   "outputs": [],
   "source": [
    "savefig(\"boiling sites.svg\")"
   ]
  },
  {
   "cell_type": "code",
   "execution_count": null,
   "metadata": {},
   "outputs": [],
   "source": [
    "ql = sys.qline[1]\n",
    "interp_linear_x = LinearInterpolation(ql.arccoord, ql.body.x,extrapolation_bc = Line());\n",
    "interp_linear_y = LinearInterpolation(ql.arccoord, ql.body.y,extrapolation_bc = Line());\n",
    "\n",
    "xstations = interp_linear_x[sysfinal[end].wall.Xstations]\n",
    "ystations = interp_linear_y[sysfinal[end].wall.Xstations]"
   ]
  },
  {
   "cell_type": "code",
   "execution_count": null,
   "metadata": {},
   "outputs": [],
   "source": [
    "Lliquid = XptoLliquidslug(sysfinal[end].liquid.Xp,sysfinal[end].tube.L)\n",
    "\n",
    "sum(Lliquid)/sysfinal[end].tube.L"
   ]
  },
  {
   "cell_type": "code",
   "execution_count": null,
   "metadata": {},
   "outputs": [],
   "source": [
    "Lx = 0.1524; # plate size x\n",
    "Ly = 0.0648; # plate size y"
   ]
  },
  {
   "cell_type": "code",
   "execution_count": null,
   "metadata": {},
   "outputs": [],
   "source": [
    "plate_d = 2e-3\n",
    "tube_d = 1e-3"
   ]
  },
  {
   "cell_type": "code",
   "execution_count": null,
   "metadata": {},
   "outputs": [],
   "source": [
    "(Lx*Ly*plate_d - sysfinal[1].tube.L * tube_d^2)/(Lx*Ly)"
   ]
  },
  {
   "cell_type": "code",
   "execution_count": null,
   "metadata": {},
   "outputs": [],
   "source": []
  }
 ],
 "metadata": {
  "@webio": {
   "lastCommId": null,
   "lastKernelId": null
  },
  "kernelspec": {
   "display_name": "Julia 1.6.6",
   "language": "julia",
   "name": "julia-1.6"
  },
  "language_info": {
   "file_extension": ".jl",
   "mimetype": "application/julia",
   "name": "julia",
   "version": "1.6.6"
  }
 },
 "nbformat": 4,
 "nbformat_minor": 2
}
