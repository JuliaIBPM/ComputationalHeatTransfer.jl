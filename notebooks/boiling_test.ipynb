{
 "cells": [
  {
   "cell_type": "code",
   "execution_count": 1,
   "metadata": {
    "scrolled": true
   },
   "outputs": [],
   "source": [
    "using ComputationalHeatTransfer"
   ]
  },
  {
   "cell_type": "code",
   "execution_count": 2,
   "metadata": {},
   "outputs": [],
   "source": [
    "# using Plots\n",
    "using LaTeXStrings"
   ]
  },
  {
   "cell_type": "code",
   "execution_count": 3,
   "metadata": {},
   "outputs": [
    {
     "data": {
      "text/plain": [
       "Plots.PyPlotBackend()"
      ]
     },
     "execution_count": 3,
     "metadata": {},
     "output_type": "execute_result"
    }
   ],
   "source": [
    "using Revise\n",
    "using LinearAlgebra\n",
    "using DifferentialEquations\n",
    "using Interpolations\n",
    "# using JLD\n",
    "using Plots\n",
    "pyplot()  "
   ]
  },
  {
   "cell_type": "code",
   "execution_count": 4,
   "metadata": {},
   "outputs": [],
   "source": [
    "using JLD2"
   ]
  },
  {
   "cell_type": "code",
   "execution_count": 5,
   "metadata": {},
   "outputs": [],
   "source": [
    "cd(dirname(pwd()))\n",
    "cd(\"src\") \n",
    "\n",
    "includet(\"OneDOHP.jl\")\n",
    "using ..OneDOHP"
   ]
  },
  {
   "cell_type": "markdown",
   "metadata": {},
   "source": [
    "# OHP inner part"
   ]
  },
  {
   "cell_type": "code",
   "execution_count": 265,
   "metadata": {},
   "outputs": [
    {
     "data": {
      "text/plain": [
       "273.15"
      ]
     },
     "execution_count": 265,
     "metadata": {},
     "output_type": "execute_result"
    }
   ],
   "source": [
    "T0 = 273.15"
   ]
  },
  {
   "cell_type": "code",
   "execution_count": 266,
   "metadata": {},
   "outputs": [
    {
     "data": {
      "text/plain": [
       "di_T_to_nondi_T (generic function with 1 method)"
      ]
     },
     "execution_count": 266,
     "metadata": {},
     "output_type": "execute_result"
    }
   ],
   "source": [
    "nondi_Q_to_Q = 8.52e01\n",
    "t_to_nondi_t = 3.42e-01\n",
    "function di_T_to_nondi_T(di_T;T0=273.15) \n",
    "    \n",
    "    (di_T+T0)/T0\n",
    "    \n",
    "end\n",
    "\n"
   ]
  },
  {
   "cell_type": "code",
   "execution_count": 282,
   "metadata": {},
   "outputs": [],
   "source": [
    "    ω = sqrt(1.68e003);\n",
    "    ℘L = 6.2e004;\n",
    "    k = 115e-003\n",
    "\n",
    "    θinitial=1.0\n",
    "    θc = 1.0; # useless\n",
    "\n",
    "    Hwc = 0.0; #not useful later on. H between wall and condenser, \n",
    "    Hₗ   =  1600.0; # liquid wall heat transfer coeffcient\n",
    "#     Hₗ   =  2.57e004; # liquid wall heat transfer coeffcient\n",
    "    Hδ  = 7.34e002;\n"
   ]
  },
  {
   "cell_type": "code",
   "execution_count": 283,
   "metadata": {},
   "outputs": [
    {
     "data": {
      "text/plain": [
       "true"
      ]
     },
     "execution_count": 283,
     "metadata": {},
     "output_type": "execute_result"
    }
   ],
   "source": [
    "    \n",
    "    d = 6.56e-3 # dimensionless diameter\n",
    "    L = 35.0  # total length of the pipe when streched to a 1D pipe\n",
    "    L2D = 1.0 # the actual length of the bended pipe in the real world\n",
    "    angle = 0*pi/2 # inclination angle \n",
    "    closedornot = true"
   ]
  },
  {
   "cell_type": "code",
   "execution_count": 328,
   "metadata": {},
   "outputs": [
    {
     "data": {
      "text/plain": [
       "1-element Array{Float64,1}:\n",
       " 17.5"
      ]
     },
     "execution_count": 328,
     "metadata": {},
     "output_type": "execute_result"
    }
   ],
   "source": [
    "#     nucleatenum = 1\n",
    "#     Xstations = sort(rand(nucleatenum).*L);\n",
    "Xstations = [L/2]\n",
    "#     boilingΔt = 0.05"
   ]
  },
  {
   "cell_type": "code",
   "execution_count": 329,
   "metadata": {},
   "outputs": [],
   "source": [
    "tube = Tube(d,L,L2D,angle,closedornot);"
   ]
  },
  {
   "cell_type": "code",
   "execution_count": 330,
   "metadata": {},
   "outputs": [],
   "source": [
    "Xe = map(tuple, [1.0], [3.0])\n",
    "We = [0.0]\n",
    "evap = Evaporator(Xe,We);"
   ]
  },
  {
   "cell_type": "code",
   "execution_count": 331,
   "metadata": {},
   "outputs": [],
   "source": [
    "Xc = map(tuple, [0.0,3.0], [1.0,4.0])\n",
    "cond = Condenser(θc,Xc,Hwc);"
   ]
  },
  {
   "cell_type": "code",
   "execution_count": 332,
   "metadata": {},
   "outputs": [],
   "source": [
    "# numofX=1\n",
    "# Xps = sort(rand(2*numofX).*L);\n",
    "# Xp1s = Xps[1:2:end];\n",
    "# Xp2s = Xps[2:2:end];\n",
    "\n",
    "# dXdt0 = map(tuple,0*Xp1s,0*Xp2s)\n",
    "# X0 = map(tuple,Xp1s,Xp2s);\n"
   ]
  },
  {
   "cell_type": "code",
   "execution_count": 333,
   "metadata": {},
   "outputs": [],
   "source": [
    "N=numpts(ohp)\n",
    "X0 = [(L/4, L*3/4)]\n",
    "dXdt0 = [(0.0,0.0)]\n",
    "ρ = 214.6\n",
    "Xarrays,θarrays = constructXarrays(X0,N,θinitial,L)\n",
    "liquids=Liquid(Hₗ,ρ,ω,℘L,X0,dXdt0,Xarrays,θarrays);"
   ]
  },
  {
   "cell_type": "code",
   "execution_count": 334,
   "metadata": {},
   "outputs": [],
   "source": [
    "# P = [1.0,1.0,1.0,1.0,1.0]; # closed end\n",
    "\n",
    "γ = 1.4;\n",
    "Hδ = 7.34e2\n",
    "P = 0*Xp1s .+ 1.0;\n",
    "δ = 0*Xp1s .+ 2.86e-02;\n",
    "vapors=Vapor(γ,Hδ,P,δ);"
   ]
  },
  {
   "cell_type": "code",
   "execution_count": 335,
   "metadata": {},
   "outputs": [],
   "source": [
    "α = 0 # nondimensional thermal diffusivity = (αₐ d^2) / (νₗ height^2)\n",
    "Xwallarray,θwallarray = constructXarrays(L,N,θinitial)\n",
    "θwallarray = di_T_to_nondi_T(temperature_linesource(integrator)) .+ 0.02;\n",
    "\n",
    "wall = Wall(α,Δt,Xstations,Xwallarray,θwallarray);"
   ]
  },
  {
   "cell_type": "code",
   "execution_count": 336,
   "metadata": {},
   "outputs": [],
   "source": [
    "sys0_nomapping = PHPSystem_nomapping(tube,evap,cond,liquids,vapors,wall);\n",
    "θ_interp_walltoliquid, θ_interp_liquidtowall, H_interp_liquidtowall = sys_interpolation(sys0_nomapping)\n",
    "mapping = Mapping(θ_interp_walltoliquid, θ_interp_liquidtowall, H_interp_liquidtowall);"
   ]
  },
  {
   "cell_type": "code",
   "execution_count": 337,
   "metadata": {},
   "outputs": [],
   "source": [
    "sys0 = PHPSystem(tube,evap,cond,liquids,vapors,wall,mapping);"
   ]
  },
  {
   "cell_type": "markdown",
   "metadata": {},
   "source": [
    "### construct state vector U"
   ]
  },
  {
   "cell_type": "code",
   "execution_count": 391,
   "metadata": {},
   "outputs": [],
   "source": [
    "Lvaporplug = XptoLvaporplug(X0,sys0.tube.L,sys0.tube.closedornot)\n",
    "M = nondi_PtoD(P) .* Lvaporplug\n",
    "# M = P.^(1/γ).* Lvaporplug\n",
    "\n",
    "\n",
    "u=[XMδtovec(X0,dXdt0,M,δ); liquidθtovec(sys0.liquid.θarrays)];"
   ]
  },
  {
   "cell_type": "code",
   "execution_count": 392,
   "metadata": {},
   "outputs": [],
   "source": [
    "# cb_boiling =  DiscreteCallback(boiling_condition,boiling_affect!)\n",
    "cb_boiling =  PeriodicCallback(boiling_affect!,0.01)\n",
    "cb_merging =  DiscreteCallback(merging_condition,merging_affect!)\n",
    "\n",
    "cbst = CallbackSet(cb_boiling,cb_merging);"
   ]
  },
  {
   "cell_type": "markdown",
   "metadata": {},
   "source": [
    "### solve OHP (with nondimentional wall tempeature = 1.0)"
   ]
  },
  {
   "cell_type": "code",
   "execution_count": 393,
   "metadata": {},
   "outputs": [
    {
     "name": "stdout",
     "output_type": "stream",
     "text": [
      "Boiled!0.01\n",
      "merged!\n",
      "Boiled!0.04\n",
      "  1.718696 seconds (984.05 k allocations: 1.255 GiB, 18.26% gc time)\n"
     ]
    }
   ],
   "source": [
    "tstep=1e-4\n",
    "# tstep=5e-5*t_to_nondi_t\n",
    "\n",
    "p = sys0\n",
    "tspan = (0.0, 0.05);\n",
    "prob = ODEProblem(ODE_innertube, u, tspan, p)\n",
    "\n",
    "integrator_tube = init(deepcopy(prob), SSPRK22(), dt=tstep, callback=cbst);\n",
    "\n",
    "@time solve!(integrator_tube);\n"
   ]
  },
  {
   "cell_type": "code",
   "execution_count": 394,
   "metadata": {},
   "outputs": [],
   "source": [
    "p = deepcopy(getcurrentsys(integrator_tube.sol[end],sys0));\n",
    "p.liquid.Xp;"
   ]
  },
  {
   "cell_type": "code",
   "execution_count": 395,
   "metadata": {},
   "outputs": [],
   "source": [
    "sol = integrator_tube.sol\n",
    "sysfinal = getcurrentsys.(sol.u,[sys0]);"
   ]
  },
  {
   "cell_type": "code",
   "execution_count": 396,
   "metadata": {},
   "outputs": [
    {
     "data": {
      "text/plain": [
       "2-element Array{Tuple{Float64,Float64},1}:\n",
       " (8.709321223523911, 17.478249702559452)\n",
       " (17.48367369349262, 26.214745214457075)"
      ]
     },
     "execution_count": 396,
     "metadata": {},
     "output_type": "execute_result"
    }
   ],
   "source": [
    "sysfinal[152].liquid.Xp"
   ]
  },
  {
   "cell_type": "markdown",
   "metadata": {},
   "source": [
    "## the new vapor is saturated "
   ]
  },
  {
   "cell_type": "code",
   "execution_count": 404,
   "metadata": {},
   "outputs": [
    {
     "data": {
      "text/plain": [
       "1.0028432497209592"
      ]
     },
     "execution_count": 404,
     "metadata": {},
     "output_type": "execute_result"
    }
   ],
   "source": [
    "# boiling location liquid temperature (assume it is saturated)\n",
    "sysfinal[102].mapping.θ_interp_liquidtowall(L/2)"
   ]
  },
  {
   "cell_type": "code",
   "execution_count": 406,
   "metadata": {},
   "outputs": [
    {
     "data": {
      "text/plain": [
       "1.0297398131083786"
      ]
     },
     "execution_count": 406,
     "metadata": {},
     "output_type": "execute_result"
    }
   ],
   "source": [
    "sysfinal[102].vapor.P[2]"
   ]
  },
  {
   "cell_type": "code",
   "execution_count": 407,
   "metadata": {},
   "outputs": [
    {
     "data": {
      "text/plain": [
       "1.0297398131083786"
      ]
     },
     "execution_count": 407,
     "metadata": {},
     "output_type": "execute_result"
    }
   ],
   "source": [
    "nondi_TtoP(sysfinal[102].mapping.θ_interp_liquidtowall(L/2))"
   ]
  },
  {
   "cell_type": "markdown",
   "metadata": {},
   "source": [
    "# plot the OHP"
   ]
  },
  {
   "cell_type": "code",
   "execution_count": 400,
   "metadata": {
    "scrolled": true
   },
   "outputs": [
    {
     "name": "stderr",
     "output_type": "stream",
     "text": [
      "┌ Warning: Indices Base.OneTo(1) of attribute `seriescolor` does not match data indices 1:3654.\n",
      "└ @ Plots C:\\Users\\liyux\\.julia\\packages\\Plots\\FKcum\\src\\utils.jl:108\n",
      "┌ Warning: Indices Base.OneTo(1) of attribute `linecolor` does not match data indices 1:3654.\n",
      "└ @ Plots C:\\Users\\liyux\\.julia\\packages\\Plots\\FKcum\\src\\utils.jl:108\n",
      "┌ Warning: Indices Base.OneTo(1) of attribute `fillcolor` does not match data indices 1:3654.\n",
      "└ @ Plots C:\\Users\\liyux\\.julia\\packages\\Plots\\FKcum\\src\\utils.jl:108\n",
      "┌ Warning: Indices Base.OneTo(1) of attribute `markercolor` does not match data indices 1:3654.\n",
      "└ @ Plots C:\\Users\\liyux\\.julia\\packages\\Plots\\FKcum\\src\\utils.jl:108\n",
      "┌ Warning: Indices Base.OneTo(1) of attribute `seriescolor` does not match data indices 1:3654.\n",
      "└ @ Plots C:\\Users\\liyux\\.julia\\packages\\Plots\\FKcum\\src\\utils.jl:108\n",
      "┌ Warning: Indices Base.OneTo(1) of attribute `linecolor` does not match data indices 1:3654.\n",
      "└ @ Plots C:\\Users\\liyux\\.julia\\packages\\Plots\\FKcum\\src\\utils.jl:108\n",
      "┌ Warning: Indices Base.OneTo(1) of attribute `fillcolor` does not match data indices 1:3654.\n",
      "└ @ Plots C:\\Users\\liyux\\.julia\\packages\\Plots\\FKcum\\src\\utils.jl:108\n",
      "┌ Warning: Indices Base.OneTo(1) of attribute `markercolor` does not match data indices 1:3654.\n",
      "└ @ Plots C:\\Users\\liyux\\.julia\\packages\\Plots\\FKcum\\src\\utils.jl:108\n",
      "┌ Warning: Indices Base.OneTo(1) of attribute `seriescolor` does not match data indices 1:3654.\n",
      "└ @ Plots C:\\Users\\liyux\\.julia\\packages\\Plots\\FKcum\\src\\utils.jl:108\n",
      "┌ Warning: Indices Base.OneTo(1) of attribute `linecolor` does not match data indices 1:3654.\n",
      "└ @ Plots C:\\Users\\liyux\\.julia\\packages\\Plots\\FKcum\\src\\utils.jl:108\n",
      "┌ Warning: Indices Base.OneTo(1) of attribute `fillcolor` does not match data indices 1:3654.\n",
      "└ @ Plots C:\\Users\\liyux\\.julia\\packages\\Plots\\FKcum\\src\\utils.jl:108\n",
      "┌ Warning: Indices Base.OneTo(1) of attribute `markercolor` does not match data indices 1:3654.\n",
      "└ @ Plots C:\\Users\\liyux\\.julia\\packages\\Plots\\FKcum\\src\\utils.jl:108\n",
      "┌ Warning: Indices Base.OneTo(1) of attribute `seriescolor` does not match data indices 1:3654.\n",
      "└ @ Plots C:\\Users\\liyux\\.julia\\packages\\Plots\\FKcum\\src\\utils.jl:108\n",
      "┌ Warning: Indices Base.OneTo(1) of attribute `linecolor` does not match data indices 1:3654.\n",
      "└ @ Plots C:\\Users\\liyux\\.julia\\packages\\Plots\\FKcum\\src\\utils.jl:108\n",
      "┌ Warning: Indices Base.OneTo(1) of attribute `fillcolor` does not match data indices 1:3654.\n",
      "└ @ Plots C:\\Users\\liyux\\.julia\\packages\\Plots\\FKcum\\src\\utils.jl:108\n",
      "┌ Warning: Indices Base.OneTo(1) of attribute `markercolor` does not match data indices 1:3654.\n",
      "└ @ Plots C:\\Users\\liyux\\.julia\\packages\\Plots\\FKcum\\src\\utils.jl:108\n",
      "┌ Warning: Indices Base.OneTo(1) of attribute `seriescolor` does not match data indices 1:3654.\n",
      "└ @ Plots C:\\Users\\liyux\\.julia\\packages\\Plots\\FKcum\\src\\utils.jl:108\n",
      "┌ Warning: Indices Base.OneTo(1) of attribute `linecolor` does not match data indices 1:3654.\n",
      "└ @ Plots C:\\Users\\liyux\\.julia\\packages\\Plots\\FKcum\\src\\utils.jl:108\n",
      "┌ Warning: Indices Base.OneTo(1) of attribute `fillcolor` does not match data indices 1:3654.\n",
      "└ @ Plots C:\\Users\\liyux\\.julia\\packages\\Plots\\FKcum\\src\\utils.jl:108\n",
      "┌ Warning: Indices Base.OneTo(1) of attribute `markercolor` does not match data indices 1:3654.\n",
      "└ @ Plots C:\\Users\\liyux\\.julia\\packages\\Plots\\FKcum\\src\\utils.jl:108\n",
      "┌ Warning: Indices Base.OneTo(1) of attribute `seriescolor` does not match data indices 1:3654.\n",
      "└ @ Plots C:\\Users\\liyux\\.julia\\packages\\Plots\\FKcum\\src\\utils.jl:108\n",
      "┌ Warning: Indices Base.OneTo(1) of attribute `linecolor` does not match data indices 1:3654.\n",
      "└ @ Plots C:\\Users\\liyux\\.julia\\packages\\Plots\\FKcum\\src\\utils.jl:108\n",
      "┌ Warning: Indices Base.OneTo(1) of attribute `fillcolor` does not match data indices 1:3654.\n",
      "└ @ Plots C:\\Users\\liyux\\.julia\\packages\\Plots\\FKcum\\src\\utils.jl:108\n",
      "┌ Warning: Indices Base.OneTo(1) of attribute `markercolor` does not match data indices 1:3654.\n",
      "└ @ Plots C:\\Users\\liyux\\.julia\\packages\\Plots\\FKcum\\src\\utils.jl:108\n",
      "┌ Warning: Indices Base.OneTo(1) of attribute `seriescolor` does not match data indices 1:3654.\n",
      "└ @ Plots C:\\Users\\liyux\\.julia\\packages\\Plots\\FKcum\\src\\utils.jl:108\n",
      "┌ Warning: Indices Base.OneTo(1) of attribute `linecolor` does not match data indices 1:3654.\n",
      "└ @ Plots C:\\Users\\liyux\\.julia\\packages\\Plots\\FKcum\\src\\utils.jl:108\n",
      "┌ Warning: Indices Base.OneTo(1) of attribute `fillcolor` does not match data indices 1:3654.\n",
      "└ @ Plots C:\\Users\\liyux\\.julia\\packages\\Plots\\FKcum\\src\\utils.jl:108\n",
      "┌ Warning: Indices Base.OneTo(1) of attribute `markercolor` does not match data indices 1:3654.\n",
      "└ @ Plots C:\\Users\\liyux\\.julia\\packages\\Plots\\FKcum\\src\\utils.jl:108\n",
      "┌ Warning: Indices Base.OneTo(1) of attribute `seriescolor` does not match data indices 1:3654.\n",
      "└ @ Plots C:\\Users\\liyux\\.julia\\packages\\Plots\\FKcum\\src\\utils.jl:108\n",
      "┌ Warning: Indices Base.OneTo(1) of attribute `linecolor` does not match data indices 1:3654.\n",
      "└ @ Plots C:\\Users\\liyux\\.julia\\packages\\Plots\\FKcum\\src\\utils.jl:108\n",
      "┌ Warning: Indices Base.OneTo(1) of attribute `fillcolor` does not match data indices 1:3654.\n",
      "└ @ Plots C:\\Users\\liyux\\.julia\\packages\\Plots\\FKcum\\src\\utils.jl:108\n",
      "┌ Warning: Indices Base.OneTo(1) of attribute `markercolor` does not match data indices 1:3654.\n",
      "└ @ Plots C:\\Users\\liyux\\.julia\\packages\\Plots\\FKcum\\src\\utils.jl:108\n",
      "┌ Warning: Indices Base.OneTo(1) of attribute `seriescolor` does not match data indices 1:3654.\n",
      "└ @ Plots C:\\Users\\liyux\\.julia\\packages\\Plots\\FKcum\\src\\utils.jl:108\n",
      "┌ Warning: Indices Base.OneTo(1) of attribute `linecolor` does not match data indices 1:3654.\n",
      "└ @ Plots C:\\Users\\liyux\\.julia\\packages\\Plots\\FKcum\\src\\utils.jl:108\n",
      "┌ Warning: Indices Base.OneTo(1) of attribute `fillcolor` does not match data indices 1:3654.\n",
      "└ @ Plots C:\\Users\\liyux\\.julia\\packages\\Plots\\FKcum\\src\\utils.jl:108\n",
      "┌ Warning: Indices Base.OneTo(1) of attribute `markercolor` does not match data indices 1:3654.\n",
      "└ @ Plots C:\\Users\\liyux\\.julia\\packages\\Plots\\FKcum\\src\\utils.jl:108\n",
      "┌ Warning: Indices Base.OneTo(1) of attribute `seriescolor` does not match data indices 1:3654.\n",
      "└ @ Plots C:\\Users\\liyux\\.julia\\packages\\Plots\\FKcum\\src\\utils.jl:108\n",
      "┌ Warning: Indices Base.OneTo(1) of attribute `linecolor` does not match data indices 1:3654.\n",
      "└ @ Plots C:\\Users\\liyux\\.julia\\packages\\Plots\\FKcum\\src\\utils.jl:108\n",
      "┌ Warning: Indices Base.OneTo(1) of attribute `fillcolor` does not match data indices 1:3654.\n",
      "└ @ Plots C:\\Users\\liyux\\.julia\\packages\\Plots\\FKcum\\src\\utils.jl:108\n",
      "┌ Warning: Indices Base.OneTo(1) of attribute `markercolor` does not match data indices 1:3654.\n",
      "└ @ Plots C:\\Users\\liyux\\.julia\\packages\\Plots\\FKcum\\src\\utils.jl:108\n",
      "┌ Warning: Indices Base.OneTo(1) of attribute `seriescolor` does not match data indices 1:3654.\n",
      "└ @ Plots C:\\Users\\liyux\\.julia\\packages\\Plots\\FKcum\\src\\utils.jl:108\n",
      "┌ Warning: Indices Base.OneTo(1) of attribute `linecolor` does not match data indices 1:3654.\n",
      "└ @ Plots C:\\Users\\liyux\\.julia\\packages\\Plots\\FKcum\\src\\utils.jl:108\n",
      "┌ Warning: Indices Base.OneTo(1) of attribute `fillcolor` does not match data indices 1:3654.\n",
      "└ @ Plots C:\\Users\\liyux\\.julia\\packages\\Plots\\FKcum\\src\\utils.jl:108\n",
      "┌ Warning: Indices Base.OneTo(1) of attribute `markercolor` does not match data indices 1:3654.\n",
      "└ @ Plots C:\\Users\\liyux\\.julia\\packages\\Plots\\FKcum\\src\\utils.jl:108\n",
      "┌ Warning: Indices Base.OneTo(1) of attribute `seriescolor` does not match data indices 1:3654.\n",
      "└ @ Plots C:\\Users\\liyux\\.julia\\packages\\Plots\\FKcum\\src\\utils.jl:108\n",
      "┌ Warning: Indices Base.OneTo(1) of attribute `linecolor` does not match data indices 1:3654.\n",
      "└ @ Plots C:\\Users\\liyux\\.julia\\packages\\Plots\\FKcum\\src\\utils.jl:108\n",
      "┌ Warning: Indices Base.OneTo(1) of attribute `fillcolor` does not match data indices 1:3654.\n",
      "└ @ Plots C:\\Users\\liyux\\.julia\\packages\\Plots\\FKcum\\src\\utils.jl:108\n",
      "┌ Warning: Indices Base.OneTo(1) of attribute `markercolor` does not match data indices 1:3654.\n",
      "└ @ Plots C:\\Users\\liyux\\.julia\\packages\\Plots\\FKcum\\src\\utils.jl:108\n",
      "┌ Warning: Indices Base.OneTo(1) of attribute `seriescolor` does not match data indices 1:3654.\n",
      "└ @ Plots C:\\Users\\liyux\\.julia\\packages\\Plots\\FKcum\\src\\utils.jl:108\n",
      "┌ Warning: Indices Base.OneTo(1) of attribute `linecolor` does not match data indices 1:3654.\n",
      "└ @ Plots C:\\Users\\liyux\\.julia\\packages\\Plots\\FKcum\\src\\utils.jl:108\n",
      "┌ Warning: Indices Base.OneTo(1) of attribute `fillcolor` does not match data indices 1:3654.\n",
      "└ @ Plots C:\\Users\\liyux\\.julia\\packages\\Plots\\FKcum\\src\\utils.jl:108\n",
      "┌ Warning: Indices Base.OneTo(1) of attribute `markercolor` does not match data indices 1:3654.\n",
      "└ @ Plots C:\\Users\\liyux\\.julia\\packages\\Plots\\FKcum\\src\\utils.jl:108\n"
     ]
    },
    {
     "name": "stderr",
     "output_type": "stream",
     "text": [
      "┌ Warning: Indices Base.OneTo(1) of attribute `seriescolor` does not match data indices 1:3654.\n",
      "└ @ Plots C:\\Users\\liyux\\.julia\\packages\\Plots\\FKcum\\src\\utils.jl:108\n",
      "┌ Warning: Indices Base.OneTo(1) of attribute `linecolor` does not match data indices 1:3654.\n",
      "└ @ Plots C:\\Users\\liyux\\.julia\\packages\\Plots\\FKcum\\src\\utils.jl:108\n",
      "┌ Warning: Indices Base.OneTo(1) of attribute `fillcolor` does not match data indices 1:3654.\n",
      "└ @ Plots C:\\Users\\liyux\\.julia\\packages\\Plots\\FKcum\\src\\utils.jl:108\n",
      "┌ Warning: Indices Base.OneTo(1) of attribute `markercolor` does not match data indices 1:3654.\n",
      "└ @ Plots C:\\Users\\liyux\\.julia\\packages\\Plots\\FKcum\\src\\utils.jl:108\n",
      "┌ Warning: Indices Base.OneTo(1) of attribute `seriescolor` does not match data indices 1:3654.\n",
      "└ @ Plots C:\\Users\\liyux\\.julia\\packages\\Plots\\FKcum\\src\\utils.jl:108\n",
      "┌ Warning: Indices Base.OneTo(1) of attribute `linecolor` does not match data indices 1:3654.\n",
      "└ @ Plots C:\\Users\\liyux\\.julia\\packages\\Plots\\FKcum\\src\\utils.jl:108\n",
      "┌ Warning: Indices Base.OneTo(1) of attribute `fillcolor` does not match data indices 1:3654.\n",
      "└ @ Plots C:\\Users\\liyux\\.julia\\packages\\Plots\\FKcum\\src\\utils.jl:108\n",
      "┌ Warning: Indices Base.OneTo(1) of attribute `markercolor` does not match data indices 1:3654.\n",
      "└ @ Plots C:\\Users\\liyux\\.julia\\packages\\Plots\\FKcum\\src\\utils.jl:108\n",
      "┌ Warning: Indices Base.OneTo(1) of attribute `seriescolor` does not match data indices 1:3654.\n",
      "└ @ Plots C:\\Users\\liyux\\.julia\\packages\\Plots\\FKcum\\src\\utils.jl:108\n",
      "┌ Warning: Indices Base.OneTo(1) of attribute `linecolor` does not match data indices 1:3654.\n",
      "└ @ Plots C:\\Users\\liyux\\.julia\\packages\\Plots\\FKcum\\src\\utils.jl:108\n",
      "┌ Warning: Indices Base.OneTo(1) of attribute `fillcolor` does not match data indices 1:3654.\n",
      "└ @ Plots C:\\Users\\liyux\\.julia\\packages\\Plots\\FKcum\\src\\utils.jl:108\n",
      "┌ Warning: Indices Base.OneTo(1) of attribute `markercolor` does not match data indices 1:3654.\n",
      "└ @ Plots C:\\Users\\liyux\\.julia\\packages\\Plots\\FKcum\\src\\utils.jl:108\n",
      "┌ Warning: Indices Base.OneTo(1) of attribute `seriescolor` does not match data indices 1:3654.\n",
      "└ @ Plots C:\\Users\\liyux\\.julia\\packages\\Plots\\FKcum\\src\\utils.jl:108\n",
      "┌ Warning: Indices Base.OneTo(1) of attribute `linecolor` does not match data indices 1:3654.\n",
      "└ @ Plots C:\\Users\\liyux\\.julia\\packages\\Plots\\FKcum\\src\\utils.jl:108\n",
      "┌ Warning: Indices Base.OneTo(1) of attribute `fillcolor` does not match data indices 1:3654.\n",
      "└ @ Plots C:\\Users\\liyux\\.julia\\packages\\Plots\\FKcum\\src\\utils.jl:108\n",
      "┌ Warning: Indices Base.OneTo(1) of attribute `markercolor` does not match data indices 1:3654.\n",
      "└ @ Plots C:\\Users\\liyux\\.julia\\packages\\Plots\\FKcum\\src\\utils.jl:108\n",
      "┌ Warning: Indices Base.OneTo(1) of attribute `seriescolor` does not match data indices 1:3654.\n",
      "└ @ Plots C:\\Users\\liyux\\.julia\\packages\\Plots\\FKcum\\src\\utils.jl:108\n",
      "┌ Warning: Indices Base.OneTo(1) of attribute `linecolor` does not match data indices 1:3654.\n",
      "└ @ Plots C:\\Users\\liyux\\.julia\\packages\\Plots\\FKcum\\src\\utils.jl:108\n",
      "┌ Warning: Indices Base.OneTo(1) of attribute `fillcolor` does not match data indices 1:3654.\n",
      "└ @ Plots C:\\Users\\liyux\\.julia\\packages\\Plots\\FKcum\\src\\utils.jl:108\n",
      "┌ Warning: Indices Base.OneTo(1) of attribute `markercolor` does not match data indices 1:3654.\n",
      "└ @ Plots C:\\Users\\liyux\\.julia\\packages\\Plots\\FKcum\\src\\utils.jl:108\n",
      "┌ Warning: Indices Base.OneTo(1) of attribute `seriescolor` does not match data indices 1:3654.\n",
      "└ @ Plots C:\\Users\\liyux\\.julia\\packages\\Plots\\FKcum\\src\\utils.jl:108\n",
      "┌ Warning: Indices Base.OneTo(1) of attribute `linecolor` does not match data indices 1:3654.\n",
      "└ @ Plots C:\\Users\\liyux\\.julia\\packages\\Plots\\FKcum\\src\\utils.jl:108\n",
      "┌ Warning: Indices Base.OneTo(1) of attribute `fillcolor` does not match data indices 1:3654.\n",
      "└ @ Plots C:\\Users\\liyux\\.julia\\packages\\Plots\\FKcum\\src\\utils.jl:108\n",
      "┌ Warning: Indices Base.OneTo(1) of attribute `markercolor` does not match data indices 1:3654.\n",
      "└ @ Plots C:\\Users\\liyux\\.julia\\packages\\Plots\\FKcum\\src\\utils.jl:108\n",
      "┌ Warning: Indices Base.OneTo(1) of attribute `seriescolor` does not match data indices 1:3654.\n",
      "└ @ Plots C:\\Users\\liyux\\.julia\\packages\\Plots\\FKcum\\src\\utils.jl:108\n",
      "┌ Warning: Indices Base.OneTo(1) of attribute `linecolor` does not match data indices 1:3654.\n",
      "└ @ Plots C:\\Users\\liyux\\.julia\\packages\\Plots\\FKcum\\src\\utils.jl:108\n",
      "┌ Warning: Indices Base.OneTo(1) of attribute `fillcolor` does not match data indices 1:3654.\n",
      "└ @ Plots C:\\Users\\liyux\\.julia\\packages\\Plots\\FKcum\\src\\utils.jl:108\n",
      "┌ Warning: Indices Base.OneTo(1) of attribute `markercolor` does not match data indices 1:3654.\n",
      "└ @ Plots C:\\Users\\liyux\\.julia\\packages\\Plots\\FKcum\\src\\utils.jl:108\n",
      "┌ Warning: Indices Base.OneTo(1) of attribute `seriescolor` does not match data indices 1:3654.\n",
      "└ @ Plots C:\\Users\\liyux\\.julia\\packages\\Plots\\FKcum\\src\\utils.jl:108\n",
      "┌ Warning: Indices Base.OneTo(1) of attribute `linecolor` does not match data indices 1:3654.\n",
      "└ @ Plots C:\\Users\\liyux\\.julia\\packages\\Plots\\FKcum\\src\\utils.jl:108\n",
      "┌ Warning: Indices Base.OneTo(1) of attribute `fillcolor` does not match data indices 1:3654.\n",
      "└ @ Plots C:\\Users\\liyux\\.julia\\packages\\Plots\\FKcum\\src\\utils.jl:108\n",
      "┌ Warning: Indices Base.OneTo(1) of attribute `markercolor` does not match data indices 1:3654.\n",
      "└ @ Plots C:\\Users\\liyux\\.julia\\packages\\Plots\\FKcum\\src\\utils.jl:108\n",
      "┌ Warning: Indices Base.OneTo(1) of attribute `seriescolor` does not match data indices 1:3654.\n",
      "└ @ Plots C:\\Users\\liyux\\.julia\\packages\\Plots\\FKcum\\src\\utils.jl:108\n",
      "┌ Warning: Indices Base.OneTo(1) of attribute `linecolor` does not match data indices 1:3654.\n",
      "└ @ Plots C:\\Users\\liyux\\.julia\\packages\\Plots\\FKcum\\src\\utils.jl:108\n",
      "┌ Warning: Indices Base.OneTo(1) of attribute `fillcolor` does not match data indices 1:3654.\n",
      "└ @ Plots C:\\Users\\liyux\\.julia\\packages\\Plots\\FKcum\\src\\utils.jl:108\n",
      "┌ Warning: Indices Base.OneTo(1) of attribute `markercolor` does not match data indices 1:3654.\n",
      "└ @ Plots C:\\Users\\liyux\\.julia\\packages\\Plots\\FKcum\\src\\utils.jl:108\n",
      "┌ Warning: Indices Base.OneTo(1) of attribute `seriescolor` does not match data indices 1:3654.\n",
      "└ @ Plots C:\\Users\\liyux\\.julia\\packages\\Plots\\FKcum\\src\\utils.jl:108\n",
      "┌ Warning: Indices Base.OneTo(1) of attribute `linecolor` does not match data indices 1:3654.\n",
      "└ @ Plots C:\\Users\\liyux\\.julia\\packages\\Plots\\FKcum\\src\\utils.jl:108\n",
      "┌ Warning: Indices Base.OneTo(1) of attribute `fillcolor` does not match data indices 1:3654.\n",
      "└ @ Plots C:\\Users\\liyux\\.julia\\packages\\Plots\\FKcum\\src\\utils.jl:108\n",
      "┌ Warning: Indices Base.OneTo(1) of attribute `markercolor` does not match data indices 1:3654.\n",
      "└ @ Plots C:\\Users\\liyux\\.julia\\packages\\Plots\\FKcum\\src\\utils.jl:108\n",
      "┌ Warning: Indices Base.OneTo(1) of attribute `seriescolor` does not match data indices 1:3654.\n",
      "└ @ Plots C:\\Users\\liyux\\.julia\\packages\\Plots\\FKcum\\src\\utils.jl:108\n",
      "┌ Warning: Indices Base.OneTo(1) of attribute `linecolor` does not match data indices 1:3654.\n",
      "└ @ Plots C:\\Users\\liyux\\.julia\\packages\\Plots\\FKcum\\src\\utils.jl:108\n",
      "┌ Warning: Indices Base.OneTo(1) of attribute `fillcolor` does not match data indices 1:3654.\n",
      "└ @ Plots C:\\Users\\liyux\\.julia\\packages\\Plots\\FKcum\\src\\utils.jl:108\n",
      "┌ Warning: Indices Base.OneTo(1) of attribute `markercolor` does not match data indices 1:3654.\n",
      "└ @ Plots C:\\Users\\liyux\\.julia\\packages\\Plots\\FKcum\\src\\utils.jl:108\n",
      "┌ Warning: Indices Base.OneTo(1) of attribute `seriescolor` does not match data indices 1:3654.\n",
      "└ @ Plots C:\\Users\\liyux\\.julia\\packages\\Plots\\FKcum\\src\\utils.jl:108\n",
      "┌ Warning: Indices Base.OneTo(1) of attribute `linecolor` does not match data indices 1:3654.\n",
      "└ @ Plots C:\\Users\\liyux\\.julia\\packages\\Plots\\FKcum\\src\\utils.jl:108\n",
      "┌ Warning: Indices Base.OneTo(1) of attribute `fillcolor` does not match data indices 1:3654.\n",
      "└ @ Plots C:\\Users\\liyux\\.julia\\packages\\Plots\\FKcum\\src\\utils.jl:108\n",
      "┌ Warning: Indices Base.OneTo(1) of attribute `markercolor` does not match data indices 1:3654.\n",
      "└ @ Plots C:\\Users\\liyux\\.julia\\packages\\Plots\\FKcum\\src\\utils.jl:108\n",
      "┌ Warning: Indices Base.OneTo(1) of attribute `seriescolor` does not match data indices 1:3654.\n",
      "└ @ Plots C:\\Users\\liyux\\.julia\\packages\\Plots\\FKcum\\src\\utils.jl:108\n",
      "┌ Warning: Indices Base.OneTo(1) of attribute `linecolor` does not match data indices 1:3654.\n",
      "└ @ Plots C:\\Users\\liyux\\.julia\\packages\\Plots\\FKcum\\src\\utils.jl:108\n",
      "┌ Warning: Indices Base.OneTo(1) of attribute `fillcolor` does not match data indices 1:3654.\n",
      "└ @ Plots C:\\Users\\liyux\\.julia\\packages\\Plots\\FKcum\\src\\utils.jl:108\n",
      "┌ Warning: Indices Base.OneTo(1) of attribute `markercolor` does not match data indices 1:3654.\n",
      "└ @ Plots C:\\Users\\liyux\\.julia\\packages\\Plots\\FKcum\\src\\utils.jl:108\n"
     ]
    },
    {
     "name": "stderr",
     "output_type": "stream",
     "text": [
      "┌ Warning: Indices Base.OneTo(1) of attribute `seriescolor` does not match data indices 1:3654.\n",
      "└ @ Plots C:\\Users\\liyux\\.julia\\packages\\Plots\\FKcum\\src\\utils.jl:108\n",
      "┌ Warning: Indices Base.OneTo(1) of attribute `linecolor` does not match data indices 1:3654.\n",
      "└ @ Plots C:\\Users\\liyux\\.julia\\packages\\Plots\\FKcum\\src\\utils.jl:108\n",
      "┌ Warning: Indices Base.OneTo(1) of attribute `fillcolor` does not match data indices 1:3654.\n",
      "└ @ Plots C:\\Users\\liyux\\.julia\\packages\\Plots\\FKcum\\src\\utils.jl:108\n",
      "┌ Warning: Indices Base.OneTo(1) of attribute `markercolor` does not match data indices 1:3654.\n",
      "└ @ Plots C:\\Users\\liyux\\.julia\\packages\\Plots\\FKcum\\src\\utils.jl:108\n",
      "┌ Warning: Indices Base.OneTo(1) of attribute `seriescolor` does not match data indices 1:3654.\n",
      "└ @ Plots C:\\Users\\liyux\\.julia\\packages\\Plots\\FKcum\\src\\utils.jl:108\n",
      "┌ Warning: Indices Base.OneTo(1) of attribute `linecolor` does not match data indices 1:3654.\n",
      "└ @ Plots C:\\Users\\liyux\\.julia\\packages\\Plots\\FKcum\\src\\utils.jl:108\n",
      "┌ Warning: Indices Base.OneTo(1) of attribute `fillcolor` does not match data indices 1:3654.\n",
      "└ @ Plots C:\\Users\\liyux\\.julia\\packages\\Plots\\FKcum\\src\\utils.jl:108\n",
      "┌ Warning: Indices Base.OneTo(1) of attribute `markercolor` does not match data indices 1:3654.\n",
      "└ @ Plots C:\\Users\\liyux\\.julia\\packages\\Plots\\FKcum\\src\\utils.jl:108\n",
      "┌ Warning: Indices Base.OneTo(1) of attribute `seriescolor` does not match data indices 1:3654.\n",
      "└ @ Plots C:\\Users\\liyux\\.julia\\packages\\Plots\\FKcum\\src\\utils.jl:108\n",
      "┌ Warning: Indices Base.OneTo(1) of attribute `linecolor` does not match data indices 1:3654.\n",
      "└ @ Plots C:\\Users\\liyux\\.julia\\packages\\Plots\\FKcum\\src\\utils.jl:108\n",
      "┌ Warning: Indices Base.OneTo(1) of attribute `fillcolor` does not match data indices 1:3654.\n",
      "└ @ Plots C:\\Users\\liyux\\.julia\\packages\\Plots\\FKcum\\src\\utils.jl:108\n",
      "┌ Warning: Indices Base.OneTo(1) of attribute `markercolor` does not match data indices 1:3654.\n",
      "└ @ Plots C:\\Users\\liyux\\.julia\\packages\\Plots\\FKcum\\src\\utils.jl:108\n",
      "┌ Warning: Indices Base.OneTo(1) of attribute `seriescolor` does not match data indices 1:3654.\n",
      "└ @ Plots C:\\Users\\liyux\\.julia\\packages\\Plots\\FKcum\\src\\utils.jl:108\n",
      "┌ Warning: Indices Base.OneTo(1) of attribute `linecolor` does not match data indices 1:3654.\n",
      "└ @ Plots C:\\Users\\liyux\\.julia\\packages\\Plots\\FKcum\\src\\utils.jl:108\n",
      "┌ Warning: Indices Base.OneTo(1) of attribute `fillcolor` does not match data indices 1:3654.\n",
      "└ @ Plots C:\\Users\\liyux\\.julia\\packages\\Plots\\FKcum\\src\\utils.jl:108\n",
      "┌ Warning: Indices Base.OneTo(1) of attribute `markercolor` does not match data indices 1:3654.\n",
      "└ @ Plots C:\\Users\\liyux\\.julia\\packages\\Plots\\FKcum\\src\\utils.jl:108\n",
      "┌ Warning: Indices Base.OneTo(1) of attribute `seriescolor` does not match data indices 1:3654.\n",
      "└ @ Plots C:\\Users\\liyux\\.julia\\packages\\Plots\\FKcum\\src\\utils.jl:108\n",
      "┌ Warning: Indices Base.OneTo(1) of attribute `linecolor` does not match data indices 1:3654.\n",
      "└ @ Plots C:\\Users\\liyux\\.julia\\packages\\Plots\\FKcum\\src\\utils.jl:108\n",
      "┌ Warning: Indices Base.OneTo(1) of attribute `fillcolor` does not match data indices 1:3654.\n",
      "└ @ Plots C:\\Users\\liyux\\.julia\\packages\\Plots\\FKcum\\src\\utils.jl:108\n",
      "┌ Warning: Indices Base.OneTo(1) of attribute `markercolor` does not match data indices 1:3654.\n",
      "└ @ Plots C:\\Users\\liyux\\.julia\\packages\\Plots\\FKcum\\src\\utils.jl:108\n",
      "┌ Warning: Indices Base.OneTo(1) of attribute `seriescolor` does not match data indices 1:3654.\n",
      "└ @ Plots C:\\Users\\liyux\\.julia\\packages\\Plots\\FKcum\\src\\utils.jl:108\n",
      "┌ Warning: Indices Base.OneTo(1) of attribute `linecolor` does not match data indices 1:3654.\n",
      "└ @ Plots C:\\Users\\liyux\\.julia\\packages\\Plots\\FKcum\\src\\utils.jl:108\n",
      "┌ Warning: Indices Base.OneTo(1) of attribute `fillcolor` does not match data indices 1:3654.\n",
      "└ @ Plots C:\\Users\\liyux\\.julia\\packages\\Plots\\FKcum\\src\\utils.jl:108\n",
      "┌ Warning: Indices Base.OneTo(1) of attribute `markercolor` does not match data indices 1:3654.\n",
      "└ @ Plots C:\\Users\\liyux\\.julia\\packages\\Plots\\FKcum\\src\\utils.jl:108\n",
      "┌ Warning: Indices Base.OneTo(1) of attribute `seriescolor` does not match data indices 1:3654.\n",
      "└ @ Plots C:\\Users\\liyux\\.julia\\packages\\Plots\\FKcum\\src\\utils.jl:108\n",
      "┌ Warning: Indices Base.OneTo(1) of attribute `linecolor` does not match data indices 1:3654.\n",
      "└ @ Plots C:\\Users\\liyux\\.julia\\packages\\Plots\\FKcum\\src\\utils.jl:108\n",
      "┌ Warning: Indices Base.OneTo(1) of attribute `fillcolor` does not match data indices 1:3654.\n",
      "└ @ Plots C:\\Users\\liyux\\.julia\\packages\\Plots\\FKcum\\src\\utils.jl:108\n",
      "┌ Warning: Indices Base.OneTo(1) of attribute `markercolor` does not match data indices 1:3654.\n",
      "└ @ Plots C:\\Users\\liyux\\.julia\\packages\\Plots\\FKcum\\src\\utils.jl:108\n",
      "┌ Warning: Indices Base.OneTo(1) of attribute `seriescolor` does not match data indices 1:3654.\n",
      "└ @ Plots C:\\Users\\liyux\\.julia\\packages\\Plots\\FKcum\\src\\utils.jl:108\n",
      "┌ Warning: Indices Base.OneTo(1) of attribute `linecolor` does not match data indices 1:3654.\n",
      "└ @ Plots C:\\Users\\liyux\\.julia\\packages\\Plots\\FKcum\\src\\utils.jl:108\n",
      "┌ Warning: Indices Base.OneTo(1) of attribute `fillcolor` does not match data indices 1:3654.\n",
      "└ @ Plots C:\\Users\\liyux\\.julia\\packages\\Plots\\FKcum\\src\\utils.jl:108\n",
      "┌ Warning: Indices Base.OneTo(1) of attribute `markercolor` does not match data indices 1:3654.\n",
      "└ @ Plots C:\\Users\\liyux\\.julia\\packages\\Plots\\FKcum\\src\\utils.jl:108\n",
      "┌ Warning: Indices Base.OneTo(1) of attribute `seriescolor` does not match data indices 1:3654.\n",
      "└ @ Plots C:\\Users\\liyux\\.julia\\packages\\Plots\\FKcum\\src\\utils.jl:108\n",
      "┌ Warning: Indices Base.OneTo(1) of attribute `linecolor` does not match data indices 1:3654.\n",
      "└ @ Plots C:\\Users\\liyux\\.julia\\packages\\Plots\\FKcum\\src\\utils.jl:108\n",
      "┌ Warning: Indices Base.OneTo(1) of attribute `fillcolor` does not match data indices 1:3654.\n",
      "└ @ Plots C:\\Users\\liyux\\.julia\\packages\\Plots\\FKcum\\src\\utils.jl:108\n",
      "┌ Warning: Indices Base.OneTo(1) of attribute `markercolor` does not match data indices 1:3654.\n",
      "└ @ Plots C:\\Users\\liyux\\.julia\\packages\\Plots\\FKcum\\src\\utils.jl:108\n",
      "┌ Warning: Indices Base.OneTo(1) of attribute `seriescolor` does not match data indices 1:3654.\n",
      "└ @ Plots C:\\Users\\liyux\\.julia\\packages\\Plots\\FKcum\\src\\utils.jl:108\n",
      "┌ Warning: Indices Base.OneTo(1) of attribute `linecolor` does not match data indices 1:3654.\n",
      "└ @ Plots C:\\Users\\liyux\\.julia\\packages\\Plots\\FKcum\\src\\utils.jl:108\n",
      "┌ Warning: Indices Base.OneTo(1) of attribute `fillcolor` does not match data indices 1:3654.\n",
      "└ @ Plots C:\\Users\\liyux\\.julia\\packages\\Plots\\FKcum\\src\\utils.jl:108\n",
      "┌ Warning: Indices Base.OneTo(1) of attribute `markercolor` does not match data indices 1:3654.\n",
      "└ @ Plots C:\\Users\\liyux\\.julia\\packages\\Plots\\FKcum\\src\\utils.jl:108\n",
      "┌ Warning: Indices Base.OneTo(1) of attribute `seriescolor` does not match data indices 1:3654.\n",
      "└ @ Plots C:\\Users\\liyux\\.julia\\packages\\Plots\\FKcum\\src\\utils.jl:108\n",
      "┌ Warning: Indices Base.OneTo(1) of attribute `linecolor` does not match data indices 1:3654.\n",
      "└ @ Plots C:\\Users\\liyux\\.julia\\packages\\Plots\\FKcum\\src\\utils.jl:108\n",
      "┌ Warning: Indices Base.OneTo(1) of attribute `fillcolor` does not match data indices 1:3654.\n",
      "└ @ Plots C:\\Users\\liyux\\.julia\\packages\\Plots\\FKcum\\src\\utils.jl:108\n",
      "┌ Warning: Indices Base.OneTo(1) of attribute `markercolor` does not match data indices 1:3654.\n",
      "└ @ Plots C:\\Users\\liyux\\.julia\\packages\\Plots\\FKcum\\src\\utils.jl:108\n",
      "┌ Warning: Indices Base.OneTo(1) of attribute `seriescolor` does not match data indices 1:3654.\n",
      "└ @ Plots C:\\Users\\liyux\\.julia\\packages\\Plots\\FKcum\\src\\utils.jl:108\n",
      "┌ Warning: Indices Base.OneTo(1) of attribute `linecolor` does not match data indices 1:3654.\n",
      "└ @ Plots C:\\Users\\liyux\\.julia\\packages\\Plots\\FKcum\\src\\utils.jl:108\n",
      "┌ Warning: Indices Base.OneTo(1) of attribute `fillcolor` does not match data indices 1:3654.\n",
      "└ @ Plots C:\\Users\\liyux\\.julia\\packages\\Plots\\FKcum\\src\\utils.jl:108\n",
      "┌ Warning: Indices Base.OneTo(1) of attribute `markercolor` does not match data indices 1:3654.\n",
      "└ @ Plots C:\\Users\\liyux\\.julia\\packages\\Plots\\FKcum\\src\\utils.jl:108\n",
      "┌ Warning: Indices Base.OneTo(1) of attribute `seriescolor` does not match data indices 1:3654.\n",
      "└ @ Plots C:\\Users\\liyux\\.julia\\packages\\Plots\\FKcum\\src\\utils.jl:108\n",
      "┌ Warning: Indices Base.OneTo(1) of attribute `linecolor` does not match data indices 1:3654.\n",
      "└ @ Plots C:\\Users\\liyux\\.julia\\packages\\Plots\\FKcum\\src\\utils.jl:108\n",
      "┌ Warning: Indices Base.OneTo(1) of attribute `fillcolor` does not match data indices 1:3654.\n",
      "└ @ Plots C:\\Users\\liyux\\.julia\\packages\\Plots\\FKcum\\src\\utils.jl:108\n",
      "┌ Warning: Indices Base.OneTo(1) of attribute `markercolor` does not match data indices 1:3654.\n",
      "└ @ Plots C:\\Users\\liyux\\.julia\\packages\\Plots\\FKcum\\src\\utils.jl:108\n"
     ]
    },
    {
     "name": "stderr",
     "output_type": "stream",
     "text": [
      "┌ Warning: Indices Base.OneTo(1) of attribute `seriescolor` does not match data indices 1:3654.\n",
      "└ @ Plots C:\\Users\\liyux\\.julia\\packages\\Plots\\FKcum\\src\\utils.jl:108\n",
      "┌ Warning: Indices Base.OneTo(1) of attribute `linecolor` does not match data indices 1:3654.\n",
      "└ @ Plots C:\\Users\\liyux\\.julia\\packages\\Plots\\FKcum\\src\\utils.jl:108\n",
      "┌ Warning: Indices Base.OneTo(1) of attribute `fillcolor` does not match data indices 1:3654.\n",
      "└ @ Plots C:\\Users\\liyux\\.julia\\packages\\Plots\\FKcum\\src\\utils.jl:108\n",
      "┌ Warning: Indices Base.OneTo(1) of attribute `markercolor` does not match data indices 1:3654.\n",
      "└ @ Plots C:\\Users\\liyux\\.julia\\packages\\Plots\\FKcum\\src\\utils.jl:108\n",
      "┌ Warning: Indices Base.OneTo(1) of attribute `seriescolor` does not match data indices 1:3654.\n",
      "└ @ Plots C:\\Users\\liyux\\.julia\\packages\\Plots\\FKcum\\src\\utils.jl:108\n",
      "┌ Warning: Indices Base.OneTo(1) of attribute `linecolor` does not match data indices 1:3654.\n",
      "└ @ Plots C:\\Users\\liyux\\.julia\\packages\\Plots\\FKcum\\src\\utils.jl:108\n",
      "┌ Warning: Indices Base.OneTo(1) of attribute `fillcolor` does not match data indices 1:3654.\n",
      "└ @ Plots C:\\Users\\liyux\\.julia\\packages\\Plots\\FKcum\\src\\utils.jl:108\n",
      "┌ Warning: Indices Base.OneTo(1) of attribute `markercolor` does not match data indices 1:3654.\n",
      "└ @ Plots C:\\Users\\liyux\\.julia\\packages\\Plots\\FKcum\\src\\utils.jl:108\n",
      "┌ Warning: Indices Base.OneTo(1) of attribute `seriescolor` does not match data indices 1:3654.\n",
      "└ @ Plots C:\\Users\\liyux\\.julia\\packages\\Plots\\FKcum\\src\\utils.jl:108\n",
      "┌ Warning: Indices Base.OneTo(1) of attribute `linecolor` does not match data indices 1:3654.\n",
      "└ @ Plots C:\\Users\\liyux\\.julia\\packages\\Plots\\FKcum\\src\\utils.jl:108\n",
      "┌ Warning: Indices Base.OneTo(1) of attribute `fillcolor` does not match data indices 1:3654.\n",
      "└ @ Plots C:\\Users\\liyux\\.julia\\packages\\Plots\\FKcum\\src\\utils.jl:108\n",
      "┌ Warning: Indices Base.OneTo(1) of attribute `markercolor` does not match data indices 1:3654.\n",
      "└ @ Plots C:\\Users\\liyux\\.julia\\packages\\Plots\\FKcum\\src\\utils.jl:108\n",
      "┌ Warning: Indices Base.OneTo(1) of attribute `seriescolor` does not match data indices 1:3654.\n",
      "└ @ Plots C:\\Users\\liyux\\.julia\\packages\\Plots\\FKcum\\src\\utils.jl:108\n",
      "┌ Warning: Indices Base.OneTo(1) of attribute `linecolor` does not match data indices 1:3654.\n",
      "└ @ Plots C:\\Users\\liyux\\.julia\\packages\\Plots\\FKcum\\src\\utils.jl:108\n",
      "┌ Warning: Indices Base.OneTo(1) of attribute `fillcolor` does not match data indices 1:3654.\n",
      "└ @ Plots C:\\Users\\liyux\\.julia\\packages\\Plots\\FKcum\\src\\utils.jl:108\n",
      "┌ Warning: Indices Base.OneTo(1) of attribute `markercolor` does not match data indices 1:3654.\n",
      "└ @ Plots C:\\Users\\liyux\\.julia\\packages\\Plots\\FKcum\\src\\utils.jl:108\n",
      "┌ Warning: Indices Base.OneTo(1) of attribute `seriescolor` does not match data indices 1:3654.\n",
      "└ @ Plots C:\\Users\\liyux\\.julia\\packages\\Plots\\FKcum\\src\\utils.jl:108\n",
      "┌ Warning: Indices Base.OneTo(1) of attribute `linecolor` does not match data indices 1:3654.\n",
      "└ @ Plots C:\\Users\\liyux\\.julia\\packages\\Plots\\FKcum\\src\\utils.jl:108\n",
      "┌ Warning: Indices Base.OneTo(1) of attribute `fillcolor` does not match data indices 1:3654.\n",
      "└ @ Plots C:\\Users\\liyux\\.julia\\packages\\Plots\\FKcum\\src\\utils.jl:108\n",
      "┌ Warning: Indices Base.OneTo(1) of attribute `markercolor` does not match data indices 1:3654.\n",
      "└ @ Plots C:\\Users\\liyux\\.julia\\packages\\Plots\\FKcum\\src\\utils.jl:108\n",
      "┌ Warning: Indices Base.OneTo(1) of attribute `seriescolor` does not match data indices 1:3654.\n",
      "└ @ Plots C:\\Users\\liyux\\.julia\\packages\\Plots\\FKcum\\src\\utils.jl:108\n",
      "┌ Warning: Indices Base.OneTo(1) of attribute `linecolor` does not match data indices 1:3654.\n",
      "└ @ Plots C:\\Users\\liyux\\.julia\\packages\\Plots\\FKcum\\src\\utils.jl:108\n",
      "┌ Warning: Indices Base.OneTo(1) of attribute `fillcolor` does not match data indices 1:3654.\n",
      "└ @ Plots C:\\Users\\liyux\\.julia\\packages\\Plots\\FKcum\\src\\utils.jl:108\n",
      "┌ Warning: Indices Base.OneTo(1) of attribute `markercolor` does not match data indices 1:3654.\n",
      "└ @ Plots C:\\Users\\liyux\\.julia\\packages\\Plots\\FKcum\\src\\utils.jl:108\n",
      "┌ Warning: Indices Base.OneTo(1) of attribute `seriescolor` does not match data indices 1:3654.\n",
      "└ @ Plots C:\\Users\\liyux\\.julia\\packages\\Plots\\FKcum\\src\\utils.jl:108\n",
      "┌ Warning: Indices Base.OneTo(1) of attribute `linecolor` does not match data indices 1:3654.\n",
      "└ @ Plots C:\\Users\\liyux\\.julia\\packages\\Plots\\FKcum\\src\\utils.jl:108\n",
      "┌ Warning: Indices Base.OneTo(1) of attribute `fillcolor` does not match data indices 1:3654.\n",
      "└ @ Plots C:\\Users\\liyux\\.julia\\packages\\Plots\\FKcum\\src\\utils.jl:108\n",
      "┌ Warning: Indices Base.OneTo(1) of attribute `markercolor` does not match data indices 1:3654.\n",
      "└ @ Plots C:\\Users\\liyux\\.julia\\packages\\Plots\\FKcum\\src\\utils.jl:108\n",
      "┌ Warning: Indices Base.OneTo(1) of attribute `seriescolor` does not match data indices 1:3654.\n",
      "└ @ Plots C:\\Users\\liyux\\.julia\\packages\\Plots\\FKcum\\src\\utils.jl:108\n",
      "┌ Warning: Indices Base.OneTo(1) of attribute `linecolor` does not match data indices 1:3654.\n",
      "└ @ Plots C:\\Users\\liyux\\.julia\\packages\\Plots\\FKcum\\src\\utils.jl:108\n",
      "┌ Warning: Indices Base.OneTo(1) of attribute `fillcolor` does not match data indices 1:3654.\n",
      "└ @ Plots C:\\Users\\liyux\\.julia\\packages\\Plots\\FKcum\\src\\utils.jl:108\n",
      "┌ Warning: Indices Base.OneTo(1) of attribute `markercolor` does not match data indices 1:3654.\n",
      "└ @ Plots C:\\Users\\liyux\\.julia\\packages\\Plots\\FKcum\\src\\utils.jl:108\n",
      "┌ Warning: Indices Base.OneTo(1) of attribute `seriescolor` does not match data indices 1:3654.\n",
      "└ @ Plots C:\\Users\\liyux\\.julia\\packages\\Plots\\FKcum\\src\\utils.jl:108\n",
      "┌ Warning: Indices Base.OneTo(1) of attribute `linecolor` does not match data indices 1:3654.\n",
      "└ @ Plots C:\\Users\\liyux\\.julia\\packages\\Plots\\FKcum\\src\\utils.jl:108\n",
      "┌ Warning: Indices Base.OneTo(1) of attribute `fillcolor` does not match data indices 1:3654.\n",
      "└ @ Plots C:\\Users\\liyux\\.julia\\packages\\Plots\\FKcum\\src\\utils.jl:108\n",
      "┌ Warning: Indices Base.OneTo(1) of attribute `markercolor` does not match data indices 1:3654.\n",
      "└ @ Plots C:\\Users\\liyux\\.julia\\packages\\Plots\\FKcum\\src\\utils.jl:108\n",
      "┌ Warning: Indices Base.OneTo(1) of attribute `seriescolor` does not match data indices 1:3654.\n",
      "└ @ Plots C:\\Users\\liyux\\.julia\\packages\\Plots\\FKcum\\src\\utils.jl:108\n",
      "┌ Warning: Indices Base.OneTo(1) of attribute `linecolor` does not match data indices 1:3654.\n",
      "└ @ Plots C:\\Users\\liyux\\.julia\\packages\\Plots\\FKcum\\src\\utils.jl:108\n",
      "┌ Warning: Indices Base.OneTo(1) of attribute `fillcolor` does not match data indices 1:3654.\n",
      "└ @ Plots C:\\Users\\liyux\\.julia\\packages\\Plots\\FKcum\\src\\utils.jl:108\n",
      "┌ Warning: Indices Base.OneTo(1) of attribute `markercolor` does not match data indices 1:3654.\n",
      "└ @ Plots C:\\Users\\liyux\\.julia\\packages\\Plots\\FKcum\\src\\utils.jl:108\n",
      "┌ Warning: Indices Base.OneTo(1) of attribute `seriescolor` does not match data indices 1:3654.\n",
      "└ @ Plots C:\\Users\\liyux\\.julia\\packages\\Plots\\FKcum\\src\\utils.jl:108\n",
      "┌ Warning: Indices Base.OneTo(1) of attribute `linecolor` does not match data indices 1:3654.\n",
      "└ @ Plots C:\\Users\\liyux\\.julia\\packages\\Plots\\FKcum\\src\\utils.jl:108\n",
      "┌ Warning: Indices Base.OneTo(1) of attribute `fillcolor` does not match data indices 1:3654.\n",
      "└ @ Plots C:\\Users\\liyux\\.julia\\packages\\Plots\\FKcum\\src\\utils.jl:108\n",
      "┌ Warning: Indices Base.OneTo(1) of attribute `markercolor` does not match data indices 1:3654.\n",
      "└ @ Plots C:\\Users\\liyux\\.julia\\packages\\Plots\\FKcum\\src\\utils.jl:108\n",
      "┌ Warning: Indices Base.OneTo(1) of attribute `seriescolor` does not match data indices 1:3654.\n",
      "└ @ Plots C:\\Users\\liyux\\.julia\\packages\\Plots\\FKcum\\src\\utils.jl:108\n",
      "┌ Warning: Indices Base.OneTo(1) of attribute `linecolor` does not match data indices 1:3654.\n",
      "└ @ Plots C:\\Users\\liyux\\.julia\\packages\\Plots\\FKcum\\src\\utils.jl:108\n",
      "┌ Warning: Indices Base.OneTo(1) of attribute `fillcolor` does not match data indices 1:3654.\n",
      "└ @ Plots C:\\Users\\liyux\\.julia\\packages\\Plots\\FKcum\\src\\utils.jl:108\n",
      "┌ Warning: Indices Base.OneTo(1) of attribute `markercolor` does not match data indices 1:3654.\n",
      "└ @ Plots C:\\Users\\liyux\\.julia\\packages\\Plots\\FKcum\\src\\utils.jl:108\n",
      "┌ Warning: Indices Base.OneTo(1) of attribute `seriescolor` does not match data indices 1:3654.\n",
      "└ @ Plots C:\\Users\\liyux\\.julia\\packages\\Plots\\FKcum\\src\\utils.jl:108\n",
      "┌ Warning: Indices Base.OneTo(1) of attribute `linecolor` does not match data indices 1:3654.\n",
      "└ @ Plots C:\\Users\\liyux\\.julia\\packages\\Plots\\FKcum\\src\\utils.jl:108\n",
      "┌ Warning: Indices Base.OneTo(1) of attribute `fillcolor` does not match data indices 1:3654.\n",
      "└ @ Plots C:\\Users\\liyux\\.julia\\packages\\Plots\\FKcum\\src\\utils.jl:108\n",
      "┌ Warning: Indices Base.OneTo(1) of attribute `markercolor` does not match data indices 1:3654.\n",
      "└ @ Plots C:\\Users\\liyux\\.julia\\packages\\Plots\\FKcum\\src\\utils.jl:108\n"
     ]
    },
    {
     "name": "stderr",
     "output_type": "stream",
     "text": [
      "┌ Warning: Indices Base.OneTo(1) of attribute `seriescolor` does not match data indices 1:3654.\n",
      "└ @ Plots C:\\Users\\liyux\\.julia\\packages\\Plots\\FKcum\\src\\utils.jl:108\n",
      "┌ Warning: Indices Base.OneTo(1) of attribute `linecolor` does not match data indices 1:3654.\n",
      "└ @ Plots C:\\Users\\liyux\\.julia\\packages\\Plots\\FKcum\\src\\utils.jl:108\n",
      "┌ Warning: Indices Base.OneTo(1) of attribute `fillcolor` does not match data indices 1:3654.\n",
      "└ @ Plots C:\\Users\\liyux\\.julia\\packages\\Plots\\FKcum\\src\\utils.jl:108\n",
      "┌ Warning: Indices Base.OneTo(1) of attribute `markercolor` does not match data indices 1:3654.\n",
      "└ @ Plots C:\\Users\\liyux\\.julia\\packages\\Plots\\FKcum\\src\\utils.jl:108\n",
      "┌ Warning: Indices Base.OneTo(1) of attribute `seriescolor` does not match data indices 1:3654.\n",
      "└ @ Plots C:\\Users\\liyux\\.julia\\packages\\Plots\\FKcum\\src\\utils.jl:108\n",
      "┌ Warning: Indices Base.OneTo(1) of attribute `linecolor` does not match data indices 1:3654.\n",
      "└ @ Plots C:\\Users\\liyux\\.julia\\packages\\Plots\\FKcum\\src\\utils.jl:108\n",
      "┌ Warning: Indices Base.OneTo(1) of attribute `fillcolor` does not match data indices 1:3654.\n",
      "└ @ Plots C:\\Users\\liyux\\.julia\\packages\\Plots\\FKcum\\src\\utils.jl:108\n",
      "┌ Warning: Indices Base.OneTo(1) of attribute `markercolor` does not match data indices 1:3654.\n",
      "└ @ Plots C:\\Users\\liyux\\.julia\\packages\\Plots\\FKcum\\src\\utils.jl:108\n",
      "┌ Warning: Indices Base.OneTo(1) of attribute `seriescolor` does not match data indices 1:3654.\n",
      "└ @ Plots C:\\Users\\liyux\\.julia\\packages\\Plots\\FKcum\\src\\utils.jl:108\n",
      "┌ Warning: Indices Base.OneTo(1) of attribute `linecolor` does not match data indices 1:3654.\n",
      "└ @ Plots C:\\Users\\liyux\\.julia\\packages\\Plots\\FKcum\\src\\utils.jl:108\n",
      "┌ Warning: Indices Base.OneTo(1) of attribute `fillcolor` does not match data indices 1:3654.\n",
      "└ @ Plots C:\\Users\\liyux\\.julia\\packages\\Plots\\FKcum\\src\\utils.jl:108\n",
      "┌ Warning: Indices Base.OneTo(1) of attribute `markercolor` does not match data indices 1:3654.\n",
      "└ @ Plots C:\\Users\\liyux\\.julia\\packages\\Plots\\FKcum\\src\\utils.jl:108\n",
      "┌ Warning: Indices Base.OneTo(1) of attribute `seriescolor` does not match data indices 1:3654.\n",
      "└ @ Plots C:\\Users\\liyux\\.julia\\packages\\Plots\\FKcum\\src\\utils.jl:108\n",
      "┌ Warning: Indices Base.OneTo(1) of attribute `linecolor` does not match data indices 1:3654.\n",
      "└ @ Plots C:\\Users\\liyux\\.julia\\packages\\Plots\\FKcum\\src\\utils.jl:108\n",
      "┌ Warning: Indices Base.OneTo(1) of attribute `fillcolor` does not match data indices 1:3654.\n",
      "└ @ Plots C:\\Users\\liyux\\.julia\\packages\\Plots\\FKcum\\src\\utils.jl:108\n",
      "┌ Warning: Indices Base.OneTo(1) of attribute `markercolor` does not match data indices 1:3654.\n",
      "└ @ Plots C:\\Users\\liyux\\.julia\\packages\\Plots\\FKcum\\src\\utils.jl:108\n",
      "┌ Warning: Indices Base.OneTo(1) of attribute `seriescolor` does not match data indices 1:3654.\n",
      "└ @ Plots C:\\Users\\liyux\\.julia\\packages\\Plots\\FKcum\\src\\utils.jl:108\n",
      "┌ Warning: Indices Base.OneTo(1) of attribute `linecolor` does not match data indices 1:3654.\n",
      "└ @ Plots C:\\Users\\liyux\\.julia\\packages\\Plots\\FKcum\\src\\utils.jl:108\n",
      "┌ Warning: Indices Base.OneTo(1) of attribute `fillcolor` does not match data indices 1:3654.\n",
      "└ @ Plots C:\\Users\\liyux\\.julia\\packages\\Plots\\FKcum\\src\\utils.jl:108\n",
      "┌ Warning: Indices Base.OneTo(1) of attribute `markercolor` does not match data indices 1:3654.\n",
      "└ @ Plots C:\\Users\\liyux\\.julia\\packages\\Plots\\FKcum\\src\\utils.jl:108\n",
      "┌ Warning: Indices Base.OneTo(1) of attribute `seriescolor` does not match data indices 1:3654.\n",
      "└ @ Plots C:\\Users\\liyux\\.julia\\packages\\Plots\\FKcum\\src\\utils.jl:108\n",
      "┌ Warning: Indices Base.OneTo(1) of attribute `linecolor` does not match data indices 1:3654.\n",
      "└ @ Plots C:\\Users\\liyux\\.julia\\packages\\Plots\\FKcum\\src\\utils.jl:108\n",
      "┌ Warning: Indices Base.OneTo(1) of attribute `fillcolor` does not match data indices 1:3654.\n",
      "└ @ Plots C:\\Users\\liyux\\.julia\\packages\\Plots\\FKcum\\src\\utils.jl:108\n",
      "┌ Warning: Indices Base.OneTo(1) of attribute `markercolor` does not match data indices 1:3654.\n",
      "└ @ Plots C:\\Users\\liyux\\.julia\\packages\\Plots\\FKcum\\src\\utils.jl:108\n",
      "┌ Warning: Indices Base.OneTo(1) of attribute `seriescolor` does not match data indices 1:3654.\n",
      "└ @ Plots C:\\Users\\liyux\\.julia\\packages\\Plots\\FKcum\\src\\utils.jl:108\n",
      "┌ Warning: Indices Base.OneTo(1) of attribute `linecolor` does not match data indices 1:3654.\n",
      "└ @ Plots C:\\Users\\liyux\\.julia\\packages\\Plots\\FKcum\\src\\utils.jl:108\n",
      "┌ Warning: Indices Base.OneTo(1) of attribute `fillcolor` does not match data indices 1:3654.\n",
      "└ @ Plots C:\\Users\\liyux\\.julia\\packages\\Plots\\FKcum\\src\\utils.jl:108\n",
      "┌ Warning: Indices Base.OneTo(1) of attribute `markercolor` does not match data indices 1:3654.\n",
      "└ @ Plots C:\\Users\\liyux\\.julia\\packages\\Plots\\FKcum\\src\\utils.jl:108\n",
      "┌ Warning: Indices Base.OneTo(1) of attribute `seriescolor` does not match data indices 1:3654.\n",
      "└ @ Plots C:\\Users\\liyux\\.julia\\packages\\Plots\\FKcum\\src\\utils.jl:108\n",
      "┌ Warning: Indices Base.OneTo(1) of attribute `linecolor` does not match data indices 1:3654.\n",
      "└ @ Plots C:\\Users\\liyux\\.julia\\packages\\Plots\\FKcum\\src\\utils.jl:108\n",
      "┌ Warning: Indices Base.OneTo(1) of attribute `fillcolor` does not match data indices 1:3654.\n",
      "└ @ Plots C:\\Users\\liyux\\.julia\\packages\\Plots\\FKcum\\src\\utils.jl:108\n",
      "┌ Warning: Indices Base.OneTo(1) of attribute `markercolor` does not match data indices 1:3654.\n",
      "└ @ Plots C:\\Users\\liyux\\.julia\\packages\\Plots\\FKcum\\src\\utils.jl:108\n",
      "┌ Warning: Indices Base.OneTo(1) of attribute `seriescolor` does not match data indices 1:3654.\n",
      "└ @ Plots C:\\Users\\liyux\\.julia\\packages\\Plots\\FKcum\\src\\utils.jl:108\n",
      "┌ Warning: Indices Base.OneTo(1) of attribute `linecolor` does not match data indices 1:3654.\n",
      "└ @ Plots C:\\Users\\liyux\\.julia\\packages\\Plots\\FKcum\\src\\utils.jl:108\n",
      "┌ Warning: Indices Base.OneTo(1) of attribute `fillcolor` does not match data indices 1:3654.\n",
      "└ @ Plots C:\\Users\\liyux\\.julia\\packages\\Plots\\FKcum\\src\\utils.jl:108\n",
      "┌ Warning: Indices Base.OneTo(1) of attribute `markercolor` does not match data indices 1:3654.\n",
      "└ @ Plots C:\\Users\\liyux\\.julia\\packages\\Plots\\FKcum\\src\\utils.jl:108\n",
      "┌ Warning: Indices Base.OneTo(1) of attribute `seriescolor` does not match data indices 1:3654.\n",
      "└ @ Plots C:\\Users\\liyux\\.julia\\packages\\Plots\\FKcum\\src\\utils.jl:108\n",
      "┌ Warning: Indices Base.OneTo(1) of attribute `linecolor` does not match data indices 1:3654.\n",
      "└ @ Plots C:\\Users\\liyux\\.julia\\packages\\Plots\\FKcum\\src\\utils.jl:108\n",
      "┌ Warning: Indices Base.OneTo(1) of attribute `fillcolor` does not match data indices 1:3654.\n",
      "└ @ Plots C:\\Users\\liyux\\.julia\\packages\\Plots\\FKcum\\src\\utils.jl:108\n",
      "┌ Warning: Indices Base.OneTo(1) of attribute `markercolor` does not match data indices 1:3654.\n",
      "└ @ Plots C:\\Users\\liyux\\.julia\\packages\\Plots\\FKcum\\src\\utils.jl:108\n",
      "┌ Warning: Indices Base.OneTo(1) of attribute `seriescolor` does not match data indices 1:3654.\n",
      "└ @ Plots C:\\Users\\liyux\\.julia\\packages\\Plots\\FKcum\\src\\utils.jl:108\n",
      "┌ Warning: Indices Base.OneTo(1) of attribute `linecolor` does not match data indices 1:3654.\n",
      "└ @ Plots C:\\Users\\liyux\\.julia\\packages\\Plots\\FKcum\\src\\utils.jl:108\n",
      "┌ Warning: Indices Base.OneTo(1) of attribute `fillcolor` does not match data indices 1:3654.\n",
      "└ @ Plots C:\\Users\\liyux\\.julia\\packages\\Plots\\FKcum\\src\\utils.jl:108\n",
      "┌ Warning: Indices Base.OneTo(1) of attribute `markercolor` does not match data indices 1:3654.\n",
      "└ @ Plots C:\\Users\\liyux\\.julia\\packages\\Plots\\FKcum\\src\\utils.jl:108\n",
      "┌ Warning: Indices Base.OneTo(1) of attribute `seriescolor` does not match data indices 1:3654.\n",
      "└ @ Plots C:\\Users\\liyux\\.julia\\packages\\Plots\\FKcum\\src\\utils.jl:108\n",
      "┌ Warning: Indices Base.OneTo(1) of attribute `linecolor` does not match data indices 1:3654.\n",
      "└ @ Plots C:\\Users\\liyux\\.julia\\packages\\Plots\\FKcum\\src\\utils.jl:108\n",
      "┌ Warning: Indices Base.OneTo(1) of attribute `fillcolor` does not match data indices 1:3654.\n",
      "└ @ Plots C:\\Users\\liyux\\.julia\\packages\\Plots\\FKcum\\src\\utils.jl:108\n",
      "┌ Warning: Indices Base.OneTo(1) of attribute `markercolor` does not match data indices 1:3654.\n",
      "└ @ Plots C:\\Users\\liyux\\.julia\\packages\\Plots\\FKcum\\src\\utils.jl:108\n",
      "┌ Warning: Indices Base.OneTo(1) of attribute `seriescolor` does not match data indices 1:3654.\n",
      "└ @ Plots C:\\Users\\liyux\\.julia\\packages\\Plots\\FKcum\\src\\utils.jl:108\n",
      "┌ Warning: Indices Base.OneTo(1) of attribute `linecolor` does not match data indices 1:3654.\n",
      "└ @ Plots C:\\Users\\liyux\\.julia\\packages\\Plots\\FKcum\\src\\utils.jl:108\n",
      "┌ Warning: Indices Base.OneTo(1) of attribute `fillcolor` does not match data indices 1:3654.\n",
      "└ @ Plots C:\\Users\\liyux\\.julia\\packages\\Plots\\FKcum\\src\\utils.jl:108\n",
      "┌ Warning: Indices Base.OneTo(1) of attribute `markercolor` does not match data indices 1:3654.\n",
      "└ @ Plots C:\\Users\\liyux\\.julia\\packages\\Plots\\FKcum\\src\\utils.jl:108\n"
     ]
    },
    {
     "name": "stderr",
     "output_type": "stream",
     "text": [
      "┌ Warning: Indices Base.OneTo(1) of attribute `seriescolor` does not match data indices 1:3654.\n",
      "└ @ Plots C:\\Users\\liyux\\.julia\\packages\\Plots\\FKcum\\src\\utils.jl:108\n",
      "┌ Warning: Indices Base.OneTo(1) of attribute `linecolor` does not match data indices 1:3654.\n",
      "└ @ Plots C:\\Users\\liyux\\.julia\\packages\\Plots\\FKcum\\src\\utils.jl:108\n",
      "┌ Warning: Indices Base.OneTo(1) of attribute `fillcolor` does not match data indices 1:3654.\n",
      "└ @ Plots C:\\Users\\liyux\\.julia\\packages\\Plots\\FKcum\\src\\utils.jl:108\n",
      "┌ Warning: Indices Base.OneTo(1) of attribute `markercolor` does not match data indices 1:3654.\n",
      "└ @ Plots C:\\Users\\liyux\\.julia\\packages\\Plots\\FKcum\\src\\utils.jl:108\n",
      "┌ Warning: Indices Base.OneTo(1) of attribute `seriescolor` does not match data indices 1:3654.\n",
      "└ @ Plots C:\\Users\\liyux\\.julia\\packages\\Plots\\FKcum\\src\\utils.jl:108\n",
      "┌ Warning: Indices Base.OneTo(1) of attribute `linecolor` does not match data indices 1:3654.\n",
      "└ @ Plots C:\\Users\\liyux\\.julia\\packages\\Plots\\FKcum\\src\\utils.jl:108\n",
      "┌ Warning: Indices Base.OneTo(1) of attribute `fillcolor` does not match data indices 1:3654.\n",
      "└ @ Plots C:\\Users\\liyux\\.julia\\packages\\Plots\\FKcum\\src\\utils.jl:108\n",
      "┌ Warning: Indices Base.OneTo(1) of attribute `markercolor` does not match data indices 1:3654.\n",
      "└ @ Plots C:\\Users\\liyux\\.julia\\packages\\Plots\\FKcum\\src\\utils.jl:108\n",
      "┌ Warning: Indices Base.OneTo(1) of attribute `seriescolor` does not match data indices 1:3654.\n",
      "└ @ Plots C:\\Users\\liyux\\.julia\\packages\\Plots\\FKcum\\src\\utils.jl:108\n",
      "┌ Warning: Indices Base.OneTo(1) of attribute `linecolor` does not match data indices 1:3654.\n",
      "└ @ Plots C:\\Users\\liyux\\.julia\\packages\\Plots\\FKcum\\src\\utils.jl:108\n",
      "┌ Warning: Indices Base.OneTo(1) of attribute `fillcolor` does not match data indices 1:3654.\n",
      "└ @ Plots C:\\Users\\liyux\\.julia\\packages\\Plots\\FKcum\\src\\utils.jl:108\n",
      "┌ Warning: Indices Base.OneTo(1) of attribute `markercolor` does not match data indices 1:3654.\n",
      "└ @ Plots C:\\Users\\liyux\\.julia\\packages\\Plots\\FKcum\\src\\utils.jl:108\n",
      "┌ Warning: Indices Base.OneTo(1) of attribute `seriescolor` does not match data indices 1:3654.\n",
      "└ @ Plots C:\\Users\\liyux\\.julia\\packages\\Plots\\FKcum\\src\\utils.jl:108\n",
      "┌ Warning: Indices Base.OneTo(1) of attribute `linecolor` does not match data indices 1:3654.\n",
      "└ @ Plots C:\\Users\\liyux\\.julia\\packages\\Plots\\FKcum\\src\\utils.jl:108\n",
      "┌ Warning: Indices Base.OneTo(1) of attribute `fillcolor` does not match data indices 1:3654.\n",
      "└ @ Plots C:\\Users\\liyux\\.julia\\packages\\Plots\\FKcum\\src\\utils.jl:108\n",
      "┌ Warning: Indices Base.OneTo(1) of attribute `markercolor` does not match data indices 1:3654.\n",
      "└ @ Plots C:\\Users\\liyux\\.julia\\packages\\Plots\\FKcum\\src\\utils.jl:108\n",
      "┌ Warning: Indices Base.OneTo(1) of attribute `seriescolor` does not match data indices 1:3654.\n",
      "└ @ Plots C:\\Users\\liyux\\.julia\\packages\\Plots\\FKcum\\src\\utils.jl:108\n",
      "┌ Warning: Indices Base.OneTo(1) of attribute `linecolor` does not match data indices 1:3654.\n",
      "└ @ Plots C:\\Users\\liyux\\.julia\\packages\\Plots\\FKcum\\src\\utils.jl:108\n",
      "┌ Warning: Indices Base.OneTo(1) of attribute `fillcolor` does not match data indices 1:3654.\n",
      "└ @ Plots C:\\Users\\liyux\\.julia\\packages\\Plots\\FKcum\\src\\utils.jl:108\n",
      "┌ Warning: Indices Base.OneTo(1) of attribute `markercolor` does not match data indices 1:3654.\n",
      "└ @ Plots C:\\Users\\liyux\\.julia\\packages\\Plots\\FKcum\\src\\utils.jl:108\n",
      "┌ Warning: Indices Base.OneTo(1) of attribute `seriescolor` does not match data indices 1:3654.\n",
      "└ @ Plots C:\\Users\\liyux\\.julia\\packages\\Plots\\FKcum\\src\\utils.jl:108\n",
      "┌ Warning: Indices Base.OneTo(1) of attribute `linecolor` does not match data indices 1:3654.\n",
      "└ @ Plots C:\\Users\\liyux\\.julia\\packages\\Plots\\FKcum\\src\\utils.jl:108\n",
      "┌ Warning: Indices Base.OneTo(1) of attribute `fillcolor` does not match data indices 1:3654.\n",
      "└ @ Plots C:\\Users\\liyux\\.julia\\packages\\Plots\\FKcum\\src\\utils.jl:108\n",
      "┌ Warning: Indices Base.OneTo(1) of attribute `markercolor` does not match data indices 1:3654.\n",
      "└ @ Plots C:\\Users\\liyux\\.julia\\packages\\Plots\\FKcum\\src\\utils.jl:108\n",
      "┌ Warning: Indices Base.OneTo(1) of attribute `seriescolor` does not match data indices 1:3654.\n",
      "└ @ Plots C:\\Users\\liyux\\.julia\\packages\\Plots\\FKcum\\src\\utils.jl:108\n",
      "┌ Warning: Indices Base.OneTo(1) of attribute `linecolor` does not match data indices 1:3654.\n",
      "└ @ Plots C:\\Users\\liyux\\.julia\\packages\\Plots\\FKcum\\src\\utils.jl:108\n",
      "┌ Warning: Indices Base.OneTo(1) of attribute `fillcolor` does not match data indices 1:3654.\n",
      "└ @ Plots C:\\Users\\liyux\\.julia\\packages\\Plots\\FKcum\\src\\utils.jl:108\n",
      "┌ Warning: Indices Base.OneTo(1) of attribute `markercolor` does not match data indices 1:3654.\n",
      "└ @ Plots C:\\Users\\liyux\\.julia\\packages\\Plots\\FKcum\\src\\utils.jl:108\n",
      "┌ Warning: Indices Base.OneTo(1) of attribute `seriescolor` does not match data indices 1:3654.\n",
      "└ @ Plots C:\\Users\\liyux\\.julia\\packages\\Plots\\FKcum\\src\\utils.jl:108\n",
      "┌ Warning: Indices Base.OneTo(1) of attribute `linecolor` does not match data indices 1:3654.\n",
      "└ @ Plots C:\\Users\\liyux\\.julia\\packages\\Plots\\FKcum\\src\\utils.jl:108\n",
      "┌ Warning: Indices Base.OneTo(1) of attribute `fillcolor` does not match data indices 1:3654.\n",
      "└ @ Plots C:\\Users\\liyux\\.julia\\packages\\Plots\\FKcum\\src\\utils.jl:108\n",
      "┌ Warning: Indices Base.OneTo(1) of attribute `markercolor` does not match data indices 1:3654.\n",
      "└ @ Plots C:\\Users\\liyux\\.julia\\packages\\Plots\\FKcum\\src\\utils.jl:108\n",
      "┌ Warning: Indices Base.OneTo(1) of attribute `seriescolor` does not match data indices 1:3654.\n",
      "└ @ Plots C:\\Users\\liyux\\.julia\\packages\\Plots\\FKcum\\src\\utils.jl:108\n",
      "┌ Warning: Indices Base.OneTo(1) of attribute `linecolor` does not match data indices 1:3654.\n",
      "└ @ Plots C:\\Users\\liyux\\.julia\\packages\\Plots\\FKcum\\src\\utils.jl:108\n",
      "┌ Warning: Indices Base.OneTo(1) of attribute `fillcolor` does not match data indices 1:3654.\n",
      "└ @ Plots C:\\Users\\liyux\\.julia\\packages\\Plots\\FKcum\\src\\utils.jl:108\n",
      "┌ Warning: Indices Base.OneTo(1) of attribute `markercolor` does not match data indices 1:3654.\n",
      "└ @ Plots C:\\Users\\liyux\\.julia\\packages\\Plots\\FKcum\\src\\utils.jl:108\n",
      "┌ Warning: Indices Base.OneTo(1) of attribute `seriescolor` does not match data indices 1:3654.\n",
      "└ @ Plots C:\\Users\\liyux\\.julia\\packages\\Plots\\FKcum\\src\\utils.jl:108\n",
      "┌ Warning: Indices Base.OneTo(1) of attribute `linecolor` does not match data indices 1:3654.\n",
      "└ @ Plots C:\\Users\\liyux\\.julia\\packages\\Plots\\FKcum\\src\\utils.jl:108\n",
      "┌ Warning: Indices Base.OneTo(1) of attribute `fillcolor` does not match data indices 1:3654.\n",
      "└ @ Plots C:\\Users\\liyux\\.julia\\packages\\Plots\\FKcum\\src\\utils.jl:108\n",
      "┌ Warning: Indices Base.OneTo(1) of attribute `markercolor` does not match data indices 1:3654.\n",
      "└ @ Plots C:\\Users\\liyux\\.julia\\packages\\Plots\\FKcum\\src\\utils.jl:108\n",
      "┌ Warning: Indices Base.OneTo(1) of attribute `seriescolor` does not match data indices 1:3654.\n",
      "└ @ Plots C:\\Users\\liyux\\.julia\\packages\\Plots\\FKcum\\src\\utils.jl:108\n",
      "┌ Warning: Indices Base.OneTo(1) of attribute `linecolor` does not match data indices 1:3654.\n",
      "└ @ Plots C:\\Users\\liyux\\.julia\\packages\\Plots\\FKcum\\src\\utils.jl:108\n",
      "┌ Warning: Indices Base.OneTo(1) of attribute `fillcolor` does not match data indices 1:3654.\n",
      "└ @ Plots C:\\Users\\liyux\\.julia\\packages\\Plots\\FKcum\\src\\utils.jl:108\n",
      "┌ Warning: Indices Base.OneTo(1) of attribute `markercolor` does not match data indices 1:3654.\n",
      "└ @ Plots C:\\Users\\liyux\\.julia\\packages\\Plots\\FKcum\\src\\utils.jl:108\n",
      "┌ Warning: Indices Base.OneTo(1) of attribute `seriescolor` does not match data indices 1:3654.\n",
      "└ @ Plots C:\\Users\\liyux\\.julia\\packages\\Plots\\FKcum\\src\\utils.jl:108\n",
      "┌ Warning: Indices Base.OneTo(1) of attribute `linecolor` does not match data indices 1:3654.\n",
      "└ @ Plots C:\\Users\\liyux\\.julia\\packages\\Plots\\FKcum\\src\\utils.jl:108\n",
      "┌ Warning: Indices Base.OneTo(1) of attribute `fillcolor` does not match data indices 1:3654.\n",
      "└ @ Plots C:\\Users\\liyux\\.julia\\packages\\Plots\\FKcum\\src\\utils.jl:108\n",
      "┌ Warning: Indices Base.OneTo(1) of attribute `markercolor` does not match data indices 1:3654.\n",
      "└ @ Plots C:\\Users\\liyux\\.julia\\packages\\Plots\\FKcum\\src\\utils.jl:108\n",
      "┌ Warning: Indices Base.OneTo(1) of attribute `seriescolor` does not match data indices 1:3654.\n",
      "└ @ Plots C:\\Users\\liyux\\.julia\\packages\\Plots\\FKcum\\src\\utils.jl:108\n",
      "┌ Warning: Indices Base.OneTo(1) of attribute `linecolor` does not match data indices 1:3654.\n",
      "└ @ Plots C:\\Users\\liyux\\.julia\\packages\\Plots\\FKcum\\src\\utils.jl:108\n",
      "┌ Warning: Indices Base.OneTo(1) of attribute `fillcolor` does not match data indices 1:3654.\n",
      "└ @ Plots C:\\Users\\liyux\\.julia\\packages\\Plots\\FKcum\\src\\utils.jl:108\n",
      "┌ Warning: Indices Base.OneTo(1) of attribute `markercolor` does not match data indices 1:3654.\n",
      "└ @ Plots C:\\Users\\liyux\\.julia\\packages\\Plots\\FKcum\\src\\utils.jl:108\n"
     ]
    },
    {
     "name": "stderr",
     "output_type": "stream",
     "text": [
      "┌ Warning: Indices Base.OneTo(1) of attribute `seriescolor` does not match data indices 1:3654.\n",
      "└ @ Plots C:\\Users\\liyux\\.julia\\packages\\Plots\\FKcum\\src\\utils.jl:108\n",
      "┌ Warning: Indices Base.OneTo(1) of attribute `linecolor` does not match data indices 1:3654.\n",
      "└ @ Plots C:\\Users\\liyux\\.julia\\packages\\Plots\\FKcum\\src\\utils.jl:108\n",
      "┌ Warning: Indices Base.OneTo(1) of attribute `fillcolor` does not match data indices 1:3654.\n",
      "└ @ Plots C:\\Users\\liyux\\.julia\\packages\\Plots\\FKcum\\src\\utils.jl:108\n",
      "┌ Warning: Indices Base.OneTo(1) of attribute `markercolor` does not match data indices 1:3654.\n",
      "└ @ Plots C:\\Users\\liyux\\.julia\\packages\\Plots\\FKcum\\src\\utils.jl:108\n",
      "┌ Warning: Indices Base.OneTo(1) of attribute `seriescolor` does not match data indices 1:3654.\n",
      "└ @ Plots C:\\Users\\liyux\\.julia\\packages\\Plots\\FKcum\\src\\utils.jl:108\n",
      "┌ Warning: Indices Base.OneTo(1) of attribute `linecolor` does not match data indices 1:3654.\n",
      "└ @ Plots C:\\Users\\liyux\\.julia\\packages\\Plots\\FKcum\\src\\utils.jl:108\n",
      "┌ Warning: Indices Base.OneTo(1) of attribute `fillcolor` does not match data indices 1:3654.\n",
      "└ @ Plots C:\\Users\\liyux\\.julia\\packages\\Plots\\FKcum\\src\\utils.jl:108\n",
      "┌ Warning: Indices Base.OneTo(1) of attribute `markercolor` does not match data indices 1:3654.\n",
      "└ @ Plots C:\\Users\\liyux\\.julia\\packages\\Plots\\FKcum\\src\\utils.jl:108\n",
      "┌ Warning: Indices Base.OneTo(1) of attribute `seriescolor` does not match data indices 1:3654.\n",
      "└ @ Plots C:\\Users\\liyux\\.julia\\packages\\Plots\\FKcum\\src\\utils.jl:108\n",
      "┌ Warning: Indices Base.OneTo(1) of attribute `linecolor` does not match data indices 1:3654.\n",
      "└ @ Plots C:\\Users\\liyux\\.julia\\packages\\Plots\\FKcum\\src\\utils.jl:108\n",
      "┌ Warning: Indices Base.OneTo(1) of attribute `fillcolor` does not match data indices 1:3654.\n",
      "└ @ Plots C:\\Users\\liyux\\.julia\\packages\\Plots\\FKcum\\src\\utils.jl:108\n",
      "┌ Warning: Indices Base.OneTo(1) of attribute `markercolor` does not match data indices 1:3654.\n",
      "└ @ Plots C:\\Users\\liyux\\.julia\\packages\\Plots\\FKcum\\src\\utils.jl:108\n",
      "┌ Warning: Indices Base.OneTo(1) of attribute `seriescolor` does not match data indices 1:3654.\n",
      "└ @ Plots C:\\Users\\liyux\\.julia\\packages\\Plots\\FKcum\\src\\utils.jl:108\n",
      "┌ Warning: Indices Base.OneTo(1) of attribute `linecolor` does not match data indices 1:3654.\n",
      "└ @ Plots C:\\Users\\liyux\\.julia\\packages\\Plots\\FKcum\\src\\utils.jl:108\n",
      "┌ Warning: Indices Base.OneTo(1) of attribute `fillcolor` does not match data indices 1:3654.\n",
      "└ @ Plots C:\\Users\\liyux\\.julia\\packages\\Plots\\FKcum\\src\\utils.jl:108\n",
      "┌ Warning: Indices Base.OneTo(1) of attribute `markercolor` does not match data indices 1:3654.\n",
      "└ @ Plots C:\\Users\\liyux\\.julia\\packages\\Plots\\FKcum\\src\\utils.jl:108\n",
      "┌ Warning: Indices Base.OneTo(1) of attribute `seriescolor` does not match data indices 1:3654.\n",
      "└ @ Plots C:\\Users\\liyux\\.julia\\packages\\Plots\\FKcum\\src\\utils.jl:108\n",
      "┌ Warning: Indices Base.OneTo(1) of attribute `linecolor` does not match data indices 1:3654.\n",
      "└ @ Plots C:\\Users\\liyux\\.julia\\packages\\Plots\\FKcum\\src\\utils.jl:108\n",
      "┌ Warning: Indices Base.OneTo(1) of attribute `fillcolor` does not match data indices 1:3654.\n",
      "└ @ Plots C:\\Users\\liyux\\.julia\\packages\\Plots\\FKcum\\src\\utils.jl:108\n",
      "┌ Warning: Indices Base.OneTo(1) of attribute `markercolor` does not match data indices 1:3654.\n",
      "└ @ Plots C:\\Users\\liyux\\.julia\\packages\\Plots\\FKcum\\src\\utils.jl:108\n",
      "┌ Warning: Indices Base.OneTo(1) of attribute `seriescolor` does not match data indices 1:3654.\n",
      "└ @ Plots C:\\Users\\liyux\\.julia\\packages\\Plots\\FKcum\\src\\utils.jl:108\n",
      "┌ Warning: Indices Base.OneTo(1) of attribute `linecolor` does not match data indices 1:3654.\n",
      "└ @ Plots C:\\Users\\liyux\\.julia\\packages\\Plots\\FKcum\\src\\utils.jl:108\n",
      "┌ Warning: Indices Base.OneTo(1) of attribute `fillcolor` does not match data indices 1:3654.\n",
      "└ @ Plots C:\\Users\\liyux\\.julia\\packages\\Plots\\FKcum\\src\\utils.jl:108\n",
      "┌ Warning: Indices Base.OneTo(1) of attribute `markercolor` does not match data indices 1:3654.\n",
      "└ @ Plots C:\\Users\\liyux\\.julia\\packages\\Plots\\FKcum\\src\\utils.jl:108\n",
      "┌ Warning: Indices Base.OneTo(1) of attribute `seriescolor` does not match data indices 1:3654.\n",
      "└ @ Plots C:\\Users\\liyux\\.julia\\packages\\Plots\\FKcum\\src\\utils.jl:108\n",
      "┌ Warning: Indices Base.OneTo(1) of attribute `linecolor` does not match data indices 1:3654.\n",
      "└ @ Plots C:\\Users\\liyux\\.julia\\packages\\Plots\\FKcum\\src\\utils.jl:108\n",
      "┌ Warning: Indices Base.OneTo(1) of attribute `fillcolor` does not match data indices 1:3654.\n",
      "└ @ Plots C:\\Users\\liyux\\.julia\\packages\\Plots\\FKcum\\src\\utils.jl:108\n",
      "┌ Warning: Indices Base.OneTo(1) of attribute `markercolor` does not match data indices 1:3654.\n",
      "└ @ Plots C:\\Users\\liyux\\.julia\\packages\\Plots\\FKcum\\src\\utils.jl:108\n",
      "┌ Warning: Indices Base.OneTo(1) of attribute `seriescolor` does not match data indices 1:3654.\n",
      "└ @ Plots C:\\Users\\liyux\\.julia\\packages\\Plots\\FKcum\\src\\utils.jl:108\n",
      "┌ Warning: Indices Base.OneTo(1) of attribute `linecolor` does not match data indices 1:3654.\n",
      "└ @ Plots C:\\Users\\liyux\\.julia\\packages\\Plots\\FKcum\\src\\utils.jl:108\n",
      "┌ Warning: Indices Base.OneTo(1) of attribute `fillcolor` does not match data indices 1:3654.\n",
      "└ @ Plots C:\\Users\\liyux\\.julia\\packages\\Plots\\FKcum\\src\\utils.jl:108\n",
      "┌ Warning: Indices Base.OneTo(1) of attribute `markercolor` does not match data indices 1:3654.\n",
      "└ @ Plots C:\\Users\\liyux\\.julia\\packages\\Plots\\FKcum\\src\\utils.jl:108\n",
      "┌ Warning: Indices Base.OneTo(1) of attribute `seriescolor` does not match data indices 1:3654.\n",
      "└ @ Plots C:\\Users\\liyux\\.julia\\packages\\Plots\\FKcum\\src\\utils.jl:108\n",
      "┌ Warning: Indices Base.OneTo(1) of attribute `linecolor` does not match data indices 1:3654.\n",
      "└ @ Plots C:\\Users\\liyux\\.julia\\packages\\Plots\\FKcum\\src\\utils.jl:108\n",
      "┌ Warning: Indices Base.OneTo(1) of attribute `fillcolor` does not match data indices 1:3654.\n",
      "└ @ Plots C:\\Users\\liyux\\.julia\\packages\\Plots\\FKcum\\src\\utils.jl:108\n",
      "┌ Warning: Indices Base.OneTo(1) of attribute `markercolor` does not match data indices 1:3654.\n",
      "└ @ Plots C:\\Users\\liyux\\.julia\\packages\\Plots\\FKcum\\src\\utils.jl:108\n",
      "┌ Warning: Indices Base.OneTo(1) of attribute `seriescolor` does not match data indices 1:3654.\n",
      "└ @ Plots C:\\Users\\liyux\\.julia\\packages\\Plots\\FKcum\\src\\utils.jl:108\n",
      "┌ Warning: Indices Base.OneTo(1) of attribute `linecolor` does not match data indices 1:3654.\n",
      "└ @ Plots C:\\Users\\liyux\\.julia\\packages\\Plots\\FKcum\\src\\utils.jl:108\n",
      "┌ Warning: Indices Base.OneTo(1) of attribute `fillcolor` does not match data indices 1:3654.\n",
      "└ @ Plots C:\\Users\\liyux\\.julia\\packages\\Plots\\FKcum\\src\\utils.jl:108\n",
      "┌ Warning: Indices Base.OneTo(1) of attribute `markercolor` does not match data indices 1:3654.\n",
      "└ @ Plots C:\\Users\\liyux\\.julia\\packages\\Plots\\FKcum\\src\\utils.jl:108\n",
      "┌ Warning: Indices Base.OneTo(1) of attribute `seriescolor` does not match data indices 1:3654.\n",
      "└ @ Plots C:\\Users\\liyux\\.julia\\packages\\Plots\\FKcum\\src\\utils.jl:108\n",
      "┌ Warning: Indices Base.OneTo(1) of attribute `linecolor` does not match data indices 1:3654.\n",
      "└ @ Plots C:\\Users\\liyux\\.julia\\packages\\Plots\\FKcum\\src\\utils.jl:108\n",
      "┌ Warning: Indices Base.OneTo(1) of attribute `fillcolor` does not match data indices 1:3654.\n",
      "└ @ Plots C:\\Users\\liyux\\.julia\\packages\\Plots\\FKcum\\src\\utils.jl:108\n",
      "┌ Warning: Indices Base.OneTo(1) of attribute `markercolor` does not match data indices 1:3654.\n",
      "└ @ Plots C:\\Users\\liyux\\.julia\\packages\\Plots\\FKcum\\src\\utils.jl:108\n",
      "┌ Warning: Indices Base.OneTo(1) of attribute `seriescolor` does not match data indices 1:3654.\n",
      "└ @ Plots C:\\Users\\liyux\\.julia\\packages\\Plots\\FKcum\\src\\utils.jl:108\n",
      "┌ Warning: Indices Base.OneTo(1) of attribute `linecolor` does not match data indices 1:3654.\n",
      "└ @ Plots C:\\Users\\liyux\\.julia\\packages\\Plots\\FKcum\\src\\utils.jl:108\n",
      "┌ Warning: Indices Base.OneTo(1) of attribute `fillcolor` does not match data indices 1:3654.\n",
      "└ @ Plots C:\\Users\\liyux\\.julia\\packages\\Plots\\FKcum\\src\\utils.jl:108\n",
      "┌ Warning: Indices Base.OneTo(1) of attribute `markercolor` does not match data indices 1:3654.\n",
      "└ @ Plots C:\\Users\\liyux\\.julia\\packages\\Plots\\FKcum\\src\\utils.jl:108\n",
      "┌ Warning: Indices Base.OneTo(1) of attribute `seriescolor` does not match data indices 1:3654.\n",
      "└ @ Plots C:\\Users\\liyux\\.julia\\packages\\Plots\\FKcum\\src\\utils.jl:108\n",
      "┌ Warning: Indices Base.OneTo(1) of attribute `linecolor` does not match data indices 1:3654.\n",
      "└ @ Plots C:\\Users\\liyux\\.julia\\packages\\Plots\\FKcum\\src\\utils.jl:108\n",
      "┌ Warning: Indices Base.OneTo(1) of attribute `fillcolor` does not match data indices 1:3654.\n",
      "└ @ Plots C:\\Users\\liyux\\.julia\\packages\\Plots\\FKcum\\src\\utils.jl:108\n",
      "┌ Warning: Indices Base.OneTo(1) of attribute `markercolor` does not match data indices 1:3654.\n",
      "└ @ Plots C:\\Users\\liyux\\.julia\\packages\\Plots\\FKcum\\src\\utils.jl:108\n"
     ]
    },
    {
     "name": "stderr",
     "output_type": "stream",
     "text": [
      "┌ Warning: Indices Base.OneTo(1) of attribute `seriescolor` does not match data indices 1:3654.\n",
      "└ @ Plots C:\\Users\\liyux\\.julia\\packages\\Plots\\FKcum\\src\\utils.jl:108\n",
      "┌ Warning: Indices Base.OneTo(1) of attribute `linecolor` does not match data indices 1:3654.\n",
      "└ @ Plots C:\\Users\\liyux\\.julia\\packages\\Plots\\FKcum\\src\\utils.jl:108\n",
      "┌ Warning: Indices Base.OneTo(1) of attribute `fillcolor` does not match data indices 1:3654.\n",
      "└ @ Plots C:\\Users\\liyux\\.julia\\packages\\Plots\\FKcum\\src\\utils.jl:108\n",
      "┌ Warning: Indices Base.OneTo(1) of attribute `markercolor` does not match data indices 1:3654.\n",
      "└ @ Plots C:\\Users\\liyux\\.julia\\packages\\Plots\\FKcum\\src\\utils.jl:108\n",
      "┌ Warning: Indices Base.OneTo(1) of attribute `seriescolor` does not match data indices 1:3654.\n",
      "└ @ Plots C:\\Users\\liyux\\.julia\\packages\\Plots\\FKcum\\src\\utils.jl:108\n",
      "┌ Warning: Indices Base.OneTo(1) of attribute `linecolor` does not match data indices 1:3654.\n",
      "└ @ Plots C:\\Users\\liyux\\.julia\\packages\\Plots\\FKcum\\src\\utils.jl:108\n",
      "┌ Warning: Indices Base.OneTo(1) of attribute `fillcolor` does not match data indices 1:3654.\n",
      "└ @ Plots C:\\Users\\liyux\\.julia\\packages\\Plots\\FKcum\\src\\utils.jl:108\n",
      "┌ Warning: Indices Base.OneTo(1) of attribute `markercolor` does not match data indices 1:3654.\n",
      "└ @ Plots C:\\Users\\liyux\\.julia\\packages\\Plots\\FKcum\\src\\utils.jl:108\n",
      "┌ Warning: Indices Base.OneTo(1) of attribute `seriescolor` does not match data indices 1:3654.\n",
      "└ @ Plots C:\\Users\\liyux\\.julia\\packages\\Plots\\FKcum\\src\\utils.jl:108\n",
      "┌ Warning: Indices Base.OneTo(1) of attribute `linecolor` does not match data indices 1:3654.\n",
      "└ @ Plots C:\\Users\\liyux\\.julia\\packages\\Plots\\FKcum\\src\\utils.jl:108\n",
      "┌ Warning: Indices Base.OneTo(1) of attribute `fillcolor` does not match data indices 1:3654.\n",
      "└ @ Plots C:\\Users\\liyux\\.julia\\packages\\Plots\\FKcum\\src\\utils.jl:108\n",
      "┌ Warning: Indices Base.OneTo(1) of attribute `markercolor` does not match data indices 1:3654.\n",
      "└ @ Plots C:\\Users\\liyux\\.julia\\packages\\Plots\\FKcum\\src\\utils.jl:108\n",
      "┌ Warning: Indices Base.OneTo(1) of attribute `seriescolor` does not match data indices 1:3654.\n",
      "└ @ Plots C:\\Users\\liyux\\.julia\\packages\\Plots\\FKcum\\src\\utils.jl:108\n",
      "┌ Warning: Indices Base.OneTo(1) of attribute `linecolor` does not match data indices 1:3654.\n",
      "└ @ Plots C:\\Users\\liyux\\.julia\\packages\\Plots\\FKcum\\src\\utils.jl:108\n",
      "┌ Warning: Indices Base.OneTo(1) of attribute `fillcolor` does not match data indices 1:3654.\n",
      "└ @ Plots C:\\Users\\liyux\\.julia\\packages\\Plots\\FKcum\\src\\utils.jl:108\n",
      "┌ Warning: Indices Base.OneTo(1) of attribute `markercolor` does not match data indices 1:3654.\n",
      "└ @ Plots C:\\Users\\liyux\\.julia\\packages\\Plots\\FKcum\\src\\utils.jl:108\n",
      "┌ Warning: Indices Base.OneTo(1) of attribute `seriescolor` does not match data indices 1:3654.\n",
      "└ @ Plots C:\\Users\\liyux\\.julia\\packages\\Plots\\FKcum\\src\\utils.jl:108\n",
      "┌ Warning: Indices Base.OneTo(1) of attribute `linecolor` does not match data indices 1:3654.\n",
      "└ @ Plots C:\\Users\\liyux\\.julia\\packages\\Plots\\FKcum\\src\\utils.jl:108\n",
      "┌ Warning: Indices Base.OneTo(1) of attribute `fillcolor` does not match data indices 1:3654.\n",
      "└ @ Plots C:\\Users\\liyux\\.julia\\packages\\Plots\\FKcum\\src\\utils.jl:108\n",
      "┌ Warning: Indices Base.OneTo(1) of attribute `markercolor` does not match data indices 1:3654.\n",
      "└ @ Plots C:\\Users\\liyux\\.julia\\packages\\Plots\\FKcum\\src\\utils.jl:108\n",
      "┌ Warning: Indices Base.OneTo(1) of attribute `seriescolor` does not match data indices 1:3654.\n",
      "└ @ Plots C:\\Users\\liyux\\.julia\\packages\\Plots\\FKcum\\src\\utils.jl:108\n",
      "┌ Warning: Indices Base.OneTo(1) of attribute `linecolor` does not match data indices 1:3654.\n",
      "└ @ Plots C:\\Users\\liyux\\.julia\\packages\\Plots\\FKcum\\src\\utils.jl:108\n",
      "┌ Warning: Indices Base.OneTo(1) of attribute `fillcolor` does not match data indices 1:3654.\n",
      "└ @ Plots C:\\Users\\liyux\\.julia\\packages\\Plots\\FKcum\\src\\utils.jl:108\n",
      "┌ Warning: Indices Base.OneTo(1) of attribute `markercolor` does not match data indices 1:3654.\n",
      "└ @ Plots C:\\Users\\liyux\\.julia\\packages\\Plots\\FKcum\\src\\utils.jl:108\n",
      "┌ Warning: Indices Base.OneTo(1) of attribute `seriescolor` does not match data indices 1:3654.\n",
      "└ @ Plots C:\\Users\\liyux\\.julia\\packages\\Plots\\FKcum\\src\\utils.jl:108\n",
      "┌ Warning: Indices Base.OneTo(1) of attribute `linecolor` does not match data indices 1:3654.\n",
      "└ @ Plots C:\\Users\\liyux\\.julia\\packages\\Plots\\FKcum\\src\\utils.jl:108\n",
      "┌ Warning: Indices Base.OneTo(1) of attribute `fillcolor` does not match data indices 1:3654.\n",
      "└ @ Plots C:\\Users\\liyux\\.julia\\packages\\Plots\\FKcum\\src\\utils.jl:108\n",
      "┌ Warning: Indices Base.OneTo(1) of attribute `markercolor` does not match data indices 1:3654.\n",
      "└ @ Plots C:\\Users\\liyux\\.julia\\packages\\Plots\\FKcum\\src\\utils.jl:108\n",
      "┌ Warning: Indices Base.OneTo(1) of attribute `seriescolor` does not match data indices 1:3654.\n",
      "└ @ Plots C:\\Users\\liyux\\.julia\\packages\\Plots\\FKcum\\src\\utils.jl:108\n",
      "┌ Warning: Indices Base.OneTo(1) of attribute `linecolor` does not match data indices 1:3654.\n",
      "└ @ Plots C:\\Users\\liyux\\.julia\\packages\\Plots\\FKcum\\src\\utils.jl:108\n",
      "┌ Warning: Indices Base.OneTo(1) of attribute `fillcolor` does not match data indices 1:3654.\n",
      "└ @ Plots C:\\Users\\liyux\\.julia\\packages\\Plots\\FKcum\\src\\utils.jl:108\n",
      "┌ Warning: Indices Base.OneTo(1) of attribute `markercolor` does not match data indices 1:3654.\n",
      "└ @ Plots C:\\Users\\liyux\\.julia\\packages\\Plots\\FKcum\\src\\utils.jl:108\n",
      "┌ Warning: Indices Base.OneTo(1) of attribute `seriescolor` does not match data indices 1:3654.\n",
      "└ @ Plots C:\\Users\\liyux\\.julia\\packages\\Plots\\FKcum\\src\\utils.jl:108\n",
      "┌ Warning: Indices Base.OneTo(1) of attribute `linecolor` does not match data indices 1:3654.\n",
      "└ @ Plots C:\\Users\\liyux\\.julia\\packages\\Plots\\FKcum\\src\\utils.jl:108\n",
      "┌ Warning: Indices Base.OneTo(1) of attribute `fillcolor` does not match data indices 1:3654.\n",
      "└ @ Plots C:\\Users\\liyux\\.julia\\packages\\Plots\\FKcum\\src\\utils.jl:108\n",
      "┌ Warning: Indices Base.OneTo(1) of attribute `markercolor` does not match data indices 1:3654.\n",
      "└ @ Plots C:\\Users\\liyux\\.julia\\packages\\Plots\\FKcum\\src\\utils.jl:108\n",
      "┌ Warning: Indices Base.OneTo(1) of attribute `seriescolor` does not match data indices 1:3654.\n",
      "└ @ Plots C:\\Users\\liyux\\.julia\\packages\\Plots\\FKcum\\src\\utils.jl:108\n",
      "┌ Warning: Indices Base.OneTo(1) of attribute `linecolor` does not match data indices 1:3654.\n",
      "└ @ Plots C:\\Users\\liyux\\.julia\\packages\\Plots\\FKcum\\src\\utils.jl:108\n",
      "┌ Warning: Indices Base.OneTo(1) of attribute `fillcolor` does not match data indices 1:3654.\n",
      "└ @ Plots C:\\Users\\liyux\\.julia\\packages\\Plots\\FKcum\\src\\utils.jl:108\n",
      "┌ Warning: Indices Base.OneTo(1) of attribute `markercolor` does not match data indices 1:3654.\n",
      "└ @ Plots C:\\Users\\liyux\\.julia\\packages\\Plots\\FKcum\\src\\utils.jl:108\n",
      "┌ Warning: Indices Base.OneTo(1) of attribute `seriescolor` does not match data indices 1:3654.\n",
      "└ @ Plots C:\\Users\\liyux\\.julia\\packages\\Plots\\FKcum\\src\\utils.jl:108\n",
      "┌ Warning: Indices Base.OneTo(1) of attribute `linecolor` does not match data indices 1:3654.\n",
      "└ @ Plots C:\\Users\\liyux\\.julia\\packages\\Plots\\FKcum\\src\\utils.jl:108\n",
      "┌ Warning: Indices Base.OneTo(1) of attribute `fillcolor` does not match data indices 1:3654.\n",
      "└ @ Plots C:\\Users\\liyux\\.julia\\packages\\Plots\\FKcum\\src\\utils.jl:108\n",
      "┌ Warning: Indices Base.OneTo(1) of attribute `markercolor` does not match data indices 1:3654.\n",
      "└ @ Plots C:\\Users\\liyux\\.julia\\packages\\Plots\\FKcum\\src\\utils.jl:108\n"
     ]
    },
    {
     "data": {
      "image/png": "[encoded data removed]",
      "text/plain": [
       "PyPlot.Figure(PyObject <Figure size 600x400 with 1 Axes>)"
      ]
     },
     "metadata": {},
     "output_type": "display_data"
    },
    {
     "name": "stderr",
     "output_type": "stream",
     "text": [
      "┌ Info: Saved animation to \n",
      "│   fn = C:\\Users\\liyux\\Documents\\GitHub\\ComputationalHeatTransfer.jl\\src\\tmp.gif\n",
      "└ @ Plots C:\\Users\\liyux\\.julia\\packages\\Plots\\FKcum\\src\\animation.jl:104\n"
     ]
    },
    {
     "data": {
      "text/html": [
       "<img src=\"data:image/gif;base64,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\" />"
      ],
      "text/plain": [
       "Plots.AnimatedGif(\"C:\\\\Users\\\\liyux\\\\Documents\\\\GitHub\\\\ComputationalHeatTransfer.jl\\\\src\\\\tmp.gif\")"
      ]
     },
     "execution_count": 400,
     "metadata": {},
     "output_type": "execute_result"
    }
   ],
   "source": [
    "# closed loop plot\n",
    "@gif for i=1:5:length(sysfinal)\n",
    "# @gif for i=1:1:80\n",
    "        \n",
    "    Xpvapor = getXpvapor(sysfinal[i].liquid.Xp,sysfinal[i].tube.L,sysfinal[i].tube.closedornot)\n",
    "#     θvapor  = (sysfinal[i].vapor.P).^((γ-1)/γ)\n",
    "    θvapor  = nondi_PtoT.(sysfinal[i].vapor.P)\n",
    "    Xp = sysfinal[i].liquid.Xp\n",
    "    \n",
    "#     sysfinal[i].wall.θarray = di_T_to_nondi_T(temperature_linesource(plate_hist[i]))\n",
    "    \n",
    "    plt = plot([sysfinal[i].wall.Xarray],[sysfinal[i].wall.θarray .* T0], linewidth=1.5,ylim=(270,285),  color = [:black],legend=:none, labels = \"θwall\", xlabel=\"X\", ylabel=\"θ\", title=(string(\"time = [s] \\n\",)),xlim=(0,sysfinal[i].tube.L))\n",
    "    \n",
    "    \n",
    "    j=1\n",
    "    while j <= length(Xp)\n",
    "        if Xp[j][end] >= Xp[j][1]\n",
    "            plot!(plt, [sysfinal[i].liquid.Xarrays[j]],[sysfinal[i].liquid.θarrays[j]] .* T0, linewidth=2, labels = string(\"θliquid \",j))\n",
    "            else \n",
    "            # find the index at the end\n",
    "            index = findfirst(x->x <= sysfinal[i].liquid.Xarrays[j][end], sysfinal[i].liquid.Xarrays[j])\n",
    "            \n",
    "            plot!(plt, [sysfinal[i].liquid.Xarrays[j][1:index-1]],[sysfinal[i].liquid.θarrays[j][1:index-1]] .* T0, linewidth=2, labels = string(\"θliquid \",j))\n",
    "            plot!(plt, [sysfinal[i].liquid.Xarrays[j][index:end]],[sysfinal[i].liquid.θarrays[j][index:end]] .* T0, linewidth=2, labels = string(\"θliquid \",j))\n",
    "\n",
    "        end\n",
    "        \n",
    "        j += 1\n",
    "    end\n",
    "\n",
    "        j=1\n",
    "    while j <= length(Xpvapor)\n",
    "        if Xpvapor[j][end] >= Xpvapor[j][1]\n",
    "            plot!(plt,[Xpvapor[j][1],Xpvapor[j][end]],[θvapor[j]] .* T0, labels = string(\"θvapor \",j))\n",
    "            else\n",
    "            \n",
    "            plot!(plt,[0.0,Xpvapor[j][end]],[θvapor[j]] .* T0, labels = string(\"θvapor \",j))\n",
    "            plot!(plt,[Xpvapor[j][1],L],[θvapor[j]] .* T0, labels = string(\"θvapor \",j))\n",
    "\n",
    "        end\n",
    "        \n",
    "        j += 1\n",
    "    end\n",
    "    \n",
    "#     j = 1\n",
    "#     plot!(p,[0.0,Xpvapor[j][end]],[θvapor[j]], labels = string(\"θvapor \",j))\n",
    "#     plot!(p,[Xpvapor[j][1],L],[θvapor[j]], labels = string(\"θvapor \",j))\n",
    "    \n",
    "#     j = 2\n",
    "#     while j  <= length(θvapor) \n",
    "    \n",
    "#         plot!(p,[Xpvapor[j][1],Xpvapor[j][end]],[θvapor[j]], labels = string(\"θvapor \",j))\n",
    "        \n",
    "#         j += 1\n",
    "#     end\n",
    "\n",
    "#     vline!( p, [collect(0:2:4)], color=[:blue,:red], width=196, alpha=[0.3,0.3,0.3],labels = \"\")\n",
    "    \n",
    "    end "
   ]
  },
  {
   "cell_type": "code",
   "execution_count": 52,
   "metadata": {},
   "outputs": [],
   "source": [
    "# # @gif for i = 1:5:length(sysfinal)\n",
    "# i=100\n",
    "#     Htmp = sys_to_Harray(sysfinal[i])\n",
    "# #         set_linesource_strength!(sys,qtmp)\n",
    "#     plot(sysfinal[i].wall.Xarray,Htmp)\n",
    "# # end"
   ]
  },
  {
   "cell_type": "code",
   "execution_count": 53,
   "metadata": {},
   "outputs": [],
   "source": [
    "# @gif for i=1:100\n",
    "\n",
    "# # i=100\n",
    "#     Htmp = sys_to_Harray(sysfinal[i])\n",
    "#     plot(ohp,fillalpha=0,linecolor=cgrad([:gold, :blue],rev=true),line_z=Htmp,xlabel=\"x [m]\",ylabel=\"y [m]\")\n",
    "# end"
   ]
  },
  {
   "cell_type": "code",
   "execution_count": 54,
   "metadata": {},
   "outputs": [],
   "source": [
    "# savefig(\"OHP.pdf\")"
   ]
  },
  {
   "cell_type": "code",
   "execution_count": 55,
   "metadata": {},
   "outputs": [
    {
     "data": {
      "text/plain": [
       "0.001"
      ]
     },
     "execution_count": 55,
     "metadata": {},
     "output_type": "execute_result"
    }
   ],
   "source": [
    "integrator_plate.t"
   ]
  },
  {
   "cell_type": "code",
   "execution_count": 56,
   "metadata": {},
   "outputs": [],
   "source": [
    "save(\"plate_OHP.jld2\", \"plate_hist\", plate_hist, \"integrator_plate\", integrator_plate)"
   ]
  },
  {
   "cell_type": "code",
   "execution_count": 57,
   "metadata": {},
   "outputs": [],
   "source": [
    "save(\"tube_OHP.jld2\", \"tube_hist\", tube_hist, \"integrator_tube\",integrator_tube)"
   ]
  },
  {
   "cell_type": "markdown",
   "metadata": {},
   "source": [
    "# temperature difference with OHP"
   ]
  },
  {
   "cell_type": "markdown",
   "metadata": {},
   "source": [
    "### use the same definition of heat conductance in the ASET paper (temperature based on certain locations)"
   ]
  },
  {
   "cell_type": "code",
   "execution_count": 58,
   "metadata": {},
   "outputs": [
    {
     "ename": "LoadError",
     "evalue": "\u001b[91mBoundsError: attempt to access 0-element Array{Any,1} at index [0]\u001b[39m",
     "output_type": "error",
     "traceback": [
      "\u001b[91mBoundsError: attempt to access 0-element Array{Any,1} at index [0]\u001b[39m",
      "",
      "Stacktrace:",
      " [1] getindex(::Array{Any,1}, ::Int64) at .\\array.jl:809",
      " [2] top-level scope at In[58]:1",
      " [3] include_string(::Function, ::Module, ::String, ::String) at .\\loading.jl:1091"
     ]
    }
   ],
   "source": [
    "temp_evaporator = temperature(plate_hist[end])[110,48]\n",
    "\n",
    "temp_condenser_1 = temperature(plate_hist[end])[44,48]\n",
    "temp_condenser_2 = temperature(plate_hist[end])[end-44+1,48]\n",
    "temp_condenser  = (temp_condenser_1+temp_condenser_2)/2\n",
    "\n",
    "tempdiff_ASET = (temp_evaporator - temp_condenser) # K"
   ]
  },
  {
   "cell_type": "markdown",
   "metadata": {},
   "source": [
    "### use the same definition of heat conductance based on maximum and minimum temperatures)"
   ]
  },
  {
   "cell_type": "code",
   "execution_count": 59,
   "metadata": {
    "scrolled": true
   },
   "outputs": [
    {
     "ename": "LoadError",
     "evalue": "\u001b[91mBoundsError: attempt to access 0-element Array{Any,1} at index [0]\u001b[39m",
     "output_type": "error",
     "traceback": [
      "\u001b[91mBoundsError: attempt to access 0-element Array{Any,1} at index [0]\u001b[39m",
      "",
      "Stacktrace:",
      " [1] getindex(::Array{Any,1}, ::Int64) at .\\array.jl:809",
      " [2] top-level scope at In[59]:1",
      " [3] include_string(::Function, ::Module, ::String, ::String) at .\\loading.jl:1091"
     ]
    }
   ],
   "source": [
    "tempdiff_maximum = maximum(temperature(plate_hist[end]))-minimum(temperature(plate_hist[end])) # K"
   ]
  },
  {
   "cell_type": "markdown",
   "metadata": {},
   "source": [
    "# thermal conductance with OHP"
   ]
  },
  {
   "cell_type": "markdown",
   "metadata": {},
   "source": [
    "### use the same definition of heat conductance in the ASET paper (temperature based on certain locations)"
   ]
  },
  {
   "cell_type": "code",
   "execution_count": 60,
   "metadata": {},
   "outputs": [
    {
     "ename": "LoadError",
     "evalue": "\u001b[91mUndefVarError: tempdiff_ASET not defined\u001b[39m",
     "output_type": "error",
     "traceback": [
      "\u001b[91mUndefVarError: tempdiff_ASET not defined\u001b[39m",
      "",
      "Stacktrace:",
      " [1] top-level scope at In[60]:2",
      " [2] include_string(::Function, ::Module, ::String, ::String) at .\\loading.jl:1091"
     ]
    }
   ],
   "source": [
    "heater_power = 40 #watt\n",
    "cond_ASET =  heater_power /tempdiff_ASET # W/K"
   ]
  },
  {
   "cell_type": "markdown",
   "metadata": {},
   "source": [
    "### use the same definition of heat conductance based on maximum and minimum temperatures)"
   ]
  },
  {
   "cell_type": "code",
   "execution_count": 61,
   "metadata": {},
   "outputs": [
    {
     "ename": "LoadError",
     "evalue": "\u001b[91mUndefVarError: tempdiff_maximum not defined\u001b[39m",
     "output_type": "error",
     "traceback": [
      "\u001b[91mUndefVarError: tempdiff_maximum not defined\u001b[39m",
      "",
      "Stacktrace:",
      " [1] top-level scope at In[61]:2",
      " [2] include_string(::Function, ::Module, ::String, ::String) at .\\loading.jl:1091"
     ]
    }
   ],
   "source": [
    "heater_power = 40 #watt\n",
    "cond_maximum =  heater_power /tempdiff_maximum # W/K"
   ]
  },
  {
   "cell_type": "code",
   "execution_count": 62,
   "metadata": {},
   "outputs": [
    {
     "data": {
      "text/plain": [
       "3"
      ]
     },
     "execution_count": 62,
     "metadata": {},
     "output_type": "execute_result"
    }
   ],
   "source": [
    "+\n",
    "3"
   ]
  }
 ],
 "metadata": {
  "@webio": {
   "lastCommId": null,
   "lastKernelId": null
  },
  "kernelspec": {
   "display_name": "Julia 1.5.4",
   "language": "julia",
   "name": "julia-1.5"
  },
  "language_info": {
   "file_extension": ".jl",
   "mimetype": "application/julia",
   "name": "julia",
   "version": "1.5.4"
  }
 },
 "nbformat": 4,
 "nbformat_minor": 5
}
