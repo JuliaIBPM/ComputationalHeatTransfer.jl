{
 "cells": [
  {
   "cell_type": "markdown",
   "metadata": {},
   "source": [
    "## U shape PHP dynamics with multiple liquid slugs - with heat transfer"
   ]
  },
  {
   "cell_type": "markdown",
   "metadata": {},
   "source": [
    "## wall heat equation\n",
    "\n",
    "## $\\frac{\\partial \\theta }{\\partial \\mathcal{T}} = \\nabla^2 \\theta + W_{evaporator} + H_{condenser}(\\theta_{condenser} - \\theta_{wall}) + H_{fluid}(\\theta_{fluid} - \\theta_{wall})$"
   ]
  },
  {
   "cell_type": "markdown",
   "metadata": {},
   "source": [
    "## liquid heat equation\n",
    "\n",
    "## $\\frac{\\partial \\theta }{\\partial \\mathcal{T}} = \\nabla^2 \\theta + H_{fluid}(\\theta_{wall} - \\theta_{fluid})$"
   ]
  },
  {
   "cell_type": "markdown",
   "metadata": {},
   "source": [
    "## dynamics equations\n",
    "We solve a set of governing equations:\n",
    "\n",
    "1. Momentum equation:\n",
    " ## $\\frac{\\mathrm{d}^{2} X_{p}}{\\mathrm{d} \\tau^{2}}+32 \\frac{\\mathrm{d} X_{p}}{\\mathrm{d} \\tau}+\\omega_{0}^{2} X_{p}=\\wp\\left(P_{1}-P_{2}\\right)$\n",
    " \n",
    "2. Perfect gas law combined with first law of thermodynamics:\n",
    "\n",
    " ## $M_{i}=P_{i}^{1 / \\gamma}L_{i}$\n",
    " \n",
    " ## $\\theta_{i}=P_{i}^{(\\gamma-1) / \\gamma}$\n",
    " \n",
    "\n",
    "\n",
    "3. The phase change relations between the mass of vapor and the heat transfer from the wall\n",
    " ## $\\frac{\\mathrm{d} M_{i}}{\\mathrm{d} \\mathcal{T}}=\\int_{X_{start}}^{X_{end}} H_{vapor} (\\theta_{wall} - \\theta_{vapor}) dX$\n",
    "\n",
    " \n"
   ]
  },
  {
   "cell_type": "markdown",
   "metadata": {},
   "source": [
    "## nucleate boiling\n",
    "\n",
    "$nucleatenum = 2$ is the number of nucleation sites. It is distributed randomly for every start time.\n",
    "\n",
    "$\\Delta t = 0.1$ is the time interval for nucleations, for now it is uniform for all nucleation sites, can be modified later on.\n",
    "\n",
    "$Δθthreshold = 0.01$ is the super heat threshold.\n",
    "\n",
    "So it means that at time $\\Delta t$,  $2\\Delta t$,  $3\\Delta t$ ... and so on. It will check if the nucleation sites are in the liquid slug region and if the superheat is fulfilled. if so, it will reslease one or several $L=0.02, P=1$ new vapor bubbles"
   ]
  },
  {
   "cell_type": "code",
   "execution_count": 1,
   "metadata": {},
   "outputs": [
    {
     "name": "stderr",
     "output_type": "stream",
     "text": [
      "┌ Warning: no Manifest.toml file found, static paths used\n",
      "└ @ Revise C:\\Users\\liyux\\.julia\\packages\\Revise\\1boD5\\src\\packagedef.jl:1369\n"
     ]
    },
    {
     "data": {
      "text/plain": [
       "Plots.PyPlotBackend()"
      ]
     },
     "execution_count": 1,
     "metadata": {},
     "output_type": "execute_result"
    }
   ],
   "source": [
    "using Revise\n",
    "using LinearAlgebra\n",
    "using DifferentialEquations\n",
    "using Plots\n",
    "pyplot()"
   ]
  },
  {
   "cell_type": "code",
   "execution_count": 81,
   "metadata": {},
   "outputs": [],
   "source": [
    "cd(dirname(pwd()))\n",
    "cd(\"src\") \n",
    "\n",
    "includet(\"OneDOHP.jl\")\n",
    "using ..OneDOHP"
   ]
  },
  {
   "cell_type": "markdown",
   "metadata": {},
   "source": [
    "## Parameters of the PHP"
   ]
  },
  {
   "cell_type": "code",
   "execution_count": 82,
   "metadata": {},
   "outputs": [],
   "source": [
    "    ω = sqrt(1.68e003);\n",
    "    ℘L = 6.2e004;\n",
    "    k = 115e-003\n",
    "\n",
    "    θinitial=1.0\n",
    "    θc = 1.0; # useless\n",
    "\n",
    "    Hwc = 0.0; #not useful later on. H between wall and condenser, \n",
    "    Hₗ   =  1600.0; # liquid wall heat transfer coeffcient\n",
    "#     Hₗ   =  2.57e004; # liquid wall heat transfer coeffcient\n",
    "    Hδ  = 7.34e002;\n"
   ]
  },
  {
   "cell_type": "code",
   "execution_count": 83,
   "metadata": {},
   "outputs": [
    {
     "data": {
      "text/plain": [
       "true"
      ]
     },
     "execution_count": 83,
     "metadata": {},
     "output_type": "execute_result"
    }
   ],
   "source": [
    "    \n",
    "    d = 6.56e-3 # dimensionless diameter\n",
    "    L = 35.0  # total length of the pipe when streched to a 1D pipe\n",
    "    L2D = 1.0 # the actual length of the bended pipe in the real world\n",
    "    angle = 0*pi/2 # inclination angle \n",
    "    closedornot = true"
   ]
  },
  {
   "cell_type": "code",
   "execution_count": 84,
   "metadata": {},
   "outputs": [],
   "source": [
    "    nucleatenum = 10\n",
    "    Xstations = sort(rand(nucleatenum).*L);\n",
    "#     boilingΔt = 0.05"
   ]
  },
  {
   "cell_type": "markdown",
   "metadata": {},
   "source": [
    "## Pipe definition"
   ]
  },
  {
   "cell_type": "code",
   "execution_count": 85,
   "metadata": {},
   "outputs": [],
   "source": [
    "tube = Tube(d,L,L2D,angle,closedornot);"
   ]
  },
  {
   "cell_type": "markdown",
   "metadata": {},
   "source": [
    "## Evaporator and condenser definition"
   ]
  },
  {
   "cell_type": "code",
   "execution_count": 86,
   "metadata": {},
   "outputs": [],
   "source": [
    "Xe = map(tuple, [1.0], [3.0])\n",
    "We = [0.0]\n",
    "evap = Evaporator(Xe,We);"
   ]
  },
  {
   "cell_type": "code",
   "execution_count": 87,
   "metadata": {},
   "outputs": [],
   "source": [
    "Xc = map(tuple, [0.0,3.0], [1.0,4.0])\n",
    "cond = Condenser(θc,Xc,Hwc);"
   ]
  },
  {
   "cell_type": "markdown",
   "metadata": {},
   "source": [
    "## Vapor plug and liquid slug initialization"
   ]
  },
  {
   "cell_type": "code",
   "execution_count": 88,
   "metadata": {},
   "outputs": [
    {
     "data": {
      "text/plain": [
       "16-element Array{Tuple{Float64,Float64},1}:\n",
       " (0.41656075129194226, 0.6077565580304656)\n",
       " (0.702898027024631, 2.2258842669376087)\n",
       " (2.993424401275181, 4.412829890825279)\n",
       " (6.6745096462266424, 7.026143041234149)\n",
       " (7.476459242620772, 8.093372945435732)\n",
       " (8.2403333135614, 8.878562316676419)\n",
       " (9.143620951835226, 9.406964918696023)\n",
       " (10.23172868872538, 13.228630910466123)\n",
       " (13.390928778689151, 14.421920147001183)\n",
       " (15.33943330303503, 18.219705777270548)\n",
       " (19.153622291157326, 23.550203042739817)\n",
       " (23.956013124045985, 25.267438088802106)\n",
       " (26.65253055124079, 26.90508188810497)\n",
       " (28.063265524511184, 29.030327000359495)\n",
       " (32.22460637007288, 32.44999546885903)\n",
       " (34.139778655318494, 34.43174387188878)"
      ]
     },
     "execution_count": 88,
     "metadata": {},
     "output_type": "execute_result"
    }
   ],
   "source": [
    "numofX=16\n",
    "Xps = sort(rand(2*numofX).*L);\n",
    "Xp1s = Xps[1:2:end];\n",
    "Xp2s = Xps[2:2:end];\n",
    "\n",
    "dXdt0 = map(tuple,0*Xp1s,0*Xp2s)\n",
    "X0 = map(tuple,Xp1s,Xp2s)\n"
   ]
  },
  {
   "cell_type": "code",
   "execution_count": 89,
   "metadata": {},
   "outputs": [],
   "source": [
    "N=6000\n",
    "# X0 = [(L/4, L*3/4)]\n",
    "# dXdt0 = [(0.0,0.0)]\n",
    "ρ = 214.6\n",
    "Xarrays,θarrays = constructXarrays(X0,N,θinitial,L)\n",
    "liquids=Liquid(Hₗ,ρ,ω,℘L,X0,dXdt0,Xarrays,θarrays);"
   ]
  },
  {
   "cell_type": "code",
   "execution_count": 90,
   "metadata": {},
   "outputs": [],
   "source": [
    "N=500\n",
    "X0 = [(1.0, 3.0)]\n",
    "dXdt0 = [(0.0,0.0)]\n",
    "ρ = 1000\n",
    "Xarrays,θarrays = constructXarrays(X0,N,θinitial,L)\n",
    "liquids=Liquid(Hₗ,ρ,ω,℘L,X0,dXdt0,Xarrays,θarrays);"
   ]
  },
  {
   "cell_type": "code",
   "execution_count": 91,
   "metadata": {},
   "outputs": [],
   "source": [
    "# P = [1.0,1.0,1.0,1.0,1.0]; # closed end\n",
    "\n",
    "γ = 1.4;\n",
    "Hδ = 7.34e2\n",
    "P = 0*Xp1s .+ 1.0;\n",
    "δ = 0*Xp1s .+ 2.86e-02;\n",
    "vapors=Vapor(γ,Hδ,P,δ);"
   ]
  },
  {
   "cell_type": "code",
   "execution_count": 92,
   "metadata": {},
   "outputs": [],
   "source": [
    "α = 0 # nondimensional thermal diffusivity = (αₐ d^2) / (νₗ height^2)\n",
    "Xwallarray,θwallarray = constructXarrays(L,N,θinitial)\n",
    "\n",
    "wall = Wall(α,Δt,Xstations,Xwallarray,θwallarray);"
   ]
  },
  {
   "cell_type": "code",
   "execution_count": 93,
   "metadata": {},
   "outputs": [],
   "source": [
    "walltoliquid, liquidtowall = constructmapping(Xarrays,Xwallarray,closedornot,L)\n",
    "mapping = Mapping(walltoliquid,liquidtowall);"
   ]
  },
  {
   "cell_type": "markdown",
   "metadata": {},
   "source": [
    "## Construct the system"
   ]
  },
  {
   "cell_type": "code",
   "execution_count": 94,
   "metadata": {
    "scrolled": true
   },
   "outputs": [],
   "source": [
    "sys0 = PHPSystem(tube,evap,cond,liquids,vapors,wall,mapping);"
   ]
  },
  {
   "cell_type": "code",
   "execution_count": 95,
   "metadata": {
    "scrolled": false
   },
   "outputs": [
    {
     "data": {
      "text/plain": [
       "PHPSystem"
      ]
     },
     "execution_count": 95,
     "metadata": {},
     "output_type": "execute_result"
    }
   ],
   "source": [
    "typeof(sys0)"
   ]
  },
  {
   "cell_type": "markdown",
   "metadata": {},
   "source": [
    "## Construct U for wall heat function"
   ]
  },
  {
   "cell_type": "markdown",
   "metadata": {},
   "source": [
    "## construct state vector U"
   ]
  },
  {
   "cell_type": "code",
   "execution_count": 101,
   "metadata": {},
   "outputs": [
    {
     "name": "stdout",
     "output_type": "stream",
     "text": [
      "the lengthes of X and dXdt and M do not match!\n"
     ]
    }
   ],
   "source": [
    "Lvaporplug = XptoLvaporplug(X0,sys0.tube.L,sys0.tube.closedornot)\n",
    "M = P.^(1/γ).* Lvaporplug\n",
    "\n",
    "\n",
    "u=[XMδtovec(X0,dXdt0,M,δ); wallθtovec(sys0.wall.θarray); liquidθtovec(sys0.liquid.θarrays)];"
   ]
  },
  {
   "cell_type": "code",
   "execution_count": 102,
   "metadata": {},
   "outputs": [],
   "source": [
    "# plot([sys0.wall.Xarray],[sys0.wall.θarray], title=\"initial temperature condition\", labels = \"θ\", xlabel=\"X\", ylabel=\"θ\")"
   ]
  },
  {
   "cell_type": "markdown",
   "metadata": {},
   "source": [
    "## Solve the constructed ODE for U"
   ]
  },
  {
   "cell_type": "code",
   "execution_count": 103,
   "metadata": {},
   "outputs": [
    {
     "data": {
      "text/plain": [
       "CallbackSet{Tuple{},Tuple{DiscreteCallback{typeof(boiling_condition),typeof(boiling_affect!),typeof(DiffEqBase.INITIALIZE_DEFAULT),typeof(DiffEqBase.FINALIZE_DEFAULT)},DiscreteCallback{typeof(merging_condition),typeof(merging_affect!),typeof(DiffEqBase.INITIALIZE_DEFAULT),typeof(DiffEqBase.FINALIZE_DEFAULT)}}}((), (DiscreteCallback{typeof(boiling_condition),typeof(boiling_affect!),typeof(DiffEqBase.INITIALIZE_DEFAULT),typeof(DiffEqBase.FINALIZE_DEFAULT)}(boiling_condition, boiling_affect!, DiffEqBase.INITIALIZE_DEFAULT, DiffEqBase.FINALIZE_DEFAULT, Bool[1, 1]), DiscreteCallback{typeof(merging_condition),typeof(merging_affect!),typeof(DiffEqBase.INITIALIZE_DEFAULT),typeof(DiffEqBase.FINALIZE_DEFAULT)}(merging_condition, merging_affect!, DiffEqBase.INITIALIZE_DEFAULT, DiffEqBase.FINALIZE_DEFAULT, Bool[1, 1])))"
      ]
     },
     "execution_count": 103,
     "metadata": {},
     "output_type": "execute_result"
    }
   ],
   "source": [
    "cb_boiling =  DiscreteCallback(boiling_condition,boiling_affect!)\n",
    "cb_merging =  DiscreteCallback(merging_condition,merging_affect!)\n",
    "\n",
    "cb = CallbackSet(cb_boiling,cb_merging)"
   ]
  },
  {
   "cell_type": "code",
   "execution_count": 104,
   "metadata": {
    "scrolled": true
   },
   "outputs": [
    {
     "ename": "LoadError",
     "evalue": "\u001b[91mStackOverflowError:\u001b[39m",
     "output_type": "error",
     "traceback": [
      "\u001b[91mStackOverflowError:\u001b[39m",
      "",
      "Stacktrace:",
      " [1] recursive_unitless_bottom_eltype(::Type{Any}) at C:\\Users\\liyux\\.julia\\packages\\RecursiveArrayTools\\K3lTR\\src\\utils.jl:86 (repeats 65212 times)",
      " [2] recursive_unitless_bottom_eltype(::Type{Array{Any,1}}) at C:\\Users\\liyux\\.julia\\packages\\RecursiveArrayTools\\K3lTR\\src\\utils.jl:87",
      " [3] recursive_unitless_bottom_eltype(::Array{Any,1}) at C:\\Users\\liyux\\.julia\\packages\\RecursiveArrayTools\\K3lTR\\src\\utils.jl:85",
      " [4] __init(::ODEProblem{Array{Any,1},Tuple{Float64,Float64},false,PHPSystem,ODEFunction{false,typeof(ODE_innertube),UniformScaling{Bool},Nothing,Nothing,Nothing,Nothing,Nothing,Nothing,Nothing,Nothing,Nothing,Nothing,Nothing,Nothing,typeof(SciMLBase.DEFAULT_OBSERVED),Nothing},Base.Iterators.Pairs{Union{},Union{},Tuple{},NamedTuple{(),Tuple{}}},SciMLBase.StandardODEProblem}, ::RK4, ::Tuple{}, ::Tuple{}, ::Tuple{}, ::Type{Val{true}}; saveat::Tuple{}, tstops::Tuple{}, d_discontinuities::Tuple{}, save_idxs::Nothing, save_everystep::Bool, save_on::Bool, save_start::Bool, save_end::Nothing, callback::CallbackSet{Tuple{},Tuple{DiscreteCallback{typeof(boiling_condition),typeof(boiling_affect!),typeof(DiffEqBase.INITIALIZE_DEFAULT),typeof(DiffEqBase.FINALIZE_DEFAULT)},DiscreteCallback{typeof(merging_condition),typeof(merging_affect!),typeof(DiffEqBase.INITIALIZE_DEFAULT),typeof(DiffEqBase.FINALIZE_DEFAULT)}}}, dense::Bool, calck::Bool, dt::Float64, dtmin::Nothing, dtmax::Float64, force_dtmin::Bool, adaptive::Bool, gamma::Rational{Int64}, abstol::Nothing, reltol::Nothing, qmin::Rational{Int64}, qmax::Int64, qsteady_min::Int64, qsteady_max::Int64, qoldinit::Rational{Int64}, fullnormalize::Bool, failfactor::Int64, beta1::Nothing, beta2::Nothing, maxiters::Int64, internalnorm::typeof(DiffEqBase.ODE_DEFAULT_NORM), internalopnorm::typeof(opnorm), isoutofdomain::typeof(DiffEqBase.ODE_DEFAULT_ISOUTOFDOMAIN), unstable_check::typeof(DiffEqBase.ODE_DEFAULT_UNSTABLE_CHECK), verbose::Bool, timeseries_errors::Bool, dense_errors::Bool, advance_to_tstop::Bool, stop_at_next_tstop::Bool, initialize_save::Bool, progress::Bool, progress_steps::Int64, progress_name::String, progress_message::typeof(DiffEqBase.ODE_DEFAULT_PROG_MESSAGE), userdata::Nothing, allow_extrapolation::Bool, initialize_integrator::Bool, alias_u0::Bool, alias_du0::Bool, initializealg::OrdinaryDiffEq.DefaultInit, kwargs::Base.Iterators.Pairs{Union{},Union{},Tuple{},NamedTuple{(),Tuple{}}}) at C:\\Users\\liyux\\.julia\\packages\\OrdinaryDiffEq\\coWkg\\src\\solve.jl:149",
      " [5] init_call(::ODEProblem{Array{Any,1},Tuple{Float64,Float64},false,PHPSystem,ODEFunction{false,typeof(ODE_innertube),UniformScaling{Bool},Nothing,Nothing,Nothing,Nothing,Nothing,Nothing,Nothing,Nothing,Nothing,Nothing,Nothing,Nothing,typeof(SciMLBase.DEFAULT_OBSERVED),Nothing},Base.Iterators.Pairs{Union{},Union{},Tuple{},NamedTuple{(),Tuple{}}},SciMLBase.StandardODEProblem}, ::RK4; merge_callbacks::Bool, kwargs::Base.Iterators.Pairs{Symbol,Any,Tuple{Symbol,Symbol},NamedTuple{(:dt, :callback),Tuple{Float64,CallbackSet{Tuple{},Tuple{DiscreteCallback{typeof(boiling_condition),typeof(boiling_affect!),typeof(DiffEqBase.INITIALIZE_DEFAULT),typeof(DiffEqBase.FINALIZE_DEFAULT)},DiscreteCallback{typeof(merging_condition),typeof(merging_affect!),typeof(DiffEqBase.INITIALIZE_DEFAULT),typeof(DiffEqBase.FINALIZE_DEFAULT)}}}}}}) at C:\\Users\\liyux\\.julia\\packages\\DiffEqBase\\U3Zj7\\src\\solve.jl:28",
      " [6] init(::ODEProblem{Array{Any,1},Tuple{Float64,Float64},false,PHPSystem,ODEFunction{false,typeof(ODE_innertube),UniformScaling{Bool},Nothing,Nothing,Nothing,Nothing,Nothing,Nothing,Nothing,Nothing,Nothing,Nothing,Nothing,Nothing,typeof(SciMLBase.DEFAULT_OBSERVED),Nothing},Base.Iterators.Pairs{Union{},Union{},Tuple{},NamedTuple{(),Tuple{}}},SciMLBase.StandardODEProblem}, ::RK4; kwargs::Base.Iterators.Pairs{Symbol,Any,Tuple{Symbol,Symbol},NamedTuple{(:dt, :callback),Tuple{Float64,CallbackSet{Tuple{},Tuple{DiscreteCallback{typeof(boiling_condition),typeof(boiling_affect!),typeof(DiffEqBase.INITIALIZE_DEFAULT),typeof(DiffEqBase.FINALIZE_DEFAULT)},DiscreteCallback{typeof(merging_condition),typeof(merging_affect!),typeof(DiffEqBase.INITIALIZE_DEFAULT),typeof(DiffEqBase.FINALIZE_DEFAULT)}}}}}}) at C:\\Users\\liyux\\.julia\\packages\\DiffEqBase\\U3Zj7\\src\\solve.jl:40",
      " [7] top-level scope at In[104]:7",
      " [8] include_string(::Function, ::Module, ::String, ::String) at .\\loading.jl:1091"
     ]
    }
   ],
   "source": [
    "tstep=1e-4\n",
    "\n",
    "p = sys0\n",
    "tspan = (0.0,0.1)\n",
    "prob = ODEProblem(ODE_innertube, u, tspan, p)\n",
    "\n",
    "integrator = init(prob, RK4(), dt=tstep, callback=cb);\n",
    "\n",
    "\n",
    "solve!(integrator)\n",
    "\n"
   ]
  },
  {
   "cell_type": "code",
   "execution_count": 77,
   "metadata": {},
   "outputs": [
    {
     "ename": "LoadError",
     "evalue": "\u001b[91mUndefVarError: integrator not defined\u001b[39m",
     "output_type": "error",
     "traceback": [
      "\u001b[91mUndefVarError: integrator not defined\u001b[39m",
      "",
      "Stacktrace:",
      " [1] top-level scope at In[77]:1",
      " [2] include_string(::Function, ::Module, ::String, ::String) at .\\loading.jl:1091"
     ]
    }
   ],
   "source": [
    "p = deepcopy(getcurrentsys(integrator.sol[end],sys0));\n",
    "p.liquid.Xp"
   ]
  },
  {
   "cell_type": "code",
   "execution_count": 78,
   "metadata": {},
   "outputs": [
    {
     "ename": "LoadError",
     "evalue": "\u001b[91mUndefVarError: integrator not defined\u001b[39m",
     "output_type": "error",
     "traceback": [
      "\u001b[91mUndefVarError: integrator not defined\u001b[39m",
      "",
      "Stacktrace:",
      " [1] top-level scope at In[78]:1",
      " [2] include_string(::Function, ::Module, ::String, ::String) at .\\loading.jl:1091"
     ]
    }
   ],
   "source": [
    "sol = integrator.sol\n",
    "sysfinal = getcurrentsys.(sol.u,[sys0]);"
   ]
  },
  {
   "cell_type": "code",
   "execution_count": 79,
   "metadata": {},
   "outputs": [
    {
     "ename": "LoadError",
     "evalue": "\u001b[91mUndefVarError: sysfinal not defined\u001b[39m",
     "output_type": "error",
     "traceback": [
      "\u001b[91mUndefVarError: sysfinal not defined\u001b[39m",
      "",
      "Stacktrace:",
      " [1] top-level scope at C:\\Users\\liyux\\.julia\\packages\\Plots\\vVVub\\src\\animation.jl:183",
      " [2] include_string(::Function, ::Module, ::String, ::String) at .\\loading.jl:1091"
     ]
    }
   ],
   "source": [
    "# closed loop plot\n",
    "@gif for i=1:500:length(sysfinal)\n",
    "\n",
    "    Xpvapor = getXpvapor(sysfinal[i].liquid.Xp,sysfinal[i].tube.L,sysfinal[i].tube.closedornot)\n",
    "    θvapor  = (sysfinal[i].vapor.P).^((γ-1)/γ)\n",
    "    Xp = sysfinal[i].liquid.Xp\n",
    "    \n",
    "    p = plot([sysfinal[i].wall.Xarray],[sysfinal[i].wall.θarray], linewidth=3, color = [:black], labels = \"θwall\", xlabel=\"X\", ylabel=\"θ\", title=(\"dimensionless temperatures\"),xlim=(0,4), ylim=(0.8,1.2))\n",
    "    \n",
    "    \n",
    "    j=1\n",
    "    while j <= length(Xp)\n",
    "        if Xp[j][end] >= Xp[j][1]\n",
    "            plot!(p, [sysfinal[i].liquid.Xarrays[j]],[sysfinal[i].liquid.θarrays[j]], linewidth=2, labels = string(\"θliquid \",j))\n",
    "            else \n",
    "            # find the index at the end\n",
    "            index = findfirst(x->x <= sysfinal[i].liquid.Xarrays[j][end], sysfinal[i].liquid.Xarrays[j])\n",
    "            \n",
    "            plot!(p, [sysfinal[i].liquid.Xarrays[j][1:index-1]],[sysfinal[i].liquid.θarrays[j][1:index-1]], linewidth=2, labels = string(\"θliquid \",j))\n",
    "            plot!(p, [sysfinal[i].liquid.Xarrays[j][index:end]],[sysfinal[i].liquid.θarrays[j][index:end]], linewidth=2, labels = string(\"θliquid \",j))\n",
    "\n",
    "        end\n",
    "        \n",
    "        j += 1\n",
    "    end\n",
    "\n",
    "        j=1\n",
    "    while j <= length(Xpvapor)\n",
    "        if Xpvapor[j][end] >= Xpvapor[j][1]\n",
    "            plot!(p,[Xpvapor[j][1],Xpvapor[j][end]],[θvapor[j]], labels = string(\"θvapor \",j))\n",
    "            else\n",
    "            \n",
    "            plot!(p,[0.0,Xpvapor[j][end]],[θvapor[j]], labels = string(\"θvapor \",j))\n",
    "            plot!(p,[Xpvapor[j][1],L],[θvapor[j]], labels = string(\"θvapor \",j))\n",
    "\n",
    "        end\n",
    "        \n",
    "        j += 1\n",
    "    end\n",
    "    \n",
    "#     j = 1\n",
    "#     plot!(p,[0.0,Xpvapor[j][end]],[θvapor[j]], labels = string(\"θvapor \",j))\n",
    "#     plot!(p,[Xpvapor[j][1],L],[θvapor[j]], labels = string(\"θvapor \",j))\n",
    "    \n",
    "#     j = 2\n",
    "#     while j  <= length(θvapor) \n",
    "    \n",
    "#         plot!(p,[Xpvapor[j][1],Xpvapor[j][end]],[θvapor[j]], labels = string(\"θvapor \",j))\n",
    "        \n",
    "#         j += 1\n",
    "#     end\n",
    "\n",
    "    vline!( p, [collect(0:2:4)], color=[:blue,:red], width=196, alpha=[0.3,0.3,0.3],labels = \"\")\n",
    "    \n",
    "    end "
   ]
  },
  {
   "cell_type": "code",
   "execution_count": 24,
   "metadata": {},
   "outputs": [
    {
     "data": {
      "text/plain": [
       "18.057060310581438"
      ]
     },
     "execution_count": 24,
     "metadata": {},
     "output_type": "execute_result"
    }
   ],
   "source": [
    "constant = 2.5e6/461.5/300"
   ]
  },
  {
   "cell_type": "code",
   "execution_count": 25,
   "metadata": {},
   "outputs": [
    {
     "data": {
      "text/plain": [
       "onePtooneT (generic function with 1 method)"
      ]
     },
     "execution_count": 25,
     "metadata": {},
     "output_type": "execute_result"
    }
   ],
   "source": [
    "function onePtooneT(P,constant)\n",
    "    1/(1-(log(P)/constant))\n",
    "end"
   ]
  },
  {
   "cell_type": "code",
   "execution_count": 26,
   "metadata": {},
   "outputs": [
    {
     "data": {
      "text/plain": [
       "1.0"
      ]
     },
     "execution_count": 26,
     "metadata": {},
     "output_type": "execute_result"
    }
   ],
   "source": [
    "onePtooneT(1.0,constant)"
   ]
  },
  {
   "cell_type": "code",
   "execution_count": 27,
   "metadata": {},
   "outputs": [
    {
     "data": {
      "text/plain": [
       "0.0"
      ]
     },
     "execution_count": 27,
     "metadata": {},
     "output_type": "execute_result"
    }
   ],
   "source": [
    "XX = constructXarrays(L::Float64,N,θinitial)\n",
    "\n",
    "XX[1][1]"
   ]
  },
  {
   "cell_type": "code",
   "execution_count": 28,
   "metadata": {},
   "outputs": [
    {
     "ename": "LoadError",
     "evalue": "\u001b[91mUndefVarError: sysfinal not defined\u001b[39m",
     "output_type": "error",
     "traceback": [
      "\u001b[91mUndefVarError: sysfinal not defined\u001b[39m",
      "",
      "Stacktrace:",
      " [1] top-level scope at In[28]:1",
      " [2] include_string(::Function, ::Module, ::String, ::String) at .\\loading.jl:1091"
     ]
    }
   ],
   "source": [
    "plot(sys_to_heatflux(sysfinal[end]))"
   ]
  },
  {
   "cell_type": "code",
   "execution_count": 29,
   "metadata": {},
   "outputs": [
    {
     "ename": "LoadError",
     "evalue": "\u001b[91mUndefVarError: u not defined\u001b[39m",
     "output_type": "error",
     "traceback": [
      "\u001b[91mUndefVarError: u not defined\u001b[39m",
      "",
      "Stacktrace:",
      " [1] top-level scope at .\\timing.jl:174 [inlined]",
      " [2] top-level scope at .\\In[29]:0",
      " [3] include_string(::Function, ::Module, ::String, ::String) at .\\loading.jl:1091"
     ]
    }
   ],
   "source": [
    "@time ODE_innertube(u,sys0,0.0)"
   ]
  },
  {
   "cell_type": "code",
   "execution_count": 30,
   "metadata": {},
   "outputs": [
    {
     "ename": "LoadError",
     "evalue": "\u001b[91mUndefVarError: u not defined\u001b[39m",
     "output_type": "error",
     "traceback": [
      "\u001b[91mUndefVarError: u not defined\u001b[39m",
      "",
      "Stacktrace:",
      " [1] top-level scope at .\\timing.jl:174 [inlined]",
      " [2] top-level scope at .\\In[30]:0",
      " [3] include_string(::Function, ::Module, ::String, ::String) at .\\loading.jl:1091"
     ]
    }
   ],
   "source": [
    "@time ODE_innertube(u,sys0,0.0);"
   ]
  },
  {
   "cell_type": "code",
   "execution_count": 31,
   "metadata": {},
   "outputs": [
    {
     "ename": "LoadError",
     "evalue": "\u001b[91mUndefVarError: u not defined\u001b[39m",
     "output_type": "error",
     "traceback": [
      "\u001b[91mUndefVarError: u not defined\u001b[39m",
      "",
      "Stacktrace:",
      " [1] top-level scope at timing.jl:174",
      " [2] include_string(::Function, ::Module, ::String, ::String) at .\\loading.jl:1091"
     ]
    }
   ],
   "source": [
    "@time index_dynamics_end = findfirst(x->abs(x+1e10) <= 10^(-1), u)"
   ]
  },
  {
   "cell_type": "code",
   "execution_count": 32,
   "metadata": {},
   "outputs": [
    {
     "ename": "LoadError",
     "evalue": "\u001b[91mUndefVarError: u not defined\u001b[39m",
     "output_type": "error",
     "traceback": [
      "\u001b[91mUndefVarError: u not defined\u001b[39m",
      "",
      "Stacktrace:",
      " [1] top-level scope at .\\timing.jl:174 [inlined]",
      " [2] top-level scope at .\\In[32]:0",
      " [3] include_string(::Function, ::Module, ::String, ::String) at .\\loading.jl:1091"
     ]
    }
   ],
   "source": [
    "@time newsys = getcurrentsys(u,sys0)"
   ]
  },
  {
   "cell_type": "code",
   "execution_count": 33,
   "metadata": {},
   "outputs": [],
   "source": [
    "cd(dirname(pwd()))\n",
    "cd(\"src\") \n",
    "\n",
    "includet(\"OneDOHP.jl\")\n",
    "using ..OneDOHP"
   ]
  }
 ],
 "metadata": {
  "kernelspec": {
   "display_name": "Julia 1.5.4",
   "language": "julia",
   "name": "julia-1.5"
  },
  "language_info": {
   "file_extension": ".jl",
   "mimetype": "application/julia",
   "name": "julia",
   "version": "1.5.4"
  }
 },
 "nbformat": 4,
 "nbformat_minor": 2
}
