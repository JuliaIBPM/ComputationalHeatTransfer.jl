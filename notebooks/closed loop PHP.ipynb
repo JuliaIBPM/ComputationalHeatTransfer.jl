{
 "cells": [
  {
   "cell_type": "markdown",
   "metadata": {},
   "source": [
    "## U shape PHP dynamics with multiple liquid slugs - with heat transfer"
   ]
  },
  {
   "cell_type": "markdown",
   "metadata": {},
   "source": [
    "## wall heat equation\n",
    "\n",
    "## $\\frac{\\partial \\theta }{\\partial \\mathcal{T}} = \\nabla^2 \\theta + W_{evaporator} + H_{condenser}(\\theta_{condenser} - \\theta_{wall}) + H_{fluid}(\\theta_{fluid} - \\theta_{wall})$"
   ]
  },
  {
   "cell_type": "markdown",
   "metadata": {},
   "source": [
    "## liquid heat equation\n",
    "\n",
    "## $\\frac{\\partial \\theta }{\\partial \\mathcal{T}} = \\nabla^2 \\theta + H_{fluid}(\\theta_{wall} - \\theta_{fluid})$"
   ]
  },
  {
   "cell_type": "markdown",
   "metadata": {},
   "source": [
    "## dynamics equations\n",
    "We solve a set of governing equations:\n",
    "\n",
    "1. Momentum equation:\n",
    " ## $\\frac{\\mathrm{d}^{2} X_{p}}{\\mathrm{d} \\tau^{2}}+32 \\frac{\\mathrm{d} X_{p}}{\\mathrm{d} \\tau}+\\omega_{0}^{2} X_{p}=\\wp\\left(P_{1}-P_{2}\\right)$\n",
    " \n",
    "2. Perfect gas law combined with first law of thermodynamics:\n",
    "\n",
    " ## $M_{i}=P_{i}^{1 / \\gamma}L_{i}$\n",
    " \n",
    " ## $\\theta_{i}=P_{i}^{(\\gamma-1) / \\gamma}$\n",
    " \n",
    "\n",
    "\n",
    "3. The phase change relations between the mass of vapor and the heat transfer from the wall\n",
    " ## $\\frac{\\mathrm{d} M_{i}}{\\mathrm{d} \\mathcal{T}}=\\int_{X_{start}}^{X_{end}} H_{vapor} (\\theta_{wall} - \\theta_{vapor}) dX$\n",
    "\n",
    " \n"
   ]
  },
  {
   "cell_type": "markdown",
   "metadata": {},
   "source": [
    "## nucleate boiling\n",
    "\n",
    "$nucleatenum = 2$ is the number of nucleation sites. It is distributed randomly for every start time.\n",
    "\n",
    "$\\Delta t = 0.1$ is the time interval for nucleations, for now it is uniform for all nucleation sites, can be modified later on.\n",
    "\n",
    "$Δθthreshold = 0.01$ is the super heat threshold.\n",
    "\n",
    "So it means that at time $\\Delta t$,  $2\\Delta t$,  $3\\Delta t$ ... and so on. It will check if the nucleation sites are in the liquid slug region and if the superheat is fulfilled. if so, it will reslease one or several $L=0.02, P=1$ new vapor bubbles"
   ]
  },
  {
   "cell_type": "code",
   "execution_count": 1,
   "metadata": {},
   "outputs": [
    {
     "data": {
      "text/plain": [
       "Plots.PyPlotBackend()"
      ]
     },
     "execution_count": 1,
     "metadata": {},
     "output_type": "execute_result"
    }
   ],
   "source": [
    "using Revise\n",
    "using LinearAlgebra\n",
    "using DifferentialEquations\n",
    "using Plots\n",
    "pyplot()"
   ]
  },
  {
   "cell_type": "code",
   "execution_count": null,
   "metadata": {},
   "outputs": [],
   "source": [
    "cd(dirname(pwd()))\n",
    "cd(\"src\") \n",
    "\n",
    "includet(\"OneDOHP.jl\")\n",
    "using ..OneDOHP"
   ]
  },
  {
   "cell_type": "markdown",
   "metadata": {},
   "source": [
    "## Parameters of the PHP"
   ]
  },
  {
   "cell_type": "code",
   "execution_count": null,
   "metadata": {},
   "outputs": [],
   "source": [
    "    ω = sqrt(1.68e003);\n",
    "    ℘L = 6.2e004;\n",
    "    k = 115e-003\n",
    "\n",
    "    θinitial=1.0\n",
    "    θc = 1.0; # useless\n",
    "\n",
    "    Hwc = 0.0; #not useful later on. H between wall and condenser, \n",
    "    Hₗ   =  1600.0; # liquid wall heat transfer coeffcient\n",
    "#     Hₗ   =  2.57e004; # liquid wall heat transfer coeffcient\n",
    "    Hδ  = 7.34e002;\n"
   ]
  },
  {
   "cell_type": "code",
   "execution_count": null,
   "metadata": {},
   "outputs": [],
   "source": [
    "    \n",
    "    d = 6.56e-3 # dimensionless diameter\n",
    "    L = 35.0  # total length of the pipe when streched to a 1D pipe\n",
    "    L2D = 1.0 # the actual length of the bended pipe in the real world\n",
    "    angle = 0*pi/2 # inclination angle \n",
    "    closedornot = true"
   ]
  },
  {
   "cell_type": "code",
   "execution_count": null,
   "metadata": {},
   "outputs": [],
   "source": [
    "    nucleatenum = 10\n",
    "    Xstations = sort(rand(nucleatenum).*L);\n",
    "#     boilingΔt = 0.05"
   ]
  },
  {
   "cell_type": "markdown",
   "metadata": {},
   "source": [
    "## Pipe definition"
   ]
  },
  {
   "cell_type": "code",
   "execution_count": null,
   "metadata": {},
   "outputs": [],
   "source": [
    "tube = Tube(d,L,L2D,angle,closedornot);"
   ]
  },
  {
   "cell_type": "markdown",
   "metadata": {},
   "source": [
    "## Evaporator and condenser definition"
   ]
  },
  {
   "cell_type": "code",
   "execution_count": null,
   "metadata": {},
   "outputs": [],
   "source": [
    "Xe = map(tuple, [1.0], [3.0])\n",
    "We = [0.0]\n",
    "evap = Evaporator(Xe,We);"
   ]
  },
  {
   "cell_type": "code",
   "execution_count": null,
   "metadata": {},
   "outputs": [],
   "source": [
    "Xc = map(tuple, [0.0,3.0], [1.0,4.0])\n",
    "cond = Condenser(θc,Xc,Hwc);"
   ]
  },
  {
   "cell_type": "markdown",
   "metadata": {},
   "source": [
    "## Vapor plug and liquid slug initialization"
   ]
  },
  {
   "cell_type": "code",
   "execution_count": null,
   "metadata": {},
   "outputs": [],
   "source": [
    "numofX=16\n",
    "Xps = sort(rand(2*numofX).*L);\n",
    "Xp1s = Xps[1:2:end];\n",
    "Xp2s = Xps[2:2:end];\n",
    "\n",
    "dXdt0 = map(tuple,0*Xp1s,0*Xp2s)\n",
    "X0 = map(tuple,Xp1s,Xp2s)\n"
   ]
  },
  {
   "cell_type": "code",
   "execution_count": null,
   "metadata": {},
   "outputs": [],
   "source": [
    "N=6000\n",
    "# X0 = [(L/4, L*3/4)]\n",
    "# dXdt0 = [(0.0,0.0)]\n",
    "ρ = 214.6\n",
    "Xarrays,θarrays = constructXarrays(X0,N,θinitial,L)\n",
    "liquids=Liquid(Hₗ,ρ,ω,℘L,X0,dXdt0,Xarrays,θarrays);"
   ]
  },
  {
   "cell_type": "code",
   "execution_count": null,
   "metadata": {},
   "outputs": [],
   "source": [
    "N=500\n",
    "X0 = [(1.0, 3.0)]\n",
    "dXdt0 = [(0.0,0.0)]\n",
    "ρ = 1000\n",
    "Xarrays,θarrays = constructXarrays(X0,N,θinitial,L)\n",
    "liquids=Liquid(Hₗ,ρ,ω,℘L,X0,dXdt0,Xarrays,θarrays);"
   ]
  },
  {
   "cell_type": "code",
   "execution_count": null,
   "metadata": {},
   "outputs": [],
   "source": [
    "# P = [1.0,1.0,1.0,1.0,1.0]; # closed end\n",
    "\n",
    "γ = 1.4;\n",
    "Hδ = 7.34e2\n",
    "P = 0*Xp1s .+ 1.0;\n",
    "δ = 0*Xp1s .+ 2.86e-02;\n",
    "vapors=Vapor(γ,Hδ,P,δ);"
   ]
  },
  {
   "cell_type": "code",
   "execution_count": null,
   "metadata": {},
   "outputs": [],
   "source": [
    "α = 0 # nondimensional thermal diffusivity = (αₐ d^2) / (νₗ height^2)\n",
    "Xwallarray,θwallarray = constructXarrays(L,N,θinitial)\n",
    "\n",
    "wall = Wall(α,Δt,Xstations,Xwallarray,θwallarray);"
   ]
  },
  {
   "cell_type": "code",
   "execution_count": null,
   "metadata": {},
   "outputs": [],
   "source": [
    "walltoliquid, liquidtowall = constructmapping(Xarrays,Xwallarray,closedornot,L)\n",
    "mapping = Mapping(walltoliquid,liquidtowall);"
   ]
  },
  {
   "cell_type": "markdown",
   "metadata": {},
   "source": [
    "## Construct the system"
   ]
  },
  {
   "cell_type": "code",
   "execution_count": null,
   "metadata": {
    "scrolled": true
   },
   "outputs": [],
   "source": [
    "sys0 = PHPSystem(tube,evap,cond,liquids,vapors,wall,mapping);"
   ]
  },
  {
   "cell_type": "code",
   "execution_count": null,
   "metadata": {
    "scrolled": false
   },
   "outputs": [],
   "source": [
    "typeof(sys0)"
   ]
  },
  {
   "cell_type": "markdown",
   "metadata": {},
   "source": [
    "## Construct U for wall heat function"
   ]
  },
  {
   "cell_type": "markdown",
   "metadata": {},
   "source": [
    "## construct state vector U"
   ]
  },
  {
   "cell_type": "code",
   "execution_count": null,
   "metadata": {},
   "outputs": [],
   "source": [
    "Lvaporplug = XptoLvaporplug(X0,sys0.tube.L,sys0.tube.closedornot)\n",
    "M = P.^(1/γ).* Lvaporplug\n",
    "\n",
    "\n",
    "u=[XMδtovec(X0,dXdt0,M,δ); wallθtovec(sys0.wall.θarray); liquidθtovec(sys0.liquid.θarrays)];"
   ]
  },
  {
   "cell_type": "code",
   "execution_count": null,
   "metadata": {},
   "outputs": [],
   "source": [
    "# plot([sys0.wall.Xarray],[sys0.wall.θarray], title=\"initial temperature condition\", labels = \"θ\", xlabel=\"X\", ylabel=\"θ\")"
   ]
  },
  {
   "cell_type": "markdown",
   "metadata": {},
   "source": [
    "## Solve the constructed ODE for U"
   ]
  },
  {
   "cell_type": "code",
   "execution_count": null,
   "metadata": {},
   "outputs": [],
   "source": [
    "cb_boiling =  DiscreteCallback(boiling_condition,boiling_affect!)\n",
    "cb_merging =  DiscreteCallback(merging_condition,merging_affect!)\n",
    "\n",
    "cb = CallbackSet(cb_boiling,cb_merging)"
   ]
  },
  {
   "cell_type": "code",
   "execution_count": null,
   "metadata": {
    "scrolled": true
   },
   "outputs": [],
   "source": [
    "tstep=1e-4\n",
    "\n",
    "p = sys0\n",
    "tspan = (0.0,0.1)\n",
    "prob = ODEProblem(ODE_innertube, u, tspan, p)\n",
    "\n",
    "integrator = init(prob, RK4(), dt=tstep, callback=cb);\n",
    "\n",
    "\n",
    "solve!(integrator)\n",
    "\n"
   ]
  },
  {
   "cell_type": "code",
   "execution_count": null,
   "metadata": {},
   "outputs": [],
   "source": [
    "p = deepcopy(getcurrentsys(integrator.sol[end],sys0));\n",
    "p.liquid.Xp"
   ]
  },
  {
   "cell_type": "code",
   "execution_count": null,
   "metadata": {},
   "outputs": [],
   "source": [
    "sol = integrator.sol\n",
    "sysfinal = getcurrentsys.(sol.u,[sys0]);"
   ]
  },
  {
   "cell_type": "code",
   "execution_count": null,
   "metadata": {},
   "outputs": [],
   "source": [
    "# closed loop plot\n",
    "@gif for i=1:500:length(sysfinal)\n",
    "\n",
    "    Xpvapor = getXpvapor(sysfinal[i].liquid.Xp,sysfinal[i].tube.L,sysfinal[i].tube.closedornot)\n",
    "    θvapor  = (sysfinal[i].vapor.P).^((γ-1)/γ)\n",
    "    Xp = sysfinal[i].liquid.Xp\n",
    "    \n",
    "    p = plot([sysfinal[i].wall.Xarray],[sysfinal[i].wall.θarray], linewidth=3, color = [:black], labels = \"θwall\", xlabel=\"X\", ylabel=\"θ\", title=(\"dimensionless temperatures\"),xlim=(0,4), ylim=(0.8,1.2))\n",
    "    \n",
    "    \n",
    "    j=1\n",
    "    while j <= length(Xp)\n",
    "        if Xp[j][end] >= Xp[j][1]\n",
    "            plot!(p, [sysfinal[i].liquid.Xarrays[j]],[sysfinal[i].liquid.θarrays[j]], linewidth=2, labels = string(\"θliquid \",j))\n",
    "            else \n",
    "            # find the index at the end\n",
    "            index = findfirst(x->x <= sysfinal[i].liquid.Xarrays[j][end], sysfinal[i].liquid.Xarrays[j])\n",
    "            \n",
    "            plot!(p, [sysfinal[i].liquid.Xarrays[j][1:index-1]],[sysfinal[i].liquid.θarrays[j][1:index-1]], linewidth=2, labels = string(\"θliquid \",j))\n",
    "            plot!(p, [sysfinal[i].liquid.Xarrays[j][index:end]],[sysfinal[i].liquid.θarrays[j][index:end]], linewidth=2, labels = string(\"θliquid \",j))\n",
    "\n",
    "        end\n",
    "        \n",
    "        j += 1\n",
    "    end\n",
    "\n",
    "        j=1\n",
    "    while j <= length(Xpvapor)\n",
    "        if Xpvapor[j][end] >= Xpvapor[j][1]\n",
    "            plot!(p,[Xpvapor[j][1],Xpvapor[j][end]],[θvapor[j]], labels = string(\"θvapor \",j))\n",
    "            else\n",
    "            \n",
    "            plot!(p,[0.0,Xpvapor[j][end]],[θvapor[j]], labels = string(\"θvapor \",j))\n",
    "            plot!(p,[Xpvapor[j][1],L],[θvapor[j]], labels = string(\"θvapor \",j))\n",
    "\n",
    "        end\n",
    "        \n",
    "        j += 1\n",
    "    end\n",
    "    \n",
    "#     j = 1\n",
    "#     plot!(p,[0.0,Xpvapor[j][end]],[θvapor[j]], labels = string(\"θvapor \",j))\n",
    "#     plot!(p,[Xpvapor[j][1],L],[θvapor[j]], labels = string(\"θvapor \",j))\n",
    "    \n",
    "#     j = 2\n",
    "#     while j  <= length(θvapor) \n",
    "    \n",
    "#         plot!(p,[Xpvapor[j][1],Xpvapor[j][end]],[θvapor[j]], labels = string(\"θvapor \",j))\n",
    "        \n",
    "#         j += 1\n",
    "#     end\n",
    "\n",
    "    vline!( p, [collect(0:2:4)], color=[:blue,:red], width=196, alpha=[0.3,0.3,0.3],labels = \"\")\n",
    "    \n",
    "    end "
   ]
  },
  {
   "cell_type": "code",
   "execution_count": null,
   "metadata": {},
   "outputs": [],
   "source": [
    "constant = 2.5e6/461.5/300"
   ]
  },
  {
   "cell_type": "code",
   "execution_count": null,
   "metadata": {},
   "outputs": [],
   "source": [
    "function onePtooneT(P,constant)\n",
    "    1/(1-(log(P)/constant))\n",
    "end"
   ]
  },
  {
   "cell_type": "code",
   "execution_count": null,
   "metadata": {},
   "outputs": [],
   "source": [
    "onePtooneT(1.0,constant)"
   ]
  },
  {
   "cell_type": "code",
   "execution_count": null,
   "metadata": {},
   "outputs": [],
   "source": [
    "XX = constructXarrays(L::Float64,N,θinitial)\n",
    "\n",
    "XX[1][1]"
   ]
  },
  {
   "cell_type": "code",
   "execution_count": null,
   "metadata": {},
   "outputs": [],
   "source": [
    "plot(sys_to_heatflux(sysfinal[end]))"
   ]
  },
  {
   "cell_type": "code",
   "execution_count": null,
   "metadata": {},
   "outputs": [],
   "source": [
    "@time ODE_innertube(u,sys0,0.0)"
   ]
  },
  {
   "cell_type": "code",
   "execution_count": null,
   "metadata": {},
   "outputs": [],
   "source": [
    "@time ODE_innertube(u,sys0,0.0);"
   ]
  },
  {
   "cell_type": "code",
   "execution_count": null,
   "metadata": {},
   "outputs": [],
   "source": [
    "@time index_dynamics_end = findfirst(x->abs(x+1e10) <= 10^(-1), u)"
   ]
  },
  {
   "cell_type": "code",
   "execution_count": null,
   "metadata": {},
   "outputs": [],
   "source": [
    "@time newsys = getcurrentsys(u,sys0)"
   ]
  },
  {
   "cell_type": "code",
   "execution_count": null,
   "metadata": {},
   "outputs": [],
   "source": [
    "cd(dirname(pwd()))\n",
    "cd(\"src\") \n",
    "\n",
    "includet(\"OneDOHP.jl\")\n",
    "using ..OneDOHP"
   ]
  }
 ],
 "metadata": {
  "kernelspec": {
   "display_name": "Julia 1.5.4",
   "language": "julia",
   "name": "julia-1.5"
  },
  "language_info": {
   "file_extension": ".jl",
   "mimetype": "application/julia",
   "name": "julia",
   "version": "1.5.4"
  }
 },
 "nbformat": 4,
 "nbformat_minor": 2
}
