{
 "cells": [
  {
   "cell_type": "markdown",
   "metadata": {},
   "source": [
    "## U shape PHP dynamics with multiple liquid slugs - with heat transfer"
   ]
  },
  {
   "cell_type": "markdown",
   "metadata": {},
   "source": [
    "## wall heat equation\n",
    "\n",
    "## $\\frac{\\partial \\theta }{\\partial \\mathcal{T}} = \\nabla^2 \\theta + W_{evaporator} + H_{condenser}(\\theta_{condenser} - \\theta_{wall}) + H_{fluid}(\\theta_{fluid} - \\theta_{wall})$"
   ]
  },
  {
   "cell_type": "markdown",
   "metadata": {},
   "source": [
    "## liquid heat equation\n",
    "\n",
    "## $\\frac{\\partial \\theta }{\\partial \\mathcal{T}} = \\nabla^2 \\theta + H_{fluid}(\\theta_{wall} - \\theta_{fluid})$"
   ]
  },
  {
   "cell_type": "markdown",
   "metadata": {},
   "source": [
    "## dynamics equations\n",
    "We solve a set of governing equations:\n",
    "\n",
    "1. Momentum equation:\n",
    " ## $\\frac{\\mathrm{d}^{2} X_{p}}{\\mathrm{d} \\tau^{2}}+32 \\frac{\\mathrm{d} X_{p}}{\\mathrm{d} \\tau}+\\omega_{0}^{2} X_{p}=\\wp\\left(P_{1}-P_{2}\\right)$\n",
    " \n",
    "2. Perfect gas law combined with first law of thermodynamics:\n",
    "\n",
    " ## $M_{i}=P_{i}^{1 / \\gamma}L_{i}$\n",
    " \n",
    " ## $\\theta_{i}=P_{i}^{(\\gamma-1) / \\gamma}$\n",
    " \n",
    "\n",
    "\n",
    "3. The phase change relations between the mass of vapor and the heat transfer from the wall\n",
    " ## $\\frac{\\mathrm{d} M_{i}}{\\mathrm{d} \\mathcal{T}}=\\int_{X_{start}}^{X_{end}} H_{vapor} (\\theta_{wall} - \\theta_{vapor}) dX$\n",
    "\n",
    " \n"
   ]
  },
  {
   "cell_type": "markdown",
   "metadata": {},
   "source": [
    "## nucleate boiling\n",
    "\n",
    "$nucleatenum = 2$ is the number of nucleation sites. It is distributed randomly for every start time.\n",
    "\n",
    "$\\Delta t = 0.1$ is the time interval for nucleations, for now it is uniform for all nucleation sites, can be modified later on.\n",
    "\n",
    "$Δθthreshold = 0.01$ is the super heat threshold.\n",
    "\n",
    "So it means that at time $\\Delta t$,  $2\\Delta t$,  $3\\Delta t$ ... and so on. It will check if the nucleation sites are in the liquid slug region and if the superheat is fulfilled. if so, it will reslease one or several $L=0.02, P=1$ new vapor bubbles"
   ]
  },
  {
   "cell_type": "code",
   "execution_count": 1,
   "metadata": {},
   "outputs": [
    {
     "name": "stderr",
     "output_type": "stream",
     "text": [
      "┌ Warning: no Manifest.toml file found, static paths used\n",
      "└ @ Revise C:\\Users\\liyux\\.julia\\packages\\Revise\\1boD5\\src\\packagedef.jl:1369\n"
     ]
    },
    {
     "data": {
      "text/plain": [
       "Plots.PyPlotBackend()"
      ]
     },
     "execution_count": 1,
     "metadata": {},
     "output_type": "execute_result"
    }
   ],
   "source": [
    "using Revise\n",
    "using LinearAlgebra\n",
    "using DifferentialEquations\n",
    "using Plots\n",
    "pyplot()"
   ]
  },
  {
   "cell_type": "code",
   "execution_count": 2,
   "metadata": {},
   "outputs": [],
   "source": [
    "cd(dirname(pwd()))\n",
    "cd(\"src\") \n",
    "\n",
    "includet(\"OneDOHP.jl\")\n",
    "using ..OneDOHP"
   ]
  },
  {
   "cell_type": "markdown",
   "metadata": {},
   "source": [
    "## Parameters of the PHP"
   ]
  },
  {
   "cell_type": "code",
   "execution_count": 3,
   "metadata": {},
   "outputs": [],
   "source": [
    "    ω0 = [sqrt(1.2e004)];\n",
    "    ℘ = [1.2e005];\n",
    "\n",
    "    θinitial=1.0\n",
    "    θ  = 0.15;\n",
    "    θe = 1 + θ;\n",
    "    θc = 1 - θ;\n",
    "\n",
    "    \n",
    "    He  = 3000.0; # H for wall and vapor\n",
    "    Hc  = 3000.0; # depreciated\n",
    "    Hwc = 3000.0; # H for wall and condenser liquid\n",
    "    Hₗ   =  3000.0; # liquid wall heat transfer coeffcient\n",
    "\n",
    "    \n",
    "    X0 = 0.5;\n",
    "\n",
    "    γ = 1.4;"
   ]
  },
  {
   "cell_type": "code",
   "execution_count": 4,
   "metadata": {},
   "outputs": [
    {
     "data": {
      "text/plain": [
       "true"
      ]
     },
     "execution_count": 4,
     "metadata": {},
     "output_type": "execute_result"
    }
   ],
   "source": [
    "    \n",
    "    d = 1/30 # dimensionless diameter\n",
    "    L = 4.0  # total length of the pipe when streched to a 1D pipe\n",
    "    L2D = 2.0 # the actual length of the bended pipe in the real world\n",
    "    angle = pi/2 # inclination angle \n",
    "    closedornot = true"
   ]
  },
  {
   "cell_type": "code",
   "execution_count": 5,
   "metadata": {},
   "outputs": [
    {
     "data": {
      "text/plain": [
       "0.05"
      ]
     },
     "execution_count": 5,
     "metadata": {},
     "output_type": "execute_result"
    }
   ],
   "source": [
    "    nucleatenum = 1\n",
    "    Xstations = sort(rand(nucleatenum).*L)\n",
    "    Δt = 0.05"
   ]
  },
  {
   "cell_type": "code",
   "execution_count": 6,
   "metadata": {},
   "outputs": [
    {
     "data": {
      "text/plain": [
       "1-element Array{Float64,1}:\n",
       " 1.2581181303000593"
      ]
     },
     "execution_count": 6,
     "metadata": {},
     "output_type": "execute_result"
    }
   ],
   "source": [
    "Xstations"
   ]
  },
  {
   "cell_type": "markdown",
   "metadata": {},
   "source": [
    "## Pipe definition"
   ]
  },
  {
   "cell_type": "code",
   "execution_count": 7,
   "metadata": {},
   "outputs": [],
   "source": [
    "tube = Tube(d,L,L2D,angle,closedornot);"
   ]
  },
  {
   "cell_type": "markdown",
   "metadata": {},
   "source": [
    "## Evaporator and condenser definition"
   ]
  },
  {
   "cell_type": "code",
   "execution_count": 8,
   "metadata": {},
   "outputs": [],
   "source": [
    "# Xe = map(tuple, [0.0], [2.0])\n",
    "Xe = map(tuple, [1.0], [3.0])\n",
    "# Xe = map(tuple, [0.0,3.0], [1.0,4.0])\n",
    "We = [200.0]\n",
    "evap = Evaporator(He,θe,Xe,We);"
   ]
  },
  {
   "cell_type": "code",
   "execution_count": 9,
   "metadata": {},
   "outputs": [],
   "source": [
    "# Xc = map(tuple, [2.0], [4.0])\n",
    "# Xc = map(tuple, [1.0], [3.0])\n",
    "Xc = map(tuple, [0.0,3.0], [1.0,4.0])\n",
    "cond = Condenser(Hc,θc,Xc,Hwc);"
   ]
  },
  {
   "cell_type": "markdown",
   "metadata": {},
   "source": [
    "## Vapor plug and liquid slug initialization"
   ]
  },
  {
   "cell_type": "code",
   "execution_count": 10,
   "metadata": {},
   "outputs": [],
   "source": [
    "N=3000\n",
    "X0 = [(1.0, 3.0)]\n",
    "dXdt0 = [(0.0,0.0)]\n",
    "ρₗ = 1000\n",
    "Xarrays,θarrays = constructXarrays(X0,N,θinitial,L)\n",
    "liquids=Liquid(γ,Hₗ,ρₗ,ω0,℘,X0,dXdt0,Xarrays,θarrays);"
   ]
  },
  {
   "cell_type": "code",
   "execution_count": 11,
   "metadata": {},
   "outputs": [],
   "source": [
    "# P = [1.0,1.0,1.0,1.0,1.0]; # closed end\n",
    "P = [1.0];\n",
    "δ = 0.05*P;\n",
    "vapors=Vapor(γ,P,δ);"
   ]
  },
  {
   "cell_type": "code",
   "execution_count": 12,
   "metadata": {},
   "outputs": [],
   "source": [
    "α = 1 # nondimensional thermal diffusivity = (αₐ d^2) / (νₗ height^2)\n",
    "Xwallarray,θwallarray = constructXarrays(L,N,θinitial)\n",
    "\n",
    "wall = Wall(α,Δt,Xstations,Xwallarray,θwallarray);"
   ]
  },
  {
   "cell_type": "code",
   "execution_count": 13,
   "metadata": {},
   "outputs": [],
   "source": [
    "walltoliquid, liquidtowall = constructmapping(Xarrays,Xwallarray,closedornot,L)\n",
    "mapping = Mapping(walltoliquid,liquidtowall);"
   ]
  },
  {
   "cell_type": "markdown",
   "metadata": {},
   "source": [
    "## Construct the system"
   ]
  },
  {
   "cell_type": "code",
   "execution_count": 14,
   "metadata": {
    "scrolled": true
   },
   "outputs": [],
   "source": [
    "sys0 = PHPSystem(tube,evap,cond,liquids,vapors,wall,mapping);"
   ]
  },
  {
   "cell_type": "code",
   "execution_count": 15,
   "metadata": {
    "scrolled": false
   },
   "outputs": [
    {
     "data": {
      "text/plain": [
       "PHPSystem"
      ]
     },
     "execution_count": 15,
     "metadata": {},
     "output_type": "execute_result"
    }
   ],
   "source": [
    "typeof(sys0)"
   ]
  },
  {
   "cell_type": "markdown",
   "metadata": {},
   "source": [
    "## Construct U for wall heat function"
   ]
  },
  {
   "cell_type": "markdown",
   "metadata": {},
   "source": [
    "## construct state vector U"
   ]
  },
  {
   "cell_type": "code",
   "execution_count": 16,
   "metadata": {},
   "outputs": [
    {
     "data": {
      "text/plain": [
       "1-element Array{Float64,1}:\n",
       " 0.05"
      ]
     },
     "execution_count": 16,
     "metadata": {},
     "output_type": "execute_result"
    }
   ],
   "source": [
    "δ"
   ]
  },
  {
   "cell_type": "code",
   "execution_count": 17,
   "metadata": {},
   "outputs": [],
   "source": [
    "Lvaporplug = XptoLvaporplug(X0,sys0.tube.L,sys0.tube.closedornot)\n",
    "M = P.^(1/γ).* Lvaporplug\n",
    "\n",
    "\n",
    "u=[XMδtovec(X0,dXdt0,M,δ); wallθtovec(sys0.wall.θarray); liquidθtovec(sys0.liquid.θarrays)];"
   ]
  },
  {
   "cell_type": "code",
   "execution_count": 18,
   "metadata": {},
   "outputs": [],
   "source": [
    "# plot([sys0.wall.Xarray],[sys0.wall.θarray], title=\"initial temperature condition\", labels = \"θ\", xlabel=\"X\", ylabel=\"θ\")"
   ]
  },
  {
   "cell_type": "markdown",
   "metadata": {},
   "source": [
    "## Solve the constructed ODE for U"
   ]
  },
  {
   "cell_type": "code",
   "execution_count": 19,
   "metadata": {},
   "outputs": [
    {
     "data": {
      "text/plain": [
       "CallbackSet{Tuple{},Tuple{DiscreteCallback{typeof(boiling_condition),typeof(boiling_affect!),typeof(DiffEqBase.INITIALIZE_DEFAULT),typeof(DiffEqBase.FINALIZE_DEFAULT)},DiscreteCallback{typeof(merging_condition),typeof(merging_affect!),typeof(DiffEqBase.INITIALIZE_DEFAULT),typeof(DiffEqBase.FINALIZE_DEFAULT)}}}((), (DiscreteCallback{typeof(boiling_condition),typeof(boiling_affect!),typeof(DiffEqBase.INITIALIZE_DEFAULT),typeof(DiffEqBase.FINALIZE_DEFAULT)}(boiling_condition, boiling_affect!, DiffEqBase.INITIALIZE_DEFAULT, DiffEqBase.FINALIZE_DEFAULT, Bool[1, 1]), DiscreteCallback{typeof(merging_condition),typeof(merging_affect!),typeof(DiffEqBase.INITIALIZE_DEFAULT),typeof(DiffEqBase.FINALIZE_DEFAULT)}(merging_condition, merging_affect!, DiffEqBase.INITIALIZE_DEFAULT, DiffEqBase.FINALIZE_DEFAULT, Bool[1, 1])))"
      ]
     },
     "execution_count": 19,
     "metadata": {},
     "output_type": "execute_result"
    }
   ],
   "source": [
    "cb_boiling =  DiscreteCallback(boiling_condition,boiling_affect!)\n",
    "cb_merging =  DiscreteCallback(merging_condition,merging_affect!)\n",
    "\n",
    "cb = CallbackSet(cb_boiling,cb_merging)"
   ]
  },
  {
   "cell_type": "code",
   "execution_count": null,
   "metadata": {
    "scrolled": true
   },
   "outputs": [],
   "source": [
    "tstep=1e-4\n",
    "\n",
    "p = sys0\n",
    "tspan = (0.0, 0.2);\n",
    "prob = ODEProblem(ODE_innertube, u, tspan, p)\n",
    "\n",
    "integrator = init(prob, RK4(), dt=tstep, callback=cb);\n",
    "\n",
    "\n",
    "solve!(integrator)\n",
    "\n"
   ]
  },
  {
   "cell_type": "code",
   "execution_count": null,
   "metadata": {},
   "outputs": [],
   "source": [
    "p = deepcopy(getcurrentsys(integrator.sol[end],sys0));\n",
    "p.liquid.Xp"
   ]
  },
  {
   "cell_type": "code",
   "execution_count": null,
   "metadata": {},
   "outputs": [],
   "source": [
    "sol = integrator.sol\n",
    "sysfinal = getcurrentsys.(sol.u,[sys0]);"
   ]
  },
  {
   "cell_type": "code",
   "execution_count": null,
   "metadata": {},
   "outputs": [],
   "source": [
    "# closed loop plot\n",
    "@gif for i=1:500:length(sysfinal)\n",
    "\n",
    "    Xpvapor = getXpvapor(sysfinal[i].liquid.Xp,sysfinal[i].tube.L,sysfinal[i].tube.closedornot)\n",
    "    θvapor  = (sysfinal[i].vapor.P).^((γ-1)/γ)\n",
    "    Xp = sysfinal[i].liquid.Xp\n",
    "    \n",
    "    p = plot([sysfinal[i].wall.Xarray],[sysfinal[i].wall.θarray], linewidth=3, color = [:black], labels = \"θwall\", xlabel=\"X\", ylabel=\"θ\", title=(\"dimensionless temperatures\"),xlim=(0,4), ylim=(0.8,1.2))\n",
    "    \n",
    "    \n",
    "    j=1\n",
    "    while j <= length(Xp)\n",
    "        if Xp[j][end] >= Xp[j][1]\n",
    "            plot!(p, [sysfinal[i].liquid.Xarrays[j]],[sysfinal[i].liquid.θarrays[j]], linewidth=2, labels = string(\"θliquid \",j))\n",
    "            else \n",
    "            # find the index at the end\n",
    "            index = findfirst(x->x <= sysfinal[i].liquid.Xarrays[j][end], sysfinal[i].liquid.Xarrays[j])\n",
    "            \n",
    "            plot!(p, [sysfinal[i].liquid.Xarrays[j][1:index-1]],[sysfinal[i].liquid.θarrays[j][1:index-1]], linewidth=2, labels = string(\"θliquid \",j))\n",
    "            plot!(p, [sysfinal[i].liquid.Xarrays[j][index:end]],[sysfinal[i].liquid.θarrays[j][index:end]], linewidth=2, labels = string(\"θliquid \",j))\n",
    "\n",
    "        end\n",
    "        \n",
    "        j += 1\n",
    "    end\n",
    "\n",
    "        j=1\n",
    "    while j <= length(Xpvapor)\n",
    "        if Xpvapor[j][end] >= Xpvapor[j][1]\n",
    "            plot!(p,[Xpvapor[j][1],Xpvapor[j][end]],[θvapor[j]], labels = string(\"θvapor \",j))\n",
    "            else\n",
    "            \n",
    "            plot!(p,[0.0,Xpvapor[j][end]],[θvapor[j]], labels = string(\"θvapor \",j))\n",
    "            plot!(p,[Xpvapor[j][1],L],[θvapor[j]], labels = string(\"θvapor \",j))\n",
    "\n",
    "        end\n",
    "        \n",
    "        j += 1\n",
    "    end\n",
    "    \n",
    "#     j = 1\n",
    "#     plot!(p,[0.0,Xpvapor[j][end]],[θvapor[j]], labels = string(\"θvapor \",j))\n",
    "#     plot!(p,[Xpvapor[j][1],L],[θvapor[j]], labels = string(\"θvapor \",j))\n",
    "    \n",
    "#     j = 2\n",
    "#     while j  <= length(θvapor) \n",
    "    \n",
    "#         plot!(p,[Xpvapor[j][1],Xpvapor[j][end]],[θvapor[j]], labels = string(\"θvapor \",j))\n",
    "        \n",
    "#         j += 1\n",
    "#     end\n",
    "\n",
    "    vline!( p, [collect(0:2:4)], color=[:blue,:red], width=196, alpha=[0.3,0.3,0.3],labels = \"\")\n",
    "    \n",
    "    end "
   ]
  },
  {
   "cell_type": "code",
   "execution_count": null,
   "metadata": {},
   "outputs": [],
   "source": [
    "constant = 2.5e6/461.5/300"
   ]
  },
  {
   "cell_type": "code",
   "execution_count": null,
   "metadata": {},
   "outputs": [],
   "source": [
    "function onePtooneT(P,constant)\n",
    "    1/(1-(log(P)/constant))\n",
    "end"
   ]
  },
  {
   "cell_type": "code",
   "execution_count": null,
   "metadata": {},
   "outputs": [],
   "source": [
    "onePtooneT(1.0,constant)"
   ]
  },
  {
   "cell_type": "code",
   "execution_count": null,
   "metadata": {},
   "outputs": [],
   "source": [
    "XX = constructXarrays(L::Float64,N,θinitial)\n",
    "\n",
    "XX[1][1]"
   ]
  },
  {
   "cell_type": "code",
   "execution_count": null,
   "metadata": {},
   "outputs": [],
   "source": [
    "plot(sys_to_heatflux(sysfinal[end]))"
   ]
  },
  {
   "cell_type": "code",
   "execution_count": null,
   "metadata": {},
   "outputs": [],
   "source": [
    "@time ODE_innertube(u,sys0,0.0)"
   ]
  },
  {
   "cell_type": "code",
   "execution_count": null,
   "metadata": {},
   "outputs": [],
   "source": [
    "@time ODE_innertube(u,sys0,0.0);"
   ]
  },
  {
   "cell_type": "code",
   "execution_count": null,
   "metadata": {},
   "outputs": [],
   "source": [
    "@time index_dynamics_end = findfirst(x->abs(x+1e10) <= 10^(-1), u)"
   ]
  },
  {
   "cell_type": "code",
   "execution_count": null,
   "metadata": {},
   "outputs": [],
   "source": [
    "@time newsys = getcurrentsys(u,sys0)"
   ]
  },
  {
   "cell_type": "code",
   "execution_count": null,
   "metadata": {},
   "outputs": [],
   "source": [
    "cd(dirname(pwd()))\n",
    "cd(\"src\") \n",
    "\n",
    "includet(\"OneDOHP.jl\")\n",
    "using ..OneDOHP"
   ]
  }
 ],
 "metadata": {
  "kernelspec": {
   "display_name": "Julia 1.5.4",
   "language": "julia",
   "name": "julia-1.5"
  },
  "language_info": {
   "file_extension": ".jl",
   "mimetype": "application/julia",
   "name": "julia",
   "version": "1.5.4"
  }
 },
 "nbformat": 4,
 "nbformat_minor": 2
}
